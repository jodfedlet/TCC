{
 "cells": [
  {
   "cell_type": "code",
   "execution_count": 2,
   "id": "c06b355c",
   "metadata": {},
   "outputs": [
    {
     "name": "stdout",
     "output_type": "stream",
     "text": [
      "x:\n",
      "[[1 2 3]\n",
      " [4 5 6]]\n"
     ]
    }
   ],
   "source": [
    "import numpy as np\n",
    "\n",
    "x = np.array([[1,2,3],[4,5,6]])\n",
    "\n",
    "print(\"x:\\n{}\".format(x))"
   ]
  },
  {
   "cell_type": "code",
   "execution_count": 4,
   "id": "f0d01ce0",
   "metadata": {},
   "outputs": [
    {
     "name": "stdout",
     "output_type": "stream",
     "text": [
      "Numpy array:\n",
      "[[1. 0. 0. 0.]\n",
      " [0. 1. 0. 0.]\n",
      " [0. 0. 1. 0.]\n",
      " [0. 0. 0. 1.]]\n"
     ]
    }
   ],
   "source": [
    "from scipy import sparse\n",
    "\n",
    "# Create a 2D NumPy array with a diagonal of ones, and zeros everywhere else\n",
    "eye = np.eye(4)\n",
    "\n",
    "print(\"Numpy array:\\n{}\".format(eye))"
   ]
  },
  {
   "cell_type": "code",
   "execution_count": 5,
   "id": "a64ff536",
   "metadata": {},
   "outputs": [
    {
     "name": "stdout",
     "output_type": "stream",
     "text": [
      "\n",
      "Scipy sparse CSR matrix:\n",
      "  (0, 0)\t1.0\n",
      "  (1, 1)\t1.0\n",
      "  (2, 2)\t1.0\n",
      "  (3, 3)\t1.0\n"
     ]
    }
   ],
   "source": [
    "# Convert the NumPy array to a SciPy sparse matrix in CSR format\n",
    "# Only the nonzero entries are stored\n",
    "\n",
    "sparse_matrix = sparse.csr_matrix(eye)\n",
    "print(\"\\nScipy sparse CSR matrix:\\n{}\".format(sparse_matrix))"
   ]
  },
  {
   "cell_type": "code",
   "execution_count": 8,
   "id": "e642a579",
   "metadata": {},
   "outputs": [
    {
     "name": "stdout",
     "output_type": "stream",
     "text": [
      "COO representation:\n",
      "  (0, 0)\t1.0\n",
      "  (1, 1)\t1.0\n",
      "  (2, 2)\t1.0\n",
      "  (3, 3)\t1.0\n"
     ]
    }
   ],
   "source": [
    "data = np.ones(4)\n",
    "row_indices = np.arange(4)\n",
    "col_indices = np.arange(4)\n",
    "eye_coo = sparse.coo_matrix((data, (row_indices, col_indices)))  \n",
    "print(\"COO representation:\\n{}\".format(eye_coo))"
   ]
  },
  {
   "cell_type": "code",
   "execution_count": null,
   "id": "27046481",
   "metadata": {},
   "outputs": [],
   "source": []
  }
 ],
 "metadata": {
  "kernelspec": {
   "display_name": "Python 3",
   "language": "python",
   "name": "python3"
  },
  "language_info": {
   "codemirror_mode": {
    "name": "ipython",
    "version": 3
   },
   "file_extension": ".py",
   "mimetype": "text/x-python",
   "name": "python",
   "nbconvert_exporter": "python",
   "pygments_lexer": "ipython3",
   "version": "3.8.5"
  }
 },
 "nbformat": 4,
 "nbformat_minor": 5
}
