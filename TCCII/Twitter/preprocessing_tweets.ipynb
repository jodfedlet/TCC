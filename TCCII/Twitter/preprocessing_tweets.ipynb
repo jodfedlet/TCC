{
  "cells": [
    {
      "cell_type": "markdown",
      "metadata": {
        "id": "view-in-github",
        "colab_type": "text"
      },
      "source": [
        "<a href=\"https://colab.research.google.com/github/jodfedlet/TCC/blob/main/TCCII/Twitter/preprocessing_tweets.ipynb\" target=\"_parent\"><img src=\"https://colab.research.google.com/assets/colab-badge.svg\" alt=\"Open In Colab\"/></a>"
      ]
    },
    {
      "cell_type": "markdown",
      "metadata": {
        "id": "0qZ61swqh5PS"
      },
      "source": [
        ""
      ]
    },
    {
      "cell_type": "markdown",
      "metadata": {
        "id": "jlCU2XyBh6Jp"
      },
      "source": [
        "###Importando/instalando bibliotecas"
      ]
    },
    {
      "cell_type": "code",
      "execution_count": 1,
      "metadata": {
        "colab": {
          "base_uri": "https://localhost:8080/"
        },
        "id": "7qwmUtJFaqq5",
        "outputId": "7ae5f3e4-7884-4616-8c22-e333b7a5b904"
      },
      "outputs": [
        {
          "output_type": "stream",
          "name": "stdout",
          "text": [
            "Looking in indexes: https://pypi.org/simple, https://us-python.pkg.dev/colab-wheels/public/simple/\n",
            "Requirement already satisfied: unidecode in /usr/local/lib/python3.7/dist-packages (1.3.4)\n",
            "Looking in indexes: https://pypi.org/simple, https://us-python.pkg.dev/colab-wheels/public/simple/\n",
            "Collecting pt_core_news_sm==2.2.5\n",
            "  Downloading https://github.com/explosion/spacy-models/releases/download/pt_core_news_sm-2.2.5/pt_core_news_sm-2.2.5.tar.gz (21.2 MB)\n",
            "\u001b[K     |████████████████████████████████| 21.2 MB 12.7 MB/s \n",
            "\u001b[?25hRequirement already satisfied: spacy>=2.2.2 in /usr/local/lib/python3.7/dist-packages (from pt_core_news_sm==2.2.5) (2.2.4)\n",
            "Requirement already satisfied: numpy>=1.15.0 in /usr/local/lib/python3.7/dist-packages (from spacy>=2.2.2->pt_core_news_sm==2.2.5) (1.21.6)\n",
            "Requirement already satisfied: thinc==7.4.0 in /usr/local/lib/python3.7/dist-packages (from spacy>=2.2.2->pt_core_news_sm==2.2.5) (7.4.0)\n",
            "Requirement already satisfied: murmurhash<1.1.0,>=0.28.0 in /usr/local/lib/python3.7/dist-packages (from spacy>=2.2.2->pt_core_news_sm==2.2.5) (1.0.7)\n",
            "Requirement already satisfied: plac<1.2.0,>=0.9.6 in /usr/local/lib/python3.7/dist-packages (from spacy>=2.2.2->pt_core_news_sm==2.2.5) (1.1.3)\n",
            "Requirement already satisfied: blis<0.5.0,>=0.4.0 in /usr/local/lib/python3.7/dist-packages (from spacy>=2.2.2->pt_core_news_sm==2.2.5) (0.4.1)\n",
            "Requirement already satisfied: catalogue<1.1.0,>=0.0.7 in /usr/local/lib/python3.7/dist-packages (from spacy>=2.2.2->pt_core_news_sm==2.2.5) (1.0.0)\n",
            "Requirement already satisfied: preshed<3.1.0,>=3.0.2 in /usr/local/lib/python3.7/dist-packages (from spacy>=2.2.2->pt_core_news_sm==2.2.5) (3.0.6)\n",
            "Requirement already satisfied: tqdm<5.0.0,>=4.38.0 in /usr/local/lib/python3.7/dist-packages (from spacy>=2.2.2->pt_core_news_sm==2.2.5) (4.64.0)\n",
            "Requirement already satisfied: setuptools in /usr/local/lib/python3.7/dist-packages (from spacy>=2.2.2->pt_core_news_sm==2.2.5) (57.4.0)\n",
            "Requirement already satisfied: cymem<2.1.0,>=2.0.2 in /usr/local/lib/python3.7/dist-packages (from spacy>=2.2.2->pt_core_news_sm==2.2.5) (2.0.6)\n",
            "Requirement already satisfied: srsly<1.1.0,>=1.0.2 in /usr/local/lib/python3.7/dist-packages (from spacy>=2.2.2->pt_core_news_sm==2.2.5) (1.0.5)\n",
            "Requirement already satisfied: requests<3.0.0,>=2.13.0 in /usr/local/lib/python3.7/dist-packages (from spacy>=2.2.2->pt_core_news_sm==2.2.5) (2.23.0)\n",
            "Requirement already satisfied: wasabi<1.1.0,>=0.4.0 in /usr/local/lib/python3.7/dist-packages (from spacy>=2.2.2->pt_core_news_sm==2.2.5) (0.9.1)\n",
            "Requirement already satisfied: importlib-metadata>=0.20 in /usr/local/lib/python3.7/dist-packages (from catalogue<1.1.0,>=0.0.7->spacy>=2.2.2->pt_core_news_sm==2.2.5) (4.11.4)\n",
            "Requirement already satisfied: zipp>=0.5 in /usr/local/lib/python3.7/dist-packages (from importlib-metadata>=0.20->catalogue<1.1.0,>=0.0.7->spacy>=2.2.2->pt_core_news_sm==2.2.5) (3.8.0)\n",
            "Requirement already satisfied: typing-extensions>=3.6.4 in /usr/local/lib/python3.7/dist-packages (from importlib-metadata>=0.20->catalogue<1.1.0,>=0.0.7->spacy>=2.2.2->pt_core_news_sm==2.2.5) (4.2.0)\n",
            "Requirement already satisfied: urllib3!=1.25.0,!=1.25.1,<1.26,>=1.21.1 in /usr/local/lib/python3.7/dist-packages (from requests<3.0.0,>=2.13.0->spacy>=2.2.2->pt_core_news_sm==2.2.5) (1.24.3)\n",
            "Requirement already satisfied: certifi>=2017.4.17 in /usr/local/lib/python3.7/dist-packages (from requests<3.0.0,>=2.13.0->spacy>=2.2.2->pt_core_news_sm==2.2.5) (2022.5.18.1)\n",
            "Requirement already satisfied: chardet<4,>=3.0.2 in /usr/local/lib/python3.7/dist-packages (from requests<3.0.0,>=2.13.0->spacy>=2.2.2->pt_core_news_sm==2.2.5) (3.0.4)\n",
            "Requirement already satisfied: idna<3,>=2.5 in /usr/local/lib/python3.7/dist-packages (from requests<3.0.0,>=2.13.0->spacy>=2.2.2->pt_core_news_sm==2.2.5) (2.10)\n",
            "\u001b[38;5;2m✔ Download and installation successful\u001b[0m\n",
            "You can now load the model via spacy.load('pt_core_news_sm')\n",
            "\u001b[38;5;2m✔ Linking successful\u001b[0m\n",
            "/usr/local/lib/python3.7/dist-packages/pt_core_news_sm -->\n",
            "/usr/local/lib/python3.7/dist-packages/spacy/data/pt\n",
            "You can now load the model via spacy.load('pt')\n",
            "Looking in indexes: https://pypi.org/simple, https://us-python.pkg.dev/colab-wheels/public/simple/\n",
            "Requirement already satisfied: gensim in /usr/local/lib/python3.7/dist-packages (3.6.0)\n",
            "Requirement already satisfied: six>=1.5.0 in /usr/local/lib/python3.7/dist-packages (from gensim) (1.15.0)\n",
            "Requirement already satisfied: smart-open>=1.2.1 in /usr/local/lib/python3.7/dist-packages (from gensim) (6.0.0)\n",
            "Requirement already satisfied: numpy>=1.11.3 in /usr/local/lib/python3.7/dist-packages (from gensim) (1.21.6)\n",
            "Requirement already satisfied: scipy>=0.18.1 in /usr/local/lib/python3.7/dist-packages (from gensim) (1.4.1)\n"
          ]
        }
      ],
      "source": [
        "!pip install unidecode\n",
        "!python3 -m spacy download pt\n",
        "!pip install gensim"
      ]
    },
    {
      "cell_type": "code",
      "execution_count": 2,
      "metadata": {
        "colab": {
          "base_uri": "https://localhost:8080/"
        },
        "id": "72EwE3OMOl0X",
        "outputId": "330bb851-932d-47af-bc0b-0a28c6d0342e"
      },
      "outputs": [
        {
          "output_type": "stream",
          "name": "stdout",
          "text": [
            "Drive already mounted at /content/drive; to attempt to forcibly remount, call drive.mount(\"/content/drive\", force_remount=True).\n",
            "[nltk_data] Downloading collection 'all-corpora'\n",
            "[nltk_data]    | \n",
            "[nltk_data]    | Downloading package abc to /root/nltk_data...\n",
            "[nltk_data]    |   Package abc is already up-to-date!\n",
            "[nltk_data]    | Downloading package alpino to /root/nltk_data...\n",
            "[nltk_data]    |   Package alpino is already up-to-date!\n",
            "[nltk_data]    | Downloading package biocreative_ppi to\n",
            "[nltk_data]    |     /root/nltk_data...\n",
            "[nltk_data]    |   Package biocreative_ppi is already up-to-date!\n",
            "[nltk_data]    | Downloading package brown to /root/nltk_data...\n",
            "[nltk_data]    |   Package brown is already up-to-date!\n",
            "[nltk_data]    | Downloading package brown_tei to /root/nltk_data...\n",
            "[nltk_data]    |   Package brown_tei is already up-to-date!\n",
            "[nltk_data]    | Downloading package cess_cat to /root/nltk_data...\n",
            "[nltk_data]    |   Package cess_cat is already up-to-date!\n",
            "[nltk_data]    | Downloading package cess_esp to /root/nltk_data...\n",
            "[nltk_data]    |   Package cess_esp is already up-to-date!\n",
            "[nltk_data]    | Downloading package chat80 to /root/nltk_data...\n",
            "[nltk_data]    |   Package chat80 is already up-to-date!\n",
            "[nltk_data]    | Downloading package city_database to\n",
            "[nltk_data]    |     /root/nltk_data...\n",
            "[nltk_data]    |   Package city_database is already up-to-date!\n",
            "[nltk_data]    | Downloading package cmudict to /root/nltk_data...\n",
            "[nltk_data]    |   Package cmudict is already up-to-date!\n",
            "[nltk_data]    | Downloading package comparative_sentences to\n",
            "[nltk_data]    |     /root/nltk_data...\n",
            "[nltk_data]    |   Package comparative_sentences is already up-to-\n",
            "[nltk_data]    |       date!\n",
            "[nltk_data]    | Downloading package comtrans to /root/nltk_data...\n",
            "[nltk_data]    |   Package comtrans is already up-to-date!\n",
            "[nltk_data]    | Downloading package conll2000 to /root/nltk_data...\n",
            "[nltk_data]    |   Package conll2000 is already up-to-date!\n",
            "[nltk_data]    | Downloading package conll2002 to /root/nltk_data...\n",
            "[nltk_data]    |   Package conll2002 is already up-to-date!\n",
            "[nltk_data]    | Downloading package conll2007 to /root/nltk_data...\n",
            "[nltk_data]    |   Package conll2007 is already up-to-date!\n",
            "[nltk_data]    | Downloading package crubadan to /root/nltk_data...\n",
            "[nltk_data]    |   Package crubadan is already up-to-date!\n",
            "[nltk_data]    | Downloading package dependency_treebank to\n",
            "[nltk_data]    |     /root/nltk_data...\n",
            "[nltk_data]    |   Package dependency_treebank is already up-to-date!\n",
            "[nltk_data]    | Downloading package dolch to /root/nltk_data...\n",
            "[nltk_data]    |   Package dolch is already up-to-date!\n",
            "[nltk_data]    | Downloading package europarl_raw to\n",
            "[nltk_data]    |     /root/nltk_data...\n",
            "[nltk_data]    |   Package europarl_raw is already up-to-date!\n",
            "[nltk_data]    | Downloading package extended_omw to\n",
            "[nltk_data]    |     /root/nltk_data...\n",
            "[nltk_data]    |   Package extended_omw is already up-to-date!\n",
            "[nltk_data]    | Downloading package floresta to /root/nltk_data...\n",
            "[nltk_data]    |   Package floresta is already up-to-date!\n",
            "[nltk_data]    | Downloading package framenet_v15 to\n",
            "[nltk_data]    |     /root/nltk_data...\n",
            "[nltk_data]    |   Package framenet_v15 is already up-to-date!\n",
            "[nltk_data]    | Downloading package framenet_v17 to\n",
            "[nltk_data]    |     /root/nltk_data...\n",
            "[nltk_data]    |   Package framenet_v17 is already up-to-date!\n",
            "[nltk_data]    | Downloading package gazetteers to /root/nltk_data...\n",
            "[nltk_data]    |   Package gazetteers is already up-to-date!\n",
            "[nltk_data]    | Downloading package genesis to /root/nltk_data...\n",
            "[nltk_data]    |   Package genesis is already up-to-date!\n",
            "[nltk_data]    | Downloading package gutenberg to /root/nltk_data...\n",
            "[nltk_data]    |   Package gutenberg is already up-to-date!\n",
            "[nltk_data]    | Downloading package ieer to /root/nltk_data...\n",
            "[nltk_data]    |   Package ieer is already up-to-date!\n",
            "[nltk_data]    | Downloading package inaugural to /root/nltk_data...\n",
            "[nltk_data]    |   Package inaugural is already up-to-date!\n",
            "[nltk_data]    | Downloading package indian to /root/nltk_data...\n",
            "[nltk_data]    |   Package indian is already up-to-date!\n",
            "[nltk_data]    | Downloading package jeita to /root/nltk_data...\n",
            "[nltk_data]    |   Package jeita is already up-to-date!\n",
            "[nltk_data]    | Downloading package kimmo to /root/nltk_data...\n",
            "[nltk_data]    |   Package kimmo is already up-to-date!\n",
            "[nltk_data]    | Downloading package knbc to /root/nltk_data...\n",
            "[nltk_data]    |   Package knbc is already up-to-date!\n",
            "[nltk_data]    | Downloading package lin_thesaurus to\n",
            "[nltk_data]    |     /root/nltk_data...\n",
            "[nltk_data]    |   Package lin_thesaurus is already up-to-date!\n",
            "[nltk_data]    | Downloading package mac_morpho to /root/nltk_data...\n",
            "[nltk_data]    |   Package mac_morpho is already up-to-date!\n",
            "[nltk_data]    | Downloading package machado to /root/nltk_data...\n",
            "[nltk_data]    |   Package machado is already up-to-date!\n",
            "[nltk_data]    | Downloading package masc_tagged to /root/nltk_data...\n",
            "[nltk_data]    |   Package masc_tagged is already up-to-date!\n",
            "[nltk_data]    | Downloading package movie_reviews to\n",
            "[nltk_data]    |     /root/nltk_data...\n",
            "[nltk_data]    |   Package movie_reviews is already up-to-date!\n",
            "[nltk_data]    | Downloading package mte_teip5 to /root/nltk_data...\n",
            "[nltk_data]    |   Package mte_teip5 is already up-to-date!\n",
            "[nltk_data]    | Downloading package names to /root/nltk_data...\n",
            "[nltk_data]    |   Package names is already up-to-date!\n",
            "[nltk_data]    | Downloading package nombank.1.0 to /root/nltk_data...\n",
            "[nltk_data]    |   Package nombank.1.0 is already up-to-date!\n",
            "[nltk_data]    | Downloading package nonbreaking_prefixes to\n",
            "[nltk_data]    |     /root/nltk_data...\n",
            "[nltk_data]    |   Package nonbreaking_prefixes is already up-to-date!\n",
            "[nltk_data]    | Downloading package nps_chat to /root/nltk_data...\n",
            "[nltk_data]    |   Package nps_chat is already up-to-date!\n",
            "[nltk_data]    | Downloading package omw to /root/nltk_data...\n",
            "[nltk_data]    |   Package omw is already up-to-date!\n",
            "[nltk_data]    | Downloading package omw-1.4 to /root/nltk_data...\n",
            "[nltk_data]    |   Package omw-1.4 is already up-to-date!\n",
            "[nltk_data]    | Downloading package opinion_lexicon to\n",
            "[nltk_data]    |     /root/nltk_data...\n",
            "[nltk_data]    |   Package opinion_lexicon is already up-to-date!\n",
            "[nltk_data]    | Downloading package panlex_swadesh to\n",
            "[nltk_data]    |     /root/nltk_data...\n",
            "[nltk_data]    |   Package panlex_swadesh is already up-to-date!\n",
            "[nltk_data]    | Downloading package paradigms to /root/nltk_data...\n",
            "[nltk_data]    |   Package paradigms is already up-to-date!\n",
            "[nltk_data]    | Downloading package pe08 to /root/nltk_data...\n",
            "[nltk_data]    |   Package pe08 is already up-to-date!\n",
            "[nltk_data]    | Downloading package pil to /root/nltk_data...\n",
            "[nltk_data]    |   Package pil is already up-to-date!\n",
            "[nltk_data]    | Downloading package pl196x to /root/nltk_data...\n",
            "[nltk_data]    |   Package pl196x is already up-to-date!\n",
            "[nltk_data]    | Downloading package ppattach to /root/nltk_data...\n",
            "[nltk_data]    |   Package ppattach is already up-to-date!\n",
            "[nltk_data]    | Downloading package problem_reports to\n",
            "[nltk_data]    |     /root/nltk_data...\n",
            "[nltk_data]    |   Package problem_reports is already up-to-date!\n",
            "[nltk_data]    | Downloading package product_reviews_1 to\n",
            "[nltk_data]    |     /root/nltk_data...\n",
            "[nltk_data]    |   Package product_reviews_1 is already up-to-date!\n",
            "[nltk_data]    | Downloading package product_reviews_2 to\n",
            "[nltk_data]    |     /root/nltk_data...\n",
            "[nltk_data]    |   Package product_reviews_2 is already up-to-date!\n",
            "[nltk_data]    | Downloading package propbank to /root/nltk_data...\n",
            "[nltk_data]    |   Package propbank is already up-to-date!\n",
            "[nltk_data]    | Downloading package pros_cons to /root/nltk_data...\n",
            "[nltk_data]    |   Package pros_cons is already up-to-date!\n",
            "[nltk_data]    | Downloading package ptb to /root/nltk_data...\n",
            "[nltk_data]    |   Package ptb is already up-to-date!\n",
            "[nltk_data]    | Downloading package qc to /root/nltk_data...\n",
            "[nltk_data]    |   Package qc is already up-to-date!\n",
            "[nltk_data]    | Downloading package reuters to /root/nltk_data...\n",
            "[nltk_data]    |   Package reuters is already up-to-date!\n",
            "[nltk_data]    | Downloading package rte to /root/nltk_data...\n",
            "[nltk_data]    |   Package rte is already up-to-date!\n",
            "[nltk_data]    | Downloading package semcor to /root/nltk_data...\n",
            "[nltk_data]    |   Package semcor is already up-to-date!\n",
            "[nltk_data]    | Downloading package senseval to /root/nltk_data...\n",
            "[nltk_data]    |   Package senseval is already up-to-date!\n",
            "[nltk_data]    | Downloading package sentence_polarity to\n",
            "[nltk_data]    |     /root/nltk_data...\n",
            "[nltk_data]    |   Package sentence_polarity is already up-to-date!\n",
            "[nltk_data]    | Downloading package sentiwordnet to\n",
            "[nltk_data]    |     /root/nltk_data...\n",
            "[nltk_data]    |   Package sentiwordnet is already up-to-date!\n",
            "[nltk_data]    | Downloading package shakespeare to /root/nltk_data...\n",
            "[nltk_data]    |   Package shakespeare is already up-to-date!\n",
            "[nltk_data]    | Downloading package sinica_treebank to\n",
            "[nltk_data]    |     /root/nltk_data...\n",
            "[nltk_data]    |   Package sinica_treebank is already up-to-date!\n",
            "[nltk_data]    | Downloading package smultron to /root/nltk_data...\n",
            "[nltk_data]    |   Package smultron is already up-to-date!\n",
            "[nltk_data]    | Downloading package state_union to /root/nltk_data...\n",
            "[nltk_data]    |   Package state_union is already up-to-date!\n",
            "[nltk_data]    | Downloading package stopwords to /root/nltk_data...\n",
            "[nltk_data]    |   Package stopwords is already up-to-date!\n",
            "[nltk_data]    | Downloading package subjectivity to\n",
            "[nltk_data]    |     /root/nltk_data...\n",
            "[nltk_data]    |   Package subjectivity is already up-to-date!\n",
            "[nltk_data]    | Downloading package swadesh to /root/nltk_data...\n",
            "[nltk_data]    |   Package swadesh is already up-to-date!\n",
            "[nltk_data]    | Downloading package switchboard to /root/nltk_data...\n",
            "[nltk_data]    |   Package switchboard is already up-to-date!\n",
            "[nltk_data]    | Downloading package timit to /root/nltk_data...\n",
            "[nltk_data]    |   Package timit is already up-to-date!\n",
            "[nltk_data]    | Downloading package toolbox to /root/nltk_data...\n",
            "[nltk_data]    |   Package toolbox is already up-to-date!\n",
            "[nltk_data]    | Downloading package treebank to /root/nltk_data...\n",
            "[nltk_data]    |   Package treebank is already up-to-date!\n",
            "[nltk_data]    | Downloading package twitter_samples to\n",
            "[nltk_data]    |     /root/nltk_data...\n",
            "[nltk_data]    |   Package twitter_samples is already up-to-date!\n",
            "[nltk_data]    | Downloading package udhr to /root/nltk_data...\n",
            "[nltk_data]    |   Package udhr is already up-to-date!\n",
            "[nltk_data]    | Downloading package udhr2 to /root/nltk_data...\n",
            "[nltk_data]    |   Package udhr2 is already up-to-date!\n",
            "[nltk_data]    | Downloading package unicode_samples to\n",
            "[nltk_data]    |     /root/nltk_data...\n",
            "[nltk_data]    |   Package unicode_samples is already up-to-date!\n",
            "[nltk_data]    | Downloading package universal_treebanks_v20 to\n",
            "[nltk_data]    |     /root/nltk_data...\n",
            "[nltk_data]    |   Package universal_treebanks_v20 is already up-to-\n",
            "[nltk_data]    |       date!\n",
            "[nltk_data]    | Downloading package verbnet to /root/nltk_data...\n",
            "[nltk_data]    |   Package verbnet is already up-to-date!\n",
            "[nltk_data]    | Downloading package verbnet3 to /root/nltk_data...\n",
            "[nltk_data]    |   Package verbnet3 is already up-to-date!\n",
            "[nltk_data]    | Downloading package webtext to /root/nltk_data...\n",
            "[nltk_data]    |   Package webtext is already up-to-date!\n",
            "[nltk_data]    | Downloading package wordnet to /root/nltk_data...\n",
            "[nltk_data]    |   Package wordnet is already up-to-date!\n",
            "[nltk_data]    | Downloading package wordnet2021 to /root/nltk_data...\n",
            "[nltk_data]    |   Package wordnet2021 is already up-to-date!\n",
            "[nltk_data]    | Downloading package wordnet31 to /root/nltk_data...\n",
            "[nltk_data]    |   Package wordnet31 is already up-to-date!\n",
            "[nltk_data]    | Downloading package wordnet_ic to /root/nltk_data...\n",
            "[nltk_data]    |   Package wordnet_ic is already up-to-date!\n",
            "[nltk_data]    | Downloading package words to /root/nltk_data...\n",
            "[nltk_data]    |   Package words is already up-to-date!\n",
            "[nltk_data]    | Downloading package ycoe to /root/nltk_data...\n",
            "[nltk_data]    |   Package ycoe is already up-to-date!\n",
            "[nltk_data]    | \n",
            "[nltk_data]  Done downloading collection all-corpora\n",
            "[nltk_data] Downloading package punkt to /root/nltk_data...\n",
            "[nltk_data]   Package punkt is already up-to-date!\n",
            "[nltk_data] Downloading package rslp to /root/nltk_data...\n",
            "[nltk_data]   Package rslp is already up-to-date!\n"
          ]
        }
      ],
      "source": [
        "\n",
        "import pandas as pd\n",
        "import numpy as np\n",
        "import nltk\n",
        "import re\n",
        "import spacy\n",
        "import gensim\n",
        "import matplotlib as mpl\n",
        "import matplotlib.pyplot as plt\n",
        "from nltk.tokenize import word_tokenize\n",
        "from google.colab import drive\n",
        "drive.mount(\"/content/drive\")\n",
        "nltk.download('all-corpora')\n",
        "nltk.download('punkt')\n",
        "nltk.download('rslp')\n",
        "\n",
        "from nltk.corpus import stopwords\n",
        "from unidecode import unidecode\n",
        "from nltk.tokenize import word_tokenize\n",
        "from nltk.tokenize import wordpunct_tokenize\n",
        "from nltk import regexp_tokenize\n",
        "from gensim.models import Phrases\n"
      ]
    },
    {
      "cell_type": "markdown",
      "metadata": {
        "id": "gR_wWs7KB_c1"
      },
      "source": [
        "# Carregamento dos tweets"
      ]
    },
    {
      "cell_type": "code",
      "execution_count": 3,
      "metadata": {
        "id": "0KckrkjugjpP"
      },
      "outputs": [],
      "source": [
        "try:\n",
        "  tweets_orig = pd.read_csv('/content/drive/My Drive/Colab Notebooks/TCC/csv/all_tweets_with_retweets.csv', lineterminator='\\n', index_col=0)\n",
        "except:\n",
        "  print(\"Não foi possível carrargar o arquivo\")"
      ]
    },
    {
      "cell_type": "code",
      "execution_count": 4,
      "metadata": {
        "colab": {
          "base_uri": "https://localhost:8080/"
        },
        "id": "7fHGAMSSMHCG",
        "outputId": "d64a3e99-5f57-4ca1-dd3c-1608f7e90855"
      },
      "outputs": [
        {
          "output_type": "execute_result",
          "data": {
            "text/plain": [
              "(185348, 4)"
            ]
          },
          "metadata": {},
          "execution_count": 4
        }
      ],
      "source": [
        "tweets_orig.shape"
      ]
    },
    {
      "cell_type": "markdown",
      "metadata": {
        "id": "FhdF2XyEvwnY"
      },
      "source": [
        "#Estatística dos tweets"
      ]
    },
    {
      "cell_type": "code",
      "execution_count": 48,
      "metadata": {
        "id": "gLr4BzuEvxXf"
      },
      "outputs": [],
      "source": [
        "def tweets_stats(df, option):\n",
        "  df['datetime'] = pd.to_datetime(df.datetime, format='%Y-%m-%d %H:%M:%S')\n",
        "\n",
        "  def get_df_len__count_words__mean(df):\n",
        "    count_all_tweets = len(df)\n",
        "\n",
        "    if option == 'pre':\n",
        "      df_text = df['text_preprocessed']\n",
        "    elif option =='big':\n",
        "       df_text = df['bigrams_text']\n",
        "    else:\n",
        "       df_text = df['text']\n",
        "\n",
        "    df['count_word'] = df_text.str.split().str.len()\n",
        "    count_all_words = df['count_word'].sum()\n",
        "    mean = round(count_all_words / count_all_tweets, 2)\n",
        "    return (df, count_all_tweets, count_all_words, mean)\n",
        "\n",
        "  #data by year\n",
        "  def plot_by_year(): \n",
        "    by_year = df.groupby([df['datetime'].dt.year.rename('Year')]).agg({'tweet_id':['count'], 'count_word': ['sum']}).reset_index()\n",
        "    by_year.columns = ['Year', 'Count', 'Sum']\n",
        "    by_year = by_year.assign(Mean_words = lambda x: round(x['Sum'] / x['Count'], 2))\n",
        "    print(by_year)\n",
        "\n",
        "  #by year month\n",
        "  def plot_by_year_and_month():\n",
        "    by_year_month = df.groupby([df['datetime'].dt.year.rename('Year'), df['datetime'].dt.month.rename('Month')]).agg({'tweet_id':['count'], 'count_word': ['sum']}).reset_index()\n",
        "    by_year_month.columns = ['Year', 'Month', 'Count', 'Sum']\n",
        "    by_year_month = by_year_month.assign(Mean_words = lambda x: round(x['Sum'] / x['Count'], 2))\n",
        "    print(by_year_month)\n",
        "   \n",
        "  df, df_len, count_words, mean_words  = get_df_len__count_words__mean(df)\n",
        "  print('Total: {0}, Count word: {1}, Mean words: {2}'.format(df_len,count_words, mean_words))\n",
        "  print()\n",
        "  print('*****Agrupado por ano****')\n",
        "  plot_by_year()\n",
        "  print()\n",
        "  print('*****Agrupado por mês e ano****')\n",
        "  plot_by_year_and_month()"
      ]
    },
    {
      "cell_type": "markdown",
      "metadata": {
        "id": "x7N_CmNr7JVo"
      },
      "source": [
        "###Estatística dos tweets antes do pré-processamento:"
      ]
    },
    {
      "cell_type": "code",
      "execution_count": 6,
      "metadata": {
        "colab": {
          "base_uri": "https://localhost:8080/"
        },
        "id": "bz9Mdnp7wCQI",
        "outputId": "d1768efd-114a-4de7-c031-36d085ccbf3e"
      },
      "outputs": [
        {
          "output_type": "stream",
          "name": "stdout",
          "text": [
            "Total: 185348, Count word: 4542561, Mean words: 24.51\n",
            "\n",
            "*****Agrupado por ano****\n",
            "   Year  Count      Sum  Mean_words\n",
            "0  2018  23691   531047       22.42\n",
            "1  2019  29739   742523       24.97\n",
            "2  2020  56375  1317064       23.36\n",
            "3  2021  62625  1621237       25.89\n",
            "4  2022  12918   330690       25.60\n",
            "\n",
            "*****Agrupado por mês e ano****\n",
            "    Year  Month  Count     Sum  Mean_words\n",
            "0   2018      1   2564   56315       21.96\n",
            "1   2018      2   2525   54548       21.60\n",
            "2   2018      3   1300   28565       21.97\n",
            "3   2018      4   1298   29096       22.42\n",
            "4   2018      5   2613   57054       21.83\n",
            "5   2018      6   1634   37871       23.18\n",
            "6   2018      7   2412   48864       20.26\n",
            "7   2018      8   1978   44443       22.47\n",
            "8   2018      9   1558   36399       23.36\n",
            "9   2018     10   1909   43484       22.78\n",
            "10  2018     11   2170   55271       25.47\n",
            "11  2018     12   1730   39137       22.62\n",
            "12  2019      1   2532   65964       26.05\n",
            "13  2019      2   4208  105975       25.18\n",
            "14  2019      3   2106   52913       25.12\n",
            "15  2019      4   1829   46041       25.17\n",
            "16  2019      5   1772   45288       25.56\n",
            "17  2019      6   3417   81326       23.80\n",
            "18  2019      7   1938   48051       24.79\n",
            "19  2019      8   2078   54021       26.00\n",
            "20  2019      9   2299   56664       24.65\n",
            "21  2019     10   2630   65245       24.81\n",
            "22  2019     11   2872   71319       24.83\n",
            "23  2019     12   2058   49716       24.16\n",
            "24  2020      1   3992   97314       24.38\n",
            "25  2020      2   3189   75608       23.71\n",
            "26  2020      3  21886  481147       21.98\n",
            "27  2020      4   4797  100957       21.05\n",
            "28  2020      5   4852  117714       24.26\n",
            "29  2020      6   3441   88949       25.85\n",
            "30  2020      7   2372   62103       26.18\n",
            "31  2020      8   2395   61781       25.80\n",
            "32  2020      9   3017   75591       25.06\n",
            "33  2020     10   2257   54343       24.08\n",
            "34  2020     11   2083   49910       23.96\n",
            "35  2020     12   2094   51647       24.66\n",
            "36  2021      1   4691  163826       34.92\n",
            "37  2021      2   4306  141194       32.79\n",
            "38  2021      3   4111  122626       29.83\n",
            "39  2021      4   2818   69243       24.57\n",
            "40  2021      5   2111   55012       26.06\n",
            "41  2021      6   3576   84692       23.68\n",
            "42  2021      7  16628  399342       24.02\n",
            "43  2021      8  11876  271635       22.87\n",
            "44  2021      9   4489  114690       25.55\n",
            "45  2021     10   3010   73709       24.49\n",
            "46  2021     11   2251   58409       25.95\n",
            "47  2021     12   2758   66859       24.24\n",
            "48  2022      1   2469   62022       25.12\n",
            "49  2022      2   3010   72629       24.13\n",
            "50  2022      3   2388   63724       26.69\n",
            "51  2022      4   2220   57334       25.83\n",
            "52  2022      5   2831   74981       26.49\n"
          ]
        }
      ],
      "source": [
        "tweets_stats(tweets_orig, 'ori')"
      ]
    },
    {
      "cell_type": "markdown",
      "metadata": {
        "id": "dgOt6eY9GGIN"
      },
      "source": [
        "#Pegar os stop words da língua portuguesa usando NLTK"
      ]
    },
    {
      "cell_type": "code",
      "execution_count": 7,
      "metadata": {
        "id": "MD9FttR_ZujT"
      },
      "outputs": [],
      "source": [
        "stop_words = set(stopwords.words('portuguese'))"
      ]
    },
    {
      "cell_type": "code",
      "execution_count": 8,
      "metadata": {
        "colab": {
          "base_uri": "https://localhost:8080/"
        },
        "id": "LItshnuibmxO",
        "outputId": "5a5dae80-85ee-4f83-8857-54faca4169fe"
      },
      "outputs": [
        {
          "output_type": "execute_result",
          "data": {
            "text/plain": [
              "set"
            ]
          },
          "metadata": {},
          "execution_count": 8
        }
      ],
      "source": [
        "type(stop_words)\n"
      ]
    },
    {
      "cell_type": "code",
      "execution_count": 9,
      "metadata": {
        "colab": {
          "base_uri": "https://localhost:8080/"
        },
        "id": "dxY7V9fec_-4",
        "outputId": "afaf4c0b-2471-4e2e-f390-cc3a5351957f"
      },
      "outputs": [
        {
          "output_type": "execute_result",
          "data": {
            "text/plain": [
              "{'a',\n",
              " 'ao',\n",
              " 'aos',\n",
              " 'aquela',\n",
              " 'aquelas',\n",
              " 'aquele',\n",
              " 'aqueles',\n",
              " 'aquilo',\n",
              " 'as',\n",
              " 'até',\n",
              " 'com',\n",
              " 'como',\n",
              " 'da',\n",
              " 'das',\n",
              " 'de',\n",
              " 'dela',\n",
              " 'delas',\n",
              " 'dele',\n",
              " 'deles',\n",
              " 'depois',\n",
              " 'do',\n",
              " 'dos',\n",
              " 'e',\n",
              " 'ela',\n",
              " 'elas',\n",
              " 'ele',\n",
              " 'eles',\n",
              " 'em',\n",
              " 'entre',\n",
              " 'era',\n",
              " 'eram',\n",
              " 'essa',\n",
              " 'essas',\n",
              " 'esse',\n",
              " 'esses',\n",
              " 'esta',\n",
              " 'estamos',\n",
              " 'estas',\n",
              " 'estava',\n",
              " 'estavam',\n",
              " 'este',\n",
              " 'esteja',\n",
              " 'estejam',\n",
              " 'estejamos',\n",
              " 'estes',\n",
              " 'esteve',\n",
              " 'estive',\n",
              " 'estivemos',\n",
              " 'estiver',\n",
              " 'estivera',\n",
              " 'estiveram',\n",
              " 'estiverem',\n",
              " 'estivermos',\n",
              " 'estivesse',\n",
              " 'estivessem',\n",
              " 'estivéramos',\n",
              " 'estivéssemos',\n",
              " 'estou',\n",
              " 'está',\n",
              " 'estávamos',\n",
              " 'estão',\n",
              " 'eu',\n",
              " 'foi',\n",
              " 'fomos',\n",
              " 'for',\n",
              " 'fora',\n",
              " 'foram',\n",
              " 'forem',\n",
              " 'formos',\n",
              " 'fosse',\n",
              " 'fossem',\n",
              " 'fui',\n",
              " 'fôramos',\n",
              " 'fôssemos',\n",
              " 'haja',\n",
              " 'hajam',\n",
              " 'hajamos',\n",
              " 'havemos',\n",
              " 'hei',\n",
              " 'houve',\n",
              " 'houvemos',\n",
              " 'houver',\n",
              " 'houvera',\n",
              " 'houveram',\n",
              " 'houverei',\n",
              " 'houverem',\n",
              " 'houveremos',\n",
              " 'houveria',\n",
              " 'houveriam',\n",
              " 'houvermos',\n",
              " 'houverá',\n",
              " 'houverão',\n",
              " 'houveríamos',\n",
              " 'houvesse',\n",
              " 'houvessem',\n",
              " 'houvéramos',\n",
              " 'houvéssemos',\n",
              " 'há',\n",
              " 'hão',\n",
              " 'isso',\n",
              " 'isto',\n",
              " 'já',\n",
              " 'lhe',\n",
              " 'lhes',\n",
              " 'mais',\n",
              " 'mas',\n",
              " 'me',\n",
              " 'mesmo',\n",
              " 'meu',\n",
              " 'meus',\n",
              " 'minha',\n",
              " 'minhas',\n",
              " 'muito',\n",
              " 'na',\n",
              " 'nas',\n",
              " 'nem',\n",
              " 'no',\n",
              " 'nos',\n",
              " 'nossa',\n",
              " 'nossas',\n",
              " 'nosso',\n",
              " 'nossos',\n",
              " 'num',\n",
              " 'numa',\n",
              " 'não',\n",
              " 'nós',\n",
              " 'o',\n",
              " 'os',\n",
              " 'ou',\n",
              " 'para',\n",
              " 'pela',\n",
              " 'pelas',\n",
              " 'pelo',\n",
              " 'pelos',\n",
              " 'por',\n",
              " 'qual',\n",
              " 'quando',\n",
              " 'que',\n",
              " 'quem',\n",
              " 'se',\n",
              " 'seja',\n",
              " 'sejam',\n",
              " 'sejamos',\n",
              " 'sem',\n",
              " 'serei',\n",
              " 'seremos',\n",
              " 'seria',\n",
              " 'seriam',\n",
              " 'será',\n",
              " 'serão',\n",
              " 'seríamos',\n",
              " 'seu',\n",
              " 'seus',\n",
              " 'somos',\n",
              " 'sou',\n",
              " 'sua',\n",
              " 'suas',\n",
              " 'são',\n",
              " 'só',\n",
              " 'também',\n",
              " 'te',\n",
              " 'tem',\n",
              " 'temos',\n",
              " 'tenha',\n",
              " 'tenham',\n",
              " 'tenhamos',\n",
              " 'tenho',\n",
              " 'terei',\n",
              " 'teremos',\n",
              " 'teria',\n",
              " 'teriam',\n",
              " 'terá',\n",
              " 'terão',\n",
              " 'teríamos',\n",
              " 'teu',\n",
              " 'teus',\n",
              " 'teve',\n",
              " 'tinha',\n",
              " 'tinham',\n",
              " 'tive',\n",
              " 'tivemos',\n",
              " 'tiver',\n",
              " 'tivera',\n",
              " 'tiveram',\n",
              " 'tiverem',\n",
              " 'tivermos',\n",
              " 'tivesse',\n",
              " 'tivessem',\n",
              " 'tivéramos',\n",
              " 'tivéssemos',\n",
              " 'tu',\n",
              " 'tua',\n",
              " 'tuas',\n",
              " 'tém',\n",
              " 'tínhamos',\n",
              " 'um',\n",
              " 'uma',\n",
              " 'você',\n",
              " 'vocês',\n",
              " 'vos',\n",
              " 'à',\n",
              " 'às',\n",
              " 'é',\n",
              " 'éramos'}"
            ]
          },
          "metadata": {},
          "execution_count": 9
        }
      ],
      "source": [
        "stop_words"
      ]
    },
    {
      "cell_type": "markdown",
      "metadata": {
        "id": "VM-vll20KqvP"
      },
      "source": [
        "#Pré-processamento dos tweets"
      ]
    },
    {
      "cell_type": "markdown",
      "metadata": {
        "id": "PAlOZbaXCNDM"
      },
      "source": [
        "###Função para limpar os tweets"
      ]
    },
    {
      "cell_type": "code",
      "execution_count": 10,
      "metadata": {
        "id": "wKc3KHEUkiTm"
      },
      "outputs": [],
      "source": [
        "def cleaning(tweet):\n",
        "  \n",
        "  #remover pontuações\n",
        "  def remove_punctuation(tweet):\n",
        "      return re.sub(r'[^\\w\\s]','',tweet) \n",
        "\n",
        "  #remocao de plavras com mais de 3 ocorrencias seguidas\n",
        "  def mais_de_3_ocorrencias_seguidas(word):  \n",
        "    let_ant = word[0]\n",
        "    count = 0\n",
        "    mais_de_3 = False;\n",
        "    for w in word:\n",
        "      count = count + 1 if w == let_ant else 1\n",
        "      let_ant = w  \n",
        "      if count > 3: \n",
        "        mais_de_3 = True \n",
        "        break  \n",
        "    return mais_de_3   \n",
        "\n",
        "  #remover acentuações\n",
        "  def remove_emphasis(token):\n",
        "        return unidecode(remove_punctuation(token))\n",
        "\n",
        "  stop_words_list = [remove_emphasis(st_word) for st_word in stop_words]\n",
        " \n",
        "  #conversão de string para minúsculas, remoção de pontuação, palavras que iniciam com @, #, stopwords ou com tamanho < 2 e se forem diferentes de ht.\n",
        "  def remove_undesirable_words(tweet):\n",
        "      new_list_ = []\n",
        "      tweet = ' '.join(str(word).lower() for word in tweet.split() if not word.startswith('@') and not word.startswith('#'))\n",
        "     \n",
        "      for token in wordpunct_tokenize(tweet):\n",
        "         if token in stop_words_list or (len(token) < 3 and token != 'ht') or mais_de_3_ocorrencias_seguidas(token): continue\n",
        "         new_list_.append(remove_emphasis(token))\n",
        "      return ' '.join(new_list_)\n",
        "\n",
        "  #remover urls\n",
        "  def remove_url(tweet_without_sw):\n",
        "      return re.sub(r\"http\\S+\", \"\", tweet_without_sw)\n",
        "\n",
        "  #remover palavras que contem ou que são números\n",
        "  def remove_numeric(tweet):\n",
        "    return re.sub(r'\\d+', '', tweet)\n",
        "\n",
        "  tweet = remove_url(tweet)\n",
        "  tweet = remove_numeric(tweet)\n",
        "  tweet = remove_undesirable_words(tweet)\n",
        "  return tweet \n"
      ]
    },
    {
      "cell_type": "markdown",
      "metadata": {
        "id": "L3NOY8WQEMH7"
      },
      "source": [
        "\n",
        "###Exemplo de tweet antes da aplicação da função de limpeza"
      ]
    },
    {
      "cell_type": "code",
      "execution_count": 11,
      "metadata": {
        "id": "mMmawXRUfeGY"
      },
      "outputs": [],
      "source": [
        "string_example = \"No Rio de Janeiro, em 2021, <p> o nao @senhor vai #investir, em 2022, na educação da Venezuela, Argentina, Haiti,cuba.e etc países comunistas?, porque aqui no Brasil o Senhor nunca fez isso ?????. https://t.co/jmVSYbsG2X\""
      ]
    },
    {
      "cell_type": "code",
      "execution_count": 12,
      "metadata": {
        "id": "2cPuLlD1dxF7"
      },
      "outputs": [],
      "source": [
        "filtered_tweet = cleaning(string_example)"
      ]
    },
    {
      "cell_type": "markdown",
      "metadata": {
        "id": "DL-GiFlgEelV"
      },
      "source": [
        "###Exemplo de tweet depois da aplicação da função de limpeza"
      ]
    },
    {
      "cell_type": "code",
      "execution_count": 13,
      "metadata": {
        "colab": {
          "base_uri": "https://localhost:8080/",
          "height": 35
        },
        "id": "onsjf2SAWsC0",
        "outputId": "af93e4e9-9ace-4323-dcd9-fcff64c0df51"
      },
      "outputs": [
        {
          "output_type": "execute_result",
          "data": {
            "text/plain": [
              "'rio janeiro vai educacao venezuela argentina haiti cuba etc paises comunistas porque aqui brasil senhor nunca fez'"
            ],
            "application/vnd.google.colaboratory.intrinsic+json": {
              "type": "string"
            }
          },
          "metadata": {},
          "execution_count": 13
        }
      ],
      "source": [
        "filtered_tweet"
      ]
    },
    {
      "cell_type": "markdown",
      "metadata": {
        "id": "DMjfv4xtFeF6"
      },
      "source": [
        "###Aplicação da função do pré-processamento nos tweets"
      ]
    },
    {
      "cell_type": "code",
      "execution_count": 14,
      "metadata": {
        "id": "0f-PAjiRe0S0"
      },
      "outputs": [],
      "source": [
        "tweets_pre_proc = tweets_orig.copy()\n",
        "tweets_pre_proc['text_preprocessed'] = tweets_orig['text'].map(lambda tweet: cleaning(tweet))"
      ]
    },
    {
      "cell_type": "code",
      "execution_count": 15,
      "metadata": {
        "colab": {
          "base_uri": "https://localhost:8080/"
        },
        "id": "b8uljx9xYuwY",
        "outputId": "aadbbcf9-d04c-44fe-ff64-df800cfb4eda"
      },
      "outputs": [
        {
          "output_type": "execute_result",
          "data": {
            "text/plain": [
              "['@geglobo Paquetá é haitiano',\n",
              " '@BetoLuiz_RU @jonesmanoel_PCB @deccache O Haiti foi uma desgraça de fato.Mas os erros nao anulam os acertos.E quando ele fala sobre a guerra na Ucrania ele vem se posicionando muito bem,criticando a postura do zelensky',\n",
              " 'O senhor vai investir na educação da Venezuela, Argentina, Haiti,cuba, e etc países comunistas?, porque aqui no Brasil o Senhor nunca fez isso. https://t.co/jmVSYbsG2X',\n",
              " '@rsallesmma Que nada, na mão de vocês já tá virando uma mistura de deserto do Saara com Haiti',\n",
              " '@JoppertLeonardo @jonesmanoel_PCB @deccache Entramos nos BRICS, mas invadimos o Haiti a mando do Bush!\\n\\nLula diz que vai fortalecer os brics mas faz palestras no Parlamento Europeu que está tratando Rússia e china como inimigos mortais, como isso vai funcionar???']"
            ]
          },
          "metadata": {},
          "execution_count": 15
        }
      ],
      "source": [
        "tweets_orig.text.head().tolist()"
      ]
    },
    {
      "cell_type": "code",
      "execution_count": 16,
      "metadata": {
        "colab": {
          "base_uri": "https://localhost:8080/"
        },
        "id": "LGbjhqfmzDFQ",
        "outputId": "7a2d1a5f-0b2b-4e8d-c525-2092d527af21"
      },
      "outputs": [
        {
          "output_type": "execute_result",
          "data": {
            "text/plain": [
              "['paqueta haitiano',\n",
              " 'haiti desgraca fato erros anulam acertos fala sobre guerra ucrania vem posicionando bem criticando postura zelensky',\n",
              " 'senhor vai investir educacao venezuela argentina haiti cuba etc paises comunistas porque aqui brasil senhor nunca fez',\n",
              " 'nada mao voces virando mistura deserto saara haiti',\n",
              " 'entramos brics invadimos haiti mando bush lula diz vai fortalecer brics faz palestras parlamento europeu esta tratando russia china inimigos mortais vai funcionar ']"
            ]
          },
          "metadata": {},
          "execution_count": 16
        }
      ],
      "source": [
        "tweets_pre_proc.text_preprocessed.head().tolist()\n"
      ]
    },
    {
      "cell_type": "markdown",
      "metadata": {
        "id": "a_A3UZOKMVoD"
      },
      "source": [
        "###Remover tweets com menos de 3 palavras"
      ]
    },
    {
      "cell_type": "code",
      "execution_count": 17,
      "metadata": {
        "id": "9AddF7arLr7F"
      },
      "outputs": [],
      "source": [
        "tweets_pre_proc = tweets_pre_proc.loc[tweets_pre_proc['text_preprocessed'].str.split().str.len() > 3]"
      ]
    },
    {
      "cell_type": "code",
      "execution_count": 18,
      "metadata": {
        "colab": {
          "base_uri": "https://localhost:8080/"
        },
        "id": "EGzg91V6L-N7",
        "outputId": "6371227c-def4-49cf-8101-aceb94835243"
      },
      "outputs": [
        {
          "output_type": "execute_result",
          "data": {
            "text/plain": [
              "(171087, 6)"
            ]
          },
          "metadata": {},
          "execution_count": 18
        }
      ],
      "source": [
        "tweets_pre_proc.shape"
      ]
    },
    {
      "cell_type": "markdown",
      "metadata": {
        "id": "vAADO70qDBO9"
      },
      "source": [
        "###Remover os tweets duplicados"
      ]
    },
    {
      "cell_type": "code",
      "execution_count": 19,
      "metadata": {
        "colab": {
          "base_uri": "https://localhost:8080/"
        },
        "id": "Aj3c3CrFCXR_",
        "outputId": "9cc1bd51-8200-4896-df64-80fb87f84f5a"
      },
      "outputs": [
        {
          "output_type": "execute_result",
          "data": {
            "text/plain": [
              "['@BetoLuiz_RU @jonesmanoel_PCB @deccache O Haiti foi uma desgraça de fato.Mas os erros nao anulam os acertos.E quando ele fala sobre a guerra na Ucrania ele vem se posicionando muito bem,criticando a postura do zelensky',\n",
              " 'O senhor vai investir na educação da Venezuela, Argentina, Haiti,cuba, e etc países comunistas?, porque aqui no Brasil o Senhor nunca fez isso. https://t.co/jmVSYbsG2X',\n",
              " '@rsallesmma Que nada, na mão de vocês já tá virando uma mistura de deserto do Saara com Haiti',\n",
              " '@JoppertLeonardo @jonesmanoel_PCB @deccache Entramos nos BRICS, mas invadimos o Haiti a mando do Bush!\\n\\nLula diz que vai fortalecer os brics mas faz palestras no Parlamento Europeu que está tratando Rússia e china como inimigos mortais, como isso vai funcionar???',\n",
              " '@alice_mader9 kkkkkk e era 2 haitiano, n entendi nada q falavam']"
            ]
          },
          "metadata": {},
          "execution_count": 19
        }
      ],
      "source": [
        "tweets_pre_proc.text.head().tolist()"
      ]
    },
    {
      "cell_type": "code",
      "execution_count": 20,
      "metadata": {
        "id": "51YZj0HF-VkT"
      },
      "outputs": [],
      "source": [
        "tweets_pre_proc.drop_duplicates(subset = [\"text_preprocessed\"], keep='first', inplace=True)"
      ]
    },
    {
      "cell_type": "markdown",
      "metadata": {
        "id": "5ZaDi_AFFL5b"
      },
      "source": [
        "###Quantidade de tweets após a remoção dos tweets duplicados"
      ]
    },
    {
      "cell_type": "code",
      "execution_count": 21,
      "metadata": {
        "colab": {
          "base_uri": "https://localhost:8080/"
        },
        "id": "6IC5wWgm-dnl",
        "outputId": "f12113eb-525b-409c-8e52-a0d2e4accb0b"
      },
      "outputs": [
        {
          "output_type": "execute_result",
          "data": {
            "text/plain": [
              "(150264, 6)"
            ]
          },
          "metadata": {},
          "execution_count": 21
        }
      ],
      "source": [
        "tweets_pre_proc.shape"
      ]
    },
    {
      "cell_type": "code",
      "execution_count": 22,
      "metadata": {
        "colab": {
          "base_uri": "https://localhost:8080/"
        },
        "id": "paxssE2-L7WK",
        "outputId": "f7500751-d1a4-4a20-e658-b973143c0897"
      },
      "outputs": [
        {
          "output_type": "execute_result",
          "data": {
            "text/plain": [
              "['@geglobo Paquetá é haitiano',\n",
              " '@BetoLuiz_RU @jonesmanoel_PCB @deccache O Haiti foi uma desgraça de fato.Mas os erros nao anulam os acertos.E quando ele fala sobre a guerra na Ucrania ele vem se posicionando muito bem,criticando a postura do zelensky',\n",
              " 'O senhor vai investir na educação da Venezuela, Argentina, Haiti,cuba, e etc países comunistas?, porque aqui no Brasil o Senhor nunca fez isso. https://t.co/jmVSYbsG2X',\n",
              " '@rsallesmma Que nada, na mão de vocês já tá virando uma mistura de deserto do Saara com Haiti',\n",
              " '@JoppertLeonardo @jonesmanoel_PCB @deccache Entramos nos BRICS, mas invadimos o Haiti a mando do Bush!\\n\\nLula diz que vai fortalecer os brics mas faz palestras no Parlamento Europeu que está tratando Rússia e china como inimigos mortais, como isso vai funcionar???']"
            ]
          },
          "metadata": {},
          "execution_count": 22
        }
      ],
      "source": [
        "tweets_orig.text.head().tolist()"
      ]
    },
    {
      "cell_type": "code",
      "execution_count": 23,
      "metadata": {
        "colab": {
          "base_uri": "https://localhost:8080/"
        },
        "id": "o_WQhu4WXc8x",
        "outputId": "5cfd2abd-1291-4e1d-da83-5cbad17e3bba"
      },
      "outputs": [
        {
          "output_type": "execute_result",
          "data": {
            "text/plain": [
              "['@BetoLuiz_RU @jonesmanoel_PCB @deccache O Haiti foi uma desgraça de fato.Mas os erros nao anulam os acertos.E quando ele fala sobre a guerra na Ucrania ele vem se posicionando muito bem,criticando a postura do zelensky',\n",
              " 'O senhor vai investir na educação da Venezuela, Argentina, Haiti,cuba, e etc países comunistas?, porque aqui no Brasil o Senhor nunca fez isso. https://t.co/jmVSYbsG2X',\n",
              " '@rsallesmma Que nada, na mão de vocês já tá virando uma mistura de deserto do Saara com Haiti',\n",
              " '@JoppertLeonardo @jonesmanoel_PCB @deccache Entramos nos BRICS, mas invadimos o Haiti a mando do Bush!\\n\\nLula diz que vai fortalecer os brics mas faz palestras no Parlamento Europeu que está tratando Rússia e china como inimigos mortais, como isso vai funcionar???',\n",
              " '@alice_mader9 kkkkkk e era 2 haitiano, n entendi nada q falavam']"
            ]
          },
          "metadata": {},
          "execution_count": 23
        }
      ],
      "source": [
        "tweets_pre_proc.text.head().tolist()"
      ]
    },
    {
      "cell_type": "markdown",
      "metadata": {
        "id": "W_YlFRbv8duT"
      },
      "source": [
        "###Estatística dos tweets após o pré-processamento:"
      ]
    },
    {
      "cell_type": "code",
      "execution_count": 24,
      "metadata": {
        "colab": {
          "base_uri": "https://localhost:8080/"
        },
        "id": "kOCGonzX8Q2l",
        "outputId": "e161e4a1-8cfd-424d-fb58-dabb9f7062e0"
      },
      "outputs": [
        {
          "output_type": "stream",
          "name": "stdout",
          "text": [
            "Total: 150264, Count word: 2137665, Mean words: 14.23\n",
            "\n",
            "*****Agrupado por ano****\n",
            "   Year  Count     Sum  Mean_words\n",
            "0  2018  18202  247212       13.58\n",
            "1  2019  24449  364905       14.93\n",
            "2  2020  47530  650724       13.69\n",
            "3  2021  48733  704287       14.45\n",
            "4  2022  11350  170537       15.03\n",
            "\n",
            "*****Agrupado por mês e ano****\n",
            "    Year  Month  Count     Sum  Mean_words\n",
            "0   2018      1   1957   25945       13.26\n",
            "1   2018      2   1836   24396       13.29\n",
            "2   2018      3   1026   13485       13.14\n",
            "3   2018      4    984   13494       13.71\n",
            "4   2018      5   2095   26978       12.88\n",
            "5   2018      6   1366   18525       13.56\n",
            "6   2018      7   1861   23147       12.44\n",
            "7   2018      8   1520   21052       13.85\n",
            "8   2018      9   1195   16893       14.14\n",
            "9   2018     10   1412   19919       14.11\n",
            "10  2018     11   1713   26193       15.29\n",
            "11  2018     12   1237   17185       13.89\n",
            "12  2019      1   2089   32232       15.43\n",
            "13  2019      2   3553   53191       14.97\n",
            "14  2019      3   1700   25849       15.21\n",
            "15  2019      4   1499   22732       15.16\n",
            "16  2019      5   1487   22476       15.11\n",
            "17  2019      6   2670   38608       14.46\n",
            "18  2019      7   1691   24307       14.37\n",
            "19  2019      8   1786   27051       15.15\n",
            "20  2019      9   1919   28016       14.60\n",
            "21  2019     10   2175   32688       15.03\n",
            "22  2019     11   2327   34615       14.88\n",
            "23  2019     12   1553   23140       14.90\n",
            "24  2020      1   3304   48532       14.69\n",
            "25  2020      2   2663   36309       13.63\n",
            "26  2020      3  18799  236040       12.56\n",
            "27  2020      4   3961   49584       12.52\n",
            "28  2020      5   4065   57434       14.13\n",
            "29  2020      6   2930   45138       15.41\n",
            "30  2020      7   2029   31445       15.50\n",
            "31  2020      8   2070   31678       15.30\n",
            "32  2020      9   2501   37561       15.02\n",
            "33  2020     10   1815   26836       14.79\n",
            "34  2020     11   1690   25142       14.88\n",
            "35  2020     12   1703   25025       14.69\n",
            "36  2021      1   2188   32256       14.74\n",
            "37  2021      2   2301   34808       15.13\n",
            "38  2021      3   2683   39431       14.70\n",
            "39  2021      4   2303   33266       14.44\n",
            "40  2021      5   1827   28013       15.33\n",
            "41  2021      6   2947   41060       13.93\n",
            "42  2021      7  13904  200485       14.42\n",
            "43  2021      8   9932  136457       13.74\n",
            "44  2021      9   3833   58098       15.16\n",
            "45  2021     10   2493   37122       14.89\n",
            "46  2021     11   1943   29404       15.13\n",
            "47  2021     12   2379   33887       14.24\n",
            "48  2022      1   2112   31633       14.98\n",
            "49  2022      2   2643   37780       14.29\n",
            "50  2022      3   2130   33234       15.60\n",
            "51  2022      4   1968   29633       15.06\n",
            "52  2022      5   2497   38257       15.32\n"
          ]
        }
      ],
      "source": [
        "tweets_stats(tweets_pre_proc, 'pre')"
      ]
    },
    {
      "cell_type": "markdown",
      "metadata": {
        "id": "-yM03oGL-Jxo"
      },
      "source": [
        "###Lematização e stemização"
      ]
    },
    {
      "cell_type": "code",
      "execution_count": 25,
      "metadata": {
        "id": "CnC_XX9LADcR"
      },
      "outputs": [],
      "source": [
        "pln = spacy.load('pt')"
      ]
    },
    {
      "cell_type": "markdown",
      "metadata": {
        "id": "bBsgn00LCmgR"
      },
      "source": [
        "###Lematização"
      ]
    },
    {
      "cell_type": "code",
      "execution_count": 26,
      "metadata": {
        "id": "_ZJ0sYt6AS_2"
      },
      "outputs": [],
      "source": [
        "string_lem_example = 'lixo tiver sou capacetes brancos ajudaram haiti pare besteira ajudou haiti fim exercito capacetes brancos resolvem problema presos campos concentracao argentina criou'"
      ]
    },
    {
      "cell_type": "code",
      "execution_count": 27,
      "metadata": {
        "id": "KPKFg1c2-IMC"
      },
      "outputs": [],
      "source": [
        "def lemmatization(tweet):\n",
        "  document = pln(tweet)\n",
        "  return ' '.join([token.lemma_ for token in document])"
      ]
    },
    {
      "cell_type": "code",
      "execution_count": 28,
      "metadata": {
        "id": "AmCCuTS0AlRp"
      },
      "outputs": [],
      "source": [
        "tweet_lem_example = lemmatization(string_lem_example)"
      ]
    },
    {
      "cell_type": "code",
      "execution_count": 29,
      "metadata": {
        "colab": {
          "base_uri": "https://localhost:8080/",
          "height": 35
        },
        "id": "3mXcYsiFCwZu",
        "outputId": "a44bb722-3859-47fb-cb3a-93c0fdac15f9"
      },
      "outputs": [
        {
          "output_type": "execute_result",
          "data": {
            "text/plain": [
              "'lixar ter ser capacete branco ajudar haiti parir besteira ajudar haiti fim exercitar capacete branco resolver problema preso campo concentracao argentino criar'"
            ],
            "application/vnd.google.colaboratory.intrinsic+json": {
              "type": "string"
            }
          },
          "metadata": {},
          "execution_count": 29
        }
      ],
      "source": [
        "tweet_lem_example"
      ]
    },
    {
      "cell_type": "code",
      "execution_count": 30,
      "metadata": {
        "id": "UOW43XYZDnTo"
      },
      "outputs": [],
      "source": [
        "tweets_pre_proc['text_lematizados'] = tweets_pre_proc['text_preprocessed'].map(lambda tweet: lemmatization(tweet))"
      ]
    },
    {
      "cell_type": "code",
      "execution_count": 31,
      "metadata": {
        "id": "2dP-qxwMD8ta",
        "colab": {
          "base_uri": "https://localhost:8080/"
        },
        "outputId": "1e09681d-641d-4e4d-eca0-f2a04ff9d3cf"
      },
      "outputs": [
        {
          "output_type": "execute_result",
          "data": {
            "text/plain": [
              "['haiti desgraca fato erro anular acerto falir sobrar guerra ucrania vir posicionar bem criticar posturar zelensky',\n",
              " 'senhor ir investir educacao venezuela argentino haiti cubar etc paises comunista porque aqui brasil senhor nunca fazer',\n",
              " 'nado mao voces virar misturar desertar saara haiti',\n",
              " 'entrar brics invadir haiti mandar bush lula dizer ir fortalecer brics fazer palestrar parlamentar europeu este tratar russia chino inimigo mortal ir funcionar',\n",
              " 'haitiano entender nado falar']"
            ]
          },
          "metadata": {},
          "execution_count": 31
        }
      ],
      "source": [
        "tweets_pre_proc.text_lematizados.head().tolist()"
      ]
    },
    {
      "cell_type": "markdown",
      "metadata": {
        "id": "sQqWX2kmrdil"
      },
      "source": [
        "###Bigramas"
      ]
    },
    {
      "cell_type": "code",
      "execution_count": 32,
      "metadata": {
        "id": "r5eVxiISrc8f"
      },
      "outputs": [],
      "source": [
        "def bigrams(df):\n",
        "  docs = [doc.split() for doc in df.text_lematizados.tolist()]\n",
        "  bigram = Phrases(docs, min_count=3)\n",
        "  for i in range(len(docs)):\n",
        "    docs[i] = ' '.join(bigram[docs[i]])\n",
        "  return docs  "
      ]
    },
    {
      "cell_type": "code",
      "execution_count": 33,
      "metadata": {
        "id": "kzcl4MoYr4Ka",
        "colab": {
          "base_uri": "https://localhost:8080/"
        },
        "outputId": "1f0cad1c-a444-489d-91ec-5dd5d31d75a7"
      },
      "outputs": [
        {
          "output_type": "stream",
          "name": "stderr",
          "text": [
            "/usr/local/lib/python3.7/dist-packages/gensim/models/phrases.py:598: UserWarning: For a faster implementation, use the gensim.models.phrases.Phraser class\n",
            "  warnings.warn(\"For a faster implementation, use the gensim.models.phrases.Phraser class\")\n"
          ]
        }
      ],
      "source": [
        "tweets_pre_proc['bigrams_text'] = bigrams(tweets_pre_proc)"
      ]
    },
    {
      "cell_type": "code",
      "execution_count": 34,
      "metadata": {
        "id": "JgNWIgFByOyA",
        "colab": {
          "base_uri": "https://localhost:8080/"
        },
        "outputId": "9cef26f5-d9e2-461a-e848-128e6f96cc0b"
      },
      "outputs": [
        {
          "output_type": "execute_result",
          "data": {
            "text/plain": [
              "['haiti desgraca fato erro anular acerto falir sobrar guerra_ucrania vir posicionar bem criticar posturar zelensky',\n",
              " 'senhor ir investir_educacao venezuela argentino haiti cubar etc paises comunista porque aqui brasil senhor nunca fazer',\n",
              " 'nado mao voces virar_misturar desertar_saara haiti',\n",
              " 'entrar brics invadir haiti mandar bush lula dizer ir fortalecer brics fazer palestrar parlamentar europeu este tratar russia_chino inimigo mortal ir funcionar',\n",
              " 'haitiano entender_nado falar']"
            ]
          },
          "metadata": {},
          "execution_count": 34
        }
      ],
      "source": [
        "tweets_pre_proc.bigrams_text.head().tolist()"
      ]
    },
    {
      "cell_type": "code",
      "source": [
        "tweets_stats(tweets_pre_proc, 'big')"
      ],
      "metadata": {
        "colab": {
          "base_uri": "https://localhost:8080/"
        },
        "id": "X7pNY4ViKy7q",
        "outputId": "95940974-8966-46cd-f7da-864ea1e2f71d"
      },
      "execution_count": 49,
      "outputs": [
        {
          "output_type": "stream",
          "name": "stdout",
          "text": [
            "Total: 150264, Count word: 1938860, Mean words: 12.9\n",
            "\n",
            "*****Agrupado por ano****\n",
            "   Year  Count     Sum  Mean_words\n",
            "0  2018  18202  225518       12.39\n",
            "1  2019  24449  330502       13.52\n",
            "2  2020  47530  597148       12.56\n",
            "3  2021  48733  630554       12.94\n",
            "4  2022  11350  155138       13.67\n",
            "\n",
            "*****Agrupado por mês e ano****\n",
            "    Year  Month  Count     Sum  Mean_words\n",
            "0   2018      1   1957   23545       12.03\n",
            "1   2018      2   1836   21993       11.98\n",
            "2   2018      3   1026   12408       12.09\n",
            "3   2018      4    984   12496       12.70\n",
            "4   2018      5   2095   24680       11.78\n",
            "5   2018      6   1366   17000       12.45\n",
            "6   2018      7   1861   21067       11.32\n",
            "7   2018      8   1520   19345       12.73\n",
            "8   2018      9   1195   15521       12.99\n",
            "9   2018     10   1412   18146       12.85\n",
            "10  2018     11   1713   23670       13.82\n",
            "11  2018     12   1237   15647       12.65\n",
            "12  2019      1   2089   29248       14.00\n",
            "13  2019      2   3553   48170       13.56\n",
            "14  2019      3   1700   23491       13.82\n",
            "15  2019      4   1499   20825       13.89\n",
            "16  2019      5   1487   20495       13.78\n",
            "17  2019      6   2670   34412       12.89\n",
            "18  2019      7   1691   22204       13.13\n",
            "19  2019      8   1786   24557       13.75\n",
            "20  2019      9   1919   25339       13.20\n",
            "21  2019     10   2175   29471       13.55\n",
            "22  2019     11   2327   31336       13.47\n",
            "23  2019     12   1553   20954       13.49\n",
            "24  2020      1   3304   43842       13.27\n",
            "25  2020      2   2663   33044       12.41\n",
            "26  2020      3  18799  219436       11.67\n",
            "27  2020      4   3961   45781       11.56\n",
            "28  2020      5   4065   52290       12.86\n",
            "29  2020      6   2930   40823       13.93\n",
            "30  2020      7   2029   28769       14.18\n",
            "31  2020      8   2070   28718       13.87\n",
            "32  2020      9   2501   34209       13.68\n",
            "33  2020     10   1815   24286       13.38\n",
            "34  2020     11   1690   22990       13.60\n",
            "35  2020     12   1703   22960       13.48\n",
            "36  2021      1   2188   29386       13.43\n",
            "37  2021      2   2301   31312       13.61\n",
            "38  2021      3   2683   35789       13.34\n",
            "39  2021      4   2303   30130       13.08\n",
            "40  2021      5   1827   25470       13.94\n",
            "41  2021      6   2947   37130       12.60\n",
            "42  2021      7  13904  176487       12.69\n",
            "43  2021      8   9932  121489       12.23\n",
            "44  2021      9   3833   52481       13.69\n",
            "45  2021     10   2493   33500       13.44\n",
            "46  2021     11   1943   26662       13.72\n",
            "47  2021     12   2379   30718       12.91\n",
            "48  2022      1   2112   28697       13.59\n",
            "49  2022      2   2643   34462       13.04\n",
            "50  2022      3   2130   30248       14.20\n",
            "51  2022      4   1968   27017       13.73\n",
            "52  2022      5   2497   34714       13.90\n"
          ]
        }
      ]
    },
    {
      "cell_type": "code",
      "source": [
        "tweets_pre_proc.bigrams_text.tolist()"
      ],
      "metadata": {
        "colab": {
          "base_uri": "https://localhost:8080/"
        },
        "id": "9gW87laeLEF3",
        "outputId": "c3918c0a-736a-4e6a-fce2-70c94b9d0985"
      },
      "execution_count": 50,
      "outputs": [
        {
          "output_type": "execute_result",
          "data": {
            "text/plain": [
              "['haiti desgraca fato erro anular acerto falir sobrar guerra_ucrania vir posicionar bem criticar posturar zelensky',\n",
              " 'senhor ir investir_educacao venezuela argentino haiti cubar etc paises comunista porque aqui brasil senhor nunca fazer',\n",
              " 'nado mao voces virar_misturar desertar_saara haiti',\n",
              " 'entrar brics invadir haiti mandar bush lula dizer ir fortalecer brics fazer palestrar parlamentar europeu este tratar russia_chino inimigo mortal ir funcionar',\n",
              " 'haitiano entender_nado falar',\n",
              " 'adorar caro cagar general_heleno primar pro haiti sempre mandar foto pra pra perguntar assim n_aquele tempo',\n",
              " 'jane angeli junqueira advogar maringaense cafe_manha oferecer embaixada haiti kubitschek plaza hotel brasilia anfitria embaixador haiti brasil rachel coupau algum',\n",
              " 'conseguir motorista haitiano fmz merda amanhar ir fazer correr tentar segundo ver sepa pros creditar voltar dps',\n",
              " 'votar santo_cruz nao tera aceitar convidar dizer participar golpe alar cruz nao morar nunca fazer brasil bem morar fazer nado fazer brasil fazer haiti votar ninguem tera',\n",
              " 'voce fodao valentao haiti',\n",
              " 'voce nao presidente dizer haitiano bolsonaro ver valer_lembrar gente',\n",
              " 'desculpar haitiano saber contar portugues',\n",
              " 'ainda bem porque hoje quase haiti',\n",
              " 'haiti islandia venezuela egito republicar_dominicano argentino nicaragua',\n",
              " 'nao porque brasileiro agora perguntar pra haitiano venezuelano',\n",
              " 'melhor virar argentino somalia onde maioria passar_fome haiti',\n",
              " 'dia forcar invasao deixar violencia morte colera filho haiti',\n",
              " 'amg ver tweet chegar zap mensagem haitiano passar login duma contar sla quanto mil_dolares',\n",
              " 'heleno_comandar missao_paz onu haiti onde milhar acusacoes_estuprar assassinato torturar populacao alar perseguicao apoiadores presidente jean_bertrand aristide casar emblematico acontecer dia_julho',\n",
              " 'trio volo bastidor gravacao videoclipe arar_the world haiti maravilhoso bom_tardar otima segundo_feirar pra voces seguir follow clube',\n",
              " 'haiti pra argentino otimo',\n",
              " 'republicar_dominicano paraguai costa_rico equador argentino haiti mexico honduras ufa pensar utilizar paises nao tanto tecnologia pontar japao eua inglaterra_franco etc',\n",
              " 'otimo diante fato virar haiti governar miliciano voce fazer partir',\n",
              " 'cantar haiti aqui assinar_manifestar anticotas ano amigar vcs preto nao vergonha caro sueli_carneiro nao grosseiro louco sempre dizer criticar',\n",
              " 'bolzo ganhar tornar haiti',\n",
              " 'brasil sexto maior_economia mundo agora nao conseguir empatar crescimento haiti culpar',\n",
              " 'gente pensar tamo descobrir revolucao haitiano agora saber futurar nao ganhar espaco merecer',\n",
              " 'evolucao haiti atual argentino',\n",
              " 'tomar aconteca pois poder virar haiti somalia',\n",
              " 'virar haiti des_governar voces bem mal',\n",
              " 'situacao triste haiti ein mandar presar pra papua_novo guinar deus ajudar vcs congo',\n",
              " 'deus ouca lula venca turno livrar todo voces pois desde golpe aprofundar atoleiro genocida mito despresidente virar haiti desmerecer resistencia secular povo haitiano frente maldicao_branco',\n",
              " 'lembrar pouco texto_sobrar celeumar acontecer historiador sobrar publicacao nyt sobrar haiti reclamar jornal nao dar_creditar pesquisador argumentar talvez importante pessoa saber historiar',\n",
              " 'seguro auditavel tecnologica ainda viajadaaa alar ser usar votar povo brasileiro viver exterior tambem marcar_presenca republicar_dominicano paraguai costa_rico equador argentino haiti mexico honduras ir',\n",
              " 'seguro auditavel tecnologica ainda viajar alar ser usar votar povo brasileiro viver exterior tambem marcar_presenca republicar_dominicano paraguai costa_rico equador argentino haiti mexico honduras ir',\n",
              " 'presidente transformar_brasil haiti',\n",
              " 'cena lamentaveis ligar haitiano futebol',\n",
              " 'bolsonaro estar burgues burguesia sao autoritarios contra valer_peno ser crime realmente tornar mundo infernar nao sao cometido pobre negro haiti infernar culpar imperialismo neocolonialismo violentar eua',\n",
              " 'viver haiti chegar argentino lucrar',\n",
              " 'fato ruptura voces tanto buscar poder ser nao d_esse vez exilio parir melhor_hipoteses sera haiti pouco bom_senso nao forçar barrir porque maioria nao embarcar realidade_paralelo',\n",
              " 'gracas_deus sera evolucao gigante voce bolsonazi turma transformar_brasil republiqueta mal haiti',\n",
              " 'bolsonaro ir virar haiti',\n",
              " 'bom momento pra gigante haiti todo respeitar povo haitiano partir n_isso bandido nao ver horar comecar pagar_crime',\n",
              " 'dia maio colaborador sjmr brasil haitiano jhon kelly monace apresentar tesar_doutorar sobrar migracao haitiano belo_horizonte mark claster mamolen worshop dissertation ler_reportagem completar_link',\n",
              " 'nytimes mostrar origem pobreza haiti haiti fazer revolucao_escravo ano pagar bilhoes liberdade franco imperador brasil imperios russo germanico banco controlar financas haiti',\n",
              " 'bostonaro brincar milicos grupar haiti tomar_contar pai despejar odio ter ser expulso_onu violacao operacao_minustah tao_importante',\n",
              " 'bozo virar haiti desertar_saara',\n",
              " 'sao homem_mulher levar esperanca aquele sofrer duro consequencias guerra conflito presentar missoes_paz libano haiti republicar_democratica congo outro saber',\n",
              " 'nao ginastica mental nenhum compreender existir fluxo balanca poder grupar nao inerentemente superior outro encontrar pontualmente posicao vantajoso logica africano sao superior porque tomar haiti',\n",
              " 'guame guatemala_guernsey guiana guinar_guinar equatorial_guinar bissau haiti honduras_hong kong_hungria iemen ilhar bouvet ilhar natal ilhar norfolk ilhar caimao ilhar cook ilhar cocus ilhar_falkland ilhar heard mcdonald ilhar_marshall ilhar_salomao ilhar_turco caicos',\n",
              " 'grupar_voluntarios ir haiti cuidar_saude bucal pessoa vulnerabilidade video',\n",
              " 'onde comprar fonte carregador original n_esse bostar cidade qualquer_lugar menos haitiano',\n",
              " 'jesus nascer palestino haitiano',\n",
              " 'ser_humanar nascer haiti',\n",
              " 'tipo responsabilidade ano corrupcao botar brasil ultimar lugar educacao mundial atro atar haiti',\n",
              " 'usar_google pesquisar envolvimento crime haiti d_esse tarcisio tal heleno amo dever_estar preso haia vir ndids',\n",
              " 'ucrania ir terminar guerra pobre haiti',\n",
              " 'loiro mandar matar haitiano porque negro convidar pra dancar',\n",
              " 'haitiano trabalhar quase nao falir_portugues horar xingar sair ir direito',\n",
              " 'voltar dormir durante dia mae chamar pastor haitiano orar casar falar sobrar mordido pasmar demonio velho casar quartar perdoar ler horrivel saber d_isso mal tudo',\n",
              " 'legal luladrao ir candidatar haiti',\n",
              " 'acordar voce bolsoburro mundo_inteirar fazer_lockdown aqui isolamento bem mal fazer resultar mil_morto todo estao recuperar economia ir crescer_menos haiti contar d_este desgovernar destrutivo altamente corrupto',\n",
              " 'assim curiosamente andre post deixar lado revolucao haitiano religiao leleu rsrs',\n",
              " 'top scrobbles semana_passar top artista bladee kendrick lamar babyfather albuns escutar remastered morale amp the big steppers pray haiti faixar escutar cantar guerra skywalker nervous freestyle ver panar scrobbler',\n",
              " 'tava haiti muito trocacao tirar',\n",
              " 'haiti onda rapto resgatar frances levar luzir dia centrar capital',\n",
              " 'zumbir real haiti ciencia_magia',\n",
              " 'criar logo_apo revolucao haiti poder comecar clareza sobrar questao abordagem certo nao achar policial violentar traco personalidade especificar nazista tambem nao menos dizer arendt',\n",
              " 'pirar falar parecer coreano ainda falar haitiano lugar',\n",
              " 'misturar alho bugalho sim dimensao religioso essencial revolucoes lista faltar haiti talvez ser religiao afro problema frase jair nao cristao individualizar dimensao religioso evangelicos nao estao pra moral lider',\n",
              " 'sempre quiz saber soldar_brasileiro paz_onu desempenhar missao haiti jornalista tecnicos pesquisador alguem',\n",
              " 'nao colocar argentino_chile costa_rico haiti porque apesar ser paises tambem governar politicos esquerdo nao sao filiar diretamente foro contar paises caminhar paises_america latino governar esquerdo',\n",
              " 'afff visual entidade santeria haitiano',\n",
              " 'saber fazer tempo gente fumar_maconha haitiano praca',\n",
              " 'telefonar tocar madrugar casar prefeito ascurra arao josino murar escola haver ser derrubar acidentar_transitar envolver motorista haitiano',\n",
              " 'cuidar mocada haiti roubar atar parente',\n",
              " 'comandante haiti heroi tanto chamar pra comandar_forcar paz congo',\n",
              " 'unidade povo bento_goncalves serrar_gaucha recebido grupar imigrante haiti homenagear lindo musicar',\n",
              " 'identificar camaroes_mocambique butao costa_rico estar_unir portugal serrar_leão malaui haiti malasia india granar barbar peru_equador botsuana',\n",
              " 'aqui orcamento suica zeladoria cidade digno haiti matar canteiro centrar ruir esburacar iluminacao publicar vila ano soja agro mazelar dentro suvs nao importar',\n",
              " 'malucar adorar desdenhar imigrante haitiano meter um branco olhar azul pra ver historiar mudo',\n",
              " 'procurar_saber haiti conseguir independencia',\n",
              " 'robson idiota tambem achar ponta preconceito haitiano',\n",
              " 'brasil nao merda muito problema pra resolver desigualdade extremamente problematica comparacao paises india_paquistao haiti atar vizinho bolivia gente bem obrigar',\n",
              " 'unica_coisa alemanha moeda forte nado tao_pobre haiti nao riqueza ainda estao carvao estao destruir todo eco sistema achar direito vomitar_asneiro sobrar brasi',\n",
              " 'forcar_armar governar_lula brasil comandar_missao paz haiti avioes guerra reforcam lideranca america_latino forcar ajudar transposicao sao_francisco hoje forcar comprar_viagra proteses penianas quadrar envolver traficar_drogar',\n",
              " 'apicultura contribuir recuperacao_economica haiti',\n",
              " 'venezuela cubar argentino haiti estao logo_ali insatisfeito mudo pra',\n",
              " 'pai salvador taxar alto homicidios mil_habitante mundo atar haiti jamaica querer ter moral chamar outro violento ser pai violentar',\n",
              " 'haiti logo_ali senao perguntar vovo_voyeur gen_heleno comandar_massacrar citar_soleil portar_principe comandar_minustah',\n",
              " 'diarista aqui casar haiti vir hoje primeiro coisa perguntar pra mae casar contar viagem tal sempre vir dar algum peco_roupar pra bom estar adorar algo simples valor',\n",
              " 'oportunidade estar haiti vezar impressionar importancia peacekeeping parabens dia maio continencia',\n",
              " 'video novo primeiro partir seriar sobrar historiar haiti desde habitante antar chegar espanhois atar dia_atuais',\n",
              " 'dia internacional_peacekeepers grande honrar ter representar brasil servir onu haiti onu brasil',\n",
              " 'peru malawi haiti dinamarca estar_unir equador mocambique barbar sumatra',\n",
              " 'decisao precedido medir_provisoria protecao ordenar cortar tambem casar haitiano dominicano origem haitiano republicar_dominicano incidencia direta livrar movimentar transfronteirico pessoa sob artigo convencao',\n",
              " 'venezuela tornar bozoloide agora meter bozo_familicia ficar igual haiti',\n",
              " 'enviar confirmacao inscrever clube impressoes junho ler claro_luzir lua juntar comigo inscrever tambem conhecer literatura haitiano',\n",
              " 'peru_equador siri_lanka mocambique butao eua dinamarca portar_rico haiti malasia malaui camaroes india',\n",
              " 'republicar viagra_protese peniana gel lubrificante picanha_leite condensar grupar haiti expulsar onu onu pedir_afastamento general dar odio presidente lula',\n",
              " 'chocar sueli_carneiro explanar caetano_veloso dizer assinar_manifestar contra cotar fazer branquitude intelectual artista branco ainda debochyani cantar haiti aqui explicar amigar nao ouco certo corja',\n",
              " 'dino marcar hahahahahahahahaha estar_unir butao malasia equador serrar_leão peru camaroes_mocambique haiti atar agora',\n",
              " 'brother voce trabalhar cruz haiti',\n",
              " 'dinamarca camaroes_mocambique serrar_leão equador malaui india peru malasia costa_rico botao granar haiti',\n",
              " 'nao comunidade_xbox chamar haitiano_fedorento',\n",
              " 'estagiario instituto interamericano direito_humano acompanhar julgamento casar haitiano dominicano origem haitiano republicar_dominicano fazer votar separar justamente frase',\n",
              " 'camaroes_mocambique serrar_leão equador eua haiti peru',\n",
              " 'mocambique peru_equador india camaroes haiti butao granar serrar_leão malasia barbar dinamarca',\n",
              " 'mocambique malawi haiti estar_unir peru portugal',\n",
              " 'nao vao observar nao funcao brasil nao haiti republicar_centrar africano mianmar tailandia burkina_faso mali ter militar envolvido eleicoes franco eua militar dao palpitar eleicoes alguem_saber opiniao general eua franco',\n",
              " 'festa_cultural brasil haiti ano maior greve brasil queixar',\n",
              " 'consequencia o ver boric aprovacao menos mês mandatar pedrar_castillo sofrer inflacao argentino segundo_maior inflacao_america venezuela ganhar_premio pai_pobre america perder atar pro haiti outro merda',\n",
              " 'voce saber adewale neto nome eseosa assassinar peco chave sucesso revolucao haitiano libertacao_escravo sao_domingo pois bem n_este novo episodiar seriar curiosidade assassin_creed trazer tudo sobrar',\n",
              " 'paises cujo populacao abandonar procurar outro fugir violencia sao paises lixo nao prestar venezuela haiti coreia_norte sudao serrar_leão cubar brasil infelizmente tambem',\n",
              " 'moca haitiano aqui_trampo nao falir_portugues direito hoje falir pra_mim parecer deus querer dizer pareco anjo d_aquele pintura jesus',\n",
              " 'maio dia internacional_peacekeepers soldar paz nacoes_unir unmiset timor_ler chefe_secao treinamento pkf fev fev minustah haiti assistente militar forçar_commander set set nao facil',\n",
              " 'ir fazer trabalhar fazer haiti aguentar dia melar cueca',\n",
              " 'presidente faca_favor haitiano ano brasil dexei unica filho ano ano nunca precisar facilitar vestir dificil ter vestir brasil haiti precisar pai',\n",
              " 'outro dar morte terremoto haiti morte enchente india morte onda_calor canada morte tufao raer filipino morte enchente chino fazer pesquisar antar achar coisa acontecer brasil',\n",
              " 'pai saudade dever_ser cubar_venezuela haiti bolivia etc sta comunista nao representar',\n",
              " 'somalia haiti tambem nao existir lei_trabalhista asno',\n",
              " 'haiti nao aqui virar hififi bom_dia alliye',\n",
              " 'lisbon este lisboa dia_junho oferendar danca lisboa',\n",
              " 'aliciar noto revisto buala sobrar ambientar haiti ayiti sabado agora farao oferendar danca voce ir',\n",
              " 'leoni declarar atar ontem caetano_veloso liberal sueli_carneiro entregar caetano escrever haiti nao aqui posicionar organizar contra cotar_racial pobre_preto nao dia paz ligar bem nocalteia necessaria sueli_carneiro',\n",
              " 'carai tipo fascista ligar pra imigracao ir dizer pra haitiano venezuelano caracteristicas fascismo gostar estrangeiro',\n",
              " 'achar dever_estar guardar pra saber copar_mundo olimpiadas pra mandar pra cubar_venezuela haiti caro mandar pros estar combater_covid ajudar pro povo mal_carater',\n",
              " 'votar santo_cruz nao tera aceitar convidar dizer participar golpe alar cruz nao morar nunca fazer brasil bem morar fazer nado fazer brasil fazer haiti',\n",
              " 'contradicao politicar_interno politicar_externo governo_petistas politicar_externo quase impecavel gravissima excecao haiti politicar_interno fortalecer base reacionarias burguês pro otan vez vao pressionar n_esse direcao',\n",
              " 'ultimar_vez cena d_este haitiano querer passar mulher achar brasileiro mandar dinheiro este apaixonar vigiar pois usar foto mulher ligar rapaziada',\n",
              " 'frequentar cidade desde trabalhar dizer sempre grande recife rico outro onde pobreza visto grau tao elevar parecer haiti desigualdade matar',\n",
              " 'haiti italia costa_rico chino noruega haiti lindo italia gente bom costa_rico gente bom chino perfazer noruega fofar',\n",
              " 'comprar negociar haitiano moca falar maracuja pois certeza algum tipo pingar nao possivel ir ser obrigar pesquisar_google porque nao lembrar nome',\n",
              " 'camera gas usar estar_unir execucao prisioneiro condenar iniciar_seculo ainda ano executar n_aquele pai condenar tambem usar napoleao acabar rebeliao_escravo haiti portanto',\n",
              " 'ler_artigo nyt sobrar haiti dividir franco querer ver perspectivo economista sobrar otimo algo querer estudar fundir recomendar_artigo odious debt seema jayachandran michael kremer',\n",
              " 'amor nao saber dividir haitiano',\n",
              " 'galera santo_andre ter feirar nacoes aka pre festa_junina igreja matriz rosa muito comido gostoso varios_paises diferente varios feito imigrante japao chile sirio uganda haiti acabar comprar lanchar kafta delicioso',\n",
              " 'agarrar boto agarrar haiti aqui',\n",
              " 'chegar haitiano obraa bglh cortar_coracao mlk contar_historiar',\n",
              " 'moco haitiano convidar vacar pra dancar nao gostar entregar nome caro pros traficante matar',\n",
              " 'saber seguir senhor fantasma cadaveres deixar haiti',\n",
              " 'haiti liechtenstein cabeca abaixar',\n",
              " 'exato sobrar haiti verdadeiro pesadelo tao_ruim autor basicamente falir revolucao afetou branco',\n",
              " 'konate parecer atar ryan coutar',\n",
              " 'primeiro vitoriar historiar perolar time criar partir trabalhar ong haiti seriar brasileirao',\n",
              " 'daq_pouco raiar ir entrar ir mudar jogar',\n",
              " 'mear duvidar dps d_esse primeiro tempo',\n",
              " 'bozo fazer virar haiti',\n",
              " 'virar haiti filho povo nao que comer',\n",
              " 'rir agora este resende nascer projeto_social vivo_rir haiti',\n",
              " 'avisar_navegante reprimir revolucao haitiano napoleao mandar gal rochambeau exterminar mil escravo haitiano poroes naval usar gas enxofrar bandido prf ter precursor protonazistas',\n",
              " 'carvajal marcar gcm cima haitiano bras diaz tentar',\n",
              " 'nao existir marechal servir missao_paz haiti',\n",
              " 'comunismo abraca george_bush mandar exercitar_brasileiro mandar imperialista ocupar pai sabotar haiti',\n",
              " 'mandar missar bandido zelenskyy agora liberdade criminoso azov deixar europeu passar_fome povo paises_pobre africa haiti sirio',\n",
              " 'postagem tolo generica pouco objetiva colocar travar dificeis querer checar operacao designar alguem juntar policiar gen_heleno sugerir camarada haiti assim sera encarar',\n",
              " 'ascensao hitler norte_americano trump anedota comparar vir seguir sera hitler putin norte_americano imperador eua comeca conquistar haiti razoar humanitarias cubar',\n",
              " 'ainda assim see contra cotar tempo ter escrever haiti comk dizer sueli superar',\n",
              " 'principalmente d_aquele escovar dizer mercar expandir chegar atar haiti',\n",
              " 'refrescar_memoriar nao exatamente modus_operandi general_heleno missao_paz enviar haiti governar presidente lula',\n",
              " 'onu responder sobrar estupro boina_azul haiti atar agora nao respostar variar acusacoes pedofila trocar_comido tropa',\n",
              " 'impagavel sueli_carneiro revelar pro manir_brown caetano assinar_manifestar contra cotar haiti aqui nariz',\n",
              " 'haiti unico_pai africanar viver africa contar_ironia',\n",
              " 'acontecer virar haiti pegarao familias partirao onde enviar futuro geracoes garantir',\n",
              " 'brasil sexto maior_economia mundo agora nao conseguir empatar crescimento haiti culpar brigadasdigitaisdacut',\n",
              " 'caetano_veloso dizer haiti aqi fazer lula livrar assinar_manifestar anti cotar esquerdo_direito baixar complementar frase dizer alar_d isso preto',\n",
              " 'ir pagar viagei ontem pro haiti dois caminhar cada falir',\n",
              " 'ir comentar governar feito grande investimento forcar_armar caca submarino etc intervencao_externo minustah portar_principe haiti alguem lembrar politicar_encarceramento controlo classe plantar ventar colher tempestade',\n",
              " 'caro haiti clonar cartao',\n",
              " 'nado receber_mensagem haiti',\n",
              " 'desonestidade impressionante digno goebbels homunculo fardar haiti esperar',\n",
              " 'preco golpe brasil hoje pib_per capitar_menor governar dilma ainda pib brasileiro bolsonaro este abaixar haiti',\n",
              " 'cidadao frances sequestrar capital haitiano',\n",
              " 'dividir golpe colonialismo haiti franco estar_unir sao instar pagar_reparacoes ter destruido pai ver',\n",
              " 'colocacoes perfeito missar haiti reorganizar partir militar missao reagrupar fortalecer militar enquanto forcar politicar ali voltar nao ter interessar sempre objetivos_politicos forcar conseguir',\n",
              " 'Parfois vous devez jouer rolar imbecile pour tromper les imbeciles qui pensent ils vous trompent haiti',\n",
              " 'ontem pegar_uber boston comecamos papar ingles descobrir haiti começar falar frances responder frances mudar pro espanhol responder espanhol oui mear obrigar final',\n",
              " 'situacao cracolandia este show demagogia asqueroso prefeito_governador sao dois lixo dois escoriar piorar traficante internar todo nao vago internar poder criar vago haiti situacao assim',\n",
              " 'general delirio ir levar pra camisa forcar fazer justica inclusive haiti ir pra cadeia',\n",
              " 'portugal dois ano preco derivar trigar nao subir exemplo tanto ruim igual brasil varios ucrania haiti iemen_palestino afeganistao',\n",
              " 'caro mandar cantar crioulo_haitiano saber ir dar namorar',\n",
              " 'ver diario_oficial aqui principal paises origem pessoa naturalizar_brasileiro sirio haiti angola libano cubar egito guinar_bissau venezuela destacar nacional libia paquistao_bangladesh iemen',\n",
              " 'post pessoa dizer escolher passar ferir barcelona porque segundar astrologo local perfazer acordar mapa revolucao solar vidar passar mapa astrologico etc coisa nunca apontar pra guaianazes haiti carapicuiba',\n",
              " 'enviar helenao frotista haiti',\n",
              " 'alguem presidente tempo absurdo acontecer missao_onu haiti pessimo desempenhar alterar panorama guerra contra drogar sistema_carcerario etc tambem perverso politicar perversidade',\n",
              " 'bater desesperar nao mumia sera dificil largar mamata custar populacao canalha nao_esquecamos gritar_pego centrao assim vcs fazer haiti',\n",
              " 'haiti recaidinha seis milhoes',\n",
              " 'pra ver brasil sotaque facil entender haitiano falar_portugues doq baiano',\n",
              " 'stf dubai mear haiti logico haiti brasil atar',\n",
              " 'manir pegar bau haitiano foder falir lingua comecam dar trela saber tao rir',\n",
              " 'parecer jaqueta haitiano vender centrar',\n",
              " 'cubar_venezuela brasil virar haiti',\n",
              " 'nao dizer apartheid aqui desculpar soar diferente o falir pai haiti congo saber ruim populacao',\n",
              " 'vizinhar haitiano todo mes pct cafe caboclo vir cesta perguntar nao tomar_cafe dizer nao tomar_cafe preto ir entender',\n",
              " 'brasil maior_economia mundo agora nao conseguir empatar crescimento haiti culpar',\n",
              " 'citar revolucao haitiano lembrar aula sociologia',\n",
              " 'usar dar pesquisar academicas relatorios financeiro orcamentos governamental reunir investigacao historica impressionante franco tirar dinheiro haiti forcar prejudicar economia pai_caribenho',\n",
              " 'medo_haitianismo aproximar haiti',\n",
              " 'pra ganhar euro msm nao abrir templo haiti',\n",
              " 'vez qaeda fazer buracar colocar nitratar amonio fundir fazer sismo matar_milhar pessoa haiti vez presidente haiti querer oferecer vacinar_populacao assassinar',\n",
              " 'deus nao julgar_pecar entao doque dizer sas milhar_pessoa ceifar tsunami_japao terremoto matar_milhar haiti dizer corona_virus quase_todo populacao mundial',\n",
              " 'queimar sueli_carneiro caetano nao espaco pra mudar idear haiti escrito',\n",
              " 'lembrar recentemente ventilar giria militar general brasileiro manter_contato grupar mercenario assassinar presidente haiti nao mero saudacao',\n",
              " 'perguntar inevitavel nao expulsar eua massacre sirio_afeganistao iraque angola america_central haiti servir libia lista continuar esquecer hiroshima_nagasaki',\n",
              " 'voce proximo destinar ciro apo eleicoes parir haiti crato',\n",
              " 'nunca pesquisar general_heleno fazer haiti',\n",
              " 'nyt lanca luzir sobrar resgatar pagar haiti franco independencia ver',\n",
              " 'pássaro azul nao explodir ir falar bonito mandar pessoa honesto realmente trabalhador sair favela fazer igual haiti pedir pássaro azul detonar',\n",
              " 'mourao general criar lula envolver brasil conflito haiti ilusao brasil ser membro_permanente conselho_seguranca onu',\n",
              " 'gijn top jornalismo dar investigacao bilhoes perdido haiti visualizacoes numerar_morte covid eua crescente desigualdade riqueza asia ler resumir historiar popular maio',\n",
              " 'ultimar noticiar bom haiti revolucao_escravo menos ano pandemia_covid terremoto sequencia seriar tornar furacoes matar_presidente diverso milicias matar territorio praticamente existir lei',\n",
              " 'video sobrar minustah explicar motivo levar governar_lula autorizar_enviar tropa haiti spoiler nao causar acento conselhor seguranca_onu',\n",
              " 'formar perfeito humanizar bravo_soldar sacrificar povo haitiano poder libertar gangue dominar pai claro pobreza assim denunciar_estuprar envolver menor chacinar cair_esquecimento',\n",
              " 'papel caldeirao_huck programar produzir especial proprio apresentador ir atar haiti apresentar telespectador dia dia missao_paz brasileiro entrevistar soldar mês_longe familias',\n",
              " 'jogar paz partir realizar selecao haitiano selecao_brasileiro recem penta campea mundo contar presenca craque ronaldo_ronaldinho gaucho partir ocorrer praticamente mes antar criacao minustah',\n",
              " 'dois elemento vao importante criacao imagem_positivo missao liderar brasil haiti futebol caldeirao_huck ir primeiro agostar realizar ficar conhecer jogar paz haiti',\n",
              " 'dois imagem acima feito haiti durante missao_onu estabilizacao paz pai minustah liderar brasil durante todo tempo missao existir nao pouco denunciar contra forcar liderar brasil',\n",
              " 'suspeitar_participar homicidio haitiano presar policiar civil manha_d este_sexto feirar curitiba',\n",
              " 'haiti amp auschwitz pau caido todo_mundo fazer graveto onca morto atar cachorro mijar n_ele onca morto todo meter_dedo bunda',\n",
              " 'nunca italia_portugal eua rep_dom haiti agora morar franco dizer portugal brasil europa sim franco poder atar ser desorganizar nado comparar corrupcao portugal contar poder comprar',\n",
              " 'nacoes_unir lembrar caraibas viver fluxo crescente migrante_refugiar dever instabilidade_politicar inseguranca socioeconomica enfrentar paises haiti honduras',\n",
              " 'eis receber d_esse proposto trabalhar numerar haiti olhar status cidadao totus tuus ego sum vierge marie omnia mea sunt atar brothers christ querer passar perna poder',\n",
              " 'independencia haiti esmurrar independencia eua todo aspecto vcs achar repercutir ninguem pronto pra converso',\n",
              " 'encontrar marteli reunioes crioulo onibus crioulo_haitiano super enferrujar ainda conseguir conversar ficar_feliz',\n",
              " 'salvar aquele dedicar fazer bom obrar medicar_zilda arns_morrer',\n",
              " 'aceitar candidatura beneficiar parceiro projetos menos diocese continente paises onde ajudar maior venezuela haiti cubar',\n",
              " 'clinton sao dono haiti controlar todo ourar_diamante plantio arroz nao novidade dinheiro doar fundacao_clinton reconstrucao_pos terremoto desviar cavar fundir ficar mal',\n",
              " 'quase_chorar ir vovo pro haiti ir deixar saudade',\n",
              " 'apesar humilde tentativo mexer vespeiro n_esse periodo inclusive terriveis politicar seguranca_publicar ocupacao_morro tambem forcar_paz haiti',\n",
              " 'querer ver coisa n_esse lista este dumornay certeza colocar dumornay porque fazer chover sub haiti empatar eua concacaf nigeriano exemplo jamais saber existencia',\n",
              " 'haitiano morto porque mulher nao quiz dancar curitiba',\n",
              " 'suspeitar_matar haitiano casar_noturna presar curitiba',\n",
              " 'policiar civil prender_suspeitar homicidio contra haitiano curitiba',\n",
              " 'ler_sobrar haiti descobrir coisa absurdo caralho ir_fuder franco',\n",
              " 'policiar_prender suspeitar_matar haitiano saida bar_curitiba',\n",
              " 'homem presar_suspeitar ser mandante_assassinato haitiano balear apo convidar mulher dancar curitiba',\n",
              " 'ler historiador dizer rev haiti possivel causar febre_amarelo ficar clr_james historiador culpar principalmente febre sao_domingo ser unico local mundo onde imperialismo europeu deparar febre',\n",
              " 'perder haiti atar terra_tremer lugar preguica',\n",
              " 'desempenhar excelente ter mal crscimento americas perder pra haiti favor procurar_informacoes confiaveis verdadeiro mentira desseminada ministerio carluxo goebbels bolsonaro cansar',\n",
              " 'tai lula pra resolver cabo_rabo postagem brasil bolsonaro mal_crescimento america america_latino atro atar haiti',\n",
              " 'inglesar usar campo_concentracao africa antar hitler nascer genocidio belga_congo matar mesmo pessoa holocausto milhoes colonizador_francês usar camaras gas pra matar nativo haiti',\n",
              " 'ourinvest empresar venezuelano haitiano espalhar brasil vender corrente ourar real',\n",
              " 'acabar fazer entrevisto advogar lider ong pai_caribenho pierre bruny fatores imigracao realidade escolher sair haiti ter brasil destinar',\n",
              " 'the_new york_times flagelar haiti raizes tambem invasao eua orientar wall_street',\n",
              " 'flagelar haiti raizes tambem invasao eua orientar wall_street',\n",
              " 'veneravel_cardeal dizer tanto_espiritar feto_nenhum marginal veloso caetano haiti',\n",
              " 'pcpr prender_suspeitar homicidio contra haitiano curitiba',\n",
              " 'frances haitiano diferente escutar pprt parecer gay',\n",
              " 'haiti querer ser aqui',\n",
              " 'amarrar imigrante haitiano trabalhar aqui firmar totalmente fodase idear descer pra tomar_cafe encontrar copar simplesmente tomar_cervejar manha pleno hoario trabalhar braba demais',\n",
              " 'brasil rebaixar haiti aqui auschwitz aqui medo',\n",
              " 'presar_suspeitar mandar matar haitiano ciumar saida bar_curitiba imagem cameras_seguranca mostrar momento disparo ler',\n",
              " 'lembrar amistoso_selecao brasileiro haiti palestino achar futebol politicar',\n",
              " 'sueli mandar ligar bem referenciar caetano ter assinar_manifestar contra cotar onda cantar haiti aqui',\n",
              " 'amigar venezuelano sofrer muito xenofobia aqui entao nao akakakak haitiano sofrer_racismo alar ser_julgar mal conseguir falar_portugues',\n",
              " 'mulher mandar matar rapaz haitiano ter tentar dancar caralho sociedade doente bandido infernar',\n",
              " 'tocar_caixa bolsonaro ir recriar todo ministerios epoca pra poder ganhar centrao haitiano avisar bolsonaro_acabar voce nao presidente',\n",
              " 'novo ligacao casar design schumacher chamar cul sac victor glemaud ode estetica clean designer bem heranca caribenha colecao trazer veludo cortar geometrico toile totalmente novo shibori hibisco flor nacional haiti',\n",
              " 'apicultura_ajudar recuperacao_economica haiti',\n",
              " 'achar imigrante haitiano senegales tratar brasil bem igual italiano igual ingles gente ir acordar racismo existir brasil mito brasileiro cordial supimpa turista mundo tambem',\n",
              " 'cada barrir petroleo produzir mundo sao produzir estatal desastre incomensuravel acontecer paulo_guedes permanecer ministerio economia quatro_ano brasil vir haiti vassalo senhor feudal fazer limar',\n",
              " 'fazer pesquisar descendente africa francofana haiti ver tambem tipo banheira hotel luxar',\n",
              " 'imaginar sacanagem orar gasolina brasil mito vendido dolar pois petrobras seguir mercar internacional real gas_cozinhar entao produto basico real alimento cenoura real potenciar igual haiti',\n",
              " 'achar gente preciso defender tanto imagem rei neymar patrimonio selecoes haiti existir feriar pai simplesmente ter fazer_gol enquanto gente receber privilegiar morar pai penta_campeao mundo',\n",
              " 'lembrar tratar bem estrangeirar pai rico perguntar pra haitiano venezuelano sao tratar lado bom nao consenso populacao ser amigavel seletivamente',\n",
              " 'basto_olhar brasao pmerj exemplo saber porque ter ser criar ramo cano_acucar lado cafe outro forcar desenvolvido proteger grande latifundiarios escravocrata influenciar medo novo revolucao haitiano',\n",
              " 'depender gringo acolhedor europeu norte_americano nao acolher tao bem povo africa haiti timor_ler',\n",
              " 'sequestro massa aumentar haiti longo semana estrangeiro haitiano sao vitimar d_esse crime trocar indenizacoes ser barganhar gangue sequestro aumentar instabilidade violencia aproximar pai guerra_civil',\n",
              " 'menor quietao irmao ver',\n",
              " 'direito cretino querer moderacao radicalizar injusticas plantar minar_terrestre nao_adiantar arrotar burke citar russia haiti exemplo revolucoes dar errar tomar_vergonha defender justica assim radicalismo sera derrotar',\n",
              " 'copar_confederacoes espanha haiti',\n",
              " 'fazer só colocar nome bandido',\n",
              " 'sempre nao tankando bostil lembor menos nao nascer haiti',\n",
              " 'caetano dizer haiti aqui_gustatatavo dizer aqui',\n",
              " 'genivaldo negro esquizofrenico verdadeiro cidadao_bem brutalmente_assassinar dever proteger enquanto familia chorar brasil calar diferentemente morte george_floyd cantar haiti aqui',\n",
              " 'nao haiti auschwitz agora tambem aqui balaio kotscho liberdade matar rotina barbarie pai genivaldo bols ver',\n",
              " 'escalar nado atar quantum confiar policiar_nacional seguir situacao brasil perspectivo comparar partir dar brasil perder nicaragua colombia haiti todo escorar',\n",
              " 'livro prateleiro livrar foto guerra haiti estante bicicleta cadeira dizer consertar mesa dizer consertar skate colocar parede garrafa mesa ajudar montar manir',\n",
              " 'sofrer twitter rir cavalar haitiano grupar',\n",
              " 'forcar empregar haiti despontar exemplo ser seguir qualquer possibilidade rebeliao_escravo respondido sangue negro chao premiacao repressor n_esse logica surgir policiar_militar rir_janeiro nao coincidencia',\n",
              " 'ouvir_silenciar sorridente_sao paulo_diante chacinar cento_onze preso_indefeso preso sao quase_todo preto_quase preto_quase branco_quase preto_tao pobre pensar haiti rezar haiti haiti aqui haiti nao aqui',\n",
              " 'querer ler literatura haitiano comigo',\n",
              " 'brasil bolsonaro mal_crescimento america america_latino atro atar haiti',\n",
              " 'kamamajajahaoakakakakj haitiano castelo literalmente nado casar dboa sala nado',\n",
              " 'tramar acompanhar claire limye lanme dia aniversariar ano entregar vendedor tecido haitiano pai futurar melhor enquanto pensar comecar vidar exterior',\n",
              " 'edwidge_danticat nascer portar_principe haiti ano comecou ser cuidar tio porque pai mudar estar_unir pai onde morar posteriormente ano dificuldade adaptar encontrar escrito refugiar',\n",
              " 'lloris descendencia espanholar catala kounde beninense varane martinica upamecano bissau guineense kimpembe congolês haitiano tchouameni camaronesa pogba guineense hernandez espanholar griezmann portuguesar alema mbappe camaronesa argelino benzema argelino',\n",
              " 'violencia regime escravidao nao restrito brasil todo regioes sob julgar colonial neocolonial marcar violencia contra populacoes negro populacao_negro rebelar revolucao haitiano ficar marcar violento',\n",
              " 'veem tanto_espiritar feto_nenhum marginal trecho haiti caetano_gil',\n",
              " 'caro senador sera tanto outro lembrar jacarezinho haitiano barrir_tijuca entao dara nado virar outro esquecer brasil tragediar constante',\n",
              " 'auschwitz aqui haiti aqui',\n",
              " 'haiti nao aqui sicilia',\n",
              " 'pensar esperanca geral aqui bolhar partir militarizar morro upps caveirao exercitar morrer vao contar falar haiti nao_esquecam haiti',\n",
              " 'sentir projeto modernidade haiti baixar',\n",
              " 'bolar dentro nyt muito materias reacas haiti unico_pai mundo onde descendente_escravo obrigar_pagar reparacao descendente senhor_geracoes',\n",
              " 'gente absurdo populacao haiti pagar geracoes indenizacao descendente d_aquele escravizar',\n",
              " 'proteger esteirar diverso movimentar resistencia preto indigenas pai principalmente revolucao haitiano comecam armar politicar contrarevolucao permanente basear repressao_violento d_aquele poder revoltar colocar',\n",
              " 'carnaval virtual escola serpentar ourar grupar acesso enredar puro voodoo benin novo_orleans haiti revolucao negro contato instagram',\n",
              " 'abuso decorrente missao haiti implantacao upp devir_ser frutar imaginacao ir falar policiar bahia',\n",
              " 'deixar paulo_guedes ano ministerio economia brasil transformar haiti iemen porque pobreza ir ser tanto ir espalhar ir tirar tanto direito saber atar lei_aurea',\n",
              " 'opar cardapio variar amigar aqui burundi passar_necessidade almoçar iguaria haitiano biscoitar_barrir',\n",
              " 'diante total derrocar monstruoso multiplas destruicoes imposto terra abandonar onu pensar tomar haiti triste postar mal_idh americas',\n",
              " 'haitiano derrubar murar escola acidentar consertar tudo cidade renato igor nsc_total',\n",
              " 'concordar_comigo pra ter idear este ruim ter atendimento bom sistema seguranca eficaz imaginar nao colapso tornariamos igual bolivia haiti mexico lei',\n",
              " 'apontar mapa onde ficar italia haiti bolivia_venezuela pra atividade irmao achar ser onisciente',\n",
              " 'nao haiti nao aqui infernar aqui',\n",
              " 'opt ter capitalizar estruturar petrobras ter mandar exercitar dar imperialista haiti vender reservar estrategica gas ter aberto conchavar igual fhc mensalao lula ser cacado seguir modelar_economico conhecer agendar_neoliberal fake_news',\n",
              " 'receber alguem preto guri haitiano vao cima pai',\n",
              " 'lembrar concacaf nao usar mexico belice barbar trinidad_tobago haiti republicar_dominicano grande_maioria nao futebol_profissional',\n",
              " 'acontecer brasil genocidio materializar escancarar populacao_negro utilizacao artificios crueis chegar fim nao novidade camara gas assemelhar utilizar revolto haiti guadalupe alemanha_nazista',\n",
              " 'debs exercitar_brasileiro experiencia tipo pacificacao exemplo trabalhar haiti odiar sairam amar populacao claro trabalhar longuissimos ano muito atuacao militar social',\n",
              " 'brasil ter envoluido desde dever_agradecer corrupto poder economico mercar grande_midias temer centrao bolsonaro militar qual serao alvo ser atacar brasil existir milicias_armar bolsonaro colombia haiti existir aqui',\n",
              " 'caetano dizer haiti aqui_gustatatavo poder dizer aqui',\n",
              " 'fazer haiti sera aplaudir atar fim vidar europeu',\n",
              " 'achar lindar venezuelano haitiano falar_portugues fluente vontade ouvir dia todo',\n",
              " 'hoje haitiano chamar macici alar chamar macho chamar gay lingua',\n",
              " 'apo ano governar bolsonaro brasil seguir paises menor liberdade_economica mundo america proximos haiti irar quenia cubar chile_peru colombia uruguai governar liberal',\n",
              " 'haiti ainda aqui juntar alemanha tabata amaral autor projeto embriao destruicao institucional promover fascismo militar miliciano tras privatizacao eletrobras estao banco nacional adivinho banco norte_americano achar pouco',\n",
              " 'dizer caetano_veloso haiti aqui',\n",
              " 'invasao haiti governar_lula operacao alemao tambem implantacao upps tambem ruir costa joao campo sao esquerdo gente esquerdo aliar alckmin eduardo paes doria esquerdo liberal tambem assassino',\n",
              " 'tao vergonhoso general condecorar mundo todo heroi brasileiro informar falar haiti nao',\n",
              " 'nao ir falar haiti onde brasil historiar horror vergonha puro_incompetencia',\n",
              " 'conversar ouvir entrevisto bem nao politicar haiti ser comandante conversar longo horar assistir sempre entrevisto favor generalizar nao respeitar posicao',\n",
              " 'nao nao lembrar tonton_macoute milicia nefasto papar_doc criar caos falencia social haiti bolsonaro querer ser papar_doc brasil',\n",
              " 'processo importante mundo contemporaneo revolucao haiti episodiar historico completamente unico sintese mundo iluminista revolto percepcoes revolucionar povo negro jacobino_negro melhor definicao possivel',\n",
              " 'tratar d_isso instituicoes possuir cultura interno ter povo pobre inimigo policiar brasil criar_joao pra defender fazendeiro evitar revolucao haiti basto_ver hoje brasao pmrj cano cafe',\n",
              " 'ouverture guerreiro escravizar liderar revolucao haitiano revolucao derrotar_colonizador francês_espanhois estabelecer primeiro_republicar negro livrar logo_apo morte',\n",
              " 'senhor nao exitou trazer_zika virus brasil terremoto haiti coronavirus mundo tudo nao achar arrependimento coracoes quantum continuar fazer um arrepender',\n",
              " 'candidatar pra governar sao_paulo pra ainda nao conhecer apresentar futurar_governador sao_paulo tarcisio_gomar freitas fazer partir missao_paz onu haiti saber caos verdade sao_paulo sera bem cuidar',\n",
              " 'brasil tempo bom futebol brasil sambar brasil bom carnaval mundo_inteirar vir divertir agora virar haiti jair presidente genocida montar militar mal_carater montar policiar canibal matar preto_pobre prazer',\n",
              " 'joseph_philippe lemercier laroche maio abril engenheiro haitiano educar parir unico passageiro conhecer ancestral_africano malfadar viagem inaugural navio titanic',\n",
              " 'pandemia mundo todo cepal_preve brasil tera_mal crescimento_america latino panama venezuela colombia guatemala_uruguay bolivia cubar argentino peru mexico chile haiti brasil',\n",
              " 'caetano dizer haiti aqui_gustatatavo poder dizer aqui',\n",
              " 'caetano dizer haiti aqui_gustatatavo liiima dizer aaalemaaanha aqui acima_tudo',\n",
              " 'caetano dizer haiti aqui_gustatatavo dizer aalemaanha aqui',\n",
              " 'melhor tudo contar escravo ficar franco fazer haiti hub distribuicao adivinho comprar africa principalmente nigeria britanica produzir franco distribuir america consumir',\n",
              " 'acusar transformar pai venezuela bolsonaro transformar haiti',\n",
              " 'haitiano gostar tanto macarrao',\n",
              " 'franco apoiar_golpe vergonha eua nao esperar outro coisa povo haitiano sofrer tal defeso liberdade',\n",
              " 'indenizacao_bilionaria pago escravo_liberto senhor este origem miseria haiti franco repetidamente subestimar distorcer enterrar assunto',\n",
              " 'resultar d_esse bostar governar bozo genocida instituicoes seriar agora dominar bandido miliciano tocar_terror haiti aqui',\n",
              " 'alar tio_rei nado contra metafora querer imortal gil achar emblematico editorial coisa voce iriar terminar divino apocaliptica haiti desculpar_desabafar',\n",
              " 'previsao pib brasileiro menor haiti',\n",
              " 'previsao pib brasileiro conseguir ser menor haiti',\n",
              " 'parceria victoria pacheco escrever sobrar terremoto ocorrer haiti trazer_panorama historico geografico d_este pai',\n",
              " 'esconder vezar elemento surpreso policiar evitar ordem dar operacoes comecam madrugar impedir tatica policiar usar taticas particularmente usar exercitar city solei haiti haver modus_operandi',\n",
              " 'haiti aqui bozo mandar matar aplaudir',\n",
              " 'estonia eswatini essuatini suazilandia etiopia fiji_filipino finlandia_franco gabao_gambia ganir_georgia granar_grecia guatemala_guiana guinar_guinar bissau_guinar equatorial haiti holanda honduras_hungria iemen india_indonesia inglaterra',\n",
              " 'valer_peno lembrar ultimar festa cultura brasil haiti',\n",
              " 'ainda ficar rir comido_tipica haiti pai original coitar',\n",
              " 'aham deixar filhar nao vir haitiano tudo genetica baby ir vir beyonce igual mae kkkkkkk',\n",
              " 'brasil genocida mal_crescimento america_latino atro atar haiti brasil bolsonaro mal_crescimento america america_latino atro atar haiti',\n",
              " 'manir caro querer gravar comigo haitiano mal falir_portugues',\n",
              " 'trauletada manir river vir pra brigar ein fodase time fraco poder ser quarto_divisao haiti time grande fazer',\n",
              " 'sempre assim republicar_banana feijao armar aumentar diesel desbastecimento empregar direito_trabalhista desempregar almoco_jantar extremo_direito esquerdo venezuela haiti viver morrer n_este ultimar nao direito escolher opcao',\n",
              " 'franco defender liberdade_igualdade fraternidade burguês pai ditadura_sanguinarias paises colonizar ler_sobrar revolucao haitiano ler_sobrar tunisia_argelia marrocos etc',\n",
              " 'literalmente conhecer haitiano morar brasil',\n",
              " 'sempre perder guerra cristaos senao iriar fazer igual revolucao haitiano onde macumbeiro maior_numerar fazer massacrar',\n",
              " 'sempre perder guerra cristaos senao iriar fazer igual revolucao haitiano onde macumbeiro maior_numerar massacrar francês menor numerar',\n",
              " 'conhecer haitiano daora demais falir_linguas',\n",
              " 'segredar franco saquear haiti servir construcao torrar_eiffel avenida champs_elysees outro ponto turisticos parir haiti pagar_dividir orcamento nacional custar educacao_saude estrar_ponte',\n",
              " 'imaginar franco abrir_mao canada pra ficar haiti riqueza minerar',\n",
              " 'indenizacao_bilionaria pago escravo_liberto senhor este origem miseria haiti acordo desonesto dividir gigantesco corrupcao generalizar resultar deficits orcamentarios problema social moldar pai_caribenho',\n",
              " 'haitiano aqui o_onde trabalhar dizer ir dar iphone carro casar serasi deus',\n",
              " 'trocar rir nojeira haiti',\n",
              " 'traficante ser humano madre_teresa verdade homem pai fauci traficante criancas vender criancas ganhar milhoes ano vaticano lacos theresa incluir baby_doc duvalier_ditador haitiano',\n",
              " 'polonia nao amedrontar haiti',\n",
              " 'traficante ser humano madre_teresa verdade homem pai fauci traficante criancas vender criancas ganhar milhoes ano vaticano lacos theresa incluir baby_doc duvalier_ditador haitiano charlar keating',\n",
              " 'melhor aspecto governar fhc ter sucateado gente mal lula ter dar prestigiar missoes haiti maior desafiar segundar governar_lula sera devolver pastar voltar tubo primeiro acoes terao ser contundente',\n",
              " 'tava duvidar colocar haiti caribenho latinar falir lingua latino realmente muito aspecto sao caribe latinar',\n",
              " 'menos paises crecimento economico brasil atar haiti este melhor brasil',\n",
              " 'outro jogador bom galera brasil nao conhecer ainda chamar skal labissiere haiti companheiro equipar experiente barea',\n",
              " 'compartilhar motorista haitiano segundo passageiro igualmente haitiano usar muleta avenida getulio_varga ir descer pedir pra entrar estacionamento sao_jose nao entrar faixar estacionamento ruir',\n",
              " 'invadir invasao querer falar iraque_afeganistao vietnam reinar havai cubar portar_rico filipino_panama honduras_nicaragua haiti republicar_dominicano somalia_iemen etc_etc tudo eua ucrania outro amigar direitoso putin federacao russo',\n",
              " 'satanismo tambem segundar william schnoebelen magia_negro perigoso voodoo haitiano candomble ubanda mal quimbanda tambem pesar mexer demonios nao algo brincar',\n",
              " 'sobrar fazer doutorar maior instituicoes mundo amigar haiti vir visitar surpreso amigo todo lugar mundo gente aqui',\n",
              " 'colocar haiti caribe tambem restar este perfazer',\n",
              " 'trecho_musicar caetano_veloso haiti nao deixar ser sentir',\n",
              " 'jornal eua dia fazer materia_sobrar politicar colonialista_francês destruir haiti nado falar sobrar politicar colonialista eua perpetuar desigualdade hoje frances trocar coisa',\n",
              " 'ministrar nao querer sair candidatar estar natal capitao pro haiti onu abandar estar rir_janeiro pra ser candidatar estar',\n",
              " 'modus_operandi militar ter legar ocupacoes_militar criminoso haiti amazonia instituicao civil pms precisar ser contido desmilitarizar urgentemente oferecer riscar estabilidade institucional democratica',\n",
              " 'sim heleno acusar massacrar haiti considerar crapula general considerar assassinar',\n",
              " 'racista haitiano porque assar venezuelano_cubano outro_paises haiti republicar_dominicano nao viver sim haiti comprar nado santo_domingo republicar_dominicano futidos',\n",
              " 'pesquisar_sobrar epoca achar materia motorista_app servir forcar_armar ano haiti coincidentemente sobrenome italiano achar criminoso ser morto nao entender pobreza descasar levar violencia',\n",
              " 'contar pra voces voltar pra casar app servidor forcar_armar haiti sob_ordem gal_heleno suspeito estuprar vinganca praticar cultura haitiano morto rastro pra nao dar onu caro nao aceitar direito vidar',\n",
              " 'guerra_ucrania sirio haiti general_heleno tao violento quantum guerra general_braga neto_interventor temer rir jamais atacar territorios milicias',\n",
              " 'caro acabar absolutismo frances dizer ruim falar franco haiti',\n",
              " 'pensar haiti rezar haiti haiti aqui haiti nao aqui aqui haiti grande senador emocionar abs',\n",
              " 'sobrar operacoes otan imperialismo mapa mundial ingenuidade desconsiderar governar eua fazer panama_nicaragua salvador_honduras guatemala ano afeganistao_iraque sirio_libia haiti varios_paises ano',\n",
              " 'uber haitiano argentino apaixonar brasil ensinar xingamento frances',\n",
              " 'rico eua estao todo sair pra pro haiti entender logica',\n",
              " 'dar_protagonismo enviar_tropa treinar chacinar haiti estao tocar projeto desde_entao',\n",
              " 'esse vir caquetico nao inteligente dividir ser cobrar vidar casar haiti nao responder nado atar_hoje',\n",
              " 'algum cretino tuite reportagem nyt coragem dizer haiti parar pagar assim nao fazer nado d_isso',\n",
              " 'falir crioulo_haitiano haiti lindinho',\n",
              " 'cade tweets subir guerra convencionar hibridar sirio venezuela iraque_afeganistao congo inumero paises_africa libia haiti brasil outro_paises estao ser pilotar estar_unir cegar convir',\n",
              " 'indenizacao_bilionaria pago escravo_liberto senhor este origem miseria haiti',\n",
              " 'embaixador franco revelar golpe haiti derrubar presidente aristides armar eua franco triste revelacao imaginar d aqui oito_ano ir saber orquestrar golpe contra dilma',\n",
              " 'incrivel estudar movimento haiti',\n",
              " 'panama haiti paises sofrer africom etc',\n",
              " 'haiti sao rarissimos iphone postar inverdade',\n",
              " 'haiti literalmente unica independencia america_latino ser feito participacao elite atar_hoje pai sofrer vir intelectual falir revolto anti_escravista forcar basear religiao_voodoo massacrar contra branco',\n",
              " 'ilustrinhas fazer pra livrar contar sobrar dois sobrevivente_terremoto haiti',\n",
              " 'indenizacao_bilionaria pago escravo_liberto senhor este origem miseria haiti cont',\n",
              " 'vergonha colonizacao branco capar nyt presidente haiti pedir devolucao descendente familias europeu perder escravo independencia pai vultoso indenizacao obrigar balir pobre liberto pagar acabar expulsar pai',\n",
              " 'indenizacao_bilionaria pago escravo_liberto senhor este origem miseria haiti mundo globo',\n",
              " 'ir ser claro tarso preferir acreditar instituicoes obviar general_heleno heroi d_aquele operacao libertador dirigir eua franco haiti bope chacinar tribunal morar tanto povo',\n",
              " 'waguinho policiar preciso ter mesmo garantir forcar_armar haiti bandido aparecer armar guerra frente atirar primeiro perguntar',\n",
              " 'conhecer musicar_caetano dizer haiti aqui',\n",
              " 'tomar diazepam trocar_fraldar geriatrica todo melar cantarolar caetanin haiti reuniao comandar vermelhar trafic portar_fuzil granar ops guardar_chuva bope chegar nado florir trocar balir vts molusco',\n",
              " 'departamento servico social federacao luterano mundial flm este coordenar construcao dez moradia familias perder casar terremoto_magnitude abater sobrar haiti ano passar',\n",
              " 'nao falir nao entender coronel falar puro_verdade rir d_esse decisao infeliz invadir verdadeiro mercenarios vir atar exterior africa haiti dizer metodo formacao exercitar guerrilhar',\n",
              " 'muito locar cemex estao proximos ponto traficar_humanar cemex fundacao_clinton capital loop haiti mundo todo patente misturar sangue concreto caminhar sobrar todo dia pessoa estao doente',\n",
              " 'selecao francês basco alemao argelino haitiano senegales congoles martinicano camarones espanhol guineense pasmar atar algum francês umar nacionalidade nao lembrar',\n",
              " 'carrapato corpo hospedar vir ivermectine perguntar sobrar covid resp soldar_brasileiro ensinar deus brasileiro agora saber haitiano total obitos pop total milhoes indice_obitos milhao',\n",
              " 'verdade citar partir cancao haiti caetano_veloso',\n",
              " 'pao salsicha breja churro pensar nao virar_venezuela virar haiti deploravel',\n",
              " 'historiar feliz_aniversariar toussaint_ouverture escravo liderar revolucao haitiano derrotar_colonizador francês_espanhois estabelecer primeiro_republicar negro livrar logo_apo morte',\n",
              " 'cascavel pra_mim preconceito dizer mulher sobrar falto atendimento haitiano acamar avc',\n",
              " 'ver sequencia tweets pessoa utilizar revolto contra escravidao haitiano supor exemplo racismo contra branco',\n",
              " 'aparecer gafanhoto trabalhar haitiano dar_risada nome gafanhoto dar perguntar chamar criolo dizer shuavandi',\n",
              " 'sentir caro pedir_desculpar ter xingar caro haitiano dps ficar expor aparencia mlk motivar diminuir nao mear hipocrisia',\n",
              " 'alguem fazer resumir revolucao haiti pra_mim moral',\n",
              " 'discutir guri facul falar haitiano vir roubar servico aqui brasil malucooo',\n",
              " 'documentario_sobrar revolucao haiti nuuu pasmar ainda inteligencia espiritualidade liderar',\n",
              " 'professor contar pro haiti surtir_ebola sala todo n_esse energia aqui',\n",
              " 'grandao genife anistrong seguir haiti',\n",
              " 'reflexo carnaval fazer_amizade haitiano falar vir brasil achar mulher andar pelar ruir ainda falir sao exemplo mulher pqp',\n",
              " 'nunca ninguem ser hippie ganir haiti sempre suecia_noruega dinamarca',\n",
              " 'curiosidade jogo lutar guilty gear nome ramlethal valentine poder ser fusao dois veiculos musicar album ram paul lindo mccartney bandar heavy metal lethal valer citar ram tambem nome bandar rock haitiano',\n",
              " 'lula negro gay palestino mulher lesbica trans boliviano haiti',\n",
              " 'sera haiti aceitar exercitar',\n",
              " 'cnn achar tragediar pois quase_todo sao preto_pobre tao_pobre preto sao tratar haiti aqui',\n",
              " 'passar pouco mal novo casimiro ir dar namorar caro primeiro gostoso aparecer falir crioulo_haitiano casar',\n",
              " 'regua dever_ser proprio relator pintar_bordar haiti general_heleno declarar milhoes_real bem ultimar eleicao',\n",
              " 'errar cbf_marcar jogo preparacao contra andorra haiti vietna enquanto caro jogar eurocopa',\n",
              " 'haiti principal colonia_francês populacao menor',\n",
              " 'malucar odiar haiti amar brasil',\n",
              " 'logica brasil concentracao_render entao bora taxar rico nivelar todo_mundo resultar todo_mundo pobre estilar venezuela cubar haiti',\n",
              " 'not estudar matematica ultimar horar porque achar professor ser misteriosamente raptar mafia haitiano',\n",
              " 'embaixador franco haiti thierry burkhard admitir golpe_estar ilhar orquestrar franco eua evitar entao presidente aristide cobrar reparacoes franco ter roubar haiti',\n",
              " 'torrar feito dinheiro franco roubar haiti',\n",
              " 'excelente_thread comentar materia_sobrar haiti ainda indicar comentar bibliografia sobrar temer',\n",
              " 'outro jornalista experiencia haiti casar especialista pai listou aqui todo novidade artigo tambem analisar faltar artigo recalcar academico classico',\n",
              " 'sair artigo times um dia atro sobrar dividir franco_impo haiti profissional bonzao gemer todo_mundo saber porra estadunidense medio nao saber nome todo estar proprio pai caralho saber haiti',\n",
              " 'tinir policiar precisar mesmo garantir forcar_armar haiti pegar armar guerra mao atirar primeiro perguntar geral',\n",
              " 'cincar ponto chave materias new_york times sobrar exploracao financeiro haiti franco traducao automatica google',\n",
              " 'times relembrar hoje datar fuzileiro_naval eua entrar ser banco nacional haiti sairam ourar operacao_invasao grande escalar haiti pai eua governar forcar bruto ano nunca esquecer',\n",
              " 'mudar montar branco declarar pardo educacao_basica raiz problema continuar mal haiti',\n",
              " 'exatamente nao_bastar haiti tambem localizar regiao instabilidade geologica quantidade_pessoa morrer terremoto_atingir portar_principe comparar populacao total haiti epoca completamente chocante',\n",
              " 'engracado venezuelano haitiano vir mao frente outro atro casar conseguir atar carro brasileiro cheio beneficios nao conseguir nado',\n",
              " 'dizer gil haiti aqui',\n",
              " 'noticiar bom nao parir chegar ir ouvir dizer haiti caro',\n",
              " 'ganrantia tiene haitiano muerto ir ver ocar ir virar olhar tienemos miedo exerco voce populacion puede lutar voces cuidar cuidar cuidar',\n",
              " 'haiti vergonhoso capitular_historiar nao dever deixar cair_esquecimento enslaved haitians did the seemingly impossible they ousted their french masters and founded nation',\n",
              " 'querer passagem pagar venezuela cubar haiti coreia_norte arabia_saúde poder escolher',\n",
              " 'homicidios sequestro violacoes onu dizer violencia atingir_niveis intoleraveis haiti',\n",
              " 'caro estupido demais entender existir sancoes_economicas haiti justamente escravidao continuar haiti falhar',\n",
              " 'segredar publicar sempre eua franco infernizar haiti desde assim',\n",
              " 'estuprar_criancas ano haiti torturar matar_milhar voce esperar lixar d_esse milicos merecer mal',\n",
              " 'lixo_humano estupradores_criancas haiti voces sao mal escoriar projeto nacao militar preve cobranca sus exploracao amazonia ver integrar',\n",
              " 'petrobras nunca problema sempre solucao turma direito assumir poder petrobras virar problema entao problema turma direito haitiano economia afegao costume',\n",
              " 'nao ir virar_venezuela nao mar_caribe nao sorvete efe nao arepa peitar nao crescer_menos haiti conseguir',\n",
              " 'otima lembranca ainda caso compensacao pago proprios_escravizar irmandade mostrar bem quantum sistema financeiro moderno construido dinheiro escravidao casar haiti proprios_escravizar',\n",
              " 'ainnn fantasma comunismu assim falar retardar_mental venezuela antar pai rico america_latino maior_reservar petroleo mundo pai miseria mal haiti',\n",
              " 'levar socar haitiano akkaka brinks',\n",
              " 'sao funcionarios exercitar cubano falar cabo brasil ir pro haiti escravizar',\n",
              " 'avisar haiti avisar banana nao subir',\n",
              " 'porra malucar ver bandar militar politicar lembrar minoria esquerdo falar dar merda enviar caro pro haiti colocar centralidade edn brasil potenciar vir grande_evento glo dar merda',\n",
              " 'paises_america latino brasil ocupar_lugar este abaixar paises costa_rico uruguai equador_chile acima cubar haiti venezuela',\n",
              " 'pra montar_castelo nao aguentar_minuto coeh caro merda gloriar exercitar catar corpo italia haiti quase perder pra haitiano ainda passar_vergonha pra',\n",
              " 'querer aqui haiti recorrente irar spartacus ailton benedito sousa',\n",
              " 'amar qnd professorar falir terremoto haiti lembrar pai',\n",
              " 'lembrar aqui pouco alcoolizar conhecer greta hyatt levar maior papar garcom haitiano frances realizar_sonhar mesmo horar',\n",
              " 'esquecer combinar povo dizer ir repetir ffaas devir_ser extinto necessario recriar novo base capitania hereditaria fardar nao produzir nado bom pro pai ainda fazer merda exterior haiti mulher_criancas saber',\n",
              " 'qdo haiti africa libano gente mandar',\n",
              " 'pois vasculhar twitter nao nenhum revolto contra drake chando haitiano sujar lord mil_grau chamar dono xbox mendigar saber caro lixar pra racismo_xenofobia etc fanaticos playstation liberar',\n",
              " 'tao tao_pobre quantum parceiro venezuela talvez precisar socorrer haiti',\n",
              " 'achar voce preciso informacao haiti nao pai_pobre mundo ksksksk pai_pobre americas',\n",
              " 'irmao rsrsrsrsr parecido gostar coisa bom sempre viver intensamente alpinista paraquedista militar haiti comandante santo_cruz presidente escola_sambar gravar disco pessimo surfista rsrsrs viver viver',\n",
              " 'cada pai especificidade exemplo analisar outro_paises afeganistao haiti africa_sul ajudar bilionarios taliba passar mao tudo nao tao simples parecer',\n",
              " 'escroto povo haiti dever gostar',\n",
              " 'new_york times revelar resgatar astronomico pagar haiti franco independencia mundo globo',\n",
              " 'haiti missao ano exercitar_brasileiro deixar_legar questionavel',\n",
              " 'escandalos todo partir pai promover guedes bolsonaro inflacao mec combustiveis projecao_crescimento paises_america ganhar haiti tanto escandalo nao caber edicao jornal_nacional entao resolver falar',\n",
              " 'atar haiti super bem capitalismo',\n",
              " 'nyt lanca luzir sobrar resgatar pagar haiti franco independencia ler_noticiar',\n",
              " 'noticiar outro dia falar haiti este viver piorar momento desde terramoto ninguem saber pra onde dinheiro_doacoes muito casar ainda destruidas_muito cidade apoderar gangue_controlar ameacam matar pessoa triste',\n",
              " 'uau ver foto adivinhar cidade mogadiscio capital somalia portar_principe capital haiti nao seattle capital washington cidade ininterruptamente governar socialista desde mesmo dizer preocupar pobre',\n",
              " 'invadir mesmo_coisa invadir haiti canal usar lsd hahahaha',\n",
              " 'cobrar resgatar independencia haiti pai_miseravel coisa canalha',\n",
              " 'new_york times revelar resgatar astronomico pagar haiti franco independencia',\n",
              " 'milico heleno ir comandar_genocidio haitiano mandar lula dar poder',\n",
              " 'sim gente fazer servico_sujar haiti congo forcar_paz',\n",
              " 'comido suficiente pra alimentar atar haiti',\n",
              " 'bolsoburro mundo_inteirar fazer_lockdown retomar economia atro atar haiti',\n",
              " 'nao mudo_fato sim genocidio branco haiti coisa hilaria acontecer pai tornar pai_pobre mundo expurgar todo branco copar seethe dilatar',\n",
              " 'notar brasil preparar jogador brasileiro argentino argentino tal franco exemplo fazer apanhar senegal_argelia alemanha camaroes martinica congo haiti espanha bla_bla todo selecoes entupir naturalizar falir',\n",
              " 'voce conhecer guerreiro brasil usar historico capacete_azul paz pois saber sera futurar_governador estar tarcisio_freitas missao_paz haiti',\n",
              " 'excelente comentario exemplo concentrar enorme bostar selecao_brasileiro brasileiro_uruguaio uruguaio argentino argentino francês senegalês guineense argelino espanhol haitiano camarones martinicano congoles alemao atar frances',\n",
              " 'nigeria capitalista paises_africa haiti paises orientar_medio ver quantum miseria miseria bolsonaro este colocar',\n",
              " 'amanhar jeito ligar pra_mim falar',\n",
              " 'projeto realidade vao pro haiti pro congo pra mocambique lutar paz nome povo brasileiro sob_comandar lula',\n",
              " 'nyt lanca luzir sobrar resgatar pagar haiti franco independencia',\n",
              " 'crime odio racista revolto haiti sim revolto formar preto ser finalmente livre tentativo deixar viver situacoes desumano atacar escravizar venturo branco sexto nao precisar comentar evolucao',\n",
              " 'david ir pro haiti michael',\n",
              " 'nao poder saber rsrs mesmo_coisa falar tecnicos tse condicao pato haiti missao_paz sao capaz policiar fronteiro',\n",
              " 'favela catarinense atar sao bonito outro estar sul favela parecer haiti',\n",
              " 'seriar artigo nytimes sobrar haiti este dar falar informacoes falto etica precisar falar outro povo nao francês exemplo suicos',\n",
              " 'brasil bolsonaro mal_crescimento america america_latino atro atar haiti seguir telegram whatsapp',\n",
              " 'sim manir dia atar ucrania jogar_contra empoli nado poder rolar um d_esse aqui melhor pegar haiti zambia outro fudido assim',\n",
              " 'epoca haiti piorar lugar planeta ser escravo caro trabalhar literalmente atar morrer espancar estrupados atar morte cultura_religiao completamente destrocar proibir atar falar lingua_materno falar frances',\n",
              " 'qdo haiti assim cruzar area embarcar pai cair joelho chorar solucando todo dia minuto tinhamos skype chorar voce bem tirotear forcar_paz voce',\n",
              " 'pintar campeao_campeonato clube_caribe violette haiti bater cibao rep_dominicano penalti apo levantar tacar haitiano garantir_vago proxima concachampions',\n",
              " 'apicultura_ajudar recuperacao_economica haiti apicultura_ajudar recuperacao_economica',\n",
              " 'pray haiti alfredo completar top',\n",
              " 'maezinha contar_historiar haitiano hoje farmacia comprar remedio pra nene dar real contar nao viver menos salariar_minimo pessoal farmacia pagar pra ficar tao emocionar historiar',\n",
              " 'fulcral condizer sim massacrar haiti nao desculpar dizer contrariar voce acreditar vielmente casar casar torturar assassinar familias criancas incluso maneiro corretar declarar_independente errar nao justificar outro',\n",
              " 'ligar revolto contra escravidao inclusive haiti ultimos paises abolir_escravidao deixar ultimos paises ainda possuiam escravo medo ocorrer proprio pai',\n",
              " 'acontecer haiti revolto contra escravidao seculo',\n",
              " 'projeto haiti nao iniciar tudo nao juntar upp',\n",
              " 'qualquer idiota menos meio bandar cerebro funcionar dia perceber problema seguranca passar campar juridico politicar campar militar servir ir tarcisio haiti chefe_secao tecnica',\n",
              " 'questionar mensagem embuste nao experiencia_combater real ter ir haiti chefe_secao tecnica nao ir ajudar resolver_problema seguranca verdade nao ir ajudar nenhum area',\n",
              " 'preguicao branco citar haiti justamente resultar colonizacao voltar assim ainda quase_nulo comparar globalmente',\n",
              " 'prestar_atencao amigar este discutir aqui nao experiencia militar combater nao tarcisio mensagem buscar passar postar_foto haiti mensagem claro votar mim corajoso experiencia guerra',\n",
              " 'maquinar falar_merda ir jogar ano grande campeonato frances fazer gols ano campeonato mal segundo_divisao haiti achar melhor mundo',\n",
              " 'olavo dizer certo_vez nao vir europeu japonesar bostil aqui enorme haiti velho corretar vez',\n",
              " 'projeto haiti aqui burguesia feder',\n",
              " 'esperar alunar espcex cadete engenhar academiar_militar agulhar_negro servir durante_ano amozonas haiti cursar ano instituto militar engenhar_ime sucesso bom_sortir esperar nao ter esquecer nado ronaldo libanio',\n",
              " 'fazer partir missao_paz onu haiti encontrar guerra viver_pelar horar combater verdade aprender paz preciso ser conquistar dia dia estrategia_coragem acao tarcisio_gomar freitas',\n",
              " 'suave possivel comentar_sobrar materia haiti indicar algum dia tks',\n",
              " 'ainda impactar reportagem reler entender maximo possivel pormenor conexao brasil breve passagem tentar abordar_temer artigo_sobrar questao_agraria haitiano',\n",
              " 'criciuma aleatoria kkk ir casar amigo parir uber ir haitiano receber visitar amigo voltar uber carioca',\n",
              " 'falar pro mbappe motivar futebol alto_nivel europeu motivar franco ser potenciar haiti estar merda estudar_historiar ir usar video n_esse saite ir ser piar',\n",
              " 'ontem vulcao norte haiti',\n",
              " 'eis saldar golpe brasil sair grupar maior_economia mundo mal_crescimento america_latino entregar empresar riqueza nacional sera haiti continental gente odiar pobre militar entreguistas merecer paredon',\n",
              " 'amigo dar independencia haiti dois ultimar_semana sentir tanto_dificuldade encontrar coisa',\n",
              " 'nao conseguir pensar projeto nacional sucesso envolver ffaa haiti desgraca rir_janeiro piorar ditadura corrupcao torturar destruicao pai agora querer projeto pai elitista sus universidade_publicar calar_bocar milico',\n",
              " 'parceria ongs rir_grande sul voltar atelier criar bolsar desejar couro reaproveitar costurar mao mulher refugiar haiti clicar_link conhecer etiquetar fazer partir',\n",
              " 'claro meno desistir nao rei pika neguin',\n",
              " 'vergonhoso crescimento_pib brasileiro ficar atro atar paises_pobre haiti bolsonaro postar_ipiranga enferrujar',\n",
              " 'pra nao querer acreditar numeros economia tambem revelar bolsonaro projecao cepal brasil cresca menos haiti paises_america latino pai_pobre esquecer paises rico',\n",
              " 'baita reportagem haiti unico_pai mundo onde descendente escravizar forcar pagar_indenizacoes descendente senhor_geracoes ninguem saber exatamente quantum haiti pagar franco custar futurar atar agora',\n",
              " 'atualmente maior joia raro perolar atacante haitiano garrinsha_estinphile vir haiti jovem ano sempre sonhar ser jogador voce dever imaginar nome inspirar lenda brasileiro garrincha',\n",
              " 'novembro apo dois ano seguir disputar competicoes amador aqui brasil afpn parceria ong_vivo rir federacao haitiano federacao paulista futebol fpf itamaraty fechar acordar disputar copa maior tornear junior pai',\n",
              " 'enquanto dar ultimos retoque menino_menino jogar competicoes fut ruir julho ong_vivo rir parceria empresario origem hungara george_soro inaugurar centrar_treinamento localizar comunidade bon respos haiti',\n",
              " 'sim claro nao contar avancos estudo haiti livrar james perspectivo vezar mear europeu demais',\n",
              " 'voce saber enquanto tarcisio haiti haddad aceitar assumir ministerio durante auge mensalao atender chamar patria outro',\n",
              " 'nao conseguir pensar nado pra responder nao ofender povo haiti',\n",
              " 'beatles lancavam passo rabiscar bailar haiti nao proximo',\n",
              " 'entao solucao pessoa estao comer_barrir haiti voce falir importancia abelhar negar saber familia criacoes abelhar sertao cear justamente aumentar_numerar abelhar falir nao saber',\n",
              " 'deus haitiano aqui querer zap atender pensar macetar mds perplecta',\n",
              " 'procurar_empregar nao haiti mal',\n",
              " 'ddd haiti informacao bom',\n",
              " 'amg haiti pagar montar compensacao',\n",
              " 'papar alimentar mundo usar agrotoxico pra enquanto gente comer_barrir haiti outro nao saber saber abelhar extinto velar caixao pra humanidade bem nao todo ruim extincao raca_humano',\n",
              " 'ingles este fudido realmente haiti pagar pra franco',\n",
              " 'pai desgracado franco nao haiti montar desgrama varios_paises continente_africanar',\n",
              " 'sim falir d_isso nao ver muito possibilidade discutir qqr coisa haiti publicar pra academiar vezar dentro nao recomendar livrar carolyn fick',\n",
              " 'ficar bacana artigo marlene_daut sobrar possibilidade ensinar revolucao haitiano sala_aula depressivo ver nado citar portugues',\n",
              " 'proposito voce saber tanto inflacao brasil bater cubar_venezuela argentino crescimento sera menor haiti ir continuar bater_continencia miliciano imbecil',\n",
              " 'neto mascate pecar licenca pra contar logo esperar sair livrar tambem titulo provisorio ruinas circular paisagem historicas norte haiti',\n",
              " 'panaceia discursar_humanitario euroamericano haiti poder ter indices_socioeconomicos similar rep_dominicano reportagem este_disponivel tambem crioulo_frances algo louvavel restar saber resultar acoes reconhecimento reparacao',\n",
              " 'genese infraestrutura capitalista modernidade europeu tudo custar soberania_nacional haitiano autonomia populacao_negro geral calculos atualizados mostrar levar contar corrupcao',\n",
              " 'haiti forcar pagar franco primeiro dividir_externo historiar global reportagem seriar combinar pesquisar recente ajudar dar corpo crime compensacao colono senhor perda escravizar',\n",
              " 'zilda_arns criador pastoral_crianca ajudar trabalhar reduzir_mortalidade infantil brasil outro_paises morrer vitimar_terremoto haiti projeto dever_ser enviar camara',\n",
              " 'numerar internacoes trauma semana triplicar comparacao mear abril dizer mumuza_muhindo coordenador_geral msf organizacao este preocupar ultimar onda_violencia portar_principe ler',\n",
              " 'mnistro tarcisio missao_nacoes unir haiti',\n",
              " 'gente eivar patriotismo imediatamente haiti outro pontar d_esse projeto nacao',\n",
              " 'malucar falir crioulo_haitiano forte',\n",
              " 'topar bom prosar sobrar arte historiar inovacao vir ouvir radinho d_este segundo entender gritar valor diversidade franco arruinar haiti bacterias iluminar radinho pilho',\n",
              " 'bonus revolucao_francês influenciar varios_processo independencia continente_americano africano_escravizar trabalhar_lavourar cano_acucar haiti conseguir fim_escravidao apo sanguinaria guerra independencia',\n",
              " 'inclusive relato latino enganar utilizar carnar canhao ano passar presidente haiti assassinar supostamente mercenarios_colombiano familias pôr dizer saber trabalhar fazer pai',\n",
              " 'brincadeira caro favor liberar drogar justar rir_janeiro achar ir contralar algum_coisa ir piorar estar rir carioca nao votar corretamente ano ir fazer haiti rir_janeiro',\n",
              " 'hino_nacional haitiano dessalinienne nome memoriar imperador',\n",
              " 'nao nado comer miudos estao africa haiti morrer_fome nao ter nado comer otario tardar todo n_isto ninguem_aguentar',\n",
              " 'jean_jacques dessalines haiti setembro grande riviere nord outubro lider_revolucao haitiano proclamar_independencia pai janeiro primeiro governante setembro ano',\n",
              " 'famigerado missao exercitar_brasileiro haiti explicar muito_coisa',\n",
              " 'acordar chino dois economia_mundial ir vendetr pra pro haiti',\n",
              " 'entao voce fracassar querer ultimar coisa haiti paz',\n",
              " 'mai mai vientiane laos',\n",
              " 'mostrar general liderar_missao brasileiro haiti amigar hamilton_mourao ano tornar lobista grupar canadense forbes_amp manhattan responsavel projetos belo sun potassio brasil',\n",
              " 'ideologia capital sugerir base valor indenizacao_franco dever pagar bilhoes reparacao haiti proposto apesar impactar livrar solene ignorar comunidade academica governar franco midia',\n",
              " 'ideologia capital sugerir franco dever pagar bilhoes reparacao haiti proposto apesar impactar livrar vir ser solene ignorar comunidade academica governar franco midia',\n",
              " 'assim funcionar novo ordem_mundial paul_walker denunciar acoes criminoso clinton_foundation haiti morrer carro explodir acidentar',\n",
              " 'zelensky fantochar americano midia pensar enganir todo saber vcs importar dinheiro poder danar vidar humano haiti importar palestino importar',\n",
              " 'tai urgente lula lula n_ele cabo_rabo postagem brasil bolsonaro mal_crescimento america america_latino atro atar haiti',\n",
              " 'nao combatente haiti nao aguentar semana iniciar',\n",
              " 'vezar impressao ano tornar pai africa haiti pai miseraveis',\n",
              " 'literalmente modelar calcar tava real renner comprar haitiano ganhar pulseira brindar atar tecer calcar igual',\n",
              " 'pleno capitalismo estar_minimo este haiti congo guatemala vao pra aqui dizer capitalista nao capital assalariar usufruir ferir licencas direito conquistar sindicato comunista bandar mediocre ruela',\n",
              " 'mundo_inteirar fazer_lockdown verdade bolsoburro atar haiti ir crescer brasil',\n",
              " 'realizacao bolsonaro brasil atro atar haiti',\n",
              " 'brasil projecao economica inferior varios_paises america_latino inclusive venezuela argentino ficar atro atar haiti talvez voce razao voltar pra',\n",
              " 'vir comecar semana mil historiar estorias inspirador radinho hoje este entender gritar valor diversidade franco arruinar haiti bacterias iluminar',\n",
              " 'trabalhar nyt sobrar haiti este bem fazer escorregar formar auto promover corpo reportagem belo reflexao_sobrar n_este thread',\n",
              " 'paul_walker morrer novembro acidentar_carro explosao deliberar querer expor atividades criminoso fundacao_clinton haiti',\n",
              " 'haiti deixar ser aqui estao melhorar o',\n",
              " 'brasil atro haiti brasil bolsonaro mal_crescimento america america_latino atro atar haiti brasil guedes_amp bolsonaro sera lanterninha_crescimento ir crescer_menos haiti',\n",
              " 'comparar venezuelano brasileiro brasil este mal brasil crescer_menos venezuela cubar haiti todo paises_america latino obs brasil nao embargar_economico segundar apoiadores presidente abencoado deus bolsonarismo pensar',\n",
              " 'musicar_caetano caber nunca haiti aqui infelizmente',\n",
              " 'crescer_menos haiti grande conquistar governar loroteiro',\n",
              " 'entrar combater haiti militar armar treinar atacar civil entrar combater promover_massacrar',\n",
              " 'iphone tocar motorola comprar haitiano',\n",
              " 'cubar pai_pobre dever comunismo_vizinho capitalista haiti jamaica sao paises rico_prosperos',\n",
              " 'banco_frances capturar haiti ajudar financiar torrar_eiffel drenar milhoes haiti banco nao falir sobrar times rastrear quantum investidor ganhar haiti perder',\n",
              " 'torrar_eiffel pertencer haiti porque indenizacao independencia financiar historiar otima torco pra ser verdade',\n",
              " 'elogiar haitiano bastante guri feio aqui lindo aparecer olho querer',\n",
              " 'reportagem coisa inacreditaveis dizer aqui tempo ler coisa semana ler the_root haiti misery_reparations enslavers',\n",
              " 'rev influenciar outro independencias_america escravo trabalhar_lavourar cano haiti conseguir fim_escravidao dps guerra bem sangrento independencia primeiro pai continente fim_escravidao',\n",
              " 'apicultura_ajudar recuperacao_economica haiti avanco apicultura sul haiti vir',\n",
              " 'apicultor haitiano passar produzir galoes mel ano possuir colmeia vender cada galao produzir cercar',\n",
              " 'hoje_ceder tava ler_materia times sobrar pagamento haiti fazer franco caro nao pra esquecer segundar europa hoje explorar formar atroz possivel todo restar_mundo',\n",
              " 'assim cancelar cannes atar franco devolver pro haiti todo granir pagamento compensatorio independencia_abolicao escravatura ficar casar',\n",
              " 'correr errar tropa curry',\n",
              " 'revolucao_francês influenciar ainda outro processo_independencia continente_americano africano_escravizar trabalhar_lavourar cano_acucar haiti conseguir fim_escravidao apo sanguinaria guerra independencia',\n",
              " 'rapaz materia grande nyt haiti pagar milhoes_dolares pra franco dividir ter conquistar_independencia haiti pago_atar hoje ser primeiro libertar americas',\n",
              " 'campeoes violette vencer cibao penalti conquistar caribbean club championship equipar haitiano disputar concacaf_champions league',\n",
              " 'direito_universal fundamentar condenacoes criminar agente fronteiro extinto republicar_democratica alemanha alegar cumprir_ordem lei local condenar haiti duvalier parecer algo brasil hoje',\n",
              " 'logica guerra politicar seguranca_publicar resultar n_isso guerra sao regido convencao genebra direito_universal aqui tornar haiti proto tontom_macoutes alguem querer presidencia_republicar vitalicia_hereditaria',\n",
              " 'zerei_vidar amigar colombiano_boliviano cubano haitiano',\n",
              " 'imaginar gremio jogar amistoso haiti jefbi provar delicioso churrasco gatar',\n",
              " 'inclusive voce direito nao ler_livrar marco_queiroz constitucionalismo_brasileiro atlantico_negro leitura_obrigatoria sobrar repercussao rev_haitiano ignorar',\n",
              " 'excelente reportagem ver subdesenvolvimento haiti fator_determinante pagar franco',\n",
              " 'haha amigo tesar sobrar formacao_social latinar_americano enfasar brasil colombia haiti sobrar seculo_xix sair d aqui um dois_mês poder tocar coisa interessar',\n",
              " 'igual venezuela haiti jumento existir historiar prever animal',\n",
              " 'materia interessante mostrar haiti cujo processar_independencia unico america riqueza posse explorar diverso potenciar eua franco logo_apo emancipacao',\n",
              " 'saber ir pontar apesar sul ser terra preto_indigena origem ainda absurdo tipo inigrante haitiano ser assediar sofrer violencia variar_cidade nao conseguir_convencer sul terra preto',\n",
              " 'gangue estao lutar tomar territorio capital haiti novo intensidade brutalidade',\n",
              " 'mal situacao argentino venezuela_bolivia peru nicaragua cubar haiti honduras etc',\n",
              " 'passar bom partir tardar ler_materia enorme nyt sobrar haiti nado fazer sentir alar queimar todo franco eua',\n",
              " 'pra_cima peacekeeper saudacoes cavalar haiti',\n",
              " 'morar nao vir vir sera votar comandante haiti',\n",
              " 'pib_menor americas atro_apenas haiti problema lula nao fazer teatro pobre',\n",
              " 'mto chique nome familia vir haiti milouse eddy sant louis phara joseph puerpera jeanne adelette jaccean mal poder esperar saber nome beber',\n",
              " 'nao existir produzir pra ser parasitar mundo ir tornar haiti',\n",
              " 'psicopatia oligarquia colonial pudor violencia brasil exceto casto privilegiar dever olhar independencia haiti revolucao_francês',\n",
              " 'brasil proprio rapinar destroi pai new_york times fazer materia_sobrar franco estar_unir algum amigo importante passar ano rapinar haiti',\n",
              " 'preocupar sim nao ajudar midias brasileiro parecer querer destruicao brasil vender brasil vao_embora aqui ir virar haiti',\n",
              " 'ver alguem discordar dizer exemplo alguem apoiar invasao russo ucrania fazer tweet sobrar crime_guerra brasileiro haiti jamais falto vergonha caro dar coisa tipo russia',\n",
              " 'interessante seriar reportagem nyt sobrar dividir absurdo haiti forcar pagar franco ultimar reportagem seriar tratar tentativo pai pedir reparacoes francês terminar presidente expulsar poder',\n",
              " 'favs juntar hoje dia festa haiti',\n",
              " 'haiti terremoto durante eleicao martelly nunca_vestir tipo miseria favela outro canto latino campar_refugiar orientar_medio falto tudo incluir qualquer presenca estar algum estar',\n",
              " 'little haiti bairo pobrer miami_florir ver',\n",
              " 'esquerdista inteligente rapaz aliar nao preciso tao baixar estao arrumar_malo pra fugir pra paraisos vao ser feliz argentino venezuela cubar haiti ciar',\n",
              " 'sera franco ir devolver_dinheiro haiti',\n",
              " 'exemplo tortuga atualmente partir haiti palco revolto_escravo desencadear brigar espanha_franco inglaterra trio sempre jamaica tambem presenca muito pessoa negro atar_hoje nao saber abordar corretamen',\n",
              " 'tarcisio missao capacete_azul onu haiti',\n",
              " 'chapeco dois coisa mulher lindo haitiano',\n",
              " 'juiza_autorizar mae_filho haitiano entrar brasil vestir juiza silvia figueiredo marcar varar civel federal sao_paulo autorizar entrar brasil vestir mulher haitiano filho menor',\n",
              " 'haiti este lista conflito atuais preocupante',\n",
              " 'gangue haiti sao louco',\n",
              " 'mexico querer chamar cubar haiti republicar_dominicano jamaica tambem sera eua vao gostar sensacao ser cercar_inimigo',\n",
              " 'papel banco dominacao haiti',\n",
              " 'reportagem fato excelente impressionar magnitude indenizacao pago haiti franco maior qualquer metrica usar aquele pago brasil portugal nao',\n",
              " 'perguntar pro povo haiti demais colonias_francês sentir tres termo praticar',\n",
              " 'querer pontuar reportagem partir dar historicos falir essencialmente sobrar hoje sobrar tragediar haiti ainda inclusive intenso colaboracao brasileiro ultimar_decada',\n",
              " 'revolucao_francês tbm influenciar ainda outro processo_independencia continente_americano africano_escravizar trabalhar_lavourar cano_acucar haiti conseguir fim_escravidao apo sanguinaria guerra independencia',\n",
              " 'voce preciso ter logica mal situacao argentino venezuela_bolivia peru nicaragua cubar haiti honduras etc entao',\n",
              " 'pra aguentar festa d_esse ter ter ir pro haiti combater frente levar tirar dar tirar loucura demais',\n",
              " 'haiti pra lembrar palco rebeliao_escravizar levar independencia pai causar assombrar governo outro colonias continente inclusive onde escrever',\n",
              " 'haiti aqui haiti nao aqui verso profecia reverberar durante leitura materias sobrar dividir_externo historiar haiti publicar n_este fim_semana ir postar texto liberar nao assinante fiar seguir',\n",
              " 'nyt vasculhar documento historicos contar franco eua explorar haiti ver',\n",
              " 'atar haiti pai_pobre mundo ir crescer brasil cubar_venezuela crescer onde mandar',\n",
              " 'endividamento servir manter colonias dependente saber bem gracas ruy marini outro teoricos dependencia casar haitiano ir alar imaginavel crueldade extensao atar dia hoje inviabilizar pai obrigar',\n",
              " 'reparacoes haiti inspirar movimentar indenizacoes brasil queimar arquivo escravidao ordenar ruy barbosa objetivo impossibilitar demandar restituicoes futuro partir antigo_proprietarios escravizar',\n",
              " 'fake venezuela cubar haiti sao_otimos paises viver verdade esquerdopatas dizer nao querer fazer_turismo n_esse paises imaginar morar apesar turista n_esse paises direito morador',\n",
              " 'achar preciso abrir_olho pra realidade voce deixar aqui previsao cepal sobrar divulgar hoje apontar brasil crescimento menor atar haiti atar momento nao vir movimentar significativo gov fed pra reverter cenario',\n",
              " 'fake brasil nao ir virar_venezuela verdade brasil crescer_menos venezuela cubar haiti todo paises_america latino brasil nao embargar_economico venezuela cubar',\n",
              " 'the ransom resgatar sequestrar historiar haiti condenar_miseria sacar colonialismo exploracao franco eua wall_street reportagem incrivel documentar historico melhor jornalismo poder produzir ganhar horar ler_edicao online',\n",
              " 'mesmo pessoa ficar_impressionar numeros condicionar haiti miseria negar ignorar papel imperialismo cubar_venezuela coreia_norte cinismo burrice',\n",
              " 'pessoal apontar montar vacilos materia_nyt sobrar historiar haiti esmolar demais santo desconfiar',\n",
              " 'todo vergonha todo ilhar ilhar haiti endao haitiano direito viver onde querer ilhar voce nao procurar tratar paz ir ter revolucao lembrar frente exerco napoleon imaginar',\n",
              " 'homem haiti mqndou ofeeta empregar deus dever odiar',\n",
              " 'este alarmar recente vago violencia port_prince altura equipar receber pessoa ferimento_balir instalacoes_medicar saber',\n",
              " 'poder incomodar haitiano lutar_liberdade ilhar haitiano nado mal contra voce incomodar demais casar haiti poder merda regiao',\n",
              " 'voce poder fazer todo voce poder incomodar todo voce querer ir lembrar existir pai ilhar existir bairro santo domengo todo conhecer_historiar entao ilhar haiti ilhar liberdade',\n",
              " 'reportagem_sobrar origem miseria haiti resgatar obrigar_pagar antigo senhor_escravo ilhar maioria francês atar brasileiro mear',\n",
              " 'revolucao haitiano revolucao_francês',\n",
              " 'atro haiti defender querer continuidade serto sic',\n",
              " 'pouco falir raizes historicas pobreza haitiano custar reparacao independencia colonia contar pago geracoes geracoes haitiano permitir financiar torrar_eiffel chegar brasil bom materia_nyt observacao',\n",
              " 'preciso cubar_venezuela haiti aqui',\n",
              " 'manir ontem pegar_uber haiti ultimar gente trocar alto idear falar falar idioma ir fazer_intercambio pra aprender italiano_alemao vcs imaginar falar cincar_idioma',\n",
              " 'nassif general_heleno novo exemplo haiti minustah salvador',\n",
              " 'tremer caro_pau nitidas intencoes explorar pai voce elogiar pilantra d_esse haiti roubar franco brasil roubar portuguesar inglesar_americano cubar boicotar ianque venezuela boicotar ianque iraque roubar ianque etc',\n",
              " 'manir pib haiti ir ter respostar melhor brasil pos_pandemia',\n",
              " 'fake brasil nao ir virar_venezuela verdade brasil crescer_menos venezuela cubar haiti todo paises_america latino',\n",
              " 'reportagem impressionante dissecar origem miseria haiti dividir_impagavel estabelecido franco trocar paz apo revolucao dividir financiar banco mundo_inteirar manter fortuna atar brasil',\n",
              " 'carlos mentir tanto provavelmente nome snisga mokera nascer haiti',\n",
              " 'cepal brasil guedes_amp bolsonaro sera lanterninha_crescimento ir crescer_menos haiti virtuoso combinacao investimento_publicar minimo retornar maximo acionista salariar_medio mês ganhar real',\n",
              " 'sandra nao problema haiti vizinho nao ter atividade_economica relevante',\n",
              " 'pai continente mundo este olhar preocupar haiti importante calar_bocar acefalo',\n",
              " 'povo sofrer historiar dor',\n",
              " 'materia interessantissima sobrar haiti tornar pai_pobre americas resumir pagar_multar ter expulsar_colonizador francês',\n",
              " 'amigar haitiano brasileiro saber girias saber ontem tava show gustavo limar cantar exatamente todo musicar',\n",
              " 'fmi_projeta agora sim passar potenciar haiti',\n",
              " 'fmi revisar pra agora sim ir passar haiti',\n",
              " 'cepal_preve brasil tera_mal taxar_crescimento america_latino panama venezuela colombia guatemala_uruguay bolivia cubar argentino peru mexico chile haiti brasil',\n",
              " 'melhor fiar sobrar haiti franco new_york times consultar academicos especialista haitiano pra materia nao citar nenhum ainda anunciar materia_nyt investigar descobrir pilhagem criminoso longevo franco sobrar haiti',\n",
              " 'homenagem bandeiro haiti aqui cesu bairro amazona',\n",
              " 'apoiar gente apoiar_golpe intencao votar apoiar_golpe logo ir mudar_constituicao supremo perpetuar_poder fazer putin chave orban votar pobreza_corrupcao pra sempre haiti ir ser aqui',\n",
              " 'haiti hoje pago franco ter tornar_independente',\n",
              " 'haiti ir crescer brasil vivo bolsonaro',\n",
              " 'ano tarcisio_freitas cumprir_missao paz haiti periodo fernando_haddad ministrar governar_lula comecava afundar escandalo mensalao',\n",
              " 'subestimar mostrar nao regime genios ganancioso bajulador oligarca desde ditadura perigoso covarde armar sujar maos_sangue inocentar haiti',\n",
              " 'dizer missao fato haiti pacificacao este papel ouvir historiar outro dizer usar tecnicas guerra psicologica controlar populacao seculo estuprar utilizar estrategia guerra',\n",
              " 'otima reportagem_sobrar historiar haiti bem ilustrar',\n",
              " 'haiti tornar primeiro unico_pai onde descendente pessoa escravizar pagar familias antigo mestre geracoes dividir tao grande tao duradouro consolidar caminhar haiti pobreza subdesenvolvimento',\n",
              " 'saquear haiti pra construir torrar horrendo',\n",
              " 'genios mal usar mau militar bunda_sujo geisel chafurdar mamatas negociata haiti laranjo usar southcomm prostituir miami enquanto pacificacao caos hoje dia',\n",
              " 'poder ser qualquer tipo bolacha doce rechear ir gostar poder colocar misturar chocolate granular bis quebrado mear ficar top morango cocar ralar estilar prestigiar rodela banana estilar haiti',\n",
              " 'interessar poder valer mega peno ler_materia sobrar haiti',\n",
              " 'combater verdade participar massacrar haiti tomar_vergonha atirar vidar nao saber combater verdade',\n",
              " 'atendimento_pre hospitalar_local ruir haiti sao_joao pintar masculino maior vitimar agressao fisica apresentar ferimento pescoco',\n",
              " 'questao autoestima preferir imaginar caro sao genios mal porque dificil aceitar gente burro_ignorante colocar pai n_esse desgraceira quantum haiti visao nao desastroso proposito alcancado infelizmente',\n",
              " 'ficar saber partir d_esse historiar haiti causar exterminate_all the_brutes revoltante demais',\n",
              " 'dever_ter mear_fiar pintar haiti',\n",
              " 'nao acesso todo seriar chamar_atencao fato haiti porcao populoso localizar sobrar grande falho geologica razao inumeros terremoto menor grau contribuir crise pai d_este faixar',\n",
              " 'alguem comprar trajetoria dois porcoes ilhar haiti republicar_dominicano periodo recente vir destacar termo crescimento amp caribe',\n",
              " 'brasil mal venezuela haiti parabens_envolvido',\n",
              " 'militar brasileiro sairem virar desgovernar haiti crescer brasil diminuir',\n",
              " 'vao resolver aqui cepal_preve brasil tera_mal taxar_crescimento panama venezuela colombia guatemala_uruguay bolivia cubar argentino peru mexico chile haiti brasil',\n",
              " 'tarcisio_gomar freitas futurar_governador sao_paulo fazer partir missao_paz onu haiti encontrar guerra viver_pelar horar combater verdade aprender paz preciso ser conquistar dia dia estrategia_coragem acao',\n",
              " 'fome bolsolao mec ataque democracia gasolina orcamento secreto inflacao galopante previsao_crescimento mal haiti venezuela preocupacao vcs pseudo escorregao lula vergonha d_esse jornalismo',\n",
              " 'cepal_preve brasil tera_mal taxar_crescimento america_latino panama venezuela colombia guatemala_uruguay bolivia cubar argentino peru mexico chile haiti brasil pqp bolsobosta',\n",
              " 'momento antar haiti liechtenstein descobrir basicamente mesmo bandeiro versao pontar cabeca',\n",
              " 'nao conseguir ver slide periodo revolucao haitiano quase seculo antar equivocar',\n",
              " 'materia sensacional algum grande jornal dever reproduxi aqui portugues temer crucial americas the_root haiti misery_reparations enslavers',\n",
              " 'ler_jacobino negro livrar emocionante sobrar_revolucao negro fazer haiti ter ser massacrar colonizador desde_entao',\n",
              " 'recentemente instar hackeado haitiano seguir pessoa ganhar um seguimores jaguara',\n",
              " 'guedes mal haiti venezuela crescimento prometer bozo ministrar_economia este fazer voce querer',\n",
              " 'haiti pequeno pai_insular lula encher esquadroes_morte minustah',\n",
              " 'infelizmente todo ocupacao missoes_paz abuso forcar ocupante similar populacao civil atar missao brasil haiti',\n",
              " 'atar imperador brasil receber indenizacao haitiano independencia chocante historiar haiti virar tragediar humanitaria',\n",
              " 'dormir haitiano geralmente esquentar bem heheheh',\n",
              " 'estar_unir apontar_dedo pra franco haiti foder',\n",
              " 'pensar haiti rezar haiti haiti nao haiti',\n",
              " 'arte tentar corromper situacao argentino venezuela haiti exemplo comparar colocar lista numeros ruim bater desesperar chegar ser patetico revisoes projecoes mensal',\n",
              " 'vez haiti outrora prosperar miseravel hoje porque praticar voduismo cultura',\n",
              " 'pensar frances nao precisar restringir apenas franco existir outro diverso_paises francofonos poder oferecer inumeras oportunidade crescimento pessoal profissional exemplo canada haiti suica belgica',\n",
              " 'haiti pago_preco ser primeiro_republicar negro mundo assim forte pujante feliz acima qualquer qualificacao mundo ocidental poder dar palavra alguem ver bem_perto',\n",
              " 'dois_decadas haiti conquistar_independencia franco esquadrao navio guerra retornar ultimato rei_carlos escolher dinheiro guerra',\n",
              " 'perguntar pra onde ficar haiti ir falar ficar_africa',\n",
              " 'pra comprar gucci irmao haitiano dar',\n",
              " 'engenheiro_civil missao_paz haiti lugar varios concurso melhor curriculo ministrar_infraestrutura futurar_governador sao_paulo',\n",
              " 'ouvir falar epoca abolicao haver dono_escravo dizer escravidao acabar brasil virar haiti parecer discursar bolsonarista sobrar brasil virar_venezuela campo economico_social',\n",
              " 'escravagismo colonialismo talvez piorar ideia humanidade the_root haiti misery_reparations enslavers',\n",
              " 'menos haiti gente aind avai votar bozo ir_fude',\n",
              " 'haiti nao aqui aqui este mal',\n",
              " 'lembrar chamar campanha pro mear_ambientar achar port_prince capital haiti ficar franco falar amar passar um dia franco',\n",
              " 'todo vez triste lembrar historiar parir doar_milhoes maquiagem pra haiti formar ajudar crise ficar',\n",
              " 'inflacao mundial previsao_crescimento brasil menor haiti venezuela menor ficar_indignar governar',\n",
              " 'nao malucar currado video faoh caralho jantar malucar dizer haitiano feder',\n",
              " 'previsao_crescimento brasil menor haiti venezuela menor significar governar fazer tudo errar tudo',\n",
              " 'previsao_crescimento brasil menor haiti venezuela menor significar governar fazer tudo errar tudo errar',\n",
              " 'nestor explicar tchutchuca deixar brasil previsao_crescimento menor haiti venezuela muito incompetencia guedes thuthuca explicar pra gente',\n",
              " 'subimperialismo frances preco haiti pagar independencia revelar agora times',\n",
              " 'sim haiti poder melhorar tmb',\n",
              " 'abaixar haiti pai enviar_tropa estabilizacao parabens_envolvido',\n",
              " 'franco devolver retirar haiti',\n",
              " 'guedes conseguir_proeza brasil crescer_menos haiti',\n",
              " 'previsao_crescimento brasil menor haiti',\n",
              " 'brasil acima_tudo brasil abaixar atar haiti',\n",
              " 'direito apelar popular base ciro nenhum nenhum espaco pra reformar triste ter votar politicar fazer trabalhar_sujar imperialismo eua vidar tropa haiti lula bush planar governar ruim sustentar genocidio',\n",
              " 'brasil taxar taxar_crescimento mal america_latino mal haiti haiti aqui',\n",
              " 'outro texto d_esse reportagem_sobrar haiti detalhar aqui',\n",
              " 'nao acompanhar desgovernar saber durar dificil entender talvez incompreensivel ver brasil mal haiti realidade mal governar brasil real situacao governar_autoritario genocida interesse particular focar corrupcao',\n",
              " 'materia super_interessante mostrar indenizacoes pago haiti escravocrata contar fim_escravidao estao origem miseria pai',\n",
              " 'pra querer passar raivar nyt fazer contar quantum haiti pagar pra franco independencia milhoes dinheiro ficar economia haiti bilhoes hoje',\n",
              " 'epoca lula disputavamos pib inglaterra agora disputar haiti parabens ser mal presidente historiar',\n",
              " 'atro haiti aplaudir incompetencia d aqui um_ano ir ter brazuca fugir venezuela',\n",
              " 'materia historica sobrar povo haiti obrigar_pagar indenizacao_franco familias escravocrata liberdade impactar d_esse dividir historiar pai povo tambem revelar familias banco beneficiar',\n",
              " 'querer comparar olhar brasil olhar haiti',\n",
              " 'todo outro_paises estao cima nao fechar atar proprios haiti acima o',\n",
              " 'sobrar historiar haiti sugerir tres episodios podcast livrar sugerir jacobino_negro impressionante triste toussaint_ouverture tao pouco conhecer',\n",
              " 'corrupcao dominacao qual razoar principal pobreza povo haiti casar estudar conhecer',\n",
              " 'haiti cubar seculo_xix',\n",
              " 'brasil atro haiti sacanagem',\n",
              " 'dizer brasil ficar atro haiti ir repetir haiti',\n",
              " 'menos haiti menos venezuela',\n",
              " 'atar haiti este melhor brasil bolsonaro',\n",
              " 'venezuela haiti ficar frente',\n",
              " 'comissao economica america_latino cepal_onu projeta brasil menor_taxar crescimento_pib todo america_latino caribe miseros abaixar haiti paraguai',\n",
              " 'reparacoes dizer reportagem estao origem penuria haitiano prosseguir atar_hoje',\n",
              " 'pessoa escravo haiti precisar pagar_reparacoes dizer documento obtido imperador brasil nao achar ainda',\n",
              " 'brasil dever crescer_menos haiti',\n",
              " 'haiti nao aqui todolugar enorme triste',\n",
              " 'pesquisar_sobrar certar suicidio general haiti excluir tarcisio',\n",
              " 'falto fazer revolucao socialista haiti',\n",
              " 'padrao pra falar haiti sempre remontar guerra contra imperio frances adorar dizer haitiano vencer pagar acrescentar corrupcao terremoto haitiano pensar diferente pra nao moço',\n",
              " 'bom material sobrar haiti',\n",
              " 'arroz arkansas destruir agricultura haitiano criar massa desocupar',\n",
              " 'new_york times fazer materia_sobrar franco estar_unir algum amigo importante passar ano rapinar haiti',\n",
              " 'poder ter postar preto tipo haitiano pra voce queixar gostar quanto ano voce pra ver filmar branco nevar',\n",
              " 'peco jornalismo historiar indenizacao escravizador criar raizes pobreza haitiano fortuna banco francês americano',\n",
              " 'uber haitiano estourar mega orgulhar',\n",
              " 'governar asia adm burro falir africa pai jamaica haiti ficar',\n",
              " 'estadunidenses estao descobrir colonizacao franco retirar riqueza dinheiro pra construir pai europeu eua inglaterra_portugal espanha belgica nao deixar_rastro pobreza outro_paises america_latino africa',\n",
              " 'alguem poder dizer contribuicao positivo religioes_matriz africano humanidade africa viver sobrar pobreza_extremo bem haiti nao continente_africanar contudo mesmo cultura',\n",
              " 'pesquisar incrivel dois_decadas apo independencia haiti franco forcar pai pagar_indenizacao acima possibilidade haitiano resultar espiral dividir poder ter ultrapassar valorar atuais',\n",
              " 'achar haitiano idioma bonito ouvir real saber nome idioma gostar ficar ouvir smp gnt conversar',\n",
              " 'caro medo haiti servir exemplo outro colonias tentar mesno',\n",
              " 'contar colonizador haiti dizimar aborigenes aruaques jeito tao cruel invocar deus_castigar maldicao terra levante escravo atroz respostar brutalidade marcante reconhecimento pagar milhoes franco',\n",
              " 'sempre usar_argumentar falir haiti comparar_cubar brasil chino',\n",
              " 'haiti unico_pai cujo descendente pessoa escravizar forcar pagar descendente escravocrata liberdade custar estimar bilhoes dinheiro enriquecer ainda franco jogar haiti miseria seculo',\n",
              " 'mesmo_formar exercitar_brasileiro fazer haiti',\n",
              " 'continuar achar considerar mourao heleno santo_cruz etchegoyen ramo villas_bom genios manipulacao enganir haiti este pra provar sao burro incompetente steve bannon dep just eua caro',\n",
              " 'monstro haiti gen_augusto heleno fazer mal comandar_massacrar missao_paz assassinar quase_cem civil mulher_criancas hoje chefe casar civil bozonaro',\n",
              " 'influenciar independencia haiti ganhar pole position homem',\n",
              " 'raiz miseria haiti reparacoes escravizador',\n",
              " 'historiar wakandistas haiti pobre ter pagar indemnizacao franco cheio copium pois fim guerra independencia todo factor producao ilhar aniquilar proprios haitiano quanto paises nao pagar desenvolver',\n",
              " 'comido tornar armar dominacao americano haiti americano comer_carnar branco frango restar ir congelar pro haiti sobrar arroz',\n",
              " 'priemeiro morar brasil dois populacao alimentar adequadamente segundar venezuela perto pai_miseravel continente sim haiti varios outro sao explorar imperialismo video mandar falir sobrar economicos tbm',\n",
              " 'materia excelente haiti este paradigma excecao todo america caribe liberdade negro vir acompanhar medir compensatorias senhor producao riqueza capital basear liberacao corpo negro',\n",
              " 'sempre bom lembrar tragediar haitiano varios responsaveis',\n",
              " 'historiar hoje publicar new_york times sobrar reparacao haiti pago colonizador nao novo estudar temer historiar brasil ler uau compilacao visual linguas',\n",
              " 'amigar maior especialista haiti brasil joao rir versao recife',\n",
              " 'entender estrangulamento haiti desde heroica libertacao',\n",
              " 'nao haiti negro libertar matar todo branco viver ilhar',\n",
              " 'ledo_enganir jamais voluntario embarcar voluntario simplesmente nunca acreditar_n esse gastanca inutil dinheiro_contribuinte promover lembrar haiti continuar mesmo baderna sempre ucrania guerra haiti embuste',\n",
              " 'valer presidente torcido tricolor haitiano',\n",
              " 'brasil tambem pagar portugal independencia haiti feroz levantar_escravo fazenda ocasionar independencia_reconhecido tempo',\n",
              " 'sugerir todo escutar capitulos podcast fazer sobrar haiti colonia link',\n",
              " 'excelente reportagem nytimes sobrar haiti bem feito vidar',\n",
              " 'investimento_infraestrutura educacao etc efeito dramaticos fragilidade estar haitiano etc imensuravel destruidor',\n",
              " 'materia sensacional nyt hoje sobrar haiti calcular montante dividir franco_impo haiti ter erradicar escravidao formar revolucionar chegar montante pib haiti sacar haiti financiar torrar_eiffel',\n",
              " 'desbravamento recente processo revolucionario encobrimento rev_haitiano quase sinal premonitorio certar progresso moral entendimento passar',\n",
              " 'foder aqui indenizacoes escravizador causar subdesenvolvimento haitiano',\n",
              " 'conheco pouco historiar haitiano pos terminar aula_sobrar aftershocks history algum_coisa falecer trouillot ficar_impressionar exagerar novidade fazer sentir pro publicar alvo',\n",
              " 'salvar aqui ler assunto sempre intrigar desde_epoca colegio revolucao haitiano jeito',\n",
              " 'seriar impressionante reportagem ficar_curioso pra ver versao academica parecer ser altissima qualidade mostrar perfeitamente indenizacao pago franco essencial subdesenvolvimento haitiano querer traducao',\n",
              " 'apo cometer_crime vietna honduras_panama haiti nicaragua mexico coreia irar sirio indonesia_iraque congo cubar bolivia afeganistao salvador americano questionar respostar militar movimentar militar americano otan',\n",
              " 'nao especial tao bom quantum bom tempo valer_leitura importante conhecer_historiar haiti',\n",
              " 'haiti unico_pai mundo onde descendente escravizar obrigar indenizar descendente senhor_geracoes materia_nyt falir sobrar estimativo valorar pago haiti franco valor casar bilhoes',\n",
              " 'numerar haiti oferecer empregar brasil poder confiar',\n",
              " 'n_esse texto nyt acontecer haiti n_ele explicar funcionar todo processar_colonizacao existir algum pouco bilionarios precisar existir muito_gente passar_fome dificuldade',\n",
              " 'agora fazer materia_sobrar unicef funcionarios haiti',\n",
              " 'antonov ano operacoes carro chefe variar operacoes logisticas mundo_aforar alar_d isso prestar_assistencia missoes_humanitarias terremoto haiti pandemia novo coronavirus nao aviao grande',\n",
              " 'pessoal mercar velho pedir pra tirar_foto comigo falar querer bater professor invadir haiti outro vez entender querer dizer bem simpatico',\n",
              " 'indenizacao cobrar governar frances nao invadir pai retomar poder vezar valor receitar anual haiti emprestar_dinheiro banco_frances acontecer dividir saldar ano',\n",
              " 'durante_ano haiti pagar franco equivalente_milhoes dolares reparacao independencia investigacao nyt sensacional',\n",
              " 'internet brasileiro lento etiopia haiti caro mundo',\n",
              " 'vezar parecer academiar historiar ocidental nao atencao haiti ir dar trabalhar definir holocausto ano povo condenar simples crime libertar_escravidao',\n",
              " 'the_root haiti misery_reparations enslavers raiz miseria haiti reparacoes escravizador',\n",
              " 'fiar sobrar indenizacao_milhoes dolares pago valor haiti franco independencia primeiro_vez historiar vencedor sao mantido_refens vencido',\n",
              " 'haiti chamar desastre estar fracassar armadilhar ajudar legar dividir este embutir todo sistema pai desde educacao_saude atar infraestrutura inadequado aguar_saneamento',\n",
              " 'outro dizer haiti nao ser forcar pagar_dividir duplo pai poder ter espelhar taxar_crescimento vizinho todo america_latino colocar estimativo perda bilhoes haiti',\n",
              " 'riqueza permanecer haiti estimar acrescentar bilhoes economia haitiano ultimos dois_seculo embora quantidade exata desconhecido varios especialista dizer estimativo minimo conservador',\n",
              " 'franco exigir cincar pagamento anuir milhoes franco primeiro pagamento estimar cercar seis vezar receitar haiti n_aquele ano haiti forcar tomar emprestimo aumentar fardar tornar conhecer dividir duplo',\n",
              " 'new_york times examinar arquivo documento governar tabular quantum haiti pagar liberdade revelar dividir tao grande tao duradouro ajudar cimentar caminhar haiti pobreza subdesenvolvimento',\n",
              " 'haiti unico_pai mundo onde descendente escravizar forcar pagar_indenizacoes descendente senhor_geracoes',\n",
              " 'haiti perder bilhoes seguir_fiar',\n",
              " 'ocidente fazer fazer haiti desde escarniar absurdo',\n",
              " 'capitao freitas tarcisio tropa_paz onu haiti tropa qual tbm fazer partir santo_cruz atual opositor dar extremo impresa tarcisio fato_negativar assassino haiti simultaneo santo_cruz canhoto heroi haiti dicotomia patotologia etc',\n",
              " 'achar haiti casar paradigmatico entender efeito nocivo colonizacao nyt fazer favor explicar que',\n",
              " 'capitao freitas tarcisio tropa_paz onu haiti tropa qual tbm fazer partir santo_cruz atual opositor dar extremo impresa tarcisio fato_negativar assassino haiti simultaneo santo_cruz canhoto heroi haiti dicotomia patotlogia',\n",
              " 'n_esse materia times reportar governar eua ordenar invasao militar ilhar proteger interesse citibank deter titulos dividir haitiano',\n",
              " 'triste historiar haiti primeiro pai independente_america latino nao livrar the price tag was huge france sold louisiana the_united states million francs just over half what demanded from haiti',\n",
              " 'nytimes publicar variar materias mts docs mostrar elite francês americano estrangular economia haitiano cada exportar cafe apenas centavo ficar haiti restar banco_frances credit industriel',\n",
              " 'sera admitir novo esposo acolher homem haitiano angolano pra saber',\n",
              " 'processar venezuelizacao argentino acelerar bem ano venezuela virar haiti proximo passar chile virar argentino',\n",
              " 'blatter visitar haiti mulher forcar dormir presidente fifa pedir comprimir azul',\n",
              " 'show_horror historiar relacao haiti franco',\n",
              " 'mudar voce mudar haiti afinal pai capitalista certar',\n",
              " 'escravizador nunca faltar reparacao the_root haiti misery_reparations enslavers the_new york_times',\n",
              " 'ir ouvir agora emeline michel _ emelinemichel representar haiti apo_terremoto mil haitiano buscar refugiar brasil',\n",
              " 'frio haitiano calcao pqp',\n",
              " 'futurar_governador sao_paulo missao_humanitaria haiti',\n",
              " 'combater haiti comando comanfs fuzileiro marinho',\n",
              " 'pra trabalhar oprimir outro fazer revolucao educacao brasil ver numeros antar universidade numerar aluno faculdade ler manchete sobrar denunciar haiti sobrar_atuacao militar brasileiro',\n",
              " 'entao venezuela argentino cubar haiti outro sao paises pois aparecer lista maior_inflacoes mundo talvez porque numerar nao caber calculador',\n",
              " 'tarcisio missao_paz haiti',\n",
              " 'qualquer poder dar pautar foto aqui centrar este dadou lider redar exploracao menor ano poder fhf desde lembrar amistoso brasil paz haiti poder nao ter nado',\n",
              " 'lugar onde normal ser estuprar denunciar_abusar federacao haitiano envolver atar blatter possivelmente maior escandalo fifa infelizmente pai periferico impactar otima reportagem investigativa roman molinar',\n",
              " 'filhar poe bicho assim repente poder comecar haiti atar pouco pagar indemnizacoes pai ocidental escravo sitiar ter ganhar alforriar prejudicar fazendeiro francês',\n",
              " 'pedir pra fazer dar festa casamentar pra maridar nao embora brasil dia deus tocar_coracao brasileiro haitiano dia possivel deus_abencoe voce telefonar ddd',\n",
              " 'rezar_lenda haiti homem tanto coisa destruida apo_terremoto falar ir reconstruir nunca parar',\n",
              " 'fazer partir missao_paz onu haiti horar combater verdade aprender paz preciso ser conquistar dia dia estrategia_coragem acao sao_paulo viver hoje verdadeiro guerra experiencia poder ajudar acabar',\n",
              " 'sargento tomar tirar haiti tapar ombro fazer dever patria gringo colonizador pau existir tomar medalhar lindar',\n",
              " 'heleno passar condenar epoca servir sao gabriel cachoeirar conhecido cabeca cachorro contar ocorrer portar_principe haiti tropa comandar disparar_mil balir dezena_civil morrer incluir_mulher criancas',\n",
              " 'ministrar_tarcisio missao haiti',\n",
              " 'aperfeicoamento_oficiar nov_atuou missao_nacoes unir_estabilizacao haiti chefe_secao tecnica_companhia engenhar brasil obter_certificacao ppp_public private_partnerships focus_roads londres',\n",
              " 'haiti pontar referenciar pra casar',\n",
              " 'nome agora diferente haiti mudar',\n",
              " 'desculpar demorar missao_paz haiti',\n",
              " 'ciro antar gregorio entrar meter ir votar lula turno pensar defeso_democracia ir votar acriticamente sacanagem enfiar olho o_onde chuva protesto alianca alckimin criticar papel haiti comeca mal',\n",
              " 'ver finar nba jogao',\n",
              " 'vagabundar nao conhecer nado nao conhecer haiti missao ffaa desastre apertar apaziguar eua lamentavel senhor apoiador fascista',\n",
              " 'mudar pai acordar santo passar ser venezuela rumar haiti',\n",
              " 'ministrar_tarcisio haiti continencia respeitar patria_amar brasil',\n",
              " 'tarcisio realmente pessoa carater desconhecer participacao missao haiti grande feito ministrar obrar viarias transposicao velho chico nordestino credenciando futurar_governador sao_paulo benvindo tarcisio',\n",
              " 'prezar respeitar colocacao pôr achar nunca haiti atar general ficar perigar constante nao bolsonariata pôr melhor pai ultimos_ano bolsonaro sds',\n",
              " 'entao tal ken haiti',\n",
              " 'ken haiti atacar_novamente mostrar garrafa pet frente perigar',\n",
              " 'facil haiti ganhar_copar motor arrumar kkk',\n",
              " 'porque nao opcao saber haiti',\n",
              " 'pessoal haitiano regiao abrir lugar comido gostoso igual pessoal shawarma favor obrigar',\n",
              " 'grande homem revolucionario haitiano toussaint',\n",
              " 'haiti antar ser governador',\n",
              " 'mesmo semana receber proposto semelhante alguem haiti foto avatar huahuahauhauahaauhauha',\n",
              " 'capitao_tarcisio endereco missao haiti',\n",
              " 'sim querer tarcisio haiti proximo governador',\n",
              " 'voces saber colonizador invadir haiti originarios regiao cometer suicidios massa nao ser escravisados',\n",
              " 'veicular_problema mecanico_ruir haiti ruir_patagonia direcao bairro rebocar bhtrans deslocamento',\n",
              " 'brasil perder projecao_crescimento pro haiti gente defender asno presidencia',\n",
              " 'falir sobrar inumeras denunciar relacionar violacao_direito humano envolver tropa_brasileiro haiti',\n",
              " 'pedir pra paciente haitiano colher amostrar urinar hoje responder achar nao ir conseguir acabar fazer mijar',\n",
              " 'james_escrever historiar definitivo revolucao haitiano',\n",
              " 'pacifista triste historiar bob_marley fazer abrir brecha pacifismo diante faxinar etnico social continuar direito legitimar_defeso tornar necessidade vietna haiti toussaint_louventure',\n",
              " 'caro fazer monitoramento territorio soberano algo o mesmo fazer faziamos nerdola bilionario aplaudir passar entregar soberania achar_ruim imigrante haitiano pobre trabalhar subemprego qualquer',\n",
              " 'mexico nao ficar america_sul animal aqui dever achar jamaica haiti ficar_africa',\n",
              " 'paradoxar ideal praticar libertar_egalite fraternite humano dizer sao humano dizer ideal opressor oprimir iluminismo treva veu dizer ser luzir vivo ilhar_saint domingue vivo haiti',\n",
              " 'rumor corrupcao agressao sexual sempre eleito presidente_federacao intocavel haiti comum praticar patrao dirigente chef diretor favor posicao trabalhar mulher trocar_sexo todo_mundo saber d_isso ninguem fazer nado',\n",
              " 'engracado banir_fifa poder comparecer nenhum jogar oficial injustica haitiano dizer nao encontrar nenhum provar crime_cometer durante_ano presidente_federacao futebol haitiano sempre',\n",
              " 'ler suposto relacao_hegel rev haiti questao interessante chegar ser_comico defender caro usar ismo tirar fardar merecer carregar sim sao racista praticar silenciar silenciar tambem formar acao',\n",
              " 'seriar_netflix chamar who shot the sheriff mostrar detalhe ronald reagan tornar infernar vidar todo americas caribe tradicao multiplos massacre haiti motivar puro racismo campeao paz engolir',\n",
              " 'nao preciso ser inteligente pra sentir_cheirar enxofrar noves escandalo haiti absurdo grotesco maior absurdo gente dever desculpar mafia russo mafia italiano chamar lixar fifa mafia horror',\n",
              " 'adimirava acoes durante trajetoria governar bolsonaro agora ainda admirar realmente nao saber fazer partir missao haiti votar senhor sao_paulo presidente bolsonaro tambem fazer excelente_trabalhar',\n",
              " 'futebol haitiano servir redar abusar_sexual pedofilia afirmar revisto',\n",
              " 'pai haiti tbm capitalista bom',\n",
              " 'pai haiti socialista tbm',\n",
              " 'impressionante haiti politicar safar',\n",
              " 'algum ano_atro evento irmao trabalhar gilberto_gil cantar haiti aqui publicar pagar real elite plateia todo cantar feliz surreal',\n",
              " 'mexico pai velho populoso america_sul pai velho america_sul colombia america_latino haiti maior populacao brasil maior densidade demografica barbar mexico america_norte',\n",
              " 'feliz_aniversariar toussaint_ouverture nascer_maio ouverture escravo liderar revolucao haitiano derrotar_colonizador francês_espanhois estabelecer primeiro_republicar negro livrar logo_apo morte',\n",
              " 'sim claro eita tarcisio sao paz haiti',\n",
              " 'fazer partir missao_paz onu haiti encontrar guerra viver_pelar horar combater verdade aprender paz preciso ser conquistar dia dia estrategia_coragem acao',\n",
              " 'fazer partir missao_paz onu haiti encontrar guerra viver_pelar horar combater verdade aprender paz preciso ser conquistar dia dia estrategia_coragem acao conhecer heroi guerra',\n",
              " 'vivo_jacobino negro vivo_revolucao haitiano',\n",
              " 'fazer partir missao_paz onu haiti encontrar guerra viver_pelar horar combater verdade aprender paz preciso ser conquistar dia dia estrategia_coragem acao ver alar tudo combater guerra',\n",
              " 'tratar maior escandalos historiar futebol infelizmente receber pouco atencao dever falto pesar haiti futebol mundial vitimar esquema identificar muito menor_idade infelizmente cometer_suicidio',\n",
              " 'visitar dizer texto blatter receber favor_sexual funcionar federacao haitiano hotel reportagem descrever jean_bart comemorar blatter gostar mulher haitiano mandar pilular azul cartola fifa',\n",
              " 'presidente haiti temer fifa_banir pai futebol interferencia governamental casar jean_bart caisse assinante copar alar copar ler_texto sobrar punicoes fifa tipo interferencia saber acontecer fifa assim desejar',\n",
              " 'michel_martelly eleito presidente haiti objetivos remover jean_bart comandar futebol pôr jean_bart proximo blatter conseguir entao presidente fifa visitar pai dar apoiar martelly recuar',\n",
              " 'yves_jean bart tornar presidente_federacao haiti apesar d_isso somente novembro apo investigacao jornal britanico the_guardian revelar haver abusar_sexualmente menos atleta banir pra sempre futebol fifa',\n",
              " 'entrevistar molinar capitao selecao haiti ernso laurence dizer cartola fifa concacaf ir pai averiguar situacao receber garoto garotar presentar assim embora saber acontecer tornar_cumplices',\n",
              " 'tras d_esse redar abusar presidente_federacao haitiano yves_jean bart haver transformar centrar_treinamento selecoes pai infernar_terra segundar depoimento vitimar confiscar passaporte manter sob vigilancia',\n",
              " 'decadas federacao_futebol haiti redar abusar_sexual jogador arbitros funcionarios incluir menor_idade novo reportagem bombastica afirmar receber favor_sexual ser sepp blatter presidente fifa',\n",
              " 'tarcisao missao_paz haiti',\n",
              " 'aqui virar_misturar ucrania haiti',\n",
              " 'quatro_ano transformar haiti',\n",
              " 'enquanto tarcisio haiti haddad aceitar assumir ministerio durante auge mensalao atender chamar patria outro',\n",
              " 'destruir branco tudo possuir morrer falhar n_esse promessa primeiro noite sangrento guerra_civil colonial racial durar atar proclamacao_independencia haiti toussaint_ouverture escravo atar ano',\n",
              " 'revolucionario haitiano toussaint_louverture nascer n_este dia aqui traducao predileta sobrar contribuicao fundamental historiador james narrar revolucao haitiano jacobino_negro',\n",
              " 'alar galera sao_paulo ver voces terao governador maravilhar competencia patriotismo ano tarcisio_freitas cumprir_missao paz haiti periodo',\n",
              " 'hulk nao convocar pra selecao haiti',\n",
              " 'agora evoluir amigar haitiano amigar tonho lua',\n",
              " 'pouco assistir ligar tal minoria propaganda novelar lacrador problema ter gente branco brasil pai mestico nao pai negro igual haiti normal ter pardo claro branco',\n",
              " 'versao colonial historiar invisibiliza importante_figurar levante tarefar lembrar toussaint_louverture revolucionario negro frente revolucao haiti seculo_xviii',\n",
              " 'infelizmente unica_coisa onu fazer haiti expressao bem comum fihos onu',\n",
              " 'sepp blatter visitar haiti funcionar federacao_futebol pai tera ser forcar dormir presidente fifa pedir comprimir azul',\n",
              " 'considerar resultar trabalhar valoroso_exercitar haiti esperar pessoa eleito governador algum provincia turcomenistao nao sao_paulo outro tao pouco paulista aqui pra eleger carioca pra governador sao_paulo',\n",
              " 'certamente haiti servir ano fazer_turismo fardar mada resolver pai seguir caos apo tanto ano propaganda petista chamar minustah',\n",
              " 'revolucionario haitiano toussaint_louverture nascer n_este dia liderar maior_revolto escravo historiar dar basto contra_opressao racista vidar legar extraordinarios continuar inspirar_lutar liberdade hoje',\n",
              " 'apostar saber tarcisio assessor ministerio infraestrutura diretor dnit governar tudo sempre indicar missao haiti propaganda adular onu etc',\n",
              " 'dia camelo aqui campar_grande camisa escrito celtics escrito formato lakers azul amarelo nome jordan perguntar onde comprar_camisa dizer trazer haiti',\n",
              " 'sao capacete_azul combatente forcar_armar missao haiti',\n",
              " 'amigar servir haiti trazer muito foto d_esse epoca',\n",
              " 'dirigente maximo fifa haiti visitar centrar entidade ajudar financiar entao presidente_federacao pai entretanto banir futebol dever varios_caso abusar_sexual tera obrigar funcio',\n",
              " 'fazer partir missao_paz onu haiti encontrar guerra viver_pelar sao_paulo viver hoje verdadeiro guerra ruir certar experiencia poder ajudar acabar tarcisio trabalhar',\n",
              " 'rolar um negocios mear esquisito haiti nao nao brother',\n",
              " 'coisa nao ligacao outro desconfiar verdade acusacao quantum soldar pois exercitar elogiar missao_paz haiti',\n",
              " 'tolo minustah propaganda haver guerra haiti seguir ser mesmo bagunca sempre apo gastar_milhoes dinheiro_contribuinte puxar_sacar onu muito entender servir',\n",
              " 'haiti ministrar governar_federal governador sao_paulo',\n",
              " 'ano tarcisio_freitas cumprir_missao paz haiti periodo fernando_haddad ministrar governar_lula comecava afundar escandalo mensalao',\n",
              " 'jhon titor nado tal haitiano viajante_tempo',\n",
              " 'guerra haiti jogar video_gamar rebeliao onde armar potente estilingue querer falar sobrar guerra ver parede sala',\n",
              " 'haitiano acertar_cheio primeiro ano mandatar bolsonaro',\n",
              " 'general_heleno afirmar sobrar professorar ser maconheiros participar_missoes paz haiti durante_periodo alto_indice estuprar vir soldar_brasileiro',\n",
              " 'ministrar_tarcisio ajudar haiti irar levantar',\n",
              " 'obrigar guardar onu problema plenamente resolvido juntar carissima patacoada haiti',\n",
              " 'ano colocar brasil ultimar lugar educacao mundial atro haiti',\n",
              " 'querer ver peitar pra pra ficar longe casar ainda correr_riscar ganja tirar caro olhar haiti atar general dar tirar_cabeca',\n",
              " 'valer elon_musk unir bolsonaro acelerar genocidio_indigena destruicao_amazonia gente preciso aprender um negoco revolucao haitiano',\n",
              " 'hoje nascer libertador haiti toussant leuverture honrar ousar lutar',\n",
              " 'otimo ler_artigo sobrar_revolucao haiti',\n",
              " 'brasil este atro venezuela nicaragua haiti outro_paises latinar_americano ir ter crescimento venezuela crescer',\n",
              " 'haitiano fdp dar cena raca ruim',\n",
              " 'nao haiti ir arriscar_vidar dinheiro melhorar militar escalar missao',\n",
              " 'missao_onu piar haiti continuar mesmo miserabilidade sempre fato nao resolver absolutamente_nado nao ser publicidade internacional propaganda eleitoral',\n",
              " 'fazer materia morinigo struway feriar paraguaio entrevisto kazu pro matsuri cheio imigrante haitiano curitiba ainda pouco integrar cidade fazer acao caro coutar trocentas possibilidade fazer motivar certar menos facam',\n",
              " 'nao falir_besteira nao querer missao d_esse haiti camarada passar n_aquele epoca garantir imaginar falir garantir nao coragem_peitar participar_missao',\n",
              " 'pronto faltar fazer aqui lambanca fazer haiti',\n",
              " 'primeiro missoes_onu haiti terriveis saber umq verdadeiro desgraca guerra_urbano sangrento maioria nao este preparar converso pouco falir',\n",
              " 'haiti pai guerra_civil onde chuveiro quentar luxar entender criticar',\n",
              " 'tarcisio_freitas haiti missao_paz exercitar_brasileiro',\n",
              " 'proximo gov sao_paulo fazer partir missao_paz onu haiti encontrar guerra viver_pelar horar combater verdade aprender paz preciso ser conquistar dia dia estrategia_coragem acao',\n",
              " 'certeza dever_ter ser dificil soldar_brasileiro comunicar populacao falir_frances crioulo_haitiano',\n",
              " 'seras governador sao_paulo preparar guerra aqui nao diferente enfrentar haiti talvez aqui pouco mal deus_abencoe senhor',\n",
              " 'atar_hoje haiti este merda tao bonzao assim vcs conseguir_pacificar melhorar povo haitiano atar_hoje fugir pai procurar brasil outro_paises refugiar',\n",
              " 'agenciar_reuters dizer asfaltar todo haiti',\n",
              " 'bom_dia patricia sim tarcisio missao haiti',\n",
              " 'horar lula parar fazer trabalhar_sujar bush haiti',\n",
              " 'bom_dia ministrar haiti tambem contingente talvez participar_missao mesmo epoca maior aprendizado vidar obrigar tudo vir fazer pai',\n",
              " 'senhor desculpar voce mentiroso nunca guerra haiti',\n",
              " 'fazer partir missao_paz onu haiti viver horar combater verdade aprender paz preciso ser conquistar dia dia estrategia_coragem acao guerra ruir certar experiencia poder acabar',\n",
              " 'entao querer dizer voce nao conseguir_enxergar alar palmar nariz nao conseguir achar_estranhar exercitar pai limpar desgraca franco fazer haiti enquanto exercitar franco outro_paises europeu ficar cocar ovo',\n",
              " 'provavelmente voce passar tempo haiti sao_paulo talvez voce dever candidatar governar',\n",
              " 'tarcisio belga mao missao_onu haiti',\n",
              " 'entender agora saber haiti este merda',\n",
              " ...]"
            ]
          },
          "metadata": {},
          "execution_count": 50
        }
      ]
    },
    {
      "cell_type": "markdown",
      "metadata": {
        "id": "sDr540tzEMcg"
      },
      "source": [
        "###Stematização ( não será usado na experimentação)"
      ]
    },
    {
      "cell_type": "code",
      "execution_count": 36,
      "metadata": {
        "id": "spEstnAEEPa4"
      },
      "outputs": [],
      "source": [
        "#string_stem_example = 'capacetes brancos ajudaram haiti pare besteira ajudou haiti fim exercito capacetes brancos resolvem problema presos campos concentracao argentina criou'"
      ]
    },
    {
      "cell_type": "code",
      "execution_count": 37,
      "metadata": {
        "id": "sxGZ0sKtErVc"
      },
      "outputs": [],
      "source": [
        "# def stemming(tweet):\n",
        "#   document = pln(tweet)\n",
        "#   stemmer = nltk.stem.RSLPStemmer()\n",
        "#   return ' '.join([stemmer.stem(token.text) for token in document])"
      ]
    },
    {
      "cell_type": "code",
      "execution_count": 38,
      "metadata": {
        "id": "E5Wxc-D_Ex4_"
      },
      "outputs": [],
      "source": [
        "#string_stem_example = stemming(string_stem_example)"
      ]
    },
    {
      "cell_type": "code",
      "execution_count": 39,
      "metadata": {
        "id": "TcSVDRNCE4RQ"
      },
      "outputs": [],
      "source": [
        "# string_stem_example"
      ]
    },
    {
      "cell_type": "code",
      "execution_count": 40,
      "metadata": {
        "id": "THBmoMozOj9I"
      },
      "outputs": [],
      "source": [
        "# tweets_stem = tweets_pre_proc.copy()\n",
        "# tweets_stem['text'] = tweets_pre_proc['text'].map(lambda tweet: stemming(tweet))"
      ]
    },
    {
      "cell_type": "code",
      "execution_count": 41,
      "metadata": {
        "id": "xMDljXZzO6Mg"
      },
      "outputs": [],
      "source": [
        "#tweets_stem.text.head().tolist()"
      ]
    },
    {
      "cell_type": "markdown",
      "metadata": {
        "id": "MnRiIaCuWFmn"
      },
      "source": [
        "#Comparação de tweets originais, pré-processados, lematizados, **bigramados e **stematizados"
      ]
    },
    {
      "cell_type": "markdown",
      "metadata": {
        "id": "IhsrDBUGWUX4"
      },
      "source": [
        "###Tweets originais"
      ]
    },
    {
      "cell_type": "code",
      "execution_count": 42,
      "metadata": {
        "id": "mbsDEFUbWEpD",
        "colab": {
          "base_uri": "https://localhost:8080/"
        },
        "outputId": "71398e45-62ba-471f-8458-381392b6bbf8"
      },
      "outputs": [
        {
          "output_type": "execute_result",
          "data": {
            "text/plain": [
              "['@geglobo Paquetá é haitiano',\n",
              " '@BetoLuiz_RU @jonesmanoel_PCB @deccache O Haiti foi uma desgraça de fato.Mas os erros nao anulam os acertos.E quando ele fala sobre a guerra na Ucrania ele vem se posicionando muito bem,criticando a postura do zelensky',\n",
              " 'O senhor vai investir na educação da Venezuela, Argentina, Haiti,cuba, e etc países comunistas?, porque aqui no Brasil o Senhor nunca fez isso. https://t.co/jmVSYbsG2X',\n",
              " '@rsallesmma Que nada, na mão de vocês já tá virando uma mistura de deserto do Saara com Haiti',\n",
              " '@JoppertLeonardo @jonesmanoel_PCB @deccache Entramos nos BRICS, mas invadimos o Haiti a mando do Bush!\\n\\nLula diz que vai fortalecer os brics mas faz palestras no Parlamento Europeu que está tratando Rússia e china como inimigos mortais, como isso vai funcionar???']"
            ]
          },
          "metadata": {},
          "execution_count": 42
        }
      ],
      "source": [
        "tweets_orig.text.head().tolist()"
      ]
    },
    {
      "cell_type": "markdown",
      "metadata": {
        "id": "VwCswcJ2Weai"
      },
      "source": [
        "### Tweets pré-processados"
      ]
    },
    {
      "cell_type": "code",
      "execution_count": 43,
      "metadata": {
        "id": "v_9v4lKcWdX4",
        "colab": {
          "base_uri": "https://localhost:8080/"
        },
        "outputId": "3d58de67-f3d9-404e-eeac-69cf5b9e61db"
      },
      "outputs": [
        {
          "output_type": "execute_result",
          "data": {
            "text/plain": [
              "['haiti desgraca fato erros anulam acertos fala sobre guerra ucrania vem posicionando bem criticando postura zelensky',\n",
              " 'senhor vai investir educacao venezuela argentina haiti cuba etc paises comunistas porque aqui brasil senhor nunca fez',\n",
              " 'nada mao voces virando mistura deserto saara haiti',\n",
              " 'entramos brics invadimos haiti mando bush lula diz vai fortalecer brics faz palestras parlamento europeu esta tratando russia china inimigos mortais vai funcionar ',\n",
              " 'haitiano entendi nada falavam']"
            ]
          },
          "metadata": {},
          "execution_count": 43
        }
      ],
      "source": [
        "tweets_pre_proc.text_preprocessed.head().tolist()"
      ]
    },
    {
      "cell_type": "markdown",
      "metadata": {
        "id": "dxW4UASqWmpo"
      },
      "source": [
        "###Tweets lematizados"
      ]
    },
    {
      "cell_type": "code",
      "execution_count": 44,
      "metadata": {
        "id": "XZWfGcaFWmKj",
        "colab": {
          "base_uri": "https://localhost:8080/"
        },
        "outputId": "99360e18-45e2-4b25-8aff-036d28c72866"
      },
      "outputs": [
        {
          "output_type": "execute_result",
          "data": {
            "text/plain": [
              "['haiti desgraca fato erro anular acerto falir sobrar guerra ucrania vir posicionar bem criticar posturar zelensky',\n",
              " 'senhor ir investir educacao venezuela argentino haiti cubar etc paises comunista porque aqui brasil senhor nunca fazer',\n",
              " 'nado mao voces virar misturar desertar saara haiti',\n",
              " 'entrar brics invadir haiti mandar bush lula dizer ir fortalecer brics fazer palestrar parlamentar europeu este tratar russia chino inimigo mortal ir funcionar',\n",
              " 'haitiano entender nado falar']"
            ]
          },
          "metadata": {},
          "execution_count": 44
        }
      ],
      "source": [
        "tweets_pre_proc.text_lematizados.head().tolist()"
      ]
    },
    {
      "cell_type": "code",
      "source": [
        "tweets_pre_proc.bigrams_text.head().tolist()"
      ],
      "metadata": {
        "id": "TOFSwjkdL4se",
        "outputId": "6227ae75-5d93-459e-839d-22ffe7fc98f9",
        "colab": {
          "base_uri": "https://localhost:8080/"
        }
      },
      "execution_count": 52,
      "outputs": [
        {
          "output_type": "execute_result",
          "data": {
            "text/plain": [
              "['haiti desgraca fato erro anular acerto falir sobrar guerra_ucrania vir posicionar bem criticar posturar zelensky',\n",
              " 'senhor ir investir_educacao venezuela argentino haiti cubar etc paises comunista porque aqui brasil senhor nunca fazer',\n",
              " 'nado mao voces virar_misturar desertar_saara haiti',\n",
              " 'entrar brics invadir haiti mandar bush lula dizer ir fortalecer brics fazer palestrar parlamentar europeu este tratar russia_chino inimigo mortal ir funcionar',\n",
              " 'haitiano entender_nado falar']"
            ]
          },
          "metadata": {},
          "execution_count": 52
        }
      ]
    },
    {
      "cell_type": "markdown",
      "source": [
        "###Tweets com bigramas"
      ],
      "metadata": {
        "id": "iG9csU4bL5hx"
      }
    },
    {
      "cell_type": "markdown",
      "metadata": {
        "id": "edOZm1e_WzDB"
      },
      "source": [
        "###Tweets stematizados"
      ]
    },
    {
      "cell_type": "code",
      "execution_count": 45,
      "metadata": {
        "id": "VIAbuvtZWwxg"
      },
      "outputs": [],
      "source": [
        "#tweets_stem.text.head().tolist()"
      ]
    },
    {
      "cell_type": "markdown",
      "metadata": {
        "id": "tI_Fn8Q8hiwE"
      },
      "source": [
        "##Criando o arquivo .csv dos tweets"
      ]
    },
    {
      "cell_type": "code",
      "execution_count": 46,
      "metadata": {
        "id": "REQ5FB9hHOtE"
      },
      "outputs": [],
      "source": [
        "df = pd.DataFrame(tweets_pre_proc)\n",
        "df.to_csv('/content/drive/My Drive/Colab Notebooks/TCC/csv/pre_processed_tweets.csv')"
      ]
    }
  ],
  "metadata": {
    "colab": {
      "collapsed_sections": [],
      "name": "preprocessing_tweets.ipynb",
      "provenance": [],
      "authorship_tag": "ABX9TyONn4gdGjBSMhf8aXzJyfnY",
      "include_colab_link": true
    },
    "kernelspec": {
      "display_name": "Python 3",
      "name": "python3"
    },
    "language_info": {
      "name": "python"
    }
  },
  "nbformat": 4,
  "nbformat_minor": 0
}