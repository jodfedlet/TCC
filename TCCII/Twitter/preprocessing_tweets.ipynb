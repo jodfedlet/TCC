{
  "cells": [
    {
      "cell_type": "markdown",
      "metadata": {
        "id": "view-in-github",
        "colab_type": "text"
      },
      "source": [
        "<a href=\"https://colab.research.google.com/github/jodfedlet/TCC/blob/main/TCCII/Twitter/preprocessing_tweets.ipynb\" target=\"_parent\"><img src=\"https://colab.research.google.com/assets/colab-badge.svg\" alt=\"Open In Colab\"/></a>"
      ]
    },
    {
      "cell_type": "markdown",
      "metadata": {
        "id": "0qZ61swqh5PS"
      },
      "source": [
        ""
      ]
    },
    {
      "cell_type": "markdown",
      "metadata": {
        "id": "jlCU2XyBh6Jp"
      },
      "source": [
        "###Importando/instalando bibliotecas"
      ]
    },
    {
      "cell_type": "code",
      "execution_count": 55,
      "metadata": {
        "colab": {
          "base_uri": "https://localhost:8080/"
        },
        "id": "7qwmUtJFaqq5",
        "outputId": "23ac6f15-04ef-4f2a-fd7b-cf44d312e9fa"
      },
      "outputs": [
        {
          "output_type": "stream",
          "name": "stdout",
          "text": [
            "Looking in indexes: https://pypi.org/simple, https://us-python.pkg.dev/colab-wheels/public/simple/\n",
            "Requirement already satisfied: unidecode in /usr/local/lib/python3.7/dist-packages (1.3.4)\n",
            "Looking in indexes: https://pypi.org/simple, https://us-python.pkg.dev/colab-wheels/public/simple/\n",
            "Collecting pt_core_news_sm==2.2.5\n",
            "  Downloading https://github.com/explosion/spacy-models/releases/download/pt_core_news_sm-2.2.5/pt_core_news_sm-2.2.5.tar.gz (21.2 MB)\n",
            "\u001b[K     |████████████████████████████████| 21.2 MB 1.2 MB/s \n",
            "\u001b[?25hRequirement already satisfied: spacy>=2.2.2 in /usr/local/lib/python3.7/dist-packages (from pt_core_news_sm==2.2.5) (2.2.4)\n",
            "Requirement already satisfied: murmurhash<1.1.0,>=0.28.0 in /usr/local/lib/python3.7/dist-packages (from spacy>=2.2.2->pt_core_news_sm==2.2.5) (1.0.7)\n",
            "Requirement already satisfied: wasabi<1.1.0,>=0.4.0 in /usr/local/lib/python3.7/dist-packages (from spacy>=2.2.2->pt_core_news_sm==2.2.5) (0.9.1)\n",
            "Requirement already satisfied: setuptools in /usr/local/lib/python3.7/dist-packages (from spacy>=2.2.2->pt_core_news_sm==2.2.5) (57.4.0)\n",
            "Requirement already satisfied: thinc==7.4.0 in /usr/local/lib/python3.7/dist-packages (from spacy>=2.2.2->pt_core_news_sm==2.2.5) (7.4.0)\n",
            "Requirement already satisfied: plac<1.2.0,>=0.9.6 in /usr/local/lib/python3.7/dist-packages (from spacy>=2.2.2->pt_core_news_sm==2.2.5) (1.1.3)\n",
            "Requirement already satisfied: preshed<3.1.0,>=3.0.2 in /usr/local/lib/python3.7/dist-packages (from spacy>=2.2.2->pt_core_news_sm==2.2.5) (3.0.6)\n",
            "Requirement already satisfied: cymem<2.1.0,>=2.0.2 in /usr/local/lib/python3.7/dist-packages (from spacy>=2.2.2->pt_core_news_sm==2.2.5) (2.0.6)\n",
            "Requirement already satisfied: tqdm<5.0.0,>=4.38.0 in /usr/local/lib/python3.7/dist-packages (from spacy>=2.2.2->pt_core_news_sm==2.2.5) (4.64.0)\n",
            "Requirement already satisfied: srsly<1.1.0,>=1.0.2 in /usr/local/lib/python3.7/dist-packages (from spacy>=2.2.2->pt_core_news_sm==2.2.5) (1.0.5)\n",
            "Requirement already satisfied: numpy>=1.15.0 in /usr/local/lib/python3.7/dist-packages (from spacy>=2.2.2->pt_core_news_sm==2.2.5) (1.21.6)\n",
            "Requirement already satisfied: blis<0.5.0,>=0.4.0 in /usr/local/lib/python3.7/dist-packages (from spacy>=2.2.2->pt_core_news_sm==2.2.5) (0.4.1)\n",
            "Requirement already satisfied: requests<3.0.0,>=2.13.0 in /usr/local/lib/python3.7/dist-packages (from spacy>=2.2.2->pt_core_news_sm==2.2.5) (2.23.0)\n",
            "Requirement already satisfied: catalogue<1.1.0,>=0.0.7 in /usr/local/lib/python3.7/dist-packages (from spacy>=2.2.2->pt_core_news_sm==2.2.5) (1.0.0)\n",
            "Requirement already satisfied: importlib-metadata>=0.20 in /usr/local/lib/python3.7/dist-packages (from catalogue<1.1.0,>=0.0.7->spacy>=2.2.2->pt_core_news_sm==2.2.5) (4.11.4)\n",
            "Requirement already satisfied: typing-extensions>=3.6.4 in /usr/local/lib/python3.7/dist-packages (from importlib-metadata>=0.20->catalogue<1.1.0,>=0.0.7->spacy>=2.2.2->pt_core_news_sm==2.2.5) (4.2.0)\n",
            "Requirement already satisfied: zipp>=0.5 in /usr/local/lib/python3.7/dist-packages (from importlib-metadata>=0.20->catalogue<1.1.0,>=0.0.7->spacy>=2.2.2->pt_core_news_sm==2.2.5) (3.8.0)\n",
            "Requirement already satisfied: idna<3,>=2.5 in /usr/local/lib/python3.7/dist-packages (from requests<3.0.0,>=2.13.0->spacy>=2.2.2->pt_core_news_sm==2.2.5) (2.10)\n",
            "Requirement already satisfied: certifi>=2017.4.17 in /usr/local/lib/python3.7/dist-packages (from requests<3.0.0,>=2.13.0->spacy>=2.2.2->pt_core_news_sm==2.2.5) (2022.5.18.1)\n",
            "Requirement already satisfied: urllib3!=1.25.0,!=1.25.1,<1.26,>=1.21.1 in /usr/local/lib/python3.7/dist-packages (from requests<3.0.0,>=2.13.0->spacy>=2.2.2->pt_core_news_sm==2.2.5) (1.24.3)\n",
            "Requirement already satisfied: chardet<4,>=3.0.2 in /usr/local/lib/python3.7/dist-packages (from requests<3.0.0,>=2.13.0->spacy>=2.2.2->pt_core_news_sm==2.2.5) (3.0.4)\n",
            "\u001b[38;5;2m✔ Download and installation successful\u001b[0m\n",
            "You can now load the model via spacy.load('pt_core_news_sm')\n",
            "\u001b[38;5;2m✔ Linking successful\u001b[0m\n",
            "/usr/local/lib/python3.7/dist-packages/pt_core_news_sm -->\n",
            "/usr/local/lib/python3.7/dist-packages/spacy/data/pt\n",
            "You can now load the model via spacy.load('pt')\n"
          ]
        }
      ],
      "source": [
        "!pip install unidecode\n",
        "!python3 -m spacy download pt"
      ]
    },
    {
      "cell_type": "code",
      "execution_count": 56,
      "metadata": {
        "colab": {
          "base_uri": "https://localhost:8080/"
        },
        "id": "72EwE3OMOl0X",
        "outputId": "471385af-e1fb-4303-e391-04df69355ce8"
      },
      "outputs": [
        {
          "output_type": "stream",
          "name": "stdout",
          "text": [
            "Drive already mounted at /content/drive; to attempt to forcibly remount, call drive.mount(\"/content/drive\", force_remount=True).\n",
            "[nltk_data] Downloading collection 'all-corpora'\n",
            "[nltk_data]    | \n",
            "[nltk_data]    | Downloading package abc to /root/nltk_data...\n",
            "[nltk_data]    |   Package abc is already up-to-date!\n",
            "[nltk_data]    | Downloading package alpino to /root/nltk_data...\n",
            "[nltk_data]    |   Package alpino is already up-to-date!\n",
            "[nltk_data]    | Downloading package biocreative_ppi to\n",
            "[nltk_data]    |     /root/nltk_data...\n",
            "[nltk_data]    |   Package biocreative_ppi is already up-to-date!\n",
            "[nltk_data]    | Downloading package brown to /root/nltk_data...\n",
            "[nltk_data]    |   Package brown is already up-to-date!\n",
            "[nltk_data]    | Downloading package brown_tei to /root/nltk_data...\n",
            "[nltk_data]    |   Package brown_tei is already up-to-date!\n",
            "[nltk_data]    | Downloading package cess_cat to /root/nltk_data...\n",
            "[nltk_data]    |   Package cess_cat is already up-to-date!\n",
            "[nltk_data]    | Downloading package cess_esp to /root/nltk_data...\n",
            "[nltk_data]    |   Package cess_esp is already up-to-date!\n",
            "[nltk_data]    | Downloading package chat80 to /root/nltk_data...\n",
            "[nltk_data]    |   Package chat80 is already up-to-date!\n",
            "[nltk_data]    | Downloading package city_database to\n",
            "[nltk_data]    |     /root/nltk_data...\n",
            "[nltk_data]    |   Package city_database is already up-to-date!\n",
            "[nltk_data]    | Downloading package cmudict to /root/nltk_data...\n",
            "[nltk_data]    |   Package cmudict is already up-to-date!\n",
            "[nltk_data]    | Downloading package comparative_sentences to\n",
            "[nltk_data]    |     /root/nltk_data...\n",
            "[nltk_data]    |   Package comparative_sentences is already up-to-\n",
            "[nltk_data]    |       date!\n",
            "[nltk_data]    | Downloading package comtrans to /root/nltk_data...\n",
            "[nltk_data]    |   Package comtrans is already up-to-date!\n",
            "[nltk_data]    | Downloading package conll2000 to /root/nltk_data...\n",
            "[nltk_data]    |   Package conll2000 is already up-to-date!\n",
            "[nltk_data]    | Downloading package conll2002 to /root/nltk_data...\n",
            "[nltk_data]    |   Package conll2002 is already up-to-date!\n",
            "[nltk_data]    | Downloading package conll2007 to /root/nltk_data...\n",
            "[nltk_data]    |   Package conll2007 is already up-to-date!\n",
            "[nltk_data]    | Downloading package crubadan to /root/nltk_data...\n",
            "[nltk_data]    |   Package crubadan is already up-to-date!\n",
            "[nltk_data]    | Downloading package dependency_treebank to\n",
            "[nltk_data]    |     /root/nltk_data...\n",
            "[nltk_data]    |   Package dependency_treebank is already up-to-date!\n",
            "[nltk_data]    | Downloading package dolch to /root/nltk_data...\n",
            "[nltk_data]    |   Package dolch is already up-to-date!\n",
            "[nltk_data]    | Downloading package europarl_raw to\n",
            "[nltk_data]    |     /root/nltk_data...\n",
            "[nltk_data]    |   Package europarl_raw is already up-to-date!\n",
            "[nltk_data]    | Downloading package extended_omw to\n",
            "[nltk_data]    |     /root/nltk_data...\n",
            "[nltk_data]    |   Package extended_omw is already up-to-date!\n",
            "[nltk_data]    | Downloading package floresta to /root/nltk_data...\n",
            "[nltk_data]    |   Package floresta is already up-to-date!\n",
            "[nltk_data]    | Downloading package framenet_v15 to\n",
            "[nltk_data]    |     /root/nltk_data...\n",
            "[nltk_data]    |   Package framenet_v15 is already up-to-date!\n",
            "[nltk_data]    | Downloading package framenet_v17 to\n",
            "[nltk_data]    |     /root/nltk_data...\n",
            "[nltk_data]    |   Package framenet_v17 is already up-to-date!\n",
            "[nltk_data]    | Downloading package gazetteers to /root/nltk_data...\n",
            "[nltk_data]    |   Package gazetteers is already up-to-date!\n",
            "[nltk_data]    | Downloading package genesis to /root/nltk_data...\n",
            "[nltk_data]    |   Package genesis is already up-to-date!\n",
            "[nltk_data]    | Downloading package gutenberg to /root/nltk_data...\n",
            "[nltk_data]    |   Package gutenberg is already up-to-date!\n",
            "[nltk_data]    | Downloading package ieer to /root/nltk_data...\n",
            "[nltk_data]    |   Package ieer is already up-to-date!\n",
            "[nltk_data]    | Downloading package inaugural to /root/nltk_data...\n",
            "[nltk_data]    |   Package inaugural is already up-to-date!\n",
            "[nltk_data]    | Downloading package indian to /root/nltk_data...\n",
            "[nltk_data]    |   Package indian is already up-to-date!\n",
            "[nltk_data]    | Downloading package jeita to /root/nltk_data...\n",
            "[nltk_data]    |   Package jeita is already up-to-date!\n",
            "[nltk_data]    | Downloading package kimmo to /root/nltk_data...\n",
            "[nltk_data]    |   Package kimmo is already up-to-date!\n",
            "[nltk_data]    | Downloading package knbc to /root/nltk_data...\n",
            "[nltk_data]    |   Package knbc is already up-to-date!\n",
            "[nltk_data]    | Downloading package lin_thesaurus to\n",
            "[nltk_data]    |     /root/nltk_data...\n",
            "[nltk_data]    |   Package lin_thesaurus is already up-to-date!\n",
            "[nltk_data]    | Downloading package mac_morpho to /root/nltk_data...\n",
            "[nltk_data]    |   Package mac_morpho is already up-to-date!\n",
            "[nltk_data]    | Downloading package machado to /root/nltk_data...\n",
            "[nltk_data]    |   Package machado is already up-to-date!\n",
            "[nltk_data]    | Downloading package masc_tagged to /root/nltk_data...\n",
            "[nltk_data]    |   Package masc_tagged is already up-to-date!\n",
            "[nltk_data]    | Downloading package movie_reviews to\n",
            "[nltk_data]    |     /root/nltk_data...\n",
            "[nltk_data]    |   Package movie_reviews is already up-to-date!\n",
            "[nltk_data]    | Downloading package mte_teip5 to /root/nltk_data...\n",
            "[nltk_data]    |   Package mte_teip5 is already up-to-date!\n",
            "[nltk_data]    | Downloading package names to /root/nltk_data...\n",
            "[nltk_data]    |   Package names is already up-to-date!\n",
            "[nltk_data]    | Downloading package nombank.1.0 to /root/nltk_data...\n",
            "[nltk_data]    |   Package nombank.1.0 is already up-to-date!\n",
            "[nltk_data]    | Downloading package nonbreaking_prefixes to\n",
            "[nltk_data]    |     /root/nltk_data...\n",
            "[nltk_data]    |   Package nonbreaking_prefixes is already up-to-date!\n",
            "[nltk_data]    | Downloading package nps_chat to /root/nltk_data...\n",
            "[nltk_data]    |   Package nps_chat is already up-to-date!\n",
            "[nltk_data]    | Downloading package omw to /root/nltk_data...\n",
            "[nltk_data]    |   Package omw is already up-to-date!\n",
            "[nltk_data]    | Downloading package omw-1.4 to /root/nltk_data...\n",
            "[nltk_data]    |   Package omw-1.4 is already up-to-date!\n",
            "[nltk_data]    | Downloading package opinion_lexicon to\n",
            "[nltk_data]    |     /root/nltk_data...\n",
            "[nltk_data]    |   Package opinion_lexicon is already up-to-date!\n",
            "[nltk_data]    | Downloading package panlex_swadesh to\n",
            "[nltk_data]    |     /root/nltk_data...\n",
            "[nltk_data]    |   Package panlex_swadesh is already up-to-date!\n",
            "[nltk_data]    | Downloading package paradigms to /root/nltk_data...\n",
            "[nltk_data]    |   Package paradigms is already up-to-date!\n",
            "[nltk_data]    | Downloading package pe08 to /root/nltk_data...\n",
            "[nltk_data]    |   Package pe08 is already up-to-date!\n",
            "[nltk_data]    | Downloading package pil to /root/nltk_data...\n",
            "[nltk_data]    |   Package pil is already up-to-date!\n",
            "[nltk_data]    | Downloading package pl196x to /root/nltk_data...\n",
            "[nltk_data]    |   Package pl196x is already up-to-date!\n",
            "[nltk_data]    | Downloading package ppattach to /root/nltk_data...\n",
            "[nltk_data]    |   Package ppattach is already up-to-date!\n",
            "[nltk_data]    | Downloading package problem_reports to\n",
            "[nltk_data]    |     /root/nltk_data...\n",
            "[nltk_data]    |   Package problem_reports is already up-to-date!\n",
            "[nltk_data]    | Downloading package product_reviews_1 to\n",
            "[nltk_data]    |     /root/nltk_data...\n",
            "[nltk_data]    |   Package product_reviews_1 is already up-to-date!\n",
            "[nltk_data]    | Downloading package product_reviews_2 to\n",
            "[nltk_data]    |     /root/nltk_data...\n",
            "[nltk_data]    |   Package product_reviews_2 is already up-to-date!\n",
            "[nltk_data]    | Downloading package propbank to /root/nltk_data...\n",
            "[nltk_data]    |   Package propbank is already up-to-date!\n",
            "[nltk_data]    | Downloading package pros_cons to /root/nltk_data...\n",
            "[nltk_data]    |   Package pros_cons is already up-to-date!\n",
            "[nltk_data]    | Downloading package ptb to /root/nltk_data...\n",
            "[nltk_data]    |   Package ptb is already up-to-date!\n",
            "[nltk_data]    | Downloading package qc to /root/nltk_data...\n",
            "[nltk_data]    |   Package qc is already up-to-date!\n",
            "[nltk_data]    | Downloading package reuters to /root/nltk_data...\n",
            "[nltk_data]    |   Package reuters is already up-to-date!\n",
            "[nltk_data]    | Downloading package rte to /root/nltk_data...\n",
            "[nltk_data]    |   Package rte is already up-to-date!\n",
            "[nltk_data]    | Downloading package semcor to /root/nltk_data...\n",
            "[nltk_data]    |   Package semcor is already up-to-date!\n",
            "[nltk_data]    | Downloading package senseval to /root/nltk_data...\n",
            "[nltk_data]    |   Package senseval is already up-to-date!\n",
            "[nltk_data]    | Downloading package sentence_polarity to\n",
            "[nltk_data]    |     /root/nltk_data...\n",
            "[nltk_data]    |   Package sentence_polarity is already up-to-date!\n",
            "[nltk_data]    | Downloading package sentiwordnet to\n",
            "[nltk_data]    |     /root/nltk_data...\n",
            "[nltk_data]    |   Package sentiwordnet is already up-to-date!\n",
            "[nltk_data]    | Downloading package shakespeare to /root/nltk_data...\n",
            "[nltk_data]    |   Package shakespeare is already up-to-date!\n",
            "[nltk_data]    | Downloading package sinica_treebank to\n",
            "[nltk_data]    |     /root/nltk_data...\n",
            "[nltk_data]    |   Package sinica_treebank is already up-to-date!\n",
            "[nltk_data]    | Downloading package smultron to /root/nltk_data...\n",
            "[nltk_data]    |   Package smultron is already up-to-date!\n",
            "[nltk_data]    | Downloading package state_union to /root/nltk_data...\n",
            "[nltk_data]    |   Package state_union is already up-to-date!\n",
            "[nltk_data]    | Downloading package stopwords to /root/nltk_data...\n",
            "[nltk_data]    |   Package stopwords is already up-to-date!\n",
            "[nltk_data]    | Downloading package subjectivity to\n",
            "[nltk_data]    |     /root/nltk_data...\n",
            "[nltk_data]    |   Package subjectivity is already up-to-date!\n",
            "[nltk_data]    | Downloading package swadesh to /root/nltk_data...\n",
            "[nltk_data]    |   Package swadesh is already up-to-date!\n",
            "[nltk_data]    | Downloading package switchboard to /root/nltk_data...\n",
            "[nltk_data]    |   Package switchboard is already up-to-date!\n",
            "[nltk_data]    | Downloading package timit to /root/nltk_data...\n",
            "[nltk_data]    |   Package timit is already up-to-date!\n",
            "[nltk_data]    | Downloading package toolbox to /root/nltk_data...\n",
            "[nltk_data]    |   Package toolbox is already up-to-date!\n",
            "[nltk_data]    | Downloading package treebank to /root/nltk_data...\n",
            "[nltk_data]    |   Package treebank is already up-to-date!\n",
            "[nltk_data]    | Downloading package twitter_samples to\n",
            "[nltk_data]    |     /root/nltk_data...\n",
            "[nltk_data]    |   Package twitter_samples is already up-to-date!\n",
            "[nltk_data]    | Downloading package udhr to /root/nltk_data...\n",
            "[nltk_data]    |   Package udhr is already up-to-date!\n",
            "[nltk_data]    | Downloading package udhr2 to /root/nltk_data...\n",
            "[nltk_data]    |   Package udhr2 is already up-to-date!\n",
            "[nltk_data]    | Downloading package unicode_samples to\n",
            "[nltk_data]    |     /root/nltk_data...\n",
            "[nltk_data]    |   Package unicode_samples is already up-to-date!\n",
            "[nltk_data]    | Downloading package universal_treebanks_v20 to\n",
            "[nltk_data]    |     /root/nltk_data...\n",
            "[nltk_data]    |   Package universal_treebanks_v20 is already up-to-\n",
            "[nltk_data]    |       date!\n",
            "[nltk_data]    | Downloading package verbnet to /root/nltk_data...\n",
            "[nltk_data]    |   Package verbnet is already up-to-date!\n",
            "[nltk_data]    | Downloading package verbnet3 to /root/nltk_data...\n",
            "[nltk_data]    |   Package verbnet3 is already up-to-date!\n",
            "[nltk_data]    | Downloading package webtext to /root/nltk_data...\n",
            "[nltk_data]    |   Package webtext is already up-to-date!\n",
            "[nltk_data]    | Downloading package wordnet to /root/nltk_data...\n",
            "[nltk_data]    |   Package wordnet is already up-to-date!\n",
            "[nltk_data]    | Downloading package wordnet2021 to /root/nltk_data...\n",
            "[nltk_data]    |   Package wordnet2021 is already up-to-date!\n",
            "[nltk_data]    | Downloading package wordnet31 to /root/nltk_data...\n",
            "[nltk_data]    |   Package wordnet31 is already up-to-date!\n",
            "[nltk_data]    | Downloading package wordnet_ic to /root/nltk_data...\n",
            "[nltk_data]    |   Package wordnet_ic is already up-to-date!\n",
            "[nltk_data]    | Downloading package words to /root/nltk_data...\n",
            "[nltk_data]    |   Package words is already up-to-date!\n",
            "[nltk_data]    | Downloading package ycoe to /root/nltk_data...\n",
            "[nltk_data]    |   Package ycoe is already up-to-date!\n",
            "[nltk_data]    | \n",
            "[nltk_data]  Done downloading collection all-corpora\n",
            "[nltk_data] Downloading package punkt to /root/nltk_data...\n",
            "[nltk_data]   Package punkt is already up-to-date!\n",
            "[nltk_data] Downloading package rslp to /root/nltk_data...\n",
            "[nltk_data]   Package rslp is already up-to-date!\n"
          ]
        }
      ],
      "source": [
        "\n",
        "import pandas as pd\n",
        "import numpy as np\n",
        "import nltk\n",
        "import re\n",
        "import spacy\n",
        "import matplotlib as mpl\n",
        "import matplotlib.pyplot as plt\n",
        "from nltk.tokenize import word_tokenize\n",
        "from google.colab import drive\n",
        "drive.mount(\"/content/drive\")\n",
        "nltk.download('all-corpora')\n",
        "nltk.download('punkt')\n",
        "nltk.download('rslp')\n",
        "\n",
        "from nltk.corpus import stopwords\n",
        "from unidecode import unidecode\n",
        "from nltk.tokenize import word_tokenize\n",
        "from nltk.tokenize import wordpunct_tokenize\n",
        "from nltk import regexp_tokenize\n"
      ]
    },
    {
      "cell_type": "markdown",
      "metadata": {
        "id": "gR_wWs7KB_c1"
      },
      "source": [
        "# Carregamento dos tweets até dezembro de 2021"
      ]
    },
    {
      "cell_type": "code",
      "execution_count": 57,
      "metadata": {
        "id": "0KckrkjugjpP"
      },
      "outputs": [],
      "source": [
        "#tweets_orig = pd.read_csv('/content/drive/My Drive/ColabNotebooks/tweets_until_dec_2021.csv', lineterminator='\\n', index_col=0)\n",
        "\n",
        "tweets_orig = pd.read_csv('/content/drive/My Drive/Colab Notebooks/TCC/csv/all_tweets_with_retweets.csv', lineterminator='\\n', index_col=0)"
      ]
    },
    {
      "cell_type": "code",
      "execution_count": 58,
      "metadata": {
        "colab": {
          "base_uri": "https://localhost:8080/"
        },
        "id": "7fHGAMSSMHCG",
        "outputId": "2f8af659-e75a-4a21-d1f8-09fae3edada8"
      },
      "outputs": [
        {
          "output_type": "execute_result",
          "data": {
            "text/plain": [
              "(185348, 4)"
            ]
          },
          "metadata": {},
          "execution_count": 58
        }
      ],
      "source": [
        "tweets_orig.shape"
      ]
    },
    {
      "cell_type": "markdown",
      "metadata": {
        "id": "zG5x50b-LyVt"
      },
      "source": [
        "### Retornar o tamanho do df, quantidade de palavras e média"
      ]
    },
    {
      "cell_type": "markdown",
      "metadata": {
        "id": "FhdF2XyEvwnY"
      },
      "source": [
        "#Estatística dos tweets"
      ]
    },
    {
      "cell_type": "code",
      "execution_count": 59,
      "metadata": {
        "id": "gLr4BzuEvxXf"
      },
      "outputs": [],
      "source": [
        "def tweets_stats(df):\n",
        "  df['datetime'] = pd.to_datetime(df.datetime, format='%Y-%m-%d %H:%M:%S')\n",
        "\n",
        "  def get_df_len__count_words__mean(df):\n",
        "    count_all_tweets = len(df)\n",
        "    df['count_word'] = df['text'].str.split().str.len()\n",
        "    count_all_words = df['count_word'].sum()\n",
        "    mean = round(count_all_words / count_all_tweets, 2)\n",
        "    return (df, count_all_tweets, count_all_words, mean)\n",
        "\n",
        "  #data by year\n",
        "  def plot_by_year(): \n",
        "    by_year = df.groupby([df['datetime'].dt.year.rename('Year')]).agg({'tweet_id':['count'], 'count_word': ['sum']}).reset_index()\n",
        "    by_year.columns = ['Year', 'Count', 'Sum']\n",
        "    by_year = by_year.assign(Mean_words = lambda x: round(x['Sum'] / x['Count'], 2))\n",
        "    print(by_year)\n",
        "\n",
        "  #by year month\n",
        "  def plot_by_year_and_month():\n",
        "    by_year_month = df.groupby([df['datetime'].dt.year.rename('Year'), df['datetime'].dt.month.rename('Month')]).agg({'tweet_id':['count'], 'count_word': ['sum']}).reset_index()\n",
        "    by_year_month.columns = ['Year', 'Month', 'Count', 'Sum']\n",
        "    by_year_month = by_year_month.assign(Mean_words = lambda x: round(x['Sum'] / x['Count'], 2))\n",
        "    print(by_year_month)\n",
        "   \n",
        "  df, df_len, count_words, mean_words  = get_df_len__count_words__mean(df)\n",
        "  print('Total: {0}, Count word: {1}, Mean words: {2}'.format(df_len,count_words, mean_words))\n",
        "  print()\n",
        "  print('*****Agrupado por ano****')\n",
        "  plot_by_year()\n",
        "  print()\n",
        "  print('*****Agrupado por mês e ano****')\n",
        "  plot_by_year_and_month()"
      ]
    },
    {
      "cell_type": "markdown",
      "metadata": {
        "id": "x7N_CmNr7JVo"
      },
      "source": [
        "###Estatística dos tweets antes do pré-processamento:"
      ]
    },
    {
      "cell_type": "code",
      "execution_count": 60,
      "metadata": {
        "colab": {
          "base_uri": "https://localhost:8080/"
        },
        "id": "bz9Mdnp7wCQI",
        "outputId": "1eb5933c-b6ce-4957-e870-59716ddc7b97"
      },
      "outputs": [
        {
          "output_type": "stream",
          "name": "stdout",
          "text": [
            "Total: 185348, Count word: 4542561, Mean words: 24.51\n",
            "\n",
            "*****Agrupado por ano****\n",
            "   Year  Count      Sum  Mean_words\n",
            "0  2018  23691   531047       22.42\n",
            "1  2019  29739   742523       24.97\n",
            "2  2020  56375  1317064       23.36\n",
            "3  2021  62625  1621237       25.89\n",
            "4  2022  12918   330690       25.60\n",
            "\n",
            "*****Agrupado por mês e ano****\n",
            "    Year  Month  Count     Sum  Mean_words\n",
            "0   2018      1   2564   56315       21.96\n",
            "1   2018      2   2525   54548       21.60\n",
            "2   2018      3   1300   28565       21.97\n",
            "3   2018      4   1298   29096       22.42\n",
            "4   2018      5   2613   57054       21.83\n",
            "5   2018      6   1634   37871       23.18\n",
            "6   2018      7   2412   48864       20.26\n",
            "7   2018      8   1978   44443       22.47\n",
            "8   2018      9   1558   36399       23.36\n",
            "9   2018     10   1909   43484       22.78\n",
            "10  2018     11   2170   55271       25.47\n",
            "11  2018     12   1730   39137       22.62\n",
            "12  2019      1   2532   65964       26.05\n",
            "13  2019      2   4208  105975       25.18\n",
            "14  2019      3   2106   52913       25.12\n",
            "15  2019      4   1829   46041       25.17\n",
            "16  2019      5   1772   45288       25.56\n",
            "17  2019      6   3417   81326       23.80\n",
            "18  2019      7   1938   48051       24.79\n",
            "19  2019      8   2078   54021       26.00\n",
            "20  2019      9   2299   56664       24.65\n",
            "21  2019     10   2630   65245       24.81\n",
            "22  2019     11   2872   71319       24.83\n",
            "23  2019     12   2058   49716       24.16\n",
            "24  2020      1   3992   97314       24.38\n",
            "25  2020      2   3189   75608       23.71\n",
            "26  2020      3  21886  481147       21.98\n",
            "27  2020      4   4797  100957       21.05\n",
            "28  2020      5   4852  117714       24.26\n",
            "29  2020      6   3441   88949       25.85\n",
            "30  2020      7   2372   62103       26.18\n",
            "31  2020      8   2395   61781       25.80\n",
            "32  2020      9   3017   75591       25.06\n",
            "33  2020     10   2257   54343       24.08\n",
            "34  2020     11   2083   49910       23.96\n",
            "35  2020     12   2094   51647       24.66\n",
            "36  2021      1   4691  163826       34.92\n",
            "37  2021      2   4306  141194       32.79\n",
            "38  2021      3   4111  122626       29.83\n",
            "39  2021      4   2818   69243       24.57\n",
            "40  2021      5   2111   55012       26.06\n",
            "41  2021      6   3576   84692       23.68\n",
            "42  2021      7  16628  399342       24.02\n",
            "43  2021      8  11876  271635       22.87\n",
            "44  2021      9   4489  114690       25.55\n",
            "45  2021     10   3010   73709       24.49\n",
            "46  2021     11   2251   58409       25.95\n",
            "47  2021     12   2758   66859       24.24\n",
            "48  2022      1   2469   62022       25.12\n",
            "49  2022      2   3010   72629       24.13\n",
            "50  2022      3   2388   63724       26.69\n",
            "51  2022      4   2220   57334       25.83\n",
            "52  2022      5   2831   74981       26.49\n"
          ]
        }
      ],
      "source": [
        "tweets_stats(tweets_orig)"
      ]
    },
    {
      "cell_type": "markdown",
      "metadata": {
        "id": "UC1GLIqNEsKV"
      },
      "source": [
        "#Quantidade de tweets/palavras\n"
      ]
    },
    {
      "cell_type": "code",
      "execution_count": 61,
      "metadata": {
        "id": "HNixTkAmiwlR"
      },
      "outputs": [],
      "source": [
        "#count_all_tweets = len(tweets_orig)"
      ]
    },
    {
      "cell_type": "code",
      "execution_count": 62,
      "metadata": {
        "id": "2w84eNo_EaG_"
      },
      "outputs": [],
      "source": [
        "#tweets_orig['count_word'] = tweets_orig['text'].str.split().str.len()\n",
        "#count_all_words = tweets_orig['count_word'].sum()"
      ]
    },
    {
      "cell_type": "code",
      "execution_count": 63,
      "metadata": {
        "id": "i2lLzX6KGEX3"
      },
      "outputs": [],
      "source": [
        "#count_all_words"
      ]
    },
    {
      "cell_type": "code",
      "execution_count": 64,
      "metadata": {
        "id": "eTMOdh0RGsdH"
      },
      "outputs": [],
      "source": [
        "#mean = count_all_words / count_all_tweets"
      ]
    },
    {
      "cell_type": "code",
      "execution_count": 65,
      "metadata": {
        "id": "NNUc-db5IAgY"
      },
      "outputs": [],
      "source": [
        "#mean"
      ]
    },
    {
      "cell_type": "code",
      "execution_count": 66,
      "metadata": {
        "colab": {
          "base_uri": "https://localhost:8080/",
          "height": 206
        },
        "id": "iW3ludfUEpZx",
        "outputId": "9d1c20db-94e4-4404-9e47-c1e57e2d0585"
      },
      "outputs": [
        {
          "output_type": "execute_result",
          "data": {
            "text/plain": [
              "                   datetime             tweet_id              user_id  \\\n",
              "0 2022-05-30 23:45:05+00:00  1531421471146393601  1217204834211958785   \n",
              "1 2022-05-30 23:00:53+00:00  1531410348141592577  1473798922472767488   \n",
              "2 2022-05-30 22:57:20+00:00  1531409451122577410  1521912766151417856   \n",
              "3 2022-05-30 22:55:14+00:00  1531408925945434112  1253882714723409920   \n",
              "4 2022-05-30 22:55:14+00:00  1531408923277807617             40320768   \n",
              "\n",
              "                                                text  count_word  \n",
              "0                        @geglobo Paquetá é haitiano           4  \n",
              "1  @BetoLuiz_RU @jonesmanoel_PCB @deccache O Hait...          34  \n",
              "2  O senhor vai investir na educação da Venezuela...          24  \n",
              "3  @rsallesmma Que nada, na mão de vocês já tá vi...          18  \n",
              "4  @JoppertLeonardo @jonesmanoel_PCB @deccache En...          40  "
            ],
            "text/html": [
              "\n",
              "  <div id=\"df-da7c3c52-a9e4-4281-b65e-92d0db58472f\">\n",
              "    <div class=\"colab-df-container\">\n",
              "      <div>\n",
              "<style scoped>\n",
              "    .dataframe tbody tr th:only-of-type {\n",
              "        vertical-align: middle;\n",
              "    }\n",
              "\n",
              "    .dataframe tbody tr th {\n",
              "        vertical-align: top;\n",
              "    }\n",
              "\n",
              "    .dataframe thead th {\n",
              "        text-align: right;\n",
              "    }\n",
              "</style>\n",
              "<table border=\"1\" class=\"dataframe\">\n",
              "  <thead>\n",
              "    <tr style=\"text-align: right;\">\n",
              "      <th></th>\n",
              "      <th>datetime</th>\n",
              "      <th>tweet_id</th>\n",
              "      <th>user_id</th>\n",
              "      <th>text</th>\n",
              "      <th>count_word</th>\n",
              "    </tr>\n",
              "  </thead>\n",
              "  <tbody>\n",
              "    <tr>\n",
              "      <th>0</th>\n",
              "      <td>2022-05-30 23:45:05+00:00</td>\n",
              "      <td>1531421471146393601</td>\n",
              "      <td>1217204834211958785</td>\n",
              "      <td>@geglobo Paquetá é haitiano</td>\n",
              "      <td>4</td>\n",
              "    </tr>\n",
              "    <tr>\n",
              "      <th>1</th>\n",
              "      <td>2022-05-30 23:00:53+00:00</td>\n",
              "      <td>1531410348141592577</td>\n",
              "      <td>1473798922472767488</td>\n",
              "      <td>@BetoLuiz_RU @jonesmanoel_PCB @deccache O Hait...</td>\n",
              "      <td>34</td>\n",
              "    </tr>\n",
              "    <tr>\n",
              "      <th>2</th>\n",
              "      <td>2022-05-30 22:57:20+00:00</td>\n",
              "      <td>1531409451122577410</td>\n",
              "      <td>1521912766151417856</td>\n",
              "      <td>O senhor vai investir na educação da Venezuela...</td>\n",
              "      <td>24</td>\n",
              "    </tr>\n",
              "    <tr>\n",
              "      <th>3</th>\n",
              "      <td>2022-05-30 22:55:14+00:00</td>\n",
              "      <td>1531408925945434112</td>\n",
              "      <td>1253882714723409920</td>\n",
              "      <td>@rsallesmma Que nada, na mão de vocês já tá vi...</td>\n",
              "      <td>18</td>\n",
              "    </tr>\n",
              "    <tr>\n",
              "      <th>4</th>\n",
              "      <td>2022-05-30 22:55:14+00:00</td>\n",
              "      <td>1531408923277807617</td>\n",
              "      <td>40320768</td>\n",
              "      <td>@JoppertLeonardo @jonesmanoel_PCB @deccache En...</td>\n",
              "      <td>40</td>\n",
              "    </tr>\n",
              "  </tbody>\n",
              "</table>\n",
              "</div>\n",
              "      <button class=\"colab-df-convert\" onclick=\"convertToInteractive('df-da7c3c52-a9e4-4281-b65e-92d0db58472f')\"\n",
              "              title=\"Convert this dataframe to an interactive table.\"\n",
              "              style=\"display:none;\">\n",
              "        \n",
              "  <svg xmlns=\"http://www.w3.org/2000/svg\" height=\"24px\"viewBox=\"0 0 24 24\"\n",
              "       width=\"24px\">\n",
              "    <path d=\"M0 0h24v24H0V0z\" fill=\"none\"/>\n",
              "    <path d=\"M18.56 5.44l.94 2.06.94-2.06 2.06-.94-2.06-.94-.94-2.06-.94 2.06-2.06.94zm-11 1L8.5 8.5l.94-2.06 2.06-.94-2.06-.94L8.5 2.5l-.94 2.06-2.06.94zm10 10l.94 2.06.94-2.06 2.06-.94-2.06-.94-.94-2.06-.94 2.06-2.06.94z\"/><path d=\"M17.41 7.96l-1.37-1.37c-.4-.4-.92-.59-1.43-.59-.52 0-1.04.2-1.43.59L10.3 9.45l-7.72 7.72c-.78.78-.78 2.05 0 2.83L4 21.41c.39.39.9.59 1.41.59.51 0 1.02-.2 1.41-.59l7.78-7.78 2.81-2.81c.8-.78.8-2.07 0-2.86zM5.41 20L4 18.59l7.72-7.72 1.47 1.35L5.41 20z\"/>\n",
              "  </svg>\n",
              "      </button>\n",
              "      \n",
              "  <style>\n",
              "    .colab-df-container {\n",
              "      display:flex;\n",
              "      flex-wrap:wrap;\n",
              "      gap: 12px;\n",
              "    }\n",
              "\n",
              "    .colab-df-convert {\n",
              "      background-color: #E8F0FE;\n",
              "      border: none;\n",
              "      border-radius: 50%;\n",
              "      cursor: pointer;\n",
              "      display: none;\n",
              "      fill: #1967D2;\n",
              "      height: 32px;\n",
              "      padding: 0 0 0 0;\n",
              "      width: 32px;\n",
              "    }\n",
              "\n",
              "    .colab-df-convert:hover {\n",
              "      background-color: #E2EBFA;\n",
              "      box-shadow: 0px 1px 2px rgba(60, 64, 67, 0.3), 0px 1px 3px 1px rgba(60, 64, 67, 0.15);\n",
              "      fill: #174EA6;\n",
              "    }\n",
              "\n",
              "    [theme=dark] .colab-df-convert {\n",
              "      background-color: #3B4455;\n",
              "      fill: #D2E3FC;\n",
              "    }\n",
              "\n",
              "    [theme=dark] .colab-df-convert:hover {\n",
              "      background-color: #434B5C;\n",
              "      box-shadow: 0px 1px 3px 1px rgba(0, 0, 0, 0.15);\n",
              "      filter: drop-shadow(0px 1px 2px rgba(0, 0, 0, 0.3));\n",
              "      fill: #FFFFFF;\n",
              "    }\n",
              "  </style>\n",
              "\n",
              "      <script>\n",
              "        const buttonEl =\n",
              "          document.querySelector('#df-da7c3c52-a9e4-4281-b65e-92d0db58472f button.colab-df-convert');\n",
              "        buttonEl.style.display =\n",
              "          google.colab.kernel.accessAllowed ? 'block' : 'none';\n",
              "\n",
              "        async function convertToInteractive(key) {\n",
              "          const element = document.querySelector('#df-da7c3c52-a9e4-4281-b65e-92d0db58472f');\n",
              "          const dataTable =\n",
              "            await google.colab.kernel.invokeFunction('convertToInteractive',\n",
              "                                                     [key], {});\n",
              "          if (!dataTable) return;\n",
              "\n",
              "          const docLinkHtml = 'Like what you see? Visit the ' +\n",
              "            '<a target=\"_blank\" href=https://colab.research.google.com/notebooks/data_table.ipynb>data table notebook</a>'\n",
              "            + ' to learn more about interactive tables.';\n",
              "          element.innerHTML = '';\n",
              "          dataTable['output_type'] = 'display_data';\n",
              "          await google.colab.output.renderOutput(dataTable, element);\n",
              "          const docLink = document.createElement('div');\n",
              "          docLink.innerHTML = docLinkHtml;\n",
              "          element.appendChild(docLink);\n",
              "        }\n",
              "      </script>\n",
              "    </div>\n",
              "  </div>\n",
              "  "
            ]
          },
          "metadata": {},
          "execution_count": 66
        }
      ],
      "source": [
        "tweets_orig.head()"
      ]
    },
    {
      "cell_type": "code",
      "execution_count": 67,
      "metadata": {
        "colab": {
          "base_uri": "https://localhost:8080/",
          "height": 300
        },
        "id": "oTroNh5ugJ_P",
        "outputId": "f2f35b50-ef3c-43fc-817e-4a147604f1aa"
      },
      "outputs": [
        {
          "output_type": "execute_result",
          "data": {
            "text/plain": [
              "           tweet_id       user_id     count_word\n",
              "count  1.853480e+05  1.853480e+05  185348.000000\n",
              "mean   1.277737e+18  4.790919e+17      24.508282\n",
              "std    1.505158e+17  5.497380e+17      14.114966\n",
              "min    9.476356e+17  2.144000e+03       1.000000\n",
              "25%    1.181666e+18  1.739771e+08      13.000000\n",
              "50%    1.268305e+18  2.970576e+09      21.000000\n",
              "75%    1.413515e+18  1.051261e+18      36.000000\n",
              "max    1.531421e+18  1.530888e+18     105.000000"
            ],
            "text/html": [
              "\n",
              "  <div id=\"df-3b77bdc8-7127-4042-92b6-635712a78045\">\n",
              "    <div class=\"colab-df-container\">\n",
              "      <div>\n",
              "<style scoped>\n",
              "    .dataframe tbody tr th:only-of-type {\n",
              "        vertical-align: middle;\n",
              "    }\n",
              "\n",
              "    .dataframe tbody tr th {\n",
              "        vertical-align: top;\n",
              "    }\n",
              "\n",
              "    .dataframe thead th {\n",
              "        text-align: right;\n",
              "    }\n",
              "</style>\n",
              "<table border=\"1\" class=\"dataframe\">\n",
              "  <thead>\n",
              "    <tr style=\"text-align: right;\">\n",
              "      <th></th>\n",
              "      <th>tweet_id</th>\n",
              "      <th>user_id</th>\n",
              "      <th>count_word</th>\n",
              "    </tr>\n",
              "  </thead>\n",
              "  <tbody>\n",
              "    <tr>\n",
              "      <th>count</th>\n",
              "      <td>1.853480e+05</td>\n",
              "      <td>1.853480e+05</td>\n",
              "      <td>185348.000000</td>\n",
              "    </tr>\n",
              "    <tr>\n",
              "      <th>mean</th>\n",
              "      <td>1.277737e+18</td>\n",
              "      <td>4.790919e+17</td>\n",
              "      <td>24.508282</td>\n",
              "    </tr>\n",
              "    <tr>\n",
              "      <th>std</th>\n",
              "      <td>1.505158e+17</td>\n",
              "      <td>5.497380e+17</td>\n",
              "      <td>14.114966</td>\n",
              "    </tr>\n",
              "    <tr>\n",
              "      <th>min</th>\n",
              "      <td>9.476356e+17</td>\n",
              "      <td>2.144000e+03</td>\n",
              "      <td>1.000000</td>\n",
              "    </tr>\n",
              "    <tr>\n",
              "      <th>25%</th>\n",
              "      <td>1.181666e+18</td>\n",
              "      <td>1.739771e+08</td>\n",
              "      <td>13.000000</td>\n",
              "    </tr>\n",
              "    <tr>\n",
              "      <th>50%</th>\n",
              "      <td>1.268305e+18</td>\n",
              "      <td>2.970576e+09</td>\n",
              "      <td>21.000000</td>\n",
              "    </tr>\n",
              "    <tr>\n",
              "      <th>75%</th>\n",
              "      <td>1.413515e+18</td>\n",
              "      <td>1.051261e+18</td>\n",
              "      <td>36.000000</td>\n",
              "    </tr>\n",
              "    <tr>\n",
              "      <th>max</th>\n",
              "      <td>1.531421e+18</td>\n",
              "      <td>1.530888e+18</td>\n",
              "      <td>105.000000</td>\n",
              "    </tr>\n",
              "  </tbody>\n",
              "</table>\n",
              "</div>\n",
              "      <button class=\"colab-df-convert\" onclick=\"convertToInteractive('df-3b77bdc8-7127-4042-92b6-635712a78045')\"\n",
              "              title=\"Convert this dataframe to an interactive table.\"\n",
              "              style=\"display:none;\">\n",
              "        \n",
              "  <svg xmlns=\"http://www.w3.org/2000/svg\" height=\"24px\"viewBox=\"0 0 24 24\"\n",
              "       width=\"24px\">\n",
              "    <path d=\"M0 0h24v24H0V0z\" fill=\"none\"/>\n",
              "    <path d=\"M18.56 5.44l.94 2.06.94-2.06 2.06-.94-2.06-.94-.94-2.06-.94 2.06-2.06.94zm-11 1L8.5 8.5l.94-2.06 2.06-.94-2.06-.94L8.5 2.5l-.94 2.06-2.06.94zm10 10l.94 2.06.94-2.06 2.06-.94-2.06-.94-.94-2.06-.94 2.06-2.06.94z\"/><path d=\"M17.41 7.96l-1.37-1.37c-.4-.4-.92-.59-1.43-.59-.52 0-1.04.2-1.43.59L10.3 9.45l-7.72 7.72c-.78.78-.78 2.05 0 2.83L4 21.41c.39.39.9.59 1.41.59.51 0 1.02-.2 1.41-.59l7.78-7.78 2.81-2.81c.8-.78.8-2.07 0-2.86zM5.41 20L4 18.59l7.72-7.72 1.47 1.35L5.41 20z\"/>\n",
              "  </svg>\n",
              "      </button>\n",
              "      \n",
              "  <style>\n",
              "    .colab-df-container {\n",
              "      display:flex;\n",
              "      flex-wrap:wrap;\n",
              "      gap: 12px;\n",
              "    }\n",
              "\n",
              "    .colab-df-convert {\n",
              "      background-color: #E8F0FE;\n",
              "      border: none;\n",
              "      border-radius: 50%;\n",
              "      cursor: pointer;\n",
              "      display: none;\n",
              "      fill: #1967D2;\n",
              "      height: 32px;\n",
              "      padding: 0 0 0 0;\n",
              "      width: 32px;\n",
              "    }\n",
              "\n",
              "    .colab-df-convert:hover {\n",
              "      background-color: #E2EBFA;\n",
              "      box-shadow: 0px 1px 2px rgba(60, 64, 67, 0.3), 0px 1px 3px 1px rgba(60, 64, 67, 0.15);\n",
              "      fill: #174EA6;\n",
              "    }\n",
              "\n",
              "    [theme=dark] .colab-df-convert {\n",
              "      background-color: #3B4455;\n",
              "      fill: #D2E3FC;\n",
              "    }\n",
              "\n",
              "    [theme=dark] .colab-df-convert:hover {\n",
              "      background-color: #434B5C;\n",
              "      box-shadow: 0px 1px 3px 1px rgba(0, 0, 0, 0.15);\n",
              "      filter: drop-shadow(0px 1px 2px rgba(0, 0, 0, 0.3));\n",
              "      fill: #FFFFFF;\n",
              "    }\n",
              "  </style>\n",
              "\n",
              "      <script>\n",
              "        const buttonEl =\n",
              "          document.querySelector('#df-3b77bdc8-7127-4042-92b6-635712a78045 button.colab-df-convert');\n",
              "        buttonEl.style.display =\n",
              "          google.colab.kernel.accessAllowed ? 'block' : 'none';\n",
              "\n",
              "        async function convertToInteractive(key) {\n",
              "          const element = document.querySelector('#df-3b77bdc8-7127-4042-92b6-635712a78045');\n",
              "          const dataTable =\n",
              "            await google.colab.kernel.invokeFunction('convertToInteractive',\n",
              "                                                     [key], {});\n",
              "          if (!dataTable) return;\n",
              "\n",
              "          const docLinkHtml = 'Like what you see? Visit the ' +\n",
              "            '<a target=\"_blank\" href=https://colab.research.google.com/notebooks/data_table.ipynb>data table notebook</a>'\n",
              "            + ' to learn more about interactive tables.';\n",
              "          element.innerHTML = '';\n",
              "          dataTable['output_type'] = 'display_data';\n",
              "          await google.colab.output.renderOutput(dataTable, element);\n",
              "          const docLink = document.createElement('div');\n",
              "          docLink.innerHTML = docLinkHtml;\n",
              "          element.appendChild(docLink);\n",
              "        }\n",
              "      </script>\n",
              "    </div>\n",
              "  </div>\n",
              "  "
            ]
          },
          "metadata": {},
          "execution_count": 67
        }
      ],
      "source": [
        "tweets_orig.describe()"
      ]
    },
    {
      "cell_type": "code",
      "execution_count": 68,
      "metadata": {
        "colab": {
          "base_uri": "https://localhost:8080/"
        },
        "id": "uFSLsda3g2X_",
        "outputId": "854d4ad2-6ff4-4e73-d0c2-5adc1fb56065"
      },
      "outputs": [
        {
          "output_type": "execute_result",
          "data": {
            "text/plain": [
              "['@geglobo Paquetá é haitiano',\n",
              " '@BetoLuiz_RU @jonesmanoel_PCB @deccache O Haiti foi uma desgraça de fato.Mas os erros nao anulam os acertos.E quando ele fala sobre a guerra na Ucrania ele vem se posicionando muito bem,criticando a postura do zelensky',\n",
              " 'O senhor vai investir na educação da Venezuela, Argentina, Haiti,cuba, e etc países comunistas?, porque aqui no Brasil o Senhor nunca fez isso. https://t.co/jmVSYbsG2X',\n",
              " '@rsallesmma Que nada, na mão de vocês já tá virando uma mistura de deserto do Saara com Haiti',\n",
              " '@JoppertLeonardo @jonesmanoel_PCB @deccache Entramos nos BRICS, mas invadimos o Haiti a mando do Bush!\\n\\nLula diz que vai fortalecer os brics mas faz palestras no Parlamento Europeu que está tratando Rússia e china como inimigos mortais, como isso vai funcionar???']"
            ]
          },
          "metadata": {},
          "execution_count": 68
        }
      ],
      "source": [
        "tweets_orig.text.head().tolist()"
      ]
    },
    {
      "cell_type": "code",
      "execution_count": 69,
      "metadata": {
        "colab": {
          "base_uri": "https://localhost:8080/"
        },
        "id": "GepT_RBf7eH3",
        "outputId": "585e8742-1e87-4641-b67f-be275aa615c5"
      },
      "outputs": [
        {
          "output_type": "execute_result",
          "data": {
            "text/plain": [
              "['@geglobo Paquetá é haitiano',\n",
              " '@BetoLuiz_RU @jonesmanoel_PCB @deccache O Haiti foi uma desgraça de fato.Mas os erros nao anulam os acertos.E quando ele fala sobre a guerra na Ucrania ele vem se posicionando muito bem,criticando a postura do zelensky',\n",
              " 'O senhor vai investir na educação da Venezuela, Argentina, Haiti,cuba, e etc países comunistas?, porque aqui no Brasil o Senhor nunca fez isso. https://t.co/jmVSYbsG2X',\n",
              " '@rsallesmma Que nada, na mão de vocês já tá virando uma mistura de deserto do Saara com Haiti',\n",
              " '@JoppertLeonardo @jonesmanoel_PCB @deccache Entramos nos BRICS, mas invadimos o Haiti a mando do Bush!\\n\\nLula diz que vai fortalecer os brics mas faz palestras no Parlamento Europeu que está tratando Rússia e china como inimigos mortais, como isso vai funcionar???',\n",
              " '@alice_mader9 kkkkkk e era 2 haitiano, n entendi nada q falavam',\n",
              " '@andre_serret Adoro essa cara de \"tô cagado\" do General Heleno.\\nTenho um primo que foi pro Haiti e sempre mando essas fotos pra ele pra perguntar se ele era assim naquele tempo.\\n🤣🤣🤣🤣🤣',\n",
              " 'Jane Angeli Junqueira, advogada maringaense no Café da Manhã, oferecido pela Embaixada do Haiti, no Kubitschek Plaza Hotel, em Brasília. De anfitriã a embaixadora do Haiti no Brasil, Rachel Coupau.\\n**\\nALGUMAS...https://t.co/GTTMky0bXs https://t.co/eYjq4oAQ6M',\n",
              " '@meunomeerafa_ Consegui motorista Haitiano mo fmz só que mo merda amanhã vou fazer o corre de tentar segunda via Sepa pros crédito voltar só dps de 72h',\n",
              " 'Meu voto santos cruz não terá, aceitar esse convide é dizer que participou do golpe, além do mais, Cruz não é Moro,nunca fez pelo Brasil bem 1/10 do que Moro fez, nada fez pelo Brasil, fez pelo Haiti . Meu voto ninguém do @podemos19 terá \\n#VouDeNulo https://t.co/mExM5TK6YD',\n",
              " '@tarcisiogdf Você é o fodao né? Valentão do Haiti',\n",
              " 'A França tem que reparar o Haiti!!! @EmmanuelMacron https://t.co/ihz1kDikE9',\n",
              " '\"Você não é presidente mais\", diz haitiano para Bolsonaro https://t.co/KiIVszxI2S via @YouTube Vale lembrar num é gente?',\n",
              " '@lebremen @sarramentoc desculpa eu sou haitiano n sei conta em português🙃',\n",
              " '@rsallesmma Ainda bem, porque hoje tá quase um Haiti',\n",
              " 'Haiti  \\nIslândia\\nVenezuela \\nEgito\\nRepública Dominicana \\nArgentina\\nNicarágua https://t.co/ymyXvEB4LM',\n",
              " '@NicolauVargas @Nortonjunior_ @La_mort15 @Baptistamiran Não, porque eu sou brasileiro. Agora pergunta pra um haitiano ou venezuelano',\n",
              " '@rsallesmma Melhor virar a Argentina do que uma Somália onde a maioria passa fome....ou Haiti',\n",
              " 'Dia da força de invasão que deixou violência, mortes, cólera e filhos no Haiti. https://t.co/HH6CstAo2A',\n",
              " '@THALITOTHEMOON amg foi ver o teu tweet me chega no zap uma mensagem de um haitiano me passando um login duma conta aí com sla quantos mil dolares KKKKKKKKK ri mt',\n",
              " 'Heleno comandou a ‘Missão de Paz’ da ONU do Haiti, onde houveram MILHARES de acusações de estupro, assassinatos e tortura a população, além da perseguição aos apoiadores do ex-presidente Jean-Bertrand Aristide. Mas o caso mais emblemático aconteceu dia 06 de julho de 2005 👇🏻',\n",
              " 'O trio IL VOLO e @enriqueiglesias nos bastidores da gravação do videoclipe \"We Are the World 25 for Haiti\" em 2010. Maravilhosos!\\nBoa tarde!!! Ótima Segunda-feira pra vocês.\\nSIGA/FOLLOW o nosso fã clube no https://t.co/4QHHYYKiBv https://t.co/xaNNAWyWUf',\n",
              " '@rsallesmma De haiti pra argentina.\\nTá ótimo.',\n",
              " '@TSEjusbr República Dominicana, Paraguai, Costa Rica, Equador, Argentina, Haiti, México, Honduras...\\nUfa!!!\\nPensei que fossem utilizadas em países que não tem tanta tecnologia de ponta, como Japão, EUA, Inglaterra, França, etc....',\n",
              " '@rsallesmma O que seria ótimo diante do fato de que virou um Haiti no governo miliciano do qual você fez parte.',\n",
              " '\"Cantou: O Haiti é aqui, mas assinou manifesto anticotas, nos anos 2000. O amigo de vcs aí oh! O preto não tem vergonha na cara.\" Sueli Carneiro\\nEu não sou grosseira, nem louca, sempre disse isso e fui criticada! \\n💙⚔️  \\n#ManoAMano',\n",
              " '@rsallesmma Já somos um Haiti 🇭🇹 https://t.co/KhY5XhFMQ4',\n",
              " '@rsallesmma Se Bolzo ganhar nos tornamos um Haiti',\n",
              " 'O Brasil já foi a sexta maior economia do mundo, mas agora não consegue empatar em crescimento nem com o Haiti. De quem é a culpa? 🤔\\n\\n🇧🇷 #BrigadasDigitaisDaCUT 🇧🇷 https://t.co/wuBw4zdRtq',\n",
              " '@marrcolaa Se a gente pensar que tamo \"re\"-descobrindo a revolução haitiana agora, quem sabe no futuro não ganhe o espaço merecido',\n",
              " 'Bon travail @eveil_haiti https://t.co/6rh4t0J2Fh',\n",
              " 'Nunca vi um haitiano gordo.',\n",
              " '@rsallesmma Já seria uma evolução: do Haiti atual para Argentina',\n",
              " '@rsallesmma Tomara que isso aconteça pois com o JB no poder estamos virando um Haiti, Somália...',\n",
              " '@rsallesmma Virou Haiti no (des)governo de vocês, o que é bem pior.',\n",
              " '@xeretone que situação triste essa do haiti ein mandando minhas preses pra papua nova guiné ai Deus ajude vcs ai no congo',\n",
              " \"@rsallesmma Deus te ouça, que o Lula vença, no 1º turno, e nos livre de todos vocês, pois desde o golpe 2016, aprofundado pelo atoleiro genocida, do seu mito despresidente, estamos virando o Haiti (sem desmerecer a resistência secular do povo haitiano frente a 'maldição branca').\",\n",
              " '@RLivre Me lembra um pouco um texto sobre a celeuma que aconteceu entre os historiadores sobre aquela publicação do NYT sobre o Haiti reclamando que o jornal não deu crédito aos pesquisadores\\n\\nEle argumentava que talvez seja mais importante que mais pessoas saibam da história',\n",
              " '🌎Ela é segura, auditável, tecnológica e ainda é viajadaaa! Além de ser usada para o voto do povo brasileiro que vive no exterior, a #NossaUrna também já marcou sua presença em: República Dominicana, Paraguai, Costa Rica, Equador, Argentina, Haiti, México, Honduras e por aí vai! https://t.co/jhtJABpmTk',\n",
              " '🌎 Ela é segura, auditável, tecnológica e ainda é viajada! Além de ser usada para o voto do povo brasileiro que vive no exterior, a #NossaUrna também já marcou sua presença em: República Dominicana, Paraguai, Costa Rica, Equador, Argentina, Haiti, México, Honduras e por aí vai!😎 https://t.co/qoxzpwqkTe',\n",
              " '@rsallesmma Teu presidente já transformou o Brasil em uma Haiti',\n",
              " 'Cenas lamentáveis na Liga Haitiana de futebol. https://t.co/8GZjhYnxlc',\n",
              " '@VoikVyun @ATLUTD2017 @crabnicholson1 @CamaradaTomas 10. Bolsonaro, o Estado burguês e a  burguesia são autoritários contra quem vale a pena ser. Os crimes que realmente tornam o mundo um inferno não são cometidos por pobre ou negros.\\n11. Se o Haiti é um inferno a culpa é do imperialismo e neocolonialismo violento dos EUA.',\n",
              " '@rsallesmma Estamos vivendo um Haiti se chegarmos a uma Argentina já é lucro',\n",
              " 'Ela é segura, auditável, tecnológica e ainda é viajadaaa! Além de ser usada para o voto do povo brasileiro que vive no exterior, a #NossaUrna também já marcou sua presença em: República Dominicana, Paraguai, Costa Rica, Equador, Argentina, Haiti, México, Honduras e por aí vai!😎 https://t.co/iJvnBJCIT9',\n",
              " '@eduardoscar8 @jairbolsonaro O fato é que se houver a ruptura que vocês tanto buscam pode ser que não tenha dessa vez “exílio” em Paris, na melhor das hipóteses, será no Haiti \\nTenham um pouco de bom senso…não forcem a barra só porque a maioria não embarca em suas realidades paralelas',\n",
              " '@rsallesmma Graças a Deus essa já será uma evolução gigante, você e Bolsonazi e a turma dele transformaram o Brasil numa republiqueta pior que o Haiti....',\n",
              " '@rsallesmma Com Bolsonaro vamos virar um Haiti.',\n",
              " '@rsallesmma Que bom, pq no momento estamos mais pra um gigante Haiti, com todo respeito ao povo haitiano.\\nVc é parte nisso seu bandido, não vejo a hora de vc começar a pagar por seus crimes!',\n",
              " 'Nos dias 13 e 14 de maio, o colaborador do SJMR Brasil, o haitiano Jhon-Kelly Monace, apresentou a sua tese de doutorado sobre a migração haitiana em Belo Horizonte, no Mark Claster Mamolen Worshop Dissertation.\\n\\nLeia a reportagem completa no link:\\nhttps://t.co/PrvBeIjaA0',\n",
              " '@DonJose2022 @european_john @ohmyfuck___ Superiorizaram-se no Haiti, em África...',\n",
              " 'NYTimes mostra origem da pobreza do Haiti. Em 1791 Haiti fez a 1ª revolução dos escravos mas, por 200 anos teve de pagar US$21 bilhões pela sua liberdade a França, à Imperatriz do Brasil e aos Impérios Russo e Germânico. Banco controlava finanças do Haiti. https://t.co/n1p5zCpgar https://t.co/oKp9BvZphj',\n",
              " '@pauloteixeira13 Bostonaro só brinca pq os milicos do grupo do Haiti tomaram conta do país.... .despejam ódio por terem sido expulsos pela ONU por violação DH .. na operação MINUSTAH tão importante .',\n",
              " '@rsallesmma Com o Bozo e vc virou o Haiti e o deserto do Saara.',\n",
              " 'Os #Peacekeepers são homens e mulheres que levam esperança àqueles que sofrem as duras consequências das guerras e conflitos. O 🇧🇷 já esteve presente em Missões de Paz no Líbano, no Haiti, na República Democrática do Congo, entre outros. Saiba mais: https://t.co/LvxaBoASqz https://t.co/VwuInq1nGU',\n",
              " '@ohmyfuck___ Não é ginástica mental nenhuma. É compreender que existem fluxos na balança de poder e que um grupo não é inerentemente superior ao outro por se encontrar pontualmente numa posição mais vantajosa. É que pela tua lógica os africanos são \"superiores\" porque tomaram o Haiti.',\n",
              " 'Guame\\nGuatemala\\nGuernsey\\nGuiana\\nGuiné\\nGuiné Equatorial\\nGuiné-Bissau\\nHaiti\\nHonduras\\nHong Kong\\nHungria\\nIémen\\nIlha Bouvet\\nIlha do Natal\\nIlha Norfolk\\nIlhas Caimão\\nIlhas Cook\\nIlhas dos Cocos\\nIlhas Falkland\\nIlhas Heard e McDonald\\nIlhas Marshall\\nIlhas Salomão\\nIlhas Turcas e Caicos',\n",
              " 'Grupo de voluntários vai ao Haiti para cuidar da saúde bucal de pessoas em vulnerabilidade; VÍDEO: https://t.co/mQrVnt495Y #g1 https://t.co/dxnMu2cu4I',\n",
              " 'Onde eu compro uma fonte de carregador original nessa bosta de cidade, que seja em qualquer lugar menos nos haitiano',\n",
              " '@keqingstoraxota @mavieyuuji jesus nasceu na palestina, n é haitiano',\n",
              " '@keqingstoraxota @mavieyuuji um ser humano nascido no haiti',\n",
              " '@LulaOficial Tipo a responsabilidade q vc teve em 14 anos de corrupção q botou o Brasil em último lugar na educação mundial atrás até do Haiti?',\n",
              " '@Lucyloira2011 @ALVESBRASIL10 Usem o Google, pesquisem o envolvimento em crimes no Haiti desse Tarcísio e o tal Heleno, amos já deveriam estarem presos.. mas Haia vem aí b@ndid0s!',\n",
              " 'A Ucrânia vai terminar a guerra mais pobre que Haiti. https://t.co/DuoNSDaNMz',\n",
              " 'Loira manda matar haitiano porque era negro ea convidou pra dançar https://t.co/Rf9EP6iQ6C',\n",
              " 'O haitiano que tem aq no trabalho quase não fala português mais na hora de xingar saiu o vai se f*** direitinho kkkkkk',\n",
              " 'e voltar a dormir. Durante aqueles dias minha mãe chamou um pastor haitiano para orar la em casa e falar sobre as minhas mordidas, e pasmem era um demônio velho que estava na casa e no meu quarto, me perdoem ler isso é horrível, mas saber disso foi pior, com tudo +',\n",
              " '@DeputadoFederal Legal, o luladrão vai se candidatar no Haiti.',\n",
              " '@rempelpaulo9 @Fabiolopes1971 @bibonunes1 Acorda você bolsoburro! O MUNDO INTEIRO fez lockdown e aqui, um isolamento bem mal feito que resultou em mais de 666 mil mortos! E TODOS já estão recuperando a Economia! Vamos crescer menos que o Haiti em 22 por conta deste desgoverno destrutivo e altamente corrupto! https://t.co/bqIfOa4oTr',\n",
              " 'difícil em🤣',\n",
              " 'E assim, CURIOSAMENTE o André do post deixou de lado a revolução haitiana e a religião 🤦🏻\\u200d♀️\\n\\nE leleu rsrs',\n",
              " 'O meu top de scrobbles da semana passada\\n\\nTop de artistas:\\nBladee, Kendrick Lamar, Babyfather\\nÁlbuns mais escutados:\\n419 (Remastered), Mr. Morale &amp; the Big Steppers, Pray For Haiti\\nFaixas mais escutadas:\\nCanto de Guerra, SKYWALKER, 419 / NERVOUS freestyle\\n\\n(via Pano Scrobbler)',\n",
              " '@Duu_Haiti Nós te ama❤️❤️❤️❤️',\n",
              " '@May_bjus príncipe do dindo😍',\n",
              " 'eu tava no haiti e teve muita trocação de tiro kkkkkkkkk https://t.co/KyQMPmm6KQ',\n",
              " 'Haiti-Onda de raptos para resgate: Francês levado à luz do dia no centro da capital https://t.co/CVbq2gQlAA',\n",
              " 'OS ZUMBIS REAIS DO HAITI - CIÊNCIA OU MAGIA? - https://t.co/leEX2vuPZJ https://t.co/RZ2vgqSAZn',\n",
              " 'OS ZUMBIS REAIS DO HAITI - CIÊNCIA OU MAGIA? - https://t.co/WTD6HRjHT1 https://t.co/3kug2cGTVe',\n",
              " '@Rafael_RViegas a pm foi criada logo após a revolução no haiti, podemos começar por aí... clareza sobre qual é a questão e a abordagem certa. \\n\\nnão acho que o policial violento tem um traço de personalidade específico, como os nazistas também não tinham. ao menos disse a arendt.',\n",
              " '@_1yxn as pira de falar q tu parecia coreano kkkkkkkkkk e ainda falaram HAITIANO no lugar',\n",
              " 'Misturou alhos e bugalhos.\\n\\nSim, a dimensão religiosa é essencial nas revoluções(na lista, faltou o Haiti, talvez por ser uma religião afro?).\\n\\nO problema é que a frase \"Jair não é cristão\" individualiza a dimensão religiosa. E os evangélicos não estão nem aí pra moral do líder.+ https://t.co/4Lw3yAmDM2',\n",
              " 'Sempre quiz saber como os soldados brasileiros de Paz da ONU desempenharam sua missão no Haiti. Jornalistas, técnicos, pesquisadores alguém esteve por lá? https://t.co/UXQz7FRwrX',\n",
              " 'Não coloquei Argentina, Chile, Costa Rica e Haiti porque apesar de serem países também governados por políticos de esquerda, não são filiados diretamente ao Foro. Mas contando com eles, temos 13 países, caminhando para 14 de 20 países da América Latina governados pela esquerda.',\n",
              " '@cleison087 @fcrmorais Afff visual de \"entidade\" da Santeria Haitiana ...',\n",
              " '@sararayssab se ela soubesse que nao faz mt tempo que a gente fumou maconha com um haitiano na praça',\n",
              " '\"O telefone tocou de madrugada na casa do prefeito de Ascurra, Arão Josino. O muro de uma escola havia sido derrubado em um acidente de trânsito envolvendo um motorista haitiano.',\n",
              " '@Duu_Haiti tmj irmão ❤️💪🏾',\n",
              " '@DeputadoFederal CUIDADO MOÇADA DO HAITI, ESSE AÍ ROUBA ATÉ PARENTES.\\n\\nhttps://t.co/xaB70bDfId',\n",
              " '@cabrera_prof @alvarodias_ Foi meu comandante no Haiti ...um herói tanto q foi chamado pra comandar a força de paz no Congo',\n",
              " 'A unidade dos povos: Em Bento Gonçalves, na Serra Gaúcha, fomos recebidos por um grupo de imigrantes do Haiti que nos homenagearam com essa linda música. https://t.co/PSTL992tG2',\n",
              " '@CangaceiroNetto Identifiquei:\\nCamarões\\nMoçambique\\nButão\\nCosta Rica\\nEstados Unidos\\nPortugal\\nSerra Leoa\\nMalaui\\nHaiti\\nMalásia\\nÍndia\\nGranada\\nBarbados\\nPeru\\nEquador\\nBotsuana',\n",
              " '@teamomae_ meu de fé🤟🏿❤️',\n",
              " '@antoniotabet Aqui em @prefsdourados o orçamento é de Suíça (1,3 bi) mas a zeladoria da cidade é digna de Haiti. Mato nos canteiros centrais, ruas esburacadas, iluminação pública de vila dos anos 1930. Com a soja a R$ 180,00 o Agro vê as mazelas de dentro de suas SUVs e não se importa.',\n",
              " '@MatheusNorjosa Só se for pela seleção do Haiti. Hahahaha',\n",
              " 'MALUCO OS ADORA DESDENHAR DE IMIGRANTE HAITIANO MAS METE UNS BRANCO DE OLHO AZUL PRA VER SE A HISTORIA NUM MUDA',\n",
              " '@pedromilet @mdrque @lucianocuns Procure saber como o Haiti conseguiu a independência!',\n",
              " '@GabyzinhaTal O Robson é um idiota, também achei uma pontinha de preconceito É UMA HAITIANA!',\n",
              " '@MaluuhLive @vitordornelles O Brasil não é uma merda, só tem muitos problemas pra se resolver e uma desigualdade extremamente problemática, em comparação com países como índia, Paquistão, Haiti ou até mesmo vizinhos como Bolívia, a gente tá muito bem obrigado',\n",
              " 'A única coisa que a Alemanha tem é uma moeda forte mais nada sem isso seria tão pobre como o Haiti.  Eles não tem 5% de nossas riquezas ainda estão na era do carvão por isso que estão destruindo todos os seus ecos sistemas. E se acham no direito de vomitar asneiras sobre o Brasi',\n",
              " 'FORÇAS ARMADAS  NO GOVERNO LULA13\\n- Brasil comanda missão da paz no Haiti\\n-  Aviões de guerra reforçam liderança na América Latina\\n- Forças ajudam na transposição do São Francisco\\n\\nHOJE:\\n-  Forças  compram Viagra, Próteses Penianas e tem quadro envolvido em trafico de drogas!\\n\\n😞',\n",
              " 'Apicultura contribui para recuperação econômica no\\xa0Haiti https://t.co/ltsIBDcVv5',\n",
              " '@BlogdoNoblat Venezuela Cuba Argentina Haiti, estão logo ali.\\nTá insatisfeito?\\nSe muda prá lá. https://t.co/GOmr4hdxup',\n",
              " '@GarciaVanhellen @AdonayEchad @activeasian Teu país El Salvador é um que tem mais taxa altas de homicídios por 100 mil habitantes do mundo, até mesmo que o Haiti ou Jamaica\\nQuer ter moral de chamar os outros de violentos sendo de um país violento hahahakkkkkk',\n",
              " '@luisnassif O Haiti é logo ali, senão pergunta ao vovô voyeur, gen. Heleno, que comandou o massacre de Citè Soleil em Porto Príncipe quando comandou a MINUSTAH. https://t.co/BQhTWlXeQS',\n",
              " 'A diarista aqui de casa é do Haiti, e ela veio hoje.\\n\\nUma das primeiras coisas que ela pergunta pra minha mãe é se eu estou em casa (por conta de viagens e tal).\\n\\nSempre que ela vem eu dou alguma peça de roupa pra ela (em bom estado) e ela adora. Algo simples que tem muito valor.',\n",
              " 'Tive a oportunidade de estar no Haiti por 02 vezes e impressionado com a importância dos peacekeeping!!\\nParabéns pelo dia 29 maio !!\\nMinha continência ! https://t.co/vt8CtYPOz9',\n",
              " 'VÍDEO NOVO!\\nPrimeira parte de uma série sobre a História do Haiti, desde seus habitantes antes da chegada dos espanhóis até os dias atuais.\\nhttps://t.co/xwWdzwgRLl',\n",
              " 'Dia Internacional do peacekeepers.\\nGrande honra em ter representado o meu Brasil, servindo pela ONU no Haiti. 2°/2005 em ONU Brasil https://t.co/lyOhSebVJ8',\n",
              " '@CangaceiroNetto Peru, Malawi, Haiti,  Dinamarca (kkkk), Estados Unidos, Equador,  Moçambique,  Barbados,  Sumatra,',\n",
              " 'Esta decisão foi precedida pelas medidas provisórias de proteção ordenadas pela Corte também no caso dos Haitianos e Dominicanos de Origem Haitiana na República Dominicana (2000), com incidência direta no livre movimento transfronteiriço de pessoas (sob o artigo 22 da Convenção…',\n",
              " '@EdwSport @em_com Venezuela já nos tornamos com o bozoloide. Agora a meta do bozo e sua familícia é ficarmos iguais ao Haiti.',\n",
              " '✨ Enviando a confirmação para quem já se inscreveu para o Clube Impressões de junho para ler \"Clara da luz da lua\" junto comigo.\\n👉🏾 Inscreva-se também para conhecer mais da literatura haitiana: https://t.co/UFzf1t6hO5 https://t.co/gEKGpP53bM',\n",
              " '@CangaceiroNetto Peru\\nEquador\\nSiri lanka\\nMoçambique\\nButão\\nEua\\nDinamarca\\nPorto Rico\\nHaiti\\nMalásia\\nMalauí\\nCamarões\\nÍndia',\n",
              " 'República do VIAGRA da Prótese Peniana, do Gel Lubrificante, da PICANHA, do Leite Condensado….do Grupo do Haiti, “expulso pela ONU” ONU pediu o afastamento dos Generais…daí o ÓDIO ao Ex Presidente Lula …. https://t.co/aTp2Z4k4PI',\n",
              " 'Eu tô em choque c Sueli Carneiro, EXPLANANDO o Caetano Veloso, dizendo q ele assinou o Manifesto CONTRA AS COTAS, feito por uma branquitude de intelectuais e artistas brancos K ainda debochyani q ele canta \"O Haiti é aqui\". E tenho q explicar p amigues pq não ouço certas corjas.',\n",
              " '@Ig8rDiaz @CangaceiroNetto Não achei o Haiti...',\n",
              " '@CangaceiroNetto Dina Marca Hahahahahahahahaha \\nEstados Unidos \\nButão\\nMalásia\\nEquador\\nSerra Leoa 😂\\nPeru\\nCamarões \\nMoçambique \\nHaiti\\nAté agora \\U0001f972',\n",
              " '@JoseRobertoMag5 E aí meu brother , você trabalhou com o Cruz no Haiti ?',\n",
              " '@CangaceiroNetto Dinamarca; Camarões; Mocambique; Serra Leoa; Equador; Malaui; Índia; Peru; Malasia; Costa Rica; Botão; Granada; Haiti.',\n",
              " 'Não é a comunidade do xbox que chama haitiano de fedorento... https://t.co/aWPCnpj7iD',\n",
              " '@dbelemlopes Eu fui estagiário no Instituto Interamericano de Direitos Humanos e acompanhei o julgamento do caso dos Haitianos e Dominicanos de origem haitiana na República Dominicana. Ele fez um voto separado justamente com essa frase.',\n",
              " '@CangaceiroNetto Camarões\\nMoçambique\\nSerra leoa\\nEquador\\nEua\\nHaiti\\nPerú',\n",
              " '@CangaceiroNetto Moçambique, Peru, Equador, Índia, Camarões, Haiti, Butão, Granada, Serra Leoa,  Malásia, Barbados,Dinamarca',\n",
              " '@CangaceiroNetto Moçambique, Malawi,Haiti, Estados Unidos,Peru,Portugal… kkkkkkkk',\n",
              " '@Eduardoacortes @samuellongcruz @propofolisse @JornalOGlobo Não vão observar. Não é função deles. O Brasil não é o Haiti, República Centro Africana, Mianmar, Tailândia, Burkina Faso ou Mali para ter militares envolvidos com eleições. Na França e nos EUA militares dão palpite em eleições?Alguém sabe a opinião dos generais dos EUA e França?',\n",
              " 'Festa Cultural Brasil -Haiti: \\n60 anos da maior greve do Brasil - Queixadas.  #ohaitiéaquiemperus https://t.co/cXkgVS8P6G',\n",
              " '@IrenioChaves Como consequência nós vemos:\\nBoric com 30% de aprovação em menos de 6 meses de mandato\\nPedro Castillo sofrendo com inflação \\nArgentina com a segunda maior inflação da América \\nVenezuela ganhou o prêmio de país mais pobre da América perdendo até pro Haiti \\nEntre outras merdas.',\n",
              " \"Você sabia que Adewalé teve um neto por nome ESEOSA que foi um assassino peça chave para o sucesso da Revolução Haitiana e libertação dos escravos de São Domingos? Pois bem, neste novo episodio da série Curiosidades Assassin's Creed, trago tudo sobre ele.\\nhttps://t.co/Ecd62tbohu https://t.co/FRHXvw6KGY\",\n",
              " '@ioomax @paceaz @lfdavilaoficial Países cuja população abandona a procura de outros para fugir da violência, são só países lixos que não prestam (ex. Venezuela, Haiti, Coreia do Norte, Sudão, Serra Leoa e Cuba), e o Brasil infelizmente é também um deles.',\n",
              " 'Tem uma moça haitiana aqui no meu trampo, ela não fala português direito\\n\\nHoje ela fala pra mim \"vc parece Deus\"\\n\\nEla quis dizer que eu pareço os anjinhos daquelas pinturas de Jesus kkkkkkkkk',\n",
              " '29 de Maio - Dia Internacional dos Peacekeepers - Os Soldados da Paz das Nações Unidas 🇺🇳\\n\\n UNMISET - TIMOR LESTE\\nChefe da Seção de Treinamento da PKF\\n18 Fev 2003 a 18 Fev 2004\\n\\nMINUSTAH - HAITI\\nAssistente Militar do Force Commander\\n21 Set 2005 a 21 Set 2006\\n\\nNão foi fácil!\\n🇧🇷 https://t.co/VThc5LMp6A',\n",
              " '@rogerioabjr @marmilbr vai la fazer o trabalho que foi feito no haiti ! tu nao aguentaria 1 dia mela cueca',\n",
              " 'O Brasil já foi a sexta maior economia do mundo, mas agora não consegue empatar em crescimento nem com o Haiti. De quem é a culpa? 🤔\\n\\n🇧🇷 #BrigadasDigitaisDaCUT#cut #sindipetronf🇧🇷 https://t.co/BTL4UoHPBD',\n",
              " '@jairbolsonaro Meu presidente,me faça esse favor.sou haitiano tenho 8 anos no brasil,eu dexei minha unica filha com 2 anos.ela tem 10 anos https://t.co/UO35bDFMnD nunca vi ela, sò preciso que vc me facilita  o visto para ela é dificil ter visto de brasil no haiti.sò isso preciso de ti meu pai',\n",
              " '@monark Outro dados de 2021\\n\\n2.575 mortes por terremoto no Haiti\\n1.282 mortes por enchentes na Índia\\n815 mortes por onda de calor no Canadá\\n457 mortes tufão Rai nas Filipinas\\n352 mortes por enchentes na China\\n\\nFaz uma pesquisa antes de achar que as coisas só acontecem no Brasil. https://t.co/mvxdCOY8Z6',\n",
              " '@realodara @lilianeferrari Se tem Pais com Saudade, deve ser \\nCUBA\\nVENEZUELA \\nHAITI \\nBOLÍVIA etc \\nSá b@sta comunista não me representa',\n",
              " '@rcd76 @Alcione69213775 @xicosa Na Somália e no Haiti também não existem leis trabalhistas, seu asno',\n",
              " '@alliyeoficial O Haiti não é aqui\\nMas tá virando \\nUm hififi\\nBom dia Alliye 😘🌹🌹🌹🌹',\n",
              " 'IF in LISBON ; se estás em Lisboa\\nDIA 4 JUNHO, OFERENDA DE DANÇA, 15H AS 17H\\nhttps://t.co/u4IqqvK8xd\\n\\n#haiti #visualarts #dance #yanvalou #lisbon # lisboa #vodou #performingarts https://t.co/LRUTEX5cPL',\n",
              " '@aliciacgaspar \\noi alicia, vi sua nota na revista BUALA sobre o ambiente HAITI o AYITI. sabado agora eles farão uma oferenda de dança, das 15h as 17h: https://t.co/BXGBf5gAFs \\nvocê vai?',\n",
              " 'Leoni declarou que até ontem Caetano Veloso era um liberal, e Sueli Carneiro entregou que Caetano escreveu \"O Haiti não é aqui\" e se posicionou e se organizou CONTRA as cotas raciais. O pobre preto não tem um dia de paz. \"Se liga, meu bem!\" Nocalteia a necessária Sueli Carneiro🤣',\n",
              " '@AmoraAlves8 @arkengie_ Ué carai, q tipo de fascista tu é q n liga pra imigração? Vai dizer q tu n tá nem aí pra haitiano, venezuelano? Uma das características do fascismo era q eles n gostavam muito de estrangeiros',\n",
              " 'Acho que ele deve estar guardando pra sei lá, copa do mundo ? Olímpiadas ? Pra mandar pra Cuba, Venezuela, Haiti ? \\nFoi o cara que mandou $$ pros estados combater a covid, e ajuda pro povo.\\nSua mal caráter. https://t.co/dBotAhKiJv',\n",
              " 'Meu voto santos cruz não terá, aceitar esse convide é dizer que participou do golpe, além do mais, Cruz não é Moro,nunca fez pelo Brasil bem 1/10 do que Moro fez, nada fez pelo Brasil, fez pelo Haiti \\n#VouDeNulo https://t.co/FvcouFZaVw',\n",
              " '@Contextogeo tem uma contradição entre política interna x política externa dos governos petistas. A política externa é quase impecável, com a gravíssima exceção do haiti, mas a política interna fortalece as bases reacionárias burguesas pro-otan que, por sua vez, vão pressionar nessa direção',\n",
              " 'Hmm se sa. En2k #haiti https://t.co/Dwa70knXag',\n",
              " '@sofiaespanha A última vez que eu vi uma cena desta era um Haitiano querendo se passar por mulher achando que brasileiro ia mandar dinheiro por está apaixonando kkkkkkkkkkkkkk vigia pois usa fotos de mulheres kkkkk se liga rapaziada.',\n",
              " '@brunoluiz97 Frequento a cidade desde 2018 a trabalho, digo sempre: há 2 Grandes Recifes - uma para os ricos e outra onde a pobreza é vista num grau tão elevado que parece que estamos no Haiti. Desigualdade aí é mato!',\n",
              " 'PARA: HAITI, ITÁLIA, COSTA RICA, CHINA, NORUEGA\\n“Haiti é Linda, itália É Gente Boa, Costa Rica É Gente Boa, China É Perfeito, Noruega É Fofo”',\n",
              " '@camaradamachado Se ele é negro eu sou haitiano da gema.',\n",
              " 'comprei um negócio haitiano que a moça só me falou que tinha maracujá pois eu tenho certeza que tem algum tipo de pinga não é possível \\nvou ser obrigada pesquisar no google porque não lembro o nome',\n",
              " '@andrizek A câmera de gás foi usada nos Estados Unidos para execução de prisioneiros condenados no início do século 20. Ainda nos anos 70 foram executados naquele país 11 condenados . Também foi usada por Napoleão para acabar com a rebelião de escravos no Haiti . Portanto …',\n",
              " 'Leu o artigo do NYT sobre o Haiti e a divida com a França? Queria ver a perspectiva de um economista sobre… — Ótimo, é algo que eu queria estudar mais a fundo, recomendo o artigo Odious Debt de Seema Jayachandran e Michael Kremer https://t.co/yxw00H3lM9  https://t.co/2lDFO8uYjU',\n",
              " '@salesszz_ @kjkkemilly eu amor, ela não sabe dividir o haitiano',\n",
              " 'Galera de Santo André, ta tendo Feira das Nações aka pré festa junina na Igreja Matriz (a rosinha). Muita comida gostosa de vários países diferentes (vários, eu vi, feitas por imigrantes). Tem Japão, Chile, Síria, Uganda, Haiti...\\n\\nAcabei de comprar um lanche de Kafta delicioso',\n",
              " '@replacestate Agarra a Botas aí que eu agarro a Haiti aqui 😨',\n",
              " 'Chegou um Haitiano lá na obraa , bglh de cortar o coração o mlk contando as histórias de lá 🤦🏾\\u200d♂️🤦🏾\\u200d♂️',\n",
              " 'um moço haitiano convidando essa vaca pra dançar, ela não gostou e entregou o nome do cara pros traficante que foram la e matou ele ???',\n",
              " '@GabrielKustow Vc sabe quem segue este senhor, os fantasma de 86 cadáveres que ele deixou no Haiti.',\n",
              " '@FlagsMashupBot Haiti e Liechtenstein, de cabeça abaixo',\n",
              " '@cameldeuva exato! e o sobre o haiti que é um verdadeiro pesadelo de tão ruim o autor basicamente só fala como a revolução afetou os brancos',\n",
              " '“ Konate tá parecendo até o Ryan Couto “ 🤣🤣🤣🤣🤣🤣👀',\n",
              " 'Primeira vitória da história do Pérolas, time criado a partir do trabalho de uma ONG no Haiti, na Série D do Brasileirão https://t.co/tFWfnkLtYA',\n",
              " '@apedrocrf daq a pouco raio vai entrar e vai mudar o jogo mn',\n",
              " '@apedrocrf tô meio em dúvida em, dps desse primeiro tempo',\n",
              " '@ToledoTelmo O bozo nos fez viram um Haiti',\n",
              " '@AthenasCeolim01 Já viramos o Haiti minha filha... o povo não tem o quê comer! \"',\n",
              " '@enunesspfc Do Rio. Agora está em Resende. Nasceu de um projeto social da Viva Rio no Haiti.',\n",
              " 'Aviso aos navegantes. 1) Para reprimir a revolução Haitiana, Napoleão mandou o gal. Rochambeau exterminar 100 mil escravos haitianos em porões navais usando gás de enxofre.Bandidos da PRF têm precursores protonazistas...',\n",
              " 'carvajal marcando mais que gcm em cima de haitiano no brás e o diaz tentando',\n",
              " '@senpai2021 @im_felipesouza @catizjordao @shitpostverdade Não existe mais marechal\\nE eles serviram na missão da paz no Haiti',\n",
              " '@Jorgenetobr22 @Heitor_72 @MarcaoPsyfreak @Estadao Que comunismo é esse que abraça o George Bush e manda exército brasileiro a mando dos imperialistas ocupar um país sabotado como Haiti?',\n",
              " '@EmmanuelMacron @EmmanuelMacron  UE estava mando mísseis para bandidos do zelenskyy agora que liberdade para os criminosos azov. @KremlinRussia_E  tem deixar este europeus passar fome como povo dos países pobre como África. Haiti.siria. https://t.co/NGXrMUuB4e',\n",
              " '@STF_oficial Postagem tola. Genérica e pouco objetiva. Colocou travas difíceis. Se quer checar a operação, designe alguém do MP para ir junto com as polícias. O Gen Heleno já sugeriu isso a esses camaradas. No Haiti era assim. Será q encaram?',\n",
              " 'Oooooo Haiti é aqui\\n@caetanoveloso https://t.co/yIcZy4UlTJ',\n",
              " 'A Ascensão do Hitler Norte-americano. \\n\\nTrump é uma anedota comparado com quem vier a seguir. \\n\\nSerá o Hitler, o Putin Norte-americano, o Imperador dos EUA. \\n\\nComeça por conquistar o Haiti por razões humanitárias. Depois Cuba.',\n",
              " '@vivequinha69 ainda assim see contra cotas e ao mesmo tempo ter escrito haiti  comk disse a Sueli, supera',\n",
              " '@heitooorrrrr Principalmente depois daquela escova, ele disse que era um mercado que estava expandindo chegou até no Haiti!!!!!',\n",
              " '@marciatiburi @AttuchLeonardo Mas me refresquem a memória 🙏🏼: não foi exatamente esse Modus Operandi do General Heleno na Missão de Paz enviada ao Haiti, no governo do Presidente  Lula?',\n",
              " '@alepavanelli A ONU tem que responder é sobre os estupros dos boinas azuis no Haiti que até agora não temos as respostas, várias acusações de pedófila em troca de comida pela tropa.',\n",
              " 'Impagável a Sueli Carneiro revelando pro Mano Brown que o Caetano assinou o manifesto contra as cotas. “O Haiti é aqui” é meu nariz.',\n",
              " 'Haïti único país africano que vive fora da África kkkk (contém ironia)',\n",
              " '@memicunzolo @Solidaridad20 @RedesPuraVida @Somos_Haiti @Soledad55054496 @angelguardianc3 @Margari31618561 @Merenderoarcoi9 @Osvaldo81517665 @desaparecidaorg Feliz sábado ♥️',\n",
              " '@a_testai Se acontecer isto e virarmos um Haiti, eles pegarão as famílias deles e partirão para onde já enviaram o $$$$.  Futuras gerações, garantidas.',\n",
              " '*O Brasil já foi a sexta maior economia do mundo*, mas agora não consegue empatar em crescimento nem com o Haiti. De quem é a culpa? 🤔\\n\\n*#BrigadasDigitaisDaCUT* https://t.co/rhOqNRAx6I',\n",
              " 'Caetano Veloso diz q o Haiti é aqi, faz L de Lula livre ,mas ... assinou o manifesto anti cotas ! \"Ñ sou nem de esquerda nem de direita, sou de baixo \" @galodeluta e eu complemento a frase dele dizendo que além disso somos pretos.',\n",
              " '\" Como que vou te pagar ? Viagei ontem pro Haiti, tô na metade do caminho já \"\\nÉ cada uma, te falo 😂',\n",
              " '@ZumbiPentelho @ThaisRMaschio @WalALacerda Nem vou comentar que foi no governo do PT que foram feitos grandes investimentos nas Forças Armadas com caças, submarinos, etc, intervenção externa Minustah (Porto Príncipe, Haiti, alguém lembra?), política de encarceramento, controle de classes, plantou vento colheu tempestade.',\n",
              " '@Lucasgtzx os cara do haiti clonando cartão',\n",
              " 'Do nada eu recebo mensagem do Haiti',\n",
              " '@gen_heleno Sua desonestidade é impressionante. Digna de um Goebbels. Um homúnculo fardado. O Haiti lhe espera.',\n",
              " 'O preço do golpe: O Brasil tem hoje um PIB per capita 10% menor do que o governo Dilma - https://t.co/UtKjl8Qksp @a_postagem , e  AINDA  tem  mais:  o  PIB  brasileiro,  do  bolsonaro, está  ABAIXO  do  Haiti?!',\n",
              " 'Cidadão francês sequestrado na capital haitiana https://t.co/YGV8PuE4d9',\n",
              " '\"Dívida, Golpes e Colonialismo no Haiti: França e Estados Unidos são instados a pagar reparações por terem destruído o país\" https://t.co/Udt2AN958F via @democracynow',\n",
              " '@ocolunista_ @professordaflon @cajr1569 Colocações perfeitas. E mais foi a missa no Haiti que reorganizou o partido militar, a missão reagrupou e fortaleceu os militares enquanto força política, ali eles voltaram não a ter interesse, isso sempre tiveram, mas objetivos políticos e força para conseguir.',\n",
              " '\"𝙋𝙖𝙧𝙛𝙤𝙞𝙨, 𝙫𝙤𝙪𝙨 𝙙𝙚𝙫𝙚𝙯 𝙟𝙤𝙪𝙚𝙧 𝙡𝙚 𝙧ô𝙡𝙚 𝙙\\'𝙪𝙣 𝙞𝙢𝙗é𝙘𝙞𝙡𝙚 𝙥𝙤𝙪𝙧 𝙩𝙧𝙤𝙢𝙥𝙚𝙧 𝙡𝙚𝙨 𝙞𝙢𝙗é𝙘𝙞𝙡𝙚𝙨 𝙦𝙪𝙞 𝙥𝙚𝙣𝙨𝙚𝙣𝙩 𝙦𝙪\\'𝙞𝙡𝙨 𝙫𝙤𝙪𝙨 𝙩𝙧𝙤𝙢𝙥𝙚𝙣𝙩!\" à Haiti https://t.co/xza4kWUUvv',\n",
              " 'Ontem, pegamos um uber em Boston. Começamos o papo em inglês, mas ao descobrir que ele era do Haiti, eu comecei a falar em frances, ele me respondia em frances e mudava pro espanhol e eu respondia no espanhol com um “oui” no meio e um “obrigada” no final. https://t.co/23pzW8TrsL',\n",
              " 'Essa situação da Cracolândia em SP está um show de demagogia asquerosa ! O prefeito e o governador são dois lixos, duas escórias piores que os traficantes ! Internem todos ! Não tem vagas ? Internem quem puderem, e criem mais vagas ! Nem o Haiti tem uma situação assim !',\n",
              " '@gen_heleno General, delírio vai te levar pra camisa de força e se fizer justiça, inclusive pelo Haiti, vc vai é pra cadeia mesmo.',\n",
              " '@ClaudioJuniorJ3 @thiago0001 @annalyra320 @ThiagoResiste @CarlaZambelli38 Em Portugal há dois anos o preço dos derivados do trigo não sobe. Só um exemplo entre tantos. Ruim igual ao Brasil tem vários: Ucrânia, Haiti, Iemen, Palestina, Afeganistão...',\n",
              " '#Caravana #migrantes #honduras #venezuela #cuba #haiti #migracion #front... https://t.co/UMaO655pf1 a través de @YouTube',\n",
              " 'o Haiti na Revolução Haitiana https://t.co/oVfx5TRjbO',\n",
              " 'O cara mandou cantada em \"crioulo haitiano\" sabe muito \\n\\nVai dar namoro',\n",
              " 'Vendo o diário oficial aqui, os principais países de origem das pessoas que se naturalizaram brasileiras:\\n- Síria\\n- Haiti\\n- Angola\\n- Líbano\\n- Cuba\\n- Egito\\n- Guiné-Bissau\\n- Venezuela\\n\\nDestaque para nacionais da Líbia, Paquistão, Bangladesh e Iêmen',\n",
              " 'Vi um post de uma pessoa dizendo que escolheu passar as férias em Barcelona porque segundo seu astrólogo lá seria o local perfeito de acordo com o mapa da revolução solar. \\nVidas passadas, mapa astrológico etc… essas coisas nunca apontam pra Guaianazes, Haiti ou Carapicuiba, né?',\n",
              " '@HnrqMisael @lucascsm2707 @hoc111 Enviou Helenao Frotista ao Haiti ne?',\n",
              " '@ttcostx e alguém que era presidente no tempo dos absurdos que aconteciam na missão da ONU no haiti e que teve um péssimo desempenho em alterar o panorama da guerra contra as drogas, do sistema carcerário e etc também é perverso \\na política br é uma perversidade',\n",
              " '@anaeljj Esse é o bagui que tu me enviou do Haiti?',\n",
              " '@gen_heleno Bateu o desespero não é múmia? Será difícil largar a mamata às custas da população, canalha!\\nNão esqueçamos \"se gritar pega centrão\" assim como o que vcs fizeram no Haiti! https://t.co/svbpWK5QS9',\n",
              " 'O Haiti é aqui. https://t.co/3yplofRMiA',\n",
              " '@centraldagabi Haití RECAIDINHA SEIS MILHOES',\n",
              " 'Da pra ver que o Brasil tem muito sotaque quando e mais fácil entender um haitiano falando português doq um baiano',\n",
              " 'O STF é como se fosse uma Dubai em meio a um Haiti...Lógico que o Haiti é o Brasil! Até quando???',\n",
              " 'po mano, pegar baú com haitiano é mt foda, pq eles falam na língua deles e começam a dar trela, aí ce n sabe se eles tão rindo de vc kkkkkk',\n",
              " 'Parece as jaqueta dos haitiano que vendem no centro kkkkkkk https://t.co/tqvollOnJY',\n",
              " '@Duu_Haiti Tô duro',\n",
              " '@RosianeBittenc1 @Rconstantino Nem Cuba nem Venezuela.  O Brasil virou um Haiti.',\n",
              " '@alamoju Não!? Tô dizendo que o apartheid é aqui. Desculpe se soou diferente. Nós e falo país somos o Haiti, o Congo e mais o q vc souber de ruim com a população.',\n",
              " '@wallace_davi04 confia',\n",
              " '@RafaelFontana Meu vizinho haitiano todo mês me dá um pct de café caboclo q vem na cesta. Perguntei pq ele não toma café e ele me disse q não toma pq o café é  preto. Vai entender kkkk',\n",
              " '@centraldamem @PortalRodolffo_ Haiti\\n\\nNEM NAMORADO NEM FICANTE NO YT',\n",
              " 'Haiti melhor que a gente 💀 https://t.co/Awg0RVQe0A',\n",
              " 'O Brasil já foi a 6a maior economia do mundo, mas agora não consegue empatar em crescimento nem com o Haiti. De quem é a culpa? 🤔\\n🇧🇷 #BrigadasDigitaisDaCUT 🇧🇷\\n#ForaBolsonaroeSuaQuadrilha https://t.co/f7D0x0VAgg',\n",
              " 'Ela citou a revolução haitiana e eu só lembrando das aulas de sociologia 🤧',\n",
              " 'Usando dados de pesquisas acadêmicas, relatórios financeiros, orçamentos governamentais e muito mais, o @nytimes reuniu uma investigação histórica impressionante de como a França tirou dinheiro do Haiti à força, prejudicando a economia do país caribenho.\\n\\nhttps://t.co/yUtvwQbWJr https://t.co/I6Ojnp2v6A',\n",
              " 'o medo do haitianismo só nos aproximou mais do haiti',\n",
              " 'O Brasil já foi a sexta maior economia do mundo, mas agora não consegue empatar em crescimento nem com o Haiti. De quem é a culpa? 🤔\\n\\n🇧🇷 #BrigadasDigitaisDaCUT 🇧🇷 https://t.co/H6YmTVH46F',\n",
              " '@g1 Pra ganhar em EURO msm !!! Pq não abre templo no HAITI ???',\n",
              " 'O Brasil já foi a *sexta maior economia do mundo*, mas agora não consegue empatar em crescimento nem com o Haiti. De quem é a culpa? 🤔\\n\\n🇧🇷 #BrigadasDigitaisDaCUT 🇧🇷 https://t.co/rib2pvM0jX',\n",
              " 'Uma vez a Al-Qaeda fez um buraco com 10 km, colocou nitrato de amónio no fundo e fez um sismo que matou milhares de pessoas no Haiti. \\nUma vez o presidente do Haiti queria oferecer vacinas à população foi assassinado',\n",
              " '@MargareteTabor Se Deus não Julga o pecado , então doque dizer \\nsas milhares de pessoas que foram ceifadas pela tsunami no Japão em 2011\\ndo terremoto que matou milhares no Haiti e o que dizer do Corona virus,  que quase 10•/° de toda a população mundial. \\n#WordExpolAngola',\n",
              " 'a queimada da Sueli Carneiro no Caetano 😂😂\\ne não tem nem espaço pra \"ah ele mudou de ideia\" pq Haiti foi escrita em 93',\n",
              " '@Rioparina Lembremos que recentemente, foi ventilado (gíria militar) que um general brasileiro manteve contato com o mesmo grupo mercenário que assassinou o presidente do Haiti e não foi mera saudação. 😆',\n",
              " '@chiccoze52 @jornalnacional @ECantanhede @FT @gugachacra @JorgePontual @CNN @GloboNews @bandnewstv @UOL @UN_HRC @UnderSecStateP @nytimes @PBiaL A pergunta inevitável é: por que não expulsaram os EUA depois dos massacres na Síria, Afeganistão, Iraque, Angola, América Central, Haiti, Sérvia e Líbia? E a lista continua... sem esquecer Hiroshima e Nagasaki.',\n",
              " 'Para você qual o próximo destino de Ciro após às eleições?\\nParis\\nHaiti\\nCrato',\n",
              " 'nunca pesquisem o que o General Heleno fez no Haiti https://t.co/IMZAHbJVn2',\n",
              " \"NYT lança luz sobre 'resgate' pago pelo Haiti à França por sua independência https://t.co/zOJXmURl7C #AFP via @YahooBr https://t.co/YWVOuB0qUW\",\n",
              " '@revitalnews Para o passarinho azul não me explodir: vou falar bonitinho: Tem que mandar as pessoas honesta e realmente trabalhadoras sair da favela, e fazer igual o Haiti. Ou pedi para o passarinho azul detonar!😂',\n",
              " '@FernandoHortaOf @Douglas86736732 Mourão general é \"cria\" de Lula ao envolver o Brasil no conflito do Haiti com a ilusão do Brasil ser um membro permanente no Conselho de Segurança da ONU!',\n",
              " '🧵 GIJN Top 10 do Jornalismo de Dados:\\n\\nInvestigação dos bilhões perdidos do Haiti, visualizações do número de mortes por COVID nos EUA, crescente desigualdade de riqueza na Ásia e muito mais.\\n\\nLeia o resumo das histórias mais populares de 16 a 22 de maio.\\nhttps://t.co/6dO3WNaGMm',\n",
              " 'a última notícia boa do haiti foi a revolução dos escravos, em menos de um ano tiveram a pandemia do covid, um terremoto e em sequência uma série de tornados e furacões, mataram o presidente e diversas milícias se matam por território já que praticamente n existe lei',\n",
              " 'No meu vídeo sobre a MINUSTAH eu explico os motivos que levaram o governo Lula a autorizar o envio de nossas tropas ao Haiti. \\n\\nSpoiler: NÃO FOI POR CAUSA DO ACENTO NO CONSELHOR DE SEGURANÇA DA ONU. \\n\\nhttps://t.co/0xfE8ulU6F',\n",
              " 'Esta era a forma perfeita de humanizar nossos bravos soldados que se sacrificavam para que o povo haitiano pudesse liberto da gangues que dominavam o país e, claro, da pobreza. \\n\\nAssim, as denúncias de estupro envolvendo menores e as chacinas caíam no esquecimento. 👇🏼',\n",
              " 'E qual foi o papel do Caldeirão do Huck? \\n\\nO programa produziu um especial em que o próprio apresentador vai até o Haiti para apresentar aos telespectadores o dia a dia a missão de paz brasileira, entrevistando os soldados que estavam há meses longe de suas familias. 👇🏼 https://t.co/l5UjXWmuVR',\n",
              " 'O \"jogo da paz\" foi uma partida realizada entre a seleção haitiana e a seleção brasileira, recém penta campeã do mundo, contando com a presença de seus craques, como Ronaldo e Ronaldinho Gaúcho. \\n\\nA partida ocorreu praticamente um mês antes da criação da MINUSTAH, ou seja, 👇🏼 https://t.co/wohnE6cSmW',\n",
              " 'Mas dois elementos vão se importantes para a criação de uma imagem positiva da missão liderada pelo Brasil no Haiti: Futebol e Caldeirão do Huck. Vamos ao primeiro:\\n\\nEm 18 agosto de 2004 foi realizado o que ficou conhecido como \"jogo da paz\", no Haiti. 👇🏼',\n",
              " 'As duas imagens acima foram feitas no Haiti, durante a missão da ONU para estabilização da paz no país (MINUSTAH) liderada pelo Brasil. \\n\\nDurante todo o tempo em que a missão existiu, não foram poucas as denuncias contra as forças lideradas pelo Brasil. 👇🏼 https://t.co/CtloPC4FOs',\n",
              " 'O suspeito de participar do homicídio de um haitiano foi preso pela Polícia Civil na manhã desta sexta-feira (27), em Curitiba.   https://t.co/Ku6WDEQsXG\\n\\n#Curitiba #tribunapr',\n",
              " '@Ricardo60601804 Haiti &amp; Auschwitz...\\n\\n\"Em pau caído, todo mundo faz graveto.\\nDepois da onça morta, até cachorro mija nela.\\nDepois da onça morta, todos metem o dedo na bunda dela.\"',\n",
              " '@RefletzXP @BomedianoG @LucasDuarte_19 @BatoruMosura @TerxsGR @shitpostverdade Nunca estive na Itália mas já estive em Portugal, EUA, Rep Dom, Haiti e agora eu moro na França e te digo Portugal é o Brasil da Europa sim, a França pode até ser desorganizada mas nada se compara à corrupção de Portugal, sem contar o poder de compra \\U0001f90f🏼',\n",
              " 'As Nações Unidas lembram que as Caraíbas vivem um fluxo crescente de migrantes e refugiados devido à instabilidade política e à insegurança socioeconómica enfrentada por países como Haiti ou Honduras. https://t.co/YvHmoK07hT',\n",
              " 'Eis que recebo uma dessas \"propostas\" de trabalho de um número do Haiti, olho o status do cidadão e tá lá \"totus tuus ego sum Vierge Marie et omnia mea tua sunt\". Até os my brothers in Christ querem me passar a perna, vê se pode',\n",
              " 'independência do haiti esmurra a independência dos eua em todos os aspectos mas qual delas vcs acham que é a mais repercutida?\\nninguém ta pronto pra essa conversa 🥴🥴🥴',\n",
              " 'Encontrei o Marteli das reuniões do crioulo no ônibus e mesmo com meu crioulo haitiano super enferrujado ainda consegui conversar com ele fiquei muito feliz',\n",
              " 'Um salve para àqueles que se dedicam a fazer a Boa Obra, como a Médica Zilda Arns que morreu no #Haiti . \\n#BlackLivesMatter https://t.co/HFGb91dMhq',\n",
              " 'Em 2021, @FundacaoAIS aceitou 969 candidaturas em benefício de mais de 800 parceiros de projetos em pelo menos 320 dioceses do continente. Os países onde a ajuda foi maior foram #Brasil, Venezuela, Haiti e Cuba.\\n\\nhttps://t.co/NSEP5bLnZi',\n",
              " 'Os Clinton são donos do Haiti. Controlam todo ouro, diamantes e plantio de arroz. Não é novidade que o dinheiro doado para a Fundação Clinton para a reconstrução pós terremoto em 2010 foi desviado. Mas, cavando mais fundo, fica muito, muito pior. https://t.co/Im8FXer6Io',\n",
              " 'Quase chorando com a ida do vovô pro Haiti , vai deixar saudades',\n",
              " '@leeoaragao_ E apesar de humildes tentativas de mexer no vespeiro entre 2002 e 2012 nesse período inclusive tivemos uma das mais terríveis políticas de segurança pública: Ocupação dos morros no RJ. Ps.: também tivemos as forças de \"paz\" no Haiti',\n",
              " '@TaisVivianeGN @amandavsilva E quer ver uma coisa ,nessa lista está a Dumornay. Mas certeza que eles só colocaram a Dumornay porque ela fez chover no sub-20 em que o Haiti empatou com os EUA na concacaf. Se fosse uma Nigeriana por exemplo , jamais saberiam da existência dela.',\n",
              " 'O Brasil já foi a sexta maior economia do mundo, mas agora não consegue empatar em crescimento nem com o Haiti. De quem é a culpa? 🤔\\n\\n🇧🇷 #BrigadasDigitaisDaCUT 🇧🇷 https://t.co/W3OGvNSsQ4',\n",
              " 'Haitiano foi morto porque a mulher não quiz dançar com ele, Curitiba',\n",
              " 'Suspeito de matar haitiano em casa noturna é preso em Curitiba https://t.co/w7iZJVIqVR',\n",
              " 'Polícia Civil prende suspeito de homicídio contra haitiano em\\xa0Curitiba https://t.co/4lhLRBG3f9',\n",
              " '100 no pix? sou real amanhã😴',\n",
              " 'Lendo sobre Haiti e descubro uma das coisas mais absurdas que eu já vi, CARALHO, VAI SE FUDER FRANÇA 😡',\n",
              " 'Polícia prende suspeito de matar haitiano em saída de bar em Curitiba https://t.co/k97MjE8z6E',\n",
              " 'Homem é preso suspeito de ser um dos mandantes do assassinato de haitiano baleado após convidar mulher para dançar, em Curitiba https://t.co/T53z4iXMU2 #g1 #g1pr https://t.co/StrSl4LoCQ',\n",
              " 'O Haiti é aqui . https://t.co/ghodW7asIy',\n",
              " 'Lendo um historiador dizer que a Rev. do Haiti só foi possível por causa da febre amarela. \\nJá eu fico com o CLR James “Historiadores [...] culpam principalmente a febre, como se São Domingos tivesse sido o único local no mundo onde o imperialismo europeu se deparou com a febre.”',\n",
              " '@caiobafelip @L3itadas_l03n_ Só n perde p o Haiti pq até p terra tremer esse lugar tem preguiça',\n",
              " '@MichaelPeckman Desempenho excelente é  ter o pior crscimento das americas perdendo ate pra o haiti...por favor va procurar informacoes confiaveis e verdadeiras e nao as mentiras desseminada pelo ministerio carluxo goebbels bolsonaro...isso cansa',\n",
              " 'Tai! só PT com LULA pra resolver 13 de cabo a rabo.. A Postagem | Brasil de Bolsonaro tem o pior crescimento da América da América Latina, atrás até do Haiti https://t.co/mGR8lE723B',\n",
              " '- os ingleses já usavam campos de concentração na áfrica muito antes de hitler nascer\\n- o genocídio belga no congo matou +/- a mesma qt. de pessoas que o holocausto (11 milhões)\\n- colonizadores franceses usaram câmaras de gás pra matar nativos no Haiti https://t.co/m3jOKzIy0V',\n",
              " '@infomoney Ourinvest é aquela empresa que tem venezuelano e haitiano espalhados pelo Brasil vendendo corrente de ouro a 20 reais ?',\n",
              " 'Acabo de fazer uma entrevista com o advogado e líder de ONG no país caribenho, Pierre Bruny. Os fatores da imigração e a realidade de quem escolhe sair do Haiti e ter o Brasil como destino. #CBNMaringa1 @cbnmaringa https://t.co/hgpIjDjgLW',\n",
              " 'The New York Times: Flagelo do Haiti tem raízes também em invasão pelos EUA orientada por Wall Street https://t.co/DtX5lbp8Sg',\n",
              " 'Flagelo do Haiti tem raízes também em invasão pelos EUA orientada por Wall Street https://t.co/FCCdXuMiKI',\n",
              " 'Polícia prende suspeito de matar haitiano em saída de bar em Curitiba #RICMais \\nhttps://t.co/LUHquGHFVM https://t.co/7tEDHCP9dh',\n",
              " 'The New York Times: Flagelo do Haiti tem raízes também em invasão pelos EUA orientada por Wall Street https://t.co/T5ZrS2frPq',\n",
              " '@BrazilFight \"E o venerável cardeal disser que vê tanto espírito no feto e nenhum no marginal?\"\\n\\n(VELOSO, Caetano. \"Haiti\", 1993)',\n",
              " '\"E o venerável cardeal disser que vê tanto espírito no feto e nenhum no marginal?\"\\n\\n(VELOSO, Caetano. \"Haiti\", 1993)\\n. https://t.co/9KQqDtdb8x',\n",
              " 'PCPR prende suspeito de homicídio contra haitiano em Curitiba https://t.co/nzG0QYQ4fv',\n",
              " 'Polícia Civil prende suspeito de homicídio contra haitiano em Curitiba https://t.co/tbPMDPMmwC',\n",
              " 'Frances haitiano é muito diferente de escutar pprt nem parece gay',\n",
              " 'Nem o Haiti quer ser aqui!',\n",
              " 'Eu me amarro na imigrante haitiana que trabalha aqui na firma pq ela é totalmente fodase das ideia. Desci pra tomar um café e encontrei com ela na copa simplesmente tomando uma CERVEJA às 9h da manhã em pleno hoario de trabalho. \\n\\nBRABA DEMAIS',\n",
              " '@diogojga @BBCWorld @WalmirGomes20 O Brasil foi rebaixado de \"Haiti é aqui!\" para \"Auschwitz é aqui!\" Eu estou com muito medo!',\n",
              " 'Preso suspeito de mandar matar haitiano por ciúmes em saída de bar em Curitiba\\n\\nImagens de câmeras de segurança mostram o momento dos disparos\\n\\nLeia mais: https://t.co/yv9khcB8fV https://t.co/yv9khcB8fV',\n",
              " '@Israelmr29 @mundodabola Lembra dos amistosos da Seleção Brasileira no Haiti e na Palestina? Tu acha que foi futebol ou política isso???https://t.co/AuaypZPx0N',\n",
              " 'Sueli mandando um “se liga, meu bem” \\nem referência ao Caetano ter assinado o manifesto contra as cotas, mesmo na onda de cantar “o haiti é aqui”.',\n",
              " '@BidAoContrario @cafdepresso1 @ariranhita Amigo sou venezuelana, e já sofri muita xenofobia aqui então não akakakak é haitiano sofre muito racismo além de serem julgados por mal conseguir falar português',\n",
              " 'A mulher mandou matar o rapaz haitiano por ele ter TENTADO DANÇAR com ela?? \\n\\nCaralho!!! Que sociedade doente. Bandida dos inferno.',\n",
              " '@JornalOGlobo A toque de caixa, Bolsonaro vai recriar todos os ministérios da época do PT pra poder ganhar com o centrão. Mas o haitiano já tinha avisado. BOLSONARO, ACABOU! VOCÊ NÃO É PRESIDENTE MAIS!',\n",
              " 'A nova ligação com a casa de design Schumacher, chamada Cul-De-Sac por Victor Glemaud, é uma ode à estética clean do designer, bem como à sua herança caribenha.\\nA coleção traz um veludo de corte geométrico, um toile totalmente novo, um shibori e hibisco, flor nacional do Haiti.',\n",
              " 'Apicultura ajuda na recuperação econômica no Haiti https://t.co/suuj5Wch8G',\n",
              " '@Bi_beijito @Jaguar__Sam @ariranhita E como vc acha que um imigrante haitiano, Senegalês é tratado no Brasil meu bem? Igual um italiano? Igual um inglês ? Gente vamos acordar para o Racismo que existe no Brasil. Esse mito que o Brasileiro é cordial é supimpa é só com Turista de 1 mundo também!!',\n",
              " 'A cada 10 Barris de petróleo produzidos no mundo 8 são produzidos por estatais. Se um desastre incomensurável acontecesse e Paulo Guedes permanecesse do Ministério da Economia mais quatro anos o Brasil viria o Haiti um vassalo dos senhores feudais da Faria Lima. https://t.co/Awdvs1Q1sn',\n",
              " '@sasahmutema @ariranhita Faz uma pesquisa com os descendentes da África Francófana ou o Haiti, para ver se eles também tinham esse tipo de banheira no hotel de luxo 🥰 https://t.co/HHOFi2W3EY',\n",
              " '@robertoamaraldr @taoquei1 Imagine sacanagem oras! Gasolina no Brasil do Mito é vendida em dólar pois Petrobrás segue o mercado internacional 9 reais né? E o gás de cozinha então? Produto básico 150 Reais e alimentos? Kg de cenoura 15 reais tá potência igual Haiti',\n",
              " '@pvvv_04 Eu acho que a gente precisa defender tanto a imagem do Rei, como a de Neymar! É patrimônio nosso….. \\n\\n seleções como o Haiti, em que, existe feriado no país simplesmente por terem feito gol….enquanto a gente recebeu o privilégio de morar em um país penta campeão do mundo',\n",
              " '@cafdepresso1 @ariranhita Lembrando que br trata bem estrangeiro de pais mais rico, pergunta pra haitiano e venezuelano como são tratados, mas o lado “bom” que não é um consenso da população de ser amigável seletivamente',\n",
              " '@salazando Basta olhar para o brasão da PMERJ, por exemplo, para saber o porquê dela ter sido criada. Ramo de cana de açúcar de um lado, de café do outro, uma força desenvolvida para proteger os grandes latifundiários, escravocratas, por influência do medo de uma nova Revolução Haitiana.',\n",
              " '@RezinhaGC @darkzmeniy Depende do gringo mesmo. Somos acolhedores com europeus, norte-americanos, mas não acolhemos tão bem o povo da África, Haiti, Timor-Leste…',\n",
              " '@omgimkin Que bonita pareja',\n",
              " '🇭🇹Sequestros em massa aumentaram no Haiti ao longo da semana. Estrangeiros e haitianos são vítimas desse crime em troca de indenizações ou para serem barganhados por gangues. Os sequestros aumentam a instabilidade e violência, aproximando o país de uma guerra civil. https://t.co/GI6GJoOyGa',\n",
              " '@Duu_Haiti menor é quietao irmão kkkkkkkkkkk tem q ver',\n",
              " '@senhorperegrino E esta direita cretina quer moderação radicalizando as injustiças. Isso é plantar mina terrestre. Não adianta arrotar Burke e citar Rússia e Haiti como exemplos de revoluções que deram errado, tomem vergonha e defendam a justiça, é assim que o radicalismo será derrotado.',\n",
              " '@voltamarcao Copa das Confederações,\\nEspanha e Haiti',\n",
              " '@teamomae_ faz sozinho e coloca o nome dele bandido kkkkkkkkkkkkkkkkkkkkkkkkk',\n",
              " '@feijofuny4417 Sempre que eu não to tankando o bostil eu lembor\\npelo menos não nasci no Haiti',\n",
              " '@CarlosPSTU @jorgina14535955 Caetano disse: o Haiti é aqui. Gustatatavo Liiiiima diz: a Aleeeeemaaaanhhha é aqui. 1942.',\n",
              " 'Genivaldo, negro, esquizofrênico, verdadeiro cidadão de bem. Foi brutalmente assassinado por aqueles que deveriam proteger. Enquanto a família chora, o Brasil se cala - diferentemente da morte de George Floyd. Como cantou @caetanoveloso, o Haiti é aqui.',\n",
              " 'Não é só o Haiti: Auschwitz agora também é aqui....\\nBalaio do Kotscho - Liberdade para matar: a rotina da barbárie no país de Genivaldo e Bols... https://t.co/kkztIbZUDu via @UOLNoticias @UOL',\n",
              " 'Em uma escala em que 1 é nada até 7 (muito), em quanto voce confia na Polícia Nacional? Segue a situação do Brasil em perspectiva comparada a partir dos dados do @LAPOP_Lab \\n\\nO Brasil (4,1) perde para Nicarágua, Colômbia e Haiti, todos com escore 4,3.\\n\\nhttps://t.co/KO2H1uPeyo https://t.co/QK6PaXq1yU',\n",
              " 'os livros dele na prateleira. o livro de fotos da guerra do haiti na estante. a bicicleta. a cadeira que ele disse que consertaria. a mesinha que ele disse que consertaria. o skate que ele colocaria na parede. minha garrafa. a mesa da tv que ele me ajudou a montar. mano',\n",
              " '@malu_poletto sofrendo no twitter e rindo q nem uma cavala haitiana no grupo',\n",
              " 'Por isso, a força é empregada quando o Haiti desponta como um exemplo a ser seguido. \\n\\nQualquer possibilidade de rebelião escrava era respondida com sangue negro no chão e premiação ao repressor.\\n\\nÉ nessa lógica que surge a Polícia Militar do Rio de Janeiro, não é coincidência.',\n",
              " 'E ao ouvir o silêncio sorridente de São Paulo diante da chacina\\nCento e onze presos indefesos\\nMas presos são quase todos pretos\\nOu quase pretos\\nOu quase brancos, quase pretos de tão pobres\\nPense no Haiti\\nReze pelo Haiti\\nO Haiti é aqui\\nO Haiti não é aqui',\n",
              " 'Quem quer ler literatura haitiana comigo? https://t.co/X9rIBOk0ta',\n",
              " 'Brasil de Bolsonaro tem o pior crescimento da América da América Latina, atrás até do Haiti https://t.co/WO2LCrlCxA',\n",
              " 'KAMAMAJAJAHAOAKAKAKAKJ o haitiano do castelo literalmente DO NADA na casa da minha vó???????????? eu dboa na sala e ele DO NADA',\n",
              " '@aquelavanvan Fora as atrocidades feitas no Haiti.',\n",
              " 'Na trama acompanhamos Claire Limyè Lanmè, que no dia do seu aniversário de 7 anos foi entregue à uma vendedora de tecidos haitiana por seu pai para que tivesse um futuro melhor enquanto ele pensa em começar uma vida no exterior.',\n",
              " 'Edwidge Danticat nasceu Porto Príncipe, Haiti. Aos 4 anos ela começou a ser cuidada por tios porque os pais se mudaram para os Estados Unidos, país para onde ela foi morar posteriormente aos 12 anos e teve dificuldades para se adaptar, mas encontrou na escrita um refúgio.',\n",
              " '@ele_fantim @ne5fru @CloretoDe0dio @DijaSEP @pe_drospfc @mundodabola Lloris tem descendência espanhola e catalã, Koundé beninense, Varane martinica, Upamecano bissau-guineense, Kimpembe congolesa e haitiana, Tchouaméni camaronesa, Pogba guineense, Hernandez espanhola, Griezmann portuguesa e alemã, Mbappé camaronesa e argelina, e Benzema argelina.',\n",
              " 'E a violência no regime de escravidão não foi restrita ao Brasil. Todas as regiões sob o julgo colonial, e depois neocolonial, foram marcados pela violência contra as populações negras. Mas foi a população negra rebelada na Revolução Haitiana que ficaram marcadas como violentas.',\n",
              " '@driufc @DamaresAlves @PastorMalafaia @marcofeliciano Eles veem \"tanto espírito no feto e nenhum no marginal \" (trecho de Haiti  de Caetano e Gil)',\n",
              " '@senadorhumberto Caro senador , será mais uma de tantas outras.  Lembra de Jacarezinho ?. E o haitiano na barra da Tijuca  ?.   Então, é isso.   Dará em nada ,  já já vira outra e já esqueceremos.   O Brasil é uma tragédia constante.',\n",
              " 'Auschwitz é aqui .\\nO Haiti é aqui .',\n",
              " '@DCM_online O Haiti não é aqui, mas a Sicília....',\n",
              " 'E pensar que esperança de geral (aqui da bolha minha) é o partido que militarizou os morros no rj… \\nUPPs, Caveirão e exército no morro vão na conta de quem? \\nsem falar do Haiti, não esqueçam o Haiti.',\n",
              " 'Esse é o sentido do projeto da modernidade do Haiti para baixo. https://t.co/lOdb4IecL6',\n",
              " 'Bola dentro do NYT depois de muitas matérias reaças: O Haiti é o único país no mundo onde os descendentes de escravos foram obrigados a pagar reparação aos descendentes de seus senhores por gerações https://t.co/3sr51JEOrL',\n",
              " 'GENTE ISSO É ABSURDO!\\na população do Haiti pagou por gerações uma indenização aos descendentes daqueles que os escravizaram. https://t.co/lxAPwPu3Tt',\n",
              " 'Mas proteger de quem? Na esteira de diversos movimento de resistência de pretos e indígenas no país e principalmente da Revolução haitiana, começam a armar uma política de contrarevolucao permanente baseada na repressão violenta daqueles que poderiam se revoltar e colocar em +',\n",
              " 'CARNAVAL VIRTUAL\\nESCOLA: SERPENTE DE OURO\\nGRUPO: ACESSO I\\nENREDO: O Puro Voodoo:\\xa0De Benin a Nova Orleans, No Haiti, à revolução negra\\nCONTATO: @serpente_de_ouro  (Instagram)\\n\\nhttps://t.co/rzGA6DjHVe',\n",
              " \"@Daviuzada21 @stefanicrossfit Os abusos decorrente da missão no Haiti e da implantação das UPP's devem ser fruto da imaginação\\nVou nem falar da polícia na Bahia...\",\n",
              " 'Se deixar Paulo Guedes mais 4 anos no ministério da economia o Brasil se transforma no Haiti ou no Iêmen porque a pobreza vai ser tanta que ele vai espalhar vai tirar tantos direitos quem sabe até a lei Áurea.',\n",
              " '@gui_lherne Opa que cardápio variado amigo aqui em  Burundi estamos passando necessidade, hj almocei uma iguaria haitiana o Biscoito de Barro',\n",
              " 'Diante da Total Derrocada, monstruosas, múltiplas destruições imposta à terra do abandono,ONU Já pensa, \"Tomar\"do Haiti o triste posto de \"Pior\" IDH das Américas!!!',\n",
              " 'Haitiano derruba muro de escola em acidente e conserta tudo em cidade de SC | Renato  Igor | NSC Total https://t.co/4VlA0plJ8F',\n",
              " '@luaroc4a @lindabrasilse Concordo contigo, pra ter ideia, se já está ruim ter um atendimento bom, ou um sistema de segurança eficaz, imagine se não tivesse. Seria um colapso, nos tornaríamos iguais a Bolívia, Haiti e México. Sem leis.',\n",
              " 'Eu apontando no mapa onde fica Itália, Haiti, Bolívia e Venezuela pra uma atividade do meu irmão e ele me achando um ser onisciente',\n",
              " 'Não, o Haiti não é aqui; o Inferno é aqui. https://t.co/JetYC3uUNL',\n",
              " '@universolgbtq @cirogomes OPT ter capitalizado estrutura da Petrobrás \\nTer mandado exército Br dar uma d imperialista no Haiti \\nVender reserva estratégica d gás\\n Ter aberto conchavo igual FHC depois d mensalão p Lula n ser caçado \\nO PT seguir modelo econômico conhecido como agenda Neoliberal n é fake news',\n",
              " '@fayhziin Ta recebendo alguem e 2 preto??? Ba us guri haitiano vao em cima de ti pai',\n",
              " '@Q2Cockatiel @FutebolBoomers Se lembre, Concacaf não é só USA e México, é Belice, Barbados, Trinidad y Tobago, Haití, República Dominicana...\\nA grande maioria não tem nem futebol profissional...',\n",
              " 'o que acontece no Brasil é um genocídio materializado e escancarado da população negra e a utilização de artifícios cruéis para se chegar a esse fim não é novidade.\\nessa câmara de gás mais se assemelha às utilizadas nas revoltas no Haiti e Guadalupe do que as da Alemanha Nazista',\n",
              " '@olabocos Debs, o Exercito Brasileiro tem uma experiência com esse tipo de pacificação, exemplo o trabalho do EB no Haiti eram odiados, saíram de lá amados pela população.\\n\\nClaro foi um trabalho de LONGUÍSSIMOS anos, com muita atuação Militar/Social.',\n",
              " '@luisnassif Como o Brasil têm envoluido desde 2016, devemos agradecer aos corruptos,  poder econômico, mercado, grandes mídias, Temer, centrão, Bolsonaro e militares! Quais serão os alvos a serem atacados? No Brasil existe as milicias armadas, pelo bolsonaro.  Colombia e Haiti existem aqui.',\n",
              " '@AlexCori77 Caetano dizia: o Haiti é aqui. Gustatatavo Liiiima pode dizer: a Aaaaalemanha é aqui. 1942.',\n",
              " '@betopferreira @Estadao @EstadaoPolitica Depois do que ele fez no Haiti ele será aplaudido até o fim da vida pelos europeus',\n",
              " 'Acho lindo Venezuelano e haitiano falando português fluente, dá vontade de ouvir o dia todo',\n",
              " '@reinaldoazevedo O Haiti é aqui!',\n",
              " '@JooPauloRossiF1 @L227D @taliriapetrone Usem o Google, pesquisem o envolvimento em crimes no Haiti desse Tarcísio e o tal Heleno, amos já deveriam estarem presos.. mas Haia vem aí b@ndid0s!',\n",
              " 'Hoje uma haitiana me chamou de macici. Além de me chamar de  macho, ela me chamou de gay na língua dela KKKKKKKKK',\n",
              " 'Após 3 anos de governo Bolsonaro, o Brasil segue entre os países com menor liberdade econômica.\\n\\n🗺️133º entre 177 do mundo\\n🌎26º entre 32 da América\\n\\nEstamos mais próximos de Haiti🇭🇹, Irã🇮🇷, Quênia🇰🇪 e Cuba🇨🇺 do que de Chile🇨🇱, Peru🇵🇪, Colômbia🇨🇴 e Uruguai🇺🇾.\\n \\nGoverno \"liberal\"?',\n",
              " 'O Haiti ainda é aqui junto com a Alemanha de 41. Tabata Amaral é autora de projeto embrião de destruição institucional promovido pelo fascismo militar/miliciano. Por trás da privatização da Eletrobrás estão os bancos nacionais e adivinha? Bancos norte-americanos. Achou pouco? https://t.co/5xpvhOn8cp',\n",
              " 'O Haiti é lá... o fascismo é aqui!😡😡😡 https://t.co/3NfmHtR24n',\n",
              " 'Já dizia Caetano Veloso: o Haiti é aqui https://t.co/YsUZKe29rB',\n",
              " 'a invasão do haiti foi no governo lula\\na operação no alemão também\\na implantação das UPPs também\\nrui costa e joão campos são de esquerda\\ntem gente de esquerda se aliando a alckmin, eduardo paes e doria\\n\\na esquerda liberal também é assassina. https://t.co/UsUtF6BZwQ',\n",
              " '@SimoneM53403616 @rafaelbcaldeir1 Foi tão vergonhoso que o general foi condecorado no mundo todo como herói brasileiro. Informe-se para falar do Haiti, vc não estava lá.',\n",
              " '@JoseRobertoMag5 @rafaelbcaldeir1 Não vou falar do Haiti,onde o Brasil tem história de horror e vergonha. Aquilo foi pura incompetência.',\n",
              " '@SimoneM53403616 @rafaelbcaldeir1 Vc já conversou com ele? Vc já esteve com ele? Vc já ouviu uma entrevista dele. Bem eu estive com ele, não só na política no Haiti tb , sendo meu comandante, conversei com ele longas horas, e assisto-o sempre em entrevistas. Por favor generalizar não. Eu respeito sua posição',\n",
              " '@luisnassif Não há como não lembrar dos Tonton Macoute, milícia do nefasto Papa Doc, que criaram o caos e a falência social do Haiti. \\nBolsonaro quer ser o Papa Doc no Brasil.',\n",
              " 'Um dos processos mais importantes do mundo contemporâneo é a Revolução do Haiti. Aquele episódio histórico foi completamente único, a síntese do mundo iluminista em revolta com as percepções revolucionárias dos povos negros. Jacobinos negros é mesmo, a melhor definição possível.',\n",
              " '@Bicador1_908 @edu_1105 @Pr_AlexandreGon Nao se trata disso. As instituições possuem a cultura interna de ter o povo pobre como inimigo. Policia no Brasil foi criada por d joao VI pra defender fazendeiros e evitar uma revolução como a do Haiti. Basta ver q ate hoje o brasao da PMRJ tem um pé de cana e um pé de café.',\n",
              " \"L'Ouverture foi um guerreiro ex-escravizado que liderou a Revolução Haitiana. Essa revolução derrotou os colonizadores franceses e espanhóis e estabeleceu a primeira república negra livre logo após sua morte, em 1804. https://t.co/FY9mK7sQv6\",\n",
              " 'O Senhor não exitou em trazer o zika vírus ao Brasil, nem um terremoto no Haiti, nem o coronavírus ao mundo. Tudo isso por que Ele não achou arrependimento nos corações, quanto mais ele continuará fazendo para que uns se arrependam?!\\n#AngolaWordConference',\n",
              " 'ESSE É O MEU CANDIDATO PRA GOVERNO DE SÃO PAULO !!! \\nPra quem ainda não o conhece, apresento-lhes o nosso futuro Governador de São Paulo: Tarcísio Gomes de Freitas, fez parte da Missão de Paz da ONU no Haiti,sabe o que é o \"CAOS\" de verdade  !!! São Paulo será bem cuidada  !!! https://t.co/XNCZUquf2x',\n",
              " 'O Brasil no tempo de bom futebol, o Brasil do samba, o Brasil do bom Carnaval o mundo inteiro vieram se divertir agora viro o Haiti do Jair, com um presidente genocída, um monte de militares mal caráter e um monte de policiais canibais matar pretos e pobres por prazer',\n",
              " 'Joseph Philippe Lemercier Laroche\\n(26 maio 1886 – 15 abril 1912) foi um engenheiro haitiano educado em Paris. \\nEle é o único passageiro conhecido de ancestrais africanos na malfadada viagem inaugural do navio Titanic. \\n#afrecult https://t.co/w2R2sut1GX',\n",
              " '@lucascnsoares @dabliweslley @Economesteter Teve pandemia no mundo todo\\n\\nCEPAL prevê q Brasil terá a pior tx de crescimento da América Latina em 22:\\n \\nPanama: 6.3%\\nVenezuela: 5%\\nColombia: 4.8%\\nGuatemala: 4.2%\\nUruguay: 3.9%\\nBolivia: 3.5%\\nCuba: 3.4%\\nArgentina: 3% \\nPeru: 2.5%\\nMexico: 1.7%\\nChile: 1.5%\\nHaiti: 0.6%\\nBrasil: 0.4%',\n",
              " '@joelmacbird Caetano disse: o Haiti é aqui. Gustatatavo Liiiima pode dizer: a Aaaalemaaanha é aqui. 1942.',\n",
              " '@reginaldodles @euNicolePuzzi Caetano disse que o Haiti é aqui. Gustatatavo Liiima diz: Aaalemaaanha é aqui. Acima de  tudo, 1942.',\n",
              " '@VividosConfins Caetano disse: o Haiti é aqui. Gustatatavo Liiiima diz: a Aalemaanha é aqui.',\n",
              " 'O melhor de tudo é que a conta dos escravos ficou para a França. Que fez do Haiti um HUB de distribuição. \\n\\nMas Adivinha quem comprava?\\n\\nÁfrica ( principalmente Nigeria britânica) produzia, França  distribua  e a América consumia.',\n",
              " 'Acusaram o PT de transformar o país na Venezuela, Bolsonaro foi lá e transformou no Haiti! 😎 https://t.co/4RJuJtWLJS',\n",
              " 'por que haitiano gosta tanto de macarrão?',\n",
              " 'França apoiando golpes.\\n\\nVERGONHA!!!\\n\\nDos EUA,  não esperava outra coisa.\\n\\nO povo haitiano sofre!\\n\\nEssa é a tal \"defesa da liberdade\"? https://t.co/odnh0d9Yqh',\n",
              " 'Indenização bilionária paga por escravos libertos a ex-senhores está na origem da miséria do Haiti.\\nA França tem repetidamente subestimado, distorcido ou enterrado o assunto.\\nhttps://t.co/en2mxM1qPK',\n",
              " 'Resultado dessa bosta de governo do bozo genocida. Instituições sérias agora dominadas por bandidos milicianos que tocam o terror. O Haiti é aqui. https://t.co/fS94q1cAVP',\n",
              " '@reinaldoazevedo Alô tio Rei! Nada contra „ metáfora „ do nosso querido imortal Gil, mas achei que depois do seu emblemático editorial no „ é da coisa „ você iria terminar com a divina e apocalíptica „ Haiti „… desculpa meu desabafo 😞',\n",
              " '@eudesbroker @PaolaCarosella Previsão para o PIB brasileiro para 2022 é menor do que o Haiti!',\n",
              " '@profpaulamarisa @PaolaCarosella A previsão do PIB brasileiro para 2022 consegue ser menor do que  a do Haiti!',\n",
              " '@ezlnvive Engenheiros do Haiti',\n",
              " 'Em parceria com Victória Pacheco, escrevi sobre o terremoto que ocorreu no Haiti em 2021 e trouxe um panorama histórico e geográfico deste país. https://t.co/SRxx3semSf https://t.co/XxBTjmyBgg',\n",
              " 'Se esconder, as vezes o elemento surpresa da polícia evita que as ordens sejam dadas ou as operações que começam na madrugada impede essa tática, os policiais usam essas táticas que eu particularmente já usei no exército, em city Solei no Haití havia o mesmo modus operandi que+',\n",
              " '@reinaldoazevedo O Haiti é aqui, e o bozo manda matar e aplaude.',\n",
              " 'Ainda na questão💲 haitiana https://t.co/bA6fSOjxBw',\n",
              " '@hurevoir @lanadeholanda Estônia;\\nEswatini (ou Essuatíni, ou Suazilândia);\\nEtiópia.\\nFiji;\\nFilipinas;\\nFinlândia;\\nFrança.\\nGabão;\\nGâmbia;\\nGana;\\nGeórgia;\\nGranada;\\nGrécia;\\nGuatemala;\\nGuiana;\\nGuiné;\\nGuiné-Bissau;\\nGuiné Equatorial.\\nHaiti;\\nHolanda;\\nHonduras;\\nHungria.\\nIêmen;\\nÍndia;\\nIndonésia;\\nInglaterra',\n",
              " 'Vale a pena lembrar da última Festa da Cultura Brasil Haiti em 2019. https://t.co/F8AYRh3l8g',\n",
              " 'e ainda ficam rindo da comida típica do Haiti (pais original dela), coitada',\n",
              " '@_SilvaDanih @EvellinDeSouzaa Aham deixa ela, se o filho dela não venho haitiano,tudo é genética baby vai vim beyonce igual a mãe. kkkķkkk',\n",
              " 'O BRASIL do Genocida tem o PIOR crescimento da América Latina, atrás até mesmo do Haiti.\\n\\nBrasil de Bolsonaro tem o pior crescimento da América da América Latina, atrás até do Haiti - https://t.co/0bWZaFsnbw @a_postagem',\n",
              " 'Mano o cara que quer gravar comigo é Haitiano e mal fala portugues (y)',\n",
              " '@futebol_info Que trauletada mané, River vem pra briga ein.\\nFodase se o time é fraco, pode ser da quarta divisão do Haiti, time grande tem que fazer isso.',\n",
              " '@GloboNews @NatuzaNery Sempre assim na república das bananas: Feijão ou Arma? Aumento do Diesel ou Desbastecimento? Emprego Sem Direitos Trabalhistas ou Desemprego? Almoço ou Jantar? Extrema Direita ou Esquerda? Venezuela ou Haiti? Viver ou Morrer? Neste último, não há direito de escolha da 1 opção.',\n",
              " '@AArgolo2 A França defendia liberdade, igualdade e fraternidade para os burgueses do seu país e ditaduras sanguinárias para os países colonizados por ela. Leia sobre a revolução haitiana. Leia sobre Tunísia, Argélia, Marrocos etc.',\n",
              " 'literalmente ja conheci um haitiano que mora no brasil',\n",
              " '@fulekinha @pirata_chris @rodegemeos @AG_17__ sempre perde guerra para os cristãos, senão iria fazer igual na revolução haitiana onde os macumbeiros em maior numero fizeram um massacre la',\n",
              " '@AbinNao @rodegemeos @AG_17__ sempre perde guerra para os cristãos, senão iria fazer igual na revolução haitiana onde os macumbeiros em maior numero massacraram franceses em menor numero',\n",
              " 'Brasil de Bolsonaro tem o pior crescimento da América da América Latina, atrás até do Haiti https://t.co/wmUYh8Sp8Y',\n",
              " 'Conheci uma haitiana! Daora demais, fala 5 línguas!',\n",
              " '@Cecillia Ñ é segredo que a França saqueou o Haiti, q serviram para a construção da Torre Eiffel, da Avenida Champs-Elysées e outros pontos turísticos de Paris.O Haiti pagou a \"dívida\" q era mais de 3X o orçamento nacional, de 1825-1947, às custas da educação, saúde, estradas, pontes...',\n",
              " '@Cecillia Imaginar que França abriu mão do Canadá pra ficar com o Haiti e suas riquezas minerais.',\n",
              " 'Indenização bilionária paga por escravos libertos a ex-senhores está na origem da miséria do Haiti. Acordos desonestos, dívidas gigantescas e corrupção generalizada resultaram em déficits orçamentários e problemas sociais que moldaram o país caribenho https://t.co/7Yfn3SayWd',\n",
              " 'tem um haitiano aqui aonde eu trabalho dizendo que vai me dar iPhone e carro se eu casar com ele KKKKKKKKKKKKKKKK, serasi deus?',\n",
              " 'eu trocaria rio de nojeira pelo haiti https://t.co/p8HorPRs0k',\n",
              " '🔷 Traficantes de seres humanos.\\n Madre Teresa (na verdade, homem e pai de Fauci) era uma traficante de crianças.\\n Vendia crianças e ganhava entre US$ 50 e US$ 100 milhões por ano para o Vaticano.\\n Os laços de Theresa incluem Baby Doc Duvalier, o ditador haitiano https://t.co/xpZv57PdBn',\n",
              " '@AnubisAre @tass_agency A Polônia não amedronta nem o Haiti',\n",
              " '@GeorgioLeao Traficantes de seres humanos.\\n Madre Teresa (na verdade, homem e pai de Fauci) era uma traficante de crianças.\\n Vendia crianças e ganhava entre US$ 50 e US$ 100 milhões por ano para o Vaticano. Os laços de Theresa incluem Baby Doc Duvalier, o ditador haitiano, Charles Keating... https://t.co/l3LOpFQN9H',\n",
              " '@traumann Por isso q o melhor aspecto do governo FHC foi ter sucateado essa gente. E o pior do Lula foi ter dado prestígio a eles, com missões como a do Haiti.\\n\\nO maior desafio de um segundo governo Lula será devolver a pasta de volta ao tubo. As primeiras ações terão de ser contundentes.',\n",
              " '@yurifascinante Eu tava com essa dúvida se colocava o Haiti como caribenho ou como Latino, já que eles falam uma língua latina, mas realmente muitos aspectos deles são muito mais do Caribe do que d latino.',\n",
              " '@CidadaoRenan Pelo menos esses países tem mais crecimento econômico que o Brasil. Até o Haiti está melhor que o Brasil. https://t.co/A8qsMbvk2a',\n",
              " '#CMAL: Haiti continua em silêncio.  #TheFariaLimaJournal https://t.co/hR5hP7J3wO',\n",
              " '@ArremessoSPFC Tem outro jogador muito bom que a galera do Brasil não conhece ainda, se chama Skal Labissiere, do Haiti, companheiro de equipe do experiente J. J. Barea.',\n",
              " 'Estou no 99 compartilha com um motorista haitiano e a segunda passageira igualmente haitiana usando muletas na avenida Getúlio Vargas. Ela vai descer e pede pra ele entrar no estacionamento da São José, ele não entra e para na faixa d estacionamento da rua +',\n",
              " '@kimkim2510 @joaoafonsoluz Quem invadiu o que?De que invasão queres falar?Iraque?Afeganistão,Vietnam,Reino do Havaí,Cuba,Porto Rico, Filipinas,Panamá,Honduras, Nicarágua,Haiti,República Dominicana,Somália,Iêmen etc etc...Tudo EUA\\n\\nA Ucrânia foi pelo outro teu Amigo direitoso o Putin da Federação Russa.(+)',\n",
              " '@yuribrx1 @L3itadas_l03n_ Mas isso é Satanismo também.\\nSegundo William Schnoebelen, a Magia (Negra) mais perigosa é o Voodoo (haitiano).\\nCandomblé, Ubanda e, pior, Quimbanda também é pesado: mexe com demônios, mesmo.\\nNão é algo para se brincar.',\n",
              " 'Sobra fazer doutorado em uma das maiores instituições do mundo: meu amigo do Haiti veio nos visitar de surpresa ! Amigos de todos os lugares do mundo a gente se vê por aqui kkkk',\n",
              " 'Indenização bilionária paga por escravos libertos a ex-senhores está na origem da miséria do Haiti\\n\\nAcordos desonestos, dívidas gigantescas e corrupção generalizada resultaram em déficits orçamentários e problemas sociais que moldaram o país caribenho\\n\\nhttps://t.co/7S9WyjDT0S',\n",
              " '@kitsune_dom Eu colocaria o Haiti como Caribe também. O resto está perfeito.',\n",
              " '@monelj3 @JottaJhoni @MaraLu_Brasil Isso é trecho de uma música de Caetano Veloso, Haiti. \\nNão deixa de ser sem sentido.',\n",
              " 'Um jornal dos EUA esses dias fez uma matéria sobre como a política colonialista francesa destruiu o Haiti. Nada falou sobre como a política colonialista dos EUA perpetuou a desigualdade. Hoje o francês dá o troco. Tem coisa aí https://t.co/BFYqiAjADZ',\n",
              " '@tarcisiogdf Ministro pq o Sr não quis sair candidato em seu Estado Natal Como Capitão foi pro Haiti pela ONU pq abandou seu estado o Rio de Janeiro pra ser candidato ao estado de SP ???? https://t.co/FxVwyMzywo',\n",
              " 'É o modus operandi dos militares que têm em seu legado as ocupações militares criminosas no RJ, no Haiti, na Amazônia, na instituição civil.\\nAs PMs precisam ser contidas e desmilitarizadas urgentemente. Oferecem risco à estabilidade institucional e democrática.',\n",
              " '@alliyeoficial Sim! \\n\\nO Heleno é acusado de massacre no Haiti. Nem considero esse crápula como general, considero como assassino.',\n",
              " '@ListinDiario @claudejoseph03 Racista com Haitianos porque nao asse isso com venezuelanos, cubanos e outras paises\\nSem Haiti République dominicanos não vivo sim Haïti nao comprar nada em santo domingo République dominicanos futidos 👎👎',\n",
              " 'Fui pesquisar sobre essa época de 2010, e achei essa matéria. O motorista de app estava lá e serviu às forças armadas por um ano no Haiti. Coincidentemente, tem sobrenome italiano. Acham que criminoso só tem de ser morto. Não entendem que a pobreza e o descaso levam à violência.',\n",
              " 'Nem conto pra vocês que voltei pra casa no app com um ex-servidor das forças armadas no Haiti. Sob as ordens de gal. Heleno, suspeitos de estupro por vingança, praticado na cultura haitiana, eram mortos sem rastros pra não dar B.O. com a ONU. Os cara não aceitam o direito à vida!',\n",
              " 'A guerra na Ucrânia, na Síria, no Haiti do general Heleno tão violenta quanto a guerra do general Braga Neto, interventor Temer no Rio, q. jamais atacou os territórios das milícias.',\n",
              " '@tuxsaurus @kkkdosanjos @Paunamoleiranow @GadoDecider Cara, acabou com o absolutismo frances e tu diz que é ruim? Estou falando da franca, nao do haiti..',\n",
              " '@renancalheiros @Alessan69463461 ... Pense no Haiti\\nReze pelo Haiti\\nO Haiti É  AQUI\\nO Haiti não é  aqui...\\nMAS AQUI É O NOSSO HAITI!\\n\\nGrande Senador, o sr no emociona. Abs',\n",
              " 'Sobre as operações da OTAN e do imperialismo no mapa mundial. É ingenuidade desconsiderar o que o governo dos EUA já fizeram no Panamá, Nicarágua, El Salvador, Honduras e Guatemala (anos 80 e 90), no Afeganistão, no Iraque, na Síria, Líbia, Haiti e vários países nos anos 2000.',\n",
              " 'Tô com um Uber haitiano na Argentina apaixonado pelo Brasil me ensinando xingamentos em francês.',\n",
              " '@LuanSirtoli @renato_battista @juliette Por isso que os ricos dos EUA estão todos saindo de lá pra ir pro Haiti... Entendi a lógica',\n",
              " '@DanielCara Deram protagonismo enviando tropas para treinar chacina no Haiti e estão tocando o projeto desde então....',\n",
              " '@JANI_VALVERD Êsse véio caquético não é inteligente. Tem dívidas a ser cobrada. Vide caso Haiti. Não respondeu nada até hoje.',\n",
              " 'Aí teve algum cretino no tuíte da reportagem no NYT que teve coragem de dizer que o Haiti parou de pagar em 1945 e que, mesmo assim, não fez nada depois disso https://t.co/lNP0rIidbX',\n",
              " '\"eu falo crioulo haitiano, do haiti\" lindinho',\n",
              " '@andrefran Cadê os teus tweets sobe as guerras convencionais e híbridas na Síria, Venezuela, Iraque, Afeganistão, congo e inúmero países da África, líbia, Haiti, Brasil e outros países que estão sendo pilotadas pelos Estados Unidos?\\n\\nVc é cego só quando convém? https://t.co/uVTYLcdAOr',\n",
              " 'Indenização bilionária paga por escravos libertos a ex-senhores está na origem da miséria do Haiti https://t.co/CGgwMtnH0i',\n",
              " 'Ex-embaixador da França revela que golpe no Haiti em 2014 que derrubou o presidente Aristides foi armado pelos EUA e França.   Triste revelação do que se imaginava. Daqui a oito anos vamos saber quem orquestrou o golpe contra  Dilma?\\nhttps://t.co/k9nAmopmox\\n...',\n",
              " 'É muito incrível estudar os movimentos do Haiti',\n",
              " '@MagnoAmorim3 @dw_brasil Do Panamá, do Haiti, do países que sofrem pela AFRICOM, etc.',\n",
              " '@LipeChancela @GuedinhoExplica Estive no Haiti e são raríssimos os que tem um iPhone para postar inverdades como esta!',\n",
              " 'O Haiti foi literalmente a única independência da América latina a ser feita sem participação da elite, e até hoje o país sofre com isso.\\n\\nAí vem um intelectual do tt e fala que uma revolta anti escravista com a força baseada na religião do voodoo é um massacre contra branco kk.. https://t.co/hSeeIP6Iyh',\n",
              " '@retrohwng Era napoleônica e revolução haitiana',\n",
              " 'Ilustrinhas que eu fiz pra um livro que conta sobre dois sobreviventes do terremoto no Haiti! https://t.co/sjRTZ66F8O',\n",
              " 'Indenização bilionária paga por escravos libertos a ex-senhores está na origem da miséria do Haiti (cont) https://t.co/pGJdCy3zXu',\n",
              " \"Vergonha da Colonização Branca na capa do NYT:\\nPresidente do Haiti pede devolução dos descendentes das famílias européias, que perderam seus escravos na independência do país, a vultosa indenização que a 🇨🇵 obrigou 'a bala' os pobres libertos a pagarem, acaba expulso de seu país. https://t.co/oLxRqF2eip\",\n",
              " 'Indenização bilionária paga por escravos libertos a ex-senhores está na origem da miséria do Haiti | Mundo | O Globo https://t.co/WTBgoBkcdd',\n",
              " 'Indenização bilionária paga por escravos libertos a ex-senhores está na origem da miséria do Haiti | Mundo | O Globo https://t.co/S2DslsyA78',\n",
              " \"@tarsogenro Vamos ser mais claros, Tarso, vc prefere acreditar nas instituições, óbvio, dos generais Heleno (o herói daquela operação 'libertadora' dirigida pelos EUA/França no Haiti) no BOPE... esse que chacina por aí... nos tribunais do Moro (tem tantos)... do que no povo... :(\",\n",
              " 'Waguinho a nossa polícia precisa ter as mesmas garantias que as forças armadas tiveram no Haiti. Bandido apareceu com arma de guerra na frente,  atira primeiro e pergunta depois.   #bgmanharj',\n",
              " '@phillspaulo @jacobastos @luisnassif Conhece a música do Caetano  que diz \" o Haiti é aqui\"?',\n",
              " '@eusigo12 @luisnassif \"O Haiti é aqui\".',\n",
              " 'O HAITI É AQUI https://t.co/79GgFs8zRR',\n",
              " \"@renancalheiros @Alessan69463461 Sr., tome seu diazepam e troque a fralda geriátrica, tá todo melado aí, cantarolando Caetanin 😂😂.( Haiti né?! Kk) Era uma reunião do Comando Vermelho c/ trafic's portando fuzis, granadas, ops...guarda chuvas, o Bope chegou: nada de flores, trocaram balas. - 22 vts no molusco ☠\",\n",
              " 'O departamento de Serviço Social da Federação Luterana Mundial (FLM) está coordenando a construção de dez moradias para famílias que perderam suas casas no terremoto de magnitude 7,2 que se abateu sobre o Haiti no ano passado.\\nhttps://t.co/9FszBSE36w',\n",
              " 'O Haiti é aqui https://t.co/5ywN0TihIX',\n",
              " '@augustodeAB Não fale do que vc não entende ,o que o coronel da PM falou é a mais pura verdade ,o Rio depois dessa decisão infeliz , foi invadido por verdadeiros mercenários ,vindos até do exterior , África ,Haiti por ex ,Como vc diz tem método mesmo, formação de um exercito de guerrilha',\n",
              " 'Por que muitos locais da Cemex estão próximos a pontos de tráfico humano?\\n Cemex\\n Fundação Clinton\\n Capital de loop\\n Haiti\\n No mundo todo\\n Por que uma patente para misturar sangue em concreto?\\n Caminhamos sobre isso todos os dias.\\n Essas pessoas estão mais do que doentes. https://t.co/ApwRcI5nH9',\n",
              " '@JAthleticano @FelipeS60554183 @aldeia_noticias Na seleção Francesa tem Basco, alemão, argelino, haitiano, senegalés, congolês, martinicano, camarones, espanhol, guineense e pasmem, tem até alguns franceses.\\n\\nPs. Tem mais umas 2 nacionalidades q não lembro.',\n",
              " '@cghemelly @alefiammetti Se adotarem um haitiano eu libero',\n",
              " '@JosianaZs Lá estive em 2021\\nCom carrapatos no corpo meus hóspedes vieram com Ivermectine!! \\nPerguntei sobre o COVID-19..\\nResp: os soldados brasileiros nos ensinaram q Deus era brasileiro.\\nAgora sabemos q tb é Haitiano.\\nTotal de óbitos:77.\\nPop. Total : 11 milhões.\\nÍndice: 7 óbitos/ milhão!',\n",
              " '@Gropomendes @renancalheiros @Alessan69463461 Na verdade ele citou parte da canção \"Haiti\" do Caetano Veloso...',\n",
              " '@GuedinhoExplica Nem pão, salsicha, nem a breja. Churras? Nem pensar! Não viramos Venezuela, mas Viramos Haiti! Deplorável!!!',\n",
              " \"📝 História por @annaneves.\\n\\n🇭🇹 Feliz aniversário, Toussaint L'Ouverture! Um ex-escravo que liderou a Revolução Haitiana que derrotaria os colonizadores franceses e espanhóis e estabeleceu a primeira república negra livre logo após sua morte, em 1804.\\n\\nhttps://t.co/GENuN1WZe2\",\n",
              " 'CASCAVEL\\n\\n“Pra mim isso é preconceito”, diz mulher sobre falta de atendimento a haitiano acamado por AVC\\n\\n#Notícia #CGN #Cascavel https://t.co/0RbSCt4bLg',\n",
              " '@edu_an7 @saassai2 @braba_fdp @zacnitter @CrimesReais https://t.co/h5fG9fbJ2e\\nSó ver a sequência de Tweets que a pessoa utiliza da revolta contra escravidão haitiana como suposto exemplo de racismo contra brancos 🤡',\n",
              " \"apareceu um gafanhoto no trabalho e um haitiano deu risada do nome gafanhoto\\ndaí eu perguntei como se chama em criolo e ele disse 'shuavandi'\",\n",
              " '@Carloni_pololo @DrakeSincero1 qual o sentido do cara pedir \"desculpas\" po ter xingado o cara de haitiano e dps ficar expondo aparência do mlk como motivo de diminuir? \\nisso não é meio que hipocrisia?',\n",
              " 'Alguém faz um resumo da revolução da Haiti aí pra mim na moral mesmo',\n",
              " 'Já discuti com a guria da facul falando que haitiano vem roubar serviço aqui no Brasil, tá malucooO',\n",
              " 'vi um documentário sobre a Revolução do Haiti e nuuu, eu to pasma ainda com a inteligência e espiritualidade dos líderes',\n",
              " 'o professor contando de quando ele foi pro haiti quando teve surto de ebola e a sala toda nessa energia aqui: https://t.co/NPV1y3oUe5',\n",
              " 'Tô grandão...a genife anistrong me seguindo...lá do Haiti 😂😂😁 @NelsonG69003970 https://t.co/zNBUaJfTsz',\n",
              " '@nahzinhaaf Isso é o reflexo do carnaval, fiz uma amizade com um haitiano e ele me falou que veio para o Brasil achando que as mulheres andavam peladas na rua KKKKKK e ainda falam que são exemplo para as mulheres pqp',\n",
              " '@okgdo Nunca vi ninguém ser hippie em gana ou no Haiti é sempre Suécia Noruega Dinamarca',\n",
              " 'Curiosidades dos Jogos de Luta (Guilty Gear)\\nO nome de Ramlethal Valentine pode ser a fusão de dois veículos musicais. O álbum RAM, de Paul e Linda McCartney e a banda de heavy metal Lethal. Vale citar que RAM também é o nome de uma banda de rock haitiana. https://t.co/5Mq1jJfWRR',\n",
              " '@GabiPerini12 lula é negro, gay, palestino, mulher, lésbica, trans, boliviano do Haiti',\n",
              " '@rodrigositaro @joanajoerval Será que o no Haiti aceitam nosso Exército?',\n",
              " '@moblre_ @DanielaLima_ CNN acha que nao é tragédia, pois quase todos são pretos e pobres, e de tão pobres e pretos são tratados. O Haiti é aqui!',\n",
              " 'passando um pouco mal c esse novo do casimiro do vai dar namoro q o cara é o primeiro gostoso que aparece e fala crioulo haitiano eu casava',\n",
              " '@ChegaAPorva @o_antagonista A régua deveria ser o próprio relator, que depois de pintar e bordar no Haiti com o General Heleno, declarou mais de R$ 2 milhões de reais em bens na última eleição.',\n",
              " '@JaderMonteiro @CBF_Futebol Tá errado? CBF marca jogos de preparação contra Andorra, Haiti, Vietnã... Enquanto isso os caras jogam entre si e tem a Eurocopa...',\n",
              " '@jjosezinho_ @Mauzer_z @JosWils46609262 O Haiti foi a principal colônia francesa, mas tem uma população muito menor.',\n",
              " '@JovemPanNews Tá maluco!!! Eu odeio o Haiti, eu amo o Brasil.',\n",
              " 'ABERRANTE: https://t.co/SHXuco51sZ',\n",
              " '@cicerovsampaio @JulianaBrizola @aguedescartoon Lógica: O Brasil tem concentração de renda, então bora taxar os ricos para nivelar todo mundo.\\nResultado: Todo mundo pobre estilo Venezuela, Cuba ou Haiti!',\n",
              " 'Not me a estudar matemática à última da hora porque achava que o meu professor ia ser misteriosamente raptado pela máfia haitiana',\n",
              " 'O Haiti é aqui !!!',\n",
              " 'Como meu número foi parar no Haiti ? https://t.co/Z5Ux3irwsc',\n",
              " 'Ex-embaixador da França no Haiti (Thierry Burkhard) admite que o golpe de Estado na ilha em 2004 foi orquestrado pela França e pelos EUA para evitar que o então presidente Aristide cobrasse reparações da França por ter roubado o Haiti. https://t.co/6Bg4BfXY4b',\n",
              " '@lLugaresAntiguo @soudecepcoes Essa torre foi feita com o dinheiro que a França roubou do Haiti',\n",
              " 'Excelente thread de @rodrigobulamah comentando a matéria do @nytimes sobre o Haiti, e ainda indicando e comentando bibliografia sobre o tema ❤️ https://t.co/CjLpO3QC03',\n",
              " 'um outro jornalista com experiência em haiti e casado com uma especialista no país listou aqui todas as novidades do artigo: https://t.co/0jiC9266OS\\n\\nele também analisa o que faltou no artigo, só que sem o recalque acadêmico clássico',\n",
              " 'saiu um artigo no times uns dias atrás sobre a dívida que a frança impôs ao haiti. na minha tl profissional, só os bonzão gemendo: “mas isso todo mundo sabe!”. porra, o estadunidense médio não sabe o nome nem de todos os estados do próprio país, que CARALHO eles sabem do haiti?',\n",
              " 'Tino, nossos policiais precisam da mesma garantia que as forças armadas tiveram no Haiti. Pegou com armas de guerra na mão,  atira primeiro e pergunta depois #balanco geral rj',\n",
              " 'Os cinco pontos-chaves das matérias do \"New York Times\" sobre a exploração financeira do Haiti pela França, em tradução automática do Google. https://t.co/5dpkfsugsE https://t.co/FFoePhkisC',\n",
              " 'NY TIMES relembra hoje a data de 1914, quando 8 fuzileiros navais dos EUA entraram na sede do  Banco Nacional do Haiti e saíram com US$ 500.000 em ouro. Operação invasão em grande escala do Haiti – país que os EUA governaram com força bruta por 19 anos. Nunca mais esquecer!!! https://t.co/t2zBTRPSdP',\n",
              " '@TaniaCBAguiar @_BrunoGodoy_ @ThiagoResiste Mudou, um monte de branco se declarou pardo e a educacao basica que é a raiz do problema continuou pior que a do Haiti',\n",
              " '@euglago @ComicOfTheWired @braba_fdp @CrimesReais Exatamente, e se não bastasse isso o Haiti também é localizado em uma região com instabilidade geológica, a quantidade de pessoas que morreram no terremoto que atingiu Porto Príncipe quando comparada à população total do Haiti na época é completamente chocante',\n",
              " '@g1 Engraçado que venezuelano e haitiano que veio com uma mão na frente e outra atrás.\\nJá tem casa e já conseguiram até carro.\\nBrasileiro cheio de benefícios não consegue nada.\\n\\n😕😕😕😕😕',\n",
              " 'Já dizia o Gil: o Haiti é aqui https://t.co/khDVjX9NfR',\n",
              " 'As notícias boas não param de chegar, vai @vitao , ouvi dizer que o Haiti é sua cara. https://t.co/KODvY74Vml',\n",
              " '@luisabinader Yo te ganrantia si tiene un Haitiano muerto para ya tu vai ver oque vai virar a olha nos no tienemos miedo do exerço de você a populaçion puede luta com vocês se cuida , se cuida, se cuida yo https://t.co/OkgYm1iByj',\n",
              " 'O Haiti – um vergonhoso capítulo da história, que não devemos deixar cair no esquecimento...\\n\\nIn 1791, enslaved Haitians did the seemingly impossible. They ousted their French masters and founded a nation.\\nhttps://t.co/8pYh4kRWwb',\n",
              " '@ediloncardoso31 Se quiser uma passagem eu pago, Venezuela,cuba, Haiti, Coréia do norte e arábia saudita.pode escolher.',\n",
              " '🇭🇹 Homicídios, sequestros e violações: ONU diz que violência atingiu níveis intoleráveis no Haiti. https://t.co/8AgFFiqf7B',\n",
              " '@Troublemaker095 @ComicOfTheWired @braba_fdp @CrimesReais Esse cara é estúpido demais para entender que existiram sanções econômicas no Haiti justamente para que a escravidão continuasse e para que o Haiti falhasse.',\n",
              " 'Um \"segredo público\", como sempre, EUA e França infernizando o Haiti, desde 1804 é assim. https://t.co/aCUTOmyJZA',\n",
              " '@EstadaoPolitica Eles Ja estupraram crianças de 11 anos no Haiti \\nTorturaram e mataram milhares \\nVocê espera o que de um lixo desses !\\nMILICOS merecem o pior !',\n",
              " '@exercitooficial LIXOS HUMANOS \\nEstupradores de crianças do Haiti \\nVocês são a pior escória \\n\\n\"Projeto de Nação\" de militares prevê cobrança no SUS e exploração na Amazônia. Veja a íntegra https://t.co/OibGifqlfT @UOLNoticias #UOL',\n",
              " '@Felippe_Hermes Petrobrás nunca foi problema, sempre foi solução.\\nMas quando a turma da direita assume o poder, aí a Petrobrás vira problema.\\n\\nEntão, o problema mesmo é tua turma de direita, q é haitiano na economia e afegão nos costumes.',\n",
              " '@bronza Não vamos virar Venezuela\\n\\nNão temos mar do Caribe, não temos sorvete da Efe, não temos arepa e peito... Não temos 7up.\\n\\nMas crescer menos que o Haiti já conseguimos.',\n",
              " '@MundosTrabalho @DavidOlusoga @marcosvlqueiroz @KeilaGrinberg @JournalSlavery @fondation_me @juliovellozo @Juliana_bfarias @DependencyBonn @corinne_fowler Ótima lembrança! Há ainda os casos de compensação paga pelos próprios escravizados ou por irmandades. O que o @nytimes mostra bem é o quanto do sistema financeiro moderno foi construído com o dinheiro da escravidão - e, no caso do Haiti, dos próprios ex-escravizados',\n",
              " '@gabrielfec \"Ainnn fantasma do comunismu\" assim falou os retardados mentais da Venezuela que antes era o país mais rico da América latina e tem a maior reserva de petróleo do mundo para um país com 90% de miséria e pior que o Haiti.',\n",
              " '@GuusLuz Levou um soco dos haitiano? Akkaka brinks',\n",
              " 'Brasil de Bolsonaro tem o pior crescimento da América da América Latina, atrás até do Haiti https://t.co/y4CySbAMfs',\n",
              " '@RealPrixorM @UOLNoticias Eles são funcionários do exército cubano. E o mesmo que vc falar que um cabo no Brasil que vai pro Haiti e escravizado!',\n",
              " 'avise o haiti \\navise que a banana não subiu https://t.co/Xuxl4vvZof',\n",
              " \"Porra maluco, eu vendo esse bando de militares na política e eu só lembro de quando uma minoria na esquerda falava que ia dar merda enviar os caras pro Haiti, colocar eles na centralidade da EDN e do Brasil Potência. Depois veio os grandes eventos e com eles as GLO'S. Deu merda.\",\n",
              " 'Dos 20 países da América Latina, o Brasil ocupa o 15* lugar. Está abaixo de países como Costa Rica, Uruguai, Equador e Chile e acima de Cuba, Haiti e Venezuela.',\n",
              " '@leonardo1opes @caduzaodamassa Kkkkkkkkkkkkkkkkkkkkkkkkkklkl\\nKkkkkkkkkkkkkkkkkkkkk\\n\\nQuem foi pra monte castelo não aguentaria 5 minutos de RJ. COEH cara que merda de glória é essa\\n\\nO exército foi catar corpo na Itália e no Haiti, e quase perde pra haitiano ainda kkkkkkk passa tua vergonha pra lá',\n",
              " 'To querendo esse aqui oh: \"Haiti: A recorrente ira de Spartacus\" - Ailton Benedito de Sousa',\n",
              " 'eu amo qnd os professores falam do terremoto do haiti pq eu lembro do meu pai',\n",
              " 'Lembrando aqui que eu estava um pouco alcoolizada quando conheci os gretinhas no Hyatt e levei o maior papo com o garçom haitiano em francês. Realizei mais um sonho na mesma hora kkkk',\n",
              " '@YMCBahia Esqueceram de combinar com o povo. Eu já disse e vou repetir: as FFAAs devem ser extintas e se necessário, recriadas em  novas bases. Essa capitania hereditária de farda não produziu NADA de bom pro país e ainda fez merda no exterior - o Haiti, suas mulheres e crianças o sabem.',\n",
              " '@marcelobecker @GuilhermeResin @senadorhumberto É mesmo.Qdo tiver que ir ao Haiti, África, Líbano...a gente te manda.',\n",
              " '@Eldabi8 @ericarrache Pois é, vasculhei o Twitter dele e não tem nenhuma revolta contra o Drake chando haitiano de sujo,ou o Lord PS4 mil grau chamando dono de Xbox de mendigo.\\nSabe pq?Esse cara ta se lixando pra racismo,xenofobia etc...Fanaticos de Playstation como ele tá liberado.',\n",
              " '2022 tão tão pobre quanto o parceiro,a venezuela,talvez precisando de socorro..do Haiti. https://t.co/6aSg09f8Dy',\n",
              " '@ComicOfTheWired @braba_fdp @CrimesReais Acho que você precisa de informação...\\nPq o Haiti não é o país mais pobre do mundo ksksksk\\nÉ o país mais pobre das Américas',\n",
              " '@JosCarl26086025 O mesmo que o teu meu irmão, rsrsrsrsr somos parecidos de gostar de coisas boas ...Sempre vivi intensamente, alpinista, paraquedista, militar, fui no Haiti meu comandante foi Santos Cruz, presidente de escola de samba, gravei discos, péssimo surfista, rsrsrs, Vivi e como vivi..',\n",
              " '@PauloAlmeida53 E no mais cada país tem suas especificidades. Um exemplo, analisando outros países, como seria no Afeganistão, no Haiti, na África do Sul a ajuda dos bilionários? Só o Talibã passaria a mão em tudo. Não é tão simples como parece.',\n",
              " '@gen_heleno Escroto o POVO DO HAITI DEVE GOSTAR MUITO DE VC,',\n",
              " 'Por que o Haiti é pobre? https://t.co/LnA4O4QtWO',\n",
              " \"New York Times revela 'resgate' astronômico pago pelo Haiti à França por sua independência | Mundo | O Globo https://t.co/BGC7tKaz9B\",\n",
              " 'Haiti: Missão de 13 anos do Exército brasileiro deixou legado questionável @UOLNoticias @UOL https://t.co/uUpgbYns5W',\n",
              " 'AMÉRIQUE \\n\\nvia @NYTimes\\n\\n#Sciencespo #hggsp #géopolitique #Haiti #Histoire #Dette #colonisationfinancière  https://t.co/M78345Lvek',\n",
              " 'Tem escândalos em toda parte do país promovido por Guedes e Bolsonaro, inflação, B3, MEC, combustíveis. \\n\\nNa projeção do crescimento entre os países da América só ganha do Haiti. É tanto escândalo que não cabe em uma edição do Jornal Nacional, então eles resolveram nem falar e',\n",
              " '@MarceloCRedeTV @PaolaCarosella @YouTube Até pq o Haiti tá super bem com o capitalismo',\n",
              " \"NYT lança luz sobre 'resgate' pago pelo Haiti à França por sua independência - Leia Notícias https://t.co/m67oWwwPIk\",\n",
              " '@maktubedser Li uma notícia no outro dia falando que o Haiti está vivendo um dos piores momentos. Desde o terramoto, ninguém sabe pra onde foi o dinheiro de doações, tem muitas casas ainda destruídas e muitas cidades apoderadas por gangues que controlam, ameaçam e matam pessoas. Mt triste 💔',\n",
              " 'UAU! \\nVejam esta foto e adivinhem que cidade é essa. \\nÉ Mogadíscio, Capital da Somália? \\nÉ Porto Príncipe, Capital do Haiti? \\nNÃO! \\nÉ Seattle, capital de Washington, cidade ininterruptamente governada por socialistas desde 1970. \\nOs mesmos que se dizem preocupados com os pobres. https://t.co/K1MwC9cslW',\n",
              " 'Brasil de Bolsonaro tem o pior crescimento da América da América Latina, atrás até do Haiti https://t.co/Y4M39o72Bx',\n",
              " '@Grishnackh8 Invadir CA é a mesma coisa que invadir o Haiti... esse canal tá usando muito LSD hahahaha!!!!!!',\n",
              " '@JornalOGlobo Cobrar resgate, pela Independência d Haiti, um país miserável é coisa d canalha. 🔥🇧🇷',\n",
              " \"New York Times revela 'resgate' astronômico pago pelo Haiti à França por sua independência https://t.co/EseBlh6nRf\",\n",
              " '@Acidenitrix @PadreProgressi1 se o milico for o Heleno indo comandar o genocídio haitiano a mando do lula daí pode né?',\n",
              " '@Ceododudismo Sim, a gente só faz o serviço sujo como no Haiti e no Congo com as forças de \"paz\"',\n",
              " \"New York Times revela 'resgate' astronômico pago pelo Haiti à França por sua independência https://t.co/Yl714uTDvU\",\n",
              " '@byackerman @teamonickneIson Tinha comida suficiente pra alimentar até o haiti',\n",
              " '@EverConser @fernand44839907 @leandro_iguape @JoaoMarceloFZ @jairbolsonaro Bolsoburro, o MUNDO INTEIRO fez lockdown e já retomaram a Economia! Estamos atrás até do Haiti! https://t.co/B4Wp29tghE',\n",
              " 'Brasil de Bolsonaro tem o pior crescimento da América da América Latina, atrás até do Haiti - https://t.co/9l6ENnHquR @a_postagem',\n",
              " '@Troublemaker095 @braba_fdp @CrimesReais Ok, não muda o fato que houve sim genocídio de brancos no Haiti. \\n\\nE uma coisa hilária que aconteceu foi o país se tornar o país mais pobre do mundo depois de expurgar todos os brancos.\\n\\nCope. Seethe. Dilate.',\n",
              " '@joaopedro_peu @pereirantc @FelipeS_7 @Felipedeix10 @realfutebolnews Já notou q o Brasil se prepara com seus jogadores brasileiros, Argentina com argentinos e tal. Mas a França por exemplo, faz um apanhado de Senegal, Argelia, Alemanha, Camarões, Martinica, Congo, Haití, Espanha e blá blá? Todas as seleções entupidas d naturalizados. Aí fala isso.',\n",
              " '*Você conhece esse Guerreiro do 🇧🇷 Brasil 🇧🇷 ?*\\n*Usando o histórico capacete azul (Da Paz)*\\nPois saiba que ele será o futuro Governador do estado de SP !\\n*Tarcísio de Freitas* \\nem Missão de Paz no Haiti. https://t.co/gyPuuBJT2p',\n",
              " '@realfutebolnews Excelente comentário como exemplo d um concentrando enorme de bosta. Seleção brasileira é de brasileiros, uruguaia, de uruguaios, argentina de argentinos, francesa... de senegaleses, guineense, argelino, espanhol, haitiano, camaronês, martinicano, congolês, alemão e até francês.',\n",
              " '@JMasterhunter @revistaforum E a Nigéria capitalista... Países da África. O Haiti.. países do oriente médio.. veja quanto miséria. Miséria que o Bolsonaro está nos.colocando..',\n",
              " '@May_bjus amanhã já um jeito de me ligar pra mim falar com ele',\n",
              " '#caravana #migrantes #honduras #haiti #cuba #migracion #frontera #usa #i... https://t.co/W56XWP5WeR a través de @YouTube',\n",
              " '@MariluPamc O projeto deles é esse, mas na realidade vão é pro Haiti, pro Congo e pra Moçambique, lutar pela paz em nome do povo brasileiro, sob o comando do Lula.',\n",
              " \"NYT lança luz sobre 'resgate' pago pelo Haiti à França por sua independência https://t.co/1ROMzG6SU7\",\n",
              " '@ComicOfTheWired @braba_fdp @CrimesReais Um crime de ódio racista, a revolta do Haiti (sim, foi uma revolta) foi uma forma dos pretos serem finalmente livres e uma tentativa de deixarem de viver em situações desumanas, atacando quem os escravizava, por ventura, brancos.\\nSexto, não preciso nem comentar a evolução da +',\n",
              " 'DAVID VAI PRO HAITI COM O MICHAEL EU SABIAAAAAAA',\n",
              " '@gambacheirosoo @JornalOGlobo Não pode, sei rsrs\\n\\nSeria a mesma coisa que eu falar que os técnicos do TSE tem condição de ir pata o Haiti na missão de paz ou que eles são capazes de policiar as fronteiras.',\n",
              " '@Mo_Complexao As favelas catarinense até que são bonitas,Pq em outros estados do Sul as favela parece o Haiti',\n",
              " \"NYT lança luz sobre 'resgate' pago pelo Haiti à França por sua independência https://t.co/RVsPEXOV19\",\n",
              " 'A série de artigos do \"NYTimes\" sobre o Haiti está dando o que falar, pelas informações e pela falta de ética.\\nMas precisamos falar de outros povos que não os franceses. Por exemplo, os suíços.\\nhttps://t.co/35wCuTFnXf https://t.co/AqxPO3FcQM https://t.co/Pw8MRsdqIj',\n",
              " 'Brasil de Bolsonaro tem o pior crescimento da América da América Latina, atrás até do Haiti\\n\\nhttps://t.co/eqgnHtXuOu\\n\\n*** *Siga-nos* ***\\n*Telegram:* https://t.co/jKeuqDBsxq \\n*Whatsapp:* https://t.co/ijSGJc83ZO',\n",
              " '@PhilAndTheJets Sim mano esses dias até a Ucrânia jogou contra o Empoli do nada kkkkkkkkk podia rolar uns desses por aqui mesmo, melhor do que pegar Haiti, Zâmbia e outros fudido assim',\n",
              " '@ComicOfTheWired @braba_fdp @CrimesReais Na epoca o haiti era um dos piores lugares no planeta para ser escravo\\n\\nos caras trabalhavam literalmente até morrer\\neram espancados ou estrupados até a morte\\ncultura, religião completamente destroçada \\neles eram proibidos até de falar lingua materna \\ntinham que falar frances',\n",
              " '@nothingtosayugh Qdo eu fui para o Haiti, assim que cruzei a área de embarque meu pai caiu de joelhos chorando e soluçando. Todos os dias nos 25 minutos que tínhamos de  Skype era mais choro, era um \"você tá bem?\" \"Vi que teve tiroteio com as forças de paz, você estava lá?\"',\n",
              " 'Pintou campeão no Campeonato de Clubes do Caribe: o Violette (Haiti 🇭🇹) bateu o Cibao (Rep. Dominicana 🇩🇴) nos pênaltis após 0-0 e levantou a taça! Os haitianos garantiram vaga na próxima Concachampions\\n\\nhttps://t.co/areTACj8dx',\n",
              " 'Apicultura ajuda na recuperação econômica no Haiti. \\nApicultura ajuda na recuperação econômica no... https://t.co/1qRnDHRyXZ',\n",
              " 'Apicultura ajuda na recuperação econômica no Haiti. \\nApicultura ajuda na recuperação econômica no... https://t.co/LUAfEAbkER',\n",
              " '@doofobic o pray for haiti e o alfredo completando o top 5',\n",
              " 'minha mãezinha contando a história de um haitiano que foi hoje na farmácia comprar remédio pra nenê dele, deu 100 reais a conta, ele não tinha pq vivia com menos de um salário mínimo e o pessoal da farmácia pagou pra ele😩😩😩 fico tão emocionada com as histórias',\n",
              " '@zacnitter @braba_fdp @CrimesReais É fulcral condizer que houve sim massacre no Haiti, e não há desculpa que diga o contrário.\\n\\nVocê acredita vielmente que ir de casa em casa torturando e assassinando famílias (crianças incluso) é a maneira correta de se declarar independente?\\n\\nUm erro não justifica o outro.',\n",
              " '@ComicOfTheWired @braba_fdp @CrimesReais Tá ligado que isso foi uma revolta contra escravidão, né? KKKKKK\\nQue inclusive o Haiti foi um dos últimos países a abolir a escravidão e deixou os últimos países que ainda possuíam escravos com medo do mesmo ocorrer no próprio país',\n",
              " '@ComicOfTheWired @braba_fdp @CrimesReais Oq aconteceu no haiti ??\\na revolta contra a escravidão no seculo 18?',\n",
              " '@jonesmanoel_PCB O projeto Haiti não foi o início de tudo não? Junto com Upp?',\n",
              " '@ClovisSproesser @tarcisiogdf Qualquer idiota com pelo menos meia banda do cérebro funcionando hj em dia já percebeu q o \"problema\" da segurança passa mt mais pelo campo jurídico e político do q pelo campo militar. E aí de que servirá a ida do Tarcísio ao Haiti como chefe da seção técnica?',\n",
              " '@ClovisSproesser @tarcisiogdf É isso o que eu estou questionando. Essa mensagem dele é um embuste, ele não tem experiência em combate real, e ter ido ao Haiti como chefe da seção técnica não vai ajudar ele a resolver o problema da segurança em SP. Na verdade não vai ajudar em nenhuma área. 👇🏼',\n",
              " '@ComicOfTheWired @braba_fdp @CrimesReais a \"preguiçao\" com os brancos que vc cita no haiti e justamente resultado da colonização!!??\\n\\ne voltando, mesmo assim ainda é quase nula comparado globalmente.',\n",
              " '@ClovisSproesser @tarcisiogdf Preste atenção amigo, o q está se discutindo aqui não é a experiência militar em combate ou não do Tarcísio, mas a mensagem q ele buscou passar quando postou a foto no Haiti. A mensagem foi clara: votem em mim pq eu sou corajoso e tenho experiência em guerra. 👇🏼',\n",
              " 'máquina de falar merda,vai jogar mais 3 anos no grande campeonato francês aí faz 50 gols por ano num campeonato pior do que a segunda divisão do Haiti e se acha melhor do mundo https://t.co/hVndPNNpIZ',\n",
              " '@kIllIIIll__IllI Olavo disse certa vez que não fossem a vinda de europeus e japoneses para o Bostil isso aqui seria um enorme Haiti. O velho estava correto mais uma vez...',\n",
              " 'Projeto O Haiti é aqui 2025\\nA burguesia fede https://t.co/IzqhFOzQAI',\n",
              " 'Espero que o Aluno da EsPCEx, Cadete de Engenharia na Academia Militar das Agulhas Negras, serviu durante 6 anos no Amozonas, foi para o Haiti e cursou por 5 anos o Instituto Militar de Engenharia (IME).\\nSucesso, boa sorte e espero não ter esquecido de nada!\\nRonaldo Libânio. https://t.co/sh6JVTGLEZ https://t.co/7sbkLceFlf',\n",
              " 'Apicultura ajuda na recuperação económica no Haiti, https://t.co/sf4jWdL82P,',\n",
              " 'Fiz parte da Missão de paz da ONU no Haiti, e encontrei uma guerra. Vivi isso na pele. \\nNa hora do combate de verdade, aprendi que a paz precisa ser conquistada, dia a dia, com estratégia, coragem e ação...\\n\\nTarcísio Gomes de Freitas\\n@tarcisiogdf https://t.co/gVAZlIUp0e',\n",
              " 'Fiz parte da Missão de paz da ONU no Haiti, e encontrei uma guerra. Vivi isso na pele. \\nNa hora do combate de verdade, aprendi que a paz precisa ser conquistada, dia a dia, com estratégia, coragem e ação...\\n\\nTarcísio Gomes de Freitas\\n@tarcisiogdf',\n",
              " 'Brasil de Bolsonaro tem o pior crescimento da América da América Latina, atrás até do Haiti https://t.co/q24CQD6wWS',\n",
              " '@torturra suave, se possível, comente sobre aquela matéria do Haiti que indicou há alguns dias. tks.',\n",
              " 'Brasil de Bolsonaro tem o pior crescimento da América da América Latina, atrás até do Haiti\\n\\nhttps://t.co/LvCLagBM1b',\n",
              " '@lf_ds Ainda impactado pela reportagem. Relendo para entender o máximo possivel dos pormenores e da conexão com o Brasil. Depois da breve passagem por lá em 2010, tentei abordar o tema num artigo sobre a questão agrária haitiana \\nhttps://t.co/qmpJufuJxI',\n",
              " 'Criciúma é muito aleatória kkk estava indo na casa de uma amiga do Pará, o uber da ida era haitiano, ela recebeu a visita de uma amiga do RS e na volta o uber era carioca 😆',\n",
              " '@Rodrigomda_ Falar pro Mbappé que o motivo do \"futebol de alto nível\" europeu é o mesmo motivo de a França ser uma potência e o Haiti estar na merda, é só ele estudar história.\\n\\nPs. o que eu vou usar esse vídeo nesse saite vai ser piada...',\n",
              " '@lachlanmount ontem eu estava num vulcão no norte do Haiti',\n",
              " '@BlogdoNoblat Eis o saldo do Golpe de 2017: o Brasil sai do grupo das 6 maiores economias do mundo; já é o pior crescimento da América Latina, entrega empresas e riquezas nacionais. Será um Haiti continental. Essa gente odeia pobres. Militares entreguistas merecem “paredon”',\n",
              " '@betsoretorno Amiga, dei Independência do Haiti nas duas últimas semanas e senti tanta dificuldade em encontrar coisas',\n",
              " 'Eu não consigo pensar em um projeto nacional de sucesso que envolva as FFAA. Haiti? Desgraça. Rio de Janeiro? Só piorou. Ditadura? Corrupção, tortura e destruição do país. \\n\\nAgora, querem um projeto de país elitista, sem SUS e sem universidade pública.\\n\\nCALA A BOCA MILICO ! https://t.co/9vXIVpjCHm',\n",
              " 'Em parceria com ONGs do Rio Grande do Sul, a Volta Atelier cria bolsas-desejo com couro reaproveitado e costuradas à mão por mulheres refugiadas do Haiti. Clique no link para conhecer mais da etiqueta, que faz parte do #MovimentoELLE 2022: https://t.co/OS723FqY04',\n",
              " '@luaan_77 claro meno, desiste não rei, tu é pika neguin\\U0001faf6🏿',\n",
              " 'Vergonhoso o crescimento do PIB brasileiro. Ficou atrás até de países pobres como o Haiti. Fora Bolsonaro é seu posto Ipiranga enferrujado.',\n",
              " 'Pra quem não quer acreditar, os números da economia também revelam quem é Bolsonaro: projeção da Cepal é que o Brasil cresça menos que o Haiti entre os países da América Latina, um país pobre e esquecido pelos países ricos.',\n",
              " 'Baita reportagem do @nytimes. O Haiti é o único país do mundo onde descendentes de escravizados foram forçados a pagar indenizações aos descendentes de seus senhores por gerações. Ninguém sabia exatamente quanto o Haiti pagou à França – e a que custo para seu futuro – até agora. https://t.co/UrKB1niQci',\n",
              " 'Atualmente a maior joia rara do Pérolas é o atacante haitiano, Garrinsha Estinphile. Vindo do Haiti, o jovem de 20 anos sempre teve o sonho de ser jogador. Como você já deve imaginar, o nome é inspirado da lenda brasileira, Garrincha. 🕺🏽🇧🇷 https://t.co/EIwz1CkBTS',\n",
              " 'Em novembro de 2015, após dois anos seguidos disputando competições amadoras aqui no Brasil, o AFPN, em parceria com ONG Viva Rio, Federação Haitiana, Federação Paulista de Futebol (FPF) e Itamaraty, fechou um acordo para a disputar a Copinha, o maior torneio de juniores do país. https://t.co/mzKh41QV5E',\n",
              " 'Enquanto o CT dava os últimos retoques, os meninos e meninas jogavam competições de fut na rua. Em julho de 2011, a ONG Viva Rio em parceria com o empresário de origem hungará George Soros, inaugura o centro de treinamento, localizado na comunidade de Bon Respos, no Haiti. https://t.co/F8UDdcv1ka',\n",
              " '@rodrigooabc é sim, claro. mas ele não dá conta dos avanços nos estudos de haiti. o livro do james é de 38 e tem uma perspectiva às vezes meio europeia demais',\n",
              " 'Você sabia? Em 2005, enquanto Tarcísio ia para o Haiti, o Haddad aceitou assumir um Ministério durante o auge do Mensalão.\\n\\nUm atendeu ao chamado da Pátria, e o outro, ao do PT. \\n\\nhttps://t.co/YuEVQ2CeIc https://t.co/V01Ucow6Ft',\n",
              " '@hellen_aamaral eu não consigo pensar em nada pra te responder que não ofenda o povo do Haiti',\n",
              " '@Vashet__ Os Beatles lançavam o passinho rabiscando no Baile do Haiti? Não.\\n\\nPróximo.',\n",
              " '@DCainhurst @deivisonviana Então qual a tua solução para as pessoas que estão comendo barro no Haiti? Você fala da importância das abelhas como se eu tivesse negando isso. Saiba que minha família tem criações de abelhas no sertão do Ceará. Justamente para aumentar o número de abelhas. Fala o q não sabe.',\n",
              " 'Meu deus o haitiano aqui de 2m querendo meu zap eu atendendo ele e ele pensando em né macetar MDS eu tô perplecta',\n",
              " 'eu tô procurando um emprego.... mas não no haiti. foi mal',\n",
              " 'DDD 509 é Haiti essa informação é boa 😅',\n",
              " '@daniielvsouza É isso mesmo amg, Haiti pagou um monte como compensação 😡',\n",
              " '@puravida1995 @deivisonviana Esse papo de que tem que alimentar o mundo e tem que usar agrotóxico pra isso, enquanto tem gente comendo barro no Haiti e outros. Não sei se sabe mas se as abelhas forem extintas é vela e caixão pra humanidade, se bem que não seria de todo ruim a extinção da raça humana.',\n",
              " '@AlanLeeIsBack meu inglês está fudido ou realmente o haiti PAGOU pra frança?????',\n",
              " 'Que país desgraçado essa França\\nQue não é só no Haiti: é um monte de desgrama em vários países do continente africano https://t.co/l9T5q199ES',\n",
              " 'sim eu só falo disso. não vejo muitas possibilidades de discutir qqr coisa de haiti  com um público pra fora da academia (e às vezes nem dentro) se não tem como recomendar nem o livro da carolyn fick',\n",
              " 'ficou bacana o artigo da marlene daut sobre possibilidades de ensino da revolução haitiana na sala de aula mas é depressivo ver que nada do que ela cita tá em português',\n",
              " '@fabedumac @rodrigolima_esq A propósito, você sabe tanto que a inflação do Brasil bateu a de Cuba, Venezuela, Argentina e nosso crescimento será menor do que o do Haiti. Mas vai lá, continue batendo continência para um miliciano imbecil.',\n",
              " '@SRivoltril Brasil de Bolsonaro tem o pior crescimento da América da América Latina, atrás até do Haiti https://t.co/56ztgfNUf5',\n",
              " 'e, como sou neto de mascates, peço licença pra contar que logo mais (espero!) sai meu livro, também pela @papeisselvagens, com o título provisório \"Ruínas circulares: paisagens históricas no norte do Haiti\".',\n",
              " '(essa panaceia do discurso humanitário euroamericano), o Haiti poderia ter índices socioeconômicos similares aos da Rep Dominicana. A reportagem está disponível também em crioulo e em francês, algo louvável. Resta saber se isso resultará em ações de reconhecimento e reparação. +',\n",
              " 'na gênese de infraestruturas capitalistas e da modernidade europeia. Isso tudo às custas da soberania nacional haitiana e da autonomia de sua população negra em geral. Os cálculos atualizados mostram que mesmo levando em conta a corrupção +',\n",
              " 'Em 1825, o Haiti foi forçado a pagar à França aquela que seria a primeira dívida externa da história global. Essa reportagem em série do @nytimes combina pesquisas recentes e ajuda a dar corpo ao crime que foi a compensação a colonos e senhores pela perda de escravizados/as. + https://t.co/5EPj0jiCcJ',\n",
              " 'Zilda Arns foi a criadora da Pastoral da Criança, e ajudou, com seu trabalho, a reduzir a mortalidade infantil no Brasil e em outros países. Ela morreu em 2010, vítima do terremoto do Haiti. Projeto deve ser enviado à Câmara. https://t.co/8SyGLLHkEt https://t.co/LmaaJqlTqU',\n",
              " '🔉 “O número de internações por trauma por semana triplicou em comparação com meados de abril”, disse Mumuza Muhindo, coordenador-geral de MSF no #Haiti.\\n\\n⚠️ A organização está preocupada com a última onda de violência em Porto Príncipe. Leia: https://t.co/K9V02h16wT',\n",
              " '@MarcosA81465585 Nosso Mnistro Tarcísio na missão das.Nacoes Unidas no Haiti !!. 🇧🇷🇧🇷🇧🇷🇧🇷2️⃣2️⃣',\n",
              " 'A gente lê \"eivado de patriotismo\" e imediatamente vê um Haiti na outra ponta desse \"projeto de nação\". https://t.co/KjTVbGtjmF',\n",
              " 'o maluco fala CRIOULO HAITIANO\\n\\nforte!!! https://t.co/W4CCt98Tlg',\n",
              " 'topa uma boa prosa sobre arte, história e inovação?   venha ouvir o radinho desta segunda: entenda O Grito, o valor da diversidade, como a França arruinou o Haiti, bactérias que iluminam – radinho de pilha https://t.co/8mdc2sqnIx https://t.co/MY3DWVSb4G',\n",
              " 'Bônus:\\n\\nA Revolução Francesa influenciou vários processos de independência no continente americano. Em 1794, os africanos escravizados que trabalhavam nas lavouras de cana-de-açúcar do Haiti conseguiram o fim da escravidão após uma sanguinária guerra de independência. https://t.co/aQsFczmr1m',\n",
              " 'Há inclusive relatos de latinos que foram enganados e utilizados como \"carne de canhão\".\\nAno passado, o presidente do Haiti foi assassinado, supostamente por mercenários colombianos. Suas famílias, porém, dizem que eles ñ sabiam qual era o trabalho que fariam no país https://t.co/qCyOPSCrEW',\n",
              " '@BlogdoNoblat O Haiti é aqui.',\n",
              " '@MarceloFreixo Se tá  de brincadeira! Um cara que é a favor de liberar drogas, justo no Rio de Janeiro,  acha que vai contralar alguma coisa, vai é piorar o estado do Rio,  o carioca que não  vote corretamente este ano, que vai fazer um Haiti, do Rio de Janeiro !',\n",
              " 'O\\xa0hino nacional\\xa0haitiano,\\xa0La Dessalinienne, tem este nome em memória do imperador.',\n",
              " '\"Não tenho nada para comer\"\\nOs miúdos que estão em África e no Haiti a morrer à fome é que não têm nada para comer seu otario de 💩!!\\nÉ a tarde toda nisto, ninguém aguenta!\\n#bbtvi #BBDesafioFinal',\n",
              " 'Jean-Jacques Dessalines\\xa0(Haiti,\\xa020 de setembro\\xa0de\\xa01758\\xa0-\\xa0Grande-Rivière-du-Nord,\\xa017 de outubro\\xa0de\\xa01806) foi um líder da\\xa0Revolução Haitiana\\xa0que proclamou a independência do país em\\xa01 de janeiro\\xa0de\\xa01804\\xa0e foi seu primeiro governante. Em 2 de setembro do mesmo anos, https://t.co/YrTW0zeobr',\n",
              " 'aaaaah... aquela famigerada \"missão\" do exército brasileiro no Haiti. explica muita coisa https://t.co/q6dwri2m9o',\n",
              " '@m_bma1988 acorda. china é metade da economia mundial.\\n\\nvai vendetr pra quem? pro haiti?',\n",
              " 'Então você fracassou, querido.\\n\\nA última coisa que o Haiti teve foi paz! https://t.co/2cSyKMzv8v',\n",
              " '18 mai 1803 - 18 mai 2022 #nostalgie #Haiti #Fêtedudrapeauhaitien #Célébrationsdu18mai #ExpatriésHaitien #haitiensallovertheworld @ Vientiane, Laos https://t.co/ShGURn4nil',\n",
              " 'Mostramos como um general que liderou a missão brasileira no Haiti, amigo de Hamilton Mourão há 40 anos, se tornou lobista do grupo canadense Forbes &amp; Manhattan, responsável pelos projetos da Belo Sun e Potássio do Brasil. \\n\\n🔗 https://t.co/IYa5SCNV3H https://t.co/KhSrpiuGPj',\n",
              " '@robertosimon @pait @ThiagoKrause2 @nytimes em ideologia e capital, o @PikettyLeMonde\\n sugere - com base no valor da indenização - que a frança deveria pagar US$28 bilhões em reparação ao haiti. proposta que, apesar do impacto do livro, foi solene/e ignorada pela comunidade acadêmica, pelo governo da frança e pela mídia.',\n",
              " \"@ThiagoKrause2 em 'ideologia e capital' o @PikettyLeMonde sugere que a frança deveria pagar US$28 bilhões em reparação ao haiti. proposta que, apesar do impacto do livro, vem sendo solene/e ignorada pela comunidade acadêmica, pelo governo da frança e pela mídia.\",\n",
              " 'ASSIM FUNCIONA A NOVA ORDEM MUNDIAL...PAUL WALKER IA DENUNCIAR AS AÇÕES CRIMINOSAS DA CLINTON FOUNDATION NO HAITI... \\nMAS ELE MORREU QUANDO SEU CARRO EXPLODIU NUM \"ACIDENTE\".. https://t.co/euxlJGOtXf',\n",
              " '@JornalOGlobo Zelensky o fantoche dos americanos. A mídia pensa que engana a todos. Sabemos que vcs só se importam por dinheiro e poder. Dane-se as vidas humanas. Haiti importa? Palestina importa?',\n",
              " 'Tai! URGENTE LULA LA LULA JA PT NELES 13 DE CABO A RABO..A Postagem | Brasil de Bolsonaro tem o pior crescimento da América da América Latina, atrás até do Haiti https://t.co/mGR8lE723B',\n",
              " 'se eu não fosse ex combatente do Haiti não aguentaria essa semana que se inicia',\n",
              " 'Brasil de Bolsonaro tem o pior crescimento da América da América Latina, atrás até do Haiti - https://t.co/Rf94dcavGA @a_postagem',\n",
              " 'As vezes dá impressão que em 4 anos nos tornamos um país da África,do Haiti ,país de Miseráveis!!!😱😞',\n",
              " 'literalmente o mesmo modelo de calça que tava por 180 reais na Renner, comprei por 50 com um haitiano e ganhei uma pulseira de brinde, até o tecido da calça é igual KKKKKKKKKKKKKKK',\n",
              " '@andreazevedoph @JornalOGlobo Pleno  capitalismo  do estado mínimo está o Haiti, o Congo, a Guatemala...quando vao pra lá?. Aqui os ditos capitalistas não tem capital, sao assalariados, usufruem de 13o, férias, licenças e direitos conquistados por sindicatos e comunistas. Um bando de mediocre e Zé ruela',\n",
              " '@Caio31031366 @DiegoManfred2 @bernardokuster2 😂😂😂😂😂  O Mundo inteiro fez lockdown e de verdade bolsoburro!\\nAté o Haiti vai crescer mais que o Brasil! https://t.co/XhbQqS9YF3',\n",
              " 'Realização do Bolsonaro: Brasil atrás até do Haiti https://t.co/t46AvErKBx',\n",
              " 'Brasil de Bolsonaro tem o pior crescimento da América da América Latina, atrás até do\\xa0Haiti https://t.co/ttVrO6TOhN',\n",
              " 'Brasil de Bolsonaro tem o pior crescimento da América da América Latina, atrás até do\\xa0Haiti https://t.co/ucLqUS4Ze4',\n",
              " '@liberdadeldrbr @jairbolsonaro O Brasil tem projeção econômica inferior a vários países da América Latina, inclusive à Venezuela e à Argentina, ficando atrás até do Haiti. Talvez você tenha razão e ela volte mesmo pra lá. 😌👍🏼 https://t.co/O9P5OOXoTz',\n",
              " 'venha começar a semana com mil histórias e estórias inspiradoras!   o radinho de hoje já está no ar: “entenda O Grito, o valor da diversidade, como a França arruinou o Haiti, bactérias que iluminam” https://t.co/t2HbU0gWD2 https://t.co/tS5G4w3dXh',\n",
              " 'O trabalho do NYT sobre o Haiti está muito bem feito, mas escorrega na forma como se auto promove no corpo da reportagem. Bela reflexão sobre isso nesta thread 👇 https://t.co/mx5HSaVJEk',\n",
              " 'Paul Walker morreu em 30 de novembro de 2013 em um acidente de carro e explosão deliberada. Ele queria expor as atividades criminosas da Fundação Clinton no Haiti https://t.co/IFlOGDAuzk',\n",
              " '@wilsonkozlowski O Haiti deixou de ser aqui: estão melhores que nós.',\n",
              " 'Brasil de Bolsonaro tem o pior crescimento da América da América Latina, atrás até do Haiti https://t.co/YGIUitBEOd',\n",
              " '@OliverStuenkel O Haiti deixou de ser aqui: estão melhores que nós.',\n",
              " 'O Haiti deixou de ser aqui: estão melhores que nós. https://t.co/ESAPePGKHk',\n",
              " 'BRASIL ATRÁS DO HAITI\\nBrasil de Bolsonaro tem o pior crescimento da América da América Latina, atrás até do Haiti\\nBrasil de Guedes &amp; Bolsonaro será o lanterninha do crescimento na AL em 2022. Vai crescer menos que o Haiti: 0,4% X 0,6%. \\nhttps://t.co/DdyAybCGeW',\n",
              " '@coachlima @Tita34723214 @profpaulamarisa Comparar um venezuelano com um brasileiro? O Brasil hj está pior. \\n O Brasil tá crescendo menos que a Venezuela, Cuba, Haiti e todos os países da América Latina.Obs: no Brasil não tem embargo econômico e segundo apoiadores o presidente é abençoado por Deus. O bolsonarismo n pensa',\n",
              " '@AntonioLFh A música do Caetano cabe mais do que nunca, “o Haiti é aqui”, infelizmente.',\n",
              " 'Brasil de Bolsonaro tem o pior crescimento da América da América Latina, atrás até do Haiti https://t.co/7ddbjZbL64',\n",
              " 'Brasil de Bolsonaro tem o pior crescimento da América da América Latina, atrás até do Haiti https://t.co/z84w0m2DXc',\n",
              " '@LenonBem @paivamarcelo @OGloboPolitica Crescer menos que o Haiti...grande conquista do governo loroteiro. https://t.co/utiV6sicp6',\n",
              " '@tarcisiogdf Entrou em combate no Haiti?! Militares armados e treinados atacando civis é \"entrar em combate\" ou é \"promover massacre\"?!?!',\n",
              " 'Mais.. 💀💀 https://t.co/ZziajgpAwn',\n",
              " '@cadugames00 O meu iPhone o toque é do Motorola. Comprei dos haitiano',\n",
              " '\"Cuba é um país pobre devido ao comunismo, por isso que seus vizinhos capitalistas Haiti e Jamaica são países ricos e prósperos\".',\n",
              " 'Como um banco francês capturou o Haiti. Ajudou a financiar a Torre Eiffel ao drenar milhões do Haiti. O banco, C.I.C., não fala sobre isso, mas o NY Times rastreou quanto seus investidores ganharam – e o que o Haiti perdeu  https://t.co/vGX0gAvJt5',\n",
              " 'A Torre Eiffel pertence ao Haiti porque foi a indenização da independência que a financiou. Que história ótima (torço pra ser verdade). https://t.co/Rr6NU1cPGW',\n",
              " 'elogio do haitiano \"tem bastante guria feia aqui, mas tu é linda\" SO APARECE MEUS OLHOS QUERIDO',\n",
              " 'Esta reportagem é das coisas mais inacreditáveis. Como se diz por aqui, se só tiverem tempo para ler uma coisa esta semana, leiam isto.\\n\\nThe Root of Haiti’s Misery: Reparations to Enslavers https://t.co/GSdJ9yNwzk',\n",
              " 'A rev influenciou outras independencias na america. Em 1794, os escravos q trabalhavam nas lavouras de cana do Haiti conseguiram o fim da escravidão dps de uma guerra bem sangrenta de independencia. Foi o primeiro país do continente a por um fim na escravidão. https://t.co/Q5te7DzjuF',\n",
              " 'Apicultura ajuda na recuperação econômica no Haiti. \\nO avanço da apicultura, no sul do Haiti, vem a... https://t.co/BGfTRDaN7b',\n",
              " 'Apicultura ajuda na recuperação econômica no Haiti. \\nO avanço da apicultura, no sul do Haiti, vem a... https://t.co/TCYFfgPwW0',\n",
              " 'Apicultor haitiano passou a produzir 270 galões de mel por ano. Ele possui 18 colmeias e vende cada galão produzido por cerca de US$ 50.\\nhttps://t.co/hGpFBmUAlS',\n",
              " 'hoje cedo eu tava lendo a matéria do ny times sobre os pagamentos que o Haiti fez a França e cara... não dá pra esquecer nem por um segundo que a europa só é o que é hoje pq exploraram da forma mais atroz possível todo o resto do mundo',\n",
              " 'Se é assim, tem que cancelar Cannes até que a França devolva pro Haiti toda a grana de pagamento “compensatório” pela independência e pela abolição da escravatura. Só para ficarmos em um caso. https://t.co/LgBQMczvN6',\n",
              " 'correu errado, tropa do curry https://t.co/GpOOYaZX4R',\n",
              " 'A Revolução Francesa influenciou ainda outros processos de independência no continente americano. Em 1794, os africanos escravizados que trabalhavam nas lavouras de cana-de-açúcar do Haiti conseguiram o fim da escravidão após uma sanguinária guerra de independência.',\n",
              " 'Rapaz, que matéria grande essa do NYT de que o Haiti teria pago milhões de dólares pra França como \"dívida\" por ter conquistado sua independência... \\n\\nO Haiti paga até hoje por ser o primeiro liberto das Américas.\\n\\nhttps://t.co/buG5gpp5gV',\n",
              " '🏆🇭🇹 CAMPEÕES! O Violette venceu o Cibao 🇩🇴 nos pênaltis por 4 a 3 e conquistou a Caribbean Club Championship!\\n\\nA equipe haitiana disputará a Concacaf Champions League! https://t.co/5yxaBDlR3N',\n",
              " '@LopesRoby @Be_Ortiz_ @ariqueti Direito Universal, foi o fundamento para as condenações criminais dos agentes de fronteira da extinta República Democrática da Alemanha, alegavam cumprir ordens e a lei local, mas foram condenados. E o Haiti dos Duvalier, como parece algo Brasil hoje.',\n",
              " 'Brasil de Bolsonaro tem o pior crescimento da América da América Latina, atrás até do Haiti https://t.co/CWWIEZQG0X',\n",
              " '@LopesRoby @Be_Ortiz_ @ariqueti Lógica de guerra como política de segurança pública resulta nisso. Só que as guerras são regidas pela Convenção de Genebra e Direito Universal, aqui estamos nos tornando Haiti, já temos os proto Tontom Macoutes e alguém querendo presidência da república vitalícia e hereditária.',\n",
              " '@mariabgbarros Zerei a vida, sou amigo de uma colombiana, uma boliviana, uma cubana e um haitiano',\n",
              " '@FBITricolor Imagina o Grêmio jogando um amistoso lá no Haiti: JeFBI provando um delicioso churrasco de gato',\n",
              " '@CosenzaGiuliano seleçao do haiti',\n",
              " 'Inclusive, se você é do direito — e mesmo que não seja — leiam o livro de Marcos Queiroz, “Constitucionalismo brasileiro e o Atlântico Negro”. Leitura obrigatória sobre a repercussão da rev. Haitiana no BR — que é ignorado https://t.co/19YuhCJLve',\n",
              " 'Brasil de Bolsonaro tem o pior crescimento da América da América Latina, atrás até do Haiti \\n\\nhttps://t.co/NzyNGfQ09K',\n",
              " 'Excelente reportagem.\\nVeja  como o subdesenvolvimento do Haiti teve como fator determinante o que foi pago à França.\\nhttps://t.co/ROlhdcKU6E https://t.co/WrHUfdcxGT',\n",
              " '@jmendesdemorais Haha, amiga, minha tese é sobre formação social latino-americana, com ênfase em Brasil, Colômbia e Haiti. É mais sobre século XIX, mas, quando sair daqui a uns dois meses, pode tocar em coisas que te interesse. :)',\n",
              " 'por isso eu represento tanto o haiti',\n",
              " '@TRomarino @alvaromeira17 @gugachacra Igual Venezuela seria um Haiti né seu jumento, existe história prévia seu animal',\n",
              " 'Matéria muito interessante! Mostra como o Haiti, cujo processo de independência foi único na América, teve suas riquezas e posses exploradas por diversas potências(como EUA e França) logo após a sua emancipação. https://t.co/vbA1Cqszlx',\n",
              " '@marteawq Eu sei quem vai, mas esse é o meu ponto. Apesar do sul ser terra preta e indígena em suas origens, ainda tem muito absurdo.  Tipo inigrante haitiano sendo assediado e sofrendo violência em várias cidades. Não conseguiria convencer um deles que o Sul é terra preta.',\n",
              " 'Gangues estão lutando entre si e tomando território na capital do Haiti com uma nova intensidade e brutalidade. https://t.co/TYsSQD26Vl',\n",
              " '@pdrberbert @sidneicarneiro @OliverStuenkel Estamos em pior situação que Argentina, Venezuela, Bolívia, Peru, Nicarágua, Cuba, Haiti, Honduras, etc?',\n",
              " 'passei uma boa parte da tarde lendo a matéria enorme do NYT sobre o Haiti e nada mais faz sentido além de queimar toda a França (e os EUA https://t.co/ZHz1AuwXeg',\n",
              " '@tarcisiogdf Pra cima deles Peacekeeper! Saudações da Cavalaria! 2005 Haiti 🇧🇷👨🏽\\u200d🎤',\n",
              " '@Ayisianna @Haiti_Monde Quelle chanceuse tu es! 🥺🥺🥺🥺',\n",
              " '@Andreleitepr Se Moro não vier e ele vier será meu voto, foi meu comandante no Haiti',\n",
              " '@VEJA E o pib do BR,0,4%, menor das américas, atrás apenas do Haiti. O problema é o Lula não fazer teatro de que é pobre.',\n",
              " 'mto chique o nome da família vinda do Haiti \\n\\nMilouse e Eddy Sant-Louis\\nTem a Phara Joseph \\nE a puerpera Jeanne Adelette Jaccean\\n\\nmal posso esperar para saber o nome do bebê',\n",
              " '@llinikerpinho14 @luan_ribeiro23 @SocialistaDeZuk @rei_mentality @nelcitos @psol50 @okgdo E quando não existir mais quem produz pra ser parasitado o mundo vai se tornar um Haiti.',\n",
              " 'A psicopatia da oligarquia colonial é sem pudores com sua violência; o Brasil (exceto a casta privilegiada) deveria olhar mais a independência do Haiti do que a Revolução Francesa.',\n",
              " '@Antropofagista1 JÁ O BRASIL ELE PRÓPRIO RAPINA E DESTRÓI O PAÍS\\nO New York Times fez uma matéria sobre como a França, os Estados Unidos e alguns amigos importantes passaram 200 anos rapinando o Haiti.\\nhttps://t.co/EUZ07etdfy',\n",
              " 'JÁ O BRASIL ELE PRÓPRIO RAPINA E DESTRÓI O PAÍS\\nO New York Times fez uma matéria sobre como a França, os Estados Unidos e alguns amigos importantes passaram 200 anos rapinando o Haiti.\\nhttps://t.co/EUZ07esFq0',\n",
              " '@agatha_13_13 É muito estou preocupado sim, não temos ajuda das mídias brasileiras parecem que eles querem a destruição do Brasil depois que vender o Brasil eles vão embora aqui vai virar o Haiti.',\n",
              " 'Se eu visse alguém de quem eu discordo - digamos, por exemplo, alguém que apoia a invasão russa na Ucrânia - fazendo um tweet sobre os crimes de guerra brasileiros no Haiti, eu JAMAIS teria a falta de vergonha na cara de dar qt com coisas tipo \"e a Rússia?\"',\n",
              " 'Muito interessante a série de reportagens do NYT sobre a dívida absurda que o Haiti foi forçado a pagar à França. A última reportagem da série trata da tentativa do país de pedir reparações aos franceses, que terminaram com o presidente expulso do poder. https://t.co/WXwnWPKpS8',\n",
              " '@gonegirlost Uma das minhas favs junto com hoje é dia de festa e haiti',\n",
              " '@pait @ThiagoKrause2 Tive no Haiti 2x: depois do terremoto e durante a eleição do Martelly. Nunca tinha visto esse tipo de miséria — nem em favelas de outros cantos da Am Latina, nem em campo de refugiado no Oriente Médio. Falta tudo, incluindo qualquer presença do Estado (ou de algum Estado).',\n",
              " 'Little Haiti, bairo pobrer em Miami, Florida https://t.co/V1t0DfS8WE via @YouTube',\n",
              " '@PedroRonchi2 @M_Madd Esquerdistas inteligentes como esse rapaz ,aliás não precisa de QI tão baixo, já estão arrumando as malas pra FUGIR pra esses paraísos , ????\\n\\nVão lá ser felizes na Argentina  Venezuela, Cuba  Haiti e cia \\n\\n😂😂😂😂',\n",
              " 'Será que a França vai devolver o dinheiro do Haiti ?',\n",
              " 'Por exemplo, Tortuga, atualmente parte do Haiti, foi palco de uma revolta de escravos que desencadeou uma briga entre Espanha, França e Inglaterra (o trio de sempre) em 1680. Jamaica também tem a presença de muitas pessoas negras até hoje e eu não sei como abordar isso corretamen',\n",
              " '@mah1222 Tarcísio na missão dos capacetes azuis da ONU, no Haiti. https://t.co/LKF8HdBhnT',\n",
              " '@murilaoaz Chapecó tem duas coisas só, mulher linda e haitiano',\n",
              " 'Juíza autoriza mãe e filha haitianas a entrar no Brasil sem visto\\xa0: A juíza Silvia Figueiredo Marques, da 26ª Vara Cível Federal de São Paulo, autorizou a entrada no Brasil, mesmo sem visto, de uma mulher haitiana e sua filha menor de… https://t.co/i3y2n0RPV1 #conjur #infojurid',\n",
              " 'O Haiti está na lista dos 10 conflitos atuais mais preocupantes. https://t.co/MxDuVO3O6B',\n",
              " 'Gangues do Haiti são mm loucas',\n",
              " 'Se tiver o México, Quero que chame Cuba, Haiti, República dominicana, e Jamaica também. Será que os EUA vão gostar da sensação de serem cercados por seus inimigos ?? https://t.co/ETy2OaPJgt',\n",
              " 'O papel dos bancos na dominação do Haiti:\\n\\nhttps://t.co/XsdJQekh0A',\n",
              " '@ThiagoKrause2 a reportagem é, de fato, excelente. impressiona a magnitude da indenização paga pelo haiti à frança. muito maior, por qualquer métrica que se use, do que àquela paga pelo brasil à portugal, não?',\n",
              " '@AlemTenis Pergunta pro povo do Haiti ou das demais colônias francesas se eles sentiram os três termos na prática.',\n",
              " 'Quero pontuar que é uma reportagem que parte de dados históricos, mas fala essencialmente sobre hoje, sobre a tragédia que o Haiti ainda é – inclusive com intensa colaboração brasileira na última década.',\n",
              " 'a revolução francesa tbm influenciou ainda outros processos de independência no continente americano. Em 1794, os africanos escravizados que trabalhavam nas lavouras de cana-de-açúcar do Haiti conseguiram o fim da escravidão após uma sanguinária guerra de independência. https://t.co/rzoH8bKZvB',\n",
              " '@pdrberbert @sidneicarneiro @OliverStuenkel Você precisa ter lógica. Estamos em pior situação que Argentina, Venezuela, Bolívia, Peru, Nicarágua, Cuba, Haiti, Honduras, etc? \\nEntão...',\n",
              " 'Pra aguentar uma festa dessa têm que ter ido pro Haiti. Combate de frente, levando tiro e dando tiro. Loucura demais!',\n",
              " '@WilniseJacques @entrefemmes @ONUFemmes @jci_haiti @JciIndependance @fbh @ASFCanada Bravo!',\n",
              " 'O Haiti, só pra lembrar, foi palco de uma rebelião de escravizados que levou à independência do país, causando assombro nos governos de outras colônias do continente, inclusive esta de onde escrevo.',\n",
              " '“O Haiti é aqui.”\\n“O Haiti não é aqui.”\\nOs versos-profecias de @caetanoveloso reverberam durante a leitura das matérias sobre a dívida externa história do Haiti que o @nytimes publicou neste fim de semana. \\n\\nVou postar os textos – liberados para não assinantes – no fio a seguir.',\n",
              " 'NYT vasculha documentos históricos para contar como a França e os EUA exploraram o Haiti.\\n\\nvia @NYTimes https://t.co/OYGgThjpCb',\n",
              " 'Até o Haiti, país mais pobre do mundo, vai crescer mais que o Brasil em 2022. Cuba e Venezuela crescem 5% e 3,4%. Para onde é mesmo que nos mandam? https://t.co/Yx3UKMGmnG',\n",
              " '@CEMartinsUFRJ Endividamento serve para manter ex-colônias dependentes, sabemos bem, graças a Ruy M Marini entre outros teóricos da dependência. Mas o caso haitiano vai muito além do imaginável, pela crueldade e extensão até os dias de hoje, inviabilizando o país. Obrigada, @CEMartinsUFRJ !',\n",
              " '@torturra As reparações do Haiti inspiraram o movimento pelas indenizações no Brasil. A queima dos arquivos da escravidão, ordenada por Ruy Barbosa, teve por objetivo impossibilitar qq demanda por restituições futuras por parte dos antigos proprietários de escravizados.',\n",
              " '@PedroRonchi2 Fake: Venezuela, Cuba e Haiti são ótimos países para viver.\\nVerdade: Os esquerdopatas q dizem isso, não querem nem fazer turismo nesses países, imagina morar.\\n\\nApesar q turistas nesses países, tem mais direitos q moradores.',\n",
              " '@J0nathanSCCP @rodrigo_milani @jionajoy @UOLNoticias Acho que quem precisa abrir os olhos pra realidade é você. Deixo aqui a previsão da CEPAL sobre a AL divulgada hoje, apontando o Brasil com um crescimento menor até que o Haiti para 2022, até o momento não vimos um movimento significativo do gov fed pra reverter esse cenário. https://t.co/6l0heePOHN',\n",
              " '@Marcelomelop @jairbolsonaro Fake: o Brasil não vai virar uma Venezuela.\\nVerdade: o Brasil tá crescendo menos que a Venezuela, Cuba, Haiti e todos os países da América Latina. E o Brasil não tem embargo econômico como Venezuela e Cuba',\n",
              " '“The Ransom” (O Resgate do Sequestro). A história de como o Haiti foi condenado à miséria por saque, colonialismo e exploração de França, EUA e Wall Street. A reportagem é incrível. Documento histórico. O melhor que o jornalismo pode produzir. Ganhei horas lendo na edição online. https://t.co/mmeLsYT7JA',\n",
              " 'As mesmas pessoas que ficam \"impressionadas\" com os números que condicionaram o Haiti à miséria negam ou ignoram o papel do imperialismo em Cuba, Venezuela e Coreia do Norte. Cinismo ou burrice? https://t.co/tbP3MHnS35',\n",
              " 'pessoal apontando um monte de vacilos na matéria do nyt sobre a história do haiti\\n\\nquando a esmola é demais, o santo desconfia',\n",
              " '@luisabinader voces todos sao sem vergonha todos a ilha e ilha do haiti endao os haitianos tem direito de viver onde quiser na ilha si você não procura um trato de paz vai ter mais um revolução lembra nos na frente fo exerço do napoleon e imagina nos em 2022 https://t.co/pu4Pcg0cN8',\n",
              " 'um homem do HAITI me mqndou ofeeta de emprego deus deve me odiar ne',\n",
              " 'A #MSF está alarmada com a mais recente vaga de violência em Port au Prince, no #Haiti, numa altura em que as equipas receberam já mais de 96 pessoas com ferimentos de bala nas instalações médicas. Saiba mais 👇\\n https://t.co/Nyg3tHWwzF',\n",
              " '@luisabinader  voce nao pode esta incomodando os haitianos foi eles que lutava para liberdade da ilha os haitianos nao tem nada mal contra voce mas si você incomoda demais por caso do Haiti pode da merda no região .',\n",
              " '@luisabinader você pode fazer todo  que você pode incomodar todo você quere vou te lembrar R.D nao existe como um país na ilha existia bairro santo domengo nos todo conhecemos a nossa história entao ilha do Haiti e a ilha de la liberdade',\n",
              " 'Reportagem do @nytimes sobre as origens da miséria no Haiti: o \"resgate\" que foram obrigados a pagar aos antigos senhores de escravos da ilha, maioria franceses, mas tem até brasileiro no meio https://t.co/E9wsAddX6y',\n",
              " 'Revolução Haitiana &gt; Revolução Francesa https://t.co/clZfdPxgdo',\n",
              " 'Atrás do Haiti!\\nMas há quem defenda e queira continuidade!\\nTá serto (sic)! https://t.co/xzz1xfTuxw',\n",
              " 'Pouco se fala das raízes históricas da pobreza haitiana: o custo da reparação pela independência da ex-colônia em 1804! Uma conta paga por gerações e gerações de haitianos, que permitiu financiar a Torre Eiffel e chegou ate o Brasil. Mt boa matéria do NYT e observação do @msoares https://t.co/G4QZK4dgv5',\n",
              " '@HelenaRoca5 @nossomosamor @LucySNorton1 @thisguywalker @Angelob_jfbr @PedroRonchi2 Nao precisa Cuba, Venezuela e o Haiti é aqui!',\n",
              " 'mano ontem peguei 3 uber que eram do Haiti, aí o último a gente trocou alta ideia \\n\\ne ele falando que ele falava 5 IDIOMAS, C I N CO, e vai fazer intercâmbio pra aprender italiano ou alemão \\n\\nvcs já se imaginaram falando cinco idiomas ??',\n",
              " \"@luisnassif Isso, Nassif, fé no General Heleno (de novo a exemplo do Haiti e da Minustah 'salvadora').\",\n",
              " '@LucianoHangBr @Miltonneves @elonmusk Um tremendo cara de pau com nítidas intenções de explorar o país e você elogiando um pilantra desse.\\nHaiti roubado pela França;\\nBrasil roubados pelos portugueses, ingleses, americanos\\nCuba boicotada pelos ianques\\nVenezuela boicotada pelos ianques\\nIraque roubado pelos ianques etc',\n",
              " 'Mano, o pib do Haiti vai ter uma resposta melhor do que o do Brasil no pós pandemia KKKKKKKKKKKKKK',\n",
              " 'Fake: o Brasil não vai virar uma Venezuela.\\nVerdade: o Brasil tá crescendo menos que a Venezuela, Cuba, Haiti e todos os países da América Latina.',\n",
              " 'Uma das reportagens mais impressionantes que eu já li. Disseca a origem da miséria no Haiti: uma dívida impagável estabelecida pela França em troca da paz, após a revolução.\\n\\nEssa dívida financiou bancos pelo mundo inteiro e manteve fortunas até no Brasil https://t.co/mPuad3c49K',\n",
              " '@JotapDias7 @threeoneoneboyy @Carlos7_m o carlos mente tanto que provavelmente o nome dele é snisga mokera e nasceu no haiti',\n",
              " 'Cepal: Brasil de Guedes &amp; Bolsonaro será o lanterninha do crescimento na AL em 2022. Vai crescer menos que o Haiti: 0,4%  X  0,6%.\\nUma virtuosa combinação de investimento público mínimo, c  retorno máximo para o acionista.\\nSalário médio? \\nHá 26 meses sem ganho real. https://t.co/CqfA0mZdn4',\n",
              " '@sandraacoutinho Sandra, não é só isso. Problema do Haiti é o mesmo dos vizinhos: não têm atividade econômica relevante.',\n",
              " '@OliverStuenkel 😂😂😂😂😂 em qual país do continente em que o mundo está de olho e preocupado????\\nHaiti??????\\n😂😂😂😂😂😂😂😂\\nQual o maisssssssss importante????\\nCala a boca, acéfalo.\\n😂😂😂😂😂😂😂😂',\n",
              " '#Haiti - povo sofrido… história de dor…😞 https://t.co/QelG1Jp6kD https://t.co/GaSLUSv0pv',\n",
              " 'Matéria interessantíssima sobre como o Haiti se tornou o país mais pobre das Américas. Resumo: pagando multa por ter expulsado os colonizadores franceses.  https://t.co/ZnH7RF8zXo',\n",
              " 'meu amigo haitiano é 100% mais brasileiro que eu. ele sabe gírias que nem eu sei e ontem tava no show do Gustavo Lima cantando exatamente todas as músicas',\n",
              " '@JInstagramer @OliverStuenkel O fmi projeta 0,8 . Agora sim !! Passaremos a potência do Haiti',\n",
              " '@joaomagmendes @OliverStuenkel O fmi revisou pra 0,8 % . Agora sim , vamos passar o Haiti',\n",
              " 'CEPAL prevê que Brasil terá a pior taxa de crescimento da América Latina em 2022:\\n \\nPanama: 6.3%\\nVenezuela: 5%\\nColombia: 4.8%\\nGuatemala: 4.2%\\nUruguay: 3.9%\\nBolivia: 3.5%\\nCuba: 3.4%\\nArgentina: 3% \\nPeru: 2.5%\\nMexico: 1.7%\\nChile: 1.5%\\nHaiti: 0.6%\\nBrasil: 0.4%\\nhttps://t.co/b8wc6z7d11 https://t.co/HQBjhRwv7c',\n",
              " 'Melhor fio sobre Haiti e França: o New York Times consultou acadêmicos e especialista haitianos pra sua matéria, não citou nenhum deles e ainda anuncia a matéria como se o NYT que tivesse investigado e  \"descoberto\" essa pilhagem criminosa e longeva da França sobre o Haiti. https://t.co/sjJzDRRp1d',\n",
              " 'Homenagem a bandeira do Haiti aqui no CESU do Bairro Amazonas! https://t.co/wWqXI9hQmE',\n",
              " '#BolsonaroReeleitoEm2022 quem apoia essa gente, apoia golpe. Nao é intenção de voto, é apoio ao golpe. Logo depois, ele vai mudar a constituição e o supremo e se perpetuar no poder, como fez putin, chaves, Orban. Com seu voto, pobreza e corrupção pra sempre.Haiti vai ser aqui... https://t.co/jIlmcpGL0A',\n",
              " 'E o Haiti, que ATE HOJE PAGA A FRANÇA POR TER SE TORNADO INDEPENDENTE?! https://t.co/8ehN35v2XV',\n",
              " 'Haiti vai crescer mais que o Brasil, viva o Bolsonaro https://t.co/Z9agKVwv2V',\n",
              " 'Nos anos de 2005 e 2006, Tarcísio de Freitas cumpria missão de paz no Haiti.\\n\\nNo mesmo período, Fernando Haddad era ministro do governo Lula, que começava a afundar no escândalo do Mensalão. https://t.co/RLyTkE69cZ',\n",
              " '@marcia_mattos @marcelopjs @bachagas Eu os subestimo? Mostro que não é um regime de \"gênios\", mas de gananciosos, bajuladores de oligarcas desde a ditadura e perigosos covardes armados. Sujaram as mãos de sangue inocente no Haiti.                                 https://t.co/SPqg5lJ0Za',\n",
              " '@BolivarianaRede @marcelopjs @bachagas E quem disse que a missão de fato no Haiti era de pacificação? Isso é o que está no papel mas, pelo que já ouvi, a história é outra. Dizem que usaram técnicas guerra psicológica para controlar a população. E há séculos o estupro é utilizado como estratégia de guerra.',\n",
              " 'Ótima reportagem sobre a história do Haiti. Muito bem ilustrada: https://t.co/SQIWL2oGuz',\n",
              " 'O Haiti tornou-se o primeiro e único país onde os descendentes de pessoas escravizadas pagaram as famílias de seus antigos mestres por gerações.\\nUma dívida tão grande, e tão duradoura, que consolidou o caminho do Haiti para a pobreza e o subdesenvolvimento\\nhttps://t.co/8Oe9bbKTHn',\n",
              " '@CEMartinsUFRJ @GilGODY Saquearam o Haiti pra construir uma torre horrenda!',\n",
              " '@marcia_mattos @marcelopjs @bachagas \"Gênios do mal\" usando um MAU militar \"bunda suja\" (Geisel) e chafurdando-se em mamatas e negociatas? No Haiti foram \"laranjas\" do USA SouthComm, prostituindo-se em Miami enquanto a \"pacificação\" é um caos hoje em dia.',\n",
              " 'mas pode ser qualquer tipo de bolacha doce,com ou sem recheio,vai de seu gosto,se puder colocar na mistura,chocolate granulado e bis quebradinho no meio fica top,ou morangos ☝👀 ou cocô ralado no estilo prestígio,ou rodelas de banana no estilo Haiti 🙃👍✔️ é isso.',\n",
              " 'Há quem interessar possa:\\n\\nVale mega a pena ler a matéria do @nytimes sobre o Haiti. https://t.co/j9O05q8Jmx',\n",
              " '@tarcisiogdf Combate de verdade participando de massacre no Haiti? Toma vergonha! Tu num atirou na vida. Não sabe o que é um combate de verdade.',\n",
              " '09:32 ATENDIMENTO PRÉ-HOSPITALAR local: Rua Haiti, SÃO JOÃO, #CORREIA PINTO - masculino maior  vítima de agressão física. apresenta ferimento no pescoço',\n",
              " '@BolivarianaRede @marcelopjs @bachagas Por uma questão de autoestima, prefiro imaginar que esses caras são gênios do mal porque é difícil aceitar que gente burra e ignorante colocou nosso país nessa desgraceira.\\nQuanto ao Haiti, na visão deles,  não foi desastroso e seu propósito foi alcançado, infelizmente.',\n",
              " 'eu só fiquei sabendo de parte dessa história do Haiti por causa do Exterminate all the Brutes, revoltante demais https://t.co/gVDp3OzFFR',\n",
              " '@tarcisiogdf Deve ter muito meio-fio pintado lá no Haiti...',\n",
              " '@ThiagoKrause2 @claudferraz @Soccerpolitics Não tive acesso a toda série. Mas foi chamado atenção para o fato do Haiti, sua porção mais populosa, localizar-se sobre uma grande falha geológica, razão dos inúmeros terremotos, que em menor grau contribuem com as crises no país? RD este fora deste faixa.',\n",
              " '@ThiagoKrause2 @claudferraz @Soccerpolitics Alguém já comprou a trajetória das duas porções da ilha: Haiti e República Dominicana? No período recente, esta vem se destacando em termos de crescimento na AL&amp;Caribe.',\n",
              " 'BRASIL PIOR DO QUE VENEZUELA E HAITI\\n\\nPARABÉNS AOS ENVOLVIDOS https://t.co/k8AV7GLvVG',\n",
              " '@Orlando89643289 @demori Foi só os militares brasileiros saírem de lá e virem para o desgoverno. Haiti cresceu e o Brasil diminuiu.',\n",
              " '@ciro_nogueira Quando vão resolver isso aqui?\\n\\nCEPAL prevê que Brasil terá a pior taxa de crescimento da AL em 2022:\\n \\nPanama: 6.3%\\nVenezuela: 5%\\nColombia: 4.8%\\nGuatemala: 4.2%\\nUruguay: 3.9%\\nBolivia: 3.5%\\nCuba: 3.4%\\nArgentina: 3% \\nPeru: 2.5%\\nMexico: 1.7%\\nChile: 1.5%\\nHaiti: 0.6%\\nBrasil: 0.4%',\n",
              " 'Tarcisio Gomes de Freitas (futuro governador de São Paulo )\\n\\nFiz parte da Missão de paz da ONU no Haiti, e encontrei uma guerra. Vivi isso na pele. \\nNa hora do combate de verdade, aprendi que a paz precisa ser conquistada, dia a dia, com estratégia, coragem e ação. https://t.co/vlMMEMaDpx',\n",
              " '@folha_poder E a fome?\\nE o BOLSOLÃO do MEC?\\nE os ataques à democracia?\\nE a gasolina a 10,?\\nE o orçamento secreto?\\nE a inflação galopante?\\nE a previsão de 0,4% de crescimento para 2022(pior q Haiti e Venezuela)?\\n\\nA preocupação de vcs é o pseudo escorregão do Lula?\\n\\nVERGONHA DESSE “JORNALISMO”!',\n",
              " 'CEPAL prevê que Brasil terá a pior taxa de crescimento da América Latina em 2022:\\n \\nPanama: 6.3%\\nVenezuela: 5%\\nColombia: 4.8%\\nGuatemala: 4.2%\\nUruguay: 3.9%\\nBolivia: 3.5%\\nCuba: 3.4%\\nArgentina: 3% \\nPeru: 2.5%\\nMexico: 1.7%\\nChile: 1.5%\\nHaiti: 0.6%\\nBrasil: 0.4%\\nPQP BOLSOBOSTA https://t.co/WAgIp2PGF2',\n",
              " 'Momentos antes do Haiti e do Liechtenstein descobrirem que tinham basicamente a mesma bandeira, versão de ponta-cabeça https://t.co/463TCfAuB1',\n",
              " '@msoares @nytimes Não consegui ver os slides, o período da revolução haitiana é quase um século antes, por isso o equívoco.',\n",
              " 'Que matéria sensacional! Algum grande jornal deveria reproduxi-la aqui, em português. Tema crucial para as Américas.\\n👇🏼👇🏼👇🏼\\nThe Root of Haiti’s Misery: Reparations to Enslavers https://t.co/CQY0JOEXWk',\n",
              " '@CEMartinsUFRJ Leia Os Jacobinos Negros. Um livro emocionante sobre a revolução que os negros fizeram no Haiti e como têm sido massacrados pelos colonizadores desde então.',\n",
              " '@arthurbxd_ Recentemente meu insta foi hackeado, fui vê era um haitiano, ele seguiu 300+pessoas e eu tinha ganhado uns 200 seguimores, jaguara mesmo',\n",
              " '@OliverStuenkel E aí  Guedes, pior que o Haiti e Venezuela? Esse é o crescimento em V prometido?\\nO que houve BOZO, o seu Ministro da Economia está fazendo o que você quer, é isso mesmo?',\n",
              " 'E aí  Guedes, pior que o Haiti e Venezuela? Esse é o crescimento em V prometido?\\nO que houve BOZO, o seu Ministro da Economia está fazendo o que você quer, é isso mesmo? https://t.co/8mKo6ECvin',\n",
              " '@CEMartinsUFRJ Haiti, o pequeno país insular que Lula encheu de esquadrões da morte com a Minustah.',\n",
              " '@FotosDeFatos Infelizmente em toda ocupação, mesmo missões de paz, tem abusos das forças ocupantes similares com a população civil. Até na missão do Brasil no Haiti houve.',\n",
              " 'Até a imperatriz do Brasil recebia indenização dos haitianos pela independência. Chocante história de como o Haiti virou a tragédia humanitária que é. https://t.co/vhRgjfNKj4',\n",
              " '@gabaooo Dorme com um haitiano, geralmente esquenta bem heheheh 🥵🥵🥵',\n",
              " 'Estados Unidos apontando o dedo pra França no Haiti é foda https://t.co/JMAGRQlury',\n",
              " 'Pense no Haiti.\\nReze pelo Haiti.\\nO Haiti não é aí?\\nO Haiti é aí.\\n\\n#Brasil #Haiti https://t.co/jPFdvcspzQ',\n",
              " '@OliverStuenkel A arte de tentar corromper o que se vê. A situação de Argentina, Venezuela e Haiti, por exemplo, nem se compara a nossa. Mas quando colocada em uma lista, com números ruins, bate o desespero. \\nIsso chega a ser patético. \\n\\nFora as revisões de projeções mensais. Mas ok... 👍🏻',\n",
              " '@CEMartinsUFRJ Uma vez eu li que o Haiti, outrora próspero, é miserável hoje, porque praticam o voduísmo na sua cultura.',\n",
              " '@GabriellenCarmo Pensando no francês, não é preciso se restringir apenas à França. Existem outros diversos países francófonos que podem oferecer inúmeras oportunidades de crescimento pessoal e profissional, como por exemplo o Canadá, Haiti, Suíça e Bélgica!',\n",
              " 'O Haiti paga o preço de ser a primeira República Negra do mundo. Mesmo assim é forte, pujante e feliz. Acima de qualquer qualificação que o mundo ocidental possa lhes dar. Palavra de alguém que viu bem de perto. https://t.co/382wpeRfKE',\n",
              " '“Duas décadas depois que o Haiti conquistou sua independência da França, um esquadrão de navios de guerra retornou com um ultimato do rei Carlos X.\\n\\nA escolha: dinheiro ou guerra”. https://t.co/JefNQa6EBC',\n",
              " '@LuissemY1 Se pergunta pra um br onde fica o haiti ele vai falar que fica na África',\n",
              " 'que diazinho🤦🏿\\u200d♂️',\n",
              " '@iisamachado__ pra compra da gucci só teu irmão,  se for dos haitiano te dou 👍🏽',\n",
              " 'Engenheiro civil , missão de paz no Haiti , 1° lugar em vários  concursos, melhor currículo para SP,  ministro da infraestrutura, futuro governador de São Paulo\\n#TarcisioGovernadorSP2022\\n#TarcisioGovernadorSP https://t.co/IUXyhityLq',\n",
              " '@DossieGlobo Ouvi falar que na época da Abolição havia Donos de escravos que diziam que se a escravidão acabasse o Brasil viraria o Haiti.\\n\\nParece o discurso bolsonarista sobre o Brasil virar uma Venezuela,só que já somos como ela nos campos econômico e social.',\n",
              " 'O escravagismo e o colonialismo foram, talvez, as piores ideias da humanidade\\n\\nThe Root of Haiti’s Misery: Reparations to Enslavers https://t.co/l0XisuBzm6',\n",
              " '@OliverStuenkel Menos que haiti, e tem gente que aind avai votar no bozo, vai se fude',\n",
              " 'O Haiti não é mais aqui. Aqui está pior. https://t.co/SEaxkfRyTG',\n",
              " 'lembrando de quando ela foi chamada para a campanha pro meio ambiente e achou q Port-au-Prince (capital do Haiti) ficava na França e falou q ia amar passar uns dias na França https://t.co/MME9UsLwAJ',\n",
              " 'toda vez q eu tô triste lembro da história da Paris doando milhões de maquiagens pra o Haiti como forma de ajudar na crise de lá \\n\\ne fico 🤣🤣🤣',\n",
              " '@rockenbaq @ladygross A inflaçao é mundial, mas previsão de crescimento do Brasil é menor que a do Haiti e da Venezuela. Menor!!! Eu fico muito indignada c esse governo.',\n",
              " '@DrakeSincero1 Tu não é o maluco que foi currado em vídeo pelo faoh?\\n\\nCaralho que jantada maluco, foi vc que disse que haitiano é fedido né?',\n",
              " '@IranCRF4 @ladygross A previsão de crescimento do Brasil é menor que a do Haiti e da Venezuela. Menor!!! Significa que nosso governo fez tudo errado. Tudo!',\n",
              " '@Leo_Santos_2co @ladygross A previsão de crescimento do Brasil é menor que a do Haiti e da Venezuela. Menor!!! Significa que nosso governo fez tudo errado. Tudo!',\n",
              " '@CRISTIANOFLA25 @Criszmartins @ladygross A previsão de crescimento do Brasil é menor que a do Haiti e da Venezuela. Menor!!! Significa que nosso governo fez tudo errado. Tudo!',\n",
              " '@Freisoficial @ladygross A previsão de crescimento do Brasil é menor que o Haiti e a Venezuela. Menor!!! Significa que nosso governo fez tudo errado. Tudo errado.',\n",
              " '@NestorTeteu @ladygross Nestor, explica como o Tchutchuca deixou o Brasil com previsão de crescimento \\n menor que o Haiti e a Venezuela. É muita incompetência do Guedes Thuthuca e B. Explica pra gente.',\n",
              " 'O subimperialismo francês e o preço que o Haiti pagou pela sua independência revelado só agora no Times. https://t.co/f4Cb7aDpzK',\n",
              " '@alopespedrosa @AllanJo52213854 @OliverStuenkel Sim e Haiti pode melhorar tmb.\\n😉',\n",
              " '@OliverStuenkel Estamos abaixo do HAITI (país que enviamos tropas para ESTABILIZAÇÃO). Parabens aos envolvidos.',\n",
              " '#jornaldacultura Que a França devolva o que retirou do Haiti.',\n",
              " 'Guedes conseguiu a proeza do Brasil crescer menos que...o Haiti. https://t.co/S5jY9nWdea',\n",
              " '@alopespedrosa @OliverStuenkel Boa. Ultrapassamos o Haiti! 👏👏👏',\n",
              " 'A previsão de crescimento do Brasil em 2022 é menor que a do Haiti! https://t.co/hdNzNyTRqa',\n",
              " 'Brasil acima de tudo...?\\nBrasil abaixo até do Haiti! https://t.co/9Er4yBtLYV',\n",
              " '@demori O Haiti é aqui',\n",
              " 'O Haiti é aqui https://t.co/j9Ruhxqxp7',\n",
              " '@abocadelobo O Haiti é aqui',\n",
              " '@OliverStuenkel O Haiti é aqui',\n",
              " 'direita? qual o apelo popular/de base que o ciro tem? nenhum, ou seja, nenhum espaço pra reforma\\né muito triste ter que votar em um politico que faz o trabalho sujo do imperialismo dos eua, vide tropas no haiti cm lula+bush, tem um plano de governo ruim e sustentou o genocidio(+)',\n",
              " 'Brasil tera taxa em 2022 taxa de crescimento PIOR DA AMERICA LATINA. PIOR QUE O HAITI! \\n\"O Haiti é aqui...\"🤦🏾\\u200d♂️ https://t.co/4dQJTVKMq9',\n",
              " 'Em outro texto dessa reportagem sobre o Haiti tem esse detalhe aqui https://t.co/EUbe2zmRo5',\n",
              " '@OliverStuenkel Para quem não acompanha o desgoverno, sei que é duro, difícil de entender, talvez incompreensível ver o Brasil pior que o Haiti.\\nMas é a realidade do pior governo no Brasil.\\nÉ a real situação de um governo autoritário, genocida, de interesses particulares, focado na corrupção',\n",
              " '@PotatoBaiano a turminha do Haitiano é impressionante',\n",
              " 'Matéria super interessante mostrando como as indenizações pagas pelo Haiti aos escravocratas, por conta do fim da escravidão, estão na origem da miséria no país. https://t.co/sX1Is4r7A1',\n",
              " 'Pra quem quer passar raiva: o NYT fez as contas de quanto o Haiti teve que pagar pra França depois da independência.\\n\\nForam mais de US$ 560 milhões. Se esse dinheiro tivesse ficado na economia, o Haiti teria mais de US$ 20 bilhões hoje.\\n https://t.co/TVXdByToss',\n",
              " '@hevertonfutebol Na época do Lula disputávamos o pib com a Inglaterra. Agora disputamos com o Haiti. Parabéns @jairbolsonaro por ser o pior presidente da história!!!',\n",
              " '@OliverStuenkel Atrás do Haiti é para aplaudir a incompetência de pé.\\nDaqui uns anos vai ter brazuca fugindo para Venezuela.',\n",
              " 'Materia histórica do @NYTimes sobre como o povo do Haiti foi obrigado a pagar indenização a França e famílias escravocratas pela sua liberdade e o impacto dessa dívida na história do país e do seu povo. Também revela famílias e bancos que se beneficiaram. https://t.co/y6kU1TNBFK',\n",
              " '@FabiRibeirojf @OliverStuenkel Se quer comparar olha o Brasil e depois olha o... HAITI!',\n",
              " '@lawsonduarte @OliverStuenkel E todos os outros países que estão a cima não fecharam né??? até o próprios Haiti acima de nós',\n",
              " 'Sobre a história do Haiti, sugiro os três episódios do  podcast @Geopizzza e o livro (sugerido por eles) \"Jacobinos Negros\". É impressionante (e triste) que Toussaint L\\'Ouverture seja tão pouco conhecido. https://t.co/wD853HNZXL',\n",
              " 'corrupção ou dominação? quais as razões principais da pobreza dos povos? o haiti é um caso em estudo para se conhecer: https://t.co/UCgT8RLmaw',\n",
              " '@CEMartinsUFRJ @natacharena O Haiti foi a Cuba do século XIX.',\n",
              " '@OliverStuenkel Brasil atrás do Haiti é sacanagem',\n",
              " '@demori Quem diria que o Brasil ficaria atrás do Haiti vou repetir Haiti!!',\n",
              " 'Menos do que o Haiti e muito menos do que a Venezuela. https://t.co/1l8sZsn7Uw',\n",
              " 'CEPAL prevê que Brasil terá a pior taxa de crescimento da América Latina em 2022:\\n \\nPanama: 6.3%\\nVenezuela: 5%\\nColombia: 4.8%\\nGuatemala: 4.2%\\nUruguay: 3.9%\\nBolivia: 3.5%\\nCuba: 3.4%\\nArgentina: 3% \\nPeru: 2.5%\\nMexico: 1.7%\\nChile: 1.5%\\nHaiti: 0.6%\\nBrasil: 0.4%\\nhttps://t.co/dkyPkvcuKs https://t.co/1ACEYjfEqc',\n",
              " '@JornalDaCidadeO ATé Haiti está melhor que o Brasil de Bolsonaro. https://t.co/rtWk0VvRJs',\n",
              " 'A VENEZUELA com 5%\\n\\nO HAITI fica na nossa frente https://t.co/T9TDNhSzXL',\n",
              " 'A Comissão Econômica para a América Latina (@cepal_onu) projeta o Brasil com a MENOR taxa de crescimento do PIB 2022 de toda América Latina e Caribe. Míseros 0,4! Abaixo de Haiti (0,6) e Paraguai (0,7). \\nhttps://t.co/PlcIyozJaf https://t.co/08v3l9vr75',\n",
              " 'Essas reparações, diz a reportagem, estão na origem da penúria haitiana que prossegue até hoje.',\n",
              " 'Uma das pessoas a quem os ex-escravos do Haiti precisaram pagar reparações, dizem documentos obtidos pelo @nytimes foi \"a imperatriz do Brasil\". Não achei ainda quando e qual. \\n\\nhttps://t.co/YywBXC2rDu',\n",
              " 'Brasil deve crescer menos que o Haiti. https://t.co/2MAuwynyta',\n",
              " 'CEPAL prevê que Brasil terá a pior taxa de crescimento da América Latina em 2022:\\n \\nPanama: 6.3%\\nVenezuela: 5%\\nColombia: 4.8%\\nGuatemala: 4.2%\\nUruguay: 3.9%\\nBolivia: 3.5%\\nCuba: 3.4%\\nArgentina: 3% \\nPeru: 2.5%\\nMexico: 1.7%\\nChile: 1.5%\\nHaiti: 0.6%\\nBrasil: 0.4%\\nhttps://t.co/1jBUGqE6Oz https://t.co/gC4Sv5ULGw',\n",
              " 'O Haiti não só é aqui como é todolugar. \\nUma #longread enorme e triste.\\n\\nhttps://t.co/VR9BlAQmoG',\n",
              " '@OAndarilho17 Pesquise sobre um certo suicídio de um GENERAL no Haiti, excluí o tarcísio',\n",
              " 'A falta que faz uma revolução socialista no Haiti... https://t.co/P6PgHTeHE2',\n",
              " '@torturra Há um padrão pra falar do Haiti, sempre remontando à guerra contra o Império Francês - adoramos dizer que os haitianos venceram - e depois que eles tiveram q pagar... Acrescentamos a corrupção, o terremoto... Mas o haitianos pensam diferente e pra eles não tem \"mocinhos\"(3) https://t.co/vCkHWB7dyM',\n",
              " 'Bom material sobre o Haiti https://t.co/cgSRhF5tQ8 https://t.co/B5wI9hy0xC',\n",
              " '@torturra E depois tem o arroz do Arkansas que destruiu a agricultura haitiana e criou massas de desocupados (2)\\nhttps://t.co/n5vgnEjEgM',\n",
              " 'O New York Times fez uma matéria sobre como a França, os Estados Unidos e alguns amigos importantes passaram 200 anos rapinando o Haiti.\\n\\nhttps://t.co/h2rrgWGibf',\n",
              " '@TutubaTron Podiam ter posto uma preta mesmo, tipo uma haitiana, pra você se queixar com gosto. Quantos anos você tem pra ver filme de Branca de Neve? https://t.co/G1ItEjOmJp',\n",
              " 'Peça de jornalismo para a história. Como a indenização aos escravizadores cria as raízes da pobreza haitiana e a fortuna de bancos franceses e americanos.  https://t.co/9n94Wldw7T',\n",
              " 'O uber haitiano estourando no mega, que orgulho',\n",
              " '@siteptbr \"governo da Ásia\" ADM é aqueles burros que falam que África é um país e que Jamaica e Haiti ficam lá',\n",
              " 'Estadunidenses estão descobrindo que a colonização da França @France no #Haiti retirou riquezas,dinheiro pra construir o país europeu. \\nComo se EUA, Inglaterra, Portugal, Espanha e Bélgica não tivessem deixado rastros de pobreza em outros países da América Latina e África. https://t.co/YEZOlqwgT2',\n",
              " '@UOL Alguem poderia me dizer qual a contribuição positiva das religiões de matriz Africanas para a humanidade? A Africa vive sobre pobreza extrema, bem como o Haiti, que não esta no continente Africano; contudo tem a mesma cultura.',\n",
              " 'Pesquisa incrível. Duas décadas após independência do Haiti, França forçou o país a pagar indenização, muito acima das possibilidades haitianas. Resultado foi espiral de dívida que pode ter ultrapassado US$100 bi em valores atuais.  https://t.co/sfBSKcK2fh https://t.co/LdZrUGiZHt',\n",
              " 'Acho haitiano um idioma bonito de se ouvir (na real n sei qual é o nome do idioma mas gosto de ficar ouvindo smp que tem gnt conversando',\n",
              " '@amaral00 @globetrottsky Os caras tinham medo que o Haiti servisse de exemplo para que outras colônias tentassem o mesno.',\n",
              " 'Conta-se que os colonizadores de Haiti dizimaram os aborígenes Aruaques de um jeito tão cruel, que invocaram os Deuses castigo e maldição da terra.Levantes dos escravos, atrozes à resposta da brutalidade foi marcante.1791-1804.\\nReconhecimento 1825 pagando150\\nmilhões de francos.',\n",
              " '@Leoni_a_jato Sempre uso esse argumento e falo do Haiti comparando com Cuba e Brasil e China.',\n",
              " 'O Haiti foi o único país cujos descendentes de pessoas escravizadas foram forçados a pagar aos descendentes dos escravocratas pela liberdade.\\nO custo estimado? U$ 115 bilhões.\\nDinheiro que enriqueceu ainda mais a França e jogou o Haiti na miséria por séculos. https://t.co/0oCoWsnowk',\n",
              " 'Da mesma forma que o exército brasileiro @exercitooficial fazia no Haiti 👇🏼 https://t.co/a3UW6ttTmZ',\n",
              " '@marcelopjs @bachagas Continuo achando que considera Mourão, Heleno, Santos Cruz, Etchegoyen, Ramos, Villas Bõas \"gênios\" da manipulação e do engano. Mas o Haiti está aí pra provar que são burros e incompetentes. Foi Steve Bannon e o Dep. Just dos EUA, meu caro.',\n",
              " '@miguelm69231584 O monstro do Haiti ( gen.Augusto Heleno ) fez pior, comandou um massacre em missão de paz, assassinou quase cem civis...com mulheres e crianças! Hoje é chefe da casa Civil do Bozonaro!!',\n",
              " '@cah__dipp influencia na independência do haiti e ganha a pole position que homem',\n",
              " 'A raiz da miséria do Haiti: reparações aos escravizadores https://t.co/Di7lY5toX1',\n",
              " 'Esta historia dos Wakandistas que Haiti esta pobre por ter pago indemnização a França esta cheia de copium, pois no fim da \"guerra de independencia\" todos os factores de produção da ilha foram aniquilados pelos proprios Haitianos\\n\\nQuantos países que não pagaram se desenvolveram ? https://t.co/Bg4jahzTmw',\n",
              " '@thiamparo @marcosvlqueiroz A comida se tornou uma arma de dominação americana no Haiti. Como os americanos só comem a carne branca do frango, o resto vai congelado pro Haiti.\\nMais uma sobre o arroz\\nhttps://t.co/n5vgnEjEgM',\n",
              " '@jilakook @Arthur528171145 priemeiro vc mora no Brasil, metade da população n se alimenta adequadamente\\nsegundo a Venezuela n é nem de perto o país mais miserável do continente e sim o Haiti e vários outros q são explorados pelo imperialismo \\nps: no vídeo q mandei ele fala sobre os econômicos tbm',\n",
              " 'Matéria excelente. Mas o Haiti está mais para um paradigma do que para exceção. Por toda a América e Caribe, a liberdade negra veio acompanhada de medidas compensatórias para os ex-senhores, isto é, a produção de riqueza para o capital baseada na liberação do corpo negro. https://t.co/LHQmu2vnb2',\n",
              " 'Sempre bom lembrar que a tragédia haitiana tem vários responsáveis... https://t.co/3xEE4ZwM0V',\n",
              " 'A história hoje publicada no New York Times sobre reparação que Haiti paga a seus colonizadores não é nova entre quem estuda o tema seja em História, seja em RI (no Brasil, leiam o @marcosvlqueiroz). Mas UAU, que compilação + visual + em 3 línguas. https://t.co/PfWQfS8Oa0',\n",
              " '@ThiagoKrause2 Amigo temos um dos maiores especialistas em Haiti do Brasil e o João do Rio versão Recife o @marcosvlqueiroz',\n",
              " 'Para entender o estrangulamento do Haiti, desde sua heróica libertação. https://t.co/4CpwMhJDdp',\n",
              " '@gugachacra Não foi no Haiti que os negros se libertaram e mataram todos os brancos que viviam na ilha?',\n",
              " '@Pedrorc85 @patisborges Ledo engano seu! Jamais fui voluntario, e so embarcava quem fosse voluntario, simplesmente nunca acreditei nessa gastança inutil dinheiro do contribuinte promovido pelo PT. Lembrando que o HAITI continua a mesma baderna que sempre foi. Na Ucrânia eh guerra no Haiti foi so Embuste',\n",
              " '@samuelvida12 Valeu nosso presidente da torcida do Tricolor Haitiano!',\n",
              " 'Li que Brasil também pagou a Portugal pela sua independência. Em Haiti feroz o levante dos escravos nas fazendas, ocasionando independência reconhecida muito tempo depois. https://t.co/7HyRmAJPCr',\n",
              " '@gugachacra Sugiro a todos escutar os 3 capítulos que o podcast @Geopizzza fez sobre o Haiti colônia.\\nO link para o 1° deles é: https://t.co/lAEYToPfAU',\n",
              " 'Excelente reportagem no NYTIMES sobre o Haiti. Uma das mais bem feitas que já li na vida\\n\\nhttps://t.co/iC13MTbMgm',\n",
              " '@pait Investimentos em infraestrutura, educação, etc; efeitos dramáticos na fragilidade do Estado haitiano, etc. É imensurável, mas foi destruidor.',\n",
              " 'Matéria sensacional no NYT hoje sobre o Haiti. Calculam o montante da dívida que a França impôs ao Haiti por ter erradicado a escravidão de forma revolucionária. Chegam a um montante 8x o PIB do Haiti. Foi o saque do Haiti que financiou a Torre Eiffel. https://t.co/f8AEb7fYA5',\n",
              " 'O desbravamento recente dos processos revolucionário e de encobrimento da Rev. Haitiana é quase um sinal premonitório de certo progresso moral do nosso entendimento do passado. https://t.co/p8d8auZkJw',\n",
              " 'Muito foda isso aqui. As indenizações aos escravizadores como causa do subdesenvolvimento haitiano\\n\\nhttps://t.co/Pf3MvoppoC',\n",
              " '@claudferraz Eu conheço muito pouco da história haitiana pós-1825 (que é quando termino a aula sobre - só li o Aftershocks of History do @Soccerpolitics e algumas coisas do falecido Trouillot), mas fiquei muito impressionado... Tem um exagero de novidade, mas faz sentido pro público alvo.',\n",
              " '@ThiagoKrause2 Salvei aqui para ler, esse assunto sempre me intrigou desde a época de colégio.  É aquilo né , depois da revolução haitiana e do jeito que foi.....',\n",
              " 'Que série impressionante de reportagens: eu fiquei curioso pra ver uma versão acadêmica, mas parece ser de altíssima qualidade. Mostra perfeitamente como a \"indenização\" paga à França foi essencial para o subdesenvolvimento haitiano. Queria uma tradução!\\nhttps://t.co/X3YIjlWc0H',\n",
              " 'Após cometerem crimes no/na/em: vietna, Honduras, Panamá, Haiti, Nicarágua, México, Coreia,  Irã,  Síria,  indonésia,  Iraque, Congo, Cuba,  Bolívia,  Afeganistão, El Salvador [...] \\n\\nAmericanos questionam resposta militar ao movimento militar americano e da otan https://t.co/adFRSe6jQM',\n",
              " 'não li um especial tão bom quanto esse há um bom tempo. vale muito a leitura. é muito importante conhecer a história do haiti. https://t.co/quWuOLSYU9',\n",
              " 'Haiti é o único país no mundo onde os descendentes de escravizados foram obrigados a indenizar os descendentes de seus senhores por gerações. \\nA matéria do NYT fala sobre a estimativa dos valores pagos pelo Haiti à França (um valor na casa de bilhões!!!).I https://t.co/doBpoQa8tp',\n",
              " '@moreiraviw Número do Haiti (+509) oferecendo emprego no Brasil, pode confiar.',\n",
              " 'Nesse texto do NYT oq aconteceu com o Haiti. Nele é explicado como funciona todo o processo de colonização e pq para existir alguns poucos bilionários é preciso existir muita gente passando fome e dificuldade. https://t.co/MAce3fjUZ2',\n",
              " '@lybrjack Tá, agora faz uma matéria sobre a Unicef e seus funcionários no Haiti.',\n",
              " 'O Antonov-An 225 em 33 anos de operações, foi o carro-chefe em várias operações logísticas mundo afora, além disso, prestou assistência em missões humanitárias como o terremoto no Haiti em 2010 e a pandemia do novo coronavírus, entre 2020 e 2021. Não era só um avião grande https://t.co/VB27ke9xGp',\n",
              " 'pessoal fui ao mercado esse velho pediu pra tirar foto comigo e falou que queria bater em professor e invadir o haiti outra vez nao entendi o que ele quis dizer com isso mas foi bem simpático https://t.co/5X2fuRTEUe',\n",
              " 'A indenização cobrada pelo governo francês para não invadir o país e retomar o poder foi de 10 vezes o valor da receita anual do Haiti. Quem emprestou o dinheiro? Um banco francês. E o que aconteceu com a dívida? Saldada em 122 anos (1825-1947).\\nhttps://t.co/Q9lIiFr8NJ https://t.co/PQb2bcWUgV https://t.co/m0SH7eiVEc',\n",
              " 'Durante 64 anos, o Haiti pagou à França o equivalente a 560 milhões de doláres como reparação pela sua independência.\\n\\nEssa investigação do NYT tá sensacional. https://t.co/VQVhqMiCK2',\n",
              " 'A internet brasileira é mais lenta que a da Etiópia e Haiti e é uma das mais caras do mundo.',\n",
              " 'Às vezes parece que a academia de história ocidental não da mais atenção ao Haiti pq vai dar trabalho definir esse holocausto de 200+ anos a que um povo foi condenado pelo simples crime de se libertar da escravidão',\n",
              " 'The Root of Haiti’s Misery: Reparations to Enslavers [ A raiz da miséria do Haiti: reparações aos escravizadores] https://t.co/9LTirLVXYT',\n",
              " 'Fio da @fondation_me sobre a indenização de 560 milhões de dólares pagos (valor de 2022) pelo Haiti à França, por sua independência.\\n\\nPela primeira vez na história, os vencedores são mantidos como reféns pelos vencidos.\\n\\nhttps://t.co/3NiCyG8cZc https://t.co/LgAFRLiMk8',\n",
              " 'O Haiti foi chamado de desastre. Um estado fracassado. Uma armadilha de ajuda.\\n\\nMas o legado da dívida está embutido em todos os sistemas do país: desde educação e saúde até sua infraestrutura inadequada de água e saneamento.',\n",
              " 'Outros disseram que se o Haiti não tivesse sido forçado a pagar a dívida dupla, o país poderia ter espelhado as taxas de crescimento de seus vizinhos em toda a América Latina.\\nIsso colocaria nossa estimativa em uma perda de US$ 115 bilhões para o Haiti.',\n",
              " 'Se essa riqueza tivesse permanecido no Haiti, estimamos, teria acrescentado US$ 21 bilhões à economia haitiana nos últimos dois séculos. Embora a quantidade exata seja desconhecida, vários especialistas disseram que essa estimativa era, no mínimo, conservadora.',\n",
              " 'Em 1825, a França exigiu cinco pagamentos anuais de 30 milhões de francos. Só o primeiro pagamento foi estimado em cerca de seis vezes a receita do Haiti naquele ano. O Haiti foi forçado a tomar um empréstimo, aumentando o fardo e tornando-o conhecido como dívida dupla.',\n",
              " 'O New York Times examinou arquivos e documentos do governo para tabular quanto o Haiti pagou por sua liberdade. Eles revelam uma dívida tão grande e tão duradoura que ajudaria a cimentar o caminho do Haiti para a pobreza e o subdesenvolvimento.',\n",
              " 'O Haiti é o único país do mundo onde descendentes de escravizados foram forçados a pagar indenizações aos descendentes de seus senhores por gerações.',\n",
              " 'COMO O HAITI PERDEU BILHÕES\\n\\nSegue o fio... https://t.co/EEV1kyhX90',\n",
              " 'isso que o ~ocidente~ fez/faz com o Haiti desde 1791 é um escárnio, um absurdo. https://t.co/tV2HIvCQau',\n",
              " 'Capitão Freitas, Tarcísio. Tropas de paz ONU, Haiti. Tropas das quais tbm fez parte o Santos Cruz atual opositor do PB. Daí na extrema impresa, p/Tarcísio é fato negativo: \"assassinos do Haiti; e simultâneo p/ Santos Cruz (canhoto): \"herói do Haiti\". Dicotomia, patotologia, etc https://t.co/M3R01oERiK',\n",
              " 'Acho o Haiti o caso paradigmático para se entender os efeitos nocivos da colonização. E o NYT fez o favor de explicar por quê https://t.co/mOKoaJT8J4',\n",
              " '@patisborges @gilsinho1 Capitão Freitas, Tarcísio. Tropas de paz da ONU, Haiti. Tropas das quais tbm fez parte o Santos Cruz atual opositor do PB. Daí na extrema impresa, p/Tarcísio é fato negativo: \"assassinos do Haiti; e simultâneo p/ Santos Cruz (canhoto): \"herói do Haiti\". Dicotomia, patotlogia',\n",
              " 'Nessa matéria, o NY Times reporta que o governo dos EUA ordenou uma invasão militar à ilha para proteger os interesses do Citibank (que detinha títulos da dívida haitiana).\\n\\nhttps://t.co/BcpuKFN7Hx',\n",
              " 'A triste história do Haiti, o primeiro país independente da América Latina, mas que ate hj não é livre.\\n\\n\"The price tag was huge. In 1803, France sold Louisiana to the United States for 80 million francs — just over half what it demanded from Haiti\\'. https://t.co/4omY8Qoemj',\n",
              " 'NYTimes publicou várias matérias, com mts docs, p/ mostrar como elites francesas e americanas estrangularam a economia haitiana. Para cada U$3 exportado em café apenas 6 centavos ficavam com o Haiti, o resto ia para o banco francês Crédit Industriél. \\n\\nhttps://t.co/CE2SGNywHP',\n",
              " '@m_bma1988 @rafaelbboa Será que ele admitiria que a nova esposa acolhesse um homem haitiano, um angolano? Só pra saber...',\n",
              " 'Processo de venezuelização da Argentina acelerou bem esse ano.\\nVenezuela já virou o Haiti.\\nPróximo passo é o Chile virar a Argentina. https://t.co/1dWbcYnxzO',\n",
              " 'Como Blatter visitou o Haiti e uma mulher foi “forçada” a dormir com o ex-presidente da FIFA, para quem foram pedidos “comprimidos azuis” https://t.co/iBeZdVTQu0',\n",
              " '@laurentinogomes @nytimes É um show de horrores essa história da relação Haiti - França.',\n",
              " '@bypedrobr @ThiagoResiste Me mudo se você se mudar para o Haiti, afinal lá é um país capitalista, certo?',\n",
              " 'Aos escravizadores, nunca faltou «\\xa0reparação\\xa0» The Root of Haiti’s Misery: Reparations to Enslavers - The New York Times https://t.co/KK60HjtKkZ',\n",
              " '✈ Vamos ouvir agora Emeline Michel (@_emelinemichel) com “A.K.I.K.O”, representando o Haiti, que em 2010 após o terremoto, mais de 20 mil haitianos buscaram refúgio no Brasil.',\n",
              " 'Com esse frio e a haitiana de calção, pqp',\n",
              " '... futuro governador de São Paulo, em missão humanitária no Haiti ... https://t.co/GhlwxZL40t',\n",
              " '@kenmiIes Quem foi para o combate no Haiti foram os Comandos/FE do EB, os Comanfs e Fuzileiros da Marinha',\n",
              " '@DAVILAFREDERICO @tarcisiogdf @carteiroreaca @MajorMecca @coroneltelhada @CONTELOPES @DouglasGarcia @DaniloBalas @valbolsonaro Pra um o trabalho foi oprimir, para o outro foi fazer uma revolução na educação do Brasil. Veja os números antes e depois do PT de universidades e número de alunos nas faculdades. Depois leia as manchetes sobre as denúncias no Haiti sobre a atuação dos militares brasileiros.',\n",
              " '@LucianoHangBr Ué! Então a Venezuela, a Argentina, Cuba, Haiti e outros mais nem são mais países pois nem aparecem na lista das maiores inflações do mundo. Talvez porque o número não cabe na calculadora',\n",
              " '@MarceloJGonca @LucianoHangBr Ué! Então a Venezuela, a Argentina, Cuba, Haiti e outros mais nem são mais países pois nem aparecem na lista das maiores inflações do mundo. Talvez porque o número não cabe na calculadora',\n",
              " '@patisborges Tarcísio na missão de paz lá no Haiti',\n",
              " 'Se eu tivesse qualquer poder de dar pauta, a minha hj seria essa foto aqui. No centro está \"Dadou\", líder de uma rede de exploração de menores nos anos que esteve no poder na FHF, desde 2000. Lembram dos amistosos do Brasil pela paz lá no Haiti? Pode não ter nada, mas... https://t.co/8zXzV7YQ7j',\n",
              " '\"Um lugar onde era normal ser estuprada\": denúncias de abuso na federação haitiana envolvem até Blatter. Possivelmente o maior escândalo da Fifa, infelizmente em um país periferico sem impacto. Mais uma ótima reportagem investigativa do Roman Molina. \\n\\nhttps://t.co/ifWM3SugFY',\n",
              " 'oh, filho, põe-te na bicha.\\nassim de repente podia começar-se no Haiti que esteve até há pouco a pagar indemnizações a um país ocidental por os escravos lá do sítio terem ganhado a alforria prejudicando os fazendeiros franceses em 1804. https://t.co/Z6837CPQfN',\n",
              " '@Carlinhosmaiaof Pediria pra vc fazer  me dar uma festa de casamento pra meu marido não ir embora do Brasil se um dia Deus tocar seu coração eu sou brasileira ele haitiano se um dia isso for possível Deus abençoe você 🙏🏻💋❤️🙏🏻 meu telefone 957421762 DDD 11 🙏🏻💋❤️🙏🏻💋💋🙏🏿💋❤️🙏🏻💋❤️❤️🙏🏻🙏🏻😭🙏🏻',\n",
              " '@patisborges Reza a lenda que no Haiti esse homem depois de tanta coisa destruida apos o terremoto falou:\\n- vamos reconstruir.\\n\\nE nunca mais parou.',\n",
              " 'Fiz parte da Missão de paz da ONU no Haiti, Na hora do combate de verdade, aprendi que a paz precisa ser conquistada, dia a dia, com estratégia, coragem e ação. \\nEm São Paulo, vivemos hoje uma verdadeira guerra,  com a minha experiência, posso ajudar muito a acabar com ela.👊🇧🇷 https://t.co/ySaZViiPZt',\n",
              " '@OEmmanuelSouza Haiti é o nosso futuro...',\n",
              " 'A raiz da miséria do Haiti: reparações aos escravizadores https://t.co/c2GKV3n4fX',\n",
              " '@Deligtsubs Sargento toma um tiro no Haiti: *tapa no ombro* “fez seu dever pela pátria”\\n\\nGringo colonizador pau no cu existe: “TOMA ESSA MEDALHA, SEU LINDO”',\n",
              " '@gen_heleno Ei Heleno,seu passado te condena,na época q vc serviu em São Gabriel da Cachoeira/Am,mais conhecida c/Cabeça do Cachorro.\\nSem contar o ocorrido em Porto Príncipe-Haiti,q tropas comandadas por vc,dispararam 22 mil balas,em dezenas de civis q morreram,incluindo mulheres e crianças.',\n",
              " 'Como Blatter visitou o Haiti e uma mulher foi “forçada” a dormir com o ex-presidente da FIFA, para quem foram pedidos “comprimidos azuis” https://t.co/bfzPyYv8Kz',\n",
              " 'Ministro Tarcísio em missão no Haiti. 🇧🇷🇧🇷2️⃣2️⃣ https://t.co/SC62uUZdQT',\n",
              " 'Aperfeiçoamento de Oficiais.\\nEm Nov/2005, atuou na Missão das Nações Unidas para Estabilização no Haiti, como chefe da seção técnica da Companhia de Engenharia do Brasil. \\nEm 2012, obteve certificação em PPP Public – Private Partnerships – Focus on Roads em Londres,⬇️ https://t.co/DkjVfOYd0I',\n",
              " '@notblessedblond R.I.P haiti que era ponto de referencia pra minha casa',\n",
              " '@notblessedblond se o nome de agora eh diferente de haiti, mudou',\n",
              " 'desculpe a demora, estava em missão de paz no Haiti',\n",
              " 'Ciro antes d gregorio entrar ja mete q quem vai votar no Lula no 1° turno pensando na defesa da democracia vai votar acriticamente. TA DE SACANAGEM? Enfiou os olhos aonde c/ a chuva de protestos p/ aliança com o Alckimin???? As críticas pelo papel das FA no haiti? Ja começa mal.',\n",
              " 'só vejo as finais da nba, só jogão mn 🤩',\n",
              " '@tarcisiogdf Vagabundo, não conhece nada de SP, como não conhecia do Haiti, a missão das FFAA foi um desastre. Quando apertou quem foi apaziguar foram os EUA. LAMENTÁVEL SENHOR APOIADOR DE FASCISTAS,',\n",
              " '@GraFlavia @andrefran Ué, já mudaram de país?? Acorda, santa, já passamos de ser uma Venezuela e estamos rumo ao Haiti.',\n",
              " 'Ministro Tarcísio 2005 no HAITI. \\nMinha Continência e Respeito. \\nPátria Amada Brasil.\\n#FechadoComTarcisio2022 https://t.co/NhK2K7AKQe',\n",
              " '@patisborges O Tarcísio, realmente, é pessoa de caráter. Desconhecia a sua participação na missão Haiti. Grandes feitos como ministro, com obras viárias e transposição do velho Chico aos nordestinos, credenciando-o a futuro governador de São Paulo. Benvindo Tarcísio.',\n",
              " '@Dom19065365 @tarcisiogdf Prezado respeito sua colocação. \\n\\nPorém acho que nunca este no Haiti.\\n\\nLá até o general fica em perigo constante. \\n\\nNão sou bolsonariata porém o melhor para o país nos últimos 30 anos é Bolsonaro .\\n\\nSds.',\n",
              " '@ThFujin Então ESSE era o tal do \"Ken do Haiti\"',\n",
              " 'Ken do Haiti ataca novamente, e mostra que garrafa pet na frente dele é um perigo💀 https://t.co/w2lo6k5srd',\n",
              " '@brenoaperalta @verruckthahn13 @desolaoficial Kkkkkk mais fácil o Haiti ganhar a copa que esse motor arrumar kkk',\n",
              " '@DesejoDeMatar Aí é porque eles não tem opção, é lá ou sei lá, no Haiti?',\n",
              " ...]"
            ]
          },
          "metadata": {},
          "execution_count": 69
        }
      ],
      "source": [
        "tweets_orig.text.tolist()"
      ]
    },
    {
      "cell_type": "markdown",
      "metadata": {
        "id": "dgOt6eY9GGIN"
      },
      "source": [
        "#Pegar os stop words da língua portuguesa usando NLTK"
      ]
    },
    {
      "cell_type": "code",
      "execution_count": 70,
      "metadata": {
        "id": "MD9FttR_ZujT"
      },
      "outputs": [],
      "source": [
        "stop_words = set(stopwords.words('portuguese'))"
      ]
    },
    {
      "cell_type": "code",
      "execution_count": 71,
      "metadata": {
        "colab": {
          "base_uri": "https://localhost:8080/"
        },
        "id": "LItshnuibmxO",
        "outputId": "99e6407c-3baf-4a50-ca4a-23661f293950"
      },
      "outputs": [
        {
          "output_type": "execute_result",
          "data": {
            "text/plain": [
              "set"
            ]
          },
          "metadata": {},
          "execution_count": 71
        }
      ],
      "source": [
        "type(stop_words)\n"
      ]
    },
    {
      "cell_type": "code",
      "execution_count": 72,
      "metadata": {
        "colab": {
          "base_uri": "https://localhost:8080/"
        },
        "id": "dxY7V9fec_-4",
        "outputId": "59840ba1-1a08-4e23-b535-1f519f45d457"
      },
      "outputs": [
        {
          "output_type": "execute_result",
          "data": {
            "text/plain": [
              "{'a',\n",
              " 'ao',\n",
              " 'aos',\n",
              " 'aquela',\n",
              " 'aquelas',\n",
              " 'aquele',\n",
              " 'aqueles',\n",
              " 'aquilo',\n",
              " 'as',\n",
              " 'até',\n",
              " 'com',\n",
              " 'como',\n",
              " 'da',\n",
              " 'das',\n",
              " 'de',\n",
              " 'dela',\n",
              " 'delas',\n",
              " 'dele',\n",
              " 'deles',\n",
              " 'depois',\n",
              " 'do',\n",
              " 'dos',\n",
              " 'e',\n",
              " 'ela',\n",
              " 'elas',\n",
              " 'ele',\n",
              " 'eles',\n",
              " 'em',\n",
              " 'entre',\n",
              " 'era',\n",
              " 'eram',\n",
              " 'essa',\n",
              " 'essas',\n",
              " 'esse',\n",
              " 'esses',\n",
              " 'esta',\n",
              " 'estamos',\n",
              " 'estas',\n",
              " 'estava',\n",
              " 'estavam',\n",
              " 'este',\n",
              " 'esteja',\n",
              " 'estejam',\n",
              " 'estejamos',\n",
              " 'estes',\n",
              " 'esteve',\n",
              " 'estive',\n",
              " 'estivemos',\n",
              " 'estiver',\n",
              " 'estivera',\n",
              " 'estiveram',\n",
              " 'estiverem',\n",
              " 'estivermos',\n",
              " 'estivesse',\n",
              " 'estivessem',\n",
              " 'estivéramos',\n",
              " 'estivéssemos',\n",
              " 'estou',\n",
              " 'está',\n",
              " 'estávamos',\n",
              " 'estão',\n",
              " 'eu',\n",
              " 'foi',\n",
              " 'fomos',\n",
              " 'for',\n",
              " 'fora',\n",
              " 'foram',\n",
              " 'forem',\n",
              " 'formos',\n",
              " 'fosse',\n",
              " 'fossem',\n",
              " 'fui',\n",
              " 'fôramos',\n",
              " 'fôssemos',\n",
              " 'haja',\n",
              " 'hajam',\n",
              " 'hajamos',\n",
              " 'havemos',\n",
              " 'hei',\n",
              " 'houve',\n",
              " 'houvemos',\n",
              " 'houver',\n",
              " 'houvera',\n",
              " 'houveram',\n",
              " 'houverei',\n",
              " 'houverem',\n",
              " 'houveremos',\n",
              " 'houveria',\n",
              " 'houveriam',\n",
              " 'houvermos',\n",
              " 'houverá',\n",
              " 'houverão',\n",
              " 'houveríamos',\n",
              " 'houvesse',\n",
              " 'houvessem',\n",
              " 'houvéramos',\n",
              " 'houvéssemos',\n",
              " 'há',\n",
              " 'hão',\n",
              " 'isso',\n",
              " 'isto',\n",
              " 'já',\n",
              " 'lhe',\n",
              " 'lhes',\n",
              " 'mais',\n",
              " 'mas',\n",
              " 'me',\n",
              " 'mesmo',\n",
              " 'meu',\n",
              " 'meus',\n",
              " 'minha',\n",
              " 'minhas',\n",
              " 'muito',\n",
              " 'na',\n",
              " 'nas',\n",
              " 'nem',\n",
              " 'no',\n",
              " 'nos',\n",
              " 'nossa',\n",
              " 'nossas',\n",
              " 'nosso',\n",
              " 'nossos',\n",
              " 'num',\n",
              " 'numa',\n",
              " 'não',\n",
              " 'nós',\n",
              " 'o',\n",
              " 'os',\n",
              " 'ou',\n",
              " 'para',\n",
              " 'pela',\n",
              " 'pelas',\n",
              " 'pelo',\n",
              " 'pelos',\n",
              " 'por',\n",
              " 'qual',\n",
              " 'quando',\n",
              " 'que',\n",
              " 'quem',\n",
              " 'se',\n",
              " 'seja',\n",
              " 'sejam',\n",
              " 'sejamos',\n",
              " 'sem',\n",
              " 'serei',\n",
              " 'seremos',\n",
              " 'seria',\n",
              " 'seriam',\n",
              " 'será',\n",
              " 'serão',\n",
              " 'seríamos',\n",
              " 'seu',\n",
              " 'seus',\n",
              " 'somos',\n",
              " 'sou',\n",
              " 'sua',\n",
              " 'suas',\n",
              " 'são',\n",
              " 'só',\n",
              " 'também',\n",
              " 'te',\n",
              " 'tem',\n",
              " 'temos',\n",
              " 'tenha',\n",
              " 'tenham',\n",
              " 'tenhamos',\n",
              " 'tenho',\n",
              " 'terei',\n",
              " 'teremos',\n",
              " 'teria',\n",
              " 'teriam',\n",
              " 'terá',\n",
              " 'terão',\n",
              " 'teríamos',\n",
              " 'teu',\n",
              " 'teus',\n",
              " 'teve',\n",
              " 'tinha',\n",
              " 'tinham',\n",
              " 'tive',\n",
              " 'tivemos',\n",
              " 'tiver',\n",
              " 'tivera',\n",
              " 'tiveram',\n",
              " 'tiverem',\n",
              " 'tivermos',\n",
              " 'tivesse',\n",
              " 'tivessem',\n",
              " 'tivéramos',\n",
              " 'tivéssemos',\n",
              " 'tu',\n",
              " 'tua',\n",
              " 'tuas',\n",
              " 'tém',\n",
              " 'tínhamos',\n",
              " 'um',\n",
              " 'uma',\n",
              " 'você',\n",
              " 'vocês',\n",
              " 'vos',\n",
              " 'à',\n",
              " 'às',\n",
              " 'é',\n",
              " 'éramos'}"
            ]
          },
          "metadata": {},
          "execution_count": 72
        }
      ],
      "source": [
        "stop_words"
      ]
    },
    {
      "cell_type": "markdown",
      "metadata": {
        "id": "VM-vll20KqvP"
      },
      "source": [
        "#Pré-processamento dos tweets"
      ]
    },
    {
      "cell_type": "markdown",
      "metadata": {
        "id": "PAlOZbaXCNDM"
      },
      "source": [
        "###Função para limpar os tweets"
      ]
    },
    {
      "cell_type": "code",
      "execution_count": 73,
      "metadata": {
        "id": "wKc3KHEUkiTm"
      },
      "outputs": [],
      "source": [
        "def pre_processing_tweets(tweet):\n",
        "  \n",
        "  #remover pontuações\n",
        "  def remove_punctuation(tweet):\n",
        "      return re.sub(r'[^\\w\\s]','',tweet) \n",
        "\n",
        "  #remocao de plavras com mais de 3 ocorrencias seguidas\n",
        "  def mais_de_3_ocorrencias_seguidas(word):  \n",
        "    let_ant = word[0]\n",
        "    count = 0\n",
        "    mais_de_3 = False;\n",
        "    for w in word:\n",
        "      count = count + 1 if w == let_ant else 1\n",
        "      let_ant = w  \n",
        "      if count > 3: \n",
        "        mais_de_3 = True \n",
        "        break  \n",
        "    return mais_de_3   \n",
        "\n",
        "  #remover acentuações\n",
        "  def remove_emphasis(token):\n",
        "        return unidecode(remove_punctuation(token))\n",
        "\n",
        "  stop_words_list = [remove_emphasis(st_word) for st_word in stop_words]\n",
        " \n",
        "  #conversão de string para minúsculas, remoção de pontuação, palavras que iniciam com @, #, stopwords ou com tamanho < 2 e se forem diferentes de ht.\n",
        "  def remove_undesirable_words(tweet):\n",
        "      new_list_ = []\n",
        "      tweet = ' '.join(str(word).lower() for word in tweet.split() if not word.startswith('@') and not word.startswith('#'))\n",
        "     \n",
        "      for token in wordpunct_tokenize(tweet):\n",
        "         if token in stop_words_list or (len(token) < 3 and token != 'ht') or mais_de_3_ocorrencias_seguidas(token): continue\n",
        "         new_list_.append(remove_emphasis(token))\n",
        "      return ' '.join(new_list_)\n",
        "\n",
        "  #remover urls\n",
        "  def remove_url(tweet_without_sw):\n",
        "      return re.sub(r\"http\\S+\", \"\", tweet_without_sw)\n",
        "\n",
        "  #remover palavras que contem ou que são números\n",
        "  def remove_numeric(tweet):\n",
        "     return ' '.join([token for token in wordpunct_tokenize(tweet) if not token.isdigit() and not any(map(str.isdigit, token))])    \n",
        "\n",
        "  tweet = remove_url(tweet)\n",
        "  tweet = remove_undesirable_words(tweet)\n",
        "  tweet = remove_numeric(tweet)\n",
        "\n",
        "  return tweet \n"
      ]
    },
    {
      "cell_type": "markdown",
      "metadata": {
        "id": "L3NOY8WQEMH7"
      },
      "source": [
        "\n",
        "###Exemplo de tweet antes da aplicação da função de pré-procesamento"
      ]
    },
    {
      "cell_type": "code",
      "execution_count": 74,
      "metadata": {
        "id": "mMmawXRUfeGY"
      },
      "outputs": [],
      "source": [
        "string_example = \"o nao @senhor vai #investir, em 2022, na educação da Venezuela, Argentina, Haiti,cuba.e etc países comunistas?, porque aqui no Brasil o Senhor nunca fez isso ?????. https://t.co/jmVSYbsG2X\""
      ]
    },
    {
      "cell_type": "code",
      "execution_count": 75,
      "metadata": {
        "id": "2cPuLlD1dxF7"
      },
      "outputs": [],
      "source": [
        "filtered_tweet = pre_processing_tweets(string_example)"
      ]
    },
    {
      "cell_type": "markdown",
      "metadata": {
        "id": "DL-GiFlgEelV"
      },
      "source": [
        "###Exemplo de tweet depois da aplicação da função de pré-procesamento"
      ]
    },
    {
      "cell_type": "code",
      "execution_count": 76,
      "metadata": {
        "colab": {
          "base_uri": "https://localhost:8080/",
          "height": 35
        },
        "id": "onsjf2SAWsC0",
        "outputId": "ce6be5f5-9a42-4136-9210-ce4e9dd64cf8"
      },
      "outputs": [
        {
          "output_type": "execute_result",
          "data": {
            "text/plain": [
              "'vai educacao venezuela argentina haiti cuba etc paises comunistas porque aqui brasil senhor nunca fez'"
            ],
            "application/vnd.google.colaboratory.intrinsic+json": {
              "type": "string"
            }
          },
          "metadata": {},
          "execution_count": 76
        }
      ],
      "source": [
        "filtered_tweet"
      ]
    },
    {
      "cell_type": "markdown",
      "metadata": {
        "id": "DMjfv4xtFeF6"
      },
      "source": [
        "###Aplicação da função do pré-processamento nos tweets"
      ]
    },
    {
      "cell_type": "code",
      "execution_count": 77,
      "metadata": {
        "id": "0f-PAjiRe0S0"
      },
      "outputs": [],
      "source": [
        "tweets_pre_proc = tweets_orig.copy()\n",
        "tweets_pre_proc['text'] = tweets_orig['text'].map(lambda tweet: pre_processing_tweets(tweet))"
      ]
    },
    {
      "cell_type": "code",
      "execution_count": 78,
      "metadata": {
        "colab": {
          "base_uri": "https://localhost:8080/"
        },
        "id": "b8uljx9xYuwY",
        "outputId": "d52d263e-3050-4330-e8d5-9c4836ea9282"
      },
      "outputs": [
        {
          "output_type": "execute_result",
          "data": {
            "text/plain": [
              "['@geglobo Paquetá é haitiano',\n",
              " '@BetoLuiz_RU @jonesmanoel_PCB @deccache O Haiti foi uma desgraça de fato.Mas os erros nao anulam os acertos.E quando ele fala sobre a guerra na Ucrania ele vem se posicionando muito bem,criticando a postura do zelensky',\n",
              " 'O senhor vai investir na educação da Venezuela, Argentina, Haiti,cuba, e etc países comunistas?, porque aqui no Brasil o Senhor nunca fez isso. https://t.co/jmVSYbsG2X',\n",
              " '@rsallesmma Que nada, na mão de vocês já tá virando uma mistura de deserto do Saara com Haiti',\n",
              " '@JoppertLeonardo @jonesmanoel_PCB @deccache Entramos nos BRICS, mas invadimos o Haiti a mando do Bush!\\n\\nLula diz que vai fortalecer os brics mas faz palestras no Parlamento Europeu que está tratando Rússia e china como inimigos mortais, como isso vai funcionar???']"
            ]
          },
          "metadata": {},
          "execution_count": 78
        }
      ],
      "source": [
        "tweets_orig.text.head().tolist()"
      ]
    },
    {
      "cell_type": "code",
      "execution_count": 79,
      "metadata": {
        "colab": {
          "base_uri": "https://localhost:8080/"
        },
        "id": "LGbjhqfmzDFQ",
        "outputId": "02ecbfd5-7306-4a8e-bbb2-31ac42d938af"
      },
      "outputs": [
        {
          "output_type": "execute_result",
          "data": {
            "text/plain": [
              "['paqueta haitiano',\n",
              " 'haiti desgraca fato erros anulam acertos fala sobre guerra ucrania vem posicionando bem criticando postura zelensky',\n",
              " 'senhor vai investir educacao venezuela argentina haiti cuba etc paises comunistas porque aqui brasil senhor nunca fez',\n",
              " 'nada mao voces virando mistura deserto saara haiti',\n",
              " 'entramos brics invadimos haiti mando bush lula diz vai fortalecer brics faz palestras parlamento europeu esta tratando russia china inimigos mortais vai funcionar']"
            ]
          },
          "metadata": {},
          "execution_count": 79
        }
      ],
      "source": [
        "tweets_pre_proc.text.head().tolist()\n"
      ]
    },
    {
      "cell_type": "markdown",
      "metadata": {
        "id": "a_A3UZOKMVoD"
      },
      "source": [
        "###Remover tweets com menos de 3 palavras"
      ]
    },
    {
      "cell_type": "code",
      "execution_count": 80,
      "metadata": {
        "id": "9AddF7arLr7F"
      },
      "outputs": [],
      "source": [
        "tweets_pre_proc = tweets_pre_proc.loc[tweets_pre_proc['text'].str.split().str.len() > 3]"
      ]
    },
    {
      "cell_type": "code",
      "execution_count": 81,
      "metadata": {
        "colab": {
          "base_uri": "https://localhost:8080/"
        },
        "id": "EGzg91V6L-N7",
        "outputId": "f762d981-9626-4467-bcc4-75c74551c3d5"
      },
      "outputs": [
        {
          "output_type": "execute_result",
          "data": {
            "text/plain": [
              "(171072, 5)"
            ]
          },
          "metadata": {},
          "execution_count": 81
        }
      ],
      "source": [
        "tweets_pre_proc.shape"
      ]
    },
    {
      "cell_type": "markdown",
      "metadata": {
        "id": "vAADO70qDBO9"
      },
      "source": [
        "###Remover os tweets duplicados"
      ]
    },
    {
      "cell_type": "code",
      "source": [
        "tweets_pre_proc.text.head().tolist()"
      ],
      "metadata": {
        "colab": {
          "base_uri": "https://localhost:8080/"
        },
        "id": "Aj3c3CrFCXR_",
        "outputId": "b88c6a9d-ceb9-4fee-8fff-64ac87ac23b7"
      },
      "execution_count": 82,
      "outputs": [
        {
          "output_type": "execute_result",
          "data": {
            "text/plain": [
              "['haiti desgraca fato erros anulam acertos fala sobre guerra ucrania vem posicionando bem criticando postura zelensky',\n",
              " 'senhor vai investir educacao venezuela argentina haiti cuba etc paises comunistas porque aqui brasil senhor nunca fez',\n",
              " 'nada mao voces virando mistura deserto saara haiti',\n",
              " 'entramos brics invadimos haiti mando bush lula diz vai fortalecer brics faz palestras parlamento europeu esta tratando russia china inimigos mortais vai funcionar',\n",
              " 'haitiano entendi nada falavam']"
            ]
          },
          "metadata": {},
          "execution_count": 82
        }
      ]
    },
    {
      "cell_type": "code",
      "execution_count": 83,
      "metadata": {
        "id": "51YZj0HF-VkT",
        "colab": {
          "base_uri": "https://localhost:8080/"
        },
        "outputId": "eb651ca0-0924-4798-e573-b10f1b14f03d"
      },
      "outputs": [
        {
          "output_type": "stream",
          "name": "stderr",
          "text": [
            "/usr/local/lib/python3.7/dist-packages/pandas/util/_decorators.py:311: SettingWithCopyWarning: \n",
            "A value is trying to be set on a copy of a slice from a DataFrame\n",
            "\n",
            "See the caveats in the documentation: https://pandas.pydata.org/pandas-docs/stable/user_guide/indexing.html#returning-a-view-versus-a-copy\n",
            "  return func(*args, **kwargs)\n"
          ]
        }
      ],
      "source": [
        "tweets_pre_proc.drop_duplicates(subset = [\"text\"], keep='first', inplace=True)"
      ]
    },
    {
      "cell_type": "markdown",
      "metadata": {
        "id": "5ZaDi_AFFL5b"
      },
      "source": [
        "###Quantidade de tweets após a remoção dos tweets duplicados"
      ]
    },
    {
      "cell_type": "code",
      "execution_count": 84,
      "metadata": {
        "colab": {
          "base_uri": "https://localhost:8080/"
        },
        "id": "6IC5wWgm-dnl",
        "outputId": "87a7af5a-a82e-4c64-faf1-1a4ce68a3f1d"
      },
      "outputs": [
        {
          "output_type": "execute_result",
          "data": {
            "text/plain": [
              "(149993, 5)"
            ]
          },
          "metadata": {},
          "execution_count": 84
        }
      ],
      "source": [
        "tweets_pre_proc.shape"
      ]
    },
    {
      "cell_type": "code",
      "execution_count": 85,
      "metadata": {
        "colab": {
          "base_uri": "https://localhost:8080/"
        },
        "id": "paxssE2-L7WK",
        "outputId": "a3b11c3b-d1ab-4637-8ffd-62e933f2a265"
      },
      "outputs": [
        {
          "output_type": "execute_result",
          "data": {
            "text/plain": [
              "['@geglobo Paquetá é haitiano',\n",
              " '@BetoLuiz_RU @jonesmanoel_PCB @deccache O Haiti foi uma desgraça de fato.Mas os erros nao anulam os acertos.E quando ele fala sobre a guerra na Ucrania ele vem se posicionando muito bem,criticando a postura do zelensky',\n",
              " 'O senhor vai investir na educação da Venezuela, Argentina, Haiti,cuba, e etc países comunistas?, porque aqui no Brasil o Senhor nunca fez isso. https://t.co/jmVSYbsG2X',\n",
              " '@rsallesmma Que nada, na mão de vocês já tá virando uma mistura de deserto do Saara com Haiti',\n",
              " '@JoppertLeonardo @jonesmanoel_PCB @deccache Entramos nos BRICS, mas invadimos o Haiti a mando do Bush!\\n\\nLula diz que vai fortalecer os brics mas faz palestras no Parlamento Europeu que está tratando Rússia e china como inimigos mortais, como isso vai funcionar???']"
            ]
          },
          "metadata": {},
          "execution_count": 85
        }
      ],
      "source": [
        "tweets_orig.text.head().tolist()"
      ]
    },
    {
      "cell_type": "code",
      "execution_count": 86,
      "metadata": {
        "colab": {
          "base_uri": "https://localhost:8080/"
        },
        "id": "o_WQhu4WXc8x",
        "outputId": "30ee6e45-ef3f-4d2c-bd78-e406ee2c8c5e"
      },
      "outputs": [
        {
          "output_type": "execute_result",
          "data": {
            "text/plain": [
              "['haiti desgraca fato erros anulam acertos fala sobre guerra ucrania vem posicionando bem criticando postura zelensky',\n",
              " 'senhor vai investir educacao venezuela argentina haiti cuba etc paises comunistas porque aqui brasil senhor nunca fez',\n",
              " 'nada mao voces virando mistura deserto saara haiti',\n",
              " 'entramos brics invadimos haiti mando bush lula diz vai fortalecer brics faz palestras parlamento europeu esta tratando russia china inimigos mortais vai funcionar',\n",
              " 'haitiano entendi nada falavam']"
            ]
          },
          "metadata": {},
          "execution_count": 86
        }
      ],
      "source": [
        "tweets_pre_proc.text.head().tolist()"
      ]
    },
    {
      "cell_type": "markdown",
      "metadata": {
        "id": "W_YlFRbv8duT"
      },
      "source": [
        "###Estatística dos tweets após o pré-processamento:"
      ]
    },
    {
      "cell_type": "code",
      "execution_count": 87,
      "metadata": {
        "colab": {
          "base_uri": "https://localhost:8080/"
        },
        "id": "kOCGonzX8Q2l",
        "outputId": "2bd961b9-52d0-40a7-d1ee-815c14afe7e0"
      },
      "outputs": [
        {
          "output_type": "stream",
          "name": "stdout",
          "text": [
            "Total: 149993, Count word: 2134124, Mean words: 14.23\n",
            "\n",
            "*****Agrupado por ano****\n",
            "   Year  Count     Sum  Mean_words\n",
            "0  2018  18169  246796       13.58\n",
            "1  2019  24413  364436       14.93\n",
            "2  2020  47434  649606       13.69\n",
            "3  2021  48644  702999       14.45\n",
            "4  2022  11333  170287       15.03\n",
            "\n",
            "*****Agrupado por mês e ano****\n",
            "    Year  Month  Count     Sum  Mean_words\n",
            "0   2018      1   1949   25864       13.27\n",
            "1   2018      2   1832   24361       13.30\n",
            "2   2018      3   1025   13464       13.14\n",
            "3   2018      4    981   13426       13.69\n",
            "4   2018      5   2091   26936       12.88\n",
            "5   2018      6   1366   18512       13.55\n",
            "6   2018      7   1859   23125       12.44\n",
            "7   2018      8   1517   21022       13.86\n",
            "8   2018      9   1192   16851       14.14\n",
            "9   2018     10   1410   19898       14.11\n",
            "10  2018     11   1711   26171       15.30\n",
            "11  2018     12   1236   17166       13.89\n",
            "12  2019      1   2083   32136       15.43\n",
            "13  2019      2   3546   53123       14.98\n",
            "14  2019      3   1699   25834       15.21\n",
            "15  2019      4   1498   22724       15.17\n",
            "16  2019      5   1485   22455       15.12\n",
            "17  2019      6   2668   38570       14.46\n",
            "18  2019      7   1689   24274       14.37\n",
            "19  2019      8   1784   27029       15.15\n",
            "20  2019      9   1915   27962       14.60\n",
            "21  2019     10   2170   32640       15.04\n",
            "22  2019     11   2324   34570       14.88\n",
            "23  2019     12   1552   23119       14.90\n",
            "24  2020      1   3301   48452       14.68\n",
            "25  2020      2   2658   36238       13.63\n",
            "26  2020      3  18759  235691       12.56\n",
            "27  2020      4   3950   49478       12.53\n",
            "28  2020      5   4055   57328       14.14\n",
            "29  2020      6   2923   45037       15.41\n",
            "30  2020      7   2028   31412       15.49\n",
            "31  2020      8   2064   31614       15.32\n",
            "32  2020      9   2495   37482       15.02\n",
            "33  2020     10   1811   26755       14.77\n",
            "34  2020     11   1689   25134       14.88\n",
            "35  2020     12   1701   24985       14.69\n",
            "36  2021      1   2183   32177       14.74\n",
            "37  2021      2   2297   34759       15.13\n",
            "38  2021      3   2676   39305       14.69\n",
            "39  2021      4   2300   33218       14.44\n",
            "40  2021      5   1822   27943       15.34\n",
            "41  2021      6   2941   40965       13.93\n",
            "42  2021      7  13875  200103       14.42\n",
            "43  2021      8   9914  136213       13.74\n",
            "44  2021      9   3829   58007       15.15\n",
            "45  2021     10   2491   37101       14.89\n",
            "46  2021     11   1940   29352       15.13\n",
            "47  2021     12   2376   33856       14.25\n",
            "48  2022      1   2111   31612       14.97\n",
            "49  2022      2   2633   37697       14.32\n",
            "50  2022      3   2130   33215       15.59\n",
            "51  2022      4   1964   29559       15.05\n",
            "52  2022      5   2495   38204       15.31\n"
          ]
        }
      ],
      "source": [
        "tweets_stats(tweets_pre_proc)"
      ]
    },
    {
      "cell_type": "markdown",
      "metadata": {
        "id": "-yM03oGL-Jxo"
      },
      "source": [
        "#Lematização e stemização"
      ]
    },
    {
      "cell_type": "code",
      "execution_count": 88,
      "metadata": {
        "id": "CnC_XX9LADcR"
      },
      "outputs": [],
      "source": [
        "pln = spacy.load('pt')"
      ]
    },
    {
      "cell_type": "markdown",
      "metadata": {
        "id": "bBsgn00LCmgR"
      },
      "source": [
        "###Lematização"
      ]
    },
    {
      "cell_type": "code",
      "execution_count": 89,
      "metadata": {
        "id": "_ZJ0sYt6AS_2"
      },
      "outputs": [],
      "source": [
        "string_lem_example = 'capacetes brancos ajudaram haiti pare besteira ajudou haiti fim exercito capacetes brancos resolvem problema presos campos concentracao argentina criou'"
      ]
    },
    {
      "cell_type": "code",
      "execution_count": 90,
      "metadata": {
        "id": "KPKFg1c2-IMC"
      },
      "outputs": [],
      "source": [
        "def lemmatization(tweet):\n",
        "  document = pln(tweet)\n",
        "  return ' '.join([token.lemma_ for token in document])"
      ]
    },
    {
      "cell_type": "code",
      "execution_count": 91,
      "metadata": {
        "id": "AmCCuTS0AlRp"
      },
      "outputs": [],
      "source": [
        "tweet_lem_example = lemmatization(string_lem_example)"
      ]
    },
    {
      "cell_type": "code",
      "execution_count": 92,
      "metadata": {
        "colab": {
          "base_uri": "https://localhost:8080/",
          "height": 53
        },
        "id": "3mXcYsiFCwZu",
        "outputId": "fcb6bc3b-5e7e-44fa-b80f-6e912476aa84"
      },
      "outputs": [
        {
          "output_type": "execute_result",
          "data": {
            "text/plain": [
              "'capacete branco ajudar haiti parir besteira ajudar haiti fim exercitar capacete branco resolver problema preso campo concentracao argentino criar'"
            ],
            "application/vnd.google.colaboratory.intrinsic+json": {
              "type": "string"
            }
          },
          "metadata": {},
          "execution_count": 92
        }
      ],
      "source": [
        "tweet_lem_example"
      ]
    },
    {
      "cell_type": "code",
      "execution_count": 93,
      "metadata": {
        "id": "UOW43XYZDnTo"
      },
      "outputs": [],
      "source": [
        "tweets_lemm = tweets_pre_proc.copy()\n",
        "tweets_lemm['text'] = tweets_pre_proc['text'].map(lambda tweet: lemmatization(tweet))"
      ]
    },
    {
      "cell_type": "code",
      "execution_count": 94,
      "metadata": {
        "colab": {
          "base_uri": "https://localhost:8080/"
        },
        "id": "2dP-qxwMD8ta",
        "outputId": "ef7d0eb8-8395-4d7a-eeee-d6ada4334eee"
      },
      "outputs": [
        {
          "output_type": "execute_result",
          "data": {
            "text/plain": [
              "['haiti desgraca fato erro anular acerto falir sobrar guerra ucrania vir posicionar bem criticar posturar zelensky',\n",
              " 'senhor ir investir educacao venezuela argentino haiti cubar etc paises comunista porque aqui brasil senhor nunca fazer',\n",
              " 'nado mao voces virar misturar desertar saara haiti',\n",
              " 'entrar brics invadir haiti mandar bush lula dizer ir fortalecer brics fazer palestrar parlamentar europeu este tratar russia chino inimigo mortal ir funcionar',\n",
              " 'haitiano entender nado falar']"
            ]
          },
          "metadata": {},
          "execution_count": 94
        }
      ],
      "source": [
        "tweets_lemm.text.head().tolist()"
      ]
    },
    {
      "cell_type": "markdown",
      "metadata": {
        "id": "sDr540tzEMcg"
      },
      "source": [
        "###Stematização ( não será usado na experimentação)"
      ]
    },
    {
      "cell_type": "code",
      "execution_count": 95,
      "metadata": {
        "id": "spEstnAEEPa4"
      },
      "outputs": [],
      "source": [
        "#string_stem_example = 'capacetes brancos ajudaram haiti pare besteira ajudou haiti fim exercito capacetes brancos resolvem problema presos campos concentracao argentina criou'"
      ]
    },
    {
      "cell_type": "code",
      "execution_count": 96,
      "metadata": {
        "id": "sxGZ0sKtErVc"
      },
      "outputs": [],
      "source": [
        "# def stemming(tweet):\n",
        "#   document = pln(tweet)\n",
        "#   stemmer = nltk.stem.RSLPStemmer()\n",
        "#   return ' '.join([stemmer.stem(token.text) for token in document])"
      ]
    },
    {
      "cell_type": "code",
      "execution_count": 97,
      "metadata": {
        "id": "E5Wxc-D_Ex4_"
      },
      "outputs": [],
      "source": [
        "#string_stem_example = stemming(string_stem_example)"
      ]
    },
    {
      "cell_type": "code",
      "execution_count": 98,
      "metadata": {
        "id": "TcSVDRNCE4RQ"
      },
      "outputs": [],
      "source": [
        "# string_stem_example"
      ]
    },
    {
      "cell_type": "code",
      "execution_count": 99,
      "metadata": {
        "id": "THBmoMozOj9I"
      },
      "outputs": [],
      "source": [
        "# tweets_stem = tweets_pre_proc.copy()\n",
        "# tweets_stem['text'] = tweets_pre_proc['text'].map(lambda tweet: stemming(tweet))"
      ]
    },
    {
      "cell_type": "code",
      "execution_count": 100,
      "metadata": {
        "id": "xMDljXZzO6Mg"
      },
      "outputs": [],
      "source": [
        "#tweets_stem.text.head().tolist()"
      ]
    },
    {
      "cell_type": "markdown",
      "metadata": {
        "id": "MnRiIaCuWFmn"
      },
      "source": [
        "#Comparação de tweets originais, pré-processados, lematizados e stematizados"
      ]
    },
    {
      "cell_type": "markdown",
      "metadata": {
        "id": "IhsrDBUGWUX4"
      },
      "source": [
        "###Tweets originais"
      ]
    },
    {
      "cell_type": "code",
      "execution_count": 101,
      "metadata": {
        "colab": {
          "base_uri": "https://localhost:8080/"
        },
        "id": "mbsDEFUbWEpD",
        "outputId": "eab89adf-438c-4c85-b280-1486db21e3ee"
      },
      "outputs": [
        {
          "output_type": "execute_result",
          "data": {
            "text/plain": [
              "['@geglobo Paquetá é haitiano',\n",
              " '@BetoLuiz_RU @jonesmanoel_PCB @deccache O Haiti foi uma desgraça de fato.Mas os erros nao anulam os acertos.E quando ele fala sobre a guerra na Ucrania ele vem se posicionando muito bem,criticando a postura do zelensky',\n",
              " 'O senhor vai investir na educação da Venezuela, Argentina, Haiti,cuba, e etc países comunistas?, porque aqui no Brasil o Senhor nunca fez isso. https://t.co/jmVSYbsG2X',\n",
              " '@rsallesmma Que nada, na mão de vocês já tá virando uma mistura de deserto do Saara com Haiti',\n",
              " '@JoppertLeonardo @jonesmanoel_PCB @deccache Entramos nos BRICS, mas invadimos o Haiti a mando do Bush!\\n\\nLula diz que vai fortalecer os brics mas faz palestras no Parlamento Europeu que está tratando Rússia e china como inimigos mortais, como isso vai funcionar???']"
            ]
          },
          "metadata": {},
          "execution_count": 101
        }
      ],
      "source": [
        "tweets_orig.text.head().tolist()"
      ]
    },
    {
      "cell_type": "markdown",
      "metadata": {
        "id": "VwCswcJ2Weai"
      },
      "source": [
        "### Tweets pré-processados"
      ]
    },
    {
      "cell_type": "code",
      "execution_count": 102,
      "metadata": {
        "colab": {
          "base_uri": "https://localhost:8080/"
        },
        "id": "v_9v4lKcWdX4",
        "outputId": "ea3071c2-d678-4b29-c6d1-a5849ae11f52"
      },
      "outputs": [
        {
          "output_type": "execute_result",
          "data": {
            "text/plain": [
              "['haiti desgraca fato erros anulam acertos fala sobre guerra ucrania vem posicionando bem criticando postura zelensky',\n",
              " 'senhor vai investir educacao venezuela argentina haiti cuba etc paises comunistas porque aqui brasil senhor nunca fez',\n",
              " 'nada mao voces virando mistura deserto saara haiti',\n",
              " 'entramos brics invadimos haiti mando bush lula diz vai fortalecer brics faz palestras parlamento europeu esta tratando russia china inimigos mortais vai funcionar',\n",
              " 'haitiano entendi nada falavam']"
            ]
          },
          "metadata": {},
          "execution_count": 102
        }
      ],
      "source": [
        "tweets_pre_proc.text.head().tolist()"
      ]
    },
    {
      "cell_type": "markdown",
      "metadata": {
        "id": "dxW4UASqWmpo"
      },
      "source": [
        "###Tweets lematizados"
      ]
    },
    {
      "cell_type": "code",
      "execution_count": 103,
      "metadata": {
        "colab": {
          "base_uri": "https://localhost:8080/"
        },
        "id": "XZWfGcaFWmKj",
        "outputId": "4f63f394-6ae9-45d3-ff03-8c54700420d8"
      },
      "outputs": [
        {
          "output_type": "execute_result",
          "data": {
            "text/plain": [
              "['haiti desgraca fato erro anular acerto falir sobrar guerra ucrania vir posicionar bem criticar posturar zelensky',\n",
              " 'senhor ir investir educacao venezuela argentino haiti cubar etc paises comunista porque aqui brasil senhor nunca fazer',\n",
              " 'nado mao voces virar misturar desertar saara haiti',\n",
              " 'entrar brics invadir haiti mandar bush lula dizer ir fortalecer brics fazer palestrar parlamentar europeu este tratar russia chino inimigo mortal ir funcionar',\n",
              " 'haitiano entender nado falar']"
            ]
          },
          "metadata": {},
          "execution_count": 103
        }
      ],
      "source": [
        "tweets_lemm.text.head().tolist()"
      ]
    },
    {
      "cell_type": "markdown",
      "metadata": {
        "id": "edOZm1e_WzDB"
      },
      "source": [
        "###Tweets stematizados"
      ]
    },
    {
      "cell_type": "code",
      "execution_count": 104,
      "metadata": {
        "id": "VIAbuvtZWwxg"
      },
      "outputs": [],
      "source": [
        "#tweets_stem.text.head().tolist()"
      ]
    },
    {
      "cell_type": "markdown",
      "metadata": {
        "id": "tI_Fn8Q8hiwE"
      },
      "source": [
        "##Criando o arquivo .csv dos tweets"
      ]
    },
    {
      "cell_type": "code",
      "execution_count": 106,
      "metadata": {
        "id": "REQ5FB9hHOtE"
      },
      "outputs": [],
      "source": [
        "#df = pd.DataFrame(tweets_pre_proc)\n",
        "dfl = pd.DataFrame(tweets_lemm)\n",
        "#df.to_csv('/content/drive/My Drive/Colab Notebooks/TCC/csv/pre_processed_tweets.csv')\n",
        "dfl.to_csv('/content/drive/My Drive/Colab Notebooks/TCC/csv/tweets_lematizados.csv')"
      ]
    }
  ],
  "metadata": {
    "colab": {
      "collapsed_sections": [],
      "name": "preprocessing_tweets.ipynb",
      "provenance": [],
      "authorship_tag": "ABX9TyMvAF+sPHyb0MGTtJWbzrUv",
      "include_colab_link": true
    },
    "kernelspec": {
      "display_name": "Python 3",
      "name": "python3"
    },
    "language_info": {
      "name": "python"
    }
  },
  "nbformat": 4,
  "nbformat_minor": 0
}