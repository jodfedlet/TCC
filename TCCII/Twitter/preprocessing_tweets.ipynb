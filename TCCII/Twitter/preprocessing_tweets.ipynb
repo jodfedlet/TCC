{
  "cells": [
    {
      "cell_type": "markdown",
      "metadata": {
        "id": "view-in-github",
        "colab_type": "text"
      },
      "source": [
        "<a href=\"https://colab.research.google.com/github/jodfedlet/TCC/blob/main/TCCII/Twitter/preprocessing_tweets.ipynb\" target=\"_parent\"><img src=\"https://colab.research.google.com/assets/colab-badge.svg\" alt=\"Open In Colab\"/></a>"
      ]
    },
    {
      "cell_type": "markdown",
      "metadata": {
        "id": "0qZ61swqh5PS"
      },
      "source": [
        ""
      ]
    },
    {
      "cell_type": "markdown",
      "metadata": {
        "id": "jlCU2XyBh6Jp"
      },
      "source": [
        "###Importando/instalando bibliotecas"
      ]
    },
    {
      "cell_type": "code",
      "execution_count": 3,
      "metadata": {
        "colab": {
          "base_uri": "https://localhost:8080/"
        },
        "id": "7qwmUtJFaqq5",
        "outputId": "17b3750b-03ab-4023-f893-2d70e361036e"
      },
      "outputs": [
        {
          "output_type": "stream",
          "name": "stdout",
          "text": [
            "Looking in indexes: https://pypi.org/simple, https://us-python.pkg.dev/colab-wheels/public/simple/\n",
            "Requirement already satisfied: unidecode in /usr/local/lib/python3.7/dist-packages (1.3.4)\n",
            "Looking in indexes: https://pypi.org/simple, https://us-python.pkg.dev/colab-wheels/public/simple/\n",
            "Collecting pt_core_news_sm==2.2.5\n",
            "  Downloading https://github.com/explosion/spacy-models/releases/download/pt_core_news_sm-2.2.5/pt_core_news_sm-2.2.5.tar.gz (21.2 MB)\n",
            "\u001b[K     |████████████████████████████████| 21.2 MB 90.7 MB/s \n",
            "\u001b[?25hRequirement already satisfied: spacy>=2.2.2 in /usr/local/lib/python3.7/dist-packages (from pt_core_news_sm==2.2.5) (2.2.4)\n",
            "Requirement already satisfied: srsly<1.1.0,>=1.0.2 in /usr/local/lib/python3.7/dist-packages (from spacy>=2.2.2->pt_core_news_sm==2.2.5) (1.0.5)\n",
            "Requirement already satisfied: setuptools in /usr/local/lib/python3.7/dist-packages (from spacy>=2.2.2->pt_core_news_sm==2.2.5) (57.4.0)\n",
            "Requirement already satisfied: requests<3.0.0,>=2.13.0 in /usr/local/lib/python3.7/dist-packages (from spacy>=2.2.2->pt_core_news_sm==2.2.5) (2.23.0)\n",
            "Requirement already satisfied: plac<1.2.0,>=0.9.6 in /usr/local/lib/python3.7/dist-packages (from spacy>=2.2.2->pt_core_news_sm==2.2.5) (1.1.3)\n",
            "Requirement already satisfied: cymem<2.1.0,>=2.0.2 in /usr/local/lib/python3.7/dist-packages (from spacy>=2.2.2->pt_core_news_sm==2.2.5) (2.0.6)\n",
            "Requirement already satisfied: catalogue<1.1.0,>=0.0.7 in /usr/local/lib/python3.7/dist-packages (from spacy>=2.2.2->pt_core_news_sm==2.2.5) (1.0.0)\n",
            "Requirement already satisfied: tqdm<5.0.0,>=4.38.0 in /usr/local/lib/python3.7/dist-packages (from spacy>=2.2.2->pt_core_news_sm==2.2.5) (4.64.0)\n",
            "Requirement already satisfied: numpy>=1.15.0 in /usr/local/lib/python3.7/dist-packages (from spacy>=2.2.2->pt_core_news_sm==2.2.5) (1.21.6)\n",
            "Requirement already satisfied: thinc==7.4.0 in /usr/local/lib/python3.7/dist-packages (from spacy>=2.2.2->pt_core_news_sm==2.2.5) (7.4.0)\n",
            "Requirement already satisfied: preshed<3.1.0,>=3.0.2 in /usr/local/lib/python3.7/dist-packages (from spacy>=2.2.2->pt_core_news_sm==2.2.5) (3.0.6)\n",
            "Requirement already satisfied: blis<0.5.0,>=0.4.0 in /usr/local/lib/python3.7/dist-packages (from spacy>=2.2.2->pt_core_news_sm==2.2.5) (0.4.1)\n",
            "Requirement already satisfied: wasabi<1.1.0,>=0.4.0 in /usr/local/lib/python3.7/dist-packages (from spacy>=2.2.2->pt_core_news_sm==2.2.5) (0.9.1)\n",
            "Requirement already satisfied: murmurhash<1.1.0,>=0.28.0 in /usr/local/lib/python3.7/dist-packages (from spacy>=2.2.2->pt_core_news_sm==2.2.5) (1.0.7)\n",
            "Requirement already satisfied: importlib-metadata>=0.20 in /usr/local/lib/python3.7/dist-packages (from catalogue<1.1.0,>=0.0.7->spacy>=2.2.2->pt_core_news_sm==2.2.5) (4.11.4)\n",
            "Requirement already satisfied: typing-extensions>=3.6.4 in /usr/local/lib/python3.7/dist-packages (from importlib-metadata>=0.20->catalogue<1.1.0,>=0.0.7->spacy>=2.2.2->pt_core_news_sm==2.2.5) (4.2.0)\n",
            "Requirement already satisfied: zipp>=0.5 in /usr/local/lib/python3.7/dist-packages (from importlib-metadata>=0.20->catalogue<1.1.0,>=0.0.7->spacy>=2.2.2->pt_core_news_sm==2.2.5) (3.8.0)\n",
            "Requirement already satisfied: urllib3!=1.25.0,!=1.25.1,<1.26,>=1.21.1 in /usr/local/lib/python3.7/dist-packages (from requests<3.0.0,>=2.13.0->spacy>=2.2.2->pt_core_news_sm==2.2.5) (1.24.3)\n",
            "Requirement already satisfied: chardet<4,>=3.0.2 in /usr/local/lib/python3.7/dist-packages (from requests<3.0.0,>=2.13.0->spacy>=2.2.2->pt_core_news_sm==2.2.5) (3.0.4)\n",
            "Requirement already satisfied: certifi>=2017.4.17 in /usr/local/lib/python3.7/dist-packages (from requests<3.0.0,>=2.13.0->spacy>=2.2.2->pt_core_news_sm==2.2.5) (2022.5.18.1)\n",
            "Requirement already satisfied: idna<3,>=2.5 in /usr/local/lib/python3.7/dist-packages (from requests<3.0.0,>=2.13.0->spacy>=2.2.2->pt_core_news_sm==2.2.5) (2.10)\n",
            "\u001b[38;5;2m✔ Download and installation successful\u001b[0m\n",
            "You can now load the model via spacy.load('pt_core_news_sm')\n",
            "\u001b[38;5;2m✔ Linking successful\u001b[0m\n",
            "/usr/local/lib/python3.7/dist-packages/pt_core_news_sm -->\n",
            "/usr/local/lib/python3.7/dist-packages/spacy/data/pt\n",
            "You can now load the model via spacy.load('pt')\n",
            "Looking in indexes: https://pypi.org/simple, https://us-python.pkg.dev/colab-wheels/public/simple/\n",
            "Requirement already satisfied: gensim in /usr/local/lib/python3.7/dist-packages (3.6.0)\n",
            "Requirement already satisfied: scipy>=0.18.1 in /usr/local/lib/python3.7/dist-packages (from gensim) (1.4.1)\n",
            "Requirement already satisfied: numpy>=1.11.3 in /usr/local/lib/python3.7/dist-packages (from gensim) (1.21.6)\n",
            "Requirement already satisfied: six>=1.5.0 in /usr/local/lib/python3.7/dist-packages (from gensim) (1.15.0)\n",
            "Requirement already satisfied: smart-open>=1.2.1 in /usr/local/lib/python3.7/dist-packages (from gensim) (6.0.0)\n"
          ]
        }
      ],
      "source": [
        "!pip install unidecode\n",
        "!python3 -m spacy download pt\n",
        "!pip install gensim"
      ]
    },
    {
      "cell_type": "code",
      "execution_count": 4,
      "metadata": {
        "colab": {
          "base_uri": "https://localhost:8080/"
        },
        "id": "72EwE3OMOl0X",
        "outputId": "3f23808a-82af-4445-f23e-5d78b3990ccc"
      },
      "outputs": [
        {
          "output_type": "stream",
          "name": "stdout",
          "text": [
            "Mounted at /content/drive\n",
            "[nltk_data] Downloading collection 'all-corpora'\n",
            "[nltk_data]    | \n",
            "[nltk_data]    | Downloading package abc to /root/nltk_data...\n",
            "[nltk_data]    |   Unzipping corpora/abc.zip.\n",
            "[nltk_data]    | Downloading package alpino to /root/nltk_data...\n",
            "[nltk_data]    |   Unzipping corpora/alpino.zip.\n",
            "[nltk_data]    | Downloading package biocreative_ppi to\n",
            "[nltk_data]    |     /root/nltk_data...\n",
            "[nltk_data]    |   Unzipping corpora/biocreative_ppi.zip.\n",
            "[nltk_data]    | Downloading package brown to /root/nltk_data...\n",
            "[nltk_data]    |   Unzipping corpora/brown.zip.\n",
            "[nltk_data]    | Downloading package brown_tei to /root/nltk_data...\n",
            "[nltk_data]    |   Unzipping corpora/brown_tei.zip.\n",
            "[nltk_data]    | Downloading package cess_cat to /root/nltk_data...\n",
            "[nltk_data]    |   Unzipping corpora/cess_cat.zip.\n",
            "[nltk_data]    | Downloading package cess_esp to /root/nltk_data...\n",
            "[nltk_data]    |   Unzipping corpora/cess_esp.zip.\n",
            "[nltk_data]    | Downloading package chat80 to /root/nltk_data...\n",
            "[nltk_data]    |   Unzipping corpora/chat80.zip.\n",
            "[nltk_data]    | Downloading package city_database to\n",
            "[nltk_data]    |     /root/nltk_data...\n",
            "[nltk_data]    |   Unzipping corpora/city_database.zip.\n",
            "[nltk_data]    | Downloading package cmudict to /root/nltk_data...\n",
            "[nltk_data]    |   Unzipping corpora/cmudict.zip.\n",
            "[nltk_data]    | Downloading package comparative_sentences to\n",
            "[nltk_data]    |     /root/nltk_data...\n",
            "[nltk_data]    |   Unzipping corpora/comparative_sentences.zip.\n",
            "[nltk_data]    | Downloading package comtrans to /root/nltk_data...\n",
            "[nltk_data]    | Downloading package conll2000 to /root/nltk_data...\n",
            "[nltk_data]    |   Unzipping corpora/conll2000.zip.\n",
            "[nltk_data]    | Downloading package conll2002 to /root/nltk_data...\n",
            "[nltk_data]    |   Unzipping corpora/conll2002.zip.\n",
            "[nltk_data]    | Downloading package conll2007 to /root/nltk_data...\n",
            "[nltk_data]    | Downloading package crubadan to /root/nltk_data...\n",
            "[nltk_data]    |   Unzipping corpora/crubadan.zip.\n",
            "[nltk_data]    | Downloading package dependency_treebank to\n",
            "[nltk_data]    |     /root/nltk_data...\n",
            "[nltk_data]    |   Unzipping corpora/dependency_treebank.zip.\n",
            "[nltk_data]    | Downloading package dolch to /root/nltk_data...\n",
            "[nltk_data]    |   Unzipping corpora/dolch.zip.\n",
            "[nltk_data]    | Downloading package europarl_raw to\n",
            "[nltk_data]    |     /root/nltk_data...\n",
            "[nltk_data]    |   Unzipping corpora/europarl_raw.zip.\n",
            "[nltk_data]    | Downloading package extended_omw to\n",
            "[nltk_data]    |     /root/nltk_data...\n",
            "[nltk_data]    |   Unzipping corpora/extended_omw.zip.\n",
            "[nltk_data]    | Downloading package floresta to /root/nltk_data...\n",
            "[nltk_data]    |   Unzipping corpora/floresta.zip.\n",
            "[nltk_data]    | Downloading package framenet_v15 to\n",
            "[nltk_data]    |     /root/nltk_data...\n",
            "[nltk_data]    |   Unzipping corpora/framenet_v15.zip.\n",
            "[nltk_data]    | Downloading package framenet_v17 to\n",
            "[nltk_data]    |     /root/nltk_data...\n",
            "[nltk_data]    |   Unzipping corpora/framenet_v17.zip.\n",
            "[nltk_data]    | Downloading package gazetteers to /root/nltk_data...\n",
            "[nltk_data]    |   Unzipping corpora/gazetteers.zip.\n",
            "[nltk_data]    | Downloading package genesis to /root/nltk_data...\n",
            "[nltk_data]    |   Unzipping corpora/genesis.zip.\n",
            "[nltk_data]    | Downloading package gutenberg to /root/nltk_data...\n",
            "[nltk_data]    |   Unzipping corpora/gutenberg.zip.\n",
            "[nltk_data]    | Downloading package ieer to /root/nltk_data...\n",
            "[nltk_data]    |   Unzipping corpora/ieer.zip.\n",
            "[nltk_data]    | Downloading package inaugural to /root/nltk_data...\n",
            "[nltk_data]    |   Unzipping corpora/inaugural.zip.\n",
            "[nltk_data]    | Downloading package indian to /root/nltk_data...\n",
            "[nltk_data]    |   Unzipping corpora/indian.zip.\n",
            "[nltk_data]    | Downloading package jeita to /root/nltk_data...\n",
            "[nltk_data]    | Downloading package kimmo to /root/nltk_data...\n",
            "[nltk_data]    |   Unzipping corpora/kimmo.zip.\n",
            "[nltk_data]    | Downloading package knbc to /root/nltk_data...\n",
            "[nltk_data]    | Downloading package lin_thesaurus to\n",
            "[nltk_data]    |     /root/nltk_data...\n",
            "[nltk_data]    |   Unzipping corpora/lin_thesaurus.zip.\n",
            "[nltk_data]    | Downloading package mac_morpho to /root/nltk_data...\n",
            "[nltk_data]    |   Unzipping corpora/mac_morpho.zip.\n",
            "[nltk_data]    | Downloading package machado to /root/nltk_data...\n",
            "[nltk_data]    | Downloading package masc_tagged to /root/nltk_data...\n",
            "[nltk_data]    | Downloading package movie_reviews to\n",
            "[nltk_data]    |     /root/nltk_data...\n",
            "[nltk_data]    |   Unzipping corpora/movie_reviews.zip.\n",
            "[nltk_data]    | Downloading package mte_teip5 to /root/nltk_data...\n",
            "[nltk_data]    |   Unzipping corpora/mte_teip5.zip.\n",
            "[nltk_data]    | Downloading package names to /root/nltk_data...\n",
            "[nltk_data]    |   Unzipping corpora/names.zip.\n",
            "[nltk_data]    | Downloading package nombank.1.0 to /root/nltk_data...\n",
            "[nltk_data]    | Downloading package nonbreaking_prefixes to\n",
            "[nltk_data]    |     /root/nltk_data...\n",
            "[nltk_data]    |   Unzipping corpora/nonbreaking_prefixes.zip.\n",
            "[nltk_data]    | Downloading package nps_chat to /root/nltk_data...\n",
            "[nltk_data]    |   Unzipping corpora/nps_chat.zip.\n",
            "[nltk_data]    | Downloading package omw to /root/nltk_data...\n",
            "[nltk_data]    |   Unzipping corpora/omw.zip.\n",
            "[nltk_data]    | Downloading package omw-1.4 to /root/nltk_data...\n",
            "[nltk_data]    |   Unzipping corpora/omw-1.4.zip.\n",
            "[nltk_data]    | Downloading package opinion_lexicon to\n",
            "[nltk_data]    |     /root/nltk_data...\n",
            "[nltk_data]    |   Unzipping corpora/opinion_lexicon.zip.\n",
            "[nltk_data]    | Downloading package panlex_swadesh to\n",
            "[nltk_data]    |     /root/nltk_data...\n",
            "[nltk_data]    | Downloading package paradigms to /root/nltk_data...\n",
            "[nltk_data]    |   Unzipping corpora/paradigms.zip.\n",
            "[nltk_data]    | Downloading package pe08 to /root/nltk_data...\n",
            "[nltk_data]    |   Unzipping corpora/pe08.zip.\n",
            "[nltk_data]    | Downloading package pil to /root/nltk_data...\n",
            "[nltk_data]    |   Unzipping corpora/pil.zip.\n",
            "[nltk_data]    | Downloading package pl196x to /root/nltk_data...\n",
            "[nltk_data]    |   Unzipping corpora/pl196x.zip.\n",
            "[nltk_data]    | Downloading package ppattach to /root/nltk_data...\n",
            "[nltk_data]    |   Unzipping corpora/ppattach.zip.\n",
            "[nltk_data]    | Downloading package problem_reports to\n",
            "[nltk_data]    |     /root/nltk_data...\n",
            "[nltk_data]    |   Unzipping corpora/problem_reports.zip.\n",
            "[nltk_data]    | Downloading package product_reviews_1 to\n",
            "[nltk_data]    |     /root/nltk_data...\n",
            "[nltk_data]    |   Unzipping corpora/product_reviews_1.zip.\n",
            "[nltk_data]    | Downloading package product_reviews_2 to\n",
            "[nltk_data]    |     /root/nltk_data...\n",
            "[nltk_data]    |   Unzipping corpora/product_reviews_2.zip.\n",
            "[nltk_data]    | Downloading package propbank to /root/nltk_data...\n",
            "[nltk_data]    | Downloading package pros_cons to /root/nltk_data...\n",
            "[nltk_data]    |   Unzipping corpora/pros_cons.zip.\n",
            "[nltk_data]    | Downloading package ptb to /root/nltk_data...\n",
            "[nltk_data]    |   Unzipping corpora/ptb.zip.\n",
            "[nltk_data]    | Downloading package qc to /root/nltk_data...\n",
            "[nltk_data]    |   Unzipping corpora/qc.zip.\n",
            "[nltk_data]    | Downloading package reuters to /root/nltk_data...\n",
            "[nltk_data]    | Downloading package rte to /root/nltk_data...\n",
            "[nltk_data]    |   Unzipping corpora/rte.zip.\n",
            "[nltk_data]    | Downloading package semcor to /root/nltk_data...\n",
            "[nltk_data]    | Downloading package senseval to /root/nltk_data...\n",
            "[nltk_data]    |   Unzipping corpora/senseval.zip.\n",
            "[nltk_data]    | Downloading package sentence_polarity to\n",
            "[nltk_data]    |     /root/nltk_data...\n",
            "[nltk_data]    |   Unzipping corpora/sentence_polarity.zip.\n",
            "[nltk_data]    | Downloading package sentiwordnet to\n",
            "[nltk_data]    |     /root/nltk_data...\n",
            "[nltk_data]    |   Unzipping corpora/sentiwordnet.zip.\n",
            "[nltk_data]    | Downloading package shakespeare to /root/nltk_data...\n",
            "[nltk_data]    |   Unzipping corpora/shakespeare.zip.\n",
            "[nltk_data]    | Downloading package sinica_treebank to\n",
            "[nltk_data]    |     /root/nltk_data...\n",
            "[nltk_data]    |   Unzipping corpora/sinica_treebank.zip.\n",
            "[nltk_data]    | Downloading package smultron to /root/nltk_data...\n",
            "[nltk_data]    |   Unzipping corpora/smultron.zip.\n",
            "[nltk_data]    | Downloading package state_union to /root/nltk_data...\n",
            "[nltk_data]    |   Unzipping corpora/state_union.zip.\n",
            "[nltk_data]    | Downloading package stopwords to /root/nltk_data...\n",
            "[nltk_data]    |   Unzipping corpora/stopwords.zip.\n",
            "[nltk_data]    | Downloading package subjectivity to\n",
            "[nltk_data]    |     /root/nltk_data...\n",
            "[nltk_data]    |   Unzipping corpora/subjectivity.zip.\n",
            "[nltk_data]    | Downloading package swadesh to /root/nltk_data...\n",
            "[nltk_data]    |   Unzipping corpora/swadesh.zip.\n",
            "[nltk_data]    | Downloading package switchboard to /root/nltk_data...\n",
            "[nltk_data]    |   Unzipping corpora/switchboard.zip.\n",
            "[nltk_data]    | Downloading package timit to /root/nltk_data...\n",
            "[nltk_data]    |   Unzipping corpora/timit.zip.\n",
            "[nltk_data]    | Downloading package toolbox to /root/nltk_data...\n",
            "[nltk_data]    |   Unzipping corpora/toolbox.zip.\n",
            "[nltk_data]    | Downloading package treebank to /root/nltk_data...\n",
            "[nltk_data]    |   Unzipping corpora/treebank.zip.\n",
            "[nltk_data]    | Downloading package twitter_samples to\n",
            "[nltk_data]    |     /root/nltk_data...\n",
            "[nltk_data]    |   Unzipping corpora/twitter_samples.zip.\n",
            "[nltk_data]    | Downloading package udhr to /root/nltk_data...\n",
            "[nltk_data]    |   Unzipping corpora/udhr.zip.\n",
            "[nltk_data]    | Downloading package udhr2 to /root/nltk_data...\n",
            "[nltk_data]    |   Unzipping corpora/udhr2.zip.\n",
            "[nltk_data]    | Downloading package unicode_samples to\n",
            "[nltk_data]    |     /root/nltk_data...\n",
            "[nltk_data]    |   Unzipping corpora/unicode_samples.zip.\n",
            "[nltk_data]    | Downloading package universal_treebanks_v20 to\n",
            "[nltk_data]    |     /root/nltk_data...\n",
            "[nltk_data]    | Downloading package verbnet to /root/nltk_data...\n",
            "[nltk_data]    |   Unzipping corpora/verbnet.zip.\n",
            "[nltk_data]    | Downloading package verbnet3 to /root/nltk_data...\n",
            "[nltk_data]    |   Unzipping corpora/verbnet3.zip.\n",
            "[nltk_data]    | Downloading package webtext to /root/nltk_data...\n",
            "[nltk_data]    |   Unzipping corpora/webtext.zip.\n",
            "[nltk_data]    | Downloading package wordnet to /root/nltk_data...\n",
            "[nltk_data]    |   Unzipping corpora/wordnet.zip.\n",
            "[nltk_data]    | Downloading package wordnet2021 to /root/nltk_data...\n",
            "[nltk_data]    |   Unzipping corpora/wordnet2021.zip.\n",
            "[nltk_data]    | Downloading package wordnet31 to /root/nltk_data...\n",
            "[nltk_data]    |   Unzipping corpora/wordnet31.zip.\n",
            "[nltk_data]    | Downloading package wordnet_ic to /root/nltk_data...\n",
            "[nltk_data]    |   Unzipping corpora/wordnet_ic.zip.\n",
            "[nltk_data]    | Downloading package words to /root/nltk_data...\n",
            "[nltk_data]    |   Unzipping corpora/words.zip.\n",
            "[nltk_data]    | Downloading package ycoe to /root/nltk_data...\n",
            "[nltk_data]    |   Unzipping corpora/ycoe.zip.\n",
            "[nltk_data]    | \n",
            "[nltk_data]  Done downloading collection all-corpora\n",
            "[nltk_data] Downloading package punkt to /root/nltk_data...\n",
            "[nltk_data]   Unzipping tokenizers/punkt.zip.\n",
            "[nltk_data] Downloading package rslp to /root/nltk_data...\n",
            "[nltk_data]   Unzipping stemmers/rslp.zip.\n"
          ]
        }
      ],
      "source": [
        "\n",
        "import pandas as pd\n",
        "import numpy as np\n",
        "import nltk\n",
        "import re\n",
        "import spacy\n",
        "import gensim\n",
        "import matplotlib as mpl\n",
        "import matplotlib.pyplot as plt\n",
        "from nltk.tokenize import word_tokenize\n",
        "from google.colab import drive\n",
        "drive.mount(\"/content/drive\")\n",
        "nltk.download('all-corpora')\n",
        "nltk.download('punkt')\n",
        "nltk.download('rslp')\n",
        "\n",
        "from nltk.corpus import stopwords\n",
        "from unidecode import unidecode\n",
        "from nltk.tokenize import word_tokenize\n",
        "from nltk.tokenize import wordpunct_tokenize\n",
        "from nltk import regexp_tokenize\n",
        "from gensim.models import Phrases\n"
      ]
    },
    {
      "cell_type": "markdown",
      "metadata": {
        "id": "gR_wWs7KB_c1"
      },
      "source": [
        "# Carregamento dos tweets"
      ]
    },
    {
      "cell_type": "code",
      "execution_count": 5,
      "metadata": {
        "id": "0KckrkjugjpP"
      },
      "outputs": [],
      "source": [
        "try:\n",
        "  tweets_orig = pd.read_csv('/content/drive/My Drive/Colab Notebooks/TCC/csv/all_tweets_with_retweets.csv', lineterminator='\\n', index_col=0)\n",
        "except:\n",
        "  print(\"Não foi possível carregar o arquivo\")"
      ]
    },
    {
      "cell_type": "code",
      "execution_count": 6,
      "metadata": {
        "colab": {
          "base_uri": "https://localhost:8080/"
        },
        "id": "7fHGAMSSMHCG",
        "outputId": "e9d1a38a-8235-41d2-8ca4-65d78e41b674"
      },
      "outputs": [
        {
          "output_type": "execute_result",
          "data": {
            "text/plain": [
              "(185348, 4)"
            ]
          },
          "metadata": {},
          "execution_count": 6
        }
      ],
      "source": [
        "tweets_orig.shape"
      ]
    },
    {
      "cell_type": "markdown",
      "metadata": {
        "id": "FhdF2XyEvwnY"
      },
      "source": [
        "#Estatística dos tweets"
      ]
    },
    {
      "cell_type": "code",
      "execution_count": 7,
      "metadata": {
        "id": "gLr4BzuEvxXf"
      },
      "outputs": [],
      "source": [
        "def tweets_stats(df, option):\n",
        "  df['datetime'] = pd.to_datetime(df.datetime, format='%Y-%m-%d %H:%M:%S')\n",
        "\n",
        "  def get_df_len__count_words__mean(df):\n",
        "    count_all_tweets = len(df)\n",
        "\n",
        "    if option == 'pre':\n",
        "      df_text = df['text_preprocessed']\n",
        "    elif option =='big':\n",
        "       df_text = df['bigrams_text']\n",
        "    else:\n",
        "       df_text = df['text']\n",
        "\n",
        "    df['count_word'] = df_text.str.split().str.len()\n",
        "    count_all_words = df['count_word'].sum()\n",
        "    mean = round(count_all_words / count_all_tweets, 2)\n",
        "    return (df, count_all_tweets, count_all_words, mean)\n",
        "\n",
        "  #data by year\n",
        "  def plot_by_year(): \n",
        "    by_year = df.groupby([df['datetime'].dt.year.rename('Year')]).agg({'tweet_id':['count'], 'count_word': ['sum']}).reset_index()\n",
        "    by_year.columns = ['Year', 'Count', 'Sum']\n",
        "    by_year = by_year.assign(Mean_words = lambda x: round(x['Sum'] / x['Count'], 2))\n",
        "    print(by_year)\n",
        "\n",
        "  #by year month\n",
        "  def plot_by_year_and_month():\n",
        "    by_year_month = df.groupby([df['datetime'].dt.year.rename('Year'), df['datetime'].dt.month.rename('Month')]).agg({'tweet_id':['count'], 'count_word': ['sum']}).reset_index()\n",
        "    by_year_month.columns = ['Year', 'Month', 'Count', 'Sum']\n",
        "    by_year_month = by_year_month.assign(Mean_words = lambda x: round(x['Sum'] / x['Count'], 2))\n",
        "    print(by_year_month)\n",
        "   \n",
        "  df, df_len, count_words, mean_words  = get_df_len__count_words__mean(df)\n",
        "  print('Total: {0}, Count word: {1}, Mean words: {2}'.format(df_len,count_words, mean_words))\n",
        "  print()\n",
        "  print('*****Agrupado por ano****')\n",
        "  plot_by_year()\n",
        "  print()\n",
        "  print('*****Agrupado por mês e ano****')\n",
        "  plot_by_year_and_month()"
      ]
    },
    {
      "cell_type": "markdown",
      "metadata": {
        "id": "x7N_CmNr7JVo"
      },
      "source": [
        "###Estatística dos tweets antes do pré-processamento:"
      ]
    },
    {
      "cell_type": "code",
      "execution_count": 8,
      "metadata": {
        "colab": {
          "base_uri": "https://localhost:8080/"
        },
        "id": "bz9Mdnp7wCQI",
        "outputId": "e67eae3b-5797-430b-8d24-ea3c8d7a5872"
      },
      "outputs": [
        {
          "output_type": "stream",
          "name": "stdout",
          "text": [
            "Total: 185348, Count word: 4542561, Mean words: 24.51\n",
            "\n",
            "*****Agrupado por ano****\n",
            "   Year  Count      Sum  Mean_words\n",
            "0  2018  23691   531047       22.42\n",
            "1  2019  29739   742523       24.97\n",
            "2  2020  56375  1317064       23.36\n",
            "3  2021  62625  1621237       25.89\n",
            "4  2022  12918   330690       25.60\n",
            "\n",
            "*****Agrupado por mês e ano****\n",
            "    Year  Month  Count     Sum  Mean_words\n",
            "0   2018      1   2564   56315       21.96\n",
            "1   2018      2   2525   54548       21.60\n",
            "2   2018      3   1300   28565       21.97\n",
            "3   2018      4   1298   29096       22.42\n",
            "4   2018      5   2613   57054       21.83\n",
            "5   2018      6   1634   37871       23.18\n",
            "6   2018      7   2412   48864       20.26\n",
            "7   2018      8   1978   44443       22.47\n",
            "8   2018      9   1558   36399       23.36\n",
            "9   2018     10   1909   43484       22.78\n",
            "10  2018     11   2170   55271       25.47\n",
            "11  2018     12   1730   39137       22.62\n",
            "12  2019      1   2532   65964       26.05\n",
            "13  2019      2   4208  105975       25.18\n",
            "14  2019      3   2106   52913       25.12\n",
            "15  2019      4   1829   46041       25.17\n",
            "16  2019      5   1772   45288       25.56\n",
            "17  2019      6   3417   81326       23.80\n",
            "18  2019      7   1938   48051       24.79\n",
            "19  2019      8   2078   54021       26.00\n",
            "20  2019      9   2299   56664       24.65\n",
            "21  2019     10   2630   65245       24.81\n",
            "22  2019     11   2872   71319       24.83\n",
            "23  2019     12   2058   49716       24.16\n",
            "24  2020      1   3992   97314       24.38\n",
            "25  2020      2   3189   75608       23.71\n",
            "26  2020      3  21886  481147       21.98\n",
            "27  2020      4   4797  100957       21.05\n",
            "28  2020      5   4852  117714       24.26\n",
            "29  2020      6   3441   88949       25.85\n",
            "30  2020      7   2372   62103       26.18\n",
            "31  2020      8   2395   61781       25.80\n",
            "32  2020      9   3017   75591       25.06\n",
            "33  2020     10   2257   54343       24.08\n",
            "34  2020     11   2083   49910       23.96\n",
            "35  2020     12   2094   51647       24.66\n",
            "36  2021      1   4691  163826       34.92\n",
            "37  2021      2   4306  141194       32.79\n",
            "38  2021      3   4111  122626       29.83\n",
            "39  2021      4   2818   69243       24.57\n",
            "40  2021      5   2111   55012       26.06\n",
            "41  2021      6   3576   84692       23.68\n",
            "42  2021      7  16628  399342       24.02\n",
            "43  2021      8  11876  271635       22.87\n",
            "44  2021      9   4489  114690       25.55\n",
            "45  2021     10   3010   73709       24.49\n",
            "46  2021     11   2251   58409       25.95\n",
            "47  2021     12   2758   66859       24.24\n",
            "48  2022      1   2469   62022       25.12\n",
            "49  2022      2   3010   72629       24.13\n",
            "50  2022      3   2388   63724       26.69\n",
            "51  2022      4   2220   57334       25.83\n",
            "52  2022      5   2831   74981       26.49\n"
          ]
        }
      ],
      "source": [
        "tweets_stats(tweets_orig, 'ori')"
      ]
    },
    {
      "cell_type": "markdown",
      "metadata": {
        "id": "dgOt6eY9GGIN"
      },
      "source": [
        "#Pegar os stop words da língua portuguesa usando NLTK"
      ]
    },
    {
      "cell_type": "code",
      "execution_count": 9,
      "metadata": {
        "id": "MD9FttR_ZujT"
      },
      "outputs": [],
      "source": [
        "stop_words = set(stopwords.words('portuguese'))"
      ]
    },
    {
      "cell_type": "code",
      "execution_count": 10,
      "metadata": {
        "colab": {
          "base_uri": "https://localhost:8080/"
        },
        "id": "LItshnuibmxO",
        "outputId": "a043926a-6c7e-4512-c766-2b41948bc095"
      },
      "outputs": [
        {
          "output_type": "execute_result",
          "data": {
            "text/plain": [
              "set"
            ]
          },
          "metadata": {},
          "execution_count": 10
        }
      ],
      "source": [
        "type(stop_words)\n"
      ]
    },
    {
      "cell_type": "code",
      "execution_count": 11,
      "metadata": {
        "colab": {
          "base_uri": "https://localhost:8080/"
        },
        "id": "dxY7V9fec_-4",
        "outputId": "eda47e27-96f4-4096-8bb4-d38f4dc787cd"
      },
      "outputs": [
        {
          "output_type": "execute_result",
          "data": {
            "text/plain": [
              "{'a',\n",
              " 'ao',\n",
              " 'aos',\n",
              " 'aquela',\n",
              " 'aquelas',\n",
              " 'aquele',\n",
              " 'aqueles',\n",
              " 'aquilo',\n",
              " 'as',\n",
              " 'até',\n",
              " 'com',\n",
              " 'como',\n",
              " 'da',\n",
              " 'das',\n",
              " 'de',\n",
              " 'dela',\n",
              " 'delas',\n",
              " 'dele',\n",
              " 'deles',\n",
              " 'depois',\n",
              " 'do',\n",
              " 'dos',\n",
              " 'e',\n",
              " 'ela',\n",
              " 'elas',\n",
              " 'ele',\n",
              " 'eles',\n",
              " 'em',\n",
              " 'entre',\n",
              " 'era',\n",
              " 'eram',\n",
              " 'essa',\n",
              " 'essas',\n",
              " 'esse',\n",
              " 'esses',\n",
              " 'esta',\n",
              " 'estamos',\n",
              " 'estas',\n",
              " 'estava',\n",
              " 'estavam',\n",
              " 'este',\n",
              " 'esteja',\n",
              " 'estejam',\n",
              " 'estejamos',\n",
              " 'estes',\n",
              " 'esteve',\n",
              " 'estive',\n",
              " 'estivemos',\n",
              " 'estiver',\n",
              " 'estivera',\n",
              " 'estiveram',\n",
              " 'estiverem',\n",
              " 'estivermos',\n",
              " 'estivesse',\n",
              " 'estivessem',\n",
              " 'estivéramos',\n",
              " 'estivéssemos',\n",
              " 'estou',\n",
              " 'está',\n",
              " 'estávamos',\n",
              " 'estão',\n",
              " 'eu',\n",
              " 'foi',\n",
              " 'fomos',\n",
              " 'for',\n",
              " 'fora',\n",
              " 'foram',\n",
              " 'forem',\n",
              " 'formos',\n",
              " 'fosse',\n",
              " 'fossem',\n",
              " 'fui',\n",
              " 'fôramos',\n",
              " 'fôssemos',\n",
              " 'haja',\n",
              " 'hajam',\n",
              " 'hajamos',\n",
              " 'havemos',\n",
              " 'hei',\n",
              " 'houve',\n",
              " 'houvemos',\n",
              " 'houver',\n",
              " 'houvera',\n",
              " 'houveram',\n",
              " 'houverei',\n",
              " 'houverem',\n",
              " 'houveremos',\n",
              " 'houveria',\n",
              " 'houveriam',\n",
              " 'houvermos',\n",
              " 'houverá',\n",
              " 'houverão',\n",
              " 'houveríamos',\n",
              " 'houvesse',\n",
              " 'houvessem',\n",
              " 'houvéramos',\n",
              " 'houvéssemos',\n",
              " 'há',\n",
              " 'hão',\n",
              " 'isso',\n",
              " 'isto',\n",
              " 'já',\n",
              " 'lhe',\n",
              " 'lhes',\n",
              " 'mais',\n",
              " 'mas',\n",
              " 'me',\n",
              " 'mesmo',\n",
              " 'meu',\n",
              " 'meus',\n",
              " 'minha',\n",
              " 'minhas',\n",
              " 'muito',\n",
              " 'na',\n",
              " 'nas',\n",
              " 'nem',\n",
              " 'no',\n",
              " 'nos',\n",
              " 'nossa',\n",
              " 'nossas',\n",
              " 'nosso',\n",
              " 'nossos',\n",
              " 'num',\n",
              " 'numa',\n",
              " 'não',\n",
              " 'nós',\n",
              " 'o',\n",
              " 'os',\n",
              " 'ou',\n",
              " 'para',\n",
              " 'pela',\n",
              " 'pelas',\n",
              " 'pelo',\n",
              " 'pelos',\n",
              " 'por',\n",
              " 'qual',\n",
              " 'quando',\n",
              " 'que',\n",
              " 'quem',\n",
              " 'se',\n",
              " 'seja',\n",
              " 'sejam',\n",
              " 'sejamos',\n",
              " 'sem',\n",
              " 'serei',\n",
              " 'seremos',\n",
              " 'seria',\n",
              " 'seriam',\n",
              " 'será',\n",
              " 'serão',\n",
              " 'seríamos',\n",
              " 'seu',\n",
              " 'seus',\n",
              " 'somos',\n",
              " 'sou',\n",
              " 'sua',\n",
              " 'suas',\n",
              " 'são',\n",
              " 'só',\n",
              " 'também',\n",
              " 'te',\n",
              " 'tem',\n",
              " 'temos',\n",
              " 'tenha',\n",
              " 'tenham',\n",
              " 'tenhamos',\n",
              " 'tenho',\n",
              " 'terei',\n",
              " 'teremos',\n",
              " 'teria',\n",
              " 'teriam',\n",
              " 'terá',\n",
              " 'terão',\n",
              " 'teríamos',\n",
              " 'teu',\n",
              " 'teus',\n",
              " 'teve',\n",
              " 'tinha',\n",
              " 'tinham',\n",
              " 'tive',\n",
              " 'tivemos',\n",
              " 'tiver',\n",
              " 'tivera',\n",
              " 'tiveram',\n",
              " 'tiverem',\n",
              " 'tivermos',\n",
              " 'tivesse',\n",
              " 'tivessem',\n",
              " 'tivéramos',\n",
              " 'tivéssemos',\n",
              " 'tu',\n",
              " 'tua',\n",
              " 'tuas',\n",
              " 'tém',\n",
              " 'tínhamos',\n",
              " 'um',\n",
              " 'uma',\n",
              " 'você',\n",
              " 'vocês',\n",
              " 'vos',\n",
              " 'à',\n",
              " 'às',\n",
              " 'é',\n",
              " 'éramos'}"
            ]
          },
          "metadata": {},
          "execution_count": 11
        }
      ],
      "source": [
        "stop_words"
      ]
    },
    {
      "cell_type": "markdown",
      "metadata": {
        "id": "VM-vll20KqvP"
      },
      "source": [
        "#Pré-processamento dos tweets"
      ]
    },
    {
      "cell_type": "markdown",
      "metadata": {
        "id": "PAlOZbaXCNDM"
      },
      "source": [
        "###Função para limpar os tweets"
      ]
    },
    {
      "cell_type": "code",
      "execution_count": 12,
      "metadata": {
        "id": "wKc3KHEUkiTm"
      },
      "outputs": [],
      "source": [
        "def cleaning(tweet):\n",
        "  \n",
        "  #remover pontuações\n",
        "  def remove_punctuation(tweet):\n",
        "      return re.sub(r'[^\\w\\s]','',tweet) \n",
        "\n",
        "  #remocao de plavras com mais de 3 ocorrencias seguidas\n",
        "  def mais_de_3_ocorrencias_seguidas(word):  \n",
        "    let_ant = word[0]\n",
        "    count = 0\n",
        "    mais_de_3 = False;\n",
        "    for w in word:\n",
        "      count = count + 1 if w == let_ant else 1\n",
        "      let_ant = w  \n",
        "      if count > 3: \n",
        "        mais_de_3 = True \n",
        "        break  \n",
        "    return mais_de_3   \n",
        "\n",
        "  #remover acentuações\n",
        "  def remove_emphasis(token):\n",
        "        return unidecode(remove_punctuation(token))\n",
        "\n",
        "  stop_words_list = [remove_emphasis(st_word) for st_word in stop_words]\n",
        " \n",
        "  #conversão de string para minúsculas, remoção de pontuação, palavras que iniciam com @, #, stopwords ou com tamanho < 2 e se forem diferentes de ht.\n",
        "  def remove_undesirable_words(tweet):\n",
        "      new_list_ = []\n",
        "      tweet = ' '.join(str(word).lower() for word in tweet.split() if not word.startswith('@') and not word.startswith('#'))\n",
        "     \n",
        "      for token in wordpunct_tokenize(tweet):\n",
        "         if token in stop_words_list or (len(token) < 3 and token != 'ht') or mais_de_3_ocorrencias_seguidas(token): continue\n",
        "         new_list_.append(remove_emphasis(token))\n",
        "      return ' '.join(new_list_)\n",
        "\n",
        "  #remover urls\n",
        "  def remove_url(tweet_without_sw):\n",
        "      return re.sub(r\"http\\S+\", \"\", tweet_without_sw)\n",
        "\n",
        "  #remover palavras que contem ou que são números\n",
        "  def remove_numeric(tweet):\n",
        "    return re.sub(r'\\d+', '', tweet)\n",
        "\n",
        "  tweet = remove_url(tweet)\n",
        "  tweet = remove_numeric(tweet)\n",
        "  tweet = remove_undesirable_words(tweet)\n",
        "  return tweet \n"
      ]
    },
    {
      "cell_type": "markdown",
      "metadata": {
        "id": "L3NOY8WQEMH7"
      },
      "source": [
        "\n",
        "###Exemplo de tweet antes da aplicação da função de limpeza"
      ]
    },
    {
      "cell_type": "code",
      "execution_count": 13,
      "metadata": {
        "id": "mMmawXRUfeGY"
      },
      "outputs": [],
      "source": [
        "string_example = \"No Rio de Janeiro, em 2021, <p> o nao @senhor vai #investir, em 2022, na educação da Venezuela, Argentina, Haiti,cuba.e etc países comunistas?, porque aqui no Brasil o Senhor nunca fez isso ?????. https://t.co/jmVSYbsG2X\""
      ]
    },
    {
      "cell_type": "code",
      "execution_count": 14,
      "metadata": {
        "id": "2cPuLlD1dxF7"
      },
      "outputs": [],
      "source": [
        "filtered_tweet = cleaning(string_example)"
      ]
    },
    {
      "cell_type": "markdown",
      "metadata": {
        "id": "DL-GiFlgEelV"
      },
      "source": [
        "###Exemplo de tweet depois da aplicação da função de limpeza"
      ]
    },
    {
      "cell_type": "code",
      "execution_count": 15,
      "metadata": {
        "colab": {
          "base_uri": "https://localhost:8080/",
          "height": 35
        },
        "id": "onsjf2SAWsC0",
        "outputId": "b5403cc2-044c-41b9-d552-a9297454ea15"
      },
      "outputs": [
        {
          "output_type": "execute_result",
          "data": {
            "text/plain": [
              "'rio janeiro vai educacao venezuela argentina haiti cuba etc paises comunistas porque aqui brasil senhor nunca fez'"
            ],
            "application/vnd.google.colaboratory.intrinsic+json": {
              "type": "string"
            }
          },
          "metadata": {},
          "execution_count": 15
        }
      ],
      "source": [
        "filtered_tweet"
      ]
    },
    {
      "cell_type": "markdown",
      "metadata": {
        "id": "DMjfv4xtFeF6"
      },
      "source": [
        "###Aplicação da função do pré-processamento nos tweets"
      ]
    },
    {
      "cell_type": "code",
      "execution_count": 16,
      "metadata": {
        "id": "0f-PAjiRe0S0"
      },
      "outputs": [],
      "source": [
        "tweets_pre_proc = tweets_orig.copy()\n",
        "tweets_pre_proc['text_preprocessed'] = tweets_orig['text'].map(lambda tweet: cleaning(tweet))"
      ]
    },
    {
      "cell_type": "code",
      "execution_count": 17,
      "metadata": {
        "colab": {
          "base_uri": "https://localhost:8080/"
        },
        "id": "b8uljx9xYuwY",
        "outputId": "f9570b4a-0d36-41e2-dee8-3d18d9b02749"
      },
      "outputs": [
        {
          "output_type": "execute_result",
          "data": {
            "text/plain": [
              "['@geglobo Paquetá é haitiano',\n",
              " '@BetoLuiz_RU @jonesmanoel_PCB @deccache O Haiti foi uma desgraça de fato.Mas os erros nao anulam os acertos.E quando ele fala sobre a guerra na Ucrania ele vem se posicionando muito bem,criticando a postura do zelensky',\n",
              " 'O senhor vai investir na educação da Venezuela, Argentina, Haiti,cuba, e etc países comunistas?, porque aqui no Brasil o Senhor nunca fez isso. https://t.co/jmVSYbsG2X',\n",
              " '@rsallesmma Que nada, na mão de vocês já tá virando uma mistura de deserto do Saara com Haiti',\n",
              " '@JoppertLeonardo @jonesmanoel_PCB @deccache Entramos nos BRICS, mas invadimos o Haiti a mando do Bush!\\n\\nLula diz que vai fortalecer os brics mas faz palestras no Parlamento Europeu que está tratando Rússia e china como inimigos mortais, como isso vai funcionar???']"
            ]
          },
          "metadata": {},
          "execution_count": 17
        }
      ],
      "source": [
        "tweets_orig.text.head().tolist()"
      ]
    },
    {
      "cell_type": "code",
      "execution_count": 18,
      "metadata": {
        "colab": {
          "base_uri": "https://localhost:8080/"
        },
        "id": "LGbjhqfmzDFQ",
        "outputId": "7d8f9177-b442-4666-a0f8-d8db93cfb20e"
      },
      "outputs": [
        {
          "output_type": "execute_result",
          "data": {
            "text/plain": [
              "['paqueta haitiano',\n",
              " 'haiti desgraca fato erros anulam acertos fala sobre guerra ucrania vem posicionando bem criticando postura zelensky',\n",
              " 'senhor vai investir educacao venezuela argentina haiti cuba etc paises comunistas porque aqui brasil senhor nunca fez',\n",
              " 'nada mao voces virando mistura deserto saara haiti',\n",
              " 'entramos brics invadimos haiti mando bush lula diz vai fortalecer brics faz palestras parlamento europeu esta tratando russia china inimigos mortais vai funcionar ']"
            ]
          },
          "metadata": {},
          "execution_count": 18
        }
      ],
      "source": [
        "tweets_pre_proc.text_preprocessed.head().tolist()\n"
      ]
    },
    {
      "cell_type": "markdown",
      "metadata": {
        "id": "a_A3UZOKMVoD"
      },
      "source": [
        "###Remover tweets com menos de 3 palavras"
      ]
    },
    {
      "cell_type": "code",
      "execution_count": 19,
      "metadata": {
        "id": "9AddF7arLr7F"
      },
      "outputs": [],
      "source": [
        "tweets_pre_proc = tweets_pre_proc.loc[tweets_pre_proc['text_preprocessed'].str.split().str.len() > 3]"
      ]
    },
    {
      "cell_type": "code",
      "execution_count": 20,
      "metadata": {
        "colab": {
          "base_uri": "https://localhost:8080/"
        },
        "id": "EGzg91V6L-N7",
        "outputId": "5f3f54d3-923c-42f9-dfc7-ca8baad88eaa"
      },
      "outputs": [
        {
          "output_type": "execute_result",
          "data": {
            "text/plain": [
              "(171087, 6)"
            ]
          },
          "metadata": {},
          "execution_count": 20
        }
      ],
      "source": [
        "tweets_pre_proc.shape"
      ]
    },
    {
      "cell_type": "markdown",
      "metadata": {
        "id": "vAADO70qDBO9"
      },
      "source": [
        "###Remover os tweets duplicados"
      ]
    },
    {
      "cell_type": "code",
      "execution_count": 21,
      "metadata": {
        "colab": {
          "base_uri": "https://localhost:8080/"
        },
        "id": "Aj3c3CrFCXR_",
        "outputId": "56d48d2a-16fc-44c1-9a82-a39563606e0e"
      },
      "outputs": [
        {
          "output_type": "execute_result",
          "data": {
            "text/plain": [
              "['@BetoLuiz_RU @jonesmanoel_PCB @deccache O Haiti foi uma desgraça de fato.Mas os erros nao anulam os acertos.E quando ele fala sobre a guerra na Ucrania ele vem se posicionando muito bem,criticando a postura do zelensky',\n",
              " 'O senhor vai investir na educação da Venezuela, Argentina, Haiti,cuba, e etc países comunistas?, porque aqui no Brasil o Senhor nunca fez isso. https://t.co/jmVSYbsG2X',\n",
              " '@rsallesmma Que nada, na mão de vocês já tá virando uma mistura de deserto do Saara com Haiti',\n",
              " '@JoppertLeonardo @jonesmanoel_PCB @deccache Entramos nos BRICS, mas invadimos o Haiti a mando do Bush!\\n\\nLula diz que vai fortalecer os brics mas faz palestras no Parlamento Europeu que está tratando Rússia e china como inimigos mortais, como isso vai funcionar???',\n",
              " '@alice_mader9 kkkkkk e era 2 haitiano, n entendi nada q falavam']"
            ]
          },
          "metadata": {},
          "execution_count": 21
        }
      ],
      "source": [
        "tweets_pre_proc.text.head().tolist()"
      ]
    },
    {
      "cell_type": "code",
      "execution_count": 22,
      "metadata": {
        "id": "51YZj0HF-VkT"
      },
      "outputs": [],
      "source": [
        "tweets_pre_proc.drop_duplicates(subset = [\"text_preprocessed\"], keep='first', inplace=True)"
      ]
    },
    {
      "cell_type": "markdown",
      "metadata": {
        "id": "5ZaDi_AFFL5b"
      },
      "source": [
        "###Quantidade de tweets após a remoção dos tweets duplicados"
      ]
    },
    {
      "cell_type": "code",
      "execution_count": 23,
      "metadata": {
        "colab": {
          "base_uri": "https://localhost:8080/"
        },
        "id": "6IC5wWgm-dnl",
        "outputId": "9937925e-7c00-42a3-d6a4-2900771e8aad"
      },
      "outputs": [
        {
          "output_type": "execute_result",
          "data": {
            "text/plain": [
              "(150264, 6)"
            ]
          },
          "metadata": {},
          "execution_count": 23
        }
      ],
      "source": [
        "tweets_pre_proc.shape"
      ]
    },
    {
      "cell_type": "code",
      "execution_count": 24,
      "metadata": {
        "colab": {
          "base_uri": "https://localhost:8080/"
        },
        "id": "paxssE2-L7WK",
        "outputId": "e411a6bb-893c-4b30-8710-473e0b4ac6ea"
      },
      "outputs": [
        {
          "output_type": "execute_result",
          "data": {
            "text/plain": [
              "['@geglobo Paquetá é haitiano',\n",
              " '@BetoLuiz_RU @jonesmanoel_PCB @deccache O Haiti foi uma desgraça de fato.Mas os erros nao anulam os acertos.E quando ele fala sobre a guerra na Ucrania ele vem se posicionando muito bem,criticando a postura do zelensky',\n",
              " 'O senhor vai investir na educação da Venezuela, Argentina, Haiti,cuba, e etc países comunistas?, porque aqui no Brasil o Senhor nunca fez isso. https://t.co/jmVSYbsG2X',\n",
              " '@rsallesmma Que nada, na mão de vocês já tá virando uma mistura de deserto do Saara com Haiti',\n",
              " '@JoppertLeonardo @jonesmanoel_PCB @deccache Entramos nos BRICS, mas invadimos o Haiti a mando do Bush!\\n\\nLula diz que vai fortalecer os brics mas faz palestras no Parlamento Europeu que está tratando Rússia e china como inimigos mortais, como isso vai funcionar???']"
            ]
          },
          "metadata": {},
          "execution_count": 24
        }
      ],
      "source": [
        "tweets_orig.text.head().tolist()"
      ]
    },
    {
      "cell_type": "code",
      "execution_count": 25,
      "metadata": {
        "colab": {
          "base_uri": "https://localhost:8080/"
        },
        "id": "o_WQhu4WXc8x",
        "outputId": "d51a6678-d437-4aa2-fd75-28d7eb9cf00e"
      },
      "outputs": [
        {
          "output_type": "execute_result",
          "data": {
            "text/plain": [
              "['@BetoLuiz_RU @jonesmanoel_PCB @deccache O Haiti foi uma desgraça de fato.Mas os erros nao anulam os acertos.E quando ele fala sobre a guerra na Ucrania ele vem se posicionando muito bem,criticando a postura do zelensky',\n",
              " 'O senhor vai investir na educação da Venezuela, Argentina, Haiti,cuba, e etc países comunistas?, porque aqui no Brasil o Senhor nunca fez isso. https://t.co/jmVSYbsG2X',\n",
              " '@rsallesmma Que nada, na mão de vocês já tá virando uma mistura de deserto do Saara com Haiti',\n",
              " '@JoppertLeonardo @jonesmanoel_PCB @deccache Entramos nos BRICS, mas invadimos o Haiti a mando do Bush!\\n\\nLula diz que vai fortalecer os brics mas faz palestras no Parlamento Europeu que está tratando Rússia e china como inimigos mortais, como isso vai funcionar???',\n",
              " '@alice_mader9 kkkkkk e era 2 haitiano, n entendi nada q falavam']"
            ]
          },
          "metadata": {},
          "execution_count": 25
        }
      ],
      "source": [
        "tweets_pre_proc.text.head().tolist()"
      ]
    },
    {
      "cell_type": "markdown",
      "metadata": {
        "id": "W_YlFRbv8duT"
      },
      "source": [
        "###Estatística dos tweets após o pré-processamento:"
      ]
    },
    {
      "cell_type": "code",
      "execution_count": 26,
      "metadata": {
        "colab": {
          "base_uri": "https://localhost:8080/"
        },
        "id": "kOCGonzX8Q2l",
        "outputId": "165fbfd0-1673-4aa7-c739-03fa7ebd44e1"
      },
      "outputs": [
        {
          "output_type": "stream",
          "name": "stdout",
          "text": [
            "Total: 150264, Count word: 2137665, Mean words: 14.23\n",
            "\n",
            "*****Agrupado por ano****\n",
            "   Year  Count     Sum  Mean_words\n",
            "0  2018  18202  247212       13.58\n",
            "1  2019  24449  364905       14.93\n",
            "2  2020  47530  650724       13.69\n",
            "3  2021  48733  704287       14.45\n",
            "4  2022  11350  170537       15.03\n",
            "\n",
            "*****Agrupado por mês e ano****\n",
            "    Year  Month  Count     Sum  Mean_words\n",
            "0   2018      1   1957   25945       13.26\n",
            "1   2018      2   1836   24396       13.29\n",
            "2   2018      3   1026   13485       13.14\n",
            "3   2018      4    984   13494       13.71\n",
            "4   2018      5   2095   26978       12.88\n",
            "5   2018      6   1366   18525       13.56\n",
            "6   2018      7   1861   23147       12.44\n",
            "7   2018      8   1520   21052       13.85\n",
            "8   2018      9   1195   16893       14.14\n",
            "9   2018     10   1412   19919       14.11\n",
            "10  2018     11   1713   26193       15.29\n",
            "11  2018     12   1237   17185       13.89\n",
            "12  2019      1   2089   32232       15.43\n",
            "13  2019      2   3553   53191       14.97\n",
            "14  2019      3   1700   25849       15.21\n",
            "15  2019      4   1499   22732       15.16\n",
            "16  2019      5   1487   22476       15.11\n",
            "17  2019      6   2670   38608       14.46\n",
            "18  2019      7   1691   24307       14.37\n",
            "19  2019      8   1786   27051       15.15\n",
            "20  2019      9   1919   28016       14.60\n",
            "21  2019     10   2175   32688       15.03\n",
            "22  2019     11   2327   34615       14.88\n",
            "23  2019     12   1553   23140       14.90\n",
            "24  2020      1   3304   48532       14.69\n",
            "25  2020      2   2663   36309       13.63\n",
            "26  2020      3  18799  236040       12.56\n",
            "27  2020      4   3961   49584       12.52\n",
            "28  2020      5   4065   57434       14.13\n",
            "29  2020      6   2930   45138       15.41\n",
            "30  2020      7   2029   31445       15.50\n",
            "31  2020      8   2070   31678       15.30\n",
            "32  2020      9   2501   37561       15.02\n",
            "33  2020     10   1815   26836       14.79\n",
            "34  2020     11   1690   25142       14.88\n",
            "35  2020     12   1703   25025       14.69\n",
            "36  2021      1   2188   32256       14.74\n",
            "37  2021      2   2301   34808       15.13\n",
            "38  2021      3   2683   39431       14.70\n",
            "39  2021      4   2303   33266       14.44\n",
            "40  2021      5   1827   28013       15.33\n",
            "41  2021      6   2947   41060       13.93\n",
            "42  2021      7  13904  200485       14.42\n",
            "43  2021      8   9932  136457       13.74\n",
            "44  2021      9   3833   58098       15.16\n",
            "45  2021     10   2493   37122       14.89\n",
            "46  2021     11   1943   29404       15.13\n",
            "47  2021     12   2379   33887       14.24\n",
            "48  2022      1   2112   31633       14.98\n",
            "49  2022      2   2643   37780       14.29\n",
            "50  2022      3   2130   33234       15.60\n",
            "51  2022      4   1968   29633       15.06\n",
            "52  2022      5   2497   38257       15.32\n"
          ]
        }
      ],
      "source": [
        "tweets_stats(tweets_pre_proc, 'pre')"
      ]
    },
    {
      "cell_type": "markdown",
      "source": [
        "###Bigramas"
      ],
      "metadata": {
        "id": "d-BmtT83MoEC"
      }
    },
    {
      "cell_type": "code",
      "source": [
        "def bigrams(df):\n",
        "  docs = [doc.split() for doc in df.text_preprocessed.tolist()]\n",
        "  bigram = Phrases(docs, min_count=3)\n",
        "  for i in range(len(docs)):\n",
        "    docs[i] = ' '.join(bigram[docs[i]])\n",
        "  return docs  "
      ],
      "metadata": {
        "id": "q43bsqq9MfQF"
      },
      "execution_count": 27,
      "outputs": []
    },
    {
      "cell_type": "code",
      "source": [
        "tweets_pre_proc['bigrams_text'] = bigrams(tweets_pre_proc)"
      ],
      "metadata": {
        "colab": {
          "base_uri": "https://localhost:8080/"
        },
        "id": "xE_qJlN4Mlig",
        "outputId": "d629864f-af68-4a54-d60e-5561ce583230"
      },
      "execution_count": 28,
      "outputs": [
        {
          "output_type": "stream",
          "name": "stderr",
          "text": [
            "/usr/local/lib/python3.7/dist-packages/gensim/models/phrases.py:598: UserWarning: For a faster implementation, use the gensim.models.phrases.Phraser class\n",
            "  warnings.warn(\"For a faster implementation, use the gensim.models.phrases.Phraser class\")\n"
          ]
        }
      ]
    },
    {
      "cell_type": "code",
      "source": [
        "tweets_pre_proc.bigrams_text.head().tolist()"
      ],
      "metadata": {
        "colab": {
          "base_uri": "https://localhost:8080/"
        },
        "id": "0Q8C5GCdMxAW",
        "outputId": "f52de296-9365-4b25-e385-527a4da89535"
      },
      "execution_count": 29,
      "outputs": [
        {
          "output_type": "execute_result",
          "data": {
            "text/plain": [
              "['haiti desgraca fato erros anulam acertos fala sobre guerra_ucrania vem posicionando bem criticando postura zelensky',\n",
              " 'senhor vai investir_educacao venezuela argentina haiti cuba etc paises_comunistas porque aqui brasil senhor nunca fez',\n",
              " 'nada mao voces virando mistura deserto_saara haiti',\n",
              " 'entramos brics invadimos haiti mando_bush lula diz vai fortalecer brics faz palestras parlamento europeu esta tratando russia_china inimigos mortais vai funcionar',\n",
              " 'haitiano entendi_nada falavam']"
            ]
          },
          "metadata": {},
          "execution_count": 29
        }
      ]
    },
    {
      "cell_type": "code",
      "source": [
        "tweets_stats(tweets_pre_proc, 'big')"
      ],
      "metadata": {
        "colab": {
          "base_uri": "https://localhost:8080/"
        },
        "id": "z_JvMpApMx3e",
        "outputId": "3aecc85b-c2ca-4aa8-f2cf-111eb6326add"
      },
      "execution_count": 30,
      "outputs": [
        {
          "output_type": "stream",
          "name": "stdout",
          "text": [
            "Total: 150264, Count word: 1879014, Mean words: 12.5\n",
            "\n",
            "*****Agrupado por ano****\n",
            "   Year  Count     Sum  Mean_words\n",
            "0  2018  18202  219470       12.06\n",
            "1  2019  24449  321073       13.13\n",
            "2  2020  47530  577119       12.14\n",
            "3  2021  48733  610534       12.53\n",
            "4  2022  11350  150818       13.29\n",
            "\n",
            "*****Agrupado por mês e ano****\n",
            "    Year  Month  Count     Sum  Mean_words\n",
            "0   2018      1   1957   22935       11.72\n",
            "1   2018      2   1836   21392       11.65\n",
            "2   2018      3   1026   12091       11.78\n",
            "3   2018      4    984   12133       12.33\n",
            "4   2018      5   2095   23986       11.45\n",
            "5   2018      6   1366   16588       12.14\n",
            "6   2018      7   1861   20542       11.04\n",
            "7   2018      8   1520   18858       12.41\n",
            "8   2018      9   1195   15042       12.59\n",
            "9   2018     10   1412   17640       12.49\n",
            "10  2018     11   1713   23037       13.45\n",
            "11  2018     12   1237   15226       12.31\n",
            "12  2019      1   2089   28435       13.61\n",
            "13  2019      2   3553   46707       13.15\n",
            "14  2019      3   1700   22842       13.44\n",
            "15  2019      4   1499   20198       13.47\n",
            "16  2019      5   1487   19933       13.40\n",
            "17  2019      6   2670   33518       12.55\n",
            "18  2019      7   1691   21621       12.79\n",
            "19  2019      8   1786   23848       13.35\n",
            "20  2019      9   1919   24556       12.80\n",
            "21  2019     10   2175   28705       13.20\n",
            "22  2019     11   2327   30413       13.07\n",
            "23  2019     12   1553   20297       13.07\n",
            "24  2020      1   3304   42415       12.84\n",
            "25  2020      2   2663   32157       12.08\n",
            "26  2020      3  18799  211106       11.23\n",
            "27  2020      4   3961   44041       11.12\n",
            "28  2020      5   4065   50663       12.46\n",
            "29  2020      6   2930   39516       13.49\n",
            "30  2020      7   2029   27888       13.74\n",
            "31  2020      8   2070   27796       13.43\n",
            "32  2020      9   2501   33233       13.29\n",
            "33  2020     10   1815   23703       13.06\n",
            "34  2020     11   1690   22345       13.22\n",
            "35  2020     12   1703   22256       13.07\n",
            "36  2021      1   2188   28440       13.00\n",
            "37  2021      2   2301   30458       13.24\n",
            "38  2021      3   2683   34700       12.93\n",
            "39  2021      4   2303   29307       12.73\n",
            "40  2021      5   1827   24728       13.53\n",
            "41  2021      6   2947   36048       12.23\n",
            "42  2021      7  13904  170531       12.26\n",
            "43  2021      8   9932  117314       11.81\n",
            "44  2021      9   3833   50799       13.25\n",
            "45  2021     10   2493   32508       13.04\n",
            "46  2021     11   1943   25886       13.32\n",
            "47  2021     12   2379   29815       12.53\n",
            "48  2022      1   2112   27875       13.20\n",
            "49  2022      2   2643   33538       12.69\n",
            "50  2022      3   2130   29446       13.82\n",
            "51  2022      4   1968   26266       13.35\n",
            "52  2022      5   2497   33693       13.49\n"
          ]
        }
      ]
    },
    {
      "cell_type": "markdown",
      "metadata": {
        "id": "-yM03oGL-Jxo"
      },
      "source": [
        "###Lematização e stemização"
      ]
    },
    {
      "cell_type": "code",
      "execution_count": 31,
      "metadata": {
        "id": "CnC_XX9LADcR"
      },
      "outputs": [],
      "source": [
        "pln = spacy.load('pt')"
      ]
    },
    {
      "cell_type": "markdown",
      "metadata": {
        "id": "bBsgn00LCmgR"
      },
      "source": [
        "###Lematização"
      ]
    },
    {
      "cell_type": "code",
      "execution_count": 32,
      "metadata": {
        "id": "_ZJ0sYt6AS_2"
      },
      "outputs": [],
      "source": [
        "string_lem_example = 'lixo tiver sou capacetes brancos ajudaram haiti pare besteira ajudou haiti fim exercito capacetes brancos resolvem problema presos campos concentracao argentina criou'"
      ]
    },
    {
      "cell_type": "code",
      "execution_count": 33,
      "metadata": {
        "id": "KPKFg1c2-IMC"
      },
      "outputs": [],
      "source": [
        "def lemmatization(tweet):\n",
        "  document = pln(tweet)\n",
        "  return ' '.join([token.lemma_ for token in document])"
      ]
    },
    {
      "cell_type": "code",
      "execution_count": 34,
      "metadata": {
        "id": "AmCCuTS0AlRp"
      },
      "outputs": [],
      "source": [
        "tweet_lem_example = lemmatization(string_lem_example)"
      ]
    },
    {
      "cell_type": "code",
      "execution_count": 35,
      "metadata": {
        "colab": {
          "base_uri": "https://localhost:8080/",
          "height": 35
        },
        "id": "3mXcYsiFCwZu",
        "outputId": "74675743-a18a-4174-b552-b1ce13fdb70f"
      },
      "outputs": [
        {
          "output_type": "execute_result",
          "data": {
            "text/plain": [
              "'lixar ter ser capacete branco ajudar haiti parir besteira ajudar haiti fim exercitar capacete branco resolver problema preso campo concentracao argentino criar'"
            ],
            "application/vnd.google.colaboratory.intrinsic+json": {
              "type": "string"
            }
          },
          "metadata": {},
          "execution_count": 35
        }
      ],
      "source": [
        "tweet_lem_example"
      ]
    },
    {
      "cell_type": "code",
      "execution_count": 36,
      "metadata": {
        "id": "UOW43XYZDnTo"
      },
      "outputs": [],
      "source": [
        "tweets_pre_proc['text_lematizados'] = tweets_pre_proc['bigrams_text'].map(lambda tweet: lemmatization(tweet))"
      ]
    },
    {
      "cell_type": "code",
      "execution_count": 37,
      "metadata": {
        "id": "2dP-qxwMD8ta",
        "colab": {
          "base_uri": "https://localhost:8080/"
        },
        "outputId": "e356c76c-5721-415c-e6e4-4a12c820930e"
      },
      "outputs": [
        {
          "output_type": "execute_result",
          "data": {
            "text/plain": [
              "['haiti desgraca fato erro anular acerto falir sobrar guerra_ucrania vir posicionar bem criticar posturar zelensky',\n",
              " 'senhor ir investir_educacao venezuela argentino haiti cubar etc paises_comunistas porque aqui brasil senhor nunca fazer',\n",
              " 'nado mao voces virar misturar deserto_saara haiti',\n",
              " 'entrar brics invadir haiti mando_bush lula dizer ir fortalecer brics fazer palestrar parlamentar europeu este tratar russia_china inimigo mortal ir funcionar',\n",
              " 'haitiano entendi_nada falar']"
            ]
          },
          "metadata": {},
          "execution_count": 37
        }
      ],
      "source": [
        "tweets_pre_proc.text_lematizados.head().tolist()"
      ]
    },
    {
      "cell_type": "code",
      "source": [
        "tweets_pre_proc.bigrams_text.tolist()"
      ],
      "metadata": {
        "colab": {
          "base_uri": "https://localhost:8080/"
        },
        "id": "9gW87laeLEF3",
        "outputId": "fad6607b-f1f3-4750-92bc-02ff4e320566"
      },
      "execution_count": 38,
      "outputs": [
        {
          "output_type": "execute_result",
          "data": {
            "text/plain": [
              "['haiti desgraca fato erros anulam acertos fala sobre guerra_ucrania vem posicionando bem criticando postura zelensky',\n",
              " 'senhor vai investir_educacao venezuela argentina haiti cuba etc paises_comunistas porque aqui brasil senhor nunca fez',\n",
              " 'nada mao voces virando mistura deserto_saara haiti',\n",
              " 'entramos brics invadimos haiti mando_bush lula diz vai fortalecer brics faz palestras parlamento europeu esta tratando russia_china inimigos mortais vai funcionar',\n",
              " 'haitiano entendi_nada falavam',\n",
              " 'adoro cara cagado general_heleno primo pro haiti sempre mando fotos pra pra perguntar assim naquele tempo',\n",
              " 'jane angeli junqueira advogada maringaense cafe_manha oferecido embaixada haiti kubitschek plaza hotel brasilia anfitria embaixadora haiti brasil rachel coupau algumas',\n",
              " 'consegui motorista haitiano fmz merda amanha_vou fazer corre tentar segunda via sepa pros credito voltar dps',\n",
              " 'voto santos_cruz nao tera aceitar convide dizer participou_golpe alem cruz nao moro nunca fez brasil bem moro fez nada fez brasil fez haiti voto ninguem tera',\n",
              " 'voce fodao valentao haiti',\n",
              " 'voce nao presidente diz haitiano bolsonaro via vale_lembrar gente',\n",
              " 'desculpa haitiano sei conta portugues',\n",
              " 'ainda bem porque hoje quase haiti',\n",
              " 'haiti islandia venezuela egito republica_dominicana argentina nicaragua',\n",
              " 'nao porque brasileiro agora pergunta pra haitiano venezuelano',\n",
              " 'melhor virar argentina somalia onde maioria passa_fome haiti',\n",
              " 'dia forca invasao deixou violencia mortes colera filhos haiti',\n",
              " 'amg ver tweet chega zap mensagem haitiano passando login duma conta sla quantos mil_dolares',\n",
              " 'heleno_comandou missao_paz onu haiti onde milhares acusacoes_estupro assassinatos tortura populacao alem perseguicao apoiadores presidente jean_bertrand aristide caso emblematico aconteceu dia_julho',\n",
              " 'trio volo bastidores gravacao videoclipe are_the world haiti maravilhosos boa_tarde otima segunda_feira pra voces siga follow clube',\n",
              " 'haiti pra argentina otimo',\n",
              " 'republica_dominicana paraguai costa_rica equador argentina haiti mexico_honduras ufa pensei utilizadas paises nao tanta tecnologia_ponta japao eua inglaterra_franca etc',\n",
              " 'otimo diante fato virou haiti governo_miliciano voce fez_parte',\n",
              " 'cantou haiti aqui assinou_manifesto anticotas anos amigo vcs preto nao vergonha_cara sueli_carneiro nao grosseira louca sempre disse criticada',\n",
              " 'bolzo ganhar tornamos haiti',\n",
              " 'brasil sexta maior_economia mundo agora nao consegue empatar crescimento haiti culpa',\n",
              " 'gente pensar tamo descobrindo revolucao_haitiana agora sabe futuro nao ganhe espaco merecido',\n",
              " 'evolucao haiti atual argentina',\n",
              " 'tomara aconteca pois poder virando haiti somalia',\n",
              " 'virou haiti des_governo voces bem pior',\n",
              " 'situacao triste haiti ein mandando preses pra papua_nova guine deus_ajude vcs congo',\n",
              " 'deus ouca lula venca turno livre todos voces pois desde golpe aprofundado atoleiro genocida mito despresidente virando haiti desmerecer resistencia secular povo haitiano frente maldicao_branca',\n",
              " 'lembra pouco texto_sobre celeuma aconteceu historiadores sobre publicacao nyt_sobre haiti reclamando jornal nao deu credito pesquisadores argumentava talvez importante pessoas saibam historia',\n",
              " 'segura auditavel tecnologica ainda viajadaaa alem ser usada voto povo_brasileiro vive exterior tambem marcou presenca republica_dominicana paraguai costa_rica equador argentina haiti mexico_honduras vai',\n",
              " 'segura auditavel tecnologica ainda viajada alem ser usada voto povo_brasileiro vive exterior tambem marcou presenca republica_dominicana paraguai costa_rica equador argentina haiti mexico_honduras vai',\n",
              " 'presidente transformou_brasil haiti',\n",
              " 'cenas lamentaveis liga haitiana futebol',\n",
              " 'bolsonaro estado_burgues burguesia sao autoritarios contra vale_pena ser crimes realmente tornam mundo inferno nao sao cometidos pobre negros haiti inferno culpa imperialismo neocolonialismo violento eua',\n",
              " 'vivendo haiti chegarmos argentina lucro',\n",
              " 'fato ruptura voces tanto buscam pode_ser nao dessa_vez exilio paris melhor_hipoteses sera haiti pouco bom_senso nao forcem barra porque maioria nao embarca realidades paralelas',\n",
              " 'gracas_deus sera evolucao gigante voce bolsonazi turma transformaram brasil republiqueta pior haiti',\n",
              " 'bolsonaro vamos_virar haiti',\n",
              " 'bom momento pra gigante haiti todo_respeito povo haitiano parte nisso bandido nao vejo_hora comecar pagar_crimes',\n",
              " 'dias maio colaborador sjmr brasil haitiano jhon kelly monace apresentou tese_doutorado sobre_migracao haitiana belo_horizonte mark claster mamolen worshop dissertation leia_reportagem completa_link',\n",
              " 'nytimes mostra origem pobreza haiti haiti fez revolucao_escravos anos pagar_bilhoes liberdade franca imperatriz brasil imperios russo germanico banco controlava financas haiti',\n",
              " 'bostonaro brinca milicos grupo haiti tomaram_conta pais despejam odio terem_sido expulsos_onu violacao operacao_minustah tao_importante',\n",
              " 'bozo virou haiti deserto_saara',\n",
              " 'sao homens_mulheres levam esperanca aqueles sofrem duras consequencias guerras conflitos presente missoes_paz libano haiti republica_democratica congo outros saiba',\n",
              " 'nao ginastica mental nenhuma compreender existem fluxos balanca poder grupo nao inerentemente superior outro encontrar pontualmente posicao vantajosa logica africanos sao superiores porque tomaram haiti',\n",
              " 'guame guatemala_guernsey guiana_guine guine_equatorial guine_bissau haiti honduras_hong kong_hungria iemen ilha bouvet ilha natal ilha norfolk ilhas caimao ilhas cook ilhas cocos ilhas_falkland ilhas heard mcdonald ilhas_marshall ilhas_salomao ilhas_turcas caicos',\n",
              " 'grupo_voluntarios vai haiti cuidar saude_bucal pessoas vulnerabilidade video',\n",
              " 'onde compro fonte carregador original nessa bosta cidade qualquer_lugar menos haitiano',\n",
              " 'jesus nasceu palestina haitiano',\n",
              " 'ser_humano nascido haiti',\n",
              " 'tipo responsabilidade anos corrupcao botou brasil ultimo_lugar educacao mundial atras ate haiti',\n",
              " 'usem google pesquisem envolvimento crimes haiti desse tarcisio tal heleno amos deveriam estarem presos haia vem ndids',\n",
              " 'ucrania vai_terminar guerra pobre haiti',\n",
              " 'loira manda matar haitiano porque negro convidou pra dancar',\n",
              " 'haitiano trabalho quase nao fala_portugues hora xingar saiu vai direitinho',\n",
              " 'voltar dormir durante dias mae chamou pastor haitiano orar casa falar sobre mordidas pasmem demonio velho casa quarto perdoem ler horrivel saber disso pior tudo',\n",
              " 'legal luladrao vai candidatar haiti',\n",
              " 'acorda voce bolsoburro mundo_inteiro fez lockdown aqui isolamento bem mal feito resultou mil_mortos todos estao_recuperando economia vamos crescer_menos haiti conta deste_desgoverno destrutivo altamente corrupto',\n",
              " 'assim curiosamente andre post deixou lado revolucao_haitiana religiao leleu rsrs',\n",
              " 'top scrobbles semana_passada top artistas bladee kendrick lamar babyfather albuns escutados remastered morale amp the big steppers pray haiti faixas escutadas canto guerra skywalker nervous freestyle via pano scrobbler',\n",
              " 'tava haiti muita trocacao tiro',\n",
              " 'haiti onda raptos resgate frances levado luz_dia centro capital',\n",
              " 'zumbis_reais haiti ciencia_magia',\n",
              " 'criada logo_apos revolucao haiti podemos comecar clareza sobre questao abordagem certa nao acho policial violento traco personalidade especifico nazistas tambem nao menos disse arendt',\n",
              " 'pira falar parecia coreano ainda falaram haitiano lugar',\n",
              " 'misturou alhos bugalhos sim dimensao religiosa essencial revolucoes lista faltou haiti talvez ser religiao afro problema frase jair nao cristao individualiza dimensao religiosa evangelicos nao estao pra moral lider',\n",
              " 'sempre quiz saber soldados_brasileiros paz_onu desempenharam missao haiti jornalistas tecnicos pesquisadores alguem',\n",
              " 'nao coloquei argentina_chile costa_rica haiti porque apesar serem paises tambem governados politicos esquerda nao sao filiados diretamente foro contando paises caminhando paises_america latina governados_esquerda',\n",
              " 'afff visual entidade santeria haitiana',\n",
              " 'soubesse faz_tempo gente fumou_maconha haitiano praca',\n",
              " 'telefone tocou madrugada casa prefeito ascurra arao josino muro escola havia_sido derrubado acidente_transito envolvendo motorista haitiano',\n",
              " 'cuidado mocada haiti rouba ate parentes',\n",
              " 'comandante haiti heroi tanto chamado pra comandar forca_paz congo',\n",
              " 'unidade povos bento_goncalves serra_gaucha recebidos grupo imigrantes haiti homenagearam linda musica',\n",
              " 'identifiquei camaroes_mocambique butao costa_rica estados_unidos portugal serra_leoa malaui haiti malasia india granada barbados peru_equador botsuana',\n",
              " 'aqui orcamento suica zeladoria cidade digna haiti mato canteiros centrais ruas esburacadas iluminacao publica vila anos soja agro mazelas dentro suvs nao_importa',\n",
              " 'maluco adora desdenhar imigrante_haitiano mete uns branco olho_azul pra ver historia muda',\n",
              " 'procure_saber haiti conseguiu_independencia',\n",
              " 'robson idiota tambem achei pontinha preconceito haitiana',\n",
              " 'brasil nao merda muitos_problemas pra resolver desigualdade extremamente problematica comparacao paises india_paquistao haiti ate vizinhos bolivia gente bem obrigado',\n",
              " 'unica_coisa alemanha moeda forte nada tao pobre haiti nao riquezas ainda estao carvao estao_destruindo todos ecos sistemas acham direito vomitar asneiras sobre brasi',\n",
              " 'forcas_armadas governo_lula brasil comanda_missao paz haiti avioes guerra reforcam lideranca america_latina forcas ajudam transposicao sao_francisco hoje forcas compram viagra proteses penianas quadro envolvido trafico_drogas',\n",
              " 'apicultura contribui recuperacao_economica haiti',\n",
              " 'venezuela_cuba argentina haiti estao logo_ali insatisfeito muda pra',\n",
              " 'pais salvador taxa altas homicidios mil_habitantes mundo ate haiti jamaica quer ter moral chamar outros violentos sendo pais violento',\n",
              " 'haiti logo_ali senao pergunta vovo_voyeur gen_heleno comandou_massacre cite_soleil porto_principe comandou_minustah',\n",
              " 'diarista aqui casa haiti veio hoje primeiras_coisas pergunta pra mae casa conta viagens tal sempre vem dou alguma peca roupa pra bom estado adora algo simples valor',\n",
              " 'oportunidade estar haiti vezes impressionado importancia peacekeeping parabens dia_maio continencia',\n",
              " 'video novo primeira parte serie sobre historia haiti desde habitantes antes_chegada espanhois ate dias_atuais',\n",
              " 'dia_internacional peacekeepers grande honra ter_representado brasil servindo onu haiti onu brasil',\n",
              " 'peru malawi haiti dinamarca estados_unidos equador mocambique barbados sumatra',\n",
              " 'decisao precedida medidas provisorias protecao ordenadas corte tambem caso haitianos_dominicanos origem_haitiana republica_dominicana incidencia direta livre movimento transfronteirico pessoas sob artigo convencao',\n",
              " 'venezuela tornamos bozoloide agora meta bozo_familicia ficarmos iguais haiti',\n",
              " 'enviando confirmacao inscreveu clube impressoes junho ler clara_luz lua junto comigo inscreva tambem conhecer literatura_haitiana',\n",
              " 'peru_equador siri_lanka mocambique butao eua dinamarca porto_rico haiti malasia malaui camaroes india',\n",
              " 'republica viagra_protese peniana gel lubrificante picanha_leite condensado grupo haiti expulso_onu onu_pediu afastamento generais dai_odio presidente lula',\n",
              " 'choque sueli_carneiro explanando caetano_veloso dizendo assinou_manifesto contra_cotas feito branquitude intelectuais artistas brancos ainda debochyani canta haiti aqui explicar amigues nao ouco certas corjas',\n",
              " 'dina marca hahahahahahahahaha estados_unidos butao malasia equador serra_leoa peru camaroes_mocambique haiti ate_agora',\n",
              " 'brother voce trabalhou cruz haiti',\n",
              " 'dinamarca camaroes_mocambique serra_leoa equador malaui india peru malasia costa_rica botao granada haiti',\n",
              " 'nao comunidade_xbox chama haitiano_fedorento',\n",
              " 'estagiario instituto interamericano direitos_humanos acompanhei julgamento caso haitianos_dominicanos origem_haitiana republica_dominicana fez voto separado justamente frase',\n",
              " 'camaroes_mocambique serra_leoa equador eua haiti peru',\n",
              " 'mocambique peru_equador india camaroes haiti butao granada serra_leoa malasia barbados dinamarca',\n",
              " 'mocambique malawi haiti estados_unidos peru portugal',\n",
              " 'nao vao observar nao funcao brasil nao haiti republica_centro africana mianmar tailandia burkina_faso mali ter militares envolvidos eleicoes franca eua militares dao palpite eleicoes alguem_sabe opiniao generais eua franca',\n",
              " 'festa_cultural brasil haiti anos maior greve brasil queixadas',\n",
              " 'consequencia nos vemos boric aprovacao menos meses mandato pedro_castillo sofrendo inflacao argentina segunda_maior inflacao_america venezuela ganhou_premio pais_pobre america perdendo ate pro haiti outras merdas',\n",
              " 'voce_sabia adewale neto nome eseosa assassino peca chave sucesso revolucao_haitiana libertacao_escravos sao_domingos pois bem neste novo episodio_serie curiosidades assassin_creed trago tudo sobre',\n",
              " 'paises cuja_populacao abandona procura outros fugir violencia sao paises lixos nao prestam venezuela haiti coreia_norte sudao serra_leoa cuba brasil infelizmente tambem',\n",
              " 'moca_haitiana aqui_trampo nao fala_portugues direito hoje fala pra_mim parece deus quis_dizer pareco anjinhos daquelas pinturas jesus',\n",
              " 'maio_dia internacional_peacekeepers soldados paz nacoes_unidas unmiset timor_leste chefe_secao treinamento pkf fev fev minustah haiti assistente militar force_commander set set nao facil',\n",
              " 'vai fazer_trabalho feito haiti aguentaria_dia mela cueca',\n",
              " 'presidente faca_favor haitiano anos brasil dexei unica filha anos anos nunca preciso facilita visto dificil ter_visto brasil haiti preciso pai',\n",
              " 'outro dados mortes terremoto haiti mortes enchentes india mortes onda_calor canada mortes tufao rai filipinas mortes enchentes china faz pesquisa antes achar coisas_acontecem brasil',\n",
              " 'pais saudade deve_ser cuba_venezuela haiti bolivia etc sta comunista nao representa',\n",
              " 'somalia haiti tambem nao existem leis_trabalhistas asno',\n",
              " 'haiti nao aqui virando hififi bom_dia alliye',\n",
              " 'lisbon estas lisboa dia_junho oferenda danca lisboa',\n",
              " 'alicia nota revista buala sobre ambiente haiti ayiti sabado agora farao oferenda danca voce vai',\n",
              " 'leoni declarou ate ontem caetano_veloso liberal sueli_carneiro entregou caetano escreveu haiti nao aqui posicionou organizou contra_cotas raciais pobre preto nao dia paz liga bem nocalteia necessaria sueli_carneiro',\n",
              " 'carai tipo fascista liga pra imigracao vai dizer pra haitiano venezuelano caracteristicas fascismo gostavam estrangeiros',\n",
              " 'acho deve_estar guardando pra sei copa_mundo olimpiadas pra mandar pra cuba_venezuela haiti cara mandou pros estados combater_covid ajuda pro povo mal_carater',\n",
              " 'voto santos_cruz nao tera aceitar convide dizer participou_golpe alem cruz nao moro nunca fez brasil bem moro fez nada fez brasil fez haiti',\n",
              " 'contradicao politica_interna politica_externa governos_petistas politica_externa quase impecavel gravissima excecao haiti politica_interna fortalece bases reacionarias burguesas pro otan vez vao pressionar nessa direcao',\n",
              " 'ultima_vez cena desta haitiano querendo passar mulher achando brasileiro mandar_dinheiro esta apaixonando vigia pois usa fotos mulheres liga rapaziada',\n",
              " 'frequento cidade desde trabalho digo sempre grandes recifes ricos outra onde pobreza vista grau tao elevado parece haiti desigualdade mato',\n",
              " 'haiti italia costa_rica china noruega haiti linda italia gente_boa costa_rica gente_boa china perfeito noruega fofo',\n",
              " 'comprei negocio haitiano moca falou maracuja pois certeza algum_tipo pinga nao possivel vou ser obrigada pesquisar_google porque nao lembro nome',\n",
              " 'camera gas usada estados_unidos execucao prisioneiros condenados inicio_seculo ainda anos executados naquele_pais condenados tambem usada napoleao acabar rebeliao_escravos haiti portanto',\n",
              " 'leu artigo nyt_sobre haiti divida_franca queria_ver perspectiva economista sobre otimo algo queria estudar fundo recomendo_artigo odious debt seema jayachandran michael kremer',\n",
              " 'amor nao sabe dividir haitiano',\n",
              " 'galera santo_andre tendo feira nacoes aka pre festa_junina igreja matriz rosinha muita comida gostosa varios_paises diferentes varios feitas imigrantes japao chile siria uganda haiti acabei_comprar lanche kafta delicioso',\n",
              " 'agarra botas agarro haiti aqui',\n",
              " 'chegou haitiano obraa bglh cortar_coracao mlk contando_historias',\n",
              " 'moco haitiano convidando vaca pra dancar nao_gostou entregou nome cara pros traficante matou',\n",
              " 'sabe segue senhor fantasma cadaveres deixou haiti',\n",
              " 'haiti liechtenstein cabeca abaixo',\n",
              " 'exato sobre haiti verdadeiro pesadelo tao_ruim autor basicamente fala revolucao afetou brancos',\n",
              " 'konate parecendo ate ryan couto',\n",
              " 'primeira vitoria historia perolas time criado partir trabalho ong haiti serie brasileirao',\n",
              " 'daq_pouco raio vai entrar vai_mudar jogo',\n",
              " 'meio duvida dps desse primeiro_tempo',\n",
              " 'bozo fez viram haiti',\n",
              " 'viramos haiti filha povo nao que comer',\n",
              " 'rio agora esta resende nasceu projeto_social viva_rio haiti',\n",
              " 'aviso_navegantes reprimir revolucao_haitiana napoleao mandou gal rochambeau exterminar mil escravos haitianos poroes navais usando gas enxofre bandidos prf tem precursores protonazistas',\n",
              " 'carvajal marcando gcm cima haitiano bras diaz tentando',\n",
              " 'nao existe marechal serviram missao_paz haiti',\n",
              " 'comunismo abraca george_bush manda exercito_brasileiro mando imperialistas ocupar pais sabotado haiti',\n",
              " 'mando misseis bandidos zelenskyy agora liberdade criminosos azov deixar europeus passar_fome povo paises pobre africa haiti siria',\n",
              " 'postagem tola generica pouco objetiva colocou travas dificeis quer checar operacao designe alguem junto policias gen_heleno sugeriu camaradas haiti assim sera encaram',\n",
              " 'ascensao hitler norte_americano trump anedota comparado vier seguir sera hitler putin norte_americano imperador eua comeca conquistar haiti razoes humanitarias cuba',\n",
              " 'ainda assim see contra_cotas tempo ter escrito haiti comk disse sueli supera',\n",
              " 'principalmente daquela escova disse mercado expandindo chegou ate haiti',\n",
              " 'refresquem memoria nao exatamente modus_operandi general_heleno missao_paz enviada haiti governo presidente lula',\n",
              " 'onu responder sobre estupros boinas_azuis haiti ate_agora nao respostas varias acusacoes pedofila troca_comida tropa',\n",
              " 'impagavel sueli_carneiro revelando pro mano_brown caetano assinou_manifesto contra_cotas haiti aqui nariz',\n",
              " 'haiti unico_pais africano vive africa contem_ironia',\n",
              " 'acontecer virarmos haiti pegarao familias partirao onde enviaram futuras geracoes garantidas',\n",
              " 'brasil sexta maior_economia mundo agora nao consegue empatar crescimento haiti culpa brigadasdigitaisdacut',\n",
              " 'caetano_veloso diz haiti aqi faz lula_livre assinou_manifesto anti cotas esquerda_direita baixo complemento frase dizendo alem_disso pretos',\n",
              " 'vou pagar viagei ontem pro haiti metade_caminho cada falo',\n",
              " 'vou_comentar governo feitos grandes investimentos forcas_armadas cacas submarinos etc intervencao_externa minustah porto_principe haiti alguem lembra politica_encarceramento controle classes plantou vento colheu tempestade',\n",
              " 'cara haiti clonando cartao',\n",
              " 'nada recebo mensagem haiti',\n",
              " 'desonestidade impressionante digna goebbels homunculo fardado haiti espera',\n",
              " 'preco golpe brasil hoje pib_per capita_menor governo_dilma ainda pib brasileiro bolsonaro esta abaixo haiti',\n",
              " 'cidadao frances sequestrado capital_haitiana',\n",
              " 'divida golpes colonialismo haiti franca estados_unidos sao instados pagar_reparacoes terem destruido pais via',\n",
              " 'colocacoes perfeitas missa haiti reorganizou partido_militar missao reagrupou fortaleceu militares enquanto forca politica ali voltaram nao ter interesse sempre objetivos_politicos forca conseguir',\n",
              " 'Parfois vous devez jouer role imbecile pour tromper les imbeciles qui pensent ils vous trompent haiti',\n",
              " 'ontem pegamos_uber boston comecamos papo ingles descobrir haiti comecei_falar frances respondia frances mudava pro espanhol respondia espanhol oui meio obrigada final',\n",
              " 'situacao cracolandia esta show demagogia asquerosa prefeito governador_sao dois lixos duas escorias piores traficantes internem todos nao vagas internem puderem criem vagas haiti situacao assim',\n",
              " 'general delirio vai levar pra camisa_forca fizer justica inclusive haiti vai pra cadeia',\n",
              " 'portugal dois_anos preco derivados trigo nao sobe exemplo tantos ruim igual brasil varios ucrania haiti iemen_palestina afeganistao',\n",
              " 'cara mandou cantada crioulo_haitiano sabe vai_dar namoro',\n",
              " 'vendo diario_oficial aqui principais paises origem pessoas naturalizaram brasileiras siria haiti angola libano cuba egito guine_bissau venezuela destaque nacionais libia paquistao_bangladesh iemen',\n",
              " 'post pessoa dizendo escolheu passar_ferias barcelona porque segundo astrologo local perfeito acordo mapa revolucao solar vidas_passadas mapa astrologico etc coisas nunca apontam pra guaianazes haiti carapicuiba',\n",
              " 'enviou helenao frotista haiti',\n",
              " 'alguem presidente tempo absurdos aconteciam missao_onu haiti pessimo desempenho alterar panorama guerra contra drogas sistema_carcerario etc tambem perverso politica perversidade',\n",
              " 'bateu_desespero nao mumia sera dificil largar mamata custas populacao canalha nao_esquecamos gritar_pega centrao assim vcs fizeram haiti',\n",
              " 'haiti recaidinha seis milhoes',\n",
              " 'pra ver brasil sotaque facil_entender haitiano falando_portugues doq baiano',\n",
              " 'stf dubai meio haiti logico haiti brasil ate',\n",
              " 'mano pegar bau haitiano foda falam_lingua comecam dar trela sabe tao rindo',\n",
              " 'parece jaqueta haitiano vendem centro',\n",
              " 'cuba_venezuela brasil virou haiti',\n",
              " 'nao dizendo apartheid aqui desculpe soou diferente nos falo pais haiti congo souber ruim populacao',\n",
              " 'vizinho haitiano todo mes pct cafe caboclo vem cesta perguntei nao toma cafe disse nao toma cafe preto vai entender',\n",
              " 'brasil maior_economia mundo agora nao consegue empatar crescimento haiti culpa',\n",
              " 'citou revolucao_haitiana lembrando aulas sociologia',\n",
              " 'usando dados pesquisas academicas relatorios financeiros orcamentos governamentais reuniu investigacao historica impressionante franca tirou dinheiro haiti forca prejudicando economia pais_caribenho',\n",
              " 'medo_haitianismo aproximou haiti',\n",
              " 'pra ganhar euro msm nao abre templo haiti',\n",
              " 'vez qaeda fez buraco colocou nitrato amonio fundo fez sismo matou_milhares pessoas haiti vez presidente haiti queria oferecer vacinas populacao assassinado',\n",
              " 'deus nao julga_pecado entao doque dizer sas milhares_pessoas ceifadas tsunami_japao terremoto_matou milhares haiti dizer corona_virus quase toda_populacao mundial',\n",
              " 'queimada sueli_carneiro caetano nao espaco pra mudou ideia haiti escrita',\n",
              " 'lembremos recentemente ventilado giria militar general brasileiro manteve contato grupo mercenario assassinou_presidente haiti nao mera saudacao',\n",
              " 'pergunta inevitavel nao expulsaram eua massacres siria_afeganistao iraque angola america_central haiti servia libia lista_continua esquecer hiroshima_nagasaki',\n",
              " 'voce proximo destino ciro apos eleicoes paris haiti crato',\n",
              " 'nunca pesquisem general_heleno fez haiti',\n",
              " 'nyt lanca luz sobre resgate_pago haiti franca independencia via',\n",
              " 'passarinho azul nao explodir vou_falar bonitinho mandar pessoas honesta realmente trabalhadoras sair favela fazer igual haiti pedi passarinho azul detonar',\n",
              " 'mourao general cria lula envolver brasil conflito haiti ilusao brasil ser membro_permanente conselho_seguranca onu',\n",
              " 'gijn top jornalismo dados investigacao bilhoes perdidos haiti visualizacoes numero_mortes covid eua crescente desigualdade riqueza asia leia resumo historias populares maio',\n",
              " 'ultima_noticia boa haiti revolucao_escravos menos ano pandemia_covid terremoto sequencia serie tornados furacoes mataram_presidente diversas milicias matam territorio praticamente existe_lei',\n",
              " 'video sobre minustah explico motivos_levaram governo_lula autorizar envio_tropas haiti spoiler nao causa acento conselhor seguranca_onu',\n",
              " 'forma perfeita humanizar bravos soldados sacrificavam povo haitiano pudesse liberto gangues dominavam pais claro pobreza assim denuncias_estupro envolvendo menores chacinas caiam esquecimento',\n",
              " 'papel caldeirao_huck programa produziu especial proprio apresentador vai ate haiti apresentar telespectadores dia dia missao_paz brasileira entrevistando soldados meses_longe familias',\n",
              " 'jogo_paz partida realizada selecao haitiana selecao_brasileira recem penta campea mundo contando presenca craques ronaldo_ronaldinho gaucho partida ocorreu praticamente mes antes criacao minustah',\n",
              " 'dois elementos vao importantes criacao imagem_positiva missao liderada_brasil haiti futebol caldeirao_huck vamos primeiro agosto realizado ficou_conhecido jogo_paz haiti',\n",
              " 'duas imagens acima feitas haiti durante_missao onu estabilizacao paz pais minustah_liderada brasil durante todo tempo missao existiu nao poucas denuncias contra forcas lideradas brasil',\n",
              " 'suspeito_participar homicidio haitiano preso policia_civil manha_desta sexta_feira curitiba',\n",
              " 'haiti amp auschwitz pau caido todo_mundo faz graveto onca morta ate cachorro mija nela onca morta todos metem dedo bunda',\n",
              " 'nunca italia_portugal eua rep_dom haiti agora moro franca digo portugal brasil europa sim franca pode ate ser desorganizada nada compara corrupcao portugal contar poder_compra',\n",
              " 'nacoes_unidas lembram caraibas vivem fluxo crescente migrantes_refugiados devido instabilidade_politica inseguranca socioeconomica enfrentada paises haiti honduras',\n",
              " 'eis recebo dessas propostas trabalho numero haiti olho status cidadao totus tuus ego sum vierge marie omnia mea sunt ate brothers christ querem passar_perna pode',\n",
              " 'independencia haiti esmurra independencia eua todos_aspectos vcs_acham repercutida ninguem pronto pra conversa',\n",
              " 'encontrei marteli reunioes crioulo onibus crioulo_haitiano super enferrujado ainda consegui conversar fiquei_feliz',\n",
              " 'salve aqueles dedicam fazer boa obra medica_zilda arns_morreu',\n",
              " 'aceitou candidaturas beneficio parceiros projetos menos dioceses continente paises onde ajuda maior venezuela haiti cuba',\n",
              " 'clinton sao donos haiti controlam todo ouro diamantes plantio arroz nao novidade dinheiro_doado fundacao_clinton reconstrucao_pos terremoto desviado cavando fundo fica pior',\n",
              " 'quase_chorando ida vovo pro haiti vai deixar saudades',\n",
              " 'apesar humildes tentativas mexer vespeiro nesse_periodo inclusive terriveis politicas seguranca_publica ocupacao_morros tambem forcas_paz haiti',\n",
              " 'quer ver coisa nessa_lista esta dumornay certeza colocaram dumornay porque fez chover sub haiti empatou eua concacaf nigeriana exemplo jamais saberiam existencia',\n",
              " 'haitiano morto porque mulher nao quiz dancar curitiba',\n",
              " 'suspeito_matar haitiano casa_noturna preso curitiba',\n",
              " 'policia_civil prende_suspeito homicidio contra haitiano curitiba',\n",
              " 'lendo_sobre haiti descubro coisas_absurdas caralho vai_fuder franca',\n",
              " 'policia_prende suspeito_matar haitiano saida bar_curitiba',\n",
              " 'homem preso_suspeito ser mandantes_assassinato haitiano baleado apos convidar mulher dancar curitiba',\n",
              " 'lendo historiador dizer rev haiti possivel causa febre_amarela fico clr_james historiadores culpam principalmente febre sao_domingos sido unico local mundo onde imperialismo europeu deparou febre',\n",
              " 'perde haiti ate terra tremer lugar preguica',\n",
              " 'desempenho excelente ter pior crscimento americas perdendo pra haiti favor procurar informacoes confiaveis verdadeiras mentiras desseminada ministerio carluxo goebbels bolsonaro cansa',\n",
              " 'tai lula pra resolver cabo_rabo postagem brasil bolsonaro pior_crescimento america america_latina atras ate haiti',\n",
              " 'ingleses usavam campos_concentracao africa antes hitler nascer genocidio belga_congo matou mesma pessoas holocausto milhoes colonizadores_franceses usaram camaras gas pra matar nativos haiti',\n",
              " 'ourinvest empresa venezuelano haitiano espalhados brasil vendendo corrente ouro reais',\n",
              " 'acabo fazer entrevista advogado lider ong pais_caribenho pierre bruny fatores imigracao realidade escolhe sair haiti ter brasil destino',\n",
              " 'the_new york_times flagelo haiti raizes tambem invasao eua orientada wall_street',\n",
              " 'flagelo haiti raizes tambem invasao eua orientada wall_street',\n",
              " 'veneravel_cardeal disser_tanto espirito_feto nenhum_marginal veloso caetano haiti',\n",
              " 'pcpr prende_suspeito homicidio contra haitiano curitiba',\n",
              " 'frances haitiano diferente escutar pprt parece gay',\n",
              " 'haiti quer ser aqui',\n",
              " 'amarro imigrante haitiana trabalha aqui_firma totalmente fodase ideia desci pra tomar_cafe encontrei copa simplesmente tomando cerveja manha pleno hoario trabalho braba demais',\n",
              " 'brasil rebaixado haiti aqui auschwitz aqui medo',\n",
              " 'preso_suspeito mandar_matar haitiano ciumes saida bar_curitiba imagens cameras_seguranca mostram momento disparos leia',\n",
              " 'lembra amistosos_selecao brasileira haiti palestina acha futebol politica',\n",
              " 'sueli mandando liga bem referencia caetano ter assinado manifesto contra_cotas onda cantar haiti aqui',\n",
              " 'amigo venezuelana sofri muita xenofobia aqui entao nao akakakak haitiano sofre racismo alem serem julgados mal conseguir falar_portugues',\n",
              " 'mulher mandou_matar rapaz haitiano ter tentado dancar caralho sociedade doente bandida inferno',\n",
              " 'toque_caixa bolsonaro vai recriar todos ministerios epoca pra poder ganhar centrao haitiano_avisado bolsonaro_acabou voce nao presidente',\n",
              " 'nova ligacao casa design schumacher chamada cul sac victor glemaud ode estetica clean designer bem heranca caribenha colecao traz veludo corte geometrico toile totalmente novo shibori hibisco flor nacional haiti',\n",
              " 'apicultura_ajuda recuperacao_economica haiti',\n",
              " 'acha imigrante_haitiano senegales tratado brasil bem igual italiano igual ingles gente vamos acordar racismo existe brasil mito brasileiro cordial supimpa turista mundo tambem',\n",
              " 'cada barris petroleo produzidos mundo sao produzidos estatais desastre incomensuravel acontecesse paulo_guedes permanecesse ministerio economia quatro_anos brasil viria haiti vassalo senhores feudais faria_lima',\n",
              " 'faz pesquisa descendentes africa francofana haiti ver tambem tipo banheira hotel luxo',\n",
              " 'imagine sacanagem oras gasolina brasil mito vendida dolar pois petrobras segue mercado internacional reais gas_cozinha entao produto basico reais alimentos cenoura reais potencia igual haiti',\n",
              " 'acho gente precisa defender tanto imagem rei neymar patrimonio selecoes haiti existe feriado pais simplesmente terem_feito gol enquanto gente recebeu privilegio morar pais penta_campeao mundo',\n",
              " 'lembrando trata bem estrangeiro pais_rico pergunta pra haitiano venezuelano sao_tratados lado bom nao consenso populacao ser amigavel seletivamente',\n",
              " 'basta_olhar brasao pmerj exemplo saber porque ter_sido criada ramo cana_acucar lado cafe outro forca desenvolvida proteger grandes latifundiarios escravocratas influencia medo nova revolucao_haitiana',\n",
              " 'depende gringo acolhedores europeus norte_americanos nao acolhemos tao bem povo africa haiti timor_leste',\n",
              " 'sequestros massa aumentaram haiti longo semana estrangeiros haitianos sao vitimas desse crime troca indenizacoes serem barganhados gangues sequestros aumentam instabilidade violencia aproximando pais guerra_civil',\n",
              " 'menor quietao irmao ver',\n",
              " 'direita cretina quer moderacao radicalizando injusticas plantar mina terrestre nao_adianta arrotar burke citar russia haiti exemplos revolucoes deram_errado tomem_vergonha defendam justica assim radicalismo sera derrotado',\n",
              " 'copa_confederacoes espanha haiti',\n",
              " 'faz sozinho coloca nome bandido',\n",
              " 'sempre nao tankando bostil lembor menos nao nasci haiti',\n",
              " 'caetano disse haiti aqui_gustatatavo diz aqui',\n",
              " 'genivaldo negro esquizofrenico verdadeiro cidadao_bem brutalmente_assassinado deveriam proteger enquanto familia chora brasil cala diferentemente morte_george floyd cantou haiti aqui',\n",
              " 'nao haiti auschwitz agora tambem aqui balaio kotscho liberdade matar rotina barbarie pais genivaldo bols via',\n",
              " 'escala nada ate quanto confia policia_nacional segue situacao brasil perspectiva comparada partir dados brasil perde nicaragua colombia haiti todos escore',\n",
              " 'livros prateleira livro fotos guerra haiti estante bicicleta cadeira disse consertaria mesinha disse consertaria skate colocaria parede garrafa mesa ajudou montar mano',\n",
              " 'sofrendo twitter rindo cavala haitiana grupo',\n",
              " 'forca empregada haiti desponta exemplo ser_seguido qualquer possibilidade rebeliao_escrava respondida sangue negro chao premiacao repressor nessa_logica surge policia_militar rio_janeiro nao coincidencia',\n",
              " 'ouvir_silencio sorridente_sao paulo_diante chacina cento_onze presos_indefesos presos_sao quase_todos pretos_quase pretos_quase brancos_quase pretos_tao pobres pense haiti reze haiti haiti aqui haiti nao aqui',\n",
              " 'quer ler literatura_haitiana comigo',\n",
              " 'brasil bolsonaro pior_crescimento america america_latina atras ate haiti',\n",
              " 'kamamajajahaoakakakakj haitiano castelo literalmente nada casa dboa sala nada',\n",
              " 'trama acompanhamos claire limye lanme dia_aniversario anos entregue vendedora tecidos haitiana pai futuro melhor enquanto pensa comecar vida exterior',\n",
              " 'edwidge_danticat nasceu porto_principe haiti anos comecou ser cuidada tios porque pais mudaram estados_unidos pais onde morar posteriormente anos dificuldades adaptar encontrou escrita refugio',\n",
              " 'lloris descendencia espanhola catala kounde beninense varane martinica upamecano bissau guineense kimpembe congolesa haitiana tchouameni camaronesa pogba guineense hernandez espanhola griezmann portuguesa alema mbappe camaronesa argelina benzema argelina',\n",
              " 'violencia regime escravidao nao restrita brasil todas regioes sob julgo colonial neocolonial marcados violencia contra populacoes_negras populacao_negra rebelada revolucao_haitiana ficaram marcadas violentas',\n",
              " 'veem tanto_espirito feto_nenhum marginal trecho haiti caetano_gil',\n",
              " 'caro_senador sera tantas_outras lembra jacarezinho haitiano barra_tijuca entao dara nada vira outra esqueceremos brasil tragedia constante',\n",
              " 'auschwitz aqui haiti aqui',\n",
              " 'haiti nao aqui sicilia',\n",
              " 'pensar esperanca geral aqui bolha partido militarizou morros upps caveirao exercito morro vao conta falar haiti nao_esquecam haiti',\n",
              " 'sentido projeto modernidade haiti baixo',\n",
              " 'bola dentro nyt muitas materias reacas haiti unico_pais mundo onde_descendentes escravos obrigados_pagar reparacao descendentes_senhores geracoes',\n",
              " 'gente absurdo populacao haiti pagou geracoes indenizacao descendentes daqueles escravizaram',\n",
              " 'proteger esteira diversos movimento resistencia pretos indigenas pais principalmente revolucao_haitiana comecam armar politica contrarevolucao permanente baseada repressao_violenta daqueles poderiam revoltar colocar',\n",
              " 'carnaval virtual escola serpente ouro_grupo acesso enredo puro voodoo benin nova_orleans haiti revolucao_negra contato instagram',\n",
              " 'abusos decorrente missao haiti implantacao upp devem_ser fruto imaginacao vou_falar policia bahia',\n",
              " 'deixar paulo_guedes anos ministerio economia brasil transforma haiti iemen porque pobreza vai_ser tanta vai espalhar vai tirar tantos direitos sabe ate lei_aurea',\n",
              " 'opa cardapio variado amigo aqui burundi passando_necessidade almocei iguaria haitiana biscoito_barro',\n",
              " 'diante total derrocada monstruosas multiplas destruicoes imposta terra abandono onu pensa tomar haiti triste posto pior_idh americas',\n",
              " 'haitiano derruba muro escola acidente conserta tudo cidade renato igor nsc_total',\n",
              " 'concordo_contigo pra ter_ideia esta ruim ter atendimento bom sistema seguranca eficaz imagine nao colapso tornariamos iguais bolivia haiti mexico leis',\n",
              " 'apontando mapa onde_fica italia haiti bolivia_venezuela pra atividade irmao achando ser onisciente',\n",
              " 'nao haiti nao aqui inferno aqui',\n",
              " 'opt ter capitalizado estrutura petrobras ter_mandado exercito dar imperialista haiti vender reserva estrategica gas ter aberto conchavo igual fhc mensalao lula ser cacado seguir modelo_economico conhecido agenda_neoliberal fake_news',\n",
              " 'recebendo alguem preto guri haitiano vao cima pai',\n",
              " 'lembre concacaf nao usa mexico belice barbados_trinidad tobago haiti republica_dominicana grande_maioria nao futebol_profissional',\n",
              " 'acontece brasil genocidio materializado escancarado populacao_negra utilizacao artificios crueis chegar fim nao novidade camara gas assemelha utilizadas revoltas haiti guadalupe alemanha_nazista',\n",
              " 'debs exercito_brasileiro experiencia tipo pacificacao exemplo trabalho haiti odiados sairam amados populacao claro trabalho longuissimos anos muita atuacao militar social',\n",
              " 'brasil tem envoluido desde devemos agradecer corruptos poder economico mercado grandes_midias temer centrao bolsonaro militares quais serao alvos serem atacados brasil existe milicias_armadas bolsonaro colombia haiti existem aqui',\n",
              " 'caetano dizia haiti aqui_gustatatavo pode dizer aqui',\n",
              " 'fez haiti sera aplaudido ate fim vida europeus',\n",
              " 'acho lindo venezuelano haitiano falando_portugues fluente vontade ouvir dia todo',\n",
              " 'hoje haitiana chamou macici alem chamar macho chamou gay lingua',\n",
              " 'apos anos governo_bolsonaro brasil segue paises menor liberdade_economica mundo america proximos haiti ira quenia cuba chile_peru colombia uruguai governo liberal',\n",
              " 'haiti ainda aqui junto alemanha tabata amaral autora projeto embriao destruicao institucional promovido fascismo militar miliciano tras privatizacao eletrobras estao bancos nacionais adivinha bancos norte_americanos achou pouco',\n",
              " 'dizia_caetano veloso haiti aqui',\n",
              " 'invasao haiti governo_lula operacao alemao tambem implantacao upps tambem rui_costa joao campos sao esquerda gente esquerda aliando alckmin eduardo paes doria esquerda liberal tambem assassina',\n",
              " 'tao vergonhoso general condecorado mundo todo heroi brasileiro informe falar haiti nao',\n",
              " 'nao vou_falar haiti onde brasil historia horror vergonha pura_incompetencia',\n",
              " 'conversou ouviu entrevista bem nao politica haiti sendo comandante conversei longas horas assisto sempre entrevistas favor generalizar nao respeito posicao',\n",
              " 'nao nao lembrar tonton_macoute milicia nefasto papa_doc criaram caos falencia social haiti bolsonaro quer ser papa_doc brasil',\n",
              " 'processos importantes mundo_contemporaneo revolucao haiti episodio historico completamente unico sintese mundo iluminista revolta percepcoes revolucionarias povos negros jacobinos_negros melhor definicao possivel',\n",
              " 'trata disso instituicoes possuem cultura interna ter povo pobre inimigo policia brasil criada_joao pra defender fazendeiros evitar_revolucao haiti basta_ver hoje brasao pmrj cana cafe',\n",
              " 'ouverture guerreiro escravizado liderou revolucao_haitiana revolucao derrotou colonizadores_franceses espanhois estabeleceu primeira_republica negra livre logo_apos morte',\n",
              " 'senhor nao exitou trazer zika_virus brasil terremoto haiti coronavirus mundo tudo nao achou arrependimento coracoes quanto continuara fazendo uns arrependam',\n",
              " 'candidato pra governo sao_paulo pra ainda nao conhece apresento futuro_governador sao_paulo tarcisio_gomes freitas fez_parte missao_paz onu haiti sabe caos verdade sao_paulo sera bem cuidada',\n",
              " 'brasil tempo bom futebol brasil samba brasil bom carnaval mundo_inteiro vieram divertir agora viro haiti jair presidente genocida monte militares mal_carater monte policiais canibais matar pretos_pobres prazer',\n",
              " 'joseph_philippe lemercier laroche maio abril engenheiro haitiano educado paris unico passageiro conhecido ancestrais africanos malfadada viagem inaugural navio titanic',\n",
              " 'pandemia mundo todo cepal_preve brasil tera_pior crescimento_america latina panama venezuela colombia guatemala_uruguay bolivia cuba argentina peru mexico chile haiti brasil',\n",
              " 'caetano disse haiti aqui_gustatatavo pode dizer aqui',\n",
              " 'caetano disse haiti aqui_gustatatavo liiima diz aaalemaaanha aqui acima_tudo',\n",
              " 'caetano disse haiti aqui_gustatatavo diz aalemaanha aqui',\n",
              " 'melhor tudo conta escravos ficou franca fez haiti hub distribuicao adivinha comprava africa principalmente nigeria britanica produzia franca distribua america consumia',\n",
              " 'acusaram transformar pais venezuela bolsonaro_transformou haiti',\n",
              " 'haitiano gosta_tanto macarrao',\n",
              " 'franca apoiando golpes vergonha eua nao esperava_outra coisa povo haitiano sofre tal defesa liberdade',\n",
              " 'indenizacao_bilionaria paga escravos_libertos senhores esta origem_miseria haiti franca repetidamente subestimado distorcido enterrado assunto',\n",
              " 'resultado dessa bosta governo bozo genocida instituicoes serias agora dominadas bandidos milicianos tocam terror haiti aqui',\n",
              " 'alo tio_rei nada contra metafora querido imortal gil achei emblematico editorial coisa voce iria terminar divina apocaliptica haiti desculpa desabafo',\n",
              " 'previsao pib brasileiro menor haiti',\n",
              " 'previsao pib brasileiro consegue ser menor haiti',\n",
              " 'parceria victoria pacheco escrevi_sobre terremoto ocorreu haiti trouxe panorama historico geografico deste pais',\n",
              " 'esconder vezes elemento surpresa policia evita ordens dadas operacoes comecam madrugada impede tatica policiais usam taticas particularmente usei exercito city solei haiti havia modus_operandi',\n",
              " 'haiti aqui bozo manda matar aplaude',\n",
              " 'estonia eswatini essuatini suazilandia etiopia fiji_filipinas finlandia_franca gabao_gambia gana_georgia granada_grecia guatemala_guiana guine_guine bissau_guine equatorial haiti holanda honduras_hungria iemen india_indonesia inglaterra',\n",
              " 'vale_pena lembrar ultima festa cultura brasil haiti',\n",
              " 'ainda ficam rindo comida_tipica haiti pais original coitada',\n",
              " 'aham deixa filho nao venho haitiano tudo genetica baby vai vim beyonce igual mae kkkkkkk',\n",
              " 'brasil genocida pior_crescimento america_latina atras ate haiti brasil bolsonaro pior_crescimento america america_latina atras ate haiti',\n",
              " 'mano cara quer gravar comigo haitiano mal fala_portugues',\n",
              " 'trauletada mane river vem pra briga ein fodase time fraco pode_ser quarta_divisao haiti time grande fazer',\n",
              " 'sempre assim republica_bananas feijao arma aumento diesel desbastecimento emprego direitos_trabalhistas desemprego almoco jantar extrema_direita esquerda venezuela haiti viver morrer neste_ultimo nao direito escolha opcao',\n",
              " 'franca defendia liberdade_igualdade fraternidade burgueses pais ditaduras_sanguinarias paises colonizados leia sobre_revolucao haitiana leia sobre tunisia_argelia marrocos etc',\n",
              " 'literalmente conheci haitiano mora brasil',\n",
              " 'sempre perde guerra cristaos senao iria fazer igual revolucao_haitiana onde macumbeiros maior_numero fizeram massacre',\n",
              " 'sempre perde guerra cristaos senao iria fazer igual revolucao_haitiana onde macumbeiros maior_numero massacraram franceses menor numero',\n",
              " 'conheci haitiana daora demais fala_linguas',\n",
              " 'segredo franca saqueou haiti serviram construcao torre_eiffel avenida champs_elysees outros pontos turisticos paris haiti pagou_divida orcamento nacional custas educacao_saude estradas_pontes',\n",
              " 'imaginar franca abriu_mao canada pra ficar haiti riquezas minerais',\n",
              " 'indenizacao_bilionaria paga escravos_libertos senhores esta origem_miseria haiti acordos desonestos dividas gigantescas corrupcao generalizada resultaram deficits orcamentarios problemas_sociais moldaram pais_caribenho',\n",
              " 'haitiano aqui aonde trabalho dizendo vai_dar iphone carro casar serasi deus',\n",
              " 'trocaria rio nojeira haiti',\n",
              " 'traficantes seres_humanos madre_teresa verdade homem pai fauci traficante criancas vendia criancas ganhava milhoes ano vaticano lacos theresa incluem baby_doc duvalier_ditador haitiano',\n",
              " 'polonia nao amedronta haiti',\n",
              " 'traficantes seres_humanos madre_teresa verdade homem pai fauci traficante criancas vendia criancas ganhava milhoes ano vaticano lacos theresa incluem baby_doc duvalier_ditador haitiano charles keating',\n",
              " 'melhor aspecto governo fhc ter sucateado gente pior lula ter_dado prestigio missoes haiti maior desafio segundo governo_lula sera devolver pasta volta tubo primeiras acoes terao ser contundentes',\n",
              " 'tava duvida colocava haiti caribenho latino falam_lingua latina realmente muitos_aspectos sao caribe latino',\n",
              " 'menos paises crecimento economico brasil ate haiti esta melhor brasil',\n",
              " 'outro jogador bom galera brasil nao conhece ainda chama skal labissiere haiti companheiro equipe experiente barea',\n",
              " 'compartilha motorista haitiano segunda passageira igualmente haitiana usando muletas avenida getulio_vargas vai descer pede pra entrar estacionamento sao_jose nao entra faixa estacionamento rua',\n",
              " 'invadiu invasao queres falar iraque_afeganistao vietnam reino havai cuba porto_rico filipinas_panama honduras_nicaragua haiti republica_dominicana somalia_iemen etc_etc tudo eua ucrania outro amigo direitoso putin federacao russa',\n",
              " 'satanismo tambem segundo william schnoebelen magia_negra perigosa voodoo haitiano candomble ubanda pior quimbanda tambem pesado mexe demonios nao algo brincar',\n",
              " 'sobra fazer doutorado maiores instituicoes mundo amigo haiti veio visitar surpresa amigos todos_lugares mundo gente aqui',\n",
              " 'colocaria haiti caribe tambem resto esta perfeito',\n",
              " 'trecho_musica caetano_veloso haiti nao deixa_ser sentido',\n",
              " 'jornal eua dias fez materia_sobre politica colonialista francesa destruiu haiti nada falou sobre politica colonialista eua perpetuou desigualdade hoje frances troco coisa',\n",
              " 'ministro nao quis sair candidato estado natal capitao pro haiti onu abandou estado rio_janeiro pra ser candidato estado',\n",
              " 'modus_operandi militares tem legado ocupacoes_militares criminosas haiti amazonia instituicao civil pms precisam ser contidas desmilitarizadas urgentemente oferecem risco estabilidade institucional democratica',\n",
              " 'sim heleno_acusado massacre haiti considero crapula general considero assassino',\n",
              " 'racista haitianos porque asse venezuelanos_cubanos outras paises haiti republique dominicanos nao vivo sim haiti comprar nada santo_domingo republique dominicanos futidos',\n",
              " 'pesquisar_sobre epoca achei materia motorista_app serviu forcas_armadas ano haiti coincidentemente sobrenome italiano acham criminoso ser morto nao_entendem pobreza descaso levam violencia',\n",
              " 'conto pra voces voltei pra casa app servidor forcas_armadas haiti sob_ordens gal_heleno suspeitos estupro vinganca praticado cultura_haitiana mortos rastros pra nao dar onu cara nao_aceitam direito vida',\n",
              " 'guerra_ucrania siria haiti general_heleno tao violenta quanto guerra general_braga neto_interventor temer rio jamais atacou territorios milicias',\n",
              " 'cara acabou absolutismo frances diz ruim falando franca haiti',\n",
              " 'pense haiti reze haiti haiti aqui haiti nao aqui aqui haiti grande senador emociona abs',\n",
              " 'sobre operacoes otan imperialismo mapa mundial ingenuidade desconsiderar governo eua fizeram panama_nicaragua salvador_honduras guatemala anos afeganistao_iraque siria_libia haiti varios_paises anos',\n",
              " 'uber_haitiano argentina apaixonado brasil ensinando xingamentos frances',\n",
              " 'ricos eua estao todos saindo pra pro haiti entendi logica',\n",
              " 'deram protagonismo enviando_tropas treinar chacina haiti estao tocando projeto desde_entao',\n",
              " 'esse veio_caquetico nao inteligente dividas ser cobrada vide caso haiti nao respondeu nada ate_hoje',\n",
              " 'algum cretino tuite reportagem nyt coragem_dizer haiti parou pagar assim nao fez nada_disso',\n",
              " 'falo crioulo_haitiano haiti lindinho',\n",
              " 'cade tweets sobe guerras convencionais hibridas siria venezuela iraque_afeganistao congo inumero paises_africa libia haiti brasil outros_paises estao_sendo pilotadas estados_unidos cego convem',\n",
              " 'indenizacao_bilionaria paga escravos_libertos senhores esta origem_miseria haiti',\n",
              " 'embaixador franca revela golpe haiti derrubou presidente aristides armado eua franca triste revelacao imaginava daqui oito_anos vamos saber orquestrou golpe contra dilma',\n",
              " 'incrivel estudar movimentos haiti',\n",
              " 'panama haiti paises_sofrem africom etc',\n",
              " 'haiti sao rarissimos iphone postar inverdades',\n",
              " 'haiti literalmente unica independencia america_latina ser feita participacao elite ate_hoje pais sofre vem intelectual fala revolta anti_escravista forca baseada religiao_voodoo massacre contra branco',\n",
              " 'ilustrinhas fiz pra livro conta sobre dois sobreviventes_terremoto haiti',\n",
              " 'indenizacao_bilionaria paga escravos_libertos senhores esta origem_miseria haiti cont',\n",
              " 'vergonha colonizacao branca capa nyt presidente haiti pede devolucao descendentes familias europeias perderam escravos independencia pais vultosa indenizacao obrigou bala pobres libertos pagarem acaba expulso pais',\n",
              " 'indenizacao_bilionaria paga escravos_libertos senhores esta origem_miseria haiti mundo globo',\n",
              " 'vamos ser claros tarso prefere acreditar instituicoes obvio generais heleno heroi daquela_operacao libertadora dirigida eua franca haiti bope chacina tribunais moro tantos povo',\n",
              " 'waguinho policia precisa ter mesmas garantias forcas_armadas haiti bandido apareceu arma_guerra frente atira_primeiro pergunta',\n",
              " 'conhece musica_caetano diz haiti aqui',\n",
              " 'tome diazepam troque fralda_geriatrica todo melado cantarolando caetanin haiti reuniao comando vermelho trafic portando fuzis granadas ops guarda chuvas bope chegou nada flores trocaram balas vts molusco',\n",
              " 'departamento servico social federacao luterana mundial flm esta_coordenando construcao dez moradias familias_perderam casas terremoto_magnitude abateu_sobre haiti ano_passado',\n",
              " 'nao fale nao entende coronel falou pura_verdade rio dessa decisao infeliz invadido verdadeiros mercenarios vindos ate exterior africa haiti diz metodo formacao exercito guerrilha',\n",
              " 'muitos locais cemex estao proximos pontos trafico_humano cemex fundacao_clinton capital loop haiti mundo todo patente misturar sangue concreto caminhamos sobre todos_dias pessoas estao doentes',\n",
              " 'selecao francesa basco alemao argelino haitiano_senegales congoles martinicano camarones espanhol guineense pasmem ate alguns franceses umas nacionalidades nao lembro',\n",
              " 'carrapatos corpo hospedes vieram ivermectine perguntei sobre covid resp soldados_brasileiros ensinaram deus brasileiro agora sabemos haitiano total obitos pop total milhoes indice_obitos milhao',\n",
              " 'verdade citou parte cancao haiti caetano_veloso',\n",
              " 'pao salsicha breja churras pensar nao viramos_venezuela viramos haiti deploravel',\n",
              " 'historia feliz_aniversario toussaint_ouverture escravo liderou revolucao_haitiana derrotaria colonizadores_franceses espanhois estabeleceu primeira_republica negra livre logo_apos morte',\n",
              " 'cascavel pra_mim preconceito diz mulher sobre falta atendimento haitiano acamado avc',\n",
              " 'ver sequencia tweets pessoa utiliza revolta contra_escravidao haitiana suposto exemplo racismo contra brancos',\n",
              " 'apareceu gafanhoto trabalho haitiano deu_risada nome gafanhoto dai_perguntei chama criolo disse shuavandi',\n",
              " 'sentido cara pedir_desculpas ter xingado cara haitiano dps ficar expondo aparencia mlk motivo diminuir nao meio hipocrisia',\n",
              " 'alguem faz resumo revolucao haiti pra_mim moral',\n",
              " 'discuti guria facul falando haitiano vem roubar servico aqui brasil malucooo',\n",
              " 'documentario_sobre revolucao haiti nuuu pasma ainda inteligencia espiritualidade lideres',\n",
              " 'professor_contando pro haiti surto_ebola sala toda nessa energia aqui',\n",
              " 'grandao genife anistrong seguindo haiti',\n",
              " 'reflexo carnaval fiz_amizade haitiano falou veio brasil achando mulheres andavam peladas rua ainda falam sao exemplo mulheres pqp',\n",
              " 'nunca ninguem ser hippie gana haiti sempre suecia_noruega dinamarca',\n",
              " 'curiosidades jogos luta guilty gear nome ramlethal valentine pode_ser fusao dois veiculos musicais album ram paul linda mccartney banda heavy metal lethal vale_citar ram tambem nome banda rock haitiana',\n",
              " 'lula negro gay palestino mulher lesbica trans boliviano haiti',\n",
              " 'sera haiti aceitam exercito',\n",
              " 'cnn acha tragedia pois quase_todos sao pretos_pobres tao_pobres pretos sao_tratados haiti aqui',\n",
              " 'passando pouco mal novo casimiro vai_dar namoro cara primeiro gostoso aparece fala crioulo_haitiano casava',\n",
              " 'regua deveria_ser proprio relator pintar bordar haiti general_heleno declarou milhoes_reais bens ultima_eleicao',\n",
              " 'errado cbf_marca jogos preparacao contra andorra haiti vietna enquanto caras jogam eurocopa',\n",
              " 'haiti principal_colonia francesa populacao menor',\n",
              " 'maluco odeio haiti amo brasil',\n",
              " 'logica brasil concentracao_renda entao bora taxar ricos nivelar todo_mundo resultado todo_mundo pobre estilo venezuela_cuba haiti',\n",
              " 'not estudar matematica ultima_hora porque achava professor ser misteriosamente raptado mafia haitiana',\n",
              " 'embaixador franca haiti thierry burkhard admite golpe_estado ilha orquestrado franca eua evitar entao presidente aristide cobrasse reparacoes franca ter roubado haiti',\n",
              " 'torre feita dinheiro franca_roubou haiti',\n",
              " 'excelente_thread comentando materia_sobre haiti ainda indicando comentando bibliografia sobre_tema',\n",
              " 'outro jornalista experiencia haiti casado especialista pais listou aqui todas novidades artigo tambem analisa faltou artigo recalque academico classico',\n",
              " 'saiu_artigo times uns_dias atras sobre divida_franca impos haiti profissional bonzao gemendo todo_mundo sabe porra estadunidense medio nao sabe nome todos estados proprio_pais caralho sabem haiti',\n",
              " 'tino policiais precisam mesma garantia forcas_armadas haiti pegou armas guerra mao atira_primeiro pergunta geral',\n",
              " 'cinco pontos chaves materias new_york times sobre exploracao financeira haiti franca traducao automatica google',\n",
              " 'times relembra hoje data fuzileiros_navais eua entraram sede banco nacional haiti sairam ouro operacao_invasao grande_escala haiti pais eua governaram forca bruta anos nunca esquecer',\n",
              " 'mudou monte branco declarou pardo educacao_basica raiz problema continuou pior haiti',\n",
              " 'exatamente nao_bastasse haiti tambem localizado regiao instabilidade geologica quantidade_pessoas morreram_terremoto atingiu porto_principe comparada populacao total haiti epoca completamente chocante',\n",
              " 'engracado venezuelano haitiano veio mao frente outra atras casa conseguiram ate carro brasileiro cheio beneficios nao consegue nada',\n",
              " 'dizia_gil haiti aqui',\n",
              " 'noticias boas nao_param chegar vai ouvi_dizer haiti cara',\n",
              " 'ganrantia tiene haitiano muerto vai ver oque vai_virar olha tienemos miedo exerco voce populacion puede luta voces cuida cuida cuida',\n",
              " 'haiti vergonhoso capitulo_historia nao devemos deixar cair esquecimento enslaved haitians did the seemingly impossible they ousted their french masters and founded nation',\n",
              " 'quiser passagem pago venezuela_cuba haiti coreia_norte arabia_saudita pode_escolher',\n",
              " 'homicidios sequestros violacoes onu diz violencia atingiu niveis intoleraveis haiti',\n",
              " 'cara estupido demais entender existiram sancoes_economicas haiti justamente escravidao continuasse haiti falhasse',\n",
              " 'segredo publico sempre eua franca infernizando haiti desde assim',\n",
              " 'estupraram criancas anos haiti torturaram mataram milhares voce espera lixo desses_milicos merecem pior',\n",
              " 'lixos_humanos estupradores_criancas haiti voces sao pior escoria projeto nacao militares preve cobranca sus exploracao amazonia veja_integra',\n",
              " 'petrobras nunca problema sempre solucao turma direita assume poder petrobras vira problema entao problema turma direita haitiano economia afegao costumes',\n",
              " 'nao vamos_virar venezuela nao mar_caribe nao sorvete efe nao arepa peito nao crescer_menos haiti conseguimos',\n",
              " 'otima lembranca ainda casos compensacao paga proprios_escravizados irmandades mostra bem quanto sistema financeiro moderno construido dinheiro escravidao caso haiti proprios_escravizados',\n",
              " 'ainnn fantasma comunismu assim falou retardados mentais venezuela antes pais_rico america_latina maior_reserva petroleo mundo pais miseria pior haiti',\n",
              " 'levou soco haitiano akkaka brinks',\n",
              " 'sao funcionarios exercito cubano falar cabo brasil vai pro haiti escravizado',\n",
              " 'avise haiti avise banana nao subiu',\n",
              " 'porra maluco vendo bando militares politica lembro minoria esquerda falava dar merda enviar caras pro haiti colocar centralidade edn brasil potencia veio grandes_eventos glo deu merda',\n",
              " 'paises_america latina brasil ocupa_lugar esta abaixo paises costa_rica uruguai equador_chile acima cuba haiti venezuela',\n",
              " 'pra monte_castelo nao_aguentaria minutos coeh cara merda gloria exercito catar corpo italia haiti quase perde pra haitiano ainda passa vergonha pra',\n",
              " 'querendo aqui haiti recorrente ira spartacus ailton benedito sousa',\n",
              " 'amo qnd professores falam terremoto haiti lembro pai',\n",
              " 'lembrando aqui pouco alcoolizada conheci gretinhas hyatt levei maior papo garcom haitiano frances realizei_sonho mesma hora',\n",
              " 'esqueceram combinar povo disse vou_repetir ffaas devem_ser extintas necessario recriadas novas bases capitania hereditaria farda nao produziu nada bom pro pais ainda fez_merda exterior haiti mulheres_criancas sabem',\n",
              " 'qdo haiti africa libano gente manda',\n",
              " 'pois vasculhei twitter nao nenhuma revolta contra drake chando haitiano sujo lord mil_grau chamando dono xbox mendigo sabe cara lixando pra racismo_xenofobia etc fanaticos playstation liberado',\n",
              " 'tao tao pobre quanto parceiro venezuela talvez precisando socorro haiti',\n",
              " 'acho voce precisa informacao haiti nao pais_pobre mundo ksksksk pais_pobre americas',\n",
              " 'irmao rsrsrsrsr parecidos gostar coisas_boas sempre vivi intensamente alpinista paraquedista militar haiti comandante santos_cruz presidente escola_samba gravei discos pessimo surfista rsrsrs vivi vivi',\n",
              " 'cada pais especificidades exemplo analisando outros_paises afeganistao haiti africa_sul ajuda bilionarios taliba passaria mao tudo nao tao simples parece',\n",
              " 'escroto povo haiti deve gostar',\n",
              " 'new_york times revela resgate astronomico pago haiti franca independencia mundo globo',\n",
              " 'haiti missao anos exercito_brasileiro deixou_legado questionavel',\n",
              " 'escandalos toda parte pais promovido guedes bolsonaro inflacao mec combustiveis projecao_crescimento paises_america ganha haiti tanto escandalo nao cabe edicao jornal_nacional entao resolveram falar',\n",
              " 'ate haiti super_bem capitalismo',\n",
              " 'nyt lanca luz sobre resgate_pago haiti franca independencia leia_noticias',\n",
              " 'noticia outro_dia falando haiti esta vivendo piores_momentos desde terramoto ninguem_sabe pra onde dinheiro_doacoes muitas casas ainda destruidas muitas cidades apoderadas gangues_controlam ameacam matam pessoas triste',\n",
              " 'uau vejam foto adivinhem cidade mogadiscio capital somalia porto_principe capital haiti nao seattle capital washington cidade ininterruptamente governada socialistas desde mesmos dizem preocupados pobres',\n",
              " 'invadir mesma_coisa invadir haiti canal usando lsd hahahaha',\n",
              " 'cobrar resgate independencia haiti pais_miseravel coisa canalha',\n",
              " 'new_york times revela resgate astronomico pago haiti franca independencia',\n",
              " 'milico heleno indo comandar genocidio haitiano mando_lula dai pode',\n",
              " 'sim gente faz servico_sujo haiti congo forcas_paz',\n",
              " 'comida suficiente_pra alimentar ate haiti',\n",
              " 'bolsoburro mundo_inteiro fez lockdown retomaram economia atras ate haiti',\n",
              " 'nao muda_fato sim genocidio brancos haiti coisa hilaria aconteceu pais tornar pais_pobre mundo expurgar todos_brancos cope seethe dilate',\n",
              " 'notou brasil prepara jogadores brasileiros argentina argentinos tal franca exemplo faz apanhado senegal_argelia alemanha camaroes martinica congo haiti espanha bla_bla todas selecoes entupidas naturalizados fala',\n",
              " 'voce conhece guerreiro brasil usando historico capacete_azul paz pois saiba sera futuro_governador estado tarcisio_freitas missao_paz haiti',\n",
              " 'excelente comentario exemplo concentrando enorme bosta selecao_brasileira brasileiros uruguaia uruguaios argentina argentinos francesa senegaleses guineense argelino espanhol haitiano camarones martinicano congoles alemao ate frances',\n",
              " 'nigeria capitalista paises_africa haiti paises oriente_medio veja quanto miseria miseria bolsonaro esta colocando',\n",
              " 'amanha jeito ligar pra_mim falar',\n",
              " 'projeto realidade vao pro haiti pro congo pra mocambique lutar paz nome povo_brasileiro sob_comando lula',\n",
              " 'nyt lanca luz sobre resgate_pago haiti franca independencia',\n",
              " 'crime odio racista revolta haiti sim revolta forma pretos serem finalmente livres tentativa deixarem viver situacoes desumanas atacando escravizava ventura brancos sexto nao preciso comentar evolucao',\n",
              " 'david vai pro haiti michael',\n",
              " 'nao pode sei rsrs mesma_coisa falar tecnicos tse condicao pata haiti missao_paz sao_capazes policiar fronteiras',\n",
              " 'favelas catarinense ate sao bonitas outros estados sul favela parece haiti',\n",
              " 'serie artigos nytimes sobre haiti esta dando falar informacoes falta etica precisamos falar outros_povos nao franceses exemplo suicos',\n",
              " 'brasil bolsonaro pior_crescimento america america_latina atras ate haiti siga telegram whatsapp',\n",
              " 'sim mano dias ate ucrania jogou_contra empoli nada podia rolar uns desses aqui melhor pegar haiti zambia outros fudido assim',\n",
              " 'epoca haiti piores lugares planeta ser escravo caras trabalhavam literalmente ate morrer espancados estrupados ate morte cultura_religiao completamente destrocada proibidos ate falar lingua_materna falar frances',\n",
              " 'qdo haiti assim cruzei area embarque pai caiu joelhos chorando solucando todos_dias minutos tinhamos skype choro voce bem tiroteio forcas_paz voce',\n",
              " 'pintou campeao_campeonato clubes_caribe violette haiti bateu cibao rep_dominicana penaltis apos levantou taca haitianos garantiram vaga proxima concachampions',\n",
              " 'apicultura_ajuda recuperacao_economica haiti apicultura_ajuda recuperacao_economica',\n",
              " 'pray haiti alfredo completando top',\n",
              " 'maezinha contando_historia haitiano hoje farmacia comprar remedio pra nene deu reais conta nao vivia menos salario_minimo pessoal farmacia pagou pra fico tao emocionada historias',\n",
              " 'fulcral condizer sim massacre haiti nao desculpa diga contrario voce_acredita vielmente casa casa torturando assassinando familias criancas incluso maneira correta declarar_independente erro nao justifica outro',\n",
              " 'ligado revolta contra_escravidao inclusive haiti ultimos paises abolir_escravidao deixou ultimos paises ainda possuiam escravos medo ocorrer proprio_pais',\n",
              " 'aconteceu haiti revolta contra_escravidao seculo',\n",
              " 'projeto haiti nao inicio tudo nao junto upp',\n",
              " 'qualquer idiota menos meia banda cerebro funcionando dia percebeu problema seguranca passa campo juridico politico campo militar servira ida tarcisio haiti chefe_secao tecnica',\n",
              " 'questionando mensagem embuste nao experiencia_combate real ter_ido haiti chefe_secao tecnica nao vai ajudar resolver_problema seguranca verdade nao vai ajudar nenhuma area',\n",
              " 'preguicao brancos cita haiti justamente resultado colonizacao voltando assim ainda quase nula comparado globalmente',\n",
              " 'preste_atencao amigo esta discutindo aqui nao experiencia militar combate nao tarcisio mensagem buscou passar postou_foto haiti mensagem clara votem mim corajoso experiencia guerra',\n",
              " 'maquina falar_merda vai jogar anos grande campeonato frances faz_gols ano campeonato pior segunda_divisao haiti acha melhor mundo',\n",
              " 'olavo disse certa_vez nao vinda europeus japoneses bostil aqui enorme haiti velho correto vez',\n",
              " 'projeto haiti aqui burguesia fede',\n",
              " 'espero aluno espcex cadete engenharia academia_militar agulhas_negras serviu durante_anos amozonas haiti cursou anos instituto_militar engenharia_ime sucesso boa_sorte espero nao ter_esquecido nada ronaldo libanio',\n",
              " 'fiz_parte missao_paz onu haiti encontrei_guerra vivi_pele hora_combate verdade_aprendi paz precisa_ser conquistada_dia dia_estrategia coragem_acao tarcisio_gomes freitas',\n",
              " 'suave possivel comente sobre materia haiti indicou alguns_dias tks',\n",
              " 'ainda impactado reportagem relendo entender maximo_possivel pormenores conexao brasil breve passagem tentei abordar tema artigo_sobre questao_agraria haitiana',\n",
              " 'criciuma aleatoria kkk indo casa amiga para uber ida haitiano recebeu visita amiga volta uber carioca',\n",
              " 'falar pro mbappe motivo futebol alto_nivel europeu motivo franca ser potencia haiti estar merda estudar_historia vou_usar video nesse saite vai_ser piada',\n",
              " 'ontem vulcao norte haiti',\n",
              " 'eis saldo golpe brasil sai grupo maiores_economias mundo pior_crescimento america_latina entrega empresas riquezas_nacionais sera haiti continental gente odeia pobres militares entreguistas merecem paredon',\n",
              " 'amiga dei independencia haiti duas_ultimas semanas senti tanta_dificuldade encontrar coisas',\n",
              " 'nao_consigo pensar projeto nacional sucesso envolva ffaa haiti desgraca rio_janeiro piorou ditadura corrupcao tortura destruicao pais agora querem projeto pais elitista sus universidade_publica cala_boca milico',\n",
              " 'parceria ongs rio_grande sul volta atelier cria bolsas desejo couro reaproveitado costuradas mao mulheres refugiadas haiti clique_link conhecer etiqueta faz_parte',\n",
              " 'claro meno desiste nao rei pika neguin',\n",
              " 'vergonhoso crescimento_pib brasileiro ficou_atras ate paises_pobres haiti bolsonaro posto_ipiranga enferrujado',\n",
              " 'pra nao quer acreditar numeros economia tambem revelam bolsonaro projecao cepal brasil cresca menos haiti paises_america latina pais_pobre esquecido paises_ricos',\n",
              " 'baita reportagem haiti unico_pais mundo onde_descendentes escravizados forcados_pagar indenizacoes descendentes_senhores geracoes ninguem sabia exatamente quanto haiti pagou franca custo futuro ate_agora',\n",
              " 'atualmente maior joia rara perolas atacante haitiano garrinsha_estinphile vindo haiti jovem anos sempre sonho ser jogador voce deve imaginar nome inspirado lenda brasileira garrincha',\n",
              " 'novembro apos dois_anos seguidos disputando competicoes amadoras aqui brasil afpn parceria ong_viva rio federacao_haitiana federacao paulista futebol fpf itamaraty fechou acordo disputar copinha maior torneio juniores pais',\n",
              " 'enquanto dava ultimos retoques meninos_meninas jogavam competicoes fut rua julho ong_viva rio parceria empresario origem hungara george_soros inaugura centro_treinamento localizado comunidade bon respos haiti',\n",
              " 'sim claro nao conta avancos estudos haiti livro_james perspectiva vezes meio europeia demais',\n",
              " 'voce_sabia enquanto tarcisio haiti haddad aceitou assumir ministerio durante auge mensalao atendeu chamado patria outro',\n",
              " 'nao_consigo pensar nada pra responder nao ofenda povo haiti',\n",
              " 'beatles lancavam passinho rabiscando baile haiti nao proximo',\n",
              " 'entao solucao pessoas estao_comendo barro haiti voce fala importancia abelhas negando saiba familia criacoes abelhas sertao ceara justamente aumentar_numero abelhas fala nao sabe',\n",
              " 'deus haitiano aqui querendo zap atendendo pensando macetar mds perplecta',\n",
              " 'procurando_emprego nao haiti mal',\n",
              " 'ddd haiti informacao boa',\n",
              " 'amg haiti pagou monte compensacao',\n",
              " 'papo alimentar mundo usar agrotoxico pra enquanto gente comendo_barro haiti outros nao_sei sabe abelhas extintas vela caixao pra humanidade bem nao todo ruim extincao raca_humana',\n",
              " 'ingles esta fudido realmente haiti pagou pra franca',\n",
              " 'pais desgracado franca nao haiti monte desgrama varios_paises continente_africano',\n",
              " 'sim falo disso nao vejo muitas possibilidades discutir qqr coisa haiti publico pra academia vezes dentro nao recomendar livro carolyn fick',\n",
              " 'ficou bacana artigo marlene_daut sobre possibilidades ensino revolucao_haitiana sala_aula depressivo ver nada cita portugues',\n",
              " 'proposito voce sabe tanto inflacao brasil bateu cuba_venezuela argentina crescimento sera menor haiti vai continue batendo continencia miliciano imbecil',\n",
              " 'neto mascates peco licenca_pra contar logo espero sai livro tambem titulo provisorio ruinas circulares paisagens historicas norte haiti',\n",
              " 'panaceia discurso_humanitario euroamericano haiti poderia_ter indices_socioeconomicos similares rep_dominicana reportagem esta_disponivel tambem crioulo_frances algo louvavel resta_saber resultara acoes reconhecimento reparacao',\n",
              " 'genese infraestruturas capitalistas modernidade europeia tudo custas soberania_nacional haitiana autonomia populacao_negra geral calculos atualizados mostram levando_conta corrupcao',\n",
              " 'haiti forcado_pagar franca primeira divida_externa historia global reportagem serie combina pesquisas recentes ajuda dar corpo crime compensacao colonos senhores perda escravizados',\n",
              " 'zilda_arns criadora pastoral_crianca ajudou trabalho reduzir mortalidade_infantil brasil outros_paises morreu vitima_terremoto haiti projeto deve_ser enviado camara',\n",
              " 'numero internacoes trauma semana triplicou comparacao meados abril disse mumuza_muhindo coordenador_geral msf organizacao esta_preocupada ultima onda_violencia porto_principe leia',\n",
              " 'mnistro tarcisio missao_nacoes unidas haiti',\n",
              " 'gente eivado patriotismo imediatamente haiti outra_ponta desse projeto nacao',\n",
              " 'maluco fala crioulo_haitiano forte',\n",
              " 'topa boa prosa sobre arte historia inovacao venha_ouvir radinho desta_segunda entenda grito valor diversidade franca arruinou haiti bacterias iluminam radinho pilha',\n",
              " 'bonus revolucao_francesa influenciou varios_processos independencia continente_americano africanos_escravizados trabalhavam_lavouras cana_acucar haiti conseguiram fim_escravidao apos sanguinaria guerra independencia',\n",
              " 'inclusive relatos latinos enganados utilizados carne canhao ano_passado presidente haiti assassinado supostamente mercenarios_colombianos familias porem dizem sabiam trabalho fariam pais',\n",
              " 'brincadeira cara favor liberar drogas justo rio_janeiro acha vai contralar alguma_coisa vai piorar estado rio carioca nao vote corretamente ano vai fazer haiti rio_janeiro',\n",
              " 'hino_nacional haitiano dessalinienne nome memoria imperador',\n",
              " 'nao nada comer miudos estao africa haiti morrer_fome nao tem nada comer otario tarde_toda nisto ninguem_aguenta',\n",
              " 'jean_jacques dessalines haiti setembro grande riviere nord outubro lider_revolucao haitiana proclamou_independencia pais janeiro primeiro_governante setembro anos',\n",
              " 'famigerada missao exercito_brasileiro haiti explica muita_coisa',\n",
              " 'acorda china metade economia_mundial vai vendetr pra pro haiti',\n",
              " 'entao voce fracassou querido ultima coisa haiti paz',\n",
              " 'mai mai vientiane laos',\n",
              " 'mostramos general liderou_missao brasileira haiti amigo hamilton_mourao anos tornou lobista grupo canadense forbes_amp manhattan responsavel projetos belo sun potassio brasil',\n",
              " 'ideologia capital sugere base valor indenizacao_franca deveria pagar_bilhoes reparacao haiti proposta apesar impacto livro solene ignorada comunidade academica governo franca midia',\n",
              " 'ideologia capital sugere franca deveria pagar_bilhoes reparacao haiti proposta apesar impacto livro vem sendo solene ignorada comunidade academica governo franca midia',\n",
              " 'assim_funciona nova_ordem mundial paul_walker denunciar acoes_criminosas clinton_foundation haiti morreu carro explodiu acidente',\n",
              " 'zelensky fantoche americanos midia pensa engana todos_sabemos vcs importam dinheiro poder dane vidas_humanas haiti importa palestina importa',\n",
              " 'tai urgente lula lula neles cabo_rabo postagem brasil bolsonaro pior_crescimento america america_latina atras ate haiti',\n",
              " 'nao combatente haiti nao_aguentaria semana inicia',\n",
              " 'vezes impressao anos tornamos pais africa haiti pais miseraveis',\n",
              " 'literalmente modelo calca tava reais renner comprei haitiano ganhei pulseira brinde ate tecido calca igual',\n",
              " 'pleno capitalismo estado_minimo esta haiti congo guatemala vao pra aqui ditos capitalistas nao capital assalariados usufruem ferias licencas direitos conquistados sindicatos comunistas bando mediocre ruela',\n",
              " 'mundo_inteiro fez lockdown verdade bolsoburro ate haiti vai_crescer brasil',\n",
              " 'realizacao bolsonaro brasil atras ate haiti',\n",
              " 'brasil projecao economica inferior varios_paises america_latina inclusive venezuela argentina ficando_atras ate haiti talvez voce razao volte pra',\n",
              " 'venha comecar semana mil historias estorias inspiradoras radinho hoje esta entenda grito valor diversidade franca arruinou haiti bacterias iluminam',\n",
              " 'trabalho nyt_sobre haiti esta bem feito escorrega forma auto promove corpo reportagem bela reflexao_sobre nesta thread',\n",
              " 'paul_walker morreu novembro acidente_carro explosao deliberada queria expor atividades criminosas fundacao_clinton haiti',\n",
              " 'haiti deixou ser aqui estao melhores nos',\n",
              " 'brasil atras haiti brasil bolsonaro pior_crescimento america america_latina atras ate haiti brasil guedes_amp bolsonaro sera lanterninha_crescimento vai_crescer menos haiti',\n",
              " 'comparar venezuelano brasileiro brasil esta pior brasil crescendo_menos venezuela_cuba haiti todos paises_america latina obs brasil nao embargo_economico segundo apoiadores presidente abencoado_deus bolsonarismo pensa',\n",
              " 'musica_caetano cabe nunca haiti aqui infelizmente',\n",
              " 'crescer_menos haiti grande conquista governo loroteiro',\n",
              " 'entrou combate haiti militares armados treinados atacando civis entrar combate promover_massacre',\n",
              " 'iphone toque motorola comprei haitiano',\n",
              " 'cuba pais_pobre devido_comunismo vizinhos_capitalistas haiti jamaica sao paises_ricos prosperos',\n",
              " 'banco_frances capturou haiti ajudou financiar torre_eiffel drenar milhoes haiti banco nao fala sobre times rastreou quanto investidores ganharam haiti perdeu',\n",
              " 'torre_eiffel pertence haiti porque indenizacao independencia financiou historia otima torco pra ser verdade',\n",
              " 'elogio haitiano bastante guria feia aqui linda aparece olhos querido',\n",
              " 'reportagem coisas inacreditaveis diz aqui tempo ler coisa semana leiam the_root haiti misery_reparations enslavers',\n",
              " 'rev influenciou outras independencias_america escravos trabalhavam_lavouras cana haiti conseguiram fim_escravidao dps guerra bem sangrenta independencia primeiro pais continente fim_escravidao',\n",
              " 'apicultura_ajuda recuperacao_economica haiti avanco apicultura sul haiti vem',\n",
              " 'apicultor haitiano passou produzir galoes mel ano possui colmeias vende cada galao produzido cerca',\n",
              " 'hoje_cedo tava_lendo materia times sobre pagamentos haiti fez franca cara nao pra esquecer segundo europa hoje exploraram forma atroz possivel todo_resto mundo',\n",
              " 'assim cancelar cannes ate franca devolva pro haiti toda grana pagamento compensatorio independencia_abolicao escravatura ficarmos caso',\n",
              " 'correu errado tropa curry',\n",
              " 'revolucao_francesa influenciou ainda outros processos_independencia continente_americano africanos_escravizados trabalhavam_lavouras cana_acucar haiti conseguiram fim_escravidao apos sanguinaria guerra independencia',\n",
              " 'rapaz materia grande nyt haiti pago milhoes_dolares pra franca divida ter_conquistado independencia haiti paga_ate hoje ser primeiro liberto americas',\n",
              " 'campeoes violette venceu cibao penaltis conquistou caribbean club championship equipe haitiana disputara concacaf_champions league',\n",
              " 'direito_universal fundamento condenacoes criminais agentes fronteira extinta republica_democratica alemanha alegavam cumprir_ordens lei local condenados haiti duvalier parece algo brasil hoje',\n",
              " 'logica guerra politica seguranca_publica resulta nisso guerras sao regidas convencao genebra direito_universal aqui tornando haiti proto tontom_macoutes alguem querendo presidencia_republica vitalicia_hereditaria',\n",
              " 'zerei_vida amigo colombiana boliviana cubana haitiano',\n",
              " 'imagina gremio jogando amistoso haiti jefbi provando delicioso churrasco gato',\n",
              " 'inclusive voce direito nao leiam livro_marcos queiroz constitucionalismo_brasileiro atlantico_negro leitura_obrigatoria sobre repercussao rev_haitiana ignorado',\n",
              " 'excelente_reportagem veja subdesenvolvimento haiti fator_determinante pago franca',\n",
              " 'haha amiga tese sobre formacao_social latino_americana enfase brasil colombia haiti sobre seculo_xix sair_daqui uns dois_meses pode tocar coisas interesse',\n",
              " 'igual venezuela haiti jumento existe historia previa animal',\n",
              " 'materia interessante mostra haiti cujo processo_independencia unico america riquezas posses exploradas diversas potencias eua franca logo_apos emancipacao',\n",
              " 'sei vai ponto apesar sul ser terra preta indigena origens ainda absurdo tipo inigrante haitiano sendo assediado sofrendo violencia varias_cidades nao conseguiria convencer sul terra preta',\n",
              " 'gangues estao lutando tomando territorio capital haiti nova intensidade brutalidade',\n",
              " 'pior situacao argentina venezuela_bolivia peru nicaragua cuba haiti honduras etc',\n",
              " 'passei boa_parte tarde lendo_materia enorme nyt_sobre haiti nada faz_sentido alem queimar toda franca eua',\n",
              " 'pra_cima peacekeeper saudacoes cavalaria haiti',\n",
              " 'moro nao vier vier sera voto comandante haiti',\n",
              " 'pib_menor americas atras_apenas haiti problema lula nao fazer_teatro pobre',\n",
              " 'mto chique nome familia vinda haiti milouse eddy sant louis phara joseph puerpera jeanne adelette jaccean mal posso esperar saber nome bebe',\n",
              " 'nao existir produz pra ser parasitado mundo vai tornar haiti',\n",
              " 'psicopatia oligarquia colonial pudores violencia brasil exceto casta privilegiada deveria olhar independencia haiti revolucao_francesa',\n",
              " 'brasil proprio rapina destroi pais new_york times fez materia_sobre franca estados_unidos alguns_amigos importantes passaram_anos rapinando haiti',\n",
              " 'preocupado sim nao ajuda midias brasileiras parecem querem destruicao brasil vender brasil vao_embora aqui vai_virar haiti',\n",
              " 'visse alguem discordo digamos exemplo alguem apoia invasao russa ucrania fazendo tweet sobre crimes_guerra brasileiros haiti jamais falta vergonha_cara dar coisas tipo russia',\n",
              " 'interessante serie_reportagens nyt_sobre divida absurda haiti forcado_pagar franca ultima reportagem serie trata tentativa pais pedir reparacoes franceses terminaram presidente expulso poder',\n",
              " 'favs junto hoje dia festa haiti',\n",
              " 'haiti terremoto durante eleicao martelly nunca_visto tipo miseria favelas outros_cantos latina campo refugiado oriente_medio falta tudo incluindo qualquer presenca estado algum estado',\n",
              " 'little haiti bairo pobrer miami_florida via',\n",
              " 'esquerdistas inteligentes rapaz alias nao precisa tao baixo estao arrumando malas pra fugir pra paraisos vao ser_felizes argentina venezuela_cuba haiti cia',\n",
              " 'sera franca vai devolver_dinheiro haiti',\n",
              " 'exemplo tortuga atualmente parte haiti palco revolta_escravos desencadeou briga espanha_franca inglaterra trio sempre jamaica tambem presenca muitas_pessoas negras ate_hoje nao_sei abordar corretamen',\n",
              " 'tarcisio missao capacetes_azuis onu haiti',\n",
              " 'chapeco duas_coisas mulher linda haitiano',\n",
              " 'juiza autoriza mae filha haitianas entrar brasil visto juiza silvia figueiredo marques vara civel federal sao_paulo autorizou entrada brasil visto mulher_haitiana filha menor',\n",
              " 'haiti esta lista conflitos atuais preocupantes',\n",
              " 'gangues haiti sao loucas',\n",
              " 'mexico quero chame cuba haiti republica_dominicana jamaica tambem sera eua vao gostar sensacao serem cercados inimigos',\n",
              " 'papel bancos dominacao haiti',\n",
              " 'reportagem fato excelente impressiona magnitude indenizacao paga haiti franca maior qualquer metrica use aquela paga brasil portugal nao',\n",
              " 'pergunta pro povo haiti demais colonias_francesas sentiram tres termos pratica',\n",
              " 'quero pontuar reportagem parte dados historicos fala essencialmente sobre hoje sobre tragedia haiti ainda inclusive intensa colaboracao brasileira ultima_decada',\n",
              " 'revolucao_francesa tbm influenciou ainda outros processos_independencia continente_americano africanos_escravizados trabalhavam_lavouras cana_acucar haiti conseguiram fim_escravidao apos sanguinaria guerra independencia',\n",
              " 'voce precisa ter logica pior situacao argentina venezuela_bolivia peru nicaragua cuba haiti honduras etc entao',\n",
              " 'pra aguentar festa dessa tem ter_ido pro haiti combate frente levando tiro dando tiro loucura demais',\n",
              " 'haiti pra lembrar palco rebeliao_escravizados levou independencia pais causando assombro governos outras_colonias continente inclusive onde escrevo',\n",
              " 'haiti aqui haiti nao aqui versos profecias reverberam durante leitura materias sobre divida_externa historia haiti publicou neste_fim semana vou_postar textos liberados nao assinantes fio seguir',\n",
              " 'nyt vasculha documentos historicos contar franca eua exploraram haiti via',\n",
              " 'ate haiti pais_pobre mundo vai_crescer brasil cuba_venezuela crescem onde mandam',\n",
              " 'endividamento serve manter colonias dependentes sabemos bem gracas ruy marini outros teoricos dependencia caso haitiano vai alem imaginavel crueldade extensao ate dias hoje inviabilizando pais obrigada',\n",
              " 'reparacoes haiti inspiraram movimento indenizacoes brasil queima arquivos escravidao ordenada ruy barbosa objetivo impossibilitar demanda restituicoes futuras parte antigos_proprietarios escravizados',\n",
              " 'fake venezuela_cuba haiti sao_otimos paises viver verdade esquerdopatas dizem nao querem_fazer turismo nesses_paises imagina morar apesar turistas nesses_paises direitos moradores',\n",
              " 'acho precisa abrir_olhos pra realidade voce deixo_aqui previsao cepal sobre divulgada hoje apontando brasil crescimento menor ate haiti ate_momento nao vimos movimento significativo gov fed pra reverter cenario',\n",
              " 'fake brasil nao vai_virar venezuela verdade brasil crescendo_menos venezuela_cuba haiti todos paises_america latina brasil nao embargo_economico venezuela_cuba',\n",
              " 'the ransom resgate sequestro historia haiti condenado miseria saque colonialismo exploracao franca eua wall_street reportagem incrivel documento historico melhor jornalismo pode produzir ganhei horas lendo edicao online',\n",
              " 'mesmas_pessoas ficam impressionadas numeros condicionaram haiti miseria negam ignoram papel imperialismo cuba_venezuela coreia_norte cinismo burrice',\n",
              " 'pessoal apontando monte vacilos materia_nyt sobre historia haiti esmola demais santo desconfia',\n",
              " 'todos vergonha todos ilha ilha haiti endao haitianos direito viver onde quiser ilha voce nao procura trato paz vai ter revolucao lembra frente exerco napoleon imagina',\n",
              " 'homem haiti mqndou ofeeta emprego deus deve odiar',\n",
              " 'esta alarmada recente vaga violencia port_prince altura equipas receberam pessoas ferimentos_bala instalacoes_medicas saiba',\n",
              " 'pode incomodando haitianos lutava liberdade ilha haitianos nada mal contra voce incomoda demais caso haiti pode merda regiao',\n",
              " 'voce pode fazer todo voce pode incomodar todo voce quere vou lembrar existe pais ilha existia bairro santo domengo todo conhecemos historia entao ilha haiti ilha liberdade',\n",
              " 'reportagem_sobre origens miseria haiti resgate obrigados_pagar antigos senhores_escravos ilha maioria franceses ate brasileiro meio',\n",
              " 'revolucao_haitiana revolucao_francesa',\n",
              " 'atras haiti defenda queira continuidade serto sic',\n",
              " 'pouco fala raizes historicas pobreza haitiana custo reparacao independencia colonia conta paga geracoes geracoes haitianos permitiu financiar torre_eiffel chegou brasil boa materia_nyt observacao',\n",
              " 'precisa cuba_venezuela haiti aqui',\n",
              " 'mano ontem_peguei uber haiti ultimo gente trocou alta ideia falando falava_idiomas vai fazer_intercambio pra aprender italiano_alemao vcs imaginaram falando cinco_idiomas',\n",
              " 'nassif general_heleno novo exemplo haiti minustah salvadora',\n",
              " 'tremendo cara_pau nitidas intencoes explorar pais voce elogiando pilantra desse haiti roubado franca brasil roubados portugueses ingleses americanos cuba boicotada ianques venezuela boicotada ianques iraque roubado ianques etc',\n",
              " 'mano pib haiti vai ter resposta melhor brasil pos_pandemia',\n",
              " 'fake brasil nao vai_virar venezuela verdade brasil crescendo_menos venezuela_cuba haiti todos paises_america latina',\n",
              " 'reportagens impressionantes disseca origem_miseria haiti divida_impagavel estabelecida franca troca paz apos revolucao divida financiou bancos mundo_inteiro manteve fortunas ate brasil',\n",
              " 'carlos mente tanto provavelmente nome snisga mokera nasceu haiti',\n",
              " 'cepal brasil guedes_amp bolsonaro sera lanterninha_crescimento vai_crescer menos haiti virtuosa combinacao investimento_publico minimo retorno maximo acionista salario_medio meses ganho real',\n",
              " 'sandra nao problema haiti vizinhos nao tem atividade_economica relevante',\n",
              " 'pais continente mundo esta olho preocupado haiti importante cala_boca acefalo',\n",
              " 'povo_sofrido historia dor',\n",
              " 'materia interessantissima sobre haiti tornou_pais pobre_americas resumo pagando multa ter_expulsado colonizadores_franceses',\n",
              " 'amigo haitiano brasileiro sabe girias sei ontem tava show gustavo lima cantando exatamente todas musicas',\n",
              " 'fmi_projeta agora sim passaremos potencia haiti',\n",
              " 'fmi revisou pra agora sim vamos passar haiti',\n",
              " 'cepal_preve brasil tera_pior taxa_crescimento america_latina panama venezuela colombia guatemala_uruguay bolivia cuba argentina peru mexico chile haiti brasil',\n",
              " 'melhor fio_sobre haiti franca new_york times consultou academicos especialista haitianos pra materia nao citou nenhum ainda anuncia materia_nyt investigado descoberto pilhagem criminosa longeva franca sobre haiti',\n",
              " 'homenagem bandeira haiti aqui cesu bairro amazonas',\n",
              " 'apoia gente apoia golpe intencao voto apoio golpe logo vai_mudar constituicao supremo perpetuar_poder fez putin chaves orban voto pobreza_corrupcao pra sempre haiti vai_ser aqui',\n",
              " 'haiti hoje paga franca ter_tornado independente',\n",
              " 'haiti vai_crescer brasil viva bolsonaro',\n",
              " 'anos tarcisio_freitas cumpria_missao paz haiti periodo fernando_haddad ministro governo_lula comecava afundar escandalo mensalao',\n",
              " 'subestimo mostro nao regime genios gananciosos bajuladores oligarcas desde ditadura perigosos covardes armados sujaram maos_sangue inocente haiti',\n",
              " 'disse missao fato haiti pacificacao esta papel ouvi historia outra dizem usaram tecnicas guerra psicologica controlar populacao seculos estupro utilizado estrategia guerra',\n",
              " 'otima reportagem_sobre historia haiti bem ilustrada',\n",
              " 'haiti tornou primeiro unico_pais onde_descendentes pessoas_escravizadas pagaram familias antigos mestres geracoes divida tao grande tao duradoura consolidou caminho haiti pobreza subdesenvolvimento',\n",
              " 'saquearam haiti pra construir torre horrenda',\n",
              " 'genios mal usando mau militar bunda_suja geisel chafurdando mamatas negociatas haiti laranjas usa southcomm prostituindo miami enquanto pacificacao caos hoje dia',\n",
              " 'pode_ser qualquer_tipo bolacha doce recheio vai gosto puder colocar mistura chocolate granulado bis quebradinho meio fica top morangos coco ralado estilo prestigio rodelas banana estilo haiti',\n",
              " 'interessar possa vale mega pena_ler materia_sobre haiti',\n",
              " 'combate_verdade participando massacre haiti toma_vergonha atirou vida nao sabe combate_verdade',\n",
              " 'atendimento_pre hospitalar_local rua haiti sao_joao pinto masculino_maior vitima agressao fisica apresenta ferimento pescoco',\n",
              " 'questao autoestima prefiro imaginar caras sao genios mal porque dificil aceitar gente_burra ignorante colocou pais nessa desgraceira quanto haiti visao nao desastroso proposito alcancado infelizmente',\n",
              " 'fiquei_sabendo parte dessa historia haiti causa exterminate_all the_brutes revoltante demais',\n",
              " 'deve_ter meio_fio pintado haiti',\n",
              " 'nao acesso toda serie chamado atencao fato haiti porcao populosa localizar sobre grande falha geologica razao inumeros terremotos menor grau contribuem crises pais deste faixa',\n",
              " 'alguem comprou trajetoria duas porcoes ilha haiti republica_dominicana periodo recente vem destacando termos crescimento amp caribe',\n",
              " 'brasil pior venezuela haiti parabens_envolvidos',\n",
              " 'militares_brasileiros sairem virem desgoverno haiti cresceu brasil diminuiu',\n",
              " 'vao resolver aqui cepal_preve brasil tera_pior taxa_crescimento panama venezuela colombia guatemala_uruguay bolivia cuba argentina peru mexico chile haiti brasil',\n",
              " 'tarcisio_gomes freitas futuro_governador sao_paulo fiz_parte missao_paz onu haiti encontrei_guerra vivi_pele hora_combate verdade_aprendi paz precisa_ser conquistada_dia dia_estrategia coragem_acao',\n",
              " 'fome bolsolao mec ataques democracia gasolina orcamento secreto inflacao galopante previsao_crescimento pior haiti venezuela preocupacao vcs pseudo escorregao lula vergonha desse jornalismo',\n",
              " 'cepal_preve brasil tera_pior taxa_crescimento america_latina panama venezuela colombia guatemala_uruguay bolivia cuba argentina peru mexico chile haiti brasil pqp bolsobosta',\n",
              " 'momentos antes haiti liechtenstein descobrirem basicamente mesma_bandeira versao ponta cabeca',\n",
              " 'nao consegui ver slides periodo revolucao_haitiana quase seculo antes equivoco',\n",
              " 'materia sensacional algum grande jornal deveria reproduxi aqui portugues tema crucial americas the_root haiti misery_reparations enslavers',\n",
              " 'leia jacobinos_negros livro emocionante sobre_revolucao negros fizeram haiti tem_sido massacrados colonizadores desde_entao',\n",
              " 'recentemente insta hackeado haitiano seguiu pessoas ganhado uns seguimores jaguara',\n",
              " 'guedes pior haiti venezuela crescimento prometido bozo ministro_economia esta_fazendo voce quer',\n",
              " 'haiti pequeno pais_insular lula encheu esquadroes_morte minustah',\n",
              " 'infelizmente toda ocupacao missoes_paz abusos forcas ocupantes similares populacao_civil ate missao brasil haiti',\n",
              " 'ate imperatriz brasil recebia indenizacao haitianos independencia chocante historia haiti virou tragedia humanitaria',\n",
              " 'dorme haitiano geralmente esquenta bem heheheh',\n",
              " 'estados_unidos apontando dedo pra franca haiti foda',\n",
              " 'pense haiti reze haiti haiti nao haiti',\n",
              " 'arte tentar corromper situacao argentina venezuela haiti exemplo compara colocada lista numeros ruins bate desespero chega ser patetico revisoes projecoes mensais',\n",
              " 'vez haiti outrora prospero miseravel hoje porque praticam voduismo cultura',\n",
              " 'pensando frances nao preciso restringir apenas franca existem outros diversos_paises francofonos podem_oferecer inumeras oportunidades crescimento pessoal profissional exemplo canada haiti suica belgica',\n",
              " 'haiti paga_preco ser primeira_republica negra_mundo assim forte pujante feliz acima qualquer qualificacao mundo ocidental possa dar palavra alguem_viu bem perto',\n",
              " 'duas_decadas haiti conquistou_independencia franca esquadrao navios guerra retornou ultimato rei_carlos escolha dinheiro guerra',\n",
              " 'pergunta pra onde_fica haiti vai falar fica_africa',\n",
              " 'pra compra gucci irmao haitiano dou',\n",
              " 'engenheiro_civil missao_paz haiti lugar varios concursos melhor curriculo ministro_infraestrutura futuro_governador sao_paulo',\n",
              " 'ouvi_falar epoca abolicao havia donos_escravos diziam escravidao acabasse brasil_viraria haiti parece discurso bolsonarista sobre brasil virar_venezuela campos economico_social',\n",
              " 'escravagismo colonialismo talvez piores ideias humanidade the_root haiti misery_reparations enslavers',\n",
              " 'menos haiti gente aind avai votar bozo vai_fude',\n",
              " 'haiti nao aqui aqui esta pior',\n",
              " 'lembrando chamada campanha pro meio_ambiente achou port_prince capital haiti ficava franca falou amar passar uns_dias franca',\n",
              " 'toda_vez triste lembro historia paris doando_milhoes maquiagens pra haiti forma ajudar crise fico',\n",
              " 'inflacao mundial previsao_crescimento brasil menor haiti venezuela menor fico_indignada governo',\n",
              " 'nao maluco currado video faoh caralho jantada maluco disse haitiano_fedido',\n",
              " 'previsao_crescimento brasil menor haiti venezuela menor significa governo fez tudo_errado tudo',\n",
              " 'previsao_crescimento brasil menor haiti venezuela menor significa governo fez tudo_errado tudo_errado',\n",
              " 'nestor explica tchutchuca deixou brasil previsao_crescimento menor haiti venezuela muita incompetencia guedes thuthuca explica pra gente',\n",
              " 'subimperialismo frances preco haiti pagou independencia revelado agora times',\n",
              " 'sim haiti pode melhorar tmb',\n",
              " 'abaixo haiti pais enviamos_tropas estabilizacao parabens_envolvidos',\n",
              " 'franca devolva retirou haiti',\n",
              " 'guedes conseguiu_proeza brasil crescer_menos haiti',\n",
              " 'previsao_crescimento brasil menor haiti',\n",
              " 'brasil acima_tudo brasil abaixo ate haiti',\n",
              " 'direita apelo popular base ciro nenhum nenhum espaco pra reforma triste ter votar politico faz trabalho_sujo imperialismo eua vide tropas haiti lula bush plano governo ruim sustentou genocidio',\n",
              " 'brasil taxa taxa_crescimento pior america_latina pior haiti haiti aqui',\n",
              " 'outro texto dessa reportagem_sobre haiti detalhe aqui',\n",
              " 'nao acompanha desgoverno sei duro dificil_entender talvez incompreensivel ver brasil pior haiti realidade pior governo brasil real situacao governo_autoritario genocida interesses particulares focado corrupcao',\n",
              " 'materia super_interessante mostrando indenizacoes pagas haiti escravocratas conta fim_escravidao estao origem_miseria pais',\n",
              " 'pra quer passar raiva nyt fez contas quanto haiti pagar pra franca independencia milhoes dinheiro ficado economia haiti bilhoes hoje',\n",
              " 'epoca lula disputavamos pib inglaterra agora disputamos haiti parabens ser pior presidente historia',\n",
              " 'atras haiti aplaudir incompetencia daqui_uns anos vai ter brazuca fugindo venezuela',\n",
              " 'materia historica sobre povo haiti obrigado_pagar indenizacao_franca familias escravocratas liberdade impacto_dessa divida historia pais povo tambem revela familias bancos beneficiaram',\n",
              " 'quer_comparar olha brasil olha haiti',\n",
              " 'todos outros_paises estao cima nao fecharam ate proprios haiti acima nos',\n",
              " 'sobre historia haiti sugiro tres episodios podcast livro sugerido jacobinos_negros impressionante triste toussaint_ouverture tao pouco conhecido',\n",
              " 'corrupcao dominacao quais razoes principais pobreza povos haiti caso estudo conhecer',\n",
              " 'haiti cuba seculo_xix',\n",
              " 'brasil atras haiti sacanagem',\n",
              " 'diria brasil ficaria atras haiti vou_repetir haiti',\n",
              " 'menos haiti menos venezuela',\n",
              " 'ate haiti esta melhor brasil bolsonaro',\n",
              " 'venezuela haiti fica frente',\n",
              " 'comissao economica america_latina cepal_onu projeta brasil menor_taxa crescimento_pib toda_america latina_caribe miseros abaixo haiti paraguai',\n",
              " 'reparacoes diz reportagem estao origem penuria haitiana prossegue ate_hoje',\n",
              " 'pessoas escravos haiti precisaram pagar_reparacoes dizem documentos obtidos imperatriz brasil nao achei ainda',\n",
              " 'brasil deve crescer_menos haiti',\n",
              " 'haiti nao aqui todolugar enorme triste',\n",
              " 'pesquise_sobre certo suicidio general haiti exclui tarcisio',\n",
              " 'falta faz revolucao socialista haiti',\n",
              " 'padrao pra falar haiti sempre remontando guerra contra imperio_frances adoramos dizer haitianos_venceram pagar acrescentamos corrupcao terremoto haitianos pensam diferente pra nao mocinhos',\n",
              " 'bom material sobre haiti',\n",
              " 'arroz arkansas destruiu agricultura haitiana criou massas desocupados',\n",
              " 'new_york times fez materia_sobre franca estados_unidos alguns_amigos importantes passaram_anos rapinando haiti',\n",
              " 'podiam_ter posto preta tipo haitiana pra voce queixar gosto quantos_anos voce pra ver filme branca neve',\n",
              " 'peca jornalismo historia indenizacao escravizadores cria raizes pobreza haitiana fortuna bancos_franceses americanos',\n",
              " 'uber_haitiano estourando mega orgulho',\n",
              " 'governo asia adm burros falam africa pais jamaica haiti ficam',\n",
              " 'estadunidenses estao descobrindo colonizacao franca retirou riquezas dinheiro pra construir pais europeu eua inglaterra_portugal espanha belgica nao deixado rastros pobreza outros_paises america_latina africa',\n",
              " 'alguem poderia dizer contribuicao positiva religioes_matriz africanas humanidade africa vive sobre pobreza_extrema bem haiti nao continente_africano contudo mesma cultura',\n",
              " 'pesquisa incrivel duas_decadas apos independencia haiti franca forcou pais pagar_indenizacao acima possibilidades haitianas resultado espiral divida pode_ter ultrapassado valores atuais',\n",
              " 'acho haitiano idioma bonito ouvir real sei_nome idioma gosto ficar ouvindo smp gnt conversando',\n",
              " 'caras medo haiti servisse exemplo outras_colonias tentassem mesno',\n",
              " 'conta colonizadores haiti dizimaram aborigenes aruaques jeito tao cruel invocaram deuses castigo maldicao terra levantes escravos atrozes resposta brutalidade marcante reconhecimento pagando milhoes_francos',\n",
              " 'sempre uso argumento falo haiti comparando cuba brasil china',\n",
              " 'haiti unico_pais cujos descendentes pessoas_escravizadas forcados_pagar descendentes escravocratas liberdade custo estimado bilhoes dinheiro enriqueceu ainda franca jogou haiti miseria seculos',\n",
              " 'mesma_forma exercito_brasileiro fazia haiti',\n",
              " 'continuo_achando considera mourao heleno santos_cruz etchegoyen ramos villas_boas genios manipulacao engano haiti esta pra provar sao_burros incompetentes steve bannon dep just eua caro',\n",
              " 'monstro haiti gen_augusto heleno fez pior comandou_massacre missao_paz assassinou quase_cem civis_mulheres criancas hoje chefe casa civil bozonaro',\n",
              " 'influencia independencia haiti ganha pole position homem',\n",
              " 'raiz miseria haiti reparacoes escravizadores',\n",
              " 'historia wakandistas haiti pobre ter pago indemnizacao franca cheia copium pois fim guerra independencia todos factores producao ilha aniquilados proprios haitianos quantos paises nao pagaram desenvolveram',\n",
              " 'comida tornou arma dominacao americana haiti americanos comem carne branca frango resto vai congelado pro haiti sobre arroz',\n",
              " 'priemeiro mora brasil metade_populacao alimenta adequadamente segundo venezuela perto pais_miseravel continente sim haiti varios_outros sao explorados imperialismo video mandei fala sobre economicos tbm',\n",
              " 'materia excelente haiti esta paradigma excecao toda_america caribe liberdade negra veio acompanhada medidas compensatorias senhores producao riqueza capital baseada liberacao corpo negro',\n",
              " 'sempre bom_lembrar tragedia haitiana varios responsaveis',\n",
              " 'historia hoje publicada new_york times sobre reparacao haiti paga colonizadores nao nova estuda tema historia brasil leiam uau compilacao visual linguas',\n",
              " 'amigo maiores especialistas haiti brasil joao rio versao recife',\n",
              " 'entender estrangulamento haiti desde heroica libertacao',\n",
              " 'nao haiti negros libertaram mataram todos_brancos viviam ilha',\n",
              " 'ledo_engano jamais voluntario embarcava voluntario simplesmente nunca acreditei nessa gastanca inutil dinheiro_contribuinte promovido lembrando haiti continua mesma baderna sempre ucrania guerra haiti embuste',\n",
              " 'valeu presidente torcida tricolor haitiano',\n",
              " 'brasil tambem pagou portugal independencia haiti feroz levante_escravos fazendas ocasionando independencia_reconhecida tempo',\n",
              " 'sugiro todos escutar capitulos podcast fez sobre haiti colonia link',\n",
              " 'excelente_reportagem nytimes sobre haiti bem feitas vida',\n",
              " 'investimentos infraestrutura educacao etc efeitos dramaticos fragilidade estado haitiano etc imensuravel destruidor',\n",
              " 'materia sensacional nyt hoje sobre haiti calculam montante divida_franca impos haiti ter erradicado escravidao forma revolucionaria chegam montante pib haiti saque haiti financiou torre_eiffel',\n",
              " 'desbravamento recente processos revolucionario encobrimento rev_haitiana quase sinal premonitorio certo progresso moral entendimento passado',\n",
              " 'foda aqui indenizacoes escravizadores causa subdesenvolvimento haitiano',\n",
              " 'conheco pouco historia haitiana pos termino aula_sobre aftershocks history algumas_coisas falecido trouillot fiquei_impressionado exagero novidade faz_sentido pro publico_alvo',\n",
              " 'salvei aqui ler assunto sempre intrigou desde_epoca colegio revolucao_haitiana jeito',\n",
              " 'serie impressionante reportagens fiquei_curioso pra ver versao academica parece ser altissima qualidade mostra perfeitamente indenizacao paga franca essencial subdesenvolvimento haitiano queria traducao',\n",
              " 'apos cometerem crimes vietna honduras_panama haiti nicaragua mexico coreia ira_siria indonesia_iraque congo cuba bolivia afeganistao salvador americanos questionam resposta militar movimento militar americano otan',\n",
              " 'nao especial tao bom quanto bom tempo vale_leitura importante conhecer_historia haiti',\n",
              " 'haiti unico_pais mundo onde_descendentes escravizados obrigados indenizar descendentes_senhores geracoes materia_nyt fala sobre estimativa valores pagos haiti franca valor casa bilhoes',\n",
              " 'numero haiti oferecendo emprego brasil pode_confiar',\n",
              " 'nesse texto nyt aconteceu haiti nele explicado funciona todo processo_colonizacao existir alguns_poucos bilionarios preciso existir muita_gente passando_fome dificuldade',\n",
              " 'agora faz materia_sobre unicef funcionarios haiti',\n",
              " 'antonov anos operacoes carro chefe varias operacoes logisticas mundo_afora alem_disso prestou assistencia missoes_humanitarias terremoto haiti pandemia novo_coronavirus nao aviao grande',\n",
              " 'pessoal mercado velho pediu pra_tirar foto comigo falou queria bater professor invadir haiti outra_vez entendi quis_dizer bem simpatico',\n",
              " 'indenizacao cobrada governo frances nao invadir pais retomar poder vezes valor receita anual haiti emprestou_dinheiro banco_frances aconteceu divida saldada anos',\n",
              " 'durante_anos haiti pagou franca equivalente_milhoes dolares reparacao independencia investigacao nyt sensacional',\n",
              " 'internet brasileira_lenta etiopia haiti caras mundo',\n",
              " 'vezes parece academia historia ocidental nao atencao haiti vai_dar trabalho definir holocausto anos povo condenado simples crime libertar_escravidao',\n",
              " 'the_root haiti misery_reparations enslavers raiz miseria haiti reparacoes escravizadores',\n",
              " 'fio_sobre indenizacao_milhoes dolares pagos valor haiti franca independencia primeira_vez historia vencedores sao mantidos_refens vencidos',\n",
              " 'haiti chamado desastre estado fracassado armadilha ajuda legado divida esta embutido todos sistemas pais desde educacao_saude ate infraestrutura inadequada agua_saneamento',\n",
              " 'outros disseram haiti nao sido forcado_pagar divida dupla pais poderia_ter espelhado taxas crescimento vizinhos toda_america latina colocaria estimativa perda bilhoes haiti',\n",
              " 'riqueza permanecido haiti estimamos acrescentado bilhoes economia haitiana ultimos dois_seculos embora quantidade exata desconhecida varios especialistas disseram estimativa minimo conservadora',\n",
              " 'franca_exigiu cinco pagamentos anuais milhoes_francos primeiro pagamento estimado cerca seis vezes receita haiti naquele_ano haiti forcado tomar emprestimo aumentando fardo tornando conhecido divida dupla',\n",
              " 'new_york times examinou arquivos documentos governo tabular quanto haiti pagou liberdade revelam divida tao grande tao duradoura ajudaria cimentar caminho haiti pobreza subdesenvolvimento',\n",
              " 'haiti unico_pais mundo onde_descendentes escravizados forcados_pagar indenizacoes descendentes_senhores geracoes',\n",
              " 'haiti perdeu bilhoes segue_fio',\n",
              " 'ocidente fez faz haiti desde escarnio absurdo',\n",
              " 'capitao freitas tarcisio tropas_paz onu haiti tropas quais tbm fez_parte santos_cruz atual opositor dai extrema impresa tarcisio fato_negativo assassinos haiti simultaneo santos_cruz canhoto heroi haiti dicotomia patotologia etc',\n",
              " 'acho haiti caso paradigmatico entender efeitos nocivos colonizacao nyt fez favor explicar que',\n",
              " 'capitao freitas tarcisio tropas_paz onu haiti tropas quais tbm fez_parte santos_cruz atual opositor dai extrema impresa tarcisio fato_negativo assassinos haiti simultaneo santos_cruz canhoto heroi haiti dicotomia patotlogia',\n",
              " 'nessa materia times reporta governo eua ordenou invasao_militar ilha proteger_interesses citibank detinha titulos divida haitiana',\n",
              " 'triste historia haiti primeiro pais independente_america latina nao livre the price tag was huge france sold louisiana the_united states million francs just over half what demanded from haiti',\n",
              " 'nytimes publicou varias materias mts docs mostrar elites francesas americanas estrangularam economia haitiana cada exportado cafe apenas centavos ficavam haiti resto banco_frances credit industriel',\n",
              " 'sera admitiria nova esposa acolhesse homem haitiano angolano pra saber',\n",
              " 'processo venezuelizacao argentina acelerou bem ano venezuela virou haiti proximo_passo chile virar argentina',\n",
              " 'blatter visitou haiti mulher forcada dormir presidente fifa pedidos comprimidos azuis',\n",
              " 'show_horrores historia relacao haiti franca',\n",
              " 'mudo voce mudar haiti afinal pais_capitalista certo',\n",
              " 'escravizadores nunca faltou reparacao the_root haiti misery_reparations enslavers the_new york_times',\n",
              " 'vamos ouvir agora emeline michel _emelinemichel representando haiti apos_terremoto mil_haitianos buscaram refugio brasil',\n",
              " 'frio haitiana calcao pqp',\n",
              " 'futuro_governador sao_paulo missao_humanitaria haiti',\n",
              " 'combate haiti comandos comanfs fuzileiros marinha',\n",
              " 'pra trabalho oprimir outro fazer revolucao educacao brasil veja numeros antes universidades numero alunos faculdades leia manchetes sobre denuncias haiti sobre_atuacao militares_brasileiros',\n",
              " 'entao venezuela argentina cuba haiti outros sao paises pois aparecem lista maiores_inflacoes mundo talvez porque numero nao cabe calculadora',\n",
              " 'tarcisio missao_paz haiti',\n",
              " 'qualquer poder dar pauta foto aqui centro esta dadou lider rede exploracao menores anos poder fhf desde lembram amistosos brasil paz haiti pode nao ter nada',\n",
              " 'lugar_onde normal ser estuprada denuncias_abuso federacao_haitiana envolvem ate blatter possivelmente maior escandalo fifa infelizmente pais periferico impacto otima reportagem investigativa roman molina',\n",
              " 'filho poe bicha assim repente podia_comecar haiti ate pouco pagar indemnizacoes pais ocidental escravos sitio terem ganhado alforria prejudicando fazendeiros franceses',\n",
              " 'pediria pra fazer dar festa casamento pra marido nao embora brasil dia deus tocar coracao brasileira haitiano dia possivel deus_abencoe voce telefone ddd',\n",
              " 'reza_lenda haiti homem tanta_coisa destruida apos_terremoto falou vamos reconstruir nunca parou',\n",
              " 'fiz_parte missao_paz onu haiti hora_combate verdade_aprendi paz precisa_ser conquistada_dia dia_estrategia coragem_acao sao_paulo vivemos hoje verdadeira guerra experiencia posso ajudar acabar',\n",
              " 'sargento toma tiro haiti tapa ombro fez dever patria gringo colonizador pau existe toma medalha lindo',\n",
              " 'heleno passado_condena epoca serviu sao gabriel cachoeira conhecida cabeca cachorro contar ocorrido porto_principe haiti tropas_comandadas dispararam_mil balas dezenas_civis morreram_incluindo mulheres_criancas',\n",
              " 'ministro_tarcisio missao haiti',\n",
              " 'aperfeicoamento_oficiais nov_atuou missao_nacoes unidas_estabilizacao haiti chefe_secao tecnica_companhia engenharia brasil_obteve certificacao_ppp public_private partnerships_focus roads_londres',\n",
              " 'haiti ponto referencia pra casa',\n",
              " 'nome agora diferente haiti mudou',\n",
              " 'desculpe demora missao_paz haiti',\n",
              " 'ciro antes gregorio entrar mete vai votar_lula turno pensando defesa_democracia vai votar acriticamente sacanagem enfiou olhos aonde chuva protestos alianca alckimin criticas papel haiti comeca mal',\n",
              " 'vejo finais nba jogao',\n",
              " 'vagabundo nao conhece nada nao conhecia haiti missao ffaa desastre apertou apaziguar eua lamentavel senhor apoiador fascistas',\n",
              " 'mudaram pais acorda santa passamos ser venezuela rumo haiti',\n",
              " 'ministro_tarcisio haiti continencia respeito patria_amada brasil',\n",
              " 'tarcisio realmente pessoa carater desconhecia participacao missao haiti grandes feitos ministro obras viarias transposicao velho chico nordestinos credenciando futuro_governador sao_paulo benvindo tarcisio',\n",
              " 'prezado respeito colocacao porem acho nunca haiti ate general fica perigo constante nao bolsonariata porem melhor pais ultimos_anos bolsonaro sds',\n",
              " 'entao tal ken haiti',\n",
              " 'ken haiti ataca_novamente mostra garrafa pet frente perigo',\n",
              " 'facil haiti ganhar_copa motor arrumar kkk',\n",
              " 'porque nao opcao sei haiti',\n",
              " 'pessoal haitiano regiao abram lugar comida gostosa igual pessoal shawarma favor obrigada',\n",
              " 'grande homem revolucionario haitiano toussaint',\n",
              " 'haiti antes ser governador',\n",
              " 'mesma_semana recebi proposta semelhante alguem haiti foto avatar huahuahauhauahaauhauha',\n",
              " 'capitao_tarcisio endereco missao haiti',\n",
              " 'sim querido tarcisio haiti proximo governador',\n",
              " 'voces sabia colonizadores invadiram haiti originarios regiao cometeram suicidios massa nao serem escravisados',\n",
              " 'veiculo_problema mecanico_rua haiti rua_patagonia direcao bairro reboque bhtrans deslocamento',\n",
              " 'brasil perde projecao_crescimento pro haiti gente defende asno presidencia',\n",
              " 'fale_sobre inumeras denuncias relacionadas violacao_direitos humanos envolvendo tropas_brasileiras haiti',\n",
              " 'pedir pra paciente haitiano colher amostra urina hoje respondeu acho nao vou_conseguir acabei fazer mijar',\n",
              " 'james_escreveu historia definitiva revolucao_haitiana',\n",
              " 'pacifista triste historia bob_marley faz abrir brecha pacifismo diante faxinas etnico sociais continuas direito legitima_defesa torna necessidade vietna haiti toussaint_louventure',\n",
              " 'caras fazendo monitoramento territorio soberano algo nos_mesmos fazemos faziamos nerdola bilionario aplaudindo passo entrega soberania acham ruim imigrante_haitiano pobre trabalhe subemprego qualquer',\n",
              " 'mexico nao fica_america sul animal aqui deve_achar jamaica haiti ficam_africa',\n",
              " 'paradoxo ideal pratica liberte_egalite fraternite humanos diga sao humanos direi ideal opressor oprime iluminismo trevas veu diz ser luz viva ilha_saint domingue viva haiti',\n",
              " 'rumores corrupcao agressao sexual sempre eleito presidente_federacao intocavel haiti comum pratica patrao dirigente chef diretor favor posicao trabalho mulher troca_sexo todo_mundo sabe_disso ninguem faz nada',\n",
              " 'engracado banido_fifa pode comparecer nenhum jogo oficial injustica haitiana disse nao encontrou nenhuma prova crime_cometido durante_anos presidente_federacao futebol haitiana sempre',\n",
              " 'lendo suposta relacao_hegel rev haiti questao interessante chega ser_comico defende caras usando ismos tirar fardo merecem carregar sim sao racistas pratica silencio silencio tambem forma acao',\n",
              " 'serie_netflix chamada who shot the sheriff mostra detalhes ronald reagan tornou inferno vida todos americas caribe tradicao multiplos massacres haiti motivados puro_racismo campeao paz engolido',\n",
              " 'nao precisa_ser inteligente pra sentir_cheiro enxofre noves escandalo haiti absurdo grotesco maiores absurdos gente deve desculpas mafia russa mafia italiana chamar lixo fifa mafia horror',\n",
              " 'adimirava acoes durante trajetoria governo_bolsonaro agora ainda admiro realmente nao sabia feito parte missao haiti voto senhor sao_paulo presidente bolsonaro tambem faz excelente_trabalho',\n",
              " 'futebol haitiano serviu rede abuso_sexual pedofilia afirma revista',\n",
              " 'pais haiti tbm capitalista bom',\n",
              " 'pais haiti socialista tbm',\n",
              " 'impressionante haiti politico safado',\n",
              " 'alguns_anos atras evento irmao trabalhou gilberto_gil cantou haiti aqui publico pagou reais elite plateia todos cantando felizes surreal',\n",
              " 'mexico pais velho populoso america_sul pais velho america_sul colombia america_latina haiti maior populacao brasil maior densidade demografica barbados mexico america_norte',\n",
              " 'feliz_aniversario toussaint_ouverture nascido maio ouverture escravo liderou revolucao_haitiana derrotaria colonizadores_franceses espanhois estabeleceu primeira_republica negra livre logo_apos morte',\n",
              " 'sim claro eita tarcisio sao paz haiti',\n",
              " 'fiz_parte missao_paz onu haiti encontrei_guerra vivi_pele hora_combate verdade_aprendi paz precisa_ser conquistada_dia dia_estrategia coragem_acao',\n",
              " 'fiz_parte missao_paz onu haiti encontrei_guerra vivi_pele hora_combate verdade_aprendi paz precisa_ser conquistada_dia dia_estrategia coragem_acao conhece heroi guerra',\n",
              " 'viva_jacobinos negros viva_revolucao haitiana',\n",
              " 'fiz_parte missao_paz onu haiti encontrei_guerra vivi_pele hora_combate verdade_aprendi paz precisa_ser conquistada_dia dia_estrategia coragem_acao viu alem tudo combateu guerra',\n",
              " 'trata maiores escandalos historia futebol infelizmente recebe pouca_atencao devido_falta peso haiti futebol mundial vitimas esquema identificadas muitas menores_idade infelizmente cometeu suicidio',\n",
              " 'visita diz texto blatter recebido favores_sexuais funcionaria federacao_haitiana hotel reportagem descreve jean_bart comemorou blatter gostado mulheres_haitianas mandado pilulas azuis cartola fifa',\n",
              " 'presidente haiti temia fifa banisse pais futebol interferencia governamental caso jean_bart caisse assinantes copa alem copa leram texto_sobre punicoes fifa tipo interferencia sabem acontecem fifa assim deseja',\n",
              " 'michel_martelly eleito presidente haiti objetivos remover jean_bart comando futebol porem jean_bart proximo blatter conseguiu entao presidente fifa visitasse pais dando apoio martelly recuou',\n",
              " 'yves_jean bart tornou presidente_federacao haiti apesar_disso somente novembro apos investigacao jornal britanico the_guardian revelar havia abusado sexualmente menos atletas banido pra sempre futebol fifa',\n",
              " 'entrevistado molina capitao selecao haiti ernso laurence diz cartolas fifa concacaf iam pais averiguar situacao recebiam garota garoto presente assim embora soubessem acontecendo tornavam cumplices',\n",
              " 'tras_dessa rede abuso presidente_federacao haitiana yves_jean bart havia transformado centro_treinamento selecoes pais inferno_terra segundo depoimentos vitimas confiscava passaportes mantendo sob vigilancia',\n",
              " 'decadas federacao_futebol haiti rede abuso_sexual jogadores arbitros funcionarios incluindo menores_idade nova reportagem bombastica afirma receberam favores_sexuais sido sepp blatter presidente fifa',\n",
              " 'tarcisao missao_paz haiti',\n",
              " 'aqui virou mistura ucrania haiti',\n",
              " 'quatro_anos transformamos haiti',\n",
              " 'enquanto tarcisio haiti haddad aceitou assumir ministerio durante auge mensalao atendeu chamado patria outro',\n",
              " 'destruir brancos tudo possuem morramos falharmos nessa promessa primeira noite sangrenta guerra_civil colonial racial durou_ate proclamacao_independencia haiti toussaint_ouverture escravo ate anos',\n",
              " 'revolucionario haitiano toussaint_louverture nasceu_neste dia aqui traducao predileta sobre contribuicao fundamental historiador james narrar revolucao_haitiana jacobinos_negros',\n",
              " 'alo galera sao_paulo vejam voces terao governador maravilha competencia patriotismo anos tarcisio_freitas cumpria_missao paz haiti periodo',\n",
              " 'hulk nao convocado pra selecao haiti',\n",
              " 'agora evolui amigo haitiano amigo tonho lua',\n",
              " 'pouco assisto ligo tais minorias propagandas novelas lacradoras problema ter gente branca brasil pais mestico nao pais negro igual haiti normal ter pardo claro branco',\n",
              " 'versao colonial historia invisibiliza importantes_figuras levantes tarefa lembrar toussaint_louverture revolucionario_negro frente revolucao haiti seculo_xviii',\n",
              " 'infelizmente unica_coisa onu fez haiti expressao bem comum fihos onu',\n",
              " 'sepp blatter visitou haiti funcionaria federacao_futebol pais tera_sido forcada dormir presidente fifa pedidos comprimidos azuis',\n",
              " 'considerarmos resultados trabalho valoroso_exercito haiti espero pessoa eleita governador alguma provincia turcomenistao nao sao_paulo outra tao pouco paulista aqui pra eleger carioca pra governador_sao paulo',\n",
              " 'certamente haiti serviu anos fazer_turismo fardado mada resolveu pais segue caos apos tantos_anos propaganda petista chamada minustah',\n",
              " 'revolucionario haitiano toussaint_louverture nasceu_neste dia liderou maior_revolta escravos historia deu basta contra_opressao racista vida legado extraordinarios continuam inspirar lutas_liberdade hoje',\n",
              " 'aposto sabias tarcisio assessor ministerio infraestrutura diretor dnit governo tudo sempre indicado missao haiti propaganda adular onu etc',\n",
              " 'dias camelo aqui campo_grande camisa escrita celtics escrita formato lakers azul amarela nome jordan perguntei_onde comprado camisa disse trouxe haiti',\n",
              " 'sao capacetes_azuis combatentes forcas_armadas missao haiti',\n",
              " 'amigo serviu haiti trouxe muitas fotos dessa epoca',\n",
              " 'dirigente maximo fifa haiti visitar centro entidade ajudou financiar entao presidente_federacao pais entretanto banido futebol devido varios_casos abuso_sexual tera obrigado funcio',\n",
              " 'fiz_parte missao_paz onu haiti encontrei_guerra vivi_pele sao_paulo vivemos hoje verdadeira guerra ruas certo experiencia posso ajudar acabar tarcisio trabalha',\n",
              " 'rolaram uns negocios meio esquisitos haiti nao nao brother',\n",
              " 'coisa nao ligacao outra desconfio verdade acusacao quanto soldados pois exercito elogiado missao_paz haiti',\n",
              " 'tolo minustah propaganda havia guerra haiti segue_sendo mesma bagunca sempre apos gastar_milhoes dinheiro_contribuinte puxar_saco onu muitos entenderam serve',\n",
              " 'haiti ministro governo_federal governador_sao paulo',\n",
              " 'anos tarcisio_freitas cumpria_missao paz haiti periodo fernando_haddad ministro governo_lula comecava afundar escandalo mensalao',\n",
              " 'jhon titor nada tal haitiano_viajante tempo',\n",
              " 'guerra haiti jogando video_game rebeliao onde arma potente estilingue quer falar sobre guerra veja parede sala',\n",
              " 'haitiano_acertou cheio primeiro ano mandato bolsonaro',\n",
              " 'general_heleno afirma sobre professores serem maconheiros participou_missoes paz haiti durante_periodo alto_indice estupro vinda soldados_brasileiros',\n",
              " 'ministro_tarcisio ajudou haiti ira levantar',\n",
              " 'obrigado guarde onu problemas plenamente resolvidos junto carissima patacoada haiti',\n",
              " 'anos colocou brasil ultimo_lugar educacao mundial atras haiti',\n",
              " 'queria_ver peito pra pra fica longe casa ainda correr_risco ganja tiro cara olha haiti ate general deu_tiro cabeca',\n",
              " 'vale elon_musk unidos bolsonaro acelerar genocidio_indigena destruicao_amazonia gente precisa_aprender uns negoco revolucao_haitiana',\n",
              " 'hoje_nascia libertador haiti toussant leuverture honra ousaram lutar',\n",
              " 'otimo ler artigos_sobre revolucao haiti',\n",
              " 'brasil esta atras venezuela nicaragua haiti outros_paises latino_americanos vai ter crescimento venezuela crescera',\n",
              " 'haitiano fdp deu cena raca ruim',\n",
              " 'nao haiti vai arrisca vida dinheiro melhores militares escalados missao',\n",
              " 'missao_onu piada haiti continua mesma miserabilidade sempre fato nao resolveram absolutamente_nada nao ser publicidade internacional propaganda eleitoral',\n",
              " 'faz materia morinigo struway feriado paraguaio entrevista kazu pro matsuri cheio imigrante_haitiano curitiba ainda pouco integrados cidade faz acao caras couto trocentas possibilidades fazem motivo certo menos facam',\n",
              " 'nao fala_besteira nao querido missao dessas haiti camaradas passamos naquela_epoca garanto imagina falo garanto nao coragem peito participar missao',\n",
              " 'pronto faltava fazer aqui lambanca fizeram haiti',\n",
              " 'primeiras_missoes onu haiti terriveis sabe umq verdadeira desgraca guerra_urbana sangrentas maioria nao esta_preparado conversa pouco fala',\n",
              " 'haiti pais guerra_civil onde chuveiro quente luxo entendi critica',\n",
              " 'tarcisio_freitas haiti missao_paz exercito_brasileiro',\n",
              " 'proximo gov sao_paulo fiz_parte missao_paz onu haiti encontrei_guerra vivi_pele hora_combate verdade_aprendi paz precisa_ser conquistada_dia dia_estrategia coragem_acao',\n",
              " 'certeza deve_ter sido dificil soldados_brasileiros comunicarem populacao fala_frances crioulo_haitiano',\n",
              " 'seras governador_sao paulo prepare guerra aqui nao diferente enfrentou haiti talvez aqui pouquinho pior deus_abencoe senhor',\n",
              " 'ate_hoje haiti esta merda tao bonzao assim vcs conseguido pacificar melhorar povo haitiano ate_hoje fogem pais procurando brasil outros_paises refugio',\n",
              " 'agencia_reuters diz asfaltou todo haiti',\n",
              " 'bom_dia patricia sim tarcisio missao haiti',\n",
              " 'hora lula parar fazer_trabalho sujo bush haiti',\n",
              " 'bom_dia ministro haiti tambem contingente talvez participado_missao mesma_epoca maiores aprendizados vida obrigado tudo vem fazendo pais',\n",
              " 'senhor desculpa voce mentiroso nunca guerra haiti',\n",
              " 'fiz_parte missao_paz onu haiti vivi hora_combate verdade_aprendi paz precisa_ser conquistada_dia dia_estrategia coragem_acao guerra ruas certo experiencia posso acabar',\n",
              " 'entao quer_dizer voce nao consegue_enxergar alem palmo nariz nao consegue achar estranho exercito pais limpando desgraca franca fez haiti enquanto exercito franca outros_paises europeus ficam cocando ovos',\n",
              " 'provavelmente voce passou tempo haiti sao_paulo talvez voce devesse candidatar governo',\n",
              " 'tarcisio belga mao missao_onu haiti',\n",
              " 'entendi agora sei haiti esta merda',\n",
              " ...]"
            ]
          },
          "metadata": {},
          "execution_count": 38
        }
      ]
    },
    {
      "cell_type": "markdown",
      "metadata": {
        "id": "sDr540tzEMcg"
      },
      "source": [
        "###Stematização ( não será usado na experimentação)"
      ]
    },
    {
      "cell_type": "code",
      "execution_count": 39,
      "metadata": {
        "id": "spEstnAEEPa4"
      },
      "outputs": [],
      "source": [
        "#string_stem_example = 'capacetes brancos ajudaram haiti pare besteira ajudou haiti fim exercito capacetes brancos resolvem problema presos campos concentracao argentina criou'"
      ]
    },
    {
      "cell_type": "code",
      "execution_count": 40,
      "metadata": {
        "id": "sxGZ0sKtErVc"
      },
      "outputs": [],
      "source": [
        "# def stemming(tweet):\n",
        "#   document = pln(tweet)\n",
        "#   stemmer = nltk.stem.RSLPStemmer()\n",
        "#   return ' '.join([stemmer.stem(token.text) for token in document])"
      ]
    },
    {
      "cell_type": "code",
      "execution_count": 41,
      "metadata": {
        "id": "E5Wxc-D_Ex4_"
      },
      "outputs": [],
      "source": [
        "#string_stem_example = stemming(string_stem_example)"
      ]
    },
    {
      "cell_type": "code",
      "execution_count": 42,
      "metadata": {
        "id": "TcSVDRNCE4RQ"
      },
      "outputs": [],
      "source": [
        "# string_stem_example"
      ]
    },
    {
      "cell_type": "code",
      "execution_count": 43,
      "metadata": {
        "id": "THBmoMozOj9I"
      },
      "outputs": [],
      "source": [
        "# tweets_stem = tweets_pre_proc.copy()\n",
        "# tweets_stem['text'] = tweets_pre_proc['text'].map(lambda tweet: stemming(tweet))"
      ]
    },
    {
      "cell_type": "code",
      "execution_count": 44,
      "metadata": {
        "id": "xMDljXZzO6Mg"
      },
      "outputs": [],
      "source": [
        "#tweets_stem.text.head().tolist()"
      ]
    },
    {
      "cell_type": "markdown",
      "metadata": {
        "id": "MnRiIaCuWFmn"
      },
      "source": [
        "#Comparação de tweets originais, pré-processados, lematizados, **bigramados e **stematizados"
      ]
    },
    {
      "cell_type": "markdown",
      "metadata": {
        "id": "IhsrDBUGWUX4"
      },
      "source": [
        "###Tweets originais"
      ]
    },
    {
      "cell_type": "code",
      "execution_count": 45,
      "metadata": {
        "id": "mbsDEFUbWEpD",
        "colab": {
          "base_uri": "https://localhost:8080/"
        },
        "outputId": "fca896ab-933f-42ae-d23a-a66916ee8015"
      },
      "outputs": [
        {
          "output_type": "execute_result",
          "data": {
            "text/plain": [
              "['@geglobo Paquetá é haitiano',\n",
              " '@BetoLuiz_RU @jonesmanoel_PCB @deccache O Haiti foi uma desgraça de fato.Mas os erros nao anulam os acertos.E quando ele fala sobre a guerra na Ucrania ele vem se posicionando muito bem,criticando a postura do zelensky',\n",
              " 'O senhor vai investir na educação da Venezuela, Argentina, Haiti,cuba, e etc países comunistas?, porque aqui no Brasil o Senhor nunca fez isso. https://t.co/jmVSYbsG2X',\n",
              " '@rsallesmma Que nada, na mão de vocês já tá virando uma mistura de deserto do Saara com Haiti',\n",
              " '@JoppertLeonardo @jonesmanoel_PCB @deccache Entramos nos BRICS, mas invadimos o Haiti a mando do Bush!\\n\\nLula diz que vai fortalecer os brics mas faz palestras no Parlamento Europeu que está tratando Rússia e china como inimigos mortais, como isso vai funcionar???']"
            ]
          },
          "metadata": {},
          "execution_count": 45
        }
      ],
      "source": [
        "tweets_orig.text.head().tolist()"
      ]
    },
    {
      "cell_type": "markdown",
      "metadata": {
        "id": "VwCswcJ2Weai"
      },
      "source": [
        "### Tweets pré-processados"
      ]
    },
    {
      "cell_type": "code",
      "execution_count": 46,
      "metadata": {
        "id": "v_9v4lKcWdX4",
        "colab": {
          "base_uri": "https://localhost:8080/"
        },
        "outputId": "49f2e5d9-9704-4d8c-9ee9-ae444fd4df36"
      },
      "outputs": [
        {
          "output_type": "execute_result",
          "data": {
            "text/plain": [
              "['haiti desgraca fato erros anulam acertos fala sobre guerra ucrania vem posicionando bem criticando postura zelensky',\n",
              " 'senhor vai investir educacao venezuela argentina haiti cuba etc paises comunistas porque aqui brasil senhor nunca fez',\n",
              " 'nada mao voces virando mistura deserto saara haiti',\n",
              " 'entramos brics invadimos haiti mando bush lula diz vai fortalecer brics faz palestras parlamento europeu esta tratando russia china inimigos mortais vai funcionar ',\n",
              " 'haitiano entendi nada falavam']"
            ]
          },
          "metadata": {},
          "execution_count": 46
        }
      ],
      "source": [
        "tweets_pre_proc.text_preprocessed.head().tolist()"
      ]
    },
    {
      "cell_type": "markdown",
      "metadata": {
        "id": "dxW4UASqWmpo"
      },
      "source": [
        "###Tweets lematizados"
      ]
    },
    {
      "cell_type": "code",
      "execution_count": 47,
      "metadata": {
        "id": "XZWfGcaFWmKj",
        "colab": {
          "base_uri": "https://localhost:8080/"
        },
        "outputId": "d458409b-18e6-4b60-cb20-6bbfbc1b37ea"
      },
      "outputs": [
        {
          "output_type": "execute_result",
          "data": {
            "text/plain": [
              "['haiti desgraca fato erro anular acerto falir sobrar guerra_ucrania vir posicionar bem criticar posturar zelensky',\n",
              " 'senhor ir investir_educacao venezuela argentino haiti cubar etc paises_comunistas porque aqui brasil senhor nunca fazer',\n",
              " 'nado mao voces virar misturar deserto_saara haiti',\n",
              " 'entrar brics invadir haiti mando_bush lula dizer ir fortalecer brics fazer palestrar parlamentar europeu este tratar russia_china inimigo mortal ir funcionar',\n",
              " 'haitiano entendi_nada falar']"
            ]
          },
          "metadata": {},
          "execution_count": 47
        }
      ],
      "source": [
        "tweets_pre_proc.text_lematizados.head().tolist()"
      ]
    },
    {
      "cell_type": "markdown",
      "source": [
        "###Tweets com bigramas"
      ],
      "metadata": {
        "id": "iG9csU4bL5hx"
      }
    },
    {
      "cell_type": "code",
      "source": [
        "tweets_pre_proc.bigrams_text.head().tolist()"
      ],
      "metadata": {
        "colab": {
          "base_uri": "https://localhost:8080/"
        },
        "id": "TOFSwjkdL4se",
        "outputId": "81fa4e0e-6df4-4fe1-a9c2-8d1751fd96c6"
      },
      "execution_count": 48,
      "outputs": [
        {
          "output_type": "execute_result",
          "data": {
            "text/plain": [
              "['haiti desgraca fato erros anulam acertos fala sobre guerra_ucrania vem posicionando bem criticando postura zelensky',\n",
              " 'senhor vai investir_educacao venezuela argentina haiti cuba etc paises_comunistas porque aqui brasil senhor nunca fez',\n",
              " 'nada mao voces virando mistura deserto_saara haiti',\n",
              " 'entramos brics invadimos haiti mando_bush lula diz vai fortalecer brics faz palestras parlamento europeu esta tratando russia_china inimigos mortais vai funcionar',\n",
              " 'haitiano entendi_nada falavam']"
            ]
          },
          "metadata": {},
          "execution_count": 48
        }
      ]
    },
    {
      "cell_type": "markdown",
      "metadata": {
        "id": "edOZm1e_WzDB"
      },
      "source": [
        "###Tweets stematizados"
      ]
    },
    {
      "cell_type": "code",
      "execution_count": 49,
      "metadata": {
        "id": "VIAbuvtZWwxg"
      },
      "outputs": [],
      "source": [
        "#tweets_stem.text.head().tolist()"
      ]
    },
    {
      "cell_type": "markdown",
      "metadata": {
        "id": "tI_Fn8Q8hiwE"
      },
      "source": [
        "##Criando o arquivo .csv dos tweets"
      ]
    },
    {
      "cell_type": "code",
      "execution_count": 50,
      "metadata": {
        "id": "REQ5FB9hHOtE"
      },
      "outputs": [],
      "source": [
        "df = pd.DataFrame(tweets_pre_proc)\n",
        "df.to_csv('/content/drive/My Drive/Colab Notebooks/TCC/csv/pre_processed_tweets.csv')"
      ]
    }
  ],
  "metadata": {
    "colab": {
      "collapsed_sections": [],
      "name": "preprocessing_tweets.ipynb",
      "provenance": [],
      "authorship_tag": "ABX9TyM7gKTFXsg0FN7bX15aRUIL",
      "include_colab_link": true
    },
    "kernelspec": {
      "display_name": "Python 3",
      "name": "python3"
    },
    "language_info": {
      "name": "python"
    }
  },
  "nbformat": 4,
  "nbformat_minor": 0
}