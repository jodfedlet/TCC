{
  "nbformat": 4,
  "nbformat_minor": 0,
  "metadata": {
    "colab": {
      "name": "preprocessing_tweets.ipynb",
      "provenance": [],
      "collapsed_sections": [],
      "authorship_tag": "ABX9TyNL/WhAhXtfuDC9GNWJd7gk",
      "include_colab_link": true
    },
    "kernelspec": {
      "name": "python3",
      "display_name": "Python 3"
    },
    "language_info": {
      "name": "python"
    }
  },
  "cells": [
    {
      "cell_type": "markdown",
      "metadata": {
        "id": "view-in-github",
        "colab_type": "text"
      },
      "source": [
        "<a href=\"https://colab.research.google.com/github/jodfedlet/TCC/blob/main/TCCII/Twitter/preprocessing_tweets.ipynb\" target=\"_parent\"><img src=\"https://colab.research.google.com/assets/colab-badge.svg\" alt=\"Open In Colab\"/></a>"
      ]
    },
    {
      "cell_type": "markdown",
      "source": [
        ""
      ],
      "metadata": {
        "id": "0qZ61swqh5PS"
      }
    },
    {
      "cell_type": "markdown",
      "source": [
        "###Importando/instalando bibliotecas"
      ],
      "metadata": {
        "id": "jlCU2XyBh6Jp"
      }
    },
    {
      "cell_type": "code",
      "metadata": {
        "id": "72EwE3OMOl0X"
      },
      "source": [
        "!pip install unidecode\n",
        "import pandas as pd\n",
        "import numpy as np\n",
        "import nltk\n",
        "import re\n",
        "import spacy\n",
        "import matplotlib as mpl\n",
        "import matplotlib.pyplot as plt\n",
        "from nltk.tokenize import word_tokenize\n",
        "from google.colab import drive\n",
        "drive.mount(\"/content/drive\")\n",
        "nltk.download('all-corpora')\n",
        "nltk.download('punkt')\n",
        "nltk.download('rslp')\n",
        "\n",
        "!python3 -m spacy download pt\n",
        "\n",
        "from nltk.corpus import stopwords\n",
        "from unidecode import unidecode\n",
        "from matplotlib import cm"
      ],
      "execution_count": null,
      "outputs": []
    },
    {
      "cell_type": "markdown",
      "source": [
        "# Carregamento dos tweets até dezembro de 2021"
      ],
      "metadata": {
        "id": "gR_wWs7KB_c1"
      }
    },
    {
      "cell_type": "code",
      "source": [
        "#tweets_orig = pd.read_csv('/content/drive/My Drive/ColabNotebooks/tweets_until_dec_2021.csv', lineterminator='\\n', index_col=0)\n",
        "\n",
        "tweets_orig = pd.read_csv('/content/drive/My Drive/ColabNotebooks/all_tweets.csv', lineterminator='\\n', index_col=0)"
      ],
      "metadata": {
        "id": "0KckrkjugjpP"
      },
      "execution_count": 544,
      "outputs": []
    },
    {
      "cell_type": "markdown",
      "source": [
        "#Estatística dos tweets"
      ],
      "metadata": {
        "id": "FhdF2XyEvwnY"
      }
    },
    {
      "cell_type": "code",
      "source": [
        "def tweets_stats(df):\n",
        "  print('Total of tweets: '+str(len(df)))\n",
        "  df['datetime'] = pd.to_datetime(df.datetime, format='%Y-%m-%d %H:%M:%S')\n",
        "\n",
        "  #data by year\n",
        "  def plot_by_year(): \n",
        "    by_year = df.groupby([df['datetime'].dt.year.rename('Year')]).size().reset_index(name='Total')\n",
        "\n",
        "    # color map based on years\n",
        "    yrs = np.unique(by_year.Year)\n",
        "    c = cm.get_cmap('tab20', len(yrs))\n",
        "    ## probably a more elegant way to do this...\n",
        "    yrClr = np.zeros((len(by_year.Year),4))\n",
        "    for i, v in enumerate(yrs): \n",
        "        yrClr[by_year.Year==v,:]=c.colors[i,:]\n",
        "    \n",
        "    fig, ax = plt.subplots(figsize=(30,4))\n",
        "    by_year.plot(kind='bar', x='Year', y='Total', color=yrClr, title=\"Tweets by year\", ax=ax)\n",
        "\n",
        "    for index, value in enumerate(list(by_year[\"Total\"])):\n",
        "      plt.text(index, value, str(value))\n",
        "\n",
        "    ax.set_xlabel('Year')\n",
        "    ax.set_ylabel('Count')\n",
        "\n",
        "    plt.show()\n",
        "  \n",
        "\n",
        "  #by year month\n",
        "  def plot_by_year_and_month():\n",
        "    by_year_month = df.groupby([df['datetime'].dt.year.rename('Year'), df['datetime'].dt.month.rename('Month')]).size().reset_index(name='Total')\n",
        "\n",
        "    # color map based on years\n",
        "    yrs = np.unique(by_year_month.Year)\n",
        "    c = cm.get_cmap('tab20', len(yrs))\n",
        "    ## probably a more elegant way to do this...\n",
        "    yrClr = np.zeros((len(by_year_month.Year),4))\n",
        "    for i, v in enumerate(yrs): \n",
        "        yrClr[by_year_month.Year==v,:]=c.colors[i,:]\n",
        "\n",
        "    fig, axs = plt.subplots(figsize=(30, 4))\n",
        "    by_year_month['MonthYr'] = pd.to_datetime(by_year_month.assign(day=1)[['Year','Month','day']]).dt.strftime('%m-%Y')\n",
        "    by_year_month.plot(kind='bar', x='MonthYr', y='Total', color=yrClr, title=\"Tweets by year and month\", ax=axs)\n",
        "\n",
        "    for index, value in enumerate(list(by_year_month[\"Total\"])):\n",
        "      plt.text(index - .2, value, str(value))\n",
        "\n",
        "    axs.set_xlabel('Month - Year')\n",
        "    axs.set_ylabel('Count')\n",
        "\n",
        "  plot_by_year()\n",
        "  plot_by_year_and_month()"
      ],
      "metadata": {
        "id": "gLr4BzuEvxXf"
      },
      "execution_count": 545,
      "outputs": []
    },
    {
      "cell_type": "markdown",
      "source": [
        "###Estatística dos tweets antes do pré-processamento:"
      ],
      "metadata": {
        "id": "x7N_CmNr7JVo"
      }
    },
    {
      "cell_type": "code",
      "source": [
        "tweets_stats(tweets_orig)"
      ],
      "metadata": {
        "colab": {
          "base_uri": "https://localhost:8080/",
          "height": 638
        },
        "id": "bz9Mdnp7wCQI",
        "outputId": "19776803-204b-49d1-928e-4f7e1754a5b1"
      },
      "execution_count": 546,
      "outputs": [
        {
          "output_type": "stream",
          "name": "stdout",
          "text": [
            "Total of tweets: 185222\n"
          ]
        },
        {
          "output_type": "display_data",
          "data": {
            "text/plain": [
              "<Figure size 2160x288 with 1 Axes>"
            ],
            "image/png": "[encoded data removed]"
          },
          "metadata": {
            "needs_background": "light"
          }
        },
        {
          "output_type": "display_data",
          "data": {
            "text/plain": [
              "<Figure size 2160x288 with 1 Axes>"
            ],
            "image/png": "[encoded data removed]"
          },
          "metadata": {
            "needs_background": "light"
          }
        }
      ]
    },
    {
      "cell_type": "markdown",
      "source": [
        "#Quantidade de tweets\n"
      ],
      "metadata": {
        "id": "UC1GLIqNEsKV"
      }
    },
    {
      "cell_type": "code",
      "source": [
        "tweets_orig.shape"
      ],
      "metadata": {
        "colab": {
          "base_uri": "https://localhost:8080/"
        },
        "id": "HNixTkAmiwlR",
        "outputId": "afd8c390-c286-4a3b-e74c-99b8e634fb81"
      },
      "execution_count": 547,
      "outputs": [
        {
          "output_type": "execute_result",
          "data": {
            "text/plain": [
              "(185222, 4)"
            ]
          },
          "metadata": {},
          "execution_count": 547
        }
      ]
    },
    {
      "cell_type": "code",
      "source": [
        "tweets_orig.text.head().tolist()"
      ],
      "metadata": {
        "colab": {
          "base_uri": "https://localhost:8080/"
        },
        "id": "uFSLsda3g2X_",
        "outputId": "72be498d-7824-4ff8-c756-740bc50bb1b8"
      },
      "execution_count": 548,
      "outputs": [
        {
          "output_type": "execute_result",
          "data": {
            "text/plain": [
              "['E pensar que esse lixo ganhou projeção com a estapafúrdia missão Brasileirão no Haiti https://t.co/Jb5gDlHzUk',\n",
              " 'nem recebi e já tô duro🤣🤣🤬',\n",
              " 'missão no Haiti https://t.co/8jT65Pw4aP',\n",
              " '@gen_heleno O sr foi expulso de uma missão de paz no Haiti. Estou certo? Enaltece ditaduras, quem és tu pra falar mau de um hino comunista?',\n",
              " '@gen_heleno A memória dos brasileiros está intacta,lembramos do Golpe de 64 o regime da Ditadura e seus Assassinatos Torturas Desaparecimentos,a farta Roubalheira dos militares e Lembramos muito bem do Haiti e dos Roubos no COB , também lembramos do golpe de 2016 e a fraude eleitoral 2018 !']"
            ]
          },
          "metadata": {},
          "execution_count": 548
        }
      ]
    },
    {
      "cell_type": "code",
      "source": [
        "tweets_orig.text.tolist()"
      ],
      "metadata": {
        "colab": {
          "base_uri": "https://localhost:8080/"
        },
        "id": "GepT_RBf7eH3",
        "outputId": "7259b16f-e0cb-4961-abc5-d2b9a889e461"
      },
      "execution_count": 549,
      "outputs": [
        {
          "output_type": "execute_result",
          "data": {
            "text/plain": [
              "['E pensar que esse lixo ganhou projeção com a estapafúrdia missão Brasileirão no Haiti https://t.co/Jb5gDlHzUk',\n",
              " 'nem recebi e já tô duro🤣🤣🤬',\n",
              " 'missão no Haiti https://t.co/8jT65Pw4aP',\n",
              " '@gen_heleno O sr foi expulso de uma missão de paz no Haiti. Estou certo? Enaltece ditaduras, quem és tu pra falar mau de um hino comunista?',\n",
              " '@gen_heleno A memória dos brasileiros está intacta,lembramos do Golpe de 64 o regime da Ditadura e seus Assassinatos Torturas Desaparecimentos,a farta Roubalheira dos militares e Lembramos muito bem do Haiti e dos Roubos no COB , também lembramos do golpe de 2016 e a fraude eleitoral 2018 !',\n",
              " '@cartacapital prestigiaram mesmo, mandaram o heleno comandar o genocídio haitiano a mando dos EUA e OTAN https://t.co/ArHUy7s1MB',\n",
              " '@gen_heleno Lá no Haiti o mal tem seu sobrenome.',\n",
              " '@gen_heleno Tens que responder teu BO no Haiti, onde acusam tua tropa de assassinatos, estupros etc...',\n",
              " '@gen_heleno Talvez a Time deveria relembrar o episódio do Haiti.',\n",
              " '@gen_heleno O que vc fez pelo Brasil mesmo? Até no Haiti foi incompetente. Durante toda sua carreira não fez nada de relevante. Comparemos a sua história com o de Lula. O desempenho do país se mede com indicadores, é só comparar, verá que estaremos mais próximos do Haiti com vcs no poder.',\n",
              " '@gen_heleno Vc acha que sua opinião vale alguma coisa? Hum igual o Viagra e a prótese peniana que foi comprada pra os militares,vc é uma vergonha desse o Haiti',\n",
              " 'Pois é,  a revista TIME sequer fez matéria sobre o massacre que houve na favela Cité Soleil, Haiti.\\nO senhor está lembrado ou quer mais detalhes? https://t.co/gkTtbWeKMz',\n",
              " '@BelleVox Bicho ingrato, ainda há de aparecer a verdade sobre o Haiti',\n",
              " '@LulaOficial Sim. O povo faz a comparação. O seu desgoverno  e o governo da transposição do SF, do Pix, da recuperação da Petrobrás, do emprego, do crescimento do PIB, das milhões de vacinas compradas  (povo todo com 3 doses). E no seu governo nós  só crescemos mais que o Haiti',\n",
              " '@gen_heleno - Trriiiimm!\\n- Alô! Deseja falar com quem?\\n- Aqui é do Haiti. Queremos falar com o General Heleno. Ele está?\\n- É... humm... olha, ele foi ali ver uma coisa e já volta. Quer deixar recado?\\n- Sim, diga que o pessoal da Cité Soleil quer falar com ele. Eu ligo mais tarde. Bon soir!',\n",
              " 'LATIFUNDIO: Livro conta que padres usam a miséria do Haiti par... https://t.co/nXpFbjdzSC',\n",
              " '@gen_heleno @LulaOficial Fez mal?menos a vc e seu bolso né hipócrita? Vc ganhou muito dinheiro no Haiti e saiu de lá pq a ONU pediu a sua Cabeça; saiba que muita gnt não tem memória curta! Daí tu ficou ressentido e está cuspindo no prato que comeu! “ vc general não passa de um verme!',\n",
              " 'Grupos criminosos recrutam cada vez mais crianças no Haiti, alerta ONU https://t.co/Th1Ue39Dr8',\n",
              " '@gen_heleno Será que não são os fantasmas do massacre no Haiti que estão voltando a sua mente, generalíssimo?',\n",
              " '@SigaGazetaBR Ou será que são os fantasmas do massacre no Haiti que estão começando a perturbar nosso generalíssimo? Vc como \"pastor\" deve saber do que me refiro, neh?',\n",
              " '@viniicsouza Vencidos hoje pelo ataque do Haiti',\n",
              " 'vou te que comprar foto minha aquecendo, ficou mídia',\n",
              " '@HenryBragaZz @FotosPeloMundo E eu tenho não um mais vários amigos cubanos e já fui inclusive para lá, e te garanto o povo cubano vive muito melhor que seu homônimo Haiti que é capitalista, ou você quer comparar Cuba com Noruega? Vocês vivem no mundo da lua, e repetem tudo que falam para vocês! Nunca estudam',\n",
              " '@HenryBragaZz @FotosPeloMundo E isso é culpa do fantasma do comunismo? Ou culpa dos anos de imperialismo e colonialismo e dos embargos econômicos que os EUA fizeram lá? Pq não compara Cuba com Haiti que é capitalista e são equivalentes? E Cuba é comunista? 🤣🤣🤣🤣🤣 Esse discurso já é manjado, tente de novo',\n",
              " '@similarnacional Haiti não curtiu seu post',\n",
              " '💢 As pessoas estão sofrendo à medida que os confrontos armados se espalham por Porto Príncipe, capital do #Haiti.\\n\\nO coordenador-geral de MSF no país, Mumuza Muhindo, responde a três perguntas sobre a recente onda de #violência. Confira: 👇 https://t.co/CSpIdQjLGt',\n",
              " 'O General é um figura carimbada que coleciona falas e ações irresponsáveis e polêmicas, como na sua passagem pelo Haiti ou quando rotulou o centrão como antro de ladrões.\\nNão tem autoridade moral para criticar Lula.\\n#PorqueNãoTeCalas\\nhttps://t.co/ZV4UDvZCd8',\n",
              " '@revistaforum Salvar quem? O Haiti? Vai lá.',\n",
              " '@whatsappp02 nessa  do escolha muito dificil cairemos nas mãos do bolsonaro  novamente por mais 4 anos e o brasil ruma a ser o haiti 2.0',\n",
              " '@gen_heleno Voltem para os quartéis e não se metam mais em política, seus milicos golpistas, corruptos e traficantes de cocaína em avião presidencial! Lembre da sua fama no Haiti e no COB, general.',\n",
              " '@gen_heleno Lembremos da sua atuação no Haiti, durante o governo Lula, que o senhor protagonizou a maior vergonha que a nação já teve através das mãos de um militar. Além de viagra e prótese peniana precisa de remédio de memória. Cada crime nas suas costas vindo dali...',\n",
              " 'O estratega de Cité Soleil foi capa de alguma revista no Haiti?\\n https://t.co/n0ojX8vUBe',\n",
              " '@gen_heleno Você tem ódio mortal de Lula porque foi removido do cargo de comandante das Forças de Paz no Haiti a pedido da ONU, por extrema incompetência.',\n",
              " 'maioria dos Eleitores de Moro são gados enrustidos , ao invés de migrar todos para Ciro \\ncometem a loucura de apoiar o doido do bozo \\neu não farei parte desta loucura fico de consciência limpa , Mais 4 anos de governo do bolsonaro  e iremos se tornar o Haiti https://t.co/KK12fUQohP',\n",
              " '@JornalDaCidadeO Assombroso era o nome do caçador do E.B no Haiti se não me engano. O cara salvou muita gente. Nem digo nada...',\n",
              " '@gen_heleno Mal quem fez foi vc no Haiti,mandou seus comandados,sequestraram,estuprar,e matar mulheres e homens \\nFazendo feder o nome do Brasil no mundo todo seu boçal,criminoso.',\n",
              " '@gen_heleno Ora, ora se não é o assistente de genocida aqui falando sobre fazer o mal.... disso vcs entendem bem. Lembra o motivo de ter voltado do Haiti,  general? O que não nos falta é memória.',\n",
              " '@gen_heleno Heleno traumatizado pq o Lula o mandou trabalhar pela primeira vez na vida lá no Haiti.',\n",
              " '@gen_heleno coitado do senhor, passa vergonha toda hora com sua declarações sem nexo!  Tem algo a dizer sobre o massacre Punho de Ferro no Haiti? #Lula13Presidente e abaixo o viagra de vocês.',\n",
              " '@pr0f_al5_g0ethe @gen_heleno Não sei se vc sabe mas o Heleno quando estava no Haiti, vivia em fortlouderdale confabulando com os milicos americanos....',\n",
              " '@gen_heleno Qual memória? A da sua passagem pelo Haiti? Não deveríamos esquecer mesmo que foi o Lula que te mandou para la.',\n",
              " 'A TIME deveria fazer uma reportagem sobre o massacre em Cité Soleil (Haiti) só assim Heleno poderia ser capa da revista. \\n\\nhttps://t.co/2VpNVaaTiO',\n",
              " '@gen_heleno Tem gente que nem cometendo assassinato em massa no Haiti conseguiu o feito de sair na capa dessa revista. Acontece, general.',\n",
              " '@BlogdoNoblat será que o general dureza cantou o hino enquanto seus militares assassinavam favelados no haiti?\\nou será que ele cantou \"... se gritar pega centrão...\"',\n",
              " '@gen_heleno Chefe do GSI deveria trabalhar com a inteligência e não com a burrice. Vai ver que é por isso que os traficantes estão usando os vôos oficiais para transportar cocaína. O cara tá direto no twitter escrevendo merda. O HAITI NÃO É AQUI.',\n",
              " '@ro_f63 @gen_heleno O Haiti também lembra bem dele. Abjetos',\n",
              " '@gen_heleno O mal é promover estupros e massacres em bairros de gente pobre no Haiti. O mal é roubar dinheiro do COB. O mal é colaborar com um governo que promove o genocídio indígena. O mal é negar vacinas e respiradores e deixar as pessoas morrerem p/esperar propina de laboratórios.',\n",
              " '@gen_heleno Quem faz mal ao Brasil é vc e seus compadres ... E vc ainda de quebra fez mal ao Haiti... Imprestável',\n",
              " 'Fantasmas de massacre no Haiti assombram generais do governo Bolsonaro https://t.co/TYrCJifiCS',\n",
              " '@ElaineS82543611 @folha Foi o Soros que pagou a capa. 🤣',\n",
              " '@gen_heleno Falou o General que foi expulso do HAITI pela ONU',\n",
              " '@BrazilFight Quais falhas? 🤣',\n",
              " '@realpfigueiredo Sobrou pro Soros 🤣',\n",
              " '@gen_heleno Queria que fizessem uma matéria sobre sua atuação no Haiti? https://t.co/1A1wFM6V1Z',\n",
              " '@BrazilFight Não sabia que vcs acreditavam em pesquisas 🤣',\n",
              " '@folha Há poucos meses, Bolsonaro e sua milícias digitais fizeram um esforço hercúleo para ver Bolsonaro na capa da TIME. Não conseguiram. Bolsonaro é um zé ninguém. \\n\\nAgora, Lula vai lá é consegue de graça, sem esforço nenhum. \\n\\nPor isso a bolsolândia está espumando de ódio.',\n",
              " 'Rio Bravo #frontera #migracion #caravana #honduras #haiti #cuba #inm #co... https://t.co/I0sXlZQ5UR a través de @YouTube',\n",
              " 'Vai tomar seu viagra. Não esqueçam o Haiti. https://t.co/QxokLYCRng',\n",
              " '@VEJA @casado_oficial Ele culpou Putin também, arrombados.',\n",
              " '@gen_heleno Huuuum… relaxa que você também já teve notoriedade em uma revista, pela sua ação no Haiti \\n\\nhttps://t.co/qVohjINOGd',\n",
              " 'Confrontos entre gangues forçam centenas de pessoas a fugir de casa no\\xa0Haiti https://t.co/2tdyc3AkpE',\n",
              " '@GeorgMarques @gen_heleno Heleno, O Miúdo.\\nHaiti manda lembranças.',\n",
              " '@gen_heleno @oiIuiz Foi com palavras que tu combateu bom mal no Haiti?? 🤔 \\nQuando acordarem, \"se\" Acordarem, vai ser tarde!!',\n",
              " 'ESSE VEME PARASITA FOI DISPENSADO POR LULA PELA CAGADA QUE FEZ NO HAITI, matou muitos inocentes com invasão em vilas e vilarejos nem a menor capacidade de comando. É SÓ MAIS UM DOS IMBECIS FARDADO E SEM NOÇÃO, do que faz e fala. https://t.co/FGWz4dsmo1',\n",
              " '\"pelo menos eu sei geografia basica\" aí fala que a jamaica e o haiti são na africa',\n",
              " '@gen_heleno A minha memória é ótima. Nunca vou esquecer o que vc fez no Haiti.',\n",
              " '@jcrollemberg @Sgt_Pimenta2 @Francis54238207 @laurosergio01 @hopeluta_ @_KatiaGarcia_ @jmdavila74 @Fabiomarbinho @luizgilsonjr @TimaoPetralha @IvoViu @celsogrusso @PauloFrancaCArv @LulaDilma13 Sim, o DNA das elites brasileiras é escravocrata. O darwinismo social no BR é política de Estado, sem dó e sem remorso. Estou no centro da cidade neste momento e salta aos olhos as faces empobrecidas, as vestimentas e as estratégias de sobrevivência das pessoas. \\nO Haiti é aqui.',\n",
              " '@GeorgMarques Um dos maiores erros de Lula foi não apenas a participação brasileira na intervenção do Haiti, que deu palco para esse criminoso do Augusto Heleno, como também ter investido e modernizado o quanto pode as Forças Armadas. Deveria era tê-las sucateado ainda mais, seguindo FHC',\n",
              " '@gen_heleno E o Haiti? Um dia você será lembrado… E condenado!',\n",
              " '@gen_heleno Mal fez vc no Haiti... no golpe de 64 múmia zumbi mamado do estado',\n",
              " '@abdalafarah @gen_heleno a revista Tome precisava fazer uma reportagem sobre o massacre no Haiti!',\n",
              " '🔸Painel principal:\\n• Sabine Lamour (SOFA – Solidariedade das Mulheres Haitianas/Haiti)\\n• Andréia Aparecida Silvério dos Santos (CPT/Projeto Sementes/Brasil)\\n• Adrian Ramirez (Limeddh/FIDH/México) \\n• Jorge Rubiano (Semillas de Ayuda/Colômbia)',\n",
              " '@gen_heleno VAI BOTAR UM PIJAMA. E VAI PRA CASA DESCANSAR.  REZA E PEÇA A DEUS QUE PERDOE TODAS AS BARBARIDADES QUE VOCÊ COMETEU NO HAITI. EXISTEM ALMAS LÁ QUE NUNCA IRÃO PERDOAR AS SUAS ATITUDES. VOCÊ E DEUS SABEM DISTO.',\n",
              " '@gen_heleno General o senhor sabe o que memória? \\nQuais suas memórias do Haiti?',\n",
              " '@Alemacd7 @dungabuga aposto q não sabe a capital da australia, q acha q a jamaica é da africa e q o haiti fica na áfrica',\n",
              " '@ro_f63 @gen_heleno No Haiti as pessoas não esse mesmo sentimento.',\n",
              " '@gen_heleno Não fala assim que foi o cara da capa que te deu o aval pra brincar de soldadinho no Haiti.',\n",
              " 'Deixa de ser calhorda, quem menospreza o povo, a democracia e a vida de pessoas mortas na ditadura é você. Um dia suas ações e de Paulo Humberto no Haiti serão investigadas. Assim como toda sua gestão do Departamento de Ciência e Tecnologia do Exército, não é mesmo Heleno? https://t.co/7pFoJd6SSQ',\n",
              " '@MuskDontBanMe @hiro_alc @BlindPuppeteer @Alisson_FM1415 @dungabuga vc aprendeu carpintaria na escola? e vc sabe q eles nn aprendem isso lá né, essa coisa de carpintaria é só em filmes e séries,  se vc for fazer relações internacionais saber onde fica o haiti é super importante. e tbm eu nn vou ser carpinteiro, pra q merda eu preciso saber isso',\n",
              " '@gen_heleno NÓS SABEMOS O QUE SEU COMANDO FEZ NO HAITI. https://t.co/3IMMttui71',\n",
              " '@ro_f63 @gen_heleno Conheça o Haiti',\n",
              " '@jairbolsonaro ola présente como Está familia tambèm,eu tambèm Graça Deus.tenho poblama eu Mora centro canela na Rau Fernando Ferrari número 143, Appartemente 203 necesito trabalhar e Dinhiero tambem jà tema Quatro filhio Haití nāo Dinhiero para Ajudar ,por favor Ajudar me?',\n",
              " 'Independência do Haiti: Culminar de um processo revolucionário de emancipação dos escravos\\nhttps://t.co/hGaY9IGDEc\\nOgé, mulato livre nascido na ilha de São Domingos, apelou a interesses comuns de brancos e mulatos, ambos proprietários de escravos. Esta postura não o salvou...',\n",
              " 'Mas são irrelevantes mesmo, ou você já viu alguma ação da ONU além do Haiti dar certo? https://t.co/WrMoCdjWOV',\n",
              " 'acabou de vir um haitiano aq no lugar onde eu trabalho\\nele foi falar \"oito\" e saiu um \"OITCHO\"',\n",
              " '@jairbolsonaro @Anitta Será que a agenda do presidente, que em média trabalha 2,3h por dia, inclui também o tempo que ele fica no twitter? Só pra saber...',\n",
              " 'Sol e vento gelado é muito bom',\n",
              " '@lucca_ig @hiro_alc @BlindPuppeteer @Alisson_FM1415 @dungabuga Saber informação inútil serve de que? Ser um bom carpinteiro vale mt mais do que saber onde fica o Haiti.',\n",
              " '@pedrodoria @JoelPinheiro85 Eu usaria o mesmo argumento para a dezena de guerras e invasões que os EUA fizeram em nome da liberdade \\n\\nSíria, Afeganistão, Vietnã, Iêmen, Cuba, Iraque, Haiti, Nicarágua etc',\n",
              " '@dungabuga Comentários são tipo:\\n\\nSabemos geografia básica\\n\\n(Não sabemos onde ficam países pequenos tipo Haiti',\n",
              " 'almoçando com um haitiano',\n",
              " '@reporterenato Se sair do mercado e voltar na mesma padaria de antes, já vai estar R$ 7,50.',\n",
              " 'Confrontos entre gangues forçam centenas de pessoas a fugir de casa no Haiti https://t.co/h9103nGe7z',\n",
              " '@Fabyuri O cara consegue ver assaltante como vítima da sociedade, me vem agora dizendo que a Ucrania é culpada pela guerra...',\n",
              " '@LulaOficial @ricardostuckert Melhor presidente da história do Brasil.',\n",
              " 'Na última semana, #PortauPrince tem sido assolada por confrontos violentos, que chegaram até aos bairros mais calmos da cidade. O coordenador-geral da MSF no #Haiti, Mumuza Muhindo, explica como a violência tem afetado as pessoas 👇 https://t.co/qatng9r8pa',\n",
              " 'Considerada a melhor jogadora Sub 20 do mundo, a haitiana Melchie Dumornay, está tendo uma temporada impressionante na sua estreia como professional. 12 participações diretas em gols em 15 jogos é notável. https://t.co/QGnDnev29k',\n",
              " 'Haitiano cria mochila solar para crianças sem acesso à eletricidade - Território Secreto https://t.co/tmR6wZkN7S',\n",
              " '@MotoKomunnist @filgmartin Esse bicho é muito engraçado. Mas confesso que tem imaginação. 🤣',\n",
              " 'não vou mais zuar estadunidense que não sabe geografia porque descobri que tem brasileiro que acha que jamaica e haiti ficam na africa',\n",
              " 'A craque haitiana Nérilia Mondésir está em sua melhor temporada na França. E olha que ela tem jogado pouco. Esperamos que com os bons números ela ganhe cada vez mais espaço. https://t.co/B5HGapQWHp',\n",
              " '@CentralEleicoes A capa da TIME exaltando Lulinha, foi financiada por Soros.\\n\\nSoros é aquele cara dono da Pepsi. \\n\\nA Pepsi é aquela empresa que, segundo denúncia do professor Olavo, adoça seus refrigerantes com fetos humanos abortados.\\n\\nLula falou em aborto esses dias - matéria prima. \\n\\nSacaram?',\n",
              " '@VimComentar2 @Renancpdias @RicardoFGM74 @g1 Se na época do PT agt pegasse pandemia isso aqui ia tá igual o Haiti',\n",
              " '@filgmartin Ninguém precisa se esforçar pra difamar o governo Bolsonaro no exterior, ele faz isso muito bem sozinho. 🤣🤣🤣',\n",
              " '@filgmartin 🤣🤣🤣🤣🤣\\n\\nAmo essas fantasias',\n",
              " '@ArthurRibeiro70 @coostaesilva @IvanBertoni90 @dungabuga não, fica no Caribe\\n\\nigual o Haiti',\n",
              " 'Confrontos entre gangues rivais na capital do Haiti, Porto Príncipe, forçaram centenas de pessoas a fugir de suas casas, disse o porta-voz adjunto da ONU:\\n\\nhttps://t.co/mOgYimbrFn',\n",
              " '@Paranamilgrau22 @MacacosSao @dungabuga Pergunta para 100 brasileiros normais onde fica Jamaica ou Haiti diria que 90 diria africa.',\n",
              " '@profpaulamarisa Depois de muito choro, ela encontra consolo num meme.',\n",
              " '@bc2pac @rodrigoS_02 @MarceloBonatto @lucasabati @sbtrs @dale10 Tu que é cuzao, guardas do beira rio espancaram haitiano que queria jogar pelo clube, procura a matéria no Google que tu acha, clube nojento é podre',\n",
              " '@cosmonautata Tenho algumas ressalvas, especialmente em relação ao Haiti. Isso contudo vale pro PSOL, a linha trotskista do PSTU não deve nada a qualquer direitista',\n",
              " '@CentralEleicoes Livre mercado no c# dos outros é refresco.',\n",
              " '@ermisualves @IvanBertoni90 @dungabuga Gente mas não faz nem sentido o Haiti ser na África.....',\n",
              " 'A ONU denuncia que 19 jornalistas foram mortos no Haiti desde a MINUSTAH. Mas esconde os 300 mil mortos por cólera levada pelos soldados e 2.500 órfãos de pais vivos, soldados que regressaram a seus países.Tudo é de responsabilidade da Onu e deve ser indenizado ao povo haitiano',\n",
              " '@lucassventure @febreten @eujose7 @zacnitter @tracklist Shakira CONTINUA NA MÍDIA \\n\\nSHAKIRA NÃO❌ VAI A PREMIAÇÕES DELA \\n\\nSHAKIRA EH FILANTROPICA 👈🏽 \\n\\nTEM 07 ESCOLAS NA COLÔMBIA E 01 NO HAITI\\n\\nEH INCOERENTE 👈🏽 ela ANDA EM EVENTOS FÚTEIS 👈🏽como #MetGala .. \\n\\nAgora SHAKIRA esta CONSTRUINDO mais 35 ESCOLAS IN COLÔMBIA',\n",
              " '@ggreenwald @Alex__1789 Pois é. Sobre o Haiti, que foi uma barbárie e um erro, eu me questiono se foi pressionado a participar da missão de \"paz\" por revanche, por prova de alinhamento/lealdade e etc.\\n\\nEle fez encontros multi-laterais com a participação do Ahmadinejad quando esse era o vilão da vez...',\n",
              " '@CaioAlmendra Não sei não. Haiti foi um fracasso tão importante - tanto no país mesmo quanto nos efeitos que teve em empoderar e legitimizar os militares aqui - que é difícil elogiar',\n",
              " '@CaioAlmendra @Alex__1789 só errou feio no haiti.',\n",
              " 'Pessoal acha que sabe mais de geografia q o pessoal dos EUA, mas acha q é errado usar americano como gentílico\\nSe perguntar aonde fica a Jamaica ou o Haiti a um brasileiro ele vai responder África\\nA verdade é q ngm sabe geografia a ponto de saber falar onde fica cada país',\n",
              " '@ermisualves @IvanBertoni90 @dungabuga vou admitir que só fiquei sabendo que o Haiti não é lá por causa daquela época q o exercito brasileiro foi ajuda-los após um tsunami ou terremoto q destruiu tudo lá',\n",
              " 'O PT inclusive denunciou a cagada que foi o Euromaidan em 2014 e como ele teria implicações futuras. No âmbito da política internacional, o PT tem uma linha bem correta (excetuando-se cagadas absurdas tipo o Haiti). https://t.co/lo444Wo0z3',\n",
              " 'O chefe de gabinete da Secretaria de Estado para Pessoas com Deficiência do Haiti e seu motorista, além de um pastor, foram sequestrados em Porto Príncipe, capital do Haiti https://t.co/V4Jbr77jLQ',\n",
              " '@JohnGALTnovo30 @arielmoraiis1 @Ryttah70 @Estadao Não idiota, passamos a Venezuela e nos tornamos um país pior que o Haiti; graças ao excrementíssimo.',\n",
              " '@IvanBertoni90 @dungabuga depois que eu descobri que 99% dos brasileiros acham que o Haiti fica na África só por ser um país fudido, eu não faço mais piada com estadunidense não saber geografia',\n",
              " '#Coronavirus Vacinação em 29/04/2022 Global 60% ( 4.649.618.548 Pessoas totalmente vacinadas) Somália 9% Sudão 9% Níger 7% Nigéria 7% Senegal 6% Burkina Faso 6% Tanzânia 6% Mali 5% Camarões 5% Malawi 5% Sudão do Sul 4% Madagascar 4% Papua-Nova Guiné 3% Iêmen 1% Haiti 1% Congo 1% https://t.co/YAhXjmRIyK',\n",
              " 'A Time tá certa. https://t.co/ShcseYpuGF',\n",
              " '@LILyyBclna @folha @jairbolsonaro Vixi, essa é louca. 🤣',\n",
              " '@BrazilFight Chora mais 🤣',\n",
              " '@BrazilFight Daniel Silveira já puxou cadeia por tráfico de anabolizantes, e, mesmo assim, foi indultado por Bolsonaro. 🤣',\n",
              " '@MaiaDilene @kimpaim Chora mais 🤣',\n",
              " '@kimpaim O presidente Lula representado na capa da Time como herói... \\n\\nHoje é dia de @jairbolsonaro chorar em posição fetal.',\n",
              " 'O presidente Lula representado na capa da Time como herói... \\n\\nHoje é dia de @jairbolsonaro chorar em posição fetal.',\n",
              " '@xicosa @wikipt Lula é capa da Time. \\n\\nA maior revista da América destaca Lula como caminho para tirar o Brasil do atual mar de lama, e Bolsonaro como um escroque autoritário e inepto. \\n\\nHoje é dia de bolsonarista chorar em posição fetal.',\n",
              " '@MarceloFreixo @danilocabralpe @MiltonCoelho_PE Lula é capa da Time. \\n\\nA maior revista da América destaca Lula como caminho para tirar o Brasil do atual mar de lama, e Bolsonaro como um escroque autoritário e inepto. \\n\\nHoje é dia de bolsonarista chorar em posição fetal.',\n",
              " '@BrazilFight Lula é capa da Time. \\n\\nA maior revista da América destaca Lula como caminho para tirar o Brasil do atual mar de lama, e Bolsonaro como um escroque autoritário e inepto. \\n\\nHoje é dia de bolsonarista chorar em posição fetal.',\n",
              " '@Trom_Petista Lula é capa da Time. \\n\\nA maior revista da América destaca Lula como caminho para tirar o Brasil do atual mar de lama, e Bolsonaro como um escroque autoritário e inepto. \\n\\nHoje é dia de bolsonarista chorar em posição fetal.',\n",
              " '@LulaOficial @TIME Que coisa linda. \\n\\nHoje é dia de Bolsonaro e seus lacaios chorarem em posição fetal. 🤣🤣',\n",
              " '@tabataamaralsp depois de 14 anos de vcs da esquerda no governo deixando o Brasil em último lugar na educação mundial atrás até do Haiti e + 2 anos de professores parasitas recebendo dinheiro em casa ou fazendo militância para o PT vc deveria tomar vergonha na cara antes de falar',\n",
              " '@Felipinviana7 Só se for debaixo do chuveiro kkkkkkkkkk',\n",
              " 'desde que eu nasci, com exceção da força de paz no haiti (o que poderia ter sido feito por qqer país), pra que serve o exército brasileiro a não ser sustentar general golpista',\n",
              " '@estherzina__ Volta pra senzala sua preta, vai colher meu café logo sua angolana, volta pro Haiti',\n",
              " 'Minha voz tá ficando rouca dnv, que merda é essa ?',\n",
              " '🇭🇹 Famílias fogem de casa durante onda de violência no #Haiti\\n\\nViolência das quadrilhas piorou desde o assassinato do presidente #JovenelMoise em julho do ano passado, com partes do território do país agora fora do alcance da polícia',\n",
              " '@okgdo Isso é na República Dominicana, e eles são haitianos vivem viajando ilegais la, e olha só a maioria deles trabalham muito, podiam tirar visto e tudo mas não, obs sou haitiano, meus irmãos dominicanos não é fale news',\n",
              " 'Esse segundo mnr parece até com o dj karan do haiti um pouco kk https://t.co/2QErpaGFe8',\n",
              " '@BIludidda @naoeodave @ab_cmaria @Charles_Gaindy @rafagodinho1 @vavellar_ O refrão usa duas frases que se confundem: \"O Haiti É aqui\" e \"O Haiti NÃO É aqui\"\\nÉ aqui: porque acontecem barbaridades indescritíveis, como era o contexto de 1993; Não é aqui: porque não fazemos de fato uma revolução que reclame o país de volta para o povo.',\n",
              " '@cajr1569 Isso é um sem vergonha!!!\\nHaiti, COB, 39 kg...\\nSó mancada!!!',\n",
              " '@DivagoTM Acho que Europa é o \"caminho do meio\" para diversas questões da vida em sociedade. Após muitos erros do passado, foram por uma linha interessante.',\n",
              " 'Líder de poderoso gangue haitiano é extraditado para os Estados Unidos https://t.co/UrSQIJ6cfn #mundoaominuto',\n",
              " 'América Central e Caribe\\n#cuba #haiti #nodal #prensalatina\\n\\n Cuba\\n\\nDíaz-Canel destaca a capacidade de Cuba para superar limitações\\nhttps://t.co/VUa6Adllv0\\n\\nCuba ratifica em Genebra compromisso com Convenção contra a Tortura\\nhttps://t.co/eeVii1qvBm\\n\\n Ha… https://t.co/XnShLWlkxn',\n",
              " \"@DonaldJTrumpJr Antigua and Barbuda\\nBahamas\\nBarbados\\nBelize\\nCanada\\nCosta Rica\\nCuba\\nDominica\\nDominican Republic\\nElSalvador\\nGrenada\\nGuatemala\\nHaiti\\nHonduras\\nJamaica\\nMexico\\nNicaragua\\nPanama\\nSaint Kitts and NevisSaint LuciaSaint\\nThis doesn't even complete the north...etc etc etc\",\n",
              " '@votocitrico @rogifps @RicaPerrone Sai dos EUA para jogar na Guatemala, Haiti, Nicaragua…. Seria algumas horas a mais de voo.',\n",
              " 'Montando uma aula pra explicar o que é Estado partindo da Revolução Haitiana. \\nEspero que na hora a aula funcione pq tem sido bem complicado chamar a atenção dos estudantes sem muitos recursos. \\U0001f979',\n",
              " 'se o veiga n for pra copa do sou haitiano',\n",
              " '\"um general que liderou a missão brasileira no Haiti, amigo de Hamilton Mourão há 40 anos, virou lobista do grupo canadense,\\xa0se aproximou da cúpula do governo Bolsonaro e conseguiu destravar questões pendentes para a mineradora\"\\n\\nhttps://t.co/4glQhZkQmu',\n",
              " '@caiocgomes O que você achou do filler do Haiti? Achei as missões legais, mas narrativamente não leva a historia a lugar algum kkkk, nem um personagem de lá volta, e os principais nunca mais comentam sobre o acontecido.',\n",
              " 'Líder de gangue do Haiti é extraditado para os EUA https://t.co/uedB9VGPc7',\n",
              " '@cajr1569 trailer de documentário sobre a ação das tropas e (do contingente brasileiro) da ONU sob comando de Heleno no Haiti\\nhttps://t.co/PYGbC9s6wc',\n",
              " '@cajr1569 É importante pontuar que Heleno chefiou a MINUSTAH no Haiti e em seu mandato a tropa brasileira da ONU (entre outras) cometeu diversas atrocidades, como execuções sumárias, estupro, exploração sexual etc. A \"missão de paz\"  ressuscitou esse cara.  https://t.co/PuggmkYeUC',\n",
              " 'hj um advogado haitiano de porto principe palestrou sobre direito dos haitianos no brasil na puc\\n\\ntinha UMA estudante prestigiando, eu e uma comunidade de haitianos que residem em toledo\\n\\nnão tinha um tradutor presencial e nenhum app traduzia o criolo haitiano por voz',\n",
              " '@Lucianavascruz Basta pagar a missão ao Sgt Marco Antônio \"O ASSOMBROSO\", sniper brasileiro no Haiti, com índices de 100%, no cumprimento da missão,índices acima de Chris Kyle \"A LENDA\".(aquele do filme) pesquise.',\n",
              " '@filhopaulo2012 @andriusfc @radaronline Assistiu o vídeo? Acho que não. Lá, com todos os problemas deles, os produtos estão mais baratos que no Brasil. A gasolina NO HAITI é mais barata que a brasileira. O fato é que os empregados estamos mais pobres e indo para o precipício com essa maldita equipe econômica.',\n",
              " '@OCONSULTORMAIA Pra china eu vou correndo !! Pra haiti e somalia msm politica neoliberal do Guedes eu deixo pro Bolsominion',\n",
              " 'Livro conta que padres usam a miséria do Haiti para abusar de crianças , by @Paulopes https://t.co/2y2jsFXPrU',\n",
              " 'na minha cabeça haiti faz parte da africa e nunca mudarei de opinião',\n",
              " '@CelinaMartins11 @goncalompsb O Haiti à frente do Japão. Morri.',\n",
              " 'E o Haiti motel que não eh mais Haiti motel e agora se chama El Mar motel?  Preciso ir com minhas amigas conhecer!!!!',\n",
              " 'Nos inspirando nos melhores 😍😍 (Afeganistão, Venezuela, Suriname, Zambia, Haiti, Serra Leoa, Líbano) https://t.co/1tvIEsmV15',\n",
              " '#Famílias fogem de casa durante onda de #violência no #Haiti\\nhttps://t.co/lJPQJEOgP8',\n",
              " 'Comprei um óculos PER-FEI-TO de um haitiano por 20 pila, me deu até vontade de dar mais uns pila pra ele, até quase 8h da noite trampando na rua e vendendo as coisas tri barato, pena que soy pobrita',\n",
              " '@alexandfreeman @FernandoSVasco1 @VictorSRJz @alokoficial Talvez podemos fazer vaquinha on-line e te mandar pro Haiti, Guatemala, Arábia Saudita, África pra chupar ovo de capitalista.',\n",
              " 'Eu sempre falei que achava muito escandaloso tatuagem no pescoço, agora tá eu querendo fechar a merda do pescoço, tem base ?',\n",
              " 'Agravamento dos combates entre gangues no Haiti deixa 20 mortos e milhares de deslocados https://t.co/1Mz2L45OOx https://t.co/rFkKPTR2QC',\n",
              " 'Odeia o ladrão que te rouba, mas ama o ladrão que te come. 😶😶',\n",
              " '🇭🇹FAMÍLIAS FOGEM DE CASA DURANTE ONDA DE VIOLÊNCIA NO HAITI\\n\\n📍Autoridades disseram que as batalhas entre as gangues rivais Chen Mechan e 400 Mawozo forçaram milhares de pessoas a fugir de suas casas. #Haiti #CACD #Itamaraty Via @agenciabrasil https://t.co/yXX1hQzbsC',\n",
              " 'PAGAMOS IMPOSTOS NÍVEL SUIÇA E RECEBEMOS NÍVEL HAITÍ. \\n\\nsomos assaltados e não fazemos nada!\\n\\nInvista em criptomoeda e sonegue impostos!',\n",
              " '@thaispsic ...ele deveria ter visitado o ES, quando da greve dos policiais em 2017 - explosão da violência - ou ir fazer turismo em países como Haiti ou Somália, com deficiência no policiamento de localidades, aí certamente irá conhecer do que o ser humano é capaz!',\n",
              " 'Elites globais, Democratas, Clintons, Haiti, Imigração, Obama, Gates, Epstein, Planned Parenthood, Biden... cavoca, cavoca... https://t.co/cwllfvwWGU',\n",
              " '@teamomae_ @Duu_Haiti Vai ficar sem cuu',\n",
              " '@teamomae_ @Duu_Haiti Slg rapaa, o chupa cu foi na sua casa tbm, toda cuida emm',\n",
              " '@Duu_Haiti @Davi_Andradeee vcs são gay mané,agr eu vi legal',\n",
              " '@Davi_Andradeee @teamomae_ brabão, entra no meu quarto ele vai ganhar o que é dele',\n",
              " '@Duu_Haiti @teamomae_ Ele foi aí no seu quarto, se acorda mancando foi o chupa cu, toma cuidado mn',\n",
              " '@Davi_Andradeee @teamomae_ ele tava lá no teu corredor, marquinhos deu uns tiro p alto p ele ralar',\n",
              " '@Duu_Haiti @teamomae_ O chupacu tá aí no teu ct vaiiii, dorme de olho aberto negão kkkkkk',\n",
              " '@Davi_Andradeee @teamomae_ tá que nem o chupa cu mané🤣🤣🤣🤣',\n",
              " 'Famílias fogem de casa durante onda de violência no\\xa0Haiti https://t.co/LY2GNFdk5Z',\n",
              " 'não tô acreditando que minha mãe tá colocando música de haitiano ali na cozinha 👀',\n",
              " 'A simplicidade do meu filho... quem estraga sou eu né afff.\\nEle só me pediu um óculos, anel e um relógio dos haitiano e falou que qnd eu tiver condições  pra mim dá um iPhone pra ele !',\n",
              " 'Terríveis condições que mulheres se tornaram mães. Durante a guerra da Ucrânia (apos violência - aborto negado). Debaixo de pontes - furacão Honduras. Após terremoto - Haiti.\\n\\nhttps://t.co/oaRbI8QaYY',\n",
              " 'Famílias fogem de casa durante onda de violência no Haiti. Gangues levam pânico às ruas de Porto Príncipe. Mais informações em https://t.co/z76YHM1TKw.\\n\\n📷 Valerie Bariswyl/Reuters © https://t.co/uGZUTdIdXj https://t.co/6dv3EvXfUV',\n",
              " '@Elizabe52419391 @Rita_Mota @VEJA @radaronline Sim Minion\\nJá fomos a sexta economia do mundo.\\nEstamos definhando, é verdade\\nComparar com Haiti e Suriname é muita falta de sabedoria.\\nMas o país será próspero de novo',\n",
              " '@teamomae_ @Duu_Haiti ele é fd 🤦🏽\\u200d♂️kkkk',\n",
              " '@Davi_Andradeee @Duu_Haiti maior vacilão esse cara',\n",
              " '@teamomae_ @Duu_Haiti ele é as manias dele 🤣🤣🤦🏽\\u200d♂️',\n",
              " '@NunoPedroBispo @soaresvasco @SRQUERCUS @Kraken_mode @Publico Percebes tanto que foges. Ou mudas de assunto. Sempre que és apanhado na curva. O Papa Francisco também quer a vitória russa, né? Todos querem a vitória russa, menos \"os puros\". A vossa tese de armar a Ucrânia é caso de estudo, nunca vos vi a chorar para armar o Haiti, etc',\n",
              " '@Cris__Moretto @NaRededoBBB @a_jessilane Ah não ser que eu seja um mobral ou um haitiano certamente você entenderia que o corretor que colocou o nossa ao invés de nosso. Mau caráter errei também e talvez deve ser reflexo dessas professoras inúteis que me deram aula.',\n",
              " '@thisdebora Nossa demais, arrisco a dizer que somos o único país no mundo assim. Até alemão é bem recebido aqui e olha que o ódio pelo 7x1 não acaba 😂 sim aqui tb, muito haitiano tb!',\n",
              " 'Tb se percebe a intensificação do discurso \"antirracista\" da Globo. Mas é um \"antirracismo\" à haitiana, no qual se dá destaque diário para casos de racismo contra negros com o objetivo de aumentar a revolta dessa camada da população,',\n",
              " '@soaresvasco @SRQUERCUS @Kraken_mode @NunoPedroBispo @Publico Agora têm lá o ISIS a passear. O país a ferro e fogo. Um dia vai o karma voltar-se contra os \"polícias do mundo\" que nunca invadiram país algum, e só se metem com os do seu tamanho (Haiti, por exemplo).',\n",
              " '@_NZimmer @jhnamaral Num lembra do MINUSTAH naum. \\nSenão a vergonha alheia aumenta. \\nE, até onde eu lembro, não foi o Bolsonaro quem mandou o exército para o Haiti.',\n",
              " '@jhnamaral @piratadosol Entre outros erros, esse foi um deles. General Heleno é cria do petismo, que vassalamente foi fazer o trabalho sujo dos EUA no Haiti',\n",
              " 'Famílias fogem de casa durante onda de violência no Haiti. Gangues levam pânico às ruas de Porto Príncipe. Mais informações em https://t.co/Yq8TDwEmfV.\\n\\n📷 Valerie Bariswyl/Reuters © https://t.co/ZeRrtiWxRl',\n",
              " '@JornalOGlobo TSE tem que parar de dar palco pros malandros dançarem. Turma do bozo vai querer dar este caô, mas não vão conseguir, vão perder e vão engolir o choro.',\n",
              " '@Elizabe52419391 @Rita_Mota @VEJA @radaronline Nossa, vc se esforçou e me provou que Suriname, Haiti estão piores.\\nEstá progredindo.\\nViva Bozo\\nEu me referi a países relevantes, afinal teve um governo que nos levou a ser a sexta economia do mundo. \\nHj somos décima terceira, com tendência a piorar\\nFala sério',\n",
              " '@RyanMatoss @GambaLilian @cajr1569 Ele no Haiti só massacrou os pfavelados de Cité Soleil.  Nada fez pelo país, e acabou destituído do comando.',\n",
              " 'Um bom entendedor, observa calado!',\n",
              " 'ESSE VERME TINHA QUE ESTAR NA CADEIA SEM FIANÇA, PELOS ASSASSINATOS COMETIDOS CONTRA O POVO DO HAITI. https://t.co/x7cCkYTZMy',\n",
              " '@ForTealz @Feliposah @baianolol1 @luciii_lol @LOUDgg O assnt é um player de lol, e o título seria oq ? CS ? super liga de vôlei? NBA ? Liga haitiana de futebol de areia ?',\n",
              " 'Famílias fogem de casa durante onda de violência no Haiti https://t.co/EXYXJqZQHU',\n",
              " '@tatianepriori Se for pelo salário do professor com certeza não. A sobrecarga e os baixos salários do profissional da educação no Brasil, rebaixaria a educação ao nível de países como o Haiti. Somente de entender um planfleto de propaganda de supermercado e escrever o nome está bom demais.',\n",
              " '[O Globo: 26/04/2022 @MadureiraMorrot] Concessão de visto e residência humanitários deixaria de vigorar no último sábado. Medida beneficia os afetados pelas situações consideradas de risco no Haiti. https://t.co/ylfRHVwUWO',\n",
              " 'Onda de violência no Haiti afugenta\\xa0famílias https://t.co/0unAQzAHjn',\n",
              " 'O @pedrosesinando foi ao IndieLisboa ver a primeira obra de uma cineasta haitiana. E fez ele muito bem. https://t.co/18Tm7WZrdg',\n",
              " 'O @pedrosesinando escreve sobre \"Freda\", da cineasta haitiana Gessica Généus, filme da Competição Internacional do IndieLisboa 2022. #IndieLisboa\\nhttps://t.co/l6TDa4q3G5',\n",
              " '@cajr1569 esse tanto de condecorações são atribuídas a atuação dele no Haiti?',\n",
              " '@Anitta Manda ele ajudar o Haiti, ir na Ucrânia e alguns países africanos, ah  lá não tem recursos a serem roubados, manda ele ir no sertão nordestino e ajudar quem mora lá, melhor ainda, vá com ele, faça vc tb algo pelo Brasil, nas redes sociais todo mundo é herói.',\n",
              " 'ESSE EXCREMENTO DO SER HUMANO, ASQUEROSO, VERME MILICIANO, TINHA QUE ESTAR PAGANDO PELOS SEUS CRIMES COMETIDOS CONTRA O POVO DO HAITI. \\nASSASSINO NAZISTA LADRÃO MILICIANO DE FARDA TRAMBIQUEIRO. https://t.co/q2nyGbUPMn',\n",
              " 'Famílias fogem de casa durante onda de violência no Haiti - Notícias - Mundo - https://t.co/RvM4g5qink https://t.co/0JcSKiH0jJ via @nominuto',\n",
              " 'Famílias fogem de casa durante onda de violência no Haiti\\n\\nhttps://t.co/gtvKqjqFF3 https://t.co/6se9H7fAJS',\n",
              " '@RyanMatoss @GambaLilian @cajr1569 Oi?\\nEle tá fazendo justamente o que fez pelo Haiti camarada.\\nhttps://t.co/BsFSqbJwo1',\n",
              " 'Por que voces nao sabem qual é o meu nome original nao ta haiti',\n",
              " '@GambaLilian @cajr1569 Tudo que ele fez sendo anulado pelo desserviço prestado à população brasileira , fez tanto pelo Haiti e nada pelo Brasil !',\n",
              " '@laurohe3oitao @ThomasSeixas1 @brega_falcao Cuba, Venezuela ou Haiti não é problema nosso. O problema nosso é o Brasil vivendo no capitalismo. E não quero ser Cuba, Venezuela, Haiti ou os EUA. Eu quero ser o Brasil mesmo. Quero que a gente seja uma democracia.',\n",
              " '@laurohe3oitao @ThomasSeixas1 @brega_falcao Discussão estéril. Pro Brasil virar Cuba, teria que ter uma revolução armada. Não vai ter. Vou ficar discutindo se Cuba deu certo com uma ameba como vc? Olhe a população vivendo o socialismo em Cuba e a que vive o capitalismo no Haiti. E me diga o que deu certo mesmo.',\n",
              " 'Famílias fogem de casa durante onda de violência no\\xa0Haiti https://t.co/PmATqmMSGH',\n",
              " 'Famílias fogem de casa durante onda de violência no\\xa0Haiti https://t.co/IjZhFsgJ7p',\n",
              " 'Famílias fogem de casa durante onda de violência no Haiti https://t.co/Jf2CRGrV3q #Internacional #Presidente',\n",
              " 'E quando você for dar uma volta no Caribe e quando for trepar sem camisinha e apresentar sua participação inteligente no bloqueio a Cuba.\\n\\nPense no Haiti, reze pelo Haiti',\n",
              " 'Famílias fogem de casa durante onda de violência no\\xa0Haiti https://t.co/Ks3P7COUDN',\n",
              " 'Famílias fogem de casa durante onda de violência no Haiti\\n#zug https://t.co/yPFMSBU22a',\n",
              " 'Bom dia, amigos!\\nO Haiti é um país que tem muitas similaridades com o Brasil e pude confirmar isso em reunião com o  Ministro-conselheiro Mario Chouloute. Na ocasião tratamos de pautas de interesse dos dois países. Agradeço a hospitalidade e a maneira gentil com que fui recebida https://t.co/iBIXctYzSk',\n",
              " 'Famílias fogem de casa durante onda de violência no\\xa0Haiti https://t.co/9raKtbLfPs',\n",
              " 'Famílias fogem de casa durante onda de violência no\\xa0Haiti https://t.co/QDfvCrkynp',\n",
              " '@RuthAda82929727 @cajr1569 Imagina as coisas que esse corrupto insano aprontou com o povo do Haiti.',\n",
              " 'Famílias fogem de casa durante onda de violência no Haiti https://t.co/rIcDZn38u6',\n",
              " '@nakazonebelber @cajr1569 Foi o  outro que trouxe esse pulha de volta do Haiti, depois dele ter feito merda lá. É por isso que ele tem tanta raiva, queria ser recebido como herói',\n",
              " '@cajr1569 Interessante as camadas, uma outra justifica essa que você citou: General 4 estrelas q esteve no comando das forças de Paz no Haiti onde o legado foi abuso de crianças/mulheres, violência contra uma população arrasada e conivência sobre disseminação do cólera. Esperar o quê dele.',\n",
              " '@cajr1569 Se nós perdermos desses veiacos, vamos ganhar de quem?',\n",
              " 'Kkkkkkkkkkkk é cada coisa aleatória que acontece com a gente kkkkkkkk tudo isso enquanto ela tá de love com ho haitiano kkkkkkkkkkk https://t.co/tVWcVsa0OT',\n",
              " '@soaresvasco @Kraken_mode @NunoPedroBispo @Publico Queres invasões, tens várias, algumas menos \"escrutinadas\" do que outras, como é o caso do Haiti. O uso de napalm no Vietnam e outras armas químicas  (agente laranja), também se obnubilou da tua mente super informada? Ou isso não conta por que era amarelos, charlies?',\n",
              " 'Famílias fogem de casa durante onda de violência no Haiti \\n\\nhttps://t.co/OeYlJ5gnrt',\n",
              " '@KokotyLuan Pega nunca🙅🏻\\u200d♂️🙅🏻\\u200d♂️',\n",
              " '@cajr1569 DECADENTE DECRÉPITO MAS GOLPISTA AFERRADO ÀS TRANSGRESSÕES COMO MASSACRES E TORTURAS NO HAITI DA MINUSTAH, CORRUPÇÃO ATIVA COM NUZMANN NO JOGOS OLÍMPICOS DO RIO E COM NUZMANN JÁ CONDENADO, TRÁFICO NOS AVIÕES DA F.A.B. QUANDO VISTAS GROSSAS NO G.S.I. OUTRORA S.N.I. HELENO CENTRÃO',\n",
              " '@bilu_fiu @g1 Agora os paises que NÃO foram convidados:\\n\\nAndorra, Belgica, China, Austria, Israel, Finlandia, Dinamarca, Grecia, Eslovenia… Todos países de primeiro mundo.\\n\\nE ai?! Qual a relevância do convite? Quer dizer que o Haiti e Cia são mais relevantes do que estes????',\n",
              " '@sansaobmx @g1 Agora os paises que NÃO foram convidados:\\n\\nAndorra, Belgica, China, Austria, Israel, Finlandia, Dinamarca, Grecia, Eslovenia… Todos países de primeiro mundo.\\n\\nE ai?! Qual a relevância do convite? Quer dizer que o Haiti e Cia são mais relevantes do que estes????',\n",
              " '@UOLNoticias Heleno tem que responder pelos crimes que cometeu no Haiti.',\n",
              " '@gnatalini Foi removido por Lula, a pedido da ONU, do comando  da operação Minustah no Haiti, devido às atrocidades cometidas sob seu comando em Cité Soleil.',\n",
              " '@LiaDeSousa1 Mais importante que os peitinhos é ele esclarecer o que o exército fez em cité soleil, no Haiti.',\n",
              " '@naoeodave @ab_cmaria @Charles_Gaindy @rafagodinho1 @vavellar_ A história da independência do Haiti é bonita, por isso que eles dizem que \"o Haiti não é aqui\". Aqui a gente nunca teve essa coragem.',\n",
              " 'Poxa, tanta coisa acontece que esqueci o prazer que foi conhecer Francisco, Haitiano e Dominicano, e como ele foi gentil elogiando meu inglês e meu jeitinho\\n\\nAinda disse que posso ganhar muito dinheiro assim\\n\\nFofo',\n",
              " '@cajr1569 Vergonha 15: quem colocou ele lá foi quem mandou ele pro Haiti cometer crimes de guerra e quer voltar a presidência. O novo chefe dele também.',\n",
              " '@Sgt_Pimenta2 Metralhou a favela em Porto Principe 63 mortos, Lula mandou retirar as tropas brasileiras do Haiti.',\n",
              " '@GeneralMourao Os outros que passaram pelo Haiti, usam prótese peniana. \\nOs cafusos, usam gel lubrificante no ânus. \\nE aqueles que os filhos compram mansões, dão viagra aos moleques que os satisfazem pra serem duros de verdade.',\n",
              " '@Sgt_Pimenta2 O que ele fez no Haiti?',\n",
              " 'O presidente do Haiti foi assassinado por grupos paramilitares da extrema direita colombiana.... https://t.co/x9DME9ABO5',\n",
              " '@Lewenhart1989 @GameAnimania @AndreLo64496987 @camejo1980 @dbelemlopes É q a Venezuela é aqui do lado.\\nTem outros lugares com gasolina barata: Haiti, Trindade e Tobago, Rússia, Bielorússia. \\nConsidere q em alguns países gasolina é barata, mas o difícil é ter um carro.\\nNão vá pros países da lista pq aí gasolina é mto cara. Ué, cadê o Brasil na lista? https://t.co/AVFptkz2mM',\n",
              " '@bilu_fiu @g1 Tu quer dizer que o Haiti, Sri Lanka, Africa do Sul e Senegal são paises mais industrializados do que Eslovenia, Dinamarca, China e Belgica? 😂\\n\\nTu vive em Narnia?! Acorda. Pesquisar e estudar faz para bem para o cérebro.',\n",
              " '@trudebom @g1 Aula de História. Desde 2009 o Brasil não vai para essa reunião. Veja a lista dos países convidados nos últimos anos:\\n\\nHaiti, Sri Lanka, Vietnã, Bangladesh, Africa do Sul, Senegal, Indonesia… So paises de primeiro mundo, SÓ QUE NÃO. \\n\\nPaíses não convidados: Finlandia, Austria…',\n",
              " '@sansaobmx @g1 Kkkkkkkkkkk toma os paises relevantes que foram convidados nas últimas reuniões:\\n\\nHaiti, Sri Lanka, Vietnã, Bangladesh, Africa do Sul, Senegal, Indonesia… So paises de primeiro mundo, SÓ QUE NÃO.',\n",
              " '@LirivaneA @g1 Paises CONVIDADOS em diversos anos: Haiti, Sri Lanka, Vietnã, Bangladesh, Africa do Sul, Senegal, Indonesia… So paises de primeiro mundo, SÓ QUE NÃO.\\nAustria, Australia, Eslovenia, Finlandia, Grecia. Paises de primeiro mundo e NUNCA foram convidados. Não há mérito nesse convite.',\n",
              " '@sekramordnasela @g1 Só pra esclarecer: CONVIDADOS em diversos anos: Haiti, Sri Lanka, Vietnã, Bangladesh, Africa do Sul, Senegal, Indonesia… So paises de primeiro mundo, SÓ QUE NÃO.\\n\\nSer convidado para essa reunião não tem mérito. Pesquisar ajuda, para não achar que ta abafando e passar vergonha.',\n",
              " '@bilu_fiu @g1 Paises CONVIDADOS em diversos anos: Haiti, Sri Lanka, Vietnã, Bangladesh, Africa do Sul, Senegal, Indonesia… So paises de primeiro mundo, SÓ QUE NÃO. \\n\\nSer convidado para essa reunião não tem mérito algum. Pesquisar ajuda, para não achar que ta abafando e passar vergonha.',\n",
              " '@g1 Os paises convidados de outros anos: Haiti, Sri Lanka, Vietnã, Bangladesh, Africa do Sul, Senegal, Indonesia… So paises de primeiro mundo, SÓ QUE NÃO. \\n\\nA estratégia da vez é transformar em importante um convite que existe por causa dos problemas do país,',\n",
              " '@F3Eduarda @vitaopd Vai lá com os Haitiano, tem meu selo de qualidade pode confiar',\n",
              " '@F3Eduarda Meu no centro 80 pila com os haitiano e é tri bom',\n",
              " '@vidall_mv @EduhCamargo_ Dmr vidalzona🤙🏻🤙🏻🤙🏻🤙🏻 queriah ser seu amigoh, mas vc naum mim dar atençãun',\n",
              " '@BIludidda @ab_cmaria @Charles_Gaindy @rafagodinho1 @vavellar_ Segundo ele em entrevistas o haiti é no Brasil. A música é de 93, tem bastante conteúdo sobre.',\n",
              " 'eu tô tão orgulhosa do meu trabalho de gênero q eu consegui acabar falando de alguns dos assuntos q eu mais gosto na história: revolução haitiana e revolução mexicana.\\ne ficou lindo 😫❤',\n",
              " '@ab_cmaria @Charles_Gaindy @rafagodinho1 @vavellar_ A música fala de dois momentos antagônicos do Haiti: a Revolução de Independência e aquela guerra horrível',\n",
              " 'BOOK',\n",
              " '@dicobh @quinhoknupp88 @randolfeap Exato: estamos comparáveis à VENEZUELA (q vcs falavam q nunca seríamos 🤭🤭🤭), Argentina (q tem um problema crônico de inflação de DÉCADAS) e **Haití** que eh um país miserável.\\n\\nEstamos benzasso msm.',\n",
              " '@Duu_Haiti os cr viaja kkkkkkkk',\n",
              " '@Duu_Haiti se liga malucão',\n",
              " '@vanrosas @SergioAJBarrett @gen_heleno Haiti agradece os desserviço prestados por esse canalha',\n",
              " '@teamomae_ vai te pegar pro traz bb🤣🤣🤣🤣🤣🤣🤣🤣🤣🤣🤣🤣🤣🤣',\n",
              " '@teamomae_ chupa cu vai brota aí na rua🤣🤣🤣🤣🤣🤣🤣🤣🤣🤣',\n",
              " '\"Canta bob marley em haitiano ai dino\"\\nEu não aguento o markinho namoral kkkkkkkkkkkkkkkkkk',\n",
              " 'Joguinho bom hj 🤪',\n",
              " '@gomszz_ @n44tss O país tá nesse estado pq o mito fala sobre violência de forma explícita? Ou pq o programa econômico do cara é o neoliberalismo (o mesmo do tucanato)? E botar PM pra dar porrada em professor, assassinar morador de ocupação, enviar tropa pro Haiti, fortalecer UPP tb é foda hein..',\n",
              " 'Um haitiano que eu conheci há 2 dias me pediu em namoro hoje e eu aceitei pq ele é gatinho e disse que ia me levar pra conhecer o mundo',\n",
              " '@gnatalini E você nao é ridículo? \\nGeneral Heleno é de um currículo invejável! \\nUm homem íntegro e prestou um grande serviço no Haiti.\\nDevia se envergonhar de postar essa ofensa aqui!',\n",
              " '@aleatoly4 @Naiarazevedo @CentralDeFasNA Haiti \\nDEZ MILHÕES TRISCOU JÁ FOI',\n",
              " '@vanessalippelt Força não.\\n64% dos Venezuelanos perderam 11kg. Aqui vc vê isso?\\nInflação lá quase 400%, aqui 11%\\nLá ficou mais pobre que Haiti.\\nLá o povo foge pra Roraima p se prostituir por 15 reais.\\nAqui tem fila no Loolapaloza de 600 reais. \\nAqui Caged +4,5 mi empregoCLT desde jul21',\n",
              " '@Charles_Gaindy @rafagodinho1 @vavellar_ A música não é uma critica ao Haiti, mas ao Brasil.',\n",
              " 'uma criancinha haitiana KKKKK',\n",
              " '@GiscardRichard Quem usa o Galo todo mundo sabe. Gargamel.',\n",
              " '@ab_cmaria @rafagodinho1 @vavellar_ Mas esses dois foram abusivos nas músicas deles né, pq eles relacionam o Haiti somente com a miséria.',\n",
              " '@gnatalini E vc enche mesmo é as fraldas...afff sem-noção.. lave a boca pra falar dele! Ele foi Herói no Haiti!! Serviu à causas humanitárias..  já vc, além de inútil e não ter ajudado ninguém fica aí no sofá com seu chinelo falando m... https://t.co/2UGbB1f4J5',\n",
              " '@cajr1569 #VovoVoyeur da internet brasileira Genocida do Haiti',\n",
              " '@CandidaCe85 Antártida, Austrália, Avaí, Arábia, Alemanha, Haiti eu iria muito pro haiti não começa com, mas enfim',\n",
              " '@Mauvadeza_picon Banana na sopa, tu é haitiano e não me contou',\n",
              " 'Se esses são os caminhos🤔😒prefiro andar sozinho.Crise no Haiti tem digital de generais bolsonaristas; saiba quais ministros atuaram no país https://t.co/cuViIIAN4S',\n",
              " '@rafagodinho1 @vavellar_ \"Brancos quase pretos de tão pobres, e pobres são como podres...\" (Gilberto Gil e Caetano Veloso em Haiti).',\n",
              " '@esquerdeando VAGABUNDO CANALHA: Foi expulso do HAITI pela ONU, quando \"comandava\" Força de Paz Brasileira, visto que permitia, que MILITARES BRASILEIROS, trocassem comida por sexo, com POBRES MENINAS HAITIANAS!',\n",
              " '@ThiagoResiste Rodrigo Abd é um jornalista argentino e ganhador de premio pulitzer. Cobriu desde eleição na Venezuela, conflitos no Haiti, Oriente Medio, etc. O cara nem ucraniano é.\\n\\nhttps://t.co/Kvb8b4bYRF',\n",
              " '@FRANJUNIOR88 @gnatalini Estabilização do Haiti, parei ai kkkkkkkkkkkkk.',\n",
              " '@procopiocardozo Nas Américas só o Haiti terá crescimento econômico menor do que o Brasil em 2022 https://t.co/j8OefMECQm',\n",
              " 'Só para lembra, esse é o generaleco que promoveu extermínios, estupros, contrabando e todo tipo de crime comandando as tropas brasileiras no Haiti. A fé Olga foi tanta que o governo do PT teve que tira-lo e esconde-lo. https://t.co/DqKX7vSu91',\n",
              " 'Esse precisa do golpe para não olharmos seus crimes no Haiti. https://t.co/3OTp3nNDwJ',\n",
              " 'Então pergunta o que ele fez no Haiti.\\nTem um chifrudo procurando ele. https://t.co/YRg2QWnix0',\n",
              " '@isola_rd @Peter_Lyra @UOLNoticias Há um grande erro de geografia, o Haiti 🇭🇹  está localizado no mar do caribe, não na américa central.  há uma grande distância',\n",
              " '@carlinha Me lembrou as indumentárias das mulheres negras de New Orleans e do Haiti naquele período 🖤',\n",
              " '@belasall Traduz pra nós aí kkkkkkkkk',\n",
              " '@Capatazes @ZecaPipocas @joao_ferreira33 Também podes ir para o Haiti. Esse expoente do capitalismo.',\n",
              " 'Com esse desgoverno o Haiti é aqui! https://t.co/nRNr3FpBiq',\n",
              " '@PlanaltoCoveiro Se fizer isto o exército vai se atolar na lama e vai ter o mundo inteiro contra, jogaria o Brasil no nível de um Haiti ou países de ditadores africanos, fora que vamos reagir contra isto',\n",
              " '@autonomistabr @colagemnegra É igual querer me culpar pela ocupação brasileira no Haiti',\n",
              " '@marcelopjs Não Esqueçamos o massacre do Haiti, Heleno estava no comando.',\n",
              " '@UOLNoticias De maldade ele entende. Que o diga o pessoal de Cité Soleil, bairro de Porto Príncipe, no Haiti, onde 63 foram assassinados quando ele era o comandante da Minustah. https://t.co/QRmfM7THdQ',\n",
              " 'Esse mês fiz amizade com um haitiano no CFC e com um chileno que pega ônibus cmg, chique',\n",
              " '@Trindade_BFR @marciome2000 @opovo E ainda assim continua sendo provavelmente o melhor estado do NE pra se viver. Concordo que nem tudo é perfeito mas na cabeça de bolsominion e das tietes do cap wagner as ultimas gestoes fizeram o estado virar um haiti da vida.',\n",
              " '@lupincer na aula de limites hoje eu escrevi duas páginas sobre revolução haitiana 👍',\n",
              " 'No meu jogo agora só existe 7 países nas Américas\\nImpério do Brasil, Estados Unidos, México, Jamaica, Porto rico Haiti e Canadá\\n\\nO resto eu dominei tudo ☺️ ( menos a Argentina q se juntou pacificamente )',\n",
              " '@Bolsochampion @AramisBarros Tarcísio é um bandido que esteve até envolvido em denúncias de estupro e massacres quando fazia as tais tetas de emprego chamadas de missões de paz no Haiti.',\n",
              " '@UOLNoticias Igual ao Haiti seu caduco?',\n",
              " 'Historicamente, a relação entre os vizinhos Haiti e República Dominicana sempre foi complicada. E agora voltou a ficar no foco internacional com a notícia deste sequestro. Haiti gang holding kidnapped diplomat for ransom - BBC News https://t.co/4SvOE1Xrrn',\n",
              " 'Essa semana o noticiário mostrava uma jovem falando \"mau\"do suor\"pesado\"de um jovem rapaz negro. Qualquer pessoa, homem e mulher, trabalhando o dia inteiro exposto ao sol,capinando,por ex, pode ser alemão,japonês,indiano,marroquino,indígena,haitiano,todos,no final do dia estaria',\n",
              " '@SRivoltril Não era esse que estava no Haiti e teve denúncias de estupro das haitianas, então Dilma o tirou de lá, até hj ele não a perdoa',\n",
              " 'Um livro lindo, que nos faz viajar para o Haiti e conhecer seu cotidiano, com suas belezas e dificuldades. Cheio de reviravoltas e histórias diferentes que vão se conectando e ao fim, voltam para onde tudo começou. Vale demais a leitura 💛\\nhttps://t.co/3vMDFavbLx',\n",
              " 'PJL\\nPartida 1 ID: {{gameId}}\\nNa partida\\nekko\\nseu cearense\\nsilencio\\ncomedor de barro\\nhaitiano\\npre.\\nEU N ODEIO NADA\\nfodase mcc\\nn ligo\\nlogo vc falando de escoria?\\nentra no meu disc\\ne eu cito o quão minoria vc é\\nKKKKKKKK\\nbaian\\nwhite lives matter too!\\nvc foge de pm\\nobvio q lol é facil https://t.co/OFPm8LCYXy',\n",
              " 'Tem muito haitiano trabalhando de Uber em Floripa. Falam mal o Português, escutam músicas evangélicas no rádio para aprender . Todos são fortes como atletas, n sei o motivo.\\n\\nE eu aproveito para  praticar meu Francês macarronico. \"Sa vá au revoir parle Fran es tre facil\"  🤣🤣',\n",
              " '@brasil247 Com um segundo emprego e medo de que continuem o processo do Haiti… @DCM_online',\n",
              " 'como dizer pra uma pessoa q eu gosto dela tem tanto tempo q n faço isso q porra n sei falar e o pior é q todo mundo já percebeu o quanto eu Haiti dela menos ela',\n",
              " 'Mascion falando no triste, família mascion no Haiti, dias fico triste outros felizes',\n",
              " 'fun fact\\n\\neu tenho perna tatuado na perna (em haitiano)',\n",
              " '@veluc111 @LiaDeSousa1 Cara de filho de uma puta escroto mesmo.\\nEsse verme e suas tropas no Haiti fizeram desgraças e misérias contra civis inocentes em Cité Soleil e essa merda ainda está viva despejando suas baboseiras pela cloaca que ele chama de boca.\\nEscroto caquético do Caraglio.',\n",
              " '@oiIuiz Legião da Cana, Mensaleiros do Haiti, Propina inicial, Aloprados Jr, Sugismundos, Ratos de Corrupção, Presos e Condensados, .. 😇',\n",
              " '@Pouchiman1988 Hum antouka',\n",
              " '@UOLNoticias Tipo quem chega num país como Haiti e chacina dezenas de pessoas vulneráveis negras para mostrar que além de ser do mal é milico que cultua o satanismo, um parademônio mesmo. Ah é verdade, ele tá certo, ele é bem do mal mesmo...',\n",
              " '@UOLNoticias Esse velho decrépito vai pagar pelo que fez com os haitiano.',\n",
              " '@marcelopjs @Bob_Fernandes E é o lider de militares estupradores no Haiti. Dilma o tirou de lá, e ele e o exército que acobertaram os crimes de guerra ajudaram no golpe contra a ela. Estupraram, mataram, roubaram, com salários pagos pelo povo. Esse merece sofrer tudo aquilo que causou ao povo haitiano',\n",
              " '“se o lula continuar falando em unir a america latina vai levar um golpe da cia” engraçado q o lula mandou o exército brasileiro pra uma guerra no haiti q não existia',\n",
              " '@UOLNoticias Esse facinorazinho deveria ter sido responsabilizado por seus crimes, na missão da ONU, no Haiti, e não deveria estar integrando o desgoverno.\\n#ForaHeleno',\n",
              " '@QuietJimmy @isola_rd @UOLNoticias Amigo, eu fui comandado por duas vezes no Haiti, por um herói general Santos Cruz, eles falam pq não estava vivenciando....Como a ONU diz que Lula é inocente...Vamos ficar escrevendo anos não vamos chegar a um consenso, mas, diferente de muito vc não xingou não bloqueou, parabéns',\n",
              " 'Eles mataram 15 milhões de índios em um período de cinquenta anos, e esse número sobe para 12 milhões, segundo historiadores conservadores.\\n\\n  Áreas como Haiti, Cuba, Nicarágua e as costas densamente povoadas da Venezuela foram completamente despovoadas.',\n",
              " 'Consagrado democrata: ajudante de ordens do golpista Frota, defensor do asqueroso e para sempre maldito Ustra - o atual substituto do Diabo - de atuação \"controversa e polêmica\" (segundo a grande mídia) no Haiti, famoso também por cantar \"Se gritar pega Centrão\" de \"brincadeira\". https://t.co/ScjJGEzRiB',\n",
              " '@LLbrasolin @allelleXandinho @FernandoCelso15 Pergunta pro povo do Haiti, e observa não com olhar de gado que vc vai ver.',\n",
              " 'Crise no Haiti tem digital de generais bolsonaristas; saiba quais ministros atuaram no país https://t.co/neHXDpTV5k',\n",
              " '@carlosebono @wirlyfc @vitor_ceara_ @SantosOpressivo Eu fui na Argentina, ninguém me contou, está morta, da dó, apesar de eu achar que todocastigo pra argentino é pouco, nunca vi um povo tão arrogante e racista como eles... Aqui no norte do Paraná e normal ver haitiano trabalhando, em foz são os argentinos, pq será?',\n",
              " '@ggerber04 haitiano é estiloso',\n",
              " '@ThiagoKrause2 @ArthurLimadeAv1 @NPTO Sei não. Fosse puramente preço, todo o investimento dos anos lulistas, todo o prestigio pra estimular autoritarismo nas GLO e no Haiti, caças e submarino, autorização para educarem à parte frente a cotas, enem e pnld...\\n\\nO erro foi achar q dava pra \"comprar apoio\" de milicos q +',\n",
              " 'Ah.. será que ele falou alguma coisa sobre o massacre de Cité Soleil no Haiti quando suas tropas mataram civis inocentes com tiros de metralhadora .50 que derruba aviões? https://t.co/A8H4Fkfni1',\n",
              " 'A. Latina tem 3 países sob estado de exceção p/ \"combater a violência\" : Haiti, Equador e El Salvador. O ministro do Trabalho deste afirmou que os marchantes do 1/5 são \"familiares\", \"amigos\", \"cúmplices\" de gangues.\\nA esquerda tem de avançar. Está na hr de parar. Parar de recuar',\n",
              " '10:35 ATENDIMENTO PRÉ-HOSPITALAR local: Rua Haiti, SÃO JOÃO, #CORREIA PINTO - idoso passando mal',\n",
              " '@UOLNoticias @gen_heleno , aqui não é o Haiti nem o COB ! Cadeia pra vcs !!!',\n",
              " '@zanuja_cbranco Acusado de genocídio no Haiti, quando comandou os brasileiros que integraram as forças de segurança da ONU\\n\\nUma alma perversa.',\n",
              " '@Gattiaosta1 Esse crápula é o “terror haitiano.”',\n",
              " '@esquerdeando Muitos desconhece a história desse genocida do Haiti,vergonha das forças armadas...',\n",
              " '@marcelopjs Trajetória do Gen. Heleno: \"carregador de pastinha\" do Gal. Frota (defenestrado pelo Gal. Geisel), comandante sem equilíbrio no Haiti em vários momentos e, no período em que teve cargo em comissão com Nuzman, não criticava o PT (que governava) e raramente aparecia para trabalhar.',\n",
              " 'Trajetória do Gen. Heleno: \"carregador de pastinha\" do Gal. Frota (defenestrado pelo Gal. Geisel), comandante sem equilíbrio no Haiti em vários momentos e, no período em que teve cargo em comissão com Nuzman, não criticava o PT (que governava) e raramente aparecia para trabalhar. https://t.co/j0aMsgJoAd',\n",
              " '@marcelopjs O Haiti, depois do assassinato do presidente Juvenel Moise por mercenários do exército colombiano é hoje terra de milícias privadas. Cada oligaca tem a sua. O que o gal. Heleno tem a dizer a respeito? https://t.co/NfUu9mOKDT',\n",
              " '@marcelopjs Durante os exércicios combinados com Colômia e EUA na fronteira da Calha Norte, os subordinados colombianos o chamavam \"mi general\". E o Haiti, hoje controlado por milícias privadas? https://t.co/LDQJk4mhZG',\n",
              " '@UOLNoticias Questionem o assassino do Haiti o motivo pelo qual ele foi retirado da missão.',\n",
              " '@marisascruz Foi essa a luta em que ELE comandou a morte covarde, por seus soldados armados,  de dezenas de favelados haitianos desarmados, em Cité Soleil, Haiti?',\n",
              " 'Ontem foi o dia do trabalhador e no Brasil ele não pode estar feliz, pois temos o 15o valor da América Latina. O brasileiro equivale a US$ 224. Só cinco ficam pior:\\n\\nRepública Dominicana – US$ 205;\\nNicarágua – US$ 125;\\nCuba – US$ 79;\\nHaiti – US$ 74;\\nVenezuela – US$ 1,52.',\n",
              " '@esquerdeando Heleno devia explicar o que aconteceu no Haiti quando era comandante das forças da ONU.\\nE Cité Soleil ????',\n",
              " '@UOLNoticias Heleno devia explicar o que aconteceu no Haiti quando era comandante das forças da ONU.\\nE Cité Soleil ????',\n",
              " '@marcelopjs Esse é o sujeito que comandou aquela missão   assassina no Haiti?? Lembro dele.',\n",
              " '@UOLNoticias O matador despreparado incompetente do Haiti? Falando merda, como sempre. FORA BOLSONARO! https://t.co/Vrr2Gz32Wf',\n",
              " '@SergioAJBarrett @mulhergorila Nada mais nojento do que o assassino dos favelados de Cité Soleil, Haiti, discursar aos trabalhadores no Brasil!',\n",
              " '@esquerdeando O genocida do Haiti tem lugar reservado. https://t.co/lPoRP0RShR',\n",
              " 'Heleno é véio cagão e ladrão do Haiti. #Lula13Presidente https://t.co/TmLHvhZlzB',\n",
              " '@lulafalcao bandido é quem promove massacre no Haiti, diga-se de passagem...',\n",
              " 'Ele está do lado do mal, e o Haiti que o digam melhor que ninguém mais! https://t.co/v5RDJ1BEHb',\n",
              " '@BLOGdoPEPE Este velho, feio, decrépito,  tem um lista de atuação no Haiti que prestará contas com o diabo no inferno.',\n",
              " 'Quando não querem me levar pro Haiti é pra Austrália. \\n\\nKkkkkkk \\n\\nDahora.',\n",
              " 'Ai vai ver as urnas é Marine Le Pen contra Macron. \\n\\nÉ tipo um Doria contra Bolsonaro\\n\\nDeus me livre ser parecido com os franceses em qualquer sentido. A esquerda lá é PUTREFATA. País colonial que mais destruiu que construiu. A única experiência boa foi a rev.mas eu prefiro haiti https://t.co/Qj3TpVegDG',\n",
              " '@thailagiullia kkkkkkk e o melhor: em haitiano… com o sotaque de milhões kkkkk',\n",
              " '@cajr1569 Heleno, o comandante da Minustah que deixou um rastro de violência, estupro e doença no Haiti falando em luta de bem contra o mal. É a cara do bolsonarismo, mesmo.',\n",
              " '@yuriikawamoto Kkkkkkkkk essa tour só não é melhor que a da furica e o haitiano',\n",
              " 'hoje tava lembrando de quando eu e a @thailagiullia fazia trote com a haitiana que roubou o número dela kkkkkkkk a gente era O TERROR',\n",
              " 'Encarregado, em 1803, após a revolução Haitiana, da redação do texto anunciando o nascimento do Haiti independente, Boisrond-Tonerre disse que \"para fazê-lo, é preciso a pele de um branco como pergaminho, seu crânio como tinteiro, seu sangue como tinta e uma baioneta como pluma\".',\n",
              " \"@isahckr @Zenzo_sla01 17. Crioulo Haitiano = Mwen renmen ou\\n18. Croata = Volim te\\n19. Dinamarquês = Jeg Elsker Dig\\n20. Holandês = Ik hou van jo\\n21. Inglês = I love you\\n22. Eslovaco = Lu 'bim ta\\n23. Esloveno = Ljubim te\\n24. Espanhol = Te quiero - Te amo\\n25. Esperanto = Mi amas vin\",\n",
              " '@UOLNoticias General Heleno, como representante do mal, vai perder. O Haiti que o diga.',\n",
              " 'A Alemanha está pensando em investir em hidrogênio verde no Haiti. \\nMais 8 países estão pensando, querem diversificar as fontes. https://t.co/dd2U28suDz',\n",
              " 'Perdi minha irmã num terreno no Haiti em 2010.',\n",
              " '@UOLNoticias O Haiti nos mostra que ele e sua laia estariam do lado do mal, nessa suposta peleja maniqueista',\n",
              " '@isola_rd @QuietJimmy @UOLNoticias Crise no Haiti ? Não misture , todos são heróis eu estive lá amigo',\n",
              " '@filosofocolina Veja bem era mais fácil os EUA investir esse dinheiro no Haiti que é já o quintal deles do que mandar esse dinheiro para Ucrânia,mas não eles preferem a guerra do que ajuda esse país caribenha a crescer.',\n",
              " '@gen_heleno Sua hora vai chegar, vai ser julgador pelos crime de estupro no Haiti, velho assassino, bandido.',\n",
              " 'A COVID-19 é uma doença cruel, para países pobres e de população preta é ainda pior. No jornal Haiti libre, mostra que os números só crescem, mas, ninguém fala, briga ou ficam indignados https://t.co/VNhw9LNUne',\n",
              " '@angelo_cao_ @rafaelmeninsouz @YouTube @Atletico Acorda meu filho! Se você escolhe o Kalil para defender, você odeia o Galo.',\n",
              " 'essa semana começa os game⚽️🥴',\n",
              " 'será que os fantasmas,as almas penadas frutos do Haiti,assombram a tranquilidade da mente desse idoso? https://t.co/Y3Dkexh6q6',\n",
              " 'Nome da minha rua é  Haiti \\nO uber meteu \" rua Haiti? E i me?\" \\n\\nSimplesmente  humor viagens e piadas',\n",
              " '@FMInoticias BR só ficando na frente de Paraguai e Haiti. Parabéns Guedes',\n",
              " '@melanin_bricie 🤣😂 Tem pran note',\n",
              " '@UOLNoticias De quem achou normal o Exército matar 60 civis numa ocupação de favela no Haiti, nada mais se deve esperar... \\n https://t.co/c8VB9El55z',\n",
              " '@NicolasMaduro Aqui no Brasil os esquerdista dão pão com mortadela para irem aos encontros! E na Venezuela? Qual é o cardápio? Putz esqueci! Na Venezuela o povo passa fome, tem a maior inflação da América Latina, o país mais pobre, perdendo para Haiti. O povo deve ir para não ser preso.',\n",
              " '@veravaia2 Que se lembre do massacre que perpetrou em Cité Soleil, no Haiti. O Inferno o espera, Carrasco!',\n",
              " 'O sonho desse ladrão psicopata é transformar o Brasil numa Venezuela. \\nA Venezuela atualmente é o mais mais pobre e miserável da América Latina, ultrapassou o Haiti. https://t.co/lSs9Xrc8ec',\n",
              " '@UOLNoticias Falou o demônio do Haiti.',\n",
              " '@RCSaraiva @PedroVieira_25 Já viu as seleções que a Polônia joga? Não é contra um Haiti ou uma Venezuela ou uma Nova Zelândia não , é contra Alemanha, frança, Inglaterra e outras fora que o único jogador bom da Polônia é o Lewa. Quer que ele faça oque? Milagres?',\n",
              " '@UOLNoticias De que lado está uma pessoa que comandou um ataque a uma favela no Haiti?',\n",
              " '— Somos os Barões e Baronesas Samedi, famoso no voodoo haitiano. Agora, posso contar um segredo? — Olhou para a plateia, esperando os olhares curiosos. — Ele tem Amigos do Outro Lado. E nós também temos...',\n",
              " 'Apenas queremos compartilhar um pouco da cultura e influência que nossa rede de hotéis recebeu ao redor do mundo: sendo uma delas, a haitiana.\\n\\nFez um gesto com a cabeça, para que uma música ambiente começasse a tocar e seus colegas se preparassem.',\n",
              " '@naldofilmmaker @wendyyyytraka @barbancourtHT Chinois a pale',\n",
              " 'Q sdd de jogar FN😭',\n",
              " '@mariecrfxx Esse cara não é profissional nem jogando no haiti',\n",
              " 'LIKE SJWJWJNDODIQJAKXKAKSKXNWNDKDXKSK https://t.co/LUqVJCS1Q9',\n",
              " '@IpsisVerbis2021 E o Haiti é maioritariamente indígenas e traficantes..',\n",
              " '@gen_heleno Vai tome no seu ($#@%), velho genocida, não esqueceremos o que você fez, lá em Cité Soleil em Porto Príncipe, no Haiti. @gen_heleno, vagabundo, genocida!',\n",
              " 'Depois do fiasco do bolsogado neste 1o de maio, eu só lembro da profecia do haitiano:\\n\\n\"Vc ñ é presidente mais. Precisa desistir\". https://t.co/CwJmh5qmaI',\n",
              " 'O show mal começou e eu já rir mais do que o ano inteiro 😂😂😂',\n",
              " '@commiecsans @BlogMarxista @pstu A invasão do Haiti foi de esquerda?\\n\\nA privatização do campo de libra foi de esquerda?\\n\\nAs concessões e terceirizados foram de esquerda?\\n\\nA lei anti drogas foi de esquerda?',\n",
              " '@KokotyLuan N ganhou um jogo lixo',\n",
              " '@UOLNoticias Heleno mumificado quase vivo, manda ele pro Haiti o povo lá \"adora\" ele',\n",
              " \"@Fabiopf08Fabio Que praga, credo! Avisando pro generaleco 'O Haiti nao é aqui' Xo, praga!\",\n",
              " '@o_antagonista Da mesma forma que o \"mal\" foi combatido no Haiti?',\n",
              " '@UOLNoticias Múmia mamateira do caralho.  A história fala por teu atos aqui e no Haiti',\n",
              " 'Gal, o Haiti não é aqui! https://t.co/M78dXBKhJ7',\n",
              " '@Carlos78148664 o ódio que eu tenho dele… NOSSA!\\nqueria que agt tivesse no Haiti de 1804.',\n",
              " 'Lembrando o Brasil que é necessário o acordo Brasil e Haiti,  o Brasil tem que cuidar da segurança do Haiti,  construam bases militares pelo Haiti. https://t.co/eFTnRdAtJ4',\n",
              " '@brasil247 Sr matou 53 no Haiti não deu se por satisfeito ajudou matar mais de 600 mil aqui no Brasil',\n",
              " 'Nossa Senhora Haiti,  vem ajudando o povo espiritualmente pelo Haiti, falou que a magia malvada diminuiu 50%,  agora quer ajudar o povo na alimentação,  gerar alimentos lá mesmo, para alimentar o povo, alimentação básica, soja, milho, ovos, mandioca, batata, canoura, legumes. https://t.co/Wvs96yqaIT',\n",
              " 'Percebam que o Haiti possui uma boa região banhada pelo mar, podemos construir algumas usinas de hidrogênio verde, assim gerar uma indústria local, \\nAcho que Cuba por ser uma ilha também é  favorecida.\\n\\nhttps://t.co/c9KtpbRJfL',\n",
              " '@UOLNoticias Este aí se levantar o braço, já era. Típica frase fascista. Deus, pátria e família. Nada de novo no front. O q impressiona a é a falta de pudor destes golpista, porque é disto q se trata. Heleno foi líder daquela chacina no Haiti bem como Tarcísio. Estão fazendo hora extra.',\n",
              " 'Conversando com a Nossa Senhora Haiti. \\nEla vai opinar por lá para reconstruir o país,  vai priorizar a alimentação do povo, depois pensa em indústria,  lá uma opinião é um local bom para usinas de hidrogênio verde.',\n",
              " '@UOLNoticias Diga a ele que as mulheres do Haiti mandaram recomendações a ele: vá para o inferno!',\n",
              " '@UOL Só falam merda. Quem sabe desse velho é o Haiti.',\n",
              " '@UOL Toda vez que vejo esse senhor...fico curiosa pra saber o q aconteceu no Haiti... ninguém fala nada, a gente fica intrigada.',\n",
              " '@ArtSolano3 @marcelo19015351 @raposo_naopegue @krajevski @Vicente11201097 @BernardoMF Brasileiro que não quer evoluir merece Bolsonaro, merece que esse país vire o Haiti... Nove dedo teve chance de fazer diferença, ficou de lambeção com liberal pra jogar um osso pro povo... Depois de 8 anos de mandato vai ter que recomeçar todo o trabalho do zero...',\n",
              " '@DennyDe78396919 @hervedo @jairbolsonaro Só foram utilizadas na missão de paz no Haiti, pois todos os meios fios e postes brasileiros estavam devidamente pintados.\\nSonho com um candidato tenha como meta a extinção das Forças Armadas terá meu voto. Chega de farra e mamata com dinheiro público.',\n",
              " 'No IME obteve a maior média histórica do curso... ALUNO NOTA 10\\n\\nFoi engenheiro do Exército, chefe da seção da  CEB na Missão das Nações Unidas para a Estabilização do Haiti...\\n\\nTem mais\\n\\ncoordenador-geral de Auditoria da Área de Transportes da CGU)\\n\\nCalma... Está acabando (+)',\n",
              " '@cinthya_ramos @AdoReis13 @gazetadopovo No IME obteve a maior média histórica do curso... ALUNO NOTA 10\\n\\nFoi engenheiro do Exército, chefe da seção da  CEB na Missão das Nações Unidas para a Estabilização do Haiti...\\n\\nTem mais\\n\\ncoordenador-geral de Auditoria da Área de Transportes da CGU)\\n\\nCalma... Está acabando (segue',\n",
              " '@Rioparina Acabei de mandar \"abraço pra ela\"!!!! Nossa,  gente obscura, gente podre de coração! Hj eu vi um haitiano c/ a filhinha no açougue comprando 10r$ de \"ossinho\" e eu vi só 9$ a mão dele... No fim ele levou! Mas dói quando vc vê acontecer do seu lado. Quem apoia o🤡👈🏾 é ruim d❤️',\n",
              " '✊🏾🇭🇹🚩Dia Internacional da classe  trabalhadora no Haiti!\\n\\nNeste 1° de maio, a Brigada Dessalines do MST, em uma ação junto ao Movimento Tèt Kole, realizou a doação de 300 mudas para a comunidade camponesa de Pyat, Haiti.\\n\\n📸 Ricardo Cabano\\n\\n#1M2022 #1Maio2022 https://t.co/oRh1UcbtLs',\n",
              " '@Nashh_007 Tu imagina um furacão passando em lugares que a maioria das casas é tijolo/madeira.\\n\\nNão ia ter como, ia ser pique haiti mesmo. Negócio ia causar milhares de mortos.',\n",
              " '@AnimesNiilistas MLK, Furacão, Nevasca e Terremoto seriam com certeza as coisas que mais iriam afetar o Brasil, seria tipo no Haiti',\n",
              " 'PÉROLA OEA\\nParaguai quer levar a Amazônia pro Haiti',\n",
              " 'É na África, é no Haiti? Não, é em pleno centro de São Paulo. https://t.co/llEK9UWLvW',\n",
              " 'n toc cabeça p resolver os problemas do haiti nao, vou me concentrar no meu saoko e vivo',\n",
              " '@_Riquinho99 É foda kkkkkk',\n",
              " 'Estava preparando uma aula e pesquisando sobre os países que têm 2 dígitos de inflação, juros e desemprego. Além disso com PIB abaixo da média mundial.\\n\\nPois são CINCO países de 196:\\n\\n- Brasil\\n- Haiti\\n- Nigéria\\n- Sudão\\n- Suriname\\n\\nUm oferecimento Bolsonaro e Paulo Guedes.',\n",
              " '@traumann Acho que p/ enfrentar militares e milícias armadas não bastaria unir forças democráticas desarmadas. Essa é a questão, não adianta ter ilusões quanto ao enfrentamento de peito aberto de organizações altamente armadas. Eles já avisaram que o modelo é intervenção das FA no Haiti',\n",
              " '@justino_mo O meu rumo poder ser Síria, Iraque, Afeganistão, Haiti ou Ucrânia. Caos por caos. Tá oss🇧🇷!',\n",
              " '@leomxndessk8 lil xan da fazenda',\n",
              " '@BhagoDr1 @Ivan_Golvin @ClaudineiOMacha @giraldirenato Kkk. Quem está adotando critério de língua oficial? Hahahaahahahahaahahha. Me conta aí qual a sua brilhante fonte pra fazer essa afirmação maravilhosa de que Haiti é América Latina!',\n",
              " '@BhagoDr1 @Ivan_Golvin @ClaudineiOMacha @giraldirenato Ah é? Então me explica por quê! Quando você me perguntou eu respondi, agora é a sua vez, Haiti da América Latina.',\n",
              " '@IpsisVerbis2021 E o Haiti ainda teve um catastrófico terramoto anos atrás 😂\\nVenezuela, Argentina, Bolívia, Peru e Chile. Uruguai tem agradecido as empresas desses países transferir as sedes para Montevideu 😂',\n",
              " '@BhagoDr1 @Ivan_Golvin @ClaudineiOMacha @giraldirenato Haiti é na América Latina? Da um Google cara, ao menos isso vc consegue, não? Só um googlezinho de nada. Só digitar Haiti. Força guerreiro.',\n",
              " '@cloroazitrzonio @Ivan_Golvin @ClaudineiOMacha @giraldirenato Haiti deve ser da Ásia né? 🤣🤣🤣',\n",
              " '@BhagoDr1 @Ivan_Golvin @ClaudineiOMacha @giraldirenato Haiti não é América Latina.Venezuela está suspensa e a um passo de ser expulsa do Mercosul. Dito isso, uma moeda única favorece a estabilidade e o cambial, o fortalecimento da moeda, pois todas as transações serão feitas com ela, ao invés de cada país com a sua; desoneração da',\n",
              " '@guiaoquadrado Essa moeda deve servir para os países latinos- caribenhos também cuba Haiti república dominicana.',\n",
              " '@ConfederacaoS @taliancoveiro @farroupilhalivr Nada a ganhar se aliando com esse lixo, imagino esse povo todo (sudeste tem 90 milhões, e uma favelização gigantesca) querendo \"migrar para o sul\".\\nComo eu disse, Curitiba está indo pro saco, Joinville, Blumenau, Caxias...até haitiano esses merdas apoiam pois é \"antiimperialista\" https://t.co/aboCJg8bdh',\n",
              " 'Que sábado mermão kkkkkkkk',\n",
              " 'O socialismo na Venezuela deu certo!! O país mais rico per capta mais rico da América do Sul, agora é mais pobre que o Haiti, recentemente devastado por um furacão. https://t.co/jgZwrIwKqb',\n",
              " 'Não é o Macron! É a França! Já acompanho política internacional a muito tempo todo presidente francês é contra o Brasil.Eles querem roubar os nossos recursos e acabar com a nossa agricultura! Como já fizeram com o Haiti. https://t.co/yxSwKYBZGe',\n",
              " 'e veio um haitiano pra completar🥰✌🏿 https://t.co/n9oLk1XvhU https://t.co/ILm2Kx5gUY',\n",
              " 'Ontem me emocionei vendo no YouTube vários jogos com @A10imperador a final das copas das confederações de 2005, eu estava no Haiti e presenciei uma guerra ser interrompida por causa da seleção e vi Citté Solleil explodir de alegria com o gol dele!! Tenho orgulho de vc cara!!',\n",
              " 'To lembrando de ontem eu doidão quase cair da escada cara 🤦🏽\\u200d♂️',\n",
              " '@cloroazitrzonio @Ivan_Golvin @ClaudineiOMacha @giraldirenato Fala aí então, quais os benefícios o Brasil teria adotando uma moeda única em conjunto com as potências econômicas Argentina, Venezuela, Haiti, Bolívia, etc?',\n",
              " '@ipinhal Mesmo que o Brasil vire um Haiti, para eles o que importa é tirar o PT.',\n",
              " 'A venezuela conseguiu um feito inedito.\\n\\nE mais pobre que Haiti, que sofre terremotos e guerras civis quase todos os anos.\\n\\nOs esquerdistas precisam ver isso. https://t.co/ZQnoX16OOB',\n",
              " '@RankPolitico Vale lembrar que o Haiti ocupa metade de uma ilha, não tem nenhum recurso natural em abundância e sofreu dois terremotos que destruíram boa parte do país, em um período de 10 anos.',\n",
              " '@ToninhoPassos Fala isso pra aqueles soldados que estão no Haiti,longe de suas famílias, ou prós soldados que sobreviveram a segunda guerra. As forças armadas protegem o país .',\n",
              " 'Em 2021 a Venezuela se tornou o país mais pobre das Américas, após ser ultrapassada pelo Haiti. Este é o resultado prático do socialismo de Maduro, e que muitos tentam copiar no Brasil: a miséria.\\n\\nLeia mais: https://t.co/h4Id9lm4af https://t.co/Fm8p2qYwxX',\n",
              " '@RailaineSilva1 Vamos  lá  Haiti  para  fazer  uma  vodou  bom  por  OGum',\n",
              " 'Imprensa lacaia e servilista! Walter Delgati, Green Greenwald e a mídia independente foram fundamentais no processo de resgatar a verdade sobre o GOLPE, sobre Lula e Dilma. E os militares no governo estranhamente estiveram no Haiti, inclusive Tarcísio de Freitas. Todos fascistas! https://t.co/VlBbMJisj1',\n",
              " 'Ontem eu bebi meia garrafa de vinho e disse que ajudar o atendendo haitiano a trazer a familia dele pra ca ai agora domingo 9:30 da manha eu to mandando o site do Itamaraty pra ele marcar o agendamento na embaixada de porto principe kkkkkkk i love migracao',\n",
              " '@NoticiasdoPARA Em Cuba, Venezuela, Argentina e Haiti! Querem frenar à locomotiva da desgraça?? Então me sigam! Eu vou homeopaticamente, didaticamente dar as coordenadas do mapa para a liberdade econômica. Advirto-os! Parem de votar em servos de satanás! Votem em servos de Deus! Toda honra a Ele',\n",
              " '@evalddo @Pedro_Jobim_ @RobertoMotta Tu votou na Dilma e fala em política de recessão de empregos? Isso é piada né? Ela causou mais desemprego que a pandemia, pior que o furacão no Haiti. Você votando é pior que uma catástrofe mundial',\n",
              " '@brom_elisa @pi22_mo Imagina o volume de recursos dos brasileiros que seriam DRENADOS para a Venezuela, país com petróleo, mais pobre que o Haiti, para salvar o companheiro (deles) Maduro!',\n",
              " '@reclamadoria E uma moeda  comum com a Venezuela tbm, país com reservas de petróleo, hoje mais pobre que Haiti.\\nAlém ser loucura financeira, os recursos dos brasileiros seriam drenados para salvar o companheiro (deles) Maduro.\\nLuladrão totalmente confiante no sistema eleitoral. Fala o que quer',\n",
              " '@patriciapaulam_ Aí,aí,aí!\\nEles gostam é de aparecer.\\nCadê o auxílio ,esperado pela Ucrânia?\\nCadê as forças que estavam mantendo a paz no Oriente Médio.\\nQual o trabalho deles no “pobre” Haiti após o terremoto?',\n",
              " 'Quando cheguei à pensão o corredor tinha cheiro de tempero do miojo dos bolivianos. Bons tempos. Agora os chilenos resolveram colocar um cachorrinho pra dentro e ele cagou em vários lugares do carpete. O haitiano não viu, pisou e espalhou. Agora o corredor cheira a merda 🙄',\n",
              " 'UÉ CUBA NÃO É O PARAÍSO!? - 📌📌📌 Mais de 22 mil cubanos pediram refúgio no México desde 2018  - Os cubanos continuam sendo o terceiro lugar com mais pedidos de asilo em 2022, atrás de Honduras e Haiti https://t.co/YxuFNOSAy3',\n",
              " '@artedaguerracnl Ele tava pensando que seria umas férias, tipo no Haiti,que teria mulheres a vontade!',\n",
              " 'meu role acabou cmg conversando em inglês com um haitiano no joze lanches\\n\\nsó isso q tenho a dizer',\n",
              " '@HiRoNightz @toxichise Mãe dela achava q eu tava no Haiti....',\n",
              " '@meu_vermelho Blz, click rosca! \\nMostra os títulos individuais e a ida pra Copa do Mundo que o pagé nunca sequer foi convocado nem pra amistoso contra o haiti.\\nPara de forçar like, tu é tosco ao extremo',\n",
              " 'O time do @Flamengo chegando no Piauí é a seleção brasileira chegando no Haiti pro jogo da paz de 2004 (numa proporção menor, claro). Onde esse time chega, a alegria chega também.',\n",
              " '@saocoice Caos e Balbúrdia. E com uma população sem religião, sem valores e sem controle emocional... Isso aqui vai virar um Haiti.',\n",
              " 'Qual foi mano, até em eventos seguranças ficam me seguindo Tmnc',\n",
              " '@BlogMarxista @pstu Se Putin não fosse pró imperialista, não teria reservas em dólares para ser bloqueadas.\\n\\nLula é pró imperialista também. Óbvio.\\n\\nNão reverteu uma privatização, aumentou terceirização e conceção, leiloou o pré sal, manteve a desindustrialização.\\n\\nAté invadiu o Haiti para o Bush.',\n",
              " '@grosse_axt @iuridias @Odlani1 @derflecha Atacar qualquer um ataca, até mesmo o Haiti consegue atacar os EUA, ocupar é outra historia, beem diferente.',\n",
              " '@Flamengo Lembrei da seleção Brasileira chegando no Haiti para realizar um amistoso.',\n",
              " '@horaciohudson Estranho, pensei que o @GenSantosCruz tinha pacificado o Haiti... 😏 https://t.co/4gQsj4Rbgn',\n",
              " '#Haiti #Jacmel #Gonaives #Caphaitien #Leogane  Al souce ArielHenry. https://t.co/Z6Xyq08riy',\n",
              " 'Coitado do advogado desse mano kkkkkkkkkkkk https://t.co/bOl1DU5lLg',\n",
              " 'Pense no Haiti\\nReze pelo Haiti\\nO Haiti é aqui\\nO Haiti não é aqui\\n\\nessa musica do caetano precisa de uma renovação... \"reze pela venezuela, a venezuela é aqui\" https://t.co/8Twlr6hEnL',\n",
              " '@weiszland Kkkkkkkkkkk tempos atrás soltei um pqp e a aluna aprendeu a falar p*ta. Passou o dia chamando todo mundo de p*ta (detalhe a menina era haitiana e tá aprendendo o português agora ) kkkkkkkk é difícil a vida de quem trabalha na educação infantil',\n",
              " 'Tô meio pra baixo hoje, vou ficar quietinho aqui',\n",
              " 'Tem uma criança haitiana apanhando em francês aqui no prédio',\n",
              " '@Rogermachadot Cara. Eu achei que era fake. Acabo de ver que vc realmente escreveu isso. Pqp. Vaza meu. Vai morar fora sim. Mas escolhe um local vermelho. Leva a Manu junto! Que tal Cuba. Venezuela. Haiti? Ou algum país africano. Ok? Vazaaaa',\n",
              " 'Encontrei no IAP o amigo e irmão Kenol Doresma, do Haiti. Ele morou em Criciúma e conheceu minha família. Hoje cursa Teologia e está se preparando para ser pastor. Pense num jovem cristão e amoroso. Deus o abençoe, meu amigo. https://t.co/LHHWnVvSIU',\n",
              " '@filosofocolina Qto será que os EEUU gastou com ajuda ao Haiti?',\n",
              " 'Pérola de Cuba, OEA\\n\"Eu cedo meu tempo a cu.....Haiti \\n(pausa dramática)\\nGente, desculpa!!!  Eu ia falar Cuba\"',\n",
              " 'reparar e reverter a diáspora vivida por africanos escravizados tenha sido escrito por Aldri Anunciação em 2011 e em 2013 o tribunal da Rep. Dominicana emitido a sentença n168/2013 autorizando a deportação de dominicanos de ascendência haitiana que há gerações viviam no país.',\n",
              " '@86Victor_Veiga O cara é tão mal caráter que quer comparar países socialistas que sofrem sanções com as maiores potências que sempre exploraram o mundo, seu animal imundo compara Haiti com Cuba não Cuba com Noruega seu animal burro, so por isso só demonstra como você é mal carater',\n",
              " \"The Strongest 1-1 Real Santa Cruz\\n57'⚽Adrian Jusino  78'⚽Jayro Jean\\n\\nMais uma vez o RSC consegue pontuar em La Paz contra o The Strongest. O haitiano Jayro Jean, um dos destaques desse time do RSC, marcou o gol dos visitantes. Semana que vem tem The Strongest X Bolívar. Só isso https://t.co/AqAAE6fEqv\",\n",
              " 'Pérola Haiti\\n\"A gente passa fome e o Paraguai passa frio.\"',\n",
              " 'PÉROLA no CEPAL\\n\"O seu país está completamente quebrado - com todo respeito-\" Delegação da Costa rica para o Haiti',\n",
              " '@86Victor_Veiga Você acha que Cuba uma ilha que toma sanções desde que é conhecida, durou até hoje como? E qual é melhor Cuba ou Haiti? Vocês são uma piada pronta',\n",
              " '@86Victor_Veiga Elite? Oque essa cara tá usando? O MBL não era contra o Olavo? E tão usando os mesmos vômitos já rebatidos milhares de vezes do guru 🤣🤣🤣🤣🤣🤣🤣🤣 Me diz aí qual o país é melhor o Haiti ou Cuba? Pq a China vai ultrapassar os EUA? A Venezuela não ta vendendo petróleo pros EUA?',\n",
              " 'Que as transmissões na Série D são bairristas isso tudo mundo já sabe. Mas em Araraquara é um nível absurdo. \\n\\nColocam a Ferroviária como a França e o Real Noroeste como o Haiti. \\n\\nNão é comparando grandeza ou algo do tipo, é questão de respeito…',\n",
              " '@RHAS_DaSilva @pab_lu_rob @RiverPlate eu não to passando não, só estou esfregando a hipocrisia na tua cara.\\n\\nbrasileiro reclamar de racismo quando se mata haitiano e boliviano dentro de seu proprio territorio é patético.',\n",
              " '@emilioduquem eu ainda sou da opinião que tem que botar o exército pra trabalhar além disso tudo aí\\n\\nbota todo mundo depois de treinado a disposição da ONU pra missão de paz, geral fala do haiti mas duvido que sem o exército brasileiro aquilo estaria melhor',\n",
              " 'PÉROLA da OEA\\n\"A gente passa fome e o Paraguai sofre frio\"\\nHaiti',\n",
              " 'A obra de Edwidge Danticat é muito bem sucedida em: fugir de conclusões simplórias sobre questões complexas e densas do Haiti contemporâneo; construir perfis psicológicos ricos; e descrever pessoas negras com a mesma diversidade que normalmente se faz em livros de brancos + https://t.co/aCmFQglMfa',\n",
              " '@YasuSayonara Esqueci q tu é haitiana',\n",
              " '@maariajoaoalves @fredcanotilho Sim, mas tudo o que acontece de mal neste planeta é culpa do Fred. A morte da Europa Muñoz? Foi ele. O Terramoto do Haiti de 2008? Foi o Fred. O 25 de Novembro? O Fred é que estava a liderar os paraquedistas.\\nO 11 de Setembro? Foi o Bush.',\n",
              " 'eu andando na assis brasil, quando do nada um haitiano vem com uma nota de 50 reais falando coisas que eu não entendia.\\n\\nele tentando me dar a nota e eu negando, tipo n preciso do seu dinheiro bro...\\n\\naté que ele gritou \"bom ou ruim\"\\n\\nele só queria saber se era nota falsa 🤡',\n",
              " '@gcamarotti @joaosuassunape Estou com esse de literatura haitiana e, por enquanto, uma das leituras favoritas do ano! Deliciosa história de uma garota que foi criada com o pai viúvo até o momento em que ele decide vendê-la para outra mulher por se julgar incapaz na criação, mas ela foge antes do ato. https://t.co/R33yDEBb2h',\n",
              " '@UOL E lógico, não é culpa dos escravos também, os deus dos brancos não olhavam pros escravos então talvez seus inimigos olhassem, o inimigo do meu inimigo... Esse tipo de associação interreligiosa também aconteceu no vodu haitiano por exemplo.',\n",
              " \"'Clara da Luz do Mar' acerta ao destrinchar questões morais do Haiti https://t.co/Svt8T6Qzo6\",\n",
              " '@JovemPanNews Não consegue 400k assinaturas pra formar um partido bunda, e querem me convencer dessa...',\n",
              " '@Dk35353 @Dreamervitto @jonesmanoel_PCB Venezuela é capitalista, burro. Haiti é capitalista, bora mudar pra lá?',\n",
              " '@narradorjack @MarianaAmary2 @Rogermachadot Sim Haiti é capitalista e daí?\\nSe é o capitalismo malvadão que torna aquele país pobre me explique o porquê da Austrália e o Canadá não serem miseráveis da também. Levando em conta que estes países são muito mais capitalistas que o Haiti. 😘',\n",
              " '@JanainaDoBrasil OI @JanainaDoBrasil por quê seu PR não dá concede Graças a toda esta gente sem moradia e comida no prato heim?\\nCuba, Venezuela, Haiti, África central, periferia de Kiev heim deputada? \\nNão, é são Paulo nua e crua piorada pelo desgoverno de @JairBolsonaro https://t.co/mTZk6NlDFV',\n",
              " '@revistaoeste @revistaoeste sabe onde é?\\nVenezuela, África Central, Haiti, Cuba, Kievi?\\nNão é o centro de São Paulo, cuja destruição acentuou-se com @JairBolsonaro no desgoverno. https://t.co/S4QPvBqnMb',\n",
              " '@caiogriot 👏👏👏\\no pai do boisemaro é a turma do haiti, e a mãe é a grande mídia/lava-jato \\no projeto militar só \"deu certo\" pq a mídia gerou o clima necessário',\n",
              " '@dk_salamand3r @Xarmes_vagrant @afpsantos1 @Geopizzza Haiti era tão rico que os EUA tiveram que proibir todo e qualquer comércio entre Haiti e todos os países do mundo para não servir de exemplo para os negros dos EUA se rebelarem também.',\n",
              " '@hilde_angel Para essa gente que fala da pobreza da comunista Cuba, pergunto sempre sobre a riqueza do capitalista Haiti.',\n",
              " '@suu_nset_ pra quem? pro haiti ou pros eua',\n",
              " '@iampauloandre Foi campeão vc mereceu,e pra te falar tu nao conquistou so brasil ,tu conquistou o mundo campeaõ specialmente a tropa Haiti,nos vamos sempre torcer por ti amado,🥰🥰🥰#teampa#parasempre#🏁🏁🏁💪🏽💪🏽🏁🥰',\n",
              " 'Essa chuva ta foda 🤦🏽\\u200d♂️',\n",
              " '#Haiti #Gonaives #Caphaitien Chantal Elie  Al souce ArielHenry https://t.co/Z6Xyq08riy',\n",
              " '@jonesmanoel_PCB Garanto que pelo menos metade é Venezuelano, Haitiano, Boliviano. Coincidência 🤔',\n",
              " 'O conceito da marca de moda casual de São José do Rio Preto, interior de São Paulo, envolve uma frente de viagens socioculturais e humanitárias com a participação de clientes em destinos como Haiti, El Salvador e Amazônia.\\n\\nhttps://t.co/QuQEX1LcRm',\n",
              " '@predozone @jjjccls @aririveera @_renaum Quem inverte vídeos de quatis correndo é parente dos que colocavam os discos da Xuxa ao contrário?',\n",
              " '@Je19972 @jiggy1143 @gomesplucia1 Ou porque procuramos tecer sp comparações com Cuba mas não com o seu vizinho Haiti (capitalista e o país + pobre do hemisfério), ou com as Honduras, Colômbia e até mesmo o México, países com níveis de violência extremos. Mas pessoas fogem das Honduras (capitalista) do que Cuba.',\n",
              " '@LeoSanX_ @penjevit @JoseReal29 @Joao_Reiss @geglobo A camisa não é feita aqui no Brasil e sim no Haiti, Camboja e outros com mão de obra barata. Essas camisas são baratas de fazer, mas eles metem a mão pq são fdps.',\n",
              " '@CentralConcacaf @GoalBR Caraca, Haiti e Guatemala também tem?🤔🤔👀 . O Brasil perdeu o título para o México e Canadá?🤔👀',\n",
              " '@MarianaAmary2 @Rogermachadot Pessoal uma fada 🧚 me mandou dizer pra vcs não esquecer que o Haiti 🇭🇹 é capitalista … beijos de luz !',\n",
              " 'Saques, estupros e assassinatos: Haiti vê escalada na violência e teme guerra civil\\nhttps://t.co/JfiyJQAej5 ou  https://t.co/M69ggWdDRD',\n",
              " 'Fonte: Comissão Econômica Para América Latina e Caribe - Órgão das Nações Unidas. Crescimento do Brasil 0,4%, destaca-se entre os piores, como o Haiti com 0,5%. Venezuela o maior da América do Sul 5%. No Caribe Cuba com 3,4% de crescimento. https://t.co/0FQ404owvb',\n",
              " 'Saques, estupros e assassinatos: Haiti vê escalada na violência e teme guerra civil.\\nAs gangs cresceram tanto que não tem como controlar o número de crimes.\\n\\nIsso lembra o Brasil antes do presidente Bolsonaro, criminosos na rua tocando rebu.',\n",
              " 'Saques, estupros e assassinatos: Haiti vê escalada na violência e teme guerra civil https://t.co/mv9BppnFwe',\n",
              " 'Disputas de gangues\\nSaques, estupros e assassinatos: Haiti vê escalada na violência e teme guerra civil (GAZETA DO POVO)',\n",
              " '@fg_genuino Omissão deixou de ser crime.....para estes Generais cheio de estrelas.O unico povo que alguns deles defendeu foi o povo do Haiti quando serviam à ONU...',\n",
              " '@Bruno_Carioc A única solução pro RJ é se separar do Brasil. Transformá-lo num país. Deixar que virem um paraíso como Haiti ou Ruanda.',\n",
              " '@GustavRamski O Haiti é aqui, diria a canção',\n",
              " '@harvismg @ElementalELM Quer saber como seria Cuba, sem a revolução? Olhe pro Haiti.',\n",
              " '@gazetadopovo Misericórdia!!! Que Jesus olhe por seus filhos que moram no Haiti!!!',\n",
              " '@GadoDecider E esse Heleno, que deveria ter sido punido, por crimes no Haiti, e não foi???\\n#ForaBolsonaro',\n",
              " '@JornalOGlobo Seja firme, antes que a milícia torne o Brasil um atrasado Haiti.Os tontons \\nmacoutes já estão por toda parte, até em igrejas, onde não deveriam estar.',\n",
              " '@majorfabianadep Ele roubou algum camelô haitiano antes de tirar essa foto. Só pode. Kkkkk... 😅😂🤣',\n",
              " '@Doprimido2 Pode virar uma Cuba, um Haiti, uma Coreia do Norte, China Comunista, Colômbia, Chile, Bolívia, opções não faltam se vc está amortecido meu senhor, nós estamos bem acordados, deita e dorme que é melhor. Boa noite Deus te abençoe 🙏🙌 Yeshua',\n",
              " '@ThFujin Ken do Haiti vai tomar no cu fdp quase acordei minha vó rindo dessa merda',\n",
              " 'A Revolução Haitiana e sua Independencia: genocídio da população branca, abolição da escravatura e reescravizacao da população recém liberta pela própria elite negra que liderou o desligamento da França. TINHA COMO DAR CERTO?',\n",
              " 'tenho dó do haiti coitados',\n",
              " 'O Haiti é fadado a ser uma eterna nação falida. A sua independência foi uma carnificina. Em 210 anos de história, milhões morreram nas mãos de tiranos assassinos ou por catástrofes naturais apocalìpticas. É de se pensar se a questão  ultrapassa o mundo terreno. https://t.co/9rTVIi6jvu',\n",
              " '@Rogermachadot Aposto que não é África, ou Cuba. Talvez Haiti? Não, Miami',\n",
              " 'Esse draft ja teve grego, haitiano, camaronês, taiwanes, nigeriano, austríaco, escocês\\n\\nFoda demais',\n",
              " '@monicalatvenas @rmatheuspaiva @visegrad24 @jairbolsonaro @DefesaGovBr @exercitooficial O BRASIL foi para o Haiti em missão de paz, minha querida.\\nPesquise aí a neutralidade do 🇧🇷.',\n",
              " '@MucciniSalia @rmatheuspaiva @visegrad24 @jairbolsonaro @DefesaGovBr @exercitooficial Mas afinal, o Brasil “sempre foi neutro” ou não?\\n\\nAh tá. Só guerra mundial… então o Haiti não conta?\\n\\nO Brasil tem sim que enviar ajuda e armas para a Ucrânia  e se posicionar do lado dos Ucranianos junto com a NATO.\\n\\nOs Bolsonaristas estão muito atrapalhados coitados. 😵\\u200d💫',\n",
              " '🇭🇹Saques, estupros e assassinatos: Haiti vê escalada na violência e teme guerra civi\\nLeiam⤵️\\n#Haiti #VozesSilenciadas #SilencedVoices \\nhttps://t.co/15ydZ3ddhD',\n",
              " 'E o cuz@o que escraviza haitiano na empresa, estupr4ndo o artigo Art. 5º também é passivo de pena?? \"\\nTodos são iguais perante a lei, sem distinção de qualquer natureza, bras... e aos estrangeiros residentes no País a inviolabilidade do direito à vida, à liberdade, à igualdade\" https://t.co/GtP7MWtaAH',\n",
              " '@gazetadopovo Quando comecei a ler, antes dos dois pontos, pensei que estivessem falando de Copacabana. Mas era o Haiti. Copacabana está igualmente largada e violenta!! 😩',\n",
              " 'Saques, estupros e assassinatos: Haiti vê escalada na violência e teme guerra civil https://t.co/1OHvlsDbIF',\n",
              " 'Saques, estupros e assassinatos: Haiti vê escalada na violência e teme guerra civil https://t.co/9kHMpmiw0w',\n",
              " 'Saques, estupros e assassinatos: Haiti vê escalada na violência e teme guerra civil https://t.co/vVloYrjZex | Siga @feedynewsBR',\n",
              " 'Saques, estupros e assassinatos: Haiti vê escalada na violência e teme guerra civil:\\nhttps://t.co/gZ7JytdNYC',\n",
              " '@CuDecapitado Em países como o Haiti, isso é bastante comum',\n",
              " '@dcamara_mx @JeanVGeneus @EmbamexHaiti @MAE_Haiti @mborregol @maximilianoreyz @m_ebrard Felicidades!! 🎊',\n",
              " 'Alguma alma abençoada me fala oq é Pequepe \\nAté meu primo haitiano sabe e eu não 🤡🤡🥺',\n",
              " '@Rogermachadot Tchau Brow..... não exite em já ir.. mas não esqueça de ir pra país como Venezuela, Haiti, Cuba e até mesmo Argentina que o socialismo dá super certo. Nada de países malvadões capitalistas hein!?!',\n",
              " 'Após ingresso no Brasil, o haitiano contemplado pelo visto humanitário deve registrar-se em uma das unidades da Polícia Federal em até 90 dias.',\n",
              " 'De acordo com a portaria, o visto temporário terá prazo de validade de 180 dias e será concedido exclusivamente pela embaixada do Brasil em Porto Príncipe, capital do Haiti. Para isso, os interessados deverão comparecer à autoridade consular com os documentos necessários ⤵️',\n",
              " 'Na real me incomoda muito q eu esteja na página 152 e a única descrição do pp é que ele usa óculos. Ate a ascendência Haitiana dele fica meio a deriva e n sei qual a real aparência dele. A autora n diz nada dele pra gente, até a personalidade ta meio a deriva',\n",
              " 'Os COMEDIANTES DO SEC. XXI\\nNem a Rússia é o Haiti, nem Putin é o \"Papa Doc\" e... nem o Zelenksy é o    \\n                Graham Greene https://t.co/W0iVLrvcWT',\n",
              " 'Meteram aqui na aula que Haiti fica na África mane',\n",
              " '@historia_pensar A primeira vez que odiei ser brasileiro foi quando vi videos de soldados brasileiros com a bandeira no ombro da farda espancando população no Haiti',\n",
              " 'Acho arriado pq sempre tem alguém falando outra língua..se não é haitiano é cearense ou alguém falando em espanhol, diversidade né, amo muito',\n",
              " 'Um dos maiores crimes causados pela Minustah (Missão das Nações Unidas para a Estabilização do Haiti) foi a violência sexual contra as mulheres haitianas, com milhares de denúncias de estupro contra a Missão. Por fim, a última vez que o Exército resolveu preservar a ordem no +',\n",
              " 'Participar de ações internacionais é meter o bedelho em questões alheias. O Brasil já participou de ações assim, como por exemplo no Haiti. As tropas brasileiras ocuparam o país da América Central por 13 anos, e deixou um legado de dor, morte e desgraça + https://t.co/DqJdUTvNhr',\n",
              " '@ValerieFrety Bravo!',\n",
              " 'O moço que lava os carros aqui na casa do meu amigo/patrão falando “Mylena é mil grau” kkkkkk e ele custa a falar português porque é do Haiti 🇭🇹',\n",
              " '@OGloboPolitica @jairbolsonaro @gen_heleno CHUPA! Estavam achando que aqui iam fazer a zona que fizeram no Haiti?',\n",
              " 'Brasil fez o mesmo no Haiti. EUA em todo país que pisou. No Brasil há casos de mulheres que sofreram abuso dentro de viatura\\nCrianças yanomami e de outros povos indígenas\\nO que há em comum: Homens adultos que raramente são punidos\\nCom guerra ou sem guerra\\n#BastaDeViolencia https://t.co/n3lzbsiqbG',\n",
              " '@SF_Moro Está nação, em alguns anos, vai ser tornar o Haiti',\n",
              " '@historia_pensar De volta ao Brasil, algumas décadas depois, o exército Brasileiro arruinou o que restava de honra servindo de fantoche violento contra população do Haiti \\n\\nhttps://t.co/jAvXL6PsUJ',\n",
              " 'Ah, você gosta de capitalismo é?! Então vai pro Haiti! Lá que é bom né?!?!',\n",
              " '@bruhenesccor @AgniMitrani na bulgaria irmao depois vao achar outro fossil ainda mais antigo sla NO HAITI',\n",
              " '@Arthur83561186 \"Os \\nproletários fizeram a revolução na Rússia, os negros no Haiti, \\nos indo-chineses bateram-se na Indo-China: a ação das mulheres \\nnunca passou de uma agitação simbólica; só ganharam o que \\nos homens concordaram em lhes conceder; elas nada tomaram; \\nelas receberam(+)',\n",
              " '@gen_heleno O Haiti te conhece ! Cadê os 39 k de pó ? https://t.co/a3H2DRqL3I',\n",
              " 'Storytelling e entrevista com Iara Lemos  sobre o livro a Cruz Haitiana https://t.co/2uKG1x7DzT',\n",
              " '@phdomes Aí @azevedo_ffc fala pra ele que as ondas do Haiti que a gente pegava Jacarezinho era tudo +/- desse tamanho aí',\n",
              " '@LFMS30 Relaxa que no domingo estarei reclamando de homem aqui mais uma vez\\n\\nMas o meu dia preferido na lapa foi quando fui pedida em casamento por um haitiano la (e ele nem tava brincando)',\n",
              " '@Jonis_1909 @haas_lennon Mas tem que ter no contrato isso. Linha masculina e feminina em preço acessível. O torcedor que compra a camisa do haitiano na rodoviária gostaria de entrar na InterStore que tem ali (tinha uma pelo menos) e comprar uma oficial, de ajudar o clube, mas pra isso o cara tem que +',\n",
              " 'ontem foi haitiano, tamos diversificando https://t.co/ILPfpTVtk2',\n",
              " 'Hoje nem sei se vou sair vivo do trampo kkkkkkkk o negócio tá estranho aqui',\n",
              " '@UOLNoticias \"Não importa o leite da varinha, mas a magia que ela proporciona.\"\\nAutor desconhecido',\n",
              " '@claudiogonz @valoreconomico Se você acha que a China é um bom exemplo de socialismo deveria pesquisar mais sobre como realmente funciona a economia deles e como um trabalhador de lá vive\\n\\nAgora citar o \"capitalismo\" do Haiti como culpa da pobreza deles é de uma ignorância absurda. Vale nem a pena discutir',\n",
              " 'Ainda abismado que ela não considerou Haiti um país latino americano.',\n",
              " '1ºBFEsp do exército brasileiro no Haiti.\\n\\n💀🗡️🏴 https://t.co/bRCfx37Bg7',\n",
              " '@gen_heleno Esse filhote do Silvio Frota tem que se entender é lá com o Haiti... E ainda fala em democracia!',\n",
              " 'Os únicos aliados do Brasil em toda América é o México. Antigamente tínhamos uma ótima relação com o Haiti, mas rolou algumas coisas lá quando o exército brasileiro foi fazer às missões de paz. https://t.co/7KRLnfznBE',\n",
              " 'Literalmente o Haiti é aqui https://t.co/JQbUcukkJJ',\n",
              " '@salimmattarbr Essa ONU é uma piada, porque ela não faz relatório sobre o Haiti, Siria, China e Ucrania ? Cambada de inúteis.',\n",
              " '@Nelson_Parler @Lucia2Yellow O Haiti é pobre, então não interessa prá eles',\n",
              " 'pra melhorar a minha sexta-feira, um haitiano bateu no meu carro e arrebentou meu parachoque',\n",
              " 'Eu tenho uma tia que namora com um haitiano a uns par de anos e ele tem outra namorada que posta coisas com ele direto, eu fico tipo !?!?!?!?!! https://t.co/cazik5rgF0',\n",
              " 'Guerra na Ucrânia🇺🇦\\nConflitos armados na:\\n🇪🇹 Etiópia 🇾🇪Iêmen🇭🇹Haiti 🇸🇾Síria🇲🇱Mali 🇸🇴Somália 🇦🇫Afeganistão\\n\\nMas com o que um punhado de membros de um comitê da ONU estão preocupados? Em inocentar um ex-presidiário condenado por corrupção🗣️\\n\\nÉ pra acabar... \\nhttps://t.co/3Ygh5moYh3',\n",
              " '@jguedes_s Conspirar. Ele também gosta de mortes, de matar. Vide Haiti.',\n",
              " 'Agora pense! Segundo projeções do FMI, até o final deste ano, o PIB per capita da\\xa0Venezuela, país controlado pela esquerda e que mesmo possui a maior reserva de petróleo do mundo,\\xa0deve se tornar, o de  menor PIB percapita entre os\\xa0países\\xa0das\\xa0Américas, incluindo o Haiti.',\n",
              " 'isso aí é putaria😍 https://t.co/oGDI8iCbva',\n",
              " '@antonioguterres @UN Síria! Iêmen! Haiti! Etiópia! Afeganistão! Palestina! África (vários). Todos são importantes! O conflito da Ucrânia pelos vistos é mais importante',\n",
              " 'Desde quando o Haiti não é da América latina 💀💀💀',\n",
              " '@ycarob2s @Androidcinco5 @rb_tucha @esquerdaextreme @izzynobre Aonde q \"eu dei a entender q era melhor\"? Eu disse q a Bolívia nn tem relação nenhuma com o Haiti, o botar os dois no msm balaio como \"latinos\" nn faz sentido.',\n",
              " '@DanCRFRJ @Cruzados Meu temos a metade da Haiti vivendo conosco, e vamos ser racista?\\nO que aconteceu ontem não passa de um cara que de fato é retardado, mas não é justo meter a toda a torcida da católica nessa briga.',\n",
              " 'E,  contávamos com sua experiência no  Haiti, a frente M. Saúde vitorioso com agilidade no comando  da crise COVID. Assim quem sabe nos ajude no RJ a não escolher , mais um governador IMPEACHMENT.. https://t.co/CIvysn4iOb',\n",
              " '@pudiminion @Metropoles Eu quero! Mas só se vc for defender o capitalismo no Haiti.',\n",
              " 'Mortes, estupros e pânico: Haiti acumula assassinatos na capital em nova onda de violência https://t.co/9qkjgJoiOZ via @RFI_Br',\n",
              " '@Amadeu2310 Lamentável este general  , sujou a farda no Haiti, apoia .o governo do  centrão que ele mesmo chamou de ladrão acha normal comprarem pênis de borracha pra enfiarem no rabo Viagra com dinheiro público só por conta do soldo em dobro',\n",
              " '@AragaoMosart Já pode fazer campanha eleitoral? A propósito vocês devem explicações sobre a cagada que fizeram no Haiti.',\n",
              " 'É verdade q sofremos com o racismo, mas INIMIGO não né.\\nDiversos brasileiros praticam racismo com os imigrantes de pele escura (amerindios ou negros), seja de onde eles venham (Países africanos, Haiti, Equador, Bolivia...).\\nE isso não expressa a opinião do brasileiro médio. 1/2 https://t.co/aoY7WfA6Dx',\n",
              " '@AbrahamWeint china? aquele pais mais rico do mundo e que compra 40% de nossas exportaçoes.\\n\\nquando voce for presidente vai vender pro HAITI?',\n",
              " '@v3nts4 @CaduCEdu @AquariosVEVO @FutebolBoomers Aí é só vc fazer uma pesquisa de exército brasileiro no Haití, não se é real, mas tem várias denúncias de haitianos que sofreram abuso do exército brasileiro, seja sexual ou físico.',\n",
              " '\"Quando os antropólogos chegam, os deuses vão embora\" provérbio haitiano',\n",
              " '@DiegoDiasMusic Certamente esta galera vai ser \"dois pesos, duas medidas\" com o Roger. São assim pra quase tudo na vida infelizmente.',\n",
              " '@CaduCEdu @AquariosVEVO @FutebolBoomers acho q até pq o Brasil da mo força em questão de segurança, ajuda humanitária etc pro Haiti',\n",
              " '@Androidcinco5 @ycarob2s @rb_tucha @esquerdaextreme @izzynobre É igual? A Bolívia é uma nação hispana sem acesso ao mar, já o Haiti é franco e é basicamente uma ilha',\n",
              " 'Roubaram ouro do Iraque,Líbia e tantos outros\\nA Europa a séculos saqueia países da África, a França explorou o Haiti e o país chegou a ser um dos maiores PIB do império francês. E o roubo contra o terceiro mundo continua até hoje. O eurocentrismo cristão é bonzinho e chique https://t.co/cLFK2rAJWf',\n",
              " '@DivagoTM Meio segundo? É só se distanciar 170 metros do speaker que está adiantado, ouvirás perfeitamente sincronizado meu caro.',\n",
              " '@folha Os meio-fios da Ucrânia estão meio descascando msm...',\n",
              " '@Metropoles Se der razão pro Ciro fazendo isso, não me venham com chorumelas quando seguranças ou o próprio bozo vier dando chega pra lá em alguém com um papo inconveniente.',\n",
              " '@MalvasioRolando Espero que os milicos lembrem-se dos péssimos exemplos do Pazzuelo na Saúde, do Braga Neto na intervenção do Rio e do Heleno no Haiti e fiquem longe das urnas com suas mãos lambuzadas de leite condensado.',\n",
              " 'Agora que fui ver a discussão xarope do \"hurr durr não critique meu Exú no carnaval pipipopô\" e \"herp derp o Haiti é o mais pobre do mundo porque venderam a alma ao deabo\".\\n\\nA sua liberdade religiosa implica na do outro.\\n\\nDebate religioso no Bananil é duelo de brainlet.',\n",
              " '\"estive em combate no Haiti\". Ah, mano, vá se foder',\n",
              " '@twittlosopher @GuaciraRaphael1 @FlavioBolsonaro Vc participou da missão no Haiti?',\n",
              " '@GuaciraRaphael1 @FlavioBolsonaro \"A turma\" eram militares servindo a um governo militar... Aliás, o chefinho responsável pela segurança era um general que também não viu os estupros no Haiti e nemba corrupção no COB quando serviu ali. Também não viu os pastores que pediam barras de ouro e bíblia no MEC...',\n",
              " 'Kkkkkkkkk a curiosidade mata a Gata hein',\n",
              " '@cynaramenezes Não sei se é exatamente o q vc procura, mas assista Exterminate all The brutes (do diretor do Jovem Marx, o haitiano Raoul Peck). 4 episódios, na @HBOMaxBR Imperdível!',\n",
              " '@CaduCEdu @AquariosVEVO @FutebolBoomers Os caras do Haiti e da América central são nossos comparsas 🤝\\nNão existe um haitiano que n seja muito fã do Brasil',\n",
              " '@AquariosVEVO @FutebolBoomers Aí você tá restringindo a América só aos países maiores, só pra citar um exemplo em toda a Copa o Haiti torce por nós,tem vários vídeos disso por aí',\n",
              " 'Queria muito saber quem era o haitiano altao de dreads que me vendeu um negócio ano passado, ele começou a fazer graça e foi mt fofo, nunca mais vi ele no centro',\n",
              " '@danielamericok @rb_tucha @esquerdaextreme @izzynobre Se bem que no Haiti tem umas praias foda e a rapaziada fala francês',\n",
              " '@DePupilo @Micael43884507 @QuimicoUniverso @edulu30 @observint O Brasil literalmente invadiu o haiti no governo dele',\n",
              " 'amanhã já é sexta né kkkkkkkkkkkk😴',\n",
              " 'Próxima semana vou dar aula sobre revolução haitiana 🥰',\n",
              " 'Pra quem fala que tamanho não é documento. Os países com os maiores falos do mundo,em média:\\n\\n1 Equador- 17,6 cm\\n2 Camarões- 16,6 cm\\n3 Bolívia- 16,5 cm\\n4 Sudão- 16,4 cm\\n5 Haiti- 16 cm\\n\\nO Brasil, apesar de ser gigante pela sua própria natureza, aparece em 22º lugar, com 15,2 cm 😂',\n",
              " 'BOOK',\n",
              " 'vc é imigrante ilegal do Haiti? — Não explana https://t.co/WK86nikFJg',\n",
              " '@CamargoDireita @mtcosmo1 Eu acho o povo negro lindos, em 2015 adotei um Haitiano lindo, e não entendo a dor dessas pessoas.',\n",
              " 'Eu cometi 17 crimes de guerra contra mulheres e crianças durante minha ida ao Haiti em  2016 https://t.co/fx6A9yIEWv',\n",
              " 'Mach-Hommy - Pray for Haiti (2021)\\n\\n8,5/10 - revisão\\n\\nano passado eu ouvi e achei ele mt parecido com o Haram, mas reouvindo hoje, acho que ele vai muito além na produção vaporwave+rap pra dar aquela sensação esquisita, talvez uma das coisas + interessantes do rap atual https://t.co/04Xk4dZQux',\n",
              " \"no tocantis a professora tambem o injenheiro ' nao tem mao obra ...📡🔍 nao tem o kara pra contratar... o haitiano ' pressizou entrar n escola oferecida pela prefeitura local ' como comunicar sem falar portugues ? e como achar emprego ? \\ncomo colocar um arroz n partileira?\",\n",
              " 'Acabou de publicar uma foto em Missão Haiti Porto Príncipe https://t.co/UTQnuPhqF0',\n",
              " 'O Brasil se destacou na ONU, na resolução e mediação de conflitos na América Latina (em Honduras e no Haiti) e gozou de uma agradável e carismático imagem positiva em todo o Planeta. Lula recebeu e foi recebido - e até hoje o é- com honras e até alegria por diversos presidentes+',\n",
              " 'Ta bom, alguem que ja leu O Mar sem estrelas pode me falar qual a real aparência do Zachary, pq eu tava imaginando ele o Ezra Miller, mas acabou de falar que a mae dele viveu o Haiti até os quatro anos, então ele é descendente?',\n",
              " '@luizandre9x2 @DablioFla @MR1908CAM @futebol_info A CBF deveria reunir os clubes brasileiros e ir jogar a Copa Haiti, lá ao menos os Brasileiros são idolatrados.',\n",
              " '@ycarob2s @rb_tucha @esquerdaextreme @izzynobre Realmente irmão, o Haiti é super igual a Bolívia, parabéns',\n",
              " '@BabyDogeCoin Bora por 2M logo',\n",
              " 'DA REVOLUÇÃO HAITIANA\\nhttps://t.co/HY7Qkk9hgv https://t.co/8Mu6vfslfI',\n",
              " '@renancalheiros Alguém sabe, quantas casas a ONU 🇺🇳 construiu com as doações para as vítimas dos terremoto do Haiti em 2010! @ACNURBrasil é FAKENEWS',\n",
              " '@ZiltonJunior4 @izzynobre A anglo-América contempla EUA, Canada e Guiana.  Enquanto ibero-america os países com língua oficial em português e espanhol e tem gente que aceita colocar os francofonos nesse rolê tb (Guiana francesa, haiti)',\n",
              " '@JoaoAlcazar Tinhas esta mesma resposta da minha parte se fosse do Haiti.',\n",
              " '@ACosta12536954 @Elaine32268185 Sabemos, pois. Ainda há dias, um gajo disse q o viu no Haiti.',\n",
              " '@Rodrigo11Cunha O STF já livrou o ladrão.\\nONU falando do ladrão? Ridículo.\\n\\n A ONU é um cabide de emprego que ninguém respeita,  o que a ONU faz por estes conflitos no mundo: \\n1. Etiópia\\n2. Iêmen\\n3. Mianmar\\n4. Haiti\\n5. Síria\\n6. Militantes islâmicos na África\\n7. Afeganistão\\n8.Ucrania\\nONU = nada',\n",
              " 'a palavra Zumbi vem da palavra kikongo Nzambi e também da palavra Zumbi que significa fetiche, quando os europeus estavam no haiti viram pessoas em pé como se estivessem mortas e mencionaram a palavra Nzami/Nzumbi e correram para sua versão dela https://t.co/SGtnD6BDBl',\n",
              " '@SF_Moro juiz parcial é uma contradição radical. isso explica o seu desespero por imunidade parlamentar. como disse o haitiano do futuro: acabou!',\n",
              " '@Kaue_cdd +-, eles tem muitos problemas de racismo com os imigrantes de haiti',\n",
              " 'Por que em vez de armas, a ONU, EUA e aliados não mandam combatentes para a Ucrânia, como fizeram na Síria, Líbano, Vietnã, Haiti, Afeganistão, Iraque, Líbia? São muitos corajosos quando o inimigo é fraco. As armas e financiamentos, \"são empréstimos financeiros\"...',\n",
              " 'Eu quero um pouco de comida haitiana!',\n",
              " '@julio_mallet @fabi2moraes @VEJA A Veja é um lixo, mas o pessoal se esquece q o Lula dava muito $$$ pra mídia corporativa e milicos. O Lula até deu palco prós milicos irem pro Haiti bancar os \"pacificadores\". E o PT poderia tranquilamente processar e retalhar os donos da VEJA, não fez porque foram bunda moles',\n",
              " 'Violência de grupos criminosos aumenta e ameaça famílias no Haiti https://t.co/q1SnYh5Yn4',\n",
              " '@MoreiraPaty @VCalsoni @LivLeFay @talivre1 Em suma, o séc. XVII (e não o Haiti) é que é aqui...',\n",
              " '@XandLima @virgomaximoff @sonia_schmidt @AlmirDopazo @KriskaCarvalho O governo quando assumiu pegou um pais com uma crise fiscal profunda, desemprego em 11% atrás apenas do Haiti, tem noção disso? E em 2019 quando assumiu foi feito reformas e o Brasil estava indo bem e gerando emprego! A pandemia foi uma catástrofe para nós principalmente pq +',\n",
              " '@SF_Moro Bom mesmo é liberdade capitalista e a prosperidade econômica do Haiti!\\n\\nOu então as prisões políticas no Brasil.\\n\\nMas vai estudar economia !\\nVai estudar direito !',\n",
              " '@larissaroso @janachimia Bah, que legal!! Será q já andei com ele?? Já fui com um engenheiro civil... e um haitiano enfermeiro...',\n",
              " 'Mortes, estupros e pânico: Haiti acumula assassinatos na capital em nova onda de violência https://t.co/DGVETXGJ6e',\n",
              " '@thinkmoreBrazil @Henriqsve E as atrocidades cometidas com os povos indígenas no Brasil seja por garimpeiros ou autoridades???\\n\\nE as ameaças a Moldavia???\\n\\nE a Venezuela, Haiti, etc???',\n",
              " '@MarCegos_Vidro Jura amor ?😍 eu tive q desovar 4 hj no Rio pq n tá dando pra enterrar 💔💔💔 o surto de prolapso anal aqui no Haiti tá fazendo mtas vítimas 😍',\n",
              " '@MarCegos_Vidro Logo estaremos juntos ❤️  eu acredito no amor 💘  pro amor vddeiro n há distâncias 😍 eu tô no subúrbio do Haiti pq sou voluntário mas logo vc vai estar aqui cmg e sseremos felizes',\n",
              " 'Acabei de ler um bglh na opex e to mto chocado q as referências para o JoyBoy podem ter sido a revolução haitiana\\n\\nComo pode uma obra tão completa igual one piece',\n",
              " '@LuisMirandaUSA E um milagre que o Brasil nao tenha virado um Haiti',\n",
              " 'Mortes, estupros e pânico: Haiti acumula assassinatos na capital em nova onda de violência https://t.co/3EXz3SUTVg https://t.co/Mth34sJO0R',\n",
              " 'Artigo: “Deveríamos saber muito mais sobre Revolução Haitiana do que Revolução Francesa”, produzido por Gustavo Araújo\\nhttps://t.co/xHwgecZ0YZ',\n",
              " 'Aproveitando pra lembrar que as indicações e referências citadas nos episódios se encontram na descrição do mesmo no Spotify, no YouTube e por aqui também:\\n\\nConstituição do Haiti de 1805 traduzida por Gustavo Araújo:\\nhttps://t.co/RAVgfdOLiy',\n",
              " 'Além disso, destacamos alguns pontos da Constituição do Haiti, promulgada em 1805.',\n",
              " 'Neste episódio falamos um pouco sobre alguns momentos da Revolução do Haiti, considerada uma das revoluções mais revolucionárias de todos os tempos, principalmente no sentido de libertação do povo preto.\\n\\nhttps://t.co/bErNn1pbSb\\n\\n📸: Arte de Scott “Tofu” St. John',\n",
              " 'P. S.: As Constituições liberais europeias nasceram racistas. O futuro foi o Haiti.',\n",
              " 'Ontem eu compreendi a importância da Revolução Haitiana e alguns pontos fizeram mais sentido do que antes',\n",
              " 'Literalmente 0 pessoas chocadas que os EUA tava no meio do assassinato do presidente haitiano https://t.co/Eq4TNCE9KO',\n",
              " 'Esse livro é belo estudo sobre o mito dos zumbis, desde seu surgimento no Haiti. O autor defende que, até por isso, há uma conexão muito forte do morto-vivo como metáfora para o escravismo - e seu surgimento justamente no Haiti apenas reforça isto',\n",
              " '@Lucianofsa1972 @tocrossbridge @johnholopan @JornalOGlobo Não só, o exército de pacificação do Brasil no Haiti está cheio de denuncias de estupro contra eles.',\n",
              " '@otempo Militar é militar em qualquer lugar no mundo... Os milicos brasileiros fizeram o mesmo no Haiti.',\n",
              " '🇭🇹 Haiti\\n\\nHaiti paga dívida com petroleiras em meio a crise de combustível\\nhttps://t.co/D0qBhXoRDk',\n",
              " 'O jornal Vive afirma que teve acesso a documentos que comprovam a utilização do HAARP para manipular a geofísica caribenha e ocasionar os terremotos do Haiti, que causaram a morte de mais de 100 mil pessoas.',\n",
              " '@Ida12000237 @CelioCavalcant6 @taliriapetrone @LulaOficial da pra ver como a lógica bozominion é limitada. já q vcs dizem q o STF é socialista e o br tbm pq vc não vai morar num país capitalista de verdade como o Haiti? tá vendo como soa burro? poise',\n",
              " '@RichardHanania os ditadores têm todos a 4ª classe.\\n François Duvalier ditador do Haiti, era médico e mesmo assim foi responsável pela morte ou desaparecimento de 150 mil pessoas.',\n",
              " '@jojoletthy ONU não tem relevância. Órgão internacional que não consegue nem combater nem a miséria do Haiti, diferentemente do Brasil que acolhe os imigrantes.',\n",
              " 'UÉ CUBA NÃO É O PARAÍSO!? - 📌📌📌 Mais de 22 mil cubanos pediram refúgio no México desde 2018  - Os cubanos continuam sendo o terceiro lugar com mais pedidos de asilo em 2022, atrás de Honduras e Haiti https://t.co/YxuFNOAZGv',\n",
              " '@JornalOGlobo É uma tragédia esses crimes,  crianças do Haiti que o diga!',\n",
              " 'lembrando aqui um dia super aleatório,na qual conheci um haitiano',\n",
              " '@AforistaJ832 @valoreconomico O PMA calcula que pra reverter a situação de fome no mundo, são necessários agora US$ 7 bilhões De acordo com Beasley, que voltou do Afeganistão, onde 23 milhões de pessoas recebem assistência alimentar do PMA, a situação continua grave em países como Angola,Haiti,Síria e Somália',\n",
              " '@andretcosta O contrafactual é interessante também. Teria ele feito o que vem se tivesse nascido numa vila pobre do Zimbábue ou do Haiti?\\n\\nO grande debate da meritocracia e da justiça social (igualdade de oportunidades e redução da desigualdade de resultado e tratamento) levantaria a questão.',\n",
              " 'Vinte pessoas, incluindo crianças, morreram desde domingo em Porto Príncipe, capital do Haiti, devido a uma guerra entre grupos rivais de crime organizado, que obrigou à fuga de milhares de pessoas.\\nhttps://t.co/HjA94K60rK',\n",
              " '\"peido de xereca é uma das 7 maravilhas do mundo\"\\n\\n- haitiano, Vinícius.',\n",
              " '@selecaodopovo12 @gab_alvares @Kauannpr @Cauacm4 @LuanMachado27 @gabigol Nunca fez gol na seleção em jogos oficiais, apenas amistosos contra o Haiti',\n",
              " 'não aguento os haitiano me oferecendo pano de prato',\n",
              " 'Guerra entre grupos de crimes organizado fazem 20 mortos no Haiti https://t.co/DsKJT7WYSC #mundoaominuto',\n",
              " 'América Central e Caribe\\n#belize #cuba #dominicana #guatemala #haiti #nicaragua #prensaltina #operamundi \\n\\nBelize\\n\\nPrimeiro-Ministro de Belize inicia hoje visita oficial a Cuba\\nhttps://t.co/8CFnfi1ZVi\\n\\n Cuba\\n\\nCuba acusa Estados Unidos de exclusão da ilh… https://t.co/6vmnl2iLzq',\n",
              " 'Guerra entre grupos de crimes organizado fazem 20 mortos no Haiti - https://t.co/MqSFYNo5Y6 https://t.co/sEYKOuFJ3N',\n",
              " '[28/4 00:34] Myc ♡: Boraaaa\\n[28/4 00:34] Myc ♡: Tá onde\\n\\nhaitiano fdp me provocando, sabendo q tô longe p um crl aaaaaaaa',\n",
              " '@Juliana96622245 Nossa, América Latina, porque não compara com Haiti, Guiana, Guatemala... Aí a gente arrebenta hahaha',\n",
              " 'Perdido na tradução: réu haitiano é absolvido após 16 meses sem intérprete - 21/04/2022 - UOL TAB https://t.co/Ji035hS7xk @UOLNoticias #UOL',\n",
              " '@EvDiegoDuarte A dispensação mudou você ver coronavirus, terremotos no decorrer dos anos no Haiti, Japão, Itália, recentemente nas ilhas Tonga, no México. As dores de parto se intensificando para chamar essa geração que o tempo acabou e que #EternalThroneOfGod',\n",
              " '@Duu_Haiti @barbarapiovesa bagulho doido mane, até no olho kkkkkkkkkkkk',\n",
              " '@Duu_Haiti @barbarapiovesa kkkkkkkkkkkkk calma ai cara',\n",
              " '@Rhobel5 Tem duas máquinas lá...Essa mais dolorida chama-se Haiti. Mas a LED é outro processo, aí não deve doer mesmo',\n",
              " 'Pedi um ifood no trabalho e foi entregue por um haitiano, ele não falava Português, não conseguiu entender o que eu queria dizer no código em PT, ai eu falei FR e o carinha abriu um sorriso de orelha a orelha',\n",
              " '@barbarapiovesa @teamomae_  tu gosta é dessas né safado🤣🤣🤣🤣🤣🤣',\n",
              " '@CamargoDireita @elonmusk Eu passei a utilizar o termo uma vez que entendi que o Nazismo consiste na Luta de Classes associada à Luta Racial. E tomei também como exemplo as revoluções de cunho negristas que ocorreram no Haiti. Aonde os negros culparam os brancos e pardos pela miséria matando a maioria',\n",
              " '@cajr1569 O ovo da serpente foi gestado no Haiti pelos generais de LuLLa. A serpente nasceu em 2014 na AMAN no governo DiLLma.',\n",
              " '@cartacapital 🤦🏻\\u200d♀️ cada vez mais ridículo esse daí. acabou! ouve o haitiano do futuro: acabou!',\n",
              " '@Pietraroja1 @monark E ranking de liberdade econômica não é necessariamente melhor qualidade de vida, provas: gana, Guiné Bissau, Quênia, haiti, Etiópia MALAWI, tem maior liberdade econômica que o Brasil, e todos os países citados tem péssimas qualidade de vida, inferiores ao Brasil.',\n",
              " 'Concacaf W.U17, Qualifications Inde 2022:  @fhfhaiti https://t.co/fNkRzqwYF7',\n",
              " 'pra que caralhos eu tenho q estudar revolução do Haiti pra fazer propaganda casper libero????????',\n",
              " '\"A construção de um paradigma socialista é a única alternativa que os povos têm para enfrentar a crise capitalista.\"\\n          – Camille Chalmers, dirigente da Plataforma Haitiana de Reivindicação de um Desenvolvimento Alternativo (Papda)\\n\\nhttps://t.co/MoH3rlAIEf',\n",
              " '@RDozoretz @CuriosidadesPRL Gabriel se peidava todo escutando o nome dessa lenda KSKDKSKSKSK',\n",
              " '@luizbtc13 @Rukasz_ @monark Exato né, isso deu muito certo no Haiti não concorda? Os EUA deixam os países fazerem oque quiserem né amigão? 😀',\n",
              " '@CuriosidadesPRL Esse cara lesionado pro manchester é baita de um reforço',\n",
              " '@DesejoDeMatar @kenmiIes Churrasquinho grego é IDH do Haiti depois do terremoto',\n",
              " 'Ajudei um haitiano a pedir uber na estação enquanto espero o Louran\\nA gay sempre atrasa',\n",
              " 'Comprei um fone do haitiano esperando receber um jbl SIM af meus 30 reais',\n",
              " 'Povo do hotel que trabalho é tudo do Haiti, eu não entendo nada que eles falam, mas sempre parece que tão brigando',\n",
              " 'KKKKKKKKKK os cara chamando o Cruz de filho de haitiano',\n",
              " 'Acolhida aos nossos irmãos do Haiti. https://t.co/3naJdljBWH',\n",
              " '@Lincon_bala Parei com isso primo kkkkkkkkkk',\n",
              " 'Vacilão cai sozinho, isso é de lei.',\n",
              " '@Vilbs1 @UOLNoticias Nas Américas, só o Haiti (!!!) consegue ser pior do que BolsoGuedes',\n",
              " '@Vilbs1 @UOLNoticias O Banco Mundial reduziu para 0,7% a projeção para o crescimento da atividade econômica no Brasil em 2022. O número é o segundo menor para a região da América Latina e Caribe, atrás apenas do Haiti, que deve ter recessão de 0,4%.\\n\\nhttps://t.co/jaVfP9npt3',\n",
              " '@josephlunieOFF @GazetteHaiti No kk',\n",
              " 'Acho que o podemos vai lançar o Santos Cruz a presidente, mas lança lá no Haiti, por lá 0,1% é certo 🤣 https://t.co/jGrcatkFaO',\n",
              " '@podemos19 Lança o Santos Cruz a presidente.\\nMas lança lá no Haiti, acho que lá ele consegue 0,1%',\n",
              " 'Gente eu to me sentindo muito burra kkkk e americana \\nEu não sei pq eu achava que Jamaica e Haiti era na África kkkk pqp e é perto do Brasil até \\nE eu vendo as ilhas né sei todas menos QUE ERA ALIIIIII',\n",
              " 'Haitiano não é Africano !!!\\n#Brasil',\n",
              " 'Gen. Heleno odeia o PT pois foi removido do comando de missão da ONU no Haiti. Em 2005 ele comandou chacina naquele país, que é um país miserável, o mais pobre das Américas. Também a criação da Comissão Nacional da Verdade, em 2011, que investiga os crimes do regime militar.',\n",
              " 'Esse haitiano falando estranho do meu lado , se tiver falando mal de mim o bglh vai fica de vdd kkkkk',\n",
              " '@Neiacwb @vuduzaum @sapoboiazul3345 @Brunobp83 @spinellirio @juliette Tim Maia era muito bom,mas não era santo.\\nMorreu deixando as monstruosas dividas para os seus filhos,como herança.\\nImagine o Tim Maia comandando o Brasil? Iríamos estar no mesmo patamar do Haiti.',\n",
              " '@priskka Minha filha mandou mensagem q tava indo no Circo Voador em um show, ela falou o nome e eu 🤷 é um DJ do Haiti 🤭🤭 mas aprendo muito com meus filhos, algumas recomendações eu guardo outras só conheço mesmo',\n",
              " 'comprei um fone bluetooth numa loja X aqui da cidade e a pessoa disse q era original… 1 semana depois o trem começou a xiar mais do que aqueles fone que os haitiano vende 🤡',\n",
              " 'Meo acabei de comprar um chips de banana com gengibre e mds q delícia, uma receita Haiti',\n",
              " 'como a OTAN e a ONU, quanto sua própria experiência no ‘campo’, como em seu recente engajamento na Missão das Nações Unidas para a Estabilização do Haiti (MINUSTAH).',\n",
              " 'Menina da empresa 🙋🏻\\u200d♀️: \"sotaque da hora esse seu, menino, tu é de onde?\"\\n\\nEu 🙋🏿\\u200d♂️: \"Sou do Haiti, amiga!\"',\n",
              " 'receber refugiados\\n\\nda ucrânia: 🤩🥰❤️🙌🏻🥳🎉\\n\\nhaiti e venezuela: 🤬😡🤮😴🖕🏻',\n",
              " '@tavosmm P.S.: Falando em Haiti, curiosa omissão da França, que teve 14 constituições em sua história e não está na coluna da direita por razões inexplicáveis.',\n",
              " '@tavosmm É culpa da República Dominicana e do Haiti o excesso de constituição deles ou toda vez que a ilha marcada pela única revolta de escravos bem sucedidas da história tentava se estabilizar, as grandes potências iam lá e metiam o sarrafo neles?',\n",
              " 'Falam de desemprego e fome no Brasil mas, vocês já viram um haitiano passando fome e, desempregado aqui?',\n",
              " 'Centenas de famílias deixam suas casas no Haiti, fugindo da violência de gangues https://t.co/rnLnbgayS3',\n",
              " '@Rafa_mguimaraes @MaxALeite já. já ouvi falar tb do imperialismo estadunidense. de como os eua, potência mundial capitalista, foi um dos maiores responsáveis pela atual situação do afeganistão, cuba, haiti, além das atrocidades no Vietnã e VARIOS outros países. eu poderia citar muita merda do capitalismo.',\n",
              " 'Lideranças do Podemos devem definir hoje o lançamento da candidatura a presidente do general Santos Cruz. O militar está acostumado a missões difíceis. Já comandou a Minustah e a Monusco, forças da ONU instaladas no Haiti e no Congo.',\n",
              " '@JornalismoWando Eu via esta estrutura imponente ali na serra e não sabia o que era. Chegando em GRU o avião faz a curva bem em cima...',\n",
              " 'Sa e nude ok😍 https://t.co/RELheBWOUW',\n",
              " 'E, claro, temos sempre o caso do Haiti, forçado a pagar uma dívida brutal, cujas consequências ainda se conseguem observar no seu desenvolvimento\\nhttps://t.co/d9QjsGS5Ge',\n",
              " '@isaacvollmer @FloperCS @hoje_no Só de missão de paz no Haiti \\n e a ocupação dos morros no Rio já valem como muitas guerras',\n",
              " '@SumanaiSaber realmente, se não fosse por isso já estaríamos pior que o Haiti',\n",
              " '@BabyDogeCoin @elonmusk Quer dizer @BabyDogeCoin vai pra lua.',\n",
              " '@FalcaoB1997 @lucasbatista_94 @FelipeMartWins @brunocassucci E mesmo que fossemos mais prósperos que os argentinos (não somos). É certo fazer piada com a pobreza alheia? Pelo seu raciocínio eu posso zoar um haitiano, pq o povo dele realmente vive na miséria...',\n",
              " 'Centenas de famílias deixam suas casas no Haiti, fugindo da violência de gangues https://t.co/LQQ83JN5N7',\n",
              " '@lkauan_zl @vjotar Vou manda os haitiano pra sua rua aí, aé esqueci q já tem',\n",
              " 'Só quero ir embora',\n",
              " '@flaviocostaf Vocês não acham que estrangeiro aprende português com música chata né? Aprendem com as top grudentas!',\n",
              " 'por isso eu represento tanto o Haiti',\n",
              " '- Haitiano inocente é solto graças a intérprete entusiasta de línguas pouco estudadas\\nhttps://t.co/7aXP9ybuHo https://t.co/wRodaS16gQ',\n",
              " 'Do jeito que a Tany Ora dança, até parece que é uma jovem angolana que vive no Rangel. Essa Haitiana está a nos representar bem nos E.U.A 🔥👌🏽\\n #ilovekuduro #Kuduro #tudopelokuduro https://t.co/Z7iDSCPtK1',\n",
              " '@KrolChacon @bibs_tweets Um haitiano de 1,40 de altura mkkk',\n",
              " '@paoladcs Sim e com certeza, mas já temos por onde começar alguns, tipo militar que atuou sobre o comando do Santos Cruz no Haiti, dando a entender que não seria ele o responsável pelo sucesso da missão.',\n",
              " '@lucmacedorj Vou seguir porque sou boina azul tbm 🔪💀 MINUSTAH HAITI 2011/2012 Força de Paz 🇧🇷',\n",
              " 'Rapaz, olha o Haiti entrando nas eleições!! https://t.co/vAm7365t5t',\n",
              " 'Esse João é muito ruim pqp 😂😂😂😂',\n",
              " 'gente haitiano trouxe um gato pra que pra casa kkkkkkkkkkkk pense numa gato fofo dengoso \\U0001f979\\U0001f979\\U0001f979\\U0001f979 mas chihuahua botou o gato pra fora rapidinho',\n",
              " '@Atletico MORRERAMM, DO NADA. Tem técnico ai? tem meio campo e treinamento???\\nJogos ganhos, imaginem os dificeis. \\nHaiti era mais acordado na Copa',\n",
              " '@Minelle_Kajuru @Atletico Time morreu, apagou. Haiti na copa tava mais acordado.',\n",
              " '@ArllenMarques09 Amigo, eu não estou entendendo. Time morreu, apagou, não parece nem profissional. Pior que o time do Haiti na copa',\n",
              " \"esse set list tá muito bom, the lightning II tomou o lugar de power out na hora da transição pra rebellion (lies). também gosto desse 'momento régine' (haiti/electric blue/sprawl II).\",\n",
              " '@m_operador @crcosta12 Haiti ficou em segundo e Rocha pombo em terceiro! 😂😂😂',\n",
              " '@BrazilFight Huahuahuahua nem no Haiti ele ganharia',\n",
              " '\"....O Quasímodo vai fazer daqui um HAITI GIGANTE, e os palermas que não mexeram uma palha para lutar contra isso vão enveredar pelo choro e ranger de dentes mais INEFICAZ da História - só pra variar, porque não sabem fazer outra coisa: COMBATER MESMO a desgraça ninguém quer... https://t.co/ChLRLL5heY',\n",
              " '@revistaforum Nunca teve que enfrentar uma guerra real?????? Amigo, já estou história??? Brasil na Segunda Guerra?? Brasil no Haiti??? Brasil nas Maldivas??? São muitos desnecessária mesmo, tanto que o próprio exército ajuda a levar água para o Nordeste. Parabéns!!',\n",
              " '@mariabopp Encontrei a entrevista mas, só existe um trecho dela agora (aqui)... E, destaque para outra fala dela: \"tem hora que a praia fica dividida, esse trecho parece Mônaco e o resto Haiti\" https://t.co/Sa9i5wKUDt',\n",
              " '\"Ain, pq o PIP do Haiti é de 43 bilhões.\"\\n\\nDesgraça, o q o Elon ia fazer com a p0rra de um país inteiro?? O tuinter é mais legal. https://t.co/fhJFZBKi7Y',\n",
              " '@gunsnrozies ONU estima 8 bom para acabar com a fome no mundo? Fizeram-na estimativa no jardim de infância? Jura que com somente 8 bi são capazes de auxiliar Haiti, Iêmen, Libéria, Chade, Níger, Congo, Moçambique, Malawi, e erradicar a fome no mundo.',\n",
              " 'Até este presidente desastroso, o Chile era a nação mais próspera da região fruto da desburocratização e liberalização da economia promovida pelos “Chicago Boys” (economistas liberais) do general Pinochet, que herdou do socialista Allende um país mais pobre que o Haiti à época. https://t.co/kTMY8dVrKo',\n",
              " '@trama_montanha @LulaOficial eu acho que tá funcionando como sempre funcionou, pobre se fodendo, alias (a ultima) no governo lula a gente exportou isso né? fomos até o Haiti pra matar mais gente.',\n",
              " '@zeliaduncan livros para o mundo inteiro, especialmente para meu país   Haiti, que eu amo tanto que os políticos em  estão exilando  os haitianos porque estão armandos os  vagabundos para exilar haitianos  competentes para que eles possam sempre permanecer no poder.',\n",
              " '@jose_simao Haitiano  e africanos são todos loiris de olhos azuis',\n",
              " '@anf_cesar O povo haitiano conhece.',\n",
              " 'Messi se fizer um gol contra o Haiti https://t.co/s4YCF8mDlk',\n",
              " '@BlogdoNoblat Acho que o título o Bolsonaro já tem, de CAPITÃO! Acho que o Capitão deveria cantar para o cantor socialista que vive de caviar, a seguinte música... \"O Haiti NÃO  é aqui\"...',\n",
              " '𝗔𝗻𝗲𝘅𝗼 𝟭\\n\\n– Antígua e Barbuda🇦🇬\\n– Argentina🇦🇷\\n– Bahamas🇧🇸\\n– Barbados🇧🇧\\n– Belize🇧🇿\\n– Bolívia (Estado Plurinacional da)🇧🇴\\n– Brasil🇧🇷\\n– Chile🇨🇱\\n– Colômbia🇨🇴\\n– Costa Rica🇨🇷\\n– Cuba🇨🇺\\n– Dominica🇩🇲\\n– Equador🇪🇨\\n– El Salvador🇸🇻\\n– Granada🇬🇩\\n– Guatemala🇬🇹\\n– Guiana🇬🇾\\n– Haiti🇭🇹\\n(241/♾)',\n",
              " 'A história mudou no dia do julgamento, em janeiro deste ano, no Fórum da Barra Funda, na capital paulista, quando o mestrando do Programa de Pós-Graduação em Linguística Bruno Pinto Silva, fluente em crioulo haitiano, serviu de intérprete no tribunal\\n\\nhttps://t.co/mdZhnuCGgD',\n",
              " 'Existe mitologia grega, egípcia , nórdica , celta, centro-africana, cubana, haitiana, e assim por diante. Todas elas carregam significados, alguma beleza, e para min que sou cristão não passa disso. #carnaval22',\n",
              " 'Digo com tranquilidade que fiz o pior Toy Model da história da ufabc sobre o Haiti nessa disciplina de introdução ao pensamento econômico e fechei com 10',\n",
              " 'o homem cava🤷🏿\\u200d♂️',\n",
              " 'A equipe Pérolas Negras foi criada no Haiti, fruto de um projeto social que alia futebol e educação. Chegou ao Rio de Janeiro em 2016 e ingressou na Federação de Futebol do Rio de Janeiro (Ferj) em 2017.',\n",
              " 'BOMB TACO TRIO https://t.co/3AwxKUFyc3',\n",
              " 'SURF &amp; TURF TAQUITOS https://t.co/mNIjreqmxx',\n",
              " '@_vegcat Alguém que faz uma pergunta dessas é pq com certeza nunca fez um certidão do haiti/carteira de trabalho ou vacina… amg, faz ele fazer pra ver o sofrimento!!! 🤩 shahzhzh',\n",
              " '@danielFTN1 Cara vc compro nos haitiano essa bosta',\n",
              " '@RodrigoRaynner É errado político roubar e grande parte da culpa das misérias do mundo sao pela distribuição desigual de riqueza \\nUma coisa não invalida a outra\\nA compra de um app pelo Elon Musk equivale ao dobro do PIB do Haiti em 2020, isso é loucura',\n",
              " '@gadofobica1 Queria que ouvisse os assassinados do  Haiti?',\n",
              " '@carlosnb31 @cianzeira Então em dois anos o governo do Haiti recolhe o suficiente para acabar com a fome. Talvez demande mais tempo, considerando que tem mais gastos, mas o ponto segue o mesmo: estoque (45bi a vista) não deve ser confundido com fluxo (20bi/ano)',\n",
              " '@cmse_exercito @simpisp Mais um General mequetrefe..nada fazem para defender o povo brasileiro dos inimigos alojados dentro do STF...mas vão defender o povo do Haiti e voltam achando-se heróis.',\n",
              " 'haitiano fala francês eu acho chiquerimo',\n",
              " '@cianzeira Entendo seu ponto e, como critica ao sistema, faz sentido\\nMas o PIB do Haiti em 2020 foi U$22,43bi\\nA grana dessa negociação equivale ao dobro do PIB de um país onde se morre de fome\\nConsiderando q ainda estamos no sistema capitalista, essa grana acabaria com a fome em um país',\n",
              " 'Enquanto Ciro Gomes defende a esquerda,\\nLula passa pra história como o presidente que mais encarceirou brasileiros pretos, jovens e pobres. Foi o presidente que incentivou as UPPs e o boom de milícias pelo RJ e foi quem levou as Forças Armadas Brasileira para ser polícia no Haiti https://t.co/Ga2V1Madbz',\n",
              " '@_gostosopill Esse argumento é uma merda, tem missão Ortodoxa no haiti, qualquer etnicidade e nacionalidade pode ser ortodoxo',\n",
              " '@haitizika10 @ajuliabergmann q mentira q chegaram boatos até mim hj em haiti',\n",
              " 'um haitiano perguntou que curso eu fazia, falei que geologia, ele perguntou se eu gosto de terra, falei que gosto de terremoto e ele me mandou ir trabalhar no haiti. momentos.',\n",
              " '@SF_Moro Bom está no Haiti, exemplo para os Milicos brasileiros? Suas opiniões são o mesmo esgoto da extrema direita, burra e incompetente, deslumbrada com os EUA e baba ovos',\n",
              " '@LulaOficial com este papo se vc for eleito vamos ultrapassar a Venezuela+Haiti+Cuba, só sobrara o pó \\n\\nGraças a Deus temos em quem votar de verdade \\n\\n22 - Jair Messias Bolsonaro  e  confirma \\n\\n#bolsonaro2022 https://t.co/y0FF0gnxzs',\n",
              " 'o cara que trabalha comigo qnd chega alguem de fora pra passar na catraca (principalmente da Colômbia/Haiti), ele imita o sotaque e tenta falar igual, e a pessoa começa a rir, pq ele é pessimo, tadinho',\n",
              " 'Tô atendendo um casal de haitiano, eles começam a conversa eu acho que eles tão me xingando kkkkkkkkkkk',\n",
              " 'Vocês namorariam um haitiano 🇭🇹?',\n",
              " 'Meu deus música de haitiano é mt chata pqp (n me cancelem',\n",
              " '@dspautzsc @Damiao_FLN Estamos vivendo a divisão da sociedade entre os imunes e a ralé. Cada vez mais vai fazendo sentido a música do Caetano: Haiti.',\n",
              " '@SF_Moro Haiti, Serra Leoa, Níger, Eritreia, etc. todos capitalistas também são desastre econômico,  a diferença é que Cuba tem um dos menores índices de mortalidade infantil e analfabetismo do mundo.',\n",
              " '@SF_Moro Então vá pro Haiti, senhor ex-juiz parcial de Curitiba e eterno mentiroso.',\n",
              " 'Trata da concessão de visto temporário e de autorização de residência para nacionais haitianos e apátridas afetados por calamidade de grande proporção ou situação de desastre ambiental na República do Haiti.\\nhttps://t.co/px4Vf5t8M2',\n",
              " 'A portaria que prevê o acolhimento humanitário de haitianos no Brasil está em vigor desde 2018. Sua renovação, recomendada pela @dpuoficial , era uma demanda da sociedade civil organizada em torno da temática migratória e da própria comunidade haitiana https://t.co/R22s7PoaPh',\n",
              " 'Os caminhos de A Cruz Haitiana na coluna de hoje deste meu ídolo chamado @humbertotrezzi . Um dos mais premiados jornalista do Brasil. Obrigada, meu querido, pelo seu apoio. Juntos somos mais fortes!! Em breve, novos lançamentos na Europa! https://t.co/6GKZIuLSid',\n",
              " '@rbenevidesceara Manda a foto sua do Afeganistão, do Haiti....',\n",
              " '@arielpinkpill Brasil tem umas denúncias horríveis desse nível no Haiti',\n",
              " '#Coronavirus . Pessoas totalmente vacinadas 4 629 168 714 % da população: 59,5% #Covid19   Níger 7% Nigéria 7% Senegal 6% Burkina Faso 6% Tanzânia 6% Mali 5% Camarões 5% Malawi 5% Sudão do Sul 4% Madagáscar 4% Papua-Nova Guiné 3% Iémen 1% Haiti 1% Congo 1% Burundi 0% #Ucrania https://t.co/7sjyHhBRsB',\n",
              " '@JornalismoWando Impressionado como alguém de esquerda acha correto escolher o valor do produto pela nacionalidade ou outro critério (poderia ser por orientação sexual, etnia, ou qualquer outro estereótipo).\\nSe fosse um venezuelano, cubano, haitiano, equatoriano, argentino tudo bem?',\n",
              " 'Tadinha, ela só começou a entender a vida depois que o Lula tinha roubado todos os Brasileiros, a guerra no Haiti tinha por fim acabado depois de 10 anos, os ataques terroristas aos EUA já tinham passado, mas agora é que está complicado... Chega a ser bizarro. https://t.co/3Et6k1RywB',\n",
              " '@uniaodefasmem Haiti MAIARA E MARAISA NO METROPOLES',\n",
              " '@leokbelo13 Nem fala uma coisa dessas! Esse cara de novo será o fim de tudo! O Haiti será aqui!',\n",
              " '@SF_Moro Marreco, vai estudar. Bom mesmo é no Haiti, quac:\\nhttps://t.co/Y1DHfGZubr',\n",
              " '@instmillenium Gostaria da resposta do Instituto Millenium sobre o que faz o Haiti ser pobre, como geógrafo estou muito interessado..',\n",
              " '@SF_Moro Aposto que o dileto, ex magistrado, ex ministro, ex bolsonarista, ex pré candidatos, ex alguém nunca leu As Veias Abertas da América Latina, até porque nunca leu nada.\\nSe não fosse a revolução, cuba seria uma monocultura de cana, provavelmente algo parecido com o Haiti.',\n",
              " 'O Haiti, está sendo transposto para\\xa0 o Brasil.',\n",
              " '5. Luís Eduardo Ramos, ministro-chefe da Casa Civil, atuou de 2011 a 2012 nas tropas brasileiras;\\n6. Fernando Azevedo e Silva, ex-ministro da Defesa, atuou de 2004 a 2005 como chefe de operações do contingente brasileiro no Haiti;',\n",
              " 'Impressionante que a senha para os militares se imiscuirem na política tenha sido por causa da Comissão da Verdade. Dito isso, aprendam que com a desordem militar, não existe passar pano. Fizeram isso com os ultrajes da Ditadura, assim como na MINUSTAH (Haiti).',\n",
              " '@LulaOficial Ser contínua roubando como antes, em 2 anos  estaremos à  frente da Venezuela em 4 anos da pra ficar no mesmo nível do Haiti...',\n",
              " 'O Haiti, está sendo transposto para\\xa0 o Brasil.',\n",
              " 'Vi um haitiano na rua que é a cara do Tupac.',\n",
              " '@camasao50 Tem que ser muito burro ou alienado pra achar que 7 bilhões de dólares acabaria com a fome no mundo. Isso não acabaria com a fome nem de um bairro do Haiti. \\n\\nUma cidade pequena aqui no Brasil consome mais que isso.',\n",
              " '@globetrottsky \"simplesmente fique atento\"\\n\\nai vc vai ver e ficar atento pra eles e literalmente uma lista de cuidados a se tomar na nicaragua ou haiti',\n",
              " '@DIADFORABOZO Nem precisa \"navegar\" tão longe, lembrem o que estes VERMES Fizeram no Haiti, Fazem na Amazônia, Fizeram e Deixaram Fazer durante a intervenção no Rio, das Armas e do Treinamento de \"Efetivos\" que fornecem às Milícias.\\nParecia ser \"só Banda Podre\", virou BANDALHA APODRECIDA.',\n",
              " '@marcosrbeserra @hmm_ok_bro @fabi__mac @anaclaraac Claro né, haiti, México, São países super socialistas né? Ah! Vá a merda, a diferença é que uns se apropriaram e exploraram outros países para se manter bem economicamente, nem por isso a maior parte da população deixa de passar fome.',\n",
              " '26/04/2022 - DESTAQUES DO DIÁRIO OFICIAL DA UNIÃO\\nMINISTÉRIO DA JUSTIÇA E SEGURANÇA PÚBLICA - Embaixada do Brasil no Haiti vai conceder visto para acolhida humanitária\\nhttps://t.co/uQ1v2YiZeI',\n",
              " '@ndossanx @shutuppppx @JaMesfuckindea @bchartsnet Sim seríamos que nem o Haiti 🥰🥰🥰 Colônias Inglesas dão tão certo',\n",
              " '@_henricvs_ @ReciclajeR Xuxa, anticucho de haitiano.',\n",
              " '@Clauwild1 @lordivan22 Como é triste lembrar que o país que em 2021, assumiu ponta como o mais pobre das Américas, superando o Haiti, era o + promissor das Américas, antes de Hugo Chaves se assumir ditador do país.\\nA Venezuela, entre outras riquezas, possui terceira maior reserva mundial de petróleo.',\n",
              " '@PATRlOTAS @gen_heleno Herói do Haiti, Patriota e Cabra Bom.',\n",
              " '@o_lambodara @Weuller_Fisio Eu odeio 99% das pessoas e conseguia trabalhar terceirizado,  nem foi tão ruim. Pior é lidar com argentino, surinamês e haitiano.',\n",
              " '@FilipeCampante Heleno comandou as tropas multinacionais no Haiti. Depois da primeira missão de pacificação com número significativo de mortes na população, foi demitido e trazido de volta ao Brasil. Daí seu ódio contra Lula e Dilma…',\n",
              " '@flaviogomes69 Somente 4 anos do PIB do Haiti. 10 milhões de pessoas trabalharão 4 anos, continuaram miseráveis e produzirão 44 bilhões de dólares. É isso o capitalismo.',\n",
              " '@marques_tayy @RodriguesHgr kkkkkkkkkk é os do haiti, original tá claro',\n",
              " '@UN Até agora os EUA já enviaram cerca de 3 Bilhões de dólares à Ucrânia desde o início da invasão Russa, para compra de armas! Já pensou se doa-se esse capital para matar a fome no Haiti. A prioridade dos poderosos infelizmente é a barbárie.',\n",
              " 'Jacques Roumain escreve \"Quand Bat le Tam-Tam\" no início dos anos 20, publicado pela primeira vez nesta mesma década no jornal La Revenue Indigène, um precioso periódico conhecido por fazer circular a voz de tantos poetas no Haiti. \\n\\nLeia em:\\nhttps://t.co/v9xRsjqoTH',\n",
              " '@leduardo95 @caiocgomes Exemplo: uma trans do Haiti e outra dos EUA vão ter um rendimento brutalmente diferente apenas porque a primeira não recebe aporte financeiro igual à irmã poucos milhares de quilômetros ao norte.',\n",
              " '@gen_heleno Já tá decrépito e é hora de se aposentar e passar uns dias no Haiti. O povo de lá vai te receber super bem.',\n",
              " 'Eu não aguento mais prof falando de revolução francesa e EUA sem sequer mencionar a revolução do Haiti',\n",
              " '@FilipeCampante Alguém lembra do Heleno comandando as tropas multinacionais no Haiti? Morreu tanta gente que ele foi demitido e chamado de volta para o Brasil!!!',\n",
              " 'Sim, general broxa que gasta rios de dinheiro público pra fazer prótese peniana e vai pro Haiti matar preto né \\n\\nVá tomar no meio do seu cu, Marcelo https://t.co/aOOwW0vbWX',\n",
              " '@gen_heleno Múmia golpista. Haiti manda lembrança',\n",
              " '@thiiroc @srprogrammer Um terceiro ponto seria: prefiro Venezuela e Cuba do que Haiti. (espero que vc tenha entendido a referência)',\n",
              " '@deslegitimadora @patrulhaptralha @HelemAzevedo Você deve estar certa, mas a origem é da mesma região.\\nA umbanda tem traços indígenas, lá deve ter influência regional também.\\nO Vudu do Haiti e de New Orleans, tem coincidências com a matriz africana e Indiana e origem em uma mulher de origem francesa.',\n",
              " 'motel haiti virou motel el mar\\n\\né o fim de uma era pros moradores de jardim camburi hahahahahahah vai em paz, motel haiti, você sempre será lembrado 🤣',\n",
              " 'Mano eu sei lá q q tem q fazer na simulação só sei q a Guatemala apoia sua irmã latina Haiti https://t.co/RDhntMGvDK',\n",
              " '@PATRlOTAS @gen_heleno Quasimodo. Só serviu pra levar desgrac4 pro haiti, durante sua vida vag4bund4 de milico.',\n",
              " 'Bravo #Haiti https://t.co/rmTf9Bm2wH',\n",
              " '@sadicyntrao @paulocruzphi Cados por militares brasileiros. Haiti destruiu a França e até hoje paga por isso. Dividem o solo com Rep Dominacana e já se nota uma baita diferença.',\n",
              " '@Divagandoverde @paulocruzphi Tem vários.Agora tu não pode  simplesmente chegar aqui ,num país diferente ,e ter a vaga garantida.Conheço haitiano que dá aula de francês, por exemplo.',\n",
              " '@sadicyntrao @paulocruzphi Cuba e sua grande maioria recebeu e ainda recebe grana, ajuda de países como Brasil (construímos um Porto), Venezuela, URSS (Rússia), China. Cuba consegue lucrar com turismo. Mas já Haiti sofre com a invasão do exército da ONU aonde há casos de corrupção graves e estupros prati',\n",
              " '@sadicyntrao @paulocruzphi Tua cria um enredo só para tentar se conformar com tua narrativa ilusória. Haiti foi o primeiro país a buscar a independência, na noite da Degola em que escravos se revoltaram e aniquilaram os franceses. Desde então a Europa faz do país um inferno. Acha mesmo que eles estão bem .',\n",
              " '@Barreto269 Na Guerra do Yon Kippur\\nForça de esralizacao no Haiti\\nForça tarefa contra pirataria no chifre da África \\nEstação na Antártida\\nEstação de São Pedro e São Paulo \\nOperação de pacificação de morros no Rio de Janeiro',\n",
              " '@Divagandoverde @paulocruzphi Aí que me refiro.Os negros do Haiti e Senegal que migraram para o Brasil e outros países são aqueles inconformados com situação.Alguns estão se dando muito bem ,mas vários (maioria)se conformam em vender bugiganga ,sempre com celular na mão,em ruas da cidade.',\n",
              " '@juujunegreiross e se contar haiti colônia frança… fez bem de estudar ju',\n",
              " '@sadicyntrao @paulocruzphi A questão geográfica mostra a diferença entre os países no mundo no eixo do Norte e do sul. A questão geográfica também serve para te lembrar que há negros do Haiti e Senegal lutando por um espaço no Brasil, que foi invadido e saqueado por brancos.',\n",
              " 'Nesse fim de semana eu joguei Victoria II com o Haiti\\n\\nComecei mal mas terminei mais ou menos, relativamente bem pra quem não sabe jogar nada da paradox',\n",
              " '@edmundo_burgos @DaniloThomaz88 Fala de emancipação e bajula uma nação que fomentou massacres no Haiti, na África, e outros lugares? Piada né? Conclui que eu sou defensor de absolutismo como? Tirou do cu de algum branco ocidental esse argumento né?',\n",
              " '@Bran_Cunha Já estão nesse nível? Haitiano e folgado mesmo',\n",
              " '@SergioChapelao Eles não tem o respeito, são um apêndice muito caro, a esquerda errou quando os enviou em missão de paz ao Haiti, eles agora acreditam que podem administrar o país e querem se meter na gestão do Brasil, o presidente LULA deve reconduzir estes militares aos quartéis.',\n",
              " 'eu passei 30 minutos estudando a revolução haitiana pra ele escrever era das revoluções(francesa e industrial)',\n",
              " '@liberal22_rs Dissolver esse STF corrupto e todos com Asilo no Haiti.',\n",
              " 'Brasil a frente apenas de Haiti e Paraguai https://t.co/l041v5UKAF',\n",
              " 'Haiti e Conto cheios de capitalismo. kkkkkkkkkkkkkkkkkkkkkkkkkkkkkkkkkkkkkkkkkkkkkkkkkkkkkkkkkkkkkkkkkkkkkkkkkkkkkkkkkkkkkkkkkkkkkkkkkkkkkkkkkkkkkkkkkkkkkkkkkkkkkkkkkkkkkkkkkkkkkkkkkkkkkkkkkkkkkkkkkkkkkkkkkkkkkkkkkkkkkkkkkkkkkkkkkkkkkkkkkkkkkkkkkkkkkkkkkkkkkkkkkkkkkkkkkkkkkkkkkkk https://t.co/kyivjRFmLr',\n",
              " '@MyPCHatesMe @GalinhouG @Braga_Sv @Militanteschato Guatemala, Haiti, Congo, Gabão \\n\\nTodos países capitalistas e os 2 últimos com governos de extrema direita \\n\\nBem, eu acho que o capitalismo tbm n deu muito certo né',\n",
              " 'Tarcísio Gomes de Freitas\\n@tarcisiogdf\\nEngenheiro, AMAN, IME, Exército, Missão de Paz no Haiti, CGU, DNIT, consultor legislativo, PPI. Ex-ministro da Infraestrutura e pré-candidato ao governo de SP.',\n",
              " '@PATRlOTAS @gen_heleno Esse aí queria dar o golpe dentro do golpe, na ditadura. Fez parte daquela tchurminha canalha que dizia que Geisel era COMUNISTA!!!! Um boçal, picareta, mamador de tetas. Inclusive, parece que o povo do Haiti não curte muito esse militar vagabundo, não........',\n",
              " '@gen_heleno Querer que um velho dependente de Viagra, prótese peniana e lubrificante anal entenda de pesquisa é querer demais. Faz uma visitinha no Haiti.',\n",
              " '@DaniloThomaz88 Pisar e conhecer a história haitiana é saber que o que o país sofre é fruto do imperialismo e das ações pautadas nesse iluminismo ... Desconhecer a história deixa a galera meio descompassada ou pode tratar-se de puro mau caratismo, mesmo.',\n",
              " '@gen_heleno @jairbolsonaro Operação de general Heleno no Haiti deu 22 mil tiros e deixou total desconhecido de mortos https://t.co/hfT4lrV2K3',\n",
              " '@cleidsontex Esqueceu os haitiano e o terror heleno.',\n",
              " '@holmes_pab Até hoje, a saída do ministro José Viegas está sem resposta. A missão no Haiti foi outra 💣. A intervenção no RJ serviu pra quê mesmo? E a turma da corrupção nas olimpíadas? Ministro Barroso vive em uma realidade paralela?',\n",
              " '@Felipe210991 @LucianoSDEB @blogdopannunzio @DefesaGovBr @MPF_PGR @STF_oficial @policiafederal Pacificou o Haiti? Os militares fizeram horrores por lá. Até de estupro foram acusados. O Haiti continua um barril de pólvora até hj. Até o primeiro ministro foi assassinado.\\n\\nhttps://t.co/PrnYOjoLa8',\n",
              " '@AugustoAssisFSA @paulo_outra_vez Sim, o Açougueiro do Haiti.',\n",
              " '@noahshuster Negócio dele é o Haiti.',\n",
              " '@gen_heleno Aqui não é o Haiti e o TSE não é o COB , tome seu Viagra e vá assistir desenho animado !!!',\n",
              " '@De2011vargas @LucianoSDEB @blogdopannunzio @DefesaGovBr @MPF_PGR @STF_oficial @policiafederal Falou o perito em guerra kkkk\\nO Brasil pacíficou o Haiti!! Faz demais ações da ONU na África, protege nossas fronteiras e espaço aéreo com o que tem, porque governos esquerdistas sucatearam e não investiram nas forças do próprio país. Mas fizeram obras a ditaduras cubanas e etc..',\n",
              " '@gen_heleno Volta para o Haiti 🇭🇹 velho gaga',\n",
              " '(...) vai enfraquecer a ala que quer melar as eleições. É chocante ver isso no Brasil (vi em países como Haiti, Honduras e Egito), mas pressão externa p respeitar o voto é às vezes o último recurso.',\n",
              " 'confiez-nous vos livraisons, lunch🍝🍴, ou autres😎#. #SpidexCourier #Haïti #food https://t.co/tidDJP58Da',\n",
              " '@gen_heleno Quasimodo, deixa de ser GOLPISTA! Já não basta o que vcs fizeram no Haiti?',\n",
              " 'Para quê serve um General das Forças Armadas. Além de ameaçar a democracia, o único fato notório é um envolvimento com abusos humanitários no Haiti. Se alguém souber de um fato positivo, me atualiza aqui.',\n",
              " '@PedroGerson11 Fazer uma simulação de guerra,Brasil X haiti',\n",
              " '@sanguineloki700 seria uma briga bem justa, quem é pior? Haiti Vs Brasil',\n",
              " '@sanguineloki700 Haiti é tão ruim para morar, e pode ser comparado com o brasil',\n",
              " '@gen_heleno As forças armadas, associadas a este desgoverno da morte e corrupção, não tem moral pra rebater nada.\\nApenas servem ao país e ao povo e não ao governante de ocasião.\\nNão esquecemos do que houve no Haiti...',\n",
              " '@gen_heleno Vai Véio gagá, inútil, o incompetente do Haiti 🇭🇹.Já tomou seu Viagra hoje? FORA BOLSONARO! https://t.co/YKW2jolU50',\n",
              " '@sanguineloki700 as vezes eu penso que moro no Haiti',\n",
              " 'como Haiti e países da África, em comparação com outros grupos, como latinos, asiáticos, europeus e norte-americanos. Isso encontra respaldo na própria construção histórica e social do Brasil, marcada por uma herança escravagista e de subjugação da população negra. 4/4',\n",
              " '@UOLNoticias Tu só não disse que estes 3 estão trabalhando em conjunto pra dar a Amazônia para a França.\\nA mesma França que saqueou nosso Brasil  e que destruiu o Haiti e a Guiana Francesa.\\nFala isso pra teus leitores, jorNazista militante.',\n",
              " '@thiagomcosta8 Não entendi qual o ponto do seu tuíte.\\n\\nMas você precisa ler mais sobre a história da escravidão.\\n\\nAconteceram muitas revoltas de escravos.\\n\\nInclusive foi assim que nasceu o Haiti, no final do século XVIII.',\n",
              " '@ciromilgrau Pra mim este foi o maior erro do Lula, bancar o empreendimento militar do Brasil no Haiti',\n",
              " '@coecowcow @PQuestionaveis Ela pode se achar superior, mas duvido pra caralho que ela tenha esse mesmo discurso na escola por exemplo. Principalmente se ela mora no sul, que atualmente está recebendo bastante imigrante do Haiti.',\n",
              " '@gen_heleno E ai generalzinho?\\nlembra na merd@ q vc fez no Haiti?\\n\\nA Onu mandou vc voltar por incompetencia e irresponssabilidade \\n\\nE agora é capacho do bolsonaro \\n\\nQue histora bost@ vai deixar depois da morte',\n",
              " '@mongreloutsider Qdo estava no Exército a minha primeira viagem foi para o Haiti, meu pai chorou copiosamente, todos os dias era um choro. Teve um dia que não pude acessar o MSN pq a internet parou devido a tempestade. Não sei como, mas meu pai tinha conseguido o telefone da embaixada e foram me+',\n",
              " '@gen_heleno O Haiti não é aqui!',\n",
              " '@gen_heleno Já tomou seu azulzinho hoje??? Já colocou a protese??? Quer transformar o Brasil em um Haiti!!! Ja pintaram o meio fio essa semana???? Passa pano de miliciano psicopata!!! https://t.co/ljRI5K3jDT',\n",
              " 'Não vamos culpar o general Heleno. Ele não entende muito de números desde a época no Haiti quando disparou 22.000 (vinte e duas mil) balas contra um favela haitiana para abater um criminoso local.\\nhttps://t.co/dapVLBS52V',\n",
              " 'acabei de chegar no haiti, favela na praia, me sentindo no rj &lt;3',\n",
              " '@FilipeCampante O carniceiro do Haiti ?  \\nSei ...\\n\\n#FamigliaEmBangu8 \\n#ForaFamigliaEsuaCaterva',\n",
              " '@leduardo95 @DaniloThomaz88 Não mesmo hein \\nA revolução haitiana se aproveitou da crise na metrópole, de fato, mas as estruturas e ideias pela libertação já circulavam em espaços religiosos, mocambos, entre os libertos e crioulos.\\nEle foi mais um argumento que a causa ou motivação.',\n",
              " 'Ontem atendi uma haitiana desconfiada q estava grávida. Além das pgtas corriqueiras, ela quis saber sobre ab0rt0.\\nEu ñ sei como são as leis no Haiti, mas expliquei pra ela q aqui dá cadeia.\\n- \"mesmo com só uma semana?\"\\n- \"xilindró, minha querida! Na hora!\"\\n- \"mas pq?\"\\n- \"ñ sei\"',\n",
              " 'Esse aí é aquele general que assassinou dezenas de pobres no Haití, e que também não sabe que tinha 39 kg de cocaína no AEROCOCA ne´?https://t.co/IQo3ZcJBrd',\n",
              " '@UOLNoticias Dizer que nos últimos 33 anos não há uma notícia ruim demonstra o quanto o STF e seus ministros, assim como ad forças armadas, despreza o próprio povo. Sem contar com os estupros e saques realizados qdo da invasão ao Haiti.',\n",
              " 'Perdido na tradução: réu haitiano é absolvido após 16 meses sem intérprete https://t.co/5DaH80bsVf via @tabuol @UOL',\n",
              " '@o_clistenes @Sil_Mergulhao Uma prova disto é o Haiti, país capitalista que deixa a Venezuela no chinelo',\n",
              " '@LulaOficial @ricardostuckert @EmmanuelMacron @avecvous Deu pra notar sua submissão a França quando você invadiu o Haiti',\n",
              " '@gen_heleno Pq um.babaca asqueroso, inapto, corripto como vc faz oarte de qualquer governo e nao não esta preso pelo o que aconteceu no Haiti???',\n",
              " 'Cristóvão Colombo, saqueando o Haiti e matando indígenas por ouro\\n\\nDepois que Colombo chegou ao Haiti, os colonos da região, que achavam que havia muito ouro, ordenaram que pessoas com mais de 13 anos coletassem ouro para eles. https://t.co/JRzM3U6EnM',\n",
              " '@FilipeCampante Manda o Veio de volta para o Haiti. Terminar o que nem começou a fazer. Chupim do dinheiro público!',\n",
              " '@BlogdoNoblat cara, FFAA que tem gal heleno(terror haitiano), num sei o que lá, braga, pazzuzu e uma capitão aposentado por indisciplina, em suas fileira quer o quê?\\nsem esquecer as filhas que não casam pra receber pensão.',\n",
              " '@FernandoHortaOf @ToninhoPassos Deixa! Ele é perseguido pelos fantasmas do Haiti.',\n",
              " '@andretrig Espero que ele refloreste a França...derrubaram todas as florestas por lá,e pare de explorar a África e de cobrar taxas de ex colônias tipo o Haiti..que isso empobrece mais esses países e impede práticas ecológicas ,e bombardear os países africanos gera muita poluição também',\n",
              " 'Diretor haitiano traça o caminho que liga a colonização ocidental ao genocídio moderno\\n\\nhttps://t.co/dQ1c3MOfZS https://t.co/u3YD5asdA9',\n",
              " '@gen_heleno Grande Gen Heleno, conte-nos das suas falcatruas qd era Cmte do CMA no Amazonas e qd foi Cmte da força militar da Missão das Nações Unidas para a Estabilização do Haiti.\\nNada mais e nada menos, o q estamos vendo hj, são reflexos das suas sandices do passado.\\nQuem conhece sabe.',\n",
              " '@DaniloThomaz88 Assim, a revolução haitiana teve MUITO a ver com o iluminismo, e houve o fim da escravatura na ilha, q voltou com Napoleão.\\n\\nNão é perfeito, mas boa parte da Lua luta social se deve ao iluminismo.',\n",
              " '@gen_heleno Esse velho broxa é atormentado pelas almas das famílias q ele ceifou no Haiti',\n",
              " '@balbinovivi @MannyBrooks13 @AbrahamWeint Vamos lá, com argumentos, sem atacar: o Banco Mundial reduziu para 0,7% a projeção para o crescimento em 2022. É o segundo menor da América latina, perdendo para o Haiti. Na 12° economia. Em 2010, passávamos a Inglaterra e éramos a 6 economia do mundo.+',\n",
              " '@VEJA Eu gostaria que o Heleno falasse o que ele acha da Chacina que ele promoveu lá em Porto Príncipe no Haiti. A ação foi objeto de uma denúncia na Comissão Interamericana de Direitos Humanos (CIDH) e a ONU pediu para o Lula trazer o incompetente de volta ao Brasil. VERGONHA',\n",
              " '@refugobk @ailtonalves01 @GustavRamski Sim... Pelo que me explicaram no Haiti se come porque há escassez de carne, mas alguns chegam aqui achando que podem comer os da rua e todos pagam... Muito triste.',\n",
              " 'Vergonha esse Tarcísio. Como terá sido sua atuação nas forças do Haiti? https://t.co/n7dhp1LTI5',\n",
              " '@DCM_online Heleno e o massacre do Haiti e a denúncia na Comissão Interamericana de Direitos Humanos (CIDH), hein? Quanta honra e orgulho vc levou às FFAA né?… SQN 😎',\n",
              " '@futtmais Pena que é Haitiano, igual o Veiga',\n",
              " '@gen_heleno Heleno e o massacre no Haiti, hein?',\n",
              " '@gen_heleno O seu velho idiota e mau caráter, são várias pesquisas e de vários institutos de formas variadas. Volta lá para o Haiti para ver se eles te prendem logo por genocidio e nos livramos de mais um verme bolsonarento',\n",
              " '@gen_heleno A proposito General ficou magoado com o @Lula só porque ele mandou te trazer do Haiti onde você fazia coisas boas ou arruinava o nome do Pais?',\n",
              " '@FernandoHortaOf É só um velho arrombado. Ele precisa explicar pro povo o que ele aprontou no Haiti. E a grana das olimpíadas.',\n",
              " '@FilipeCampante Esse não é o mesmo acusado de acobertar casos de estupros no Haiti há alguns anos? Explains a lot a linha de raciocínio.',\n",
              " '@FilipeCampante Ele pensa que o Haiti é aqui!',\n",
              " '@DefesaGovBr O Exército brasileiro sempre foi golpista desde Deodoro a Jair Bolsonaro. Nossa sorte, é que com aquele fumacê, não sustenta 2 dias de guerra com o Haiti.',\n",
              " '@gen_heleno Ladroes e assassinos ajudando na lisura? Piada do General genocida do Haiti!',\n",
              " '@FabiiErnesto @DefesaGovBr Isso para não falarmos sobre os tristes eventos da cite Du soleil, no Haiti...',\n",
              " '@profpaulamarisa É civilizado o continente que foi palco de duas guerras mundiais? É civilizada uma nação que explorou até não poder mais vários povos ao redor do mundo, como o Haiti, que vive hoje em miséria extrema?',\n",
              " '@oromeu12 @thepaiwsy @facinhoo @pagodintantan @ElsonJose20 @pedrocertezas Se o Haiti tá na merda hj é por falta de ações sociais e igualitárias durante sua formação e pq um país muito mais rico decidiu pegar o dinheiro dele pra aumentar ainda mais seu capital, no final foi tudo por dinheiro mermão',\n",
              " '@oromeu12 @thepaiwsy @facinhoo @pagodintantan @ElsonJose20 @pedrocertezas Mano a França comeu o cu do Haiti pq o ele decidiu parar de gerar lucro pra ela e que por causa dessa decisão até mais da metade do século XV o Haiti tinha uma dívida grande pra caralho com França e hoje um país inteiro tá na merda por conta de uma decisão CAPITALISTA',\n",
              " '@FilipeCampante Esse é aquele que fez lambança no Haiti?',\n",
              " '@gennro_ compra 3 par de meia no haitiano',\n",
              " '@DaniloThomaz88 \"Quanto mas se fazia inevitável a independência, tanto mais apertava-se o cerco. E em 1806, cedendo a pressão da França, os Estados Unidos proíbe o comércio com o Haiti. Eis desde seus primórdios, a raison d\\'être, a causa última, das intervenções estadunidenses.\"\\n\\nEduardo Galeano',\n",
              " '@NoFreeMedia @DaniloThomaz88 \"O Haiti se converteu em sorvedouro de escravos, o açúcar exigia cada vez mais braços. Em 1786 chegaram a colônia 26 mil escravos, e no ano seguinte 40 mil. No outono de 1791 explodiu a revolução. Os barcos zarparam, com cada vez mais franceses, e menos açúcar.\"\\n\\nEduardo Galeano',\n",
              " '@GustavRamski Não é xenofobia, é somente para incentivá-la: o preconceituoso passa, vê e diz: \"aqui, a loja é de brasileiro, vamos comprar aqui ao invés de comprar no chinês/haitiano/venezuelano (insira aqui adjetivo de baixo calão)\"',\n",
              " 'Preferiria que fosse vc, indo para a Somália, Haiti, Serra Leoa, que lá vc seria rei do mimimi! https://t.co/ooJsiUCLUw',\n",
              " '@lalibela04 O Haiti, o Yemen, a Arábia Saudita  é de Direita, você vai pra lá quando?',\n",
              " 'Não é pequeno só no tamanho, é pequeno sobretudo em suas atitudes sempre vis e covardes. Basta ver o que fez no Haiti quando soldados brasileiros sob seu comando mataram quase 100 haitianos na favela de Cité Soleil. O caso fez com que fosse demitido pelo governo Lula. https://t.co/zUSQ0TQz1a',\n",
              " 'O do \"Se gritar pega Centrão\"? O ex-ajudante de ordens do golpista-mor Sylvio Frota? O \"humanista\" do Haiti? Grande surpresa ser assim tão inteligente. https://t.co/qLkal25AUd',\n",
              " 'Pois isso o Brasil teve sua imagem deturpada no Haiti....\\n\\nUma pena ver esse tipo de postagem de um homem como nosso general https://t.co/TJCWRAIGg3',\n",
              " '@gen_heleno Quer enganar quem??? Vamos falar sobre Haiti?',\n",
              " '@okokmag @rqdibb @ProfessorLuizC2 Falar a verdade agora tem vários nomes, vamos lá:\\n\\nRacismo\\nIntolerância religiosa\\nXenofobia\\nMachismo\\nFeminismo\\n\\nTantos ismos....\\nTanto Mimi...\\n\\nPaíses que cultuam deuses africanos vivem tudo na merda, Haiti é um deles',\n",
              " '@gen_heleno Eu quero saber é sobre o massacre com carros blindados que assassinaram homens, mulheres e crianças em Cité Soleil, no Haiti.',\n",
              " 'Fico imaginando se o Haiti tem 10% do trigo da Ucrânia e 10% do gás da Rússia. Nossa senhora, seria cortejado pelo mundo inteiro e seu povo não passaria fome. Agora, como não tem nada a oferecer também não tem o direito de pedir. Triste do poder que não pode.',\n",
              " '@VEJA O que este velho mamateiro golpista, consumidor de Viagra pensa, é o de sempre. O ajudante de ordens do Silvio Frota não vale nada desde a década de 70. O Haiti quer justiça para o generalzinho playmobil.',\n",
              " '@gen_heleno Vc será preso quando o Bolsolixo sair do governo seu velho velhaco. Vai pro Haiti administrar aquela merda. Velho escroto.',\n",
              " '@AhswArthur @gen_heleno Está certo. Este general é um ignorante com tendências fascistas, vimos o que fez no Haiti e o que faz agora. Sabujo de capitão indisciplinado e terrorista',\n",
              " '@gen_heleno O que um ex general que não teve competência no haiti entende de pesquisa e estatísticas e seu métodos de apuração?\\nNem de evitar tráfico no avião presidencial tu soube evitar.\\n😂😂😂😂',\n",
              " '@gen_heleno Teu Viagra ainda não chegou? Toma leite condensado e abaixa o facho. TODO MUNDO SANE DO MASSACRE PERPETRADO POR VC NA CITÉ SOLEIL,HAITI!\\nPor isso Lula te retirou do comando das tropas lá! Volta de pijama pra caserna,vovô! Cê já fez muito estrago.',\n",
              " '@gen_heleno Teu Viagra ainda não chegou? Deixa de ser patético !! TODO MUNDO SABE DO MASSACRE DA CITÈ SOLEIL! E pq o Lula,com toda razão, te tirou do comando das tropas brasileiras no Haiti!\\nVolta pro retiro,vovô. Vaibvestir teu pijama e jogar damas(pq xadrez vc não tem competência)',\n",
              " '@gen_heleno Também acho errado. Imagina se fossemos fazer uma pesquisa de opinião sobre generais brasileiros em Cité Soleil, um bairro pobre da capital haitiana, Porto Príncipe. Seria tendencioso não seria? 🙂',\n",
              " '@thi_1895 @dev_bolha @carlosenog @srprogrammer O problema no Haiti não é o capitalismo jovem rs.',\n",
              " '@thi_1895 @Maltaire @carlosenog @srprogrammer Vamos falar da América Central? fala aí dos países socialistas de lá, tem algum bom?\\n\\nOlha aqui o que acontece com o Haiti, não é por causa do sistema capitalista.\\n\\nhttps://t.co/JxmagfAaBS',\n",
              " '@kenmiIes Os caras tão confundindo vudu do Haiti com África',\n",
              " '@gen_heleno #FASCIST q comandou CHACINA na CRIMINOSA #Minustah missão \"paz\" da ONU no #Haiti q executou dezenas d pobres e prendeu NO ARBÍTRIO o líder comunitário e o entregou à polícia local TORTURADORA E ASSASSINA\\nDias após o líder apareceu MORTO na cela\\nATÉ HJ VC TÁ IMPUNE DESSES #CRIMES!',\n",
              " 'Vocês que estão chocados, perguntem para o Haiti como funciona o iluminismo francês. Faz uns dois séculos que eles vivendo as consequências de suas luzes.',\n",
              " '@gen_heleno você nunca se recuperou do afastamento do comando da #Minustah, né? Entendo que não tome vergonha na cara, achando razoável estupros, execuções sumárias, desaparecimentos em Cité Soleil, no Haiti. Só peço que suma com essa cara de coruja pamonha.',\n",
              " 'a minha fonte pra pauta de radiojornalismo dessa semana foi tão amigável que eu tô feliz 🥰🥰🥰 ele é um haitiano que veio fazer doutorado na uft e a tese dele foi selecionada pra ser apresentada em harvard!!! ele é muito humilde e gentil, desejo tudo de bom pra ele',\n",
              " '@patrulhaptralha @HelemAzevedo As religiões brasileiras de matriz africanas, são na verdade um mix do Golfo da Guiné (Nigéria - Iorubá, Gana, Togo e Benin).\\nElas foram exportadas para a América Latina também (fortes no Haiti, México e Costa Rica).\\nHoje os países africanos são islâmicos ou cristãos.',\n",
              " 'Qual foi o presidente que nomeou o gal. Heleno de Tróia para ocupar o Haiti e assim empoderou militares vindo da ditadura? https://t.co/Cf6Nrx1CJV',\n",
              " '@gen_heleno Cuidado com os fastamas do Haiti!',\n",
              " '@YHWH_Servant @dev_bolha @carlosenog @srprogrammer já pensou quantas cidades piores que Havana tem no Haiti?',\n",
              " '@oromeu12 @facinhoo @pagodintantan @ElsonJose20 @pedrocertezas Ou até mesmo aplicar punições disfarçadas quando é tocado no assunto pelo governo do Haiti como já aconteceu durante o começo desse século (não me lembro do ano em específico).',\n",
              " '@YHWH_Servant @Maltaire @carlosenog @srprogrammer olha a realidade dos outros países capitalistas da América Central, pega o Haiti como exemplo',\n",
              " '@desmentindobozo Esse senhor não tem moral nenhuma uma vergonha para o exército não foi julgado pelo que fez no Haiti.',\n",
              " 'A parte mais engraçada da história das revoluções (principalmente a francesa e haitiana) é a pira com os nomes, por exemplo: a praça do Luis XIV vira a praça da República, a cidade haitiana de Port-au-Prince vira port-au-republique\\n1/2',\n",
              " '@gen_heleno E o povo do Haiti, qual o seu legado? Recolha-se! https://t.co/X3dhfMnSVK',\n",
              " '@Haddad_Fernando São Paulo para ser a cidade mais rica da federação, para  mim está mais para uma Haiti  na praça da sé está igual um chiqueiro de porco mal cheiro pessoa dormindo no chão mendigos gente sem ter onde morar São Paulo e uma nojeira só.',\n",
              " '@NiloMoratori @caioblinder E no final os limpadores acabaram perdendo a cabeça.\\nProcure + sobre a historia da França e o real interesse dela no🇧🇷.Veja qtas invasões ela já fez ao nosso paìs. Qto ouro e pedras preciosas roubou e a desgraça q ela fez no Haiti e Guiana Francesa.\\nQtos franceses há na Amazonia?',\n",
              " '@oromeu12 @facinhoo @pagodintantan @ElsonJose20 @pedrocertezas Na vdd o problema do Haiti foi causado pelo capitalismo, já que a França fudeu com ele no processo de independência e pós independência.',\n",
              " '@brunotgrd por exemplo, mais de 20% da população de Guadalupe, no Caribe, é de origem imigrante (predominantemente haitiana)',\n",
              " '@hyan__11 @ItsSince79 Vc está confundindo sistema econômico com sistema de governo. O capitalismo existe pq funciona é muito simplista. Acaso funciona no Haiti? Ou seja, existem inúmeras variáveis que fazem com que ele funcione ou não.',\n",
              " '@ediloncardoso31 Há excelentes destinos para esse tipo de cidadão que gosta dos prazeres tropicais: Cuba, Venezuela, Haiti, Congo, Bolívia… Farturas e muita diversão! Boa viagem!',\n",
              " '@tarconalz Vdd são dois que temos o Moro que conseguiu prender todos os corretos aqui no Brasil e Santos Cruz que foi um dos que pacificou o Haiti, um herói eu estava lá comandado por ele duas vezes e lá foi guerra acredite',\n",
              " '@albertocalmeida Mas enfrentar um população desarmada, concebida como inimigo, pode ter certeza que conseguem. A experiência do Haiti e do RJ demonstra isso. A função dos exércitos nacionais na América Latina é a repressão interna.',\n",
              " 'Vagabundo que foi acabar com o país dos outros (Haiti) querendo opinar sobre pesquisas\\n\\nVai desacreditar o caralho e volta pra tua latrina que se chama quartel https://t.co/hbzjCJsx4O',\n",
              " '@tarconalz Eu num evento que estava ele e Moro no Rio, Moro ainda era candidato a presidente pelo Podemos , insisti com ele para vir governador do Rio, pois fui comandado por ele por duas vezes no Haiti , mas agora se o Moro n vier quero q ele venha pra presidente',\n",
              " '@facinhoo @pagodintantan @ElsonJose20 @pedrocertezas eu só acho, só acho, que o problema do Haiti não é o capitalismo, e sim esse monte de fator aí, além de que comparado com a Inglaterra, qualquer país socialista, é deixado no chinelo https://t.co/mFNMPQKcDg',\n",
              " '@gen_heleno Vc já voltou ao Haiti 🇭🇹 para ver os filhos bastardos q vc e sua tropa deixou para trás ..? Muitas desses filhos foi feita em meninas com idade inferior aos 18 anos seu canalha 😡😡😡',\n",
              " '@gen_heleno Ganhando mais de R$ 100 mil por mês, tem gente que vende a alma e a mãe para continuar participando da bandidagem. \\nÉ o tipo de pessoas que fazem massacres em países miseráveis, como o Haiti. \\nE quem iria exigir que uma toupeira tenha algum conhecimento de estatística?',\n",
              " '@oromeu12 @pagodintantan @ElsonJose20 @pedrocertezas outros paises capitalistas tipo a Inglaterra? Ou o Haiti?',\n",
              " '@michel_gherman Precisa ser exposto pelo estrago que fez no Haiti.\\nE como fala o Caetano, o Haiti é aqui agora.',\n",
              " '@betoacp @gen_heleno Imagine uma anta dessas numa guerra. Muita competência pra usar força militar contra gente pobre e desarmada no Haiti.',\n",
              " '@albertocalmeida É só ver a atuação desta besta no Haiti em uma missão de paz q vc vê o nível da coisa',\n",
              " ...]"
            ]
          },
          "metadata": {},
          "execution_count": 549
        }
      ]
    },
    {
      "cell_type": "markdown",
      "source": [
        "#Pegar os stop words da língua portuguesa usando NLTK"
      ],
      "metadata": {
        "id": "dgOt6eY9GGIN"
      }
    },
    {
      "cell_type": "code",
      "source": [
        "stop_words = set(stopwords.words('portuguese'))"
      ],
      "metadata": {
        "id": "MD9FttR_ZujT"
      },
      "execution_count": 550,
      "outputs": []
    },
    {
      "cell_type": "code",
      "source": [
        "type(stop_words)\n"
      ],
      "metadata": {
        "colab": {
          "base_uri": "https://localhost:8080/"
        },
        "id": "LItshnuibmxO",
        "outputId": "6e9818dc-9f09-43bc-cede-e55d6e613867"
      },
      "execution_count": 551,
      "outputs": [
        {
          "output_type": "execute_result",
          "data": {
            "text/plain": [
              "set"
            ]
          },
          "metadata": {},
          "execution_count": 551
        }
      ]
    },
    {
      "cell_type": "code",
      "source": [
        "stop_words"
      ],
      "metadata": {
        "id": "dxY7V9fec_-4",
        "colab": {
          "base_uri": "https://localhost:8080/"
        },
        "outputId": "1b047818-819b-48bb-856f-2550172883ed"
      },
      "execution_count": 552,
      "outputs": [
        {
          "output_type": "execute_result",
          "data": {
            "text/plain": [
              "{'a',\n",
              " 'ao',\n",
              " 'aos',\n",
              " 'aquela',\n",
              " 'aquelas',\n",
              " 'aquele',\n",
              " 'aqueles',\n",
              " 'aquilo',\n",
              " 'as',\n",
              " 'até',\n",
              " 'com',\n",
              " 'como',\n",
              " 'da',\n",
              " 'das',\n",
              " 'de',\n",
              " 'dela',\n",
              " 'delas',\n",
              " 'dele',\n",
              " 'deles',\n",
              " 'depois',\n",
              " 'do',\n",
              " 'dos',\n",
              " 'e',\n",
              " 'ela',\n",
              " 'elas',\n",
              " 'ele',\n",
              " 'eles',\n",
              " 'em',\n",
              " 'entre',\n",
              " 'era',\n",
              " 'eram',\n",
              " 'essa',\n",
              " 'essas',\n",
              " 'esse',\n",
              " 'esses',\n",
              " 'esta',\n",
              " 'estamos',\n",
              " 'estas',\n",
              " 'estava',\n",
              " 'estavam',\n",
              " 'este',\n",
              " 'esteja',\n",
              " 'estejam',\n",
              " 'estejamos',\n",
              " 'estes',\n",
              " 'esteve',\n",
              " 'estive',\n",
              " 'estivemos',\n",
              " 'estiver',\n",
              " 'estivera',\n",
              " 'estiveram',\n",
              " 'estiverem',\n",
              " 'estivermos',\n",
              " 'estivesse',\n",
              " 'estivessem',\n",
              " 'estivéramos',\n",
              " 'estivéssemos',\n",
              " 'estou',\n",
              " 'está',\n",
              " 'estávamos',\n",
              " 'estão',\n",
              " 'eu',\n",
              " 'foi',\n",
              " 'fomos',\n",
              " 'for',\n",
              " 'fora',\n",
              " 'foram',\n",
              " 'forem',\n",
              " 'formos',\n",
              " 'fosse',\n",
              " 'fossem',\n",
              " 'fui',\n",
              " 'fôramos',\n",
              " 'fôssemos',\n",
              " 'haja',\n",
              " 'hajam',\n",
              " 'hajamos',\n",
              " 'havemos',\n",
              " 'hei',\n",
              " 'houve',\n",
              " 'houvemos',\n",
              " 'houver',\n",
              " 'houvera',\n",
              " 'houveram',\n",
              " 'houverei',\n",
              " 'houverem',\n",
              " 'houveremos',\n",
              " 'houveria',\n",
              " 'houveriam',\n",
              " 'houvermos',\n",
              " 'houverá',\n",
              " 'houverão',\n",
              " 'houveríamos',\n",
              " 'houvesse',\n",
              " 'houvessem',\n",
              " 'houvéramos',\n",
              " 'houvéssemos',\n",
              " 'há',\n",
              " 'hão',\n",
              " 'isso',\n",
              " 'isto',\n",
              " 'já',\n",
              " 'lhe',\n",
              " 'lhes',\n",
              " 'mais',\n",
              " 'mas',\n",
              " 'me',\n",
              " 'mesmo',\n",
              " 'meu',\n",
              " 'meus',\n",
              " 'minha',\n",
              " 'minhas',\n",
              " 'muito',\n",
              " 'na',\n",
              " 'nas',\n",
              " 'nem',\n",
              " 'no',\n",
              " 'nos',\n",
              " 'nossa',\n",
              " 'nossas',\n",
              " 'nosso',\n",
              " 'nossos',\n",
              " 'num',\n",
              " 'numa',\n",
              " 'não',\n",
              " 'nós',\n",
              " 'o',\n",
              " 'os',\n",
              " 'ou',\n",
              " 'para',\n",
              " 'pela',\n",
              " 'pelas',\n",
              " 'pelo',\n",
              " 'pelos',\n",
              " 'por',\n",
              " 'qual',\n",
              " 'quando',\n",
              " 'que',\n",
              " 'quem',\n",
              " 'se',\n",
              " 'seja',\n",
              " 'sejam',\n",
              " 'sejamos',\n",
              " 'sem',\n",
              " 'serei',\n",
              " 'seremos',\n",
              " 'seria',\n",
              " 'seriam',\n",
              " 'será',\n",
              " 'serão',\n",
              " 'seríamos',\n",
              " 'seu',\n",
              " 'seus',\n",
              " 'somos',\n",
              " 'sou',\n",
              " 'sua',\n",
              " 'suas',\n",
              " 'são',\n",
              " 'só',\n",
              " 'também',\n",
              " 'te',\n",
              " 'tem',\n",
              " 'temos',\n",
              " 'tenha',\n",
              " 'tenham',\n",
              " 'tenhamos',\n",
              " 'tenho',\n",
              " 'terei',\n",
              " 'teremos',\n",
              " 'teria',\n",
              " 'teriam',\n",
              " 'terá',\n",
              " 'terão',\n",
              " 'teríamos',\n",
              " 'teu',\n",
              " 'teus',\n",
              " 'teve',\n",
              " 'tinha',\n",
              " 'tinham',\n",
              " 'tive',\n",
              " 'tivemos',\n",
              " 'tiver',\n",
              " 'tivera',\n",
              " 'tiveram',\n",
              " 'tiverem',\n",
              " 'tivermos',\n",
              " 'tivesse',\n",
              " 'tivessem',\n",
              " 'tivéramos',\n",
              " 'tivéssemos',\n",
              " 'tu',\n",
              " 'tua',\n",
              " 'tuas',\n",
              " 'tém',\n",
              " 'tínhamos',\n",
              " 'um',\n",
              " 'uma',\n",
              " 'você',\n",
              " 'vocês',\n",
              " 'vos',\n",
              " 'à',\n",
              " 'às',\n",
              " 'é',\n",
              " 'éramos'}"
            ]
          },
          "metadata": {},
          "execution_count": 552
        }
      ]
    },
    {
      "cell_type": "markdown",
      "source": [
        "#Pré-processamento dos tweets"
      ],
      "metadata": {
        "id": "VM-vll20KqvP"
      }
    },
    {
      "cell_type": "markdown",
      "source": [
        "###Função para limpar os tweets"
      ],
      "metadata": {
        "id": "PAlOZbaXCNDM"
      }
    },
    {
      "cell_type": "code",
      "source": [
        "def pre_processing_tweets(tweet):\n",
        "  tweet_list = str(tweet).lower().split()\n",
        " \n",
        "  #remover palavras que iniciam com @, #, stopwords ou com tamanho < 2 se forem diferentes de ht.\n",
        "  def remove_undesirable_words(tweet_list):\n",
        "      new_list_ = []\n",
        "      for token in tweet_list:\n",
        "         if token.startswith('@') or token.startswith('#') or token in stop_words or (len(token) < 3 and token != 'ht'): continue\n",
        "         new_list_.append(remove_emphasis(token))\n",
        "      return new_list_\n",
        "\n",
        "  #remover acentuações\n",
        "  def remove_emphasis(token):\n",
        "      return unidecode(token)\n",
        "\n",
        "  #remover urls\n",
        "  def remove_url(tweet_without_sw):\n",
        "      return re.sub(r\"http\\S+\", \"\", tweet_without_sw)\n",
        "\n",
        "  #remover pontuações\n",
        "  def remove_punctuation(tweet):\n",
        "      return re.sub(r'[^\\w\\s]','',tweet)\n",
        "\n",
        "  #remover palavras que contem ou que são números\n",
        "  def remove_numeric(tweet):\n",
        "     return ' '.join([token for token in tweet.split() if not token.isdigit() and not any(map(str.isdigit, token))])    \n",
        "\n",
        "  tweet_list = remove_undesirable_words(tweet_list)\n",
        "  tweet = remove_url(' '.join(tweet_list))\n",
        "  tweet = remove_punctuation(tweet)\n",
        "  tweet = remove_numeric(tweet)\n",
        "  return ' '.join(remove_undesirable_words(tweet.split()))\n",
        " "
      ],
      "metadata": {
        "id": "wKc3KHEUkiTm"
      },
      "execution_count": 553,
      "outputs": []
    },
    {
      "cell_type": "markdown",
      "source": [
        "\n",
        "###Exemplo de tweet antes da aplicação da função de pré-procesamento"
      ],
      "metadata": {
        "id": "L3NOY8WQEMH7"
      }
    },
    {
      "cell_type": "code",
      "source": [
        "string_example = \"@gen_heleno VAI BOTAR UM PIJAMA???? This dog 😂😂😂😂 E VAI PRA CASA DESCANSAR no ht vc.  REZA456 E PEÇA A DEUS QUE PERDOE TODAS AS BARBARIDADES QUE VOCÊ COMETEU NO HAITI em 2015. EXISTEM ALMAS LÁ QUE NUNCA IRÃO PERDOAR AS SUAS ATITUDES. VOCÊ E DEUS SABEM DISTO.\""
      ],
      "metadata": {
        "id": "mMmawXRUfeGY"
      },
      "execution_count": 554,
      "outputs": []
    },
    {
      "cell_type": "code",
      "source": [
        "string_example"
      ],
      "metadata": {
        "colab": {
          "base_uri": "https://localhost:8080/",
          "height": 53
        },
        "id": "wcDQzSxlsxAA",
        "outputId": "24e6fd29-c71f-4394-ba8a-92f16eaea968"
      },
      "execution_count": 555,
      "outputs": [
        {
          "output_type": "execute_result",
          "data": {
            "text/plain": [
              "'@gen_heleno VAI BOTAR UM PIJAMA???? This dog 😂😂😂😂 E VAI PRA CASA DESCANSAR no ht vc.  REZA456 E PEÇA A DEUS QUE PERDOE TODAS AS BARBARIDADES QUE VOCÊ COMETEU NO HAITI em 2015. EXISTEM ALMAS LÁ QUE NUNCA IRÃO PERDOAR AS SUAS ATITUDES. VOCÊ E DEUS SABEM DISTO.'"
            ],
            "application/vnd.google.colaboratory.intrinsic+json": {
              "type": "string"
            }
          },
          "metadata": {},
          "execution_count": 555
        }
      ]
    },
    {
      "cell_type": "code",
      "source": [
        "filtered_tweet = pre_processing_tweets(string_example)"
      ],
      "metadata": {
        "id": "2cPuLlD1dxF7"
      },
      "execution_count": 556,
      "outputs": []
    },
    {
      "cell_type": "markdown",
      "source": [
        "###Exemplo de tweet depois da aplicação da função de pré-procesamento"
      ],
      "metadata": {
        "id": "DL-GiFlgEelV"
      }
    },
    {
      "cell_type": "code",
      "source": [
        "filtered_tweet"
      ],
      "metadata": {
        "colab": {
          "base_uri": "https://localhost:8080/",
          "height": 35
        },
        "id": "onsjf2SAWsC0",
        "outputId": "ba33b523-fe8a-4796-8f1d-882ab9b57f0f"
      },
      "execution_count": 557,
      "outputs": [
        {
          "output_type": "execute_result",
          "data": {
            "text/plain": [
              "'vai botar pijama this dog vai pra casa descansar ht peca deus perdoe todas barbaridades cometeu haiti existem almas nunca irao perdoar atitudes deus sabem disto'"
            ],
            "application/vnd.google.colaboratory.intrinsic+json": {
              "type": "string"
            }
          },
          "metadata": {},
          "execution_count": 557
        }
      ]
    },
    {
      "cell_type": "markdown",
      "source": [
        "###Aplicação da função do pré-processamento nos tweets"
      ],
      "metadata": {
        "id": "DMjfv4xtFeF6"
      }
    },
    {
      "cell_type": "code",
      "source": [
        "tweets_pre_proc = tweets_orig.copy()\n",
        "tweets_pre_proc['text'] = tweets_orig['text'].map(lambda tweet: pre_processing_tweets(tweet))"
      ],
      "metadata": {
        "id": "0f-PAjiRe0S0"
      },
      "execution_count": 558,
      "outputs": []
    },
    {
      "cell_type": "code",
      "source": [
        "tweets_orig.text.head().tolist()"
      ],
      "metadata": {
        "colab": {
          "base_uri": "https://localhost:8080/"
        },
        "id": "b8uljx9xYuwY",
        "outputId": "7345966e-3b94-4dd5-e362-4bfa44cef880"
      },
      "execution_count": 559,
      "outputs": [
        {
          "output_type": "execute_result",
          "data": {
            "text/plain": [
              "['E pensar que esse lixo ganhou projeção com a estapafúrdia missão Brasileirão no Haiti https://t.co/Jb5gDlHzUk',\n",
              " 'nem recebi e já tô duro🤣🤣🤬',\n",
              " 'missão no Haiti https://t.co/8jT65Pw4aP',\n",
              " '@gen_heleno O sr foi expulso de uma missão de paz no Haiti. Estou certo? Enaltece ditaduras, quem és tu pra falar mau de um hino comunista?',\n",
              " '@gen_heleno A memória dos brasileiros está intacta,lembramos do Golpe de 64 o regime da Ditadura e seus Assassinatos Torturas Desaparecimentos,a farta Roubalheira dos militares e Lembramos muito bem do Haiti e dos Roubos no COB , também lembramos do golpe de 2016 e a fraude eleitoral 2018 !']"
            ]
          },
          "metadata": {},
          "execution_count": 559
        }
      ]
    },
    {
      "cell_type": "code",
      "source": [
        "tweets_pre_proc.text.head().tolist()"
      ],
      "metadata": {
        "colab": {
          "base_uri": "https://localhost:8080/"
        },
        "id": "LGbjhqfmzDFQ",
        "outputId": "d659fb86-98d3-44dc-8c05-0ec61312374d"
      },
      "execution_count": 560,
      "outputs": [
        {
          "output_type": "execute_result",
          "data": {
            "text/plain": [
              "['pensar lixo ganhou projecao estapafurdia missao brasileirao haiti',\n",
              " 'recebi duro',\n",
              " 'missao haiti',\n",
              " 'expulso missao paz haiti certo enaltece ditaduras pra falar mau hino comunista',\n",
              " 'memoria brasileiros intactalembramos golpe regime ditadura assassinatos torturas desaparecimentosa farta roubalheira militares lembramos bem haiti roubos cob lembramos golpe fraude eleitoral']"
            ]
          },
          "metadata": {},
          "execution_count": 560
        }
      ]
    },
    {
      "cell_type": "markdown",
      "source": [
        "###Remover tweets com menos de 3 palavras"
      ],
      "metadata": {
        "id": "a_A3UZOKMVoD"
      }
    },
    {
      "cell_type": "code",
      "source": [
        "tweets_pre_proc = tweets_pre_proc.loc[tweets_pre_proc['text'].str.split().str.len() > 3]"
      ],
      "metadata": {
        "id": "9AddF7arLr7F"
      },
      "execution_count": 561,
      "outputs": []
    },
    {
      "cell_type": "code",
      "source": [
        "tweets_pre_proc.shape"
      ],
      "metadata": {
        "colab": {
          "base_uri": "https://localhost:8080/"
        },
        "id": "EGzg91V6L-N7",
        "outputId": "d2ea7dfd-c0de-4e20-f8b0-38f6201fd720"
      },
      "execution_count": 562,
      "outputs": [
        {
          "output_type": "execute_result",
          "data": {
            "text/plain": [
              "(170184, 4)"
            ]
          },
          "metadata": {},
          "execution_count": 562
        }
      ]
    },
    {
      "cell_type": "markdown",
      "source": [
        "###Remover os tweets duplicados"
      ],
      "metadata": {
        "id": "vAADO70qDBO9"
      }
    },
    {
      "cell_type": "code",
      "source": [
        "tweets_pre_proc.drop_duplicates(subset = [\"text\"], keep='first', inplace=True)"
      ],
      "metadata": {
        "id": "51YZj0HF-VkT"
      },
      "execution_count": 563,
      "outputs": []
    },
    {
      "cell_type": "markdown",
      "source": [
        "###Quantidade de tweets após a remoção dos tweets duplicados"
      ],
      "metadata": {
        "id": "5ZaDi_AFFL5b"
      }
    },
    {
      "cell_type": "code",
      "source": [
        "tweets_pre_proc.shape"
      ],
      "metadata": {
        "colab": {
          "base_uri": "https://localhost:8080/"
        },
        "id": "6IC5wWgm-dnl",
        "outputId": "c8aa18a2-5123-41d6-9ff6-ffa9c34599b7"
      },
      "execution_count": 564,
      "outputs": [
        {
          "output_type": "execute_result",
          "data": {
            "text/plain": [
              "(149303, 4)"
            ]
          },
          "metadata": {},
          "execution_count": 564
        }
      ]
    },
    {
      "cell_type": "code",
      "source": [
        "tweets_orig.text.head().tolist()"
      ],
      "metadata": {
        "colab": {
          "base_uri": "https://localhost:8080/"
        },
        "id": "paxssE2-L7WK",
        "outputId": "4067b10e-be74-4140-a0da-7f1464577d61"
      },
      "execution_count": 565,
      "outputs": [
        {
          "output_type": "execute_result",
          "data": {
            "text/plain": [
              "['E pensar que esse lixo ganhou projeção com a estapafúrdia missão Brasileirão no Haiti https://t.co/Jb5gDlHzUk',\n",
              " 'nem recebi e já tô duro🤣🤣🤬',\n",
              " 'missão no Haiti https://t.co/8jT65Pw4aP',\n",
              " '@gen_heleno O sr foi expulso de uma missão de paz no Haiti. Estou certo? Enaltece ditaduras, quem és tu pra falar mau de um hino comunista?',\n",
              " '@gen_heleno A memória dos brasileiros está intacta,lembramos do Golpe de 64 o regime da Ditadura e seus Assassinatos Torturas Desaparecimentos,a farta Roubalheira dos militares e Lembramos muito bem do Haiti e dos Roubos no COB , também lembramos do golpe de 2016 e a fraude eleitoral 2018 !']"
            ]
          },
          "metadata": {},
          "execution_count": 565
        }
      ]
    },
    {
      "cell_type": "code",
      "source": [
        "tweets_pre_proc.text.head().tolist()"
      ],
      "metadata": {
        "colab": {
          "base_uri": "https://localhost:8080/"
        },
        "id": "o_WQhu4WXc8x",
        "outputId": "fdc79d0e-d234-4451-95f3-40b81e24a451"
      },
      "execution_count": 566,
      "outputs": [
        {
          "output_type": "execute_result",
          "data": {
            "text/plain": [
              "['pensar lixo ganhou projecao estapafurdia missao brasileirao haiti',\n",
              " 'expulso missao paz haiti certo enaltece ditaduras pra falar mau hino comunista',\n",
              " 'memoria brasileiros intactalembramos golpe regime ditadura assassinatos torturas desaparecimentosa farta roubalheira militares lembramos bem haiti roubos cob lembramos golpe fraude eleitoral',\n",
              " 'prestigiaram mandaram heleno comandar genocidio haitiano mando eua otan',\n",
              " 'tens responder haiti onde acusam tropa assassinatos estupros etc']"
            ]
          },
          "metadata": {},
          "execution_count": 566
        }
      ]
    },
    {
      "cell_type": "markdown",
      "source": [
        "###Estatística dos tweets após o pré-processamento:"
      ],
      "metadata": {
        "id": "W_YlFRbv8duT"
      }
    },
    {
      "cell_type": "code",
      "source": [
        "tweets_stats(tweets_pre_proc)"
      ],
      "metadata": {
        "colab": {
          "base_uri": "https://localhost:8080/",
          "height": 638
        },
        "id": "kOCGonzX8Q2l",
        "outputId": "87330d48-313c-4abf-a890-4d7893def7e0"
      },
      "execution_count": 567,
      "outputs": [
        {
          "output_type": "stream",
          "name": "stdout",
          "text": [
            "Total of tweets: 149303\n"
          ]
        },
        {
          "output_type": "display_data",
          "data": {
            "text/plain": [
              "<Figure size 2160x288 with 1 Axes>"
            ],
            "image/png": "[encoded data removed]"
          },
          "metadata": {
            "needs_background": "light"
          }
        },
        {
          "output_type": "display_data",
          "data": {
            "text/plain": [
              "<Figure size 2160x288 with 1 Axes>"
            ],
            "image/png": "[encoded data removed]"
          },
          "metadata": {
            "needs_background": "light"
          }
        }
      ]
    },
    {
      "cell_type": "markdown",
      "source": [
        "#Lematização e stemização"
      ],
      "metadata": {
        "id": "-yM03oGL-Jxo"
      }
    },
    {
      "cell_type": "code",
      "source": [
        "pln = spacy.load('pt')"
      ],
      "metadata": {
        "id": "CnC_XX9LADcR"
      },
      "execution_count": 568,
      "outputs": []
    },
    {
      "cell_type": "markdown",
      "source": [
        "###Lematização"
      ],
      "metadata": {
        "id": "bBsgn00LCmgR"
      }
    },
    {
      "cell_type": "code",
      "source": [
        "string_lem_example = 'capacetes brancos ajudaram haiti pare besteira ajudou haiti fim exercito capacetes brancos resolvem problema presos campos concentracao argentina criou'"
      ],
      "metadata": {
        "id": "_ZJ0sYt6AS_2"
      },
      "execution_count": 569,
      "outputs": []
    },
    {
      "cell_type": "code",
      "source": [
        "def lemmatization(tweet):\n",
        "  document = pln(tweet)\n",
        "  return ' '.join([token.lemma_ for token in document])"
      ],
      "metadata": {
        "id": "KPKFg1c2-IMC"
      },
      "execution_count": 570,
      "outputs": []
    },
    {
      "cell_type": "code",
      "source": [
        "tweet_lem_example = lemmatization(string_lem_example)"
      ],
      "metadata": {
        "id": "AmCCuTS0AlRp"
      },
      "execution_count": 571,
      "outputs": []
    },
    {
      "cell_type": "code",
      "source": [
        "tweet_lem_example"
      ],
      "metadata": {
        "colab": {
          "base_uri": "https://localhost:8080/",
          "height": 0
        },
        "id": "3mXcYsiFCwZu",
        "outputId": "2bef3539-10ba-45d2-9305-dc7058f34921"
      },
      "execution_count": 572,
      "outputs": [
        {
          "output_type": "execute_result",
          "data": {
            "text/plain": [
              "'capacete branco ajudar haiti parir besteira ajudar haiti fim exercitar capacete branco resolver problema preso campo concentracao argentino criar'"
            ],
            "application/vnd.google.colaboratory.intrinsic+json": {
              "type": "string"
            }
          },
          "metadata": {},
          "execution_count": 572
        }
      ]
    },
    {
      "cell_type": "code",
      "source": [
        "tweets_lemm = tweets_pre_proc.copy()\n",
        "tweets_lemm['text'] = tweets_pre_proc['text'].map(lambda tweet: lemmatization(tweet))"
      ],
      "metadata": {
        "id": "UOW43XYZDnTo"
      },
      "execution_count": 573,
      "outputs": []
    },
    {
      "cell_type": "code",
      "source": [
        "tweets_lemm.text.head().tolist()"
      ],
      "metadata": {
        "id": "2dP-qxwMD8ta",
        "colab": {
          "base_uri": "https://localhost:8080/"
        },
        "outputId": "0de47d6b-43f7-4fe4-b096-ad3def2fe1f4"
      },
      "execution_count": 574,
      "outputs": [
        {
          "output_type": "execute_result",
          "data": {
            "text/plain": [
              "['pensar lixar ganhar projecao estapafurdia missao brasileirao haiti',\n",
              " 'expulsar missao paz haiti certar enaltecer ditadura pra falar mau hino comunista',\n",
              " 'memoriar brasileiro intactalembramos golpe regime ditadura assassinato torturar desaparecimentosa farto roubalheira militar lembrar bem haiti roubo cob lembrar golpe fraudar eleitoral',\n",
              " 'prestigiar mandar heleno comandar genocidio haitiano mandar eua otan',\n",
              " 'ter responder haiti onde acusar tropa assassinato estupro etc']"
            ]
          },
          "metadata": {},
          "execution_count": 574
        }
      ]
    },
    {
      "cell_type": "markdown",
      "source": [
        "###Stematização"
      ],
      "metadata": {
        "id": "sDr540tzEMcg"
      }
    },
    {
      "cell_type": "code",
      "source": [
        "string_stem_example = 'capacetes brancos ajudaram haiti pare besteira ajudou haiti fim exercito capacetes brancos resolvem problema presos campos concentracao argentina criou'"
      ],
      "metadata": {
        "id": "spEstnAEEPa4"
      },
      "execution_count": 575,
      "outputs": []
    },
    {
      "cell_type": "code",
      "source": [
        "def stemming(tweet):\n",
        "  document = pln(tweet)\n",
        "  stemmer = nltk.stem.RSLPStemmer()\n",
        "  return ' '.join([stemmer.stem(token.text) for token in document])"
      ],
      "metadata": {
        "id": "sxGZ0sKtErVc"
      },
      "execution_count": 576,
      "outputs": []
    },
    {
      "cell_type": "code",
      "source": [
        "string_stem_example = stemming(string_stem_example)"
      ],
      "metadata": {
        "id": "E5Wxc-D_Ex4_"
      },
      "execution_count": 577,
      "outputs": []
    },
    {
      "cell_type": "code",
      "source": [
        "string_stem_example"
      ],
      "metadata": {
        "id": "TcSVDRNCE4RQ",
        "colab": {
          "base_uri": "https://localhost:8080/",
          "height": 35
        },
        "outputId": "7f9a976b-a7c1-4e84-f5e6-58f06fad607a"
      },
      "execution_count": 578,
      "outputs": [
        {
          "output_type": "execute_result",
          "data": {
            "text/plain": [
              "'capacet branc ajud hait par beste ajud hait fim exercit capacet branc resolv problem pres camp concentraca argentin cri'"
            ],
            "application/vnd.google.colaboratory.intrinsic+json": {
              "type": "string"
            }
          },
          "metadata": {},
          "execution_count": 578
        }
      ]
    },
    {
      "cell_type": "code",
      "source": [
        "tweets_stem = tweets_pre_proc.copy()\n",
        "tweets_stem['text'] = tweets_pre_proc['text'].map(lambda tweet: stemming(tweet))"
      ],
      "metadata": {
        "id": "THBmoMozOj9I"
      },
      "execution_count": 579,
      "outputs": []
    },
    {
      "cell_type": "code",
      "source": [
        "tweets_stem.text.head().tolist()"
      ],
      "metadata": {
        "id": "xMDljXZzO6Mg",
        "colab": {
          "base_uri": "https://localhost:8080/"
        },
        "outputId": "789782d3-9df1-402f-8899-3b1b3894e0bc"
      },
      "execution_count": 580,
      "outputs": [
        {
          "output_type": "execute_result",
          "data": {
            "text/plain": [
              "['pens lix ganh projeca estapafurd missa brasileira hait',\n",
              " 'expuls missa paz hait cert enaltec ditad pra fal mau hin comun',\n",
              " 'memor brasil intactalembr golp regim ditad assassinat tort desapareciment fart roubalh milit lembr bem hait roub cob lembr golp fraud eleitor',\n",
              " 'prestigi mand helen comand genocidi haiti mand eua otan',\n",
              " 'tem respond hait ond acus trop assassinat estupr etc']"
            ]
          },
          "metadata": {},
          "execution_count": 580
        }
      ]
    },
    {
      "cell_type": "markdown",
      "source": [
        "#Comparação de tweets originais, pré-processados, lematizados e stematizados"
      ],
      "metadata": {
        "id": "MnRiIaCuWFmn"
      }
    },
    {
      "cell_type": "markdown",
      "source": [
        "###Tweets originais"
      ],
      "metadata": {
        "id": "IhsrDBUGWUX4"
      }
    },
    {
      "cell_type": "code",
      "source": [
        "tweets_orig.text.head().tolist()"
      ],
      "metadata": {
        "id": "mbsDEFUbWEpD",
        "colab": {
          "base_uri": "https://localhost:8080/"
        },
        "outputId": "565af396-ee4f-4118-ebfc-683e983c15d1"
      },
      "execution_count": 581,
      "outputs": [
        {
          "output_type": "execute_result",
          "data": {
            "text/plain": [
              "['E pensar que esse lixo ganhou projeção com a estapafúrdia missão Brasileirão no Haiti https://t.co/Jb5gDlHzUk',\n",
              " 'nem recebi e já tô duro🤣🤣🤬',\n",
              " 'missão no Haiti https://t.co/8jT65Pw4aP',\n",
              " '@gen_heleno O sr foi expulso de uma missão de paz no Haiti. Estou certo? Enaltece ditaduras, quem és tu pra falar mau de um hino comunista?',\n",
              " '@gen_heleno A memória dos brasileiros está intacta,lembramos do Golpe de 64 o regime da Ditadura e seus Assassinatos Torturas Desaparecimentos,a farta Roubalheira dos militares e Lembramos muito bem do Haiti e dos Roubos no COB , também lembramos do golpe de 2016 e a fraude eleitoral 2018 !']"
            ]
          },
          "metadata": {},
          "execution_count": 581
        }
      ]
    },
    {
      "cell_type": "markdown",
      "source": [
        "### Tweets pré-processados"
      ],
      "metadata": {
        "id": "VwCswcJ2Weai"
      }
    },
    {
      "cell_type": "code",
      "source": [
        "tweets_pre_proc.text.head().tolist()"
      ],
      "metadata": {
        "id": "v_9v4lKcWdX4",
        "colab": {
          "base_uri": "https://localhost:8080/"
        },
        "outputId": "f34cc30e-57b4-43b9-f99f-f405243ec750"
      },
      "execution_count": 582,
      "outputs": [
        {
          "output_type": "execute_result",
          "data": {
            "text/plain": [
              "['pensar lixo ganhou projecao estapafurdia missao brasileirao haiti',\n",
              " 'expulso missao paz haiti certo enaltece ditaduras pra falar mau hino comunista',\n",
              " 'memoria brasileiros intactalembramos golpe regime ditadura assassinatos torturas desaparecimentosa farta roubalheira militares lembramos bem haiti roubos cob lembramos golpe fraude eleitoral',\n",
              " 'prestigiaram mandaram heleno comandar genocidio haitiano mando eua otan',\n",
              " 'tens responder haiti onde acusam tropa assassinatos estupros etc']"
            ]
          },
          "metadata": {},
          "execution_count": 582
        }
      ]
    },
    {
      "cell_type": "markdown",
      "source": [
        "###Tweets lematizados"
      ],
      "metadata": {
        "id": "dxW4UASqWmpo"
      }
    },
    {
      "cell_type": "code",
      "source": [
        "tweets_lemm.text.head().tolist()"
      ],
      "metadata": {
        "id": "XZWfGcaFWmKj",
        "colab": {
          "base_uri": "https://localhost:8080/"
        },
        "outputId": "e9502ec0-9c3e-46da-ee43-27ab4c1bf8ea"
      },
      "execution_count": 583,
      "outputs": [
        {
          "output_type": "execute_result",
          "data": {
            "text/plain": [
              "['pensar lixar ganhar projecao estapafurdia missao brasileirao haiti',\n",
              " 'expulsar missao paz haiti certar enaltecer ditadura pra falar mau hino comunista',\n",
              " 'memoriar brasileiro intactalembramos golpe regime ditadura assassinato torturar desaparecimentosa farto roubalheira militar lembrar bem haiti roubo cob lembrar golpe fraudar eleitoral',\n",
              " 'prestigiar mandar heleno comandar genocidio haitiano mandar eua otan',\n",
              " 'ter responder haiti onde acusar tropa assassinato estupro etc']"
            ]
          },
          "metadata": {},
          "execution_count": 583
        }
      ]
    },
    {
      "cell_type": "markdown",
      "source": [
        "###Tweets stematizados"
      ],
      "metadata": {
        "id": "edOZm1e_WzDB"
      }
    },
    {
      "cell_type": "code",
      "source": [
        "tweets_stem.text.head().tolist()"
      ],
      "metadata": {
        "id": "VIAbuvtZWwxg",
        "colab": {
          "base_uri": "https://localhost:8080/"
        },
        "outputId": "e07045d5-cc3b-4204-eb6c-c4581f301d19"
      },
      "execution_count": 584,
      "outputs": [
        {
          "output_type": "execute_result",
          "data": {
            "text/plain": [
              "['pens lix ganh projeca estapafurd missa brasileira hait',\n",
              " 'expuls missa paz hait cert enaltec ditad pra fal mau hin comun',\n",
              " 'memor brasil intactalembr golp regim ditad assassinat tort desapareciment fart roubalh milit lembr bem hait roub cob lembr golp fraud eleitor',\n",
              " 'prestigi mand helen comand genocidi haiti mand eua otan',\n",
              " 'tem respond hait ond acus trop assassinat estupr etc']"
            ]
          },
          "metadata": {},
          "execution_count": 584
        }
      ]
    },
    {
      "cell_type": "markdown",
      "source": [
        "##Criando o arquivo .csv dos tweets"
      ],
      "metadata": {
        "id": "tI_Fn8Q8hiwE"
      }
    },
    {
      "cell_type": "code",
      "source": [
        "df = pd.DataFrame(tweets_pre_proc)\n",
        "df.to_csv('/content/drive/My Drive/ColabNotebooks/pre_processed_tweets.csv')"
      ],
      "metadata": {
        "id": "REQ5FB9hHOtE"
      },
      "execution_count": 585,
      "outputs": []
    }
  ]
}