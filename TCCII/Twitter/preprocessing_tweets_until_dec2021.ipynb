{
  "nbformat": 4,
  "nbformat_minor": 0,
  "metadata": {
    "colab": {
      "name": "preprocessing_tweets_until_dec2021.ipynb",
      "provenance": [],
      "collapsed_sections": [],
      "authorship_tag": "ABX9TyOeEQwHD1bty/zmVqkVTmR4",
      "include_colab_link": true
    },
    "kernelspec": {
      "name": "python3",
      "display_name": "Python 3"
    },
    "language_info": {
      "name": "python"
    }
  },
  "cells": [
    {
      "cell_type": "markdown",
      "metadata": {
        "id": "view-in-github",
        "colab_type": "text"
      },
      "source": [
        "<a href=\"https://colab.research.google.com/github/jodfedlet/TCC/blob/main/TCCII/Twitter/preprocessing_tweets_until_dec2021.ipynb\" target=\"_parent\"><img src=\"https://colab.research.google.com/assets/colab-badge.svg\" alt=\"Open In Colab\"/></a>"
      ]
    },
    {
      "cell_type": "markdown",
      "source": [
        ""
      ],
      "metadata": {
        "id": "0qZ61swqh5PS"
      }
    },
    {
      "cell_type": "markdown",
      "source": [
        "###Importando/instalando bibliotecas"
      ],
      "metadata": {
        "id": "jlCU2XyBh6Jp"
      }
    },
    {
      "cell_type": "code",
      "metadata": {
        "id": "72EwE3OMOl0X"
      },
      "source": [
        "!pip install unidecode\n",
        "import pandas as pd\n",
        "import nltk\n",
        "import re\n",
        "import spacy\n",
        "from nltk.tokenize import word_tokenize\n",
        "from google.colab import drive\n",
        "drive.mount(\"/content/drive\")\n",
        "nltk.download('all-corpora')\n",
        "nltk.download('punkt')\n",
        "\n",
        "!python3 -m spacy download pt\n",
        "!pip install spacy-langdetect\n",
        "\n",
        "from nltk.corpus import stopwords\n",
        "from unidecode import unidecode\n",
        "from spacy_langdetect import LanguageDetector\n"
      ],
      "execution_count": null,
      "outputs": []
    },
    {
      "cell_type": "markdown",
      "source": [
        "# Carregamento dos tweets até dezembro de 2021"
      ],
      "metadata": {
        "id": "gR_wWs7KB_c1"
      }
    },
    {
      "cell_type": "code",
      "source": [
        "tweets = pd.read_csv('/content/drive/My Drive/ColabNotebooks/tweets_until_dec_2021.csv', lineterminator='\\n', index_col=0)"
      ],
      "metadata": {
        "id": "0KckrkjugjpP"
      },
      "execution_count": 101,
      "outputs": []
    },
    {
      "cell_type": "markdown",
      "source": [
        "#Quantidade de tweets até dezembro de 2021 antes do pré-processamento"
      ],
      "metadata": {
        "id": "UC1GLIqNEsKV"
      }
    },
    {
      "cell_type": "code",
      "source": [
        "tweets.shape"
      ],
      "metadata": {
        "colab": {
          "base_uri": "https://localhost:8080/"
        },
        "id": "HNixTkAmiwlR",
        "outputId": "abf95b50-4674-42ec-fb68-deb5c54251b8"
      },
      "execution_count": 102,
      "outputs": [
        {
          "output_type": "execute_result",
          "data": {
            "text/plain": [
              "(174293, 4)"
            ]
          },
          "metadata": {},
          "execution_count": 102
        }
      ]
    },
    {
      "cell_type": "code",
      "source": [
        "tweets.head()"
      ],
      "metadata": {
        "colab": {
          "base_uri": "https://localhost:8080/",
          "height": 206
        },
        "id": "uFSLsda3g2X_",
        "outputId": "3f9c84d8-a8b7-4003-e7dc-a637bde6bb89"
      },
      "execution_count": 103,
      "outputs": [
        {
          "output_type": "execute_result",
          "data": {
            "text/plain": [
              "                        datetime             tweet_id              user_id  \\\n",
              "10929  2021-12-30 23:59:11+00:00  1476704451339640832           1907518614   \n",
              "10930  2021-12-30 23:42:29+00:00  1476700246038257672  1306025410661158912   \n",
              "10931  2021-12-30 23:22:01+00:00  1476695096603066369           2742994119   \n",
              "10932  2021-12-30 22:48:50+00:00  1476686746708492290   912815654201380864   \n",
              "10933  2021-12-30 22:39:57+00:00  1476684512021172229             66831264   \n",
              "\n",
              "                                                    text  \n",
              "10929  @UOL “Capacetes brancos ajudaram no Haiti”. Pa...  \n",
              "10930  @Jezicacardoso1 @blitz1999_twins @Jacksontoled...  \n",
              "10931  Tive a viagem de uber mais legal. O motorista ...  \n",
              "10932  @_C4ssia Se puder ser convertido em kwacha zam...  \n",
              "10933  @AragaoMosart Tenente o exército brasileiro fr...  "
            ],
            "text/html": [
              "\n",
              "  <div id=\"df-728cc4b5-0dc5-4b06-b88f-91f400d0bc59\">\n",
              "    <div class=\"colab-df-container\">\n",
              "      <div>\n",
              "<style scoped>\n",
              "    .dataframe tbody tr th:only-of-type {\n",
              "        vertical-align: middle;\n",
              "    }\n",
              "\n",
              "    .dataframe tbody tr th {\n",
              "        vertical-align: top;\n",
              "    }\n",
              "\n",
              "    .dataframe thead th {\n",
              "        text-align: right;\n",
              "    }\n",
              "</style>\n",
              "<table border=\"1\" class=\"dataframe\">\n",
              "  <thead>\n",
              "    <tr style=\"text-align: right;\">\n",
              "      <th></th>\n",
              "      <th>datetime</th>\n",
              "      <th>tweet_id</th>\n",
              "      <th>user_id</th>\n",
              "      <th>text</th>\n",
              "    </tr>\n",
              "  </thead>\n",
              "  <tbody>\n",
              "    <tr>\n",
              "      <th>10929</th>\n",
              "      <td>2021-12-30 23:59:11+00:00</td>\n",
              "      <td>1476704451339640832</td>\n",
              "      <td>1907518614</td>\n",
              "      <td>@UOL “Capacetes brancos ajudaram no Haiti”. Pa...</td>\n",
              "    </tr>\n",
              "    <tr>\n",
              "      <th>10930</th>\n",
              "      <td>2021-12-30 23:42:29+00:00</td>\n",
              "      <td>1476700246038257672</td>\n",
              "      <td>1306025410661158912</td>\n",
              "      <td>@Jezicacardoso1 @blitz1999_twins @Jacksontoled...</td>\n",
              "    </tr>\n",
              "    <tr>\n",
              "      <th>10931</th>\n",
              "      <td>2021-12-30 23:22:01+00:00</td>\n",
              "      <td>1476695096603066369</td>\n",
              "      <td>2742994119</td>\n",
              "      <td>Tive a viagem de uber mais legal. O motorista ...</td>\n",
              "    </tr>\n",
              "    <tr>\n",
              "      <th>10932</th>\n",
              "      <td>2021-12-30 22:48:50+00:00</td>\n",
              "      <td>1476686746708492290</td>\n",
              "      <td>912815654201380864</td>\n",
              "      <td>@_C4ssia Se puder ser convertido em kwacha zam...</td>\n",
              "    </tr>\n",
              "    <tr>\n",
              "      <th>10933</th>\n",
              "      <td>2021-12-30 22:39:57+00:00</td>\n",
              "      <td>1476684512021172229</td>\n",
              "      <td>66831264</td>\n",
              "      <td>@AragaoMosart Tenente o exército brasileiro fr...</td>\n",
              "    </tr>\n",
              "  </tbody>\n",
              "</table>\n",
              "</div>\n",
              "      <button class=\"colab-df-convert\" onclick=\"convertToInteractive('df-728cc4b5-0dc5-4b06-b88f-91f400d0bc59')\"\n",
              "              title=\"Convert this dataframe to an interactive table.\"\n",
              "              style=\"display:none;\">\n",
              "        \n",
              "  <svg xmlns=\"http://www.w3.org/2000/svg\" height=\"24px\"viewBox=\"0 0 24 24\"\n",
              "       width=\"24px\">\n",
              "    <path d=\"M0 0h24v24H0V0z\" fill=\"none\"/>\n",
              "    <path d=\"M18.56 5.44l.94 2.06.94-2.06 2.06-.94-2.06-.94-.94-2.06-.94 2.06-2.06.94zm-11 1L8.5 8.5l.94-2.06 2.06-.94-2.06-.94L8.5 2.5l-.94 2.06-2.06.94zm10 10l.94 2.06.94-2.06 2.06-.94-2.06-.94-.94-2.06-.94 2.06-2.06.94z\"/><path d=\"M17.41 7.96l-1.37-1.37c-.4-.4-.92-.59-1.43-.59-.52 0-1.04.2-1.43.59L10.3 9.45l-7.72 7.72c-.78.78-.78 2.05 0 2.83L4 21.41c.39.39.9.59 1.41.59.51 0 1.02-.2 1.41-.59l7.78-7.78 2.81-2.81c.8-.78.8-2.07 0-2.86zM5.41 20L4 18.59l7.72-7.72 1.47 1.35L5.41 20z\"/>\n",
              "  </svg>\n",
              "      </button>\n",
              "      \n",
              "  <style>\n",
              "    .colab-df-container {\n",
              "      display:flex;\n",
              "      flex-wrap:wrap;\n",
              "      gap: 12px;\n",
              "    }\n",
              "\n",
              "    .colab-df-convert {\n",
              "      background-color: #E8F0FE;\n",
              "      border: none;\n",
              "      border-radius: 50%;\n",
              "      cursor: pointer;\n",
              "      display: none;\n",
              "      fill: #1967D2;\n",
              "      height: 32px;\n",
              "      padding: 0 0 0 0;\n",
              "      width: 32px;\n",
              "    }\n",
              "\n",
              "    .colab-df-convert:hover {\n",
              "      background-color: #E2EBFA;\n",
              "      box-shadow: 0px 1px 2px rgba(60, 64, 67, 0.3), 0px 1px 3px 1px rgba(60, 64, 67, 0.15);\n",
              "      fill: #174EA6;\n",
              "    }\n",
              "\n",
              "    [theme=dark] .colab-df-convert {\n",
              "      background-color: #3B4455;\n",
              "      fill: #D2E3FC;\n",
              "    }\n",
              "\n",
              "    [theme=dark] .colab-df-convert:hover {\n",
              "      background-color: #434B5C;\n",
              "      box-shadow: 0px 1px 3px 1px rgba(0, 0, 0, 0.15);\n",
              "      filter: drop-shadow(0px 1px 2px rgba(0, 0, 0, 0.3));\n",
              "      fill: #FFFFFF;\n",
              "    }\n",
              "  </style>\n",
              "\n",
              "      <script>\n",
              "        const buttonEl =\n",
              "          document.querySelector('#df-728cc4b5-0dc5-4b06-b88f-91f400d0bc59 button.colab-df-convert');\n",
              "        buttonEl.style.display =\n",
              "          google.colab.kernel.accessAllowed ? 'block' : 'none';\n",
              "\n",
              "        async function convertToInteractive(key) {\n",
              "          const element = document.querySelector('#df-728cc4b5-0dc5-4b06-b88f-91f400d0bc59');\n",
              "          const dataTable =\n",
              "            await google.colab.kernel.invokeFunction('convertToInteractive',\n",
              "                                                     [key], {});\n",
              "          if (!dataTable) return;\n",
              "\n",
              "          const docLinkHtml = 'Like what you see? Visit the ' +\n",
              "            '<a target=\"_blank\" href=https://colab.research.google.com/notebooks/data_table.ipynb>data table notebook</a>'\n",
              "            + ' to learn more about interactive tables.';\n",
              "          element.innerHTML = '';\n",
              "          dataTable['output_type'] = 'display_data';\n",
              "          await google.colab.output.renderOutput(dataTable, element);\n",
              "          const docLink = document.createElement('div');\n",
              "          docLink.innerHTML = docLinkHtml;\n",
              "          element.appendChild(docLink);\n",
              "        }\n",
              "      </script>\n",
              "    </div>\n",
              "  </div>\n",
              "  "
            ]
          },
          "metadata": {},
          "execution_count": 103
        }
      ]
    },
    {
      "cell_type": "code",
      "source": [
        "tweets.tail()"
      ],
      "metadata": {
        "colab": {
          "base_uri": "https://localhost:8080/",
          "height": 206
        },
        "id": "_DZcVSnSkI3J",
        "outputId": "54a7ad01-61de-426b-f46c-3ecf25ebc54d"
      },
      "execution_count": 104,
      "outputs": [
        {
          "output_type": "execute_result",
          "data": {
            "text/plain": [
              "                         datetime            tweet_id             user_id  \\\n",
              "185217  2018-01-01 11:15:07+00:00  947788269168857088           478396440   \n",
              "185218  2018-01-01 10:30:07+00:00  947776946787831808  824618261392359425   \n",
              "185219  2018-01-01 04:46:44+00:00  947690530498138112          2654726438   \n",
              "185220  2018-01-01 01:10:25+00:00  947636095033970688  784508732969512960   \n",
              "185221  2018-01-01 01:08:24+00:00  947635584792694785          4039768811   \n",
              "\n",
              "                                                     text  \n",
              "185217  Via #secoursdeshommes, asso #humanitaire #Guip...  \n",
              "185218  A internet brasileira é mais lenta que a da Et...  \n",
              "185219  https://t.co/1k54jvSxHj\\n\\nRÉGINE MINHA FADA D...  \n",
              "185220  @lmjrosez axanei de dedcobir q sei falat haitiano  \n",
              "185221  @signofzain anjo tava p traduzir do haitiano e...  "
            ],
            "text/html": [
              "\n",
              "  <div id=\"df-7bd60e68-4241-4d29-9ce5-fdac3ab51bdb\">\n",
              "    <div class=\"colab-df-container\">\n",
              "      <div>\n",
              "<style scoped>\n",
              "    .dataframe tbody tr th:only-of-type {\n",
              "        vertical-align: middle;\n",
              "    }\n",
              "\n",
              "    .dataframe tbody tr th {\n",
              "        vertical-align: top;\n",
              "    }\n",
              "\n",
              "    .dataframe thead th {\n",
              "        text-align: right;\n",
              "    }\n",
              "</style>\n",
              "<table border=\"1\" class=\"dataframe\">\n",
              "  <thead>\n",
              "    <tr style=\"text-align: right;\">\n",
              "      <th></th>\n",
              "      <th>datetime</th>\n",
              "      <th>tweet_id</th>\n",
              "      <th>user_id</th>\n",
              "      <th>text</th>\n",
              "    </tr>\n",
              "  </thead>\n",
              "  <tbody>\n",
              "    <tr>\n",
              "      <th>185217</th>\n",
              "      <td>2018-01-01 11:15:07+00:00</td>\n",
              "      <td>947788269168857088</td>\n",
              "      <td>478396440</td>\n",
              "      <td>Via #secoursdeshommes, asso #humanitaire #Guip...</td>\n",
              "    </tr>\n",
              "    <tr>\n",
              "      <th>185218</th>\n",
              "      <td>2018-01-01 10:30:07+00:00</td>\n",
              "      <td>947776946787831808</td>\n",
              "      <td>824618261392359425</td>\n",
              "      <td>A internet brasileira é mais lenta que a da Et...</td>\n",
              "    </tr>\n",
              "    <tr>\n",
              "      <th>185219</th>\n",
              "      <td>2018-01-01 04:46:44+00:00</td>\n",
              "      <td>947690530498138112</td>\n",
              "      <td>2654726438</td>\n",
              "      <td>https://t.co/1k54jvSxHj\\n\\nRÉGINE MINHA FADA D...</td>\n",
              "    </tr>\n",
              "    <tr>\n",
              "      <th>185220</th>\n",
              "      <td>2018-01-01 01:10:25+00:00</td>\n",
              "      <td>947636095033970688</td>\n",
              "      <td>784508732969512960</td>\n",
              "      <td>@lmjrosez axanei de dedcobir q sei falat haitiano</td>\n",
              "    </tr>\n",
              "    <tr>\n",
              "      <th>185221</th>\n",
              "      <td>2018-01-01 01:08:24+00:00</td>\n",
              "      <td>947635584792694785</td>\n",
              "      <td>4039768811</td>\n",
              "      <td>@signofzain anjo tava p traduzir do haitiano e...</td>\n",
              "    </tr>\n",
              "  </tbody>\n",
              "</table>\n",
              "</div>\n",
              "      <button class=\"colab-df-convert\" onclick=\"convertToInteractive('df-7bd60e68-4241-4d29-9ce5-fdac3ab51bdb')\"\n",
              "              title=\"Convert this dataframe to an interactive table.\"\n",
              "              style=\"display:none;\">\n",
              "        \n",
              "  <svg xmlns=\"http://www.w3.org/2000/svg\" height=\"24px\"viewBox=\"0 0 24 24\"\n",
              "       width=\"24px\">\n",
              "    <path d=\"M0 0h24v24H0V0z\" fill=\"none\"/>\n",
              "    <path d=\"M18.56 5.44l.94 2.06.94-2.06 2.06-.94-2.06-.94-.94-2.06-.94 2.06-2.06.94zm-11 1L8.5 8.5l.94-2.06 2.06-.94-2.06-.94L8.5 2.5l-.94 2.06-2.06.94zm10 10l.94 2.06.94-2.06 2.06-.94-2.06-.94-.94-2.06-.94 2.06-2.06.94z\"/><path d=\"M17.41 7.96l-1.37-1.37c-.4-.4-.92-.59-1.43-.59-.52 0-1.04.2-1.43.59L10.3 9.45l-7.72 7.72c-.78.78-.78 2.05 0 2.83L4 21.41c.39.39.9.59 1.41.59.51 0 1.02-.2 1.41-.59l7.78-7.78 2.81-2.81c.8-.78.8-2.07 0-2.86zM5.41 20L4 18.59l7.72-7.72 1.47 1.35L5.41 20z\"/>\n",
              "  </svg>\n",
              "      </button>\n",
              "      \n",
              "  <style>\n",
              "    .colab-df-container {\n",
              "      display:flex;\n",
              "      flex-wrap:wrap;\n",
              "      gap: 12px;\n",
              "    }\n",
              "\n",
              "    .colab-df-convert {\n",
              "      background-color: #E8F0FE;\n",
              "      border: none;\n",
              "      border-radius: 50%;\n",
              "      cursor: pointer;\n",
              "      display: none;\n",
              "      fill: #1967D2;\n",
              "      height: 32px;\n",
              "      padding: 0 0 0 0;\n",
              "      width: 32px;\n",
              "    }\n",
              "\n",
              "    .colab-df-convert:hover {\n",
              "      background-color: #E2EBFA;\n",
              "      box-shadow: 0px 1px 2px rgba(60, 64, 67, 0.3), 0px 1px 3px 1px rgba(60, 64, 67, 0.15);\n",
              "      fill: #174EA6;\n",
              "    }\n",
              "\n",
              "    [theme=dark] .colab-df-convert {\n",
              "      background-color: #3B4455;\n",
              "      fill: #D2E3FC;\n",
              "    }\n",
              "\n",
              "    [theme=dark] .colab-df-convert:hover {\n",
              "      background-color: #434B5C;\n",
              "      box-shadow: 0px 1px 3px 1px rgba(0, 0, 0, 0.15);\n",
              "      filter: drop-shadow(0px 1px 2px rgba(0, 0, 0, 0.3));\n",
              "      fill: #FFFFFF;\n",
              "    }\n",
              "  </style>\n",
              "\n",
              "      <script>\n",
              "        const buttonEl =\n",
              "          document.querySelector('#df-7bd60e68-4241-4d29-9ce5-fdac3ab51bdb button.colab-df-convert');\n",
              "        buttonEl.style.display =\n",
              "          google.colab.kernel.accessAllowed ? 'block' : 'none';\n",
              "\n",
              "        async function convertToInteractive(key) {\n",
              "          const element = document.querySelector('#df-7bd60e68-4241-4d29-9ce5-fdac3ab51bdb');\n",
              "          const dataTable =\n",
              "            await google.colab.kernel.invokeFunction('convertToInteractive',\n",
              "                                                     [key], {});\n",
              "          if (!dataTable) return;\n",
              "\n",
              "          const docLinkHtml = 'Like what you see? Visit the ' +\n",
              "            '<a target=\"_blank\" href=https://colab.research.google.com/notebooks/data_table.ipynb>data table notebook</a>'\n",
              "            + ' to learn more about interactive tables.';\n",
              "          element.innerHTML = '';\n",
              "          dataTable['output_type'] = 'display_data';\n",
              "          await google.colab.output.renderOutput(dataTable, element);\n",
              "          const docLink = document.createElement('div');\n",
              "          docLink.innerHTML = docLinkHtml;\n",
              "          element.appendChild(docLink);\n",
              "        }\n",
              "      </script>\n",
              "    </div>\n",
              "  </div>\n",
              "  "
            ]
          },
          "metadata": {},
          "execution_count": 104
        }
      ]
    },
    {
      "cell_type": "code",
      "source": [
        "tweets['text']"
      ],
      "metadata": {
        "colab": {
          "base_uri": "https://localhost:8080/"
        },
        "id": "GepT_RBf7eH3",
        "outputId": "c92d5cd4-1c72-4e62-d7a2-ac7bb6d206a6"
      },
      "execution_count": 105,
      "outputs": [
        {
          "output_type": "execute_result",
          "data": {
            "text/plain": [
              "10929     @UOL “Capacetes brancos ajudaram no Haiti”. Pa...\n",
              "10930     @Jezicacardoso1 @blitz1999_twins @Jacksontoled...\n",
              "10931     Tive a viagem de uber mais legal. O motorista ...\n",
              "10932     @_C4ssia Se puder ser convertido em kwacha zam...\n",
              "10933     @AragaoMosart Tenente o exército brasileiro fr...\n",
              "                                ...                        \n",
              "185217    Via #secoursdeshommes, asso #humanitaire #Guip...\n",
              "185218    A internet brasileira é mais lenta que a da Et...\n",
              "185219    https://t.co/1k54jvSxHj\\n\\nRÉGINE MINHA FADA D...\n",
              "185220    @lmjrosez axanei de dedcobir q sei falat haitiano\n",
              "185221    @signofzain anjo tava p traduzir do haitiano e...\n",
              "Name: text, Length: 174293, dtype: object"
            ]
          },
          "metadata": {},
          "execution_count": 105
        }
      ]
    },
    {
      "cell_type": "markdown",
      "source": [
        "#Pegar os stop words da língua portuguesa usando NLTK"
      ],
      "metadata": {
        "id": "dgOt6eY9GGIN"
      }
    },
    {
      "cell_type": "code",
      "source": [
        "stop_words = set(stopwords.words('portuguese'))"
      ],
      "metadata": {
        "id": "MD9FttR_ZujT"
      },
      "execution_count": 106,
      "outputs": []
    },
    {
      "cell_type": "code",
      "source": [
        "len(stop_words)\n"
      ],
      "metadata": {
        "colab": {
          "base_uri": "https://localhost:8080/"
        },
        "id": "LItshnuibmxO",
        "outputId": "af751a14-7bc8-4357-af16-6427cf74f878"
      },
      "execution_count": 111,
      "outputs": [
        {
          "output_type": "execute_result",
          "data": {
            "text/plain": [
              "204"
            ]
          },
          "metadata": {},
          "execution_count": 111
        }
      ]
    },
    {
      "cell_type": "code",
      "source": [
        "stop_words"
      ],
      "metadata": {
        "id": "dxY7V9fec_-4",
        "colab": {
          "base_uri": "https://localhost:8080/"
        },
        "outputId": "1cbe85b2-4b19-4c4b-e8b1-a08fe0922953"
      },
      "execution_count": 112,
      "outputs": [
        {
          "output_type": "execute_result",
          "data": {
            "text/plain": [
              "{'a',\n",
              " 'ao',\n",
              " 'aos',\n",
              " 'aquela',\n",
              " 'aquelas',\n",
              " 'aquele',\n",
              " 'aqueles',\n",
              " 'aquilo',\n",
              " 'as',\n",
              " 'até',\n",
              " 'com',\n",
              " 'como',\n",
              " 'da',\n",
              " 'das',\n",
              " 'de',\n",
              " 'dela',\n",
              " 'delas',\n",
              " 'dele',\n",
              " 'deles',\n",
              " 'depois',\n",
              " 'do',\n",
              " 'dos',\n",
              " 'e',\n",
              " 'ela',\n",
              " 'elas',\n",
              " 'ele',\n",
              " 'eles',\n",
              " 'em',\n",
              " 'entre',\n",
              " 'era',\n",
              " 'eram',\n",
              " 'essa',\n",
              " 'essas',\n",
              " 'esse',\n",
              " 'esses',\n",
              " 'esta',\n",
              " 'estamos',\n",
              " 'estas',\n",
              " 'estava',\n",
              " 'estavam',\n",
              " 'este',\n",
              " 'esteja',\n",
              " 'estejam',\n",
              " 'estejamos',\n",
              " 'estes',\n",
              " 'esteve',\n",
              " 'estive',\n",
              " 'estivemos',\n",
              " 'estiver',\n",
              " 'estivera',\n",
              " 'estiveram',\n",
              " 'estiverem',\n",
              " 'estivermos',\n",
              " 'estivesse',\n",
              " 'estivessem',\n",
              " 'estivéramos',\n",
              " 'estivéssemos',\n",
              " 'estou',\n",
              " 'está',\n",
              " 'estávamos',\n",
              " 'estão',\n",
              " 'eu',\n",
              " 'foi',\n",
              " 'fomos',\n",
              " 'for',\n",
              " 'fora',\n",
              " 'foram',\n",
              " 'forem',\n",
              " 'formos',\n",
              " 'fosse',\n",
              " 'fossem',\n",
              " 'fui',\n",
              " 'fôramos',\n",
              " 'fôssemos',\n",
              " 'haja',\n",
              " 'hajam',\n",
              " 'hajamos',\n",
              " 'havemos',\n",
              " 'hei',\n",
              " 'houve',\n",
              " 'houvemos',\n",
              " 'houver',\n",
              " 'houvera',\n",
              " 'houveram',\n",
              " 'houverei',\n",
              " 'houverem',\n",
              " 'houveremos',\n",
              " 'houveria',\n",
              " 'houveriam',\n",
              " 'houvermos',\n",
              " 'houverá',\n",
              " 'houverão',\n",
              " 'houveríamos',\n",
              " 'houvesse',\n",
              " 'houvessem',\n",
              " 'houvéramos',\n",
              " 'houvéssemos',\n",
              " 'há',\n",
              " 'hão',\n",
              " 'isso',\n",
              " 'isto',\n",
              " 'já',\n",
              " 'lhe',\n",
              " 'lhes',\n",
              " 'mais',\n",
              " 'mas',\n",
              " 'me',\n",
              " 'mesmo',\n",
              " 'meu',\n",
              " 'meus',\n",
              " 'minha',\n",
              " 'minhas',\n",
              " 'muito',\n",
              " 'na',\n",
              " 'nas',\n",
              " 'nem',\n",
              " 'no',\n",
              " 'nos',\n",
              " 'nossa',\n",
              " 'nossas',\n",
              " 'nosso',\n",
              " 'nossos',\n",
              " 'num',\n",
              " 'numa',\n",
              " 'não',\n",
              " 'nós',\n",
              " 'o',\n",
              " 'os',\n",
              " 'ou',\n",
              " 'para',\n",
              " 'pela',\n",
              " 'pelas',\n",
              " 'pelo',\n",
              " 'pelos',\n",
              " 'por',\n",
              " 'qual',\n",
              " 'quando',\n",
              " 'que',\n",
              " 'quem',\n",
              " 'se',\n",
              " 'seja',\n",
              " 'sejam',\n",
              " 'sejamos',\n",
              " 'sem',\n",
              " 'serei',\n",
              " 'seremos',\n",
              " 'seria',\n",
              " 'seriam',\n",
              " 'será',\n",
              " 'serão',\n",
              " 'seríamos',\n",
              " 'seu',\n",
              " 'seus',\n",
              " 'somos',\n",
              " 'sou',\n",
              " 'sua',\n",
              " 'suas',\n",
              " 'são',\n",
              " 'só',\n",
              " 'também',\n",
              " 'te',\n",
              " 'tem',\n",
              " 'temos',\n",
              " 'tenha',\n",
              " 'tenham',\n",
              " 'tenhamos',\n",
              " 'tenho',\n",
              " 'terei',\n",
              " 'teremos',\n",
              " 'teria',\n",
              " 'teriam',\n",
              " 'terá',\n",
              " 'terão',\n",
              " 'teríamos',\n",
              " 'teu',\n",
              " 'teus',\n",
              " 'teve',\n",
              " 'tinha',\n",
              " 'tinham',\n",
              " 'tive',\n",
              " 'tivemos',\n",
              " 'tiver',\n",
              " 'tivera',\n",
              " 'tiveram',\n",
              " 'tiverem',\n",
              " 'tivermos',\n",
              " 'tivesse',\n",
              " 'tivessem',\n",
              " 'tivéramos',\n",
              " 'tivéssemos',\n",
              " 'tu',\n",
              " 'tua',\n",
              " 'tuas',\n",
              " 'tém',\n",
              " 'tínhamos',\n",
              " 'um',\n",
              " 'uma',\n",
              " 'você',\n",
              " 'vocês',\n",
              " 'vos',\n",
              " 'à',\n",
              " 'às',\n",
              " 'é',\n",
              " 'éramos'}"
            ]
          },
          "metadata": {},
          "execution_count": 112
        }
      ]
    },
    {
      "cell_type": "markdown",
      "source": [
        "#Pré-processamento dos tweets"
      ],
      "metadata": {
        "id": "VM-vll20KqvP"
      }
    },
    {
      "cell_type": "markdown",
      "source": [
        "###Função para limpar os tweets"
      ],
      "metadata": {
        "id": "PAlOZbaXCNDM"
      }
    },
    {
      "cell_type": "code",
      "source": [
        "def pre_processing_tweets(tweet):\n",
        "  tweet_list = str(tweet).lower().split()\n",
        " \n",
        "  #remover palavras que iniciam com @, # ou com tamanho < 2 se forem diferentes de ht.\n",
        "  def remove_undesirable_words(tweet_list):\n",
        "      new_list_ = []\n",
        "      for token in tweet_list:\n",
        "         if token.startswith('@') or token.startswith('#') or (len(token) < 3 and token != 'ht'): continue\n",
        "         new_list_.append(remove_emphasis(token))\n",
        "      return new_list_\n",
        "\n",
        "  #remover acentuações\n",
        "  def remove_emphasis(token):\n",
        "      return unidecode(token)\n",
        "\n",
        "  #remover stopwords da língua portuguesa\n",
        "  def remove_stop_words(tweet_list):\n",
        "      return ' '.join([token for token in tweet_list if token not in stop_words])\n",
        "\n",
        "  #remover urls\n",
        "  def remove_url(tweet_without_sw):\n",
        "      return re.sub(r\"http\\S+\", \"\", tweet_without_sw)\n",
        "\n",
        "  #remover pontuações\n",
        "  def remove_punctuation(tweet):\n",
        "      return re.sub(r'[^\\w\\s]','',tweet)\n",
        "\n",
        "  #remover palavras que contem ou que são números\n",
        "  def remove_numeric(tweet):\n",
        "     return ' '.join([token for token in tweet.split() if not token.isdigit() and not any(map(str.isdigit, token))])    \n",
        "\n",
        "  tweet_list = remove_undesirable_words(tweet_list)\n",
        "  tweet_without_sw = remove_stop_words(tweet_list)\n",
        "  tweet = remove_url(tweet_without_sw)\n",
        "  tweet = remove_punctuation(tweet)\n",
        "  return remove_numeric(tweet)\n",
        " "
      ],
      "metadata": {
        "id": "wKc3KHEUkiTm"
      },
      "execution_count": 114,
      "outputs": []
    },
    {
      "cell_type": "markdown",
      "source": [
        "\n",
        "###Exemplo de tweet antes da aplicação da função de pré-procesamento"
      ],
      "metadata": {
        "id": "L3NOY8WQEMH7"
      }
    },
    {
      "cell_type": "code",
      "source": [
        "string_example = \"@gen_heleno VAI BOTAR UM PIJAMA???? This dog 😂😂😂😂 E VAI PRA CASA DESCANSAR no ht.  REZA456 E PEÇA A DEUS QUE PERDOE TODAS AS BARBARIDADES QUE VOCÊ COMETEU NO HAITI em 2015. EXISTEM ALMAS LÁ QUE NUNCA IRÃO PERDOAR AS SUAS ATITUDES. VOCÊ E DEUS SABEM DISTO.\""
      ],
      "metadata": {
        "id": "mMmawXRUfeGY"
      },
      "execution_count": 116,
      "outputs": []
    },
    {
      "cell_type": "code",
      "source": [
        "string_example"
      ],
      "metadata": {
        "colab": {
          "base_uri": "https://localhost:8080/",
          "height": 53
        },
        "id": "wcDQzSxlsxAA",
        "outputId": "d9cc10ea-6849-44ea-cfc6-76423117da8b"
      },
      "execution_count": 117,
      "outputs": [
        {
          "output_type": "execute_result",
          "data": {
            "text/plain": [
              "'@gen_heleno VAI BOTAR UM PIJAMA???? This dog 😂😂😂😂 E VAI PRA CASA DESCANSAR no ht.  REZA456 E PEÇA A DEUS QUE PERDOE TODAS AS BARBARIDADES QUE VOCÊ COMETEU NO HAITI em 2015. EXISTEM ALMAS LÁ QUE NUNCA IRÃO PERDOAR AS SUAS ATITUDES. VOCÊ E DEUS SABEM DISTO.'"
            ],
            "application/vnd.google.colaboratory.intrinsic+json": {
              "type": "string"
            }
          },
          "metadata": {},
          "execution_count": 117
        }
      ]
    },
    {
      "cell_type": "code",
      "source": [
        "  # string_ = string_example.split()\n",
        "\n",
        "  # mot_original = ''\n",
        "  # for mot in string_:\n",
        "  #   if not mot.startswith('@') and not mot.startswith('#'):\n",
        "  #     mot_original += mot.lower()+' '\n",
        "\n",
        "  # mot_original = nltk.word_tokenize(mot_original, language=\"portuguese\")"
      ],
      "metadata": {
        "id": "zXmF510-PT55"
      },
      "execution_count": null,
      "outputs": []
    },
    {
      "cell_type": "code",
      "source": [
        "#mot_original"
      ],
      "metadata": {
        "id": "vJuyANoJPV2G"
      },
      "execution_count": null,
      "outputs": []
    },
    {
      "cell_type": "code",
      "source": [
        "filtered_tweet = pre_processing_tweets(string_example)"
      ],
      "metadata": {
        "id": "2cPuLlD1dxF7"
      },
      "execution_count": 118,
      "outputs": []
    },
    {
      "cell_type": "markdown",
      "source": [
        "###Exemplo de tweet depois da aplicação da função de pré-procesamento"
      ],
      "metadata": {
        "id": "DL-GiFlgEelV"
      }
    },
    {
      "cell_type": "code",
      "source": [
        "filtered_tweet"
      ],
      "metadata": {
        "colab": {
          "base_uri": "https://localhost:8080/",
          "height": 35
        },
        "id": "onsjf2SAWsC0",
        "outputId": "05879a9b-f6c0-4faf-cf1b-9fc235db8246"
      },
      "execution_count": 119,
      "outputs": [
        {
          "output_type": "execute_result",
          "data": {
            "text/plain": [
              "'vai botar pijama this dog vai pra casa descansar ht peca deus perdoe todas barbaridades voce cometeu haiti existem almas nunca irao perdoar atitudes voce deus sabem disto'"
            ],
            "application/vnd.google.colaboratory.intrinsic+json": {
              "type": "string"
            }
          },
          "metadata": {},
          "execution_count": 119
        }
      ]
    },
    {
      "cell_type": "markdown",
      "source": [
        "###Aplicação da função do pré-processamento nos tweets"
      ],
      "metadata": {
        "id": "DMjfv4xtFeF6"
      }
    },
    {
      "cell_type": "code",
      "source": [
        "tweets['text'] = tweets['text'].map(lambda tweet: pre_processing_tweets(tweet))"
      ],
      "metadata": {
        "id": "0f-PAjiRe0S0"
      },
      "execution_count": 120,
      "outputs": []
    },
    {
      "cell_type": "code",
      "source": [
        "tweets.shape"
      ],
      "metadata": {
        "colab": {
          "base_uri": "https://localhost:8080/"
        },
        "id": "b8uljx9xYuwY",
        "outputId": "8d664d9f-bda1-4e92-ecee-90528c83495f"
      },
      "execution_count": 121,
      "outputs": [
        {
          "output_type": "execute_result",
          "data": {
            "text/plain": [
              "(174293, 4)"
            ]
          },
          "metadata": {},
          "execution_count": 121
        }
      ]
    },
    {
      "cell_type": "markdown",
      "source": [
        "###Remover tweets com menos de 3 palavras"
      ],
      "metadata": {
        "id": "a_A3UZOKMVoD"
      }
    },
    {
      "cell_type": "code",
      "source": [
        "pre_processed_tweets = tweets.loc[tweets['text'].str.split().str.len() > 3]"
      ],
      "metadata": {
        "id": "9AddF7arLr7F"
      },
      "execution_count": 122,
      "outputs": []
    },
    {
      "cell_type": "code",
      "source": [
        "pre_processed_tweets.shape"
      ],
      "metadata": {
        "colab": {
          "base_uri": "https://localhost:8080/"
        },
        "id": "EGzg91V6L-N7",
        "outputId": "3b76c866-a43c-49c0-b1f1-49ec1064dd10"
      },
      "execution_count": 124,
      "outputs": [
        {
          "output_type": "execute_result",
          "data": {
            "text/plain": [
              "(161622, 4)"
            ]
          },
          "metadata": {},
          "execution_count": 124
        }
      ]
    },
    {
      "cell_type": "code",
      "source": [
        "pre_processed_tweets.head()"
      ],
      "metadata": {
        "colab": {
          "base_uri": "https://localhost:8080/",
          "height": 206
        },
        "id": "6ry2zz64HfbC",
        "outputId": "119f01a6-b317-4c1e-a1fb-8bb6d8ea8b99"
      },
      "execution_count": 125,
      "outputs": [
        {
          "output_type": "execute_result",
          "data": {
            "text/plain": [
              "                        datetime             tweet_id              user_id  \\\n",
              "10929  2021-12-30 23:59:11+00:00  1476704451339640832           1907518614   \n",
              "10930  2021-12-30 23:42:29+00:00  1476700246038257672  1306025410661158912   \n",
              "10931  2021-12-30 23:22:01+00:00  1476695096603066369           2742994119   \n",
              "10932  2021-12-30 22:48:50+00:00  1476686746708492290   912815654201380864   \n",
              "10933  2021-12-30 22:39:57+00:00  1476684512021172229             66831264   \n",
              "\n",
              "                                                    text  \n",
              "10929  capacetes brancos ajudaram haiti pare besteira...  \n",
              "10930  anos poder abandonou cinquenta cento populacao...  \n",
              "10931  viagem uber legal motorista haiti professor ve...  \n",
              "10932  puder ser convertido kwacha zambiano won norte...  \n",
              "10933        tenente exercito brasileiro fracassou haiti  "
            ],
            "text/html": [
              "\n",
              "  <div id=\"df-68161955-c269-46d5-983c-fcf008cc7c4e\">\n",
              "    <div class=\"colab-df-container\">\n",
              "      <div>\n",
              "<style scoped>\n",
              "    .dataframe tbody tr th:only-of-type {\n",
              "        vertical-align: middle;\n",
              "    }\n",
              "\n",
              "    .dataframe tbody tr th {\n",
              "        vertical-align: top;\n",
              "    }\n",
              "\n",
              "    .dataframe thead th {\n",
              "        text-align: right;\n",
              "    }\n",
              "</style>\n",
              "<table border=\"1\" class=\"dataframe\">\n",
              "  <thead>\n",
              "    <tr style=\"text-align: right;\">\n",
              "      <th></th>\n",
              "      <th>datetime</th>\n",
              "      <th>tweet_id</th>\n",
              "      <th>user_id</th>\n",
              "      <th>text</th>\n",
              "    </tr>\n",
              "  </thead>\n",
              "  <tbody>\n",
              "    <tr>\n",
              "      <th>10929</th>\n",
              "      <td>2021-12-30 23:59:11+00:00</td>\n",
              "      <td>1476704451339640832</td>\n",
              "      <td>1907518614</td>\n",
              "      <td>capacetes brancos ajudaram haiti pare besteira...</td>\n",
              "    </tr>\n",
              "    <tr>\n",
              "      <th>10930</th>\n",
              "      <td>2021-12-30 23:42:29+00:00</td>\n",
              "      <td>1476700246038257672</td>\n",
              "      <td>1306025410661158912</td>\n",
              "      <td>anos poder abandonou cinquenta cento populacao...</td>\n",
              "    </tr>\n",
              "    <tr>\n",
              "      <th>10931</th>\n",
              "      <td>2021-12-30 23:22:01+00:00</td>\n",
              "      <td>1476695096603066369</td>\n",
              "      <td>2742994119</td>\n",
              "      <td>viagem uber legal motorista haiti professor ve...</td>\n",
              "    </tr>\n",
              "    <tr>\n",
              "      <th>10932</th>\n",
              "      <td>2021-12-30 22:48:50+00:00</td>\n",
              "      <td>1476686746708492290</td>\n",
              "      <td>912815654201380864</td>\n",
              "      <td>puder ser convertido kwacha zambiano won norte...</td>\n",
              "    </tr>\n",
              "    <tr>\n",
              "      <th>10933</th>\n",
              "      <td>2021-12-30 22:39:57+00:00</td>\n",
              "      <td>1476684512021172229</td>\n",
              "      <td>66831264</td>\n",
              "      <td>tenente exercito brasileiro fracassou haiti</td>\n",
              "    </tr>\n",
              "  </tbody>\n",
              "</table>\n",
              "</div>\n",
              "      <button class=\"colab-df-convert\" onclick=\"convertToInteractive('df-68161955-c269-46d5-983c-fcf008cc7c4e')\"\n",
              "              title=\"Convert this dataframe to an interactive table.\"\n",
              "              style=\"display:none;\">\n",
              "        \n",
              "  <svg xmlns=\"http://www.w3.org/2000/svg\" height=\"24px\"viewBox=\"0 0 24 24\"\n",
              "       width=\"24px\">\n",
              "    <path d=\"M0 0h24v24H0V0z\" fill=\"none\"/>\n",
              "    <path d=\"M18.56 5.44l.94 2.06.94-2.06 2.06-.94-2.06-.94-.94-2.06-.94 2.06-2.06.94zm-11 1L8.5 8.5l.94-2.06 2.06-.94-2.06-.94L8.5 2.5l-.94 2.06-2.06.94zm10 10l.94 2.06.94-2.06 2.06-.94-2.06-.94-.94-2.06-.94 2.06-2.06.94z\"/><path d=\"M17.41 7.96l-1.37-1.37c-.4-.4-.92-.59-1.43-.59-.52 0-1.04.2-1.43.59L10.3 9.45l-7.72 7.72c-.78.78-.78 2.05 0 2.83L4 21.41c.39.39.9.59 1.41.59.51 0 1.02-.2 1.41-.59l7.78-7.78 2.81-2.81c.8-.78.8-2.07 0-2.86zM5.41 20L4 18.59l7.72-7.72 1.47 1.35L5.41 20z\"/>\n",
              "  </svg>\n",
              "      </button>\n",
              "      \n",
              "  <style>\n",
              "    .colab-df-container {\n",
              "      display:flex;\n",
              "      flex-wrap:wrap;\n",
              "      gap: 12px;\n",
              "    }\n",
              "\n",
              "    .colab-df-convert {\n",
              "      background-color: #E8F0FE;\n",
              "      border: none;\n",
              "      border-radius: 50%;\n",
              "      cursor: pointer;\n",
              "      display: none;\n",
              "      fill: #1967D2;\n",
              "      height: 32px;\n",
              "      padding: 0 0 0 0;\n",
              "      width: 32px;\n",
              "    }\n",
              "\n",
              "    .colab-df-convert:hover {\n",
              "      background-color: #E2EBFA;\n",
              "      box-shadow: 0px 1px 2px rgba(60, 64, 67, 0.3), 0px 1px 3px 1px rgba(60, 64, 67, 0.15);\n",
              "      fill: #174EA6;\n",
              "    }\n",
              "\n",
              "    [theme=dark] .colab-df-convert {\n",
              "      background-color: #3B4455;\n",
              "      fill: #D2E3FC;\n",
              "    }\n",
              "\n",
              "    [theme=dark] .colab-df-convert:hover {\n",
              "      background-color: #434B5C;\n",
              "      box-shadow: 0px 1px 3px 1px rgba(0, 0, 0, 0.15);\n",
              "      filter: drop-shadow(0px 1px 2px rgba(0, 0, 0, 0.3));\n",
              "      fill: #FFFFFF;\n",
              "    }\n",
              "  </style>\n",
              "\n",
              "      <script>\n",
              "        const buttonEl =\n",
              "          document.querySelector('#df-68161955-c269-46d5-983c-fcf008cc7c4e button.colab-df-convert');\n",
              "        buttonEl.style.display =\n",
              "          google.colab.kernel.accessAllowed ? 'block' : 'none';\n",
              "\n",
              "        async function convertToInteractive(key) {\n",
              "          const element = document.querySelector('#df-68161955-c269-46d5-983c-fcf008cc7c4e');\n",
              "          const dataTable =\n",
              "            await google.colab.kernel.invokeFunction('convertToInteractive',\n",
              "                                                     [key], {});\n",
              "          if (!dataTable) return;\n",
              "\n",
              "          const docLinkHtml = 'Like what you see? Visit the ' +\n",
              "            '<a target=\"_blank\" href=https://colab.research.google.com/notebooks/data_table.ipynb>data table notebook</a>'\n",
              "            + ' to learn more about interactive tables.';\n",
              "          element.innerHTML = '';\n",
              "          dataTable['output_type'] = 'display_data';\n",
              "          await google.colab.output.renderOutput(dataTable, element);\n",
              "          const docLink = document.createElement('div');\n",
              "          docLink.innerHTML = docLinkHtml;\n",
              "          element.appendChild(docLink);\n",
              "        }\n",
              "      </script>\n",
              "    </div>\n",
              "  </div>\n",
              "  "
            ]
          },
          "metadata": {},
          "execution_count": 125
        }
      ]
    },
    {
      "cell_type": "markdown",
      "source": [
        "###Remover os tweets duplicados"
      ],
      "metadata": {
        "id": "vAADO70qDBO9"
      }
    },
    {
      "cell_type": "code",
      "source": [
        "pre_processed_tweets.drop_duplicates(subset = [\"text\"], keep='first', inplace=True)"
      ],
      "metadata": {
        "colab": {
          "base_uri": "https://localhost:8080/"
        },
        "id": "51YZj0HF-VkT",
        "outputId": "fb31c2b4-d67f-419e-960c-b6ba06cc5bd8"
      },
      "execution_count": 126,
      "outputs": [
        {
          "output_type": "stream",
          "name": "stderr",
          "text": [
            "/usr/local/lib/python3.7/dist-packages/pandas/util/_decorators.py:311: SettingWithCopyWarning: \n",
            "A value is trying to be set on a copy of a slice from a DataFrame\n",
            "\n",
            "See the caveats in the documentation: https://pandas.pydata.org/pandas-docs/stable/user_guide/indexing.html#returning-a-view-versus-a-copy\n",
            "  return func(*args, **kwargs)\n"
          ]
        }
      ]
    },
    {
      "cell_type": "markdown",
      "source": [
        "###Quantidade de tweets até dezembro de 2021 após o pré-processamento"
      ],
      "metadata": {
        "id": "5ZaDi_AFFL5b"
      }
    },
    {
      "cell_type": "code",
      "source": [
        "pre_processed_tweets.shape"
      ],
      "metadata": {
        "colab": {
          "base_uri": "https://localhost:8080/"
        },
        "id": "6IC5wWgm-dnl",
        "outputId": "2459dd22-ba11-4894-e293-ce82dbb2d080"
      },
      "execution_count": 127,
      "outputs": [
        {
          "output_type": "execute_result",
          "data": {
            "text/plain": [
              "(141301, 4)"
            ]
          },
          "metadata": {},
          "execution_count": 127
        }
      ]
    },
    {
      "cell_type": "code",
      "source": [
        "pre_processed_tweets.head()"
      ],
      "metadata": {
        "colab": {
          "base_uri": "https://localhost:8080/",
          "height": 206
        },
        "id": "o_WQhu4WXc8x",
        "outputId": "34050d88-6490-43fa-bc46-978d8960462a"
      },
      "execution_count": 128,
      "outputs": [
        {
          "output_type": "execute_result",
          "data": {
            "text/plain": [
              "                        datetime             tweet_id              user_id  \\\n",
              "10929  2021-12-30 23:59:11+00:00  1476704451339640832           1907518614   \n",
              "10930  2021-12-30 23:42:29+00:00  1476700246038257672  1306025410661158912   \n",
              "10931  2021-12-30 23:22:01+00:00  1476695096603066369           2742994119   \n",
              "10932  2021-12-30 22:48:50+00:00  1476686746708492290   912815654201380864   \n",
              "10933  2021-12-30 22:39:57+00:00  1476684512021172229             66831264   \n",
              "\n",
              "                                                    text  \n",
              "10929  capacetes brancos ajudaram haiti pare besteira...  \n",
              "10930  anos poder abandonou cinquenta cento populacao...  \n",
              "10931  viagem uber legal motorista haiti professor ve...  \n",
              "10932  puder ser convertido kwacha zambiano won norte...  \n",
              "10933        tenente exercito brasileiro fracassou haiti  "
            ],
            "text/html": [
              "\n",
              "  <div id=\"df-3948ad5d-3cee-461e-9f3a-b456a4334342\">\n",
              "    <div class=\"colab-df-container\">\n",
              "      <div>\n",
              "<style scoped>\n",
              "    .dataframe tbody tr th:only-of-type {\n",
              "        vertical-align: middle;\n",
              "    }\n",
              "\n",
              "    .dataframe tbody tr th {\n",
              "        vertical-align: top;\n",
              "    }\n",
              "\n",
              "    .dataframe thead th {\n",
              "        text-align: right;\n",
              "    }\n",
              "</style>\n",
              "<table border=\"1\" class=\"dataframe\">\n",
              "  <thead>\n",
              "    <tr style=\"text-align: right;\">\n",
              "      <th></th>\n",
              "      <th>datetime</th>\n",
              "      <th>tweet_id</th>\n",
              "      <th>user_id</th>\n",
              "      <th>text</th>\n",
              "    </tr>\n",
              "  </thead>\n",
              "  <tbody>\n",
              "    <tr>\n",
              "      <th>10929</th>\n",
              "      <td>2021-12-30 23:59:11+00:00</td>\n",
              "      <td>1476704451339640832</td>\n",
              "      <td>1907518614</td>\n",
              "      <td>capacetes brancos ajudaram haiti pare besteira...</td>\n",
              "    </tr>\n",
              "    <tr>\n",
              "      <th>10930</th>\n",
              "      <td>2021-12-30 23:42:29+00:00</td>\n",
              "      <td>1476700246038257672</td>\n",
              "      <td>1306025410661158912</td>\n",
              "      <td>anos poder abandonou cinquenta cento populacao...</td>\n",
              "    </tr>\n",
              "    <tr>\n",
              "      <th>10931</th>\n",
              "      <td>2021-12-30 23:22:01+00:00</td>\n",
              "      <td>1476695096603066369</td>\n",
              "      <td>2742994119</td>\n",
              "      <td>viagem uber legal motorista haiti professor ve...</td>\n",
              "    </tr>\n",
              "    <tr>\n",
              "      <th>10932</th>\n",
              "      <td>2021-12-30 22:48:50+00:00</td>\n",
              "      <td>1476686746708492290</td>\n",
              "      <td>912815654201380864</td>\n",
              "      <td>puder ser convertido kwacha zambiano won norte...</td>\n",
              "    </tr>\n",
              "    <tr>\n",
              "      <th>10933</th>\n",
              "      <td>2021-12-30 22:39:57+00:00</td>\n",
              "      <td>1476684512021172229</td>\n",
              "      <td>66831264</td>\n",
              "      <td>tenente exercito brasileiro fracassou haiti</td>\n",
              "    </tr>\n",
              "  </tbody>\n",
              "</table>\n",
              "</div>\n",
              "      <button class=\"colab-df-convert\" onclick=\"convertToInteractive('df-3948ad5d-3cee-461e-9f3a-b456a4334342')\"\n",
              "              title=\"Convert this dataframe to an interactive table.\"\n",
              "              style=\"display:none;\">\n",
              "        \n",
              "  <svg xmlns=\"http://www.w3.org/2000/svg\" height=\"24px\"viewBox=\"0 0 24 24\"\n",
              "       width=\"24px\">\n",
              "    <path d=\"M0 0h24v24H0V0z\" fill=\"none\"/>\n",
              "    <path d=\"M18.56 5.44l.94 2.06.94-2.06 2.06-.94-2.06-.94-.94-2.06-.94 2.06-2.06.94zm-11 1L8.5 8.5l.94-2.06 2.06-.94-2.06-.94L8.5 2.5l-.94 2.06-2.06.94zm10 10l.94 2.06.94-2.06 2.06-.94-2.06-.94-.94-2.06-.94 2.06-2.06.94z\"/><path d=\"M17.41 7.96l-1.37-1.37c-.4-.4-.92-.59-1.43-.59-.52 0-1.04.2-1.43.59L10.3 9.45l-7.72 7.72c-.78.78-.78 2.05 0 2.83L4 21.41c.39.39.9.59 1.41.59.51 0 1.02-.2 1.41-.59l7.78-7.78 2.81-2.81c.8-.78.8-2.07 0-2.86zM5.41 20L4 18.59l7.72-7.72 1.47 1.35L5.41 20z\"/>\n",
              "  </svg>\n",
              "      </button>\n",
              "      \n",
              "  <style>\n",
              "    .colab-df-container {\n",
              "      display:flex;\n",
              "      flex-wrap:wrap;\n",
              "      gap: 12px;\n",
              "    }\n",
              "\n",
              "    .colab-df-convert {\n",
              "      background-color: #E8F0FE;\n",
              "      border: none;\n",
              "      border-radius: 50%;\n",
              "      cursor: pointer;\n",
              "      display: none;\n",
              "      fill: #1967D2;\n",
              "      height: 32px;\n",
              "      padding: 0 0 0 0;\n",
              "      width: 32px;\n",
              "    }\n",
              "\n",
              "    .colab-df-convert:hover {\n",
              "      background-color: #E2EBFA;\n",
              "      box-shadow: 0px 1px 2px rgba(60, 64, 67, 0.3), 0px 1px 3px 1px rgba(60, 64, 67, 0.15);\n",
              "      fill: #174EA6;\n",
              "    }\n",
              "\n",
              "    [theme=dark] .colab-df-convert {\n",
              "      background-color: #3B4455;\n",
              "      fill: #D2E3FC;\n",
              "    }\n",
              "\n",
              "    [theme=dark] .colab-df-convert:hover {\n",
              "      background-color: #434B5C;\n",
              "      box-shadow: 0px 1px 3px 1px rgba(0, 0, 0, 0.15);\n",
              "      filter: drop-shadow(0px 1px 2px rgba(0, 0, 0, 0.3));\n",
              "      fill: #FFFFFF;\n",
              "    }\n",
              "  </style>\n",
              "\n",
              "      <script>\n",
              "        const buttonEl =\n",
              "          document.querySelector('#df-3948ad5d-3cee-461e-9f3a-b456a4334342 button.colab-df-convert');\n",
              "        buttonEl.style.display =\n",
              "          google.colab.kernel.accessAllowed ? 'block' : 'none';\n",
              "\n",
              "        async function convertToInteractive(key) {\n",
              "          const element = document.querySelector('#df-3948ad5d-3cee-461e-9f3a-b456a4334342');\n",
              "          const dataTable =\n",
              "            await google.colab.kernel.invokeFunction('convertToInteractive',\n",
              "                                                     [key], {});\n",
              "          if (!dataTable) return;\n",
              "\n",
              "          const docLinkHtml = 'Like what you see? Visit the ' +\n",
              "            '<a target=\"_blank\" href=https://colab.research.google.com/notebooks/data_table.ipynb>data table notebook</a>'\n",
              "            + ' to learn more about interactive tables.';\n",
              "          element.innerHTML = '';\n",
              "          dataTable['output_type'] = 'display_data';\n",
              "          await google.colab.output.renderOutput(dataTable, element);\n",
              "          const docLink = document.createElement('div');\n",
              "          docLink.innerHTML = docLinkHtml;\n",
              "          element.appendChild(docLink);\n",
              "        }\n",
              "      </script>\n",
              "    </div>\n",
              "  </div>\n",
              "  "
            ]
          },
          "metadata": {},
          "execution_count": 128
        }
      ]
    },
    {
      "cell_type": "code",
      "source": [
        "pre_processed_tweets.tail()"
      ],
      "metadata": {
        "id": "4pCml9EPjdxn",
        "colab": {
          "base_uri": "https://localhost:8080/",
          "height": 206
        },
        "outputId": "24ce5562-4ff1-4248-ae77-e798cb4f91af"
      },
      "execution_count": 129,
      "outputs": [
        {
          "output_type": "execute_result",
          "data": {
            "text/plain": [
              "                         datetime            tweet_id             user_id  \\\n",
              "185215  2018-01-01 11:33:11+00:00  947792815668514816  896213196310183936   \n",
              "185216  2018-01-01 11:27:30+00:00  947791387797393408           182945726   \n",
              "185219  2018-01-01 04:46:44+00:00  947690530498138112          2654726438   \n",
              "185220  2018-01-01 01:10:25+00:00  947636095033970688  784508732969512960   \n",
              "185221  2018-01-01 01:08:24+00:00  947635584792694785          4039768811   \n",
              "\n",
              "                                                     text  \n",
              "185215  brasileiros morrem fome brasileiros inocentes ...  \n",
              "185216  merece homenagem medica sanitarista zilda arns...  \n",
              "185219                     regine fada haiti escolhi amar  \n",
              "185220                 axanei dedcobir sei falat haitiano  \n",
              "185221  anjo tava traduzir haitiano assim foi portugue...  "
            ],
            "text/html": [
              "\n",
              "  <div id=\"df-4b89cf35-bb4c-4b5b-ba34-0dea90521a84\">\n",
              "    <div class=\"colab-df-container\">\n",
              "      <div>\n",
              "<style scoped>\n",
              "    .dataframe tbody tr th:only-of-type {\n",
              "        vertical-align: middle;\n",
              "    }\n",
              "\n",
              "    .dataframe tbody tr th {\n",
              "        vertical-align: top;\n",
              "    }\n",
              "\n",
              "    .dataframe thead th {\n",
              "        text-align: right;\n",
              "    }\n",
              "</style>\n",
              "<table border=\"1\" class=\"dataframe\">\n",
              "  <thead>\n",
              "    <tr style=\"text-align: right;\">\n",
              "      <th></th>\n",
              "      <th>datetime</th>\n",
              "      <th>tweet_id</th>\n",
              "      <th>user_id</th>\n",
              "      <th>text</th>\n",
              "    </tr>\n",
              "  </thead>\n",
              "  <tbody>\n",
              "    <tr>\n",
              "      <th>185215</th>\n",
              "      <td>2018-01-01 11:33:11+00:00</td>\n",
              "      <td>947792815668514816</td>\n",
              "      <td>896213196310183936</td>\n",
              "      <td>brasileiros morrem fome brasileiros inocentes ...</td>\n",
              "    </tr>\n",
              "    <tr>\n",
              "      <th>185216</th>\n",
              "      <td>2018-01-01 11:27:30+00:00</td>\n",
              "      <td>947791387797393408</td>\n",
              "      <td>182945726</td>\n",
              "      <td>merece homenagem medica sanitarista zilda arns...</td>\n",
              "    </tr>\n",
              "    <tr>\n",
              "      <th>185219</th>\n",
              "      <td>2018-01-01 04:46:44+00:00</td>\n",
              "      <td>947690530498138112</td>\n",
              "      <td>2654726438</td>\n",
              "      <td>regine fada haiti escolhi amar</td>\n",
              "    </tr>\n",
              "    <tr>\n",
              "      <th>185220</th>\n",
              "      <td>2018-01-01 01:10:25+00:00</td>\n",
              "      <td>947636095033970688</td>\n",
              "      <td>784508732969512960</td>\n",
              "      <td>axanei dedcobir sei falat haitiano</td>\n",
              "    </tr>\n",
              "    <tr>\n",
              "      <th>185221</th>\n",
              "      <td>2018-01-01 01:08:24+00:00</td>\n",
              "      <td>947635584792694785</td>\n",
              "      <td>4039768811</td>\n",
              "      <td>anjo tava traduzir haitiano assim foi portugue...</td>\n",
              "    </tr>\n",
              "  </tbody>\n",
              "</table>\n",
              "</div>\n",
              "      <button class=\"colab-df-convert\" onclick=\"convertToInteractive('df-4b89cf35-bb4c-4b5b-ba34-0dea90521a84')\"\n",
              "              title=\"Convert this dataframe to an interactive table.\"\n",
              "              style=\"display:none;\">\n",
              "        \n",
              "  <svg xmlns=\"http://www.w3.org/2000/svg\" height=\"24px\"viewBox=\"0 0 24 24\"\n",
              "       width=\"24px\">\n",
              "    <path d=\"M0 0h24v24H0V0z\" fill=\"none\"/>\n",
              "    <path d=\"M18.56 5.44l.94 2.06.94-2.06 2.06-.94-2.06-.94-.94-2.06-.94 2.06-2.06.94zm-11 1L8.5 8.5l.94-2.06 2.06-.94-2.06-.94L8.5 2.5l-.94 2.06-2.06.94zm10 10l.94 2.06.94-2.06 2.06-.94-2.06-.94-.94-2.06-.94 2.06-2.06.94z\"/><path d=\"M17.41 7.96l-1.37-1.37c-.4-.4-.92-.59-1.43-.59-.52 0-1.04.2-1.43.59L10.3 9.45l-7.72 7.72c-.78.78-.78 2.05 0 2.83L4 21.41c.39.39.9.59 1.41.59.51 0 1.02-.2 1.41-.59l7.78-7.78 2.81-2.81c.8-.78.8-2.07 0-2.86zM5.41 20L4 18.59l7.72-7.72 1.47 1.35L5.41 20z\"/>\n",
              "  </svg>\n",
              "      </button>\n",
              "      \n",
              "  <style>\n",
              "    .colab-df-container {\n",
              "      display:flex;\n",
              "      flex-wrap:wrap;\n",
              "      gap: 12px;\n",
              "    }\n",
              "\n",
              "    .colab-df-convert {\n",
              "      background-color: #E8F0FE;\n",
              "      border: none;\n",
              "      border-radius: 50%;\n",
              "      cursor: pointer;\n",
              "      display: none;\n",
              "      fill: #1967D2;\n",
              "      height: 32px;\n",
              "      padding: 0 0 0 0;\n",
              "      width: 32px;\n",
              "    }\n",
              "\n",
              "    .colab-df-convert:hover {\n",
              "      background-color: #E2EBFA;\n",
              "      box-shadow: 0px 1px 2px rgba(60, 64, 67, 0.3), 0px 1px 3px 1px rgba(60, 64, 67, 0.15);\n",
              "      fill: #174EA6;\n",
              "    }\n",
              "\n",
              "    [theme=dark] .colab-df-convert {\n",
              "      background-color: #3B4455;\n",
              "      fill: #D2E3FC;\n",
              "    }\n",
              "\n",
              "    [theme=dark] .colab-df-convert:hover {\n",
              "      background-color: #434B5C;\n",
              "      box-shadow: 0px 1px 3px 1px rgba(0, 0, 0, 0.15);\n",
              "      filter: drop-shadow(0px 1px 2px rgba(0, 0, 0, 0.3));\n",
              "      fill: #FFFFFF;\n",
              "    }\n",
              "  </style>\n",
              "\n",
              "      <script>\n",
              "        const buttonEl =\n",
              "          document.querySelector('#df-4b89cf35-bb4c-4b5b-ba34-0dea90521a84 button.colab-df-convert');\n",
              "        buttonEl.style.display =\n",
              "          google.colab.kernel.accessAllowed ? 'block' : 'none';\n",
              "\n",
              "        async function convertToInteractive(key) {\n",
              "          const element = document.querySelector('#df-4b89cf35-bb4c-4b5b-ba34-0dea90521a84');\n",
              "          const dataTable =\n",
              "            await google.colab.kernel.invokeFunction('convertToInteractive',\n",
              "                                                     [key], {});\n",
              "          if (!dataTable) return;\n",
              "\n",
              "          const docLinkHtml = 'Like what you see? Visit the ' +\n",
              "            '<a target=\"_blank\" href=https://colab.research.google.com/notebooks/data_table.ipynb>data table notebook</a>'\n",
              "            + ' to learn more about interactive tables.';\n",
              "          element.innerHTML = '';\n",
              "          dataTable['output_type'] = 'display_data';\n",
              "          await google.colab.output.renderOutput(dataTable, element);\n",
              "          const docLink = document.createElement('div');\n",
              "          docLink.innerHTML = docLinkHtml;\n",
              "          element.appendChild(docLink);\n",
              "        }\n",
              "      </script>\n",
              "    </div>\n",
              "  </div>\n",
              "  "
            ]
          },
          "metadata": {},
          "execution_count": 129
        }
      ]
    },
    {
      "cell_type": "code",
      "source": [
        "pre_processed_tweets"
      ],
      "metadata": {
        "colab": {
          "base_uri": "https://localhost:8080/",
          "height": 424
        },
        "id": "l8YSDu9gDn-L",
        "outputId": "36e0261b-67e9-4365-e6f4-f46ce57761f5"
      },
      "execution_count": 130,
      "outputs": [
        {
          "output_type": "execute_result",
          "data": {
            "text/plain": [
              "                         datetime             tweet_id              user_id  \\\n",
              "10929   2021-12-30 23:59:11+00:00  1476704451339640832           1907518614   \n",
              "10930   2021-12-30 23:42:29+00:00  1476700246038257672  1306025410661158912   \n",
              "10931   2021-12-30 23:22:01+00:00  1476695096603066369           2742994119   \n",
              "10932   2021-12-30 22:48:50+00:00  1476686746708492290   912815654201380864   \n",
              "10933   2021-12-30 22:39:57+00:00  1476684512021172229             66831264   \n",
              "...                           ...                  ...                  ...   \n",
              "185215  2018-01-01 11:33:11+00:00   947792815668514816   896213196310183936   \n",
              "185216  2018-01-01 11:27:30+00:00   947791387797393408            182945726   \n",
              "185219  2018-01-01 04:46:44+00:00   947690530498138112           2654726438   \n",
              "185220  2018-01-01 01:10:25+00:00   947636095033970688   784508732969512960   \n",
              "185221  2018-01-01 01:08:24+00:00   947635584792694785           4039768811   \n",
              "\n",
              "                                                     text  \n",
              "10929   capacetes brancos ajudaram haiti pare besteira...  \n",
              "10930   anos poder abandonou cinquenta cento populacao...  \n",
              "10931   viagem uber legal motorista haiti professor ve...  \n",
              "10932   puder ser convertido kwacha zambiano won norte...  \n",
              "10933         tenente exercito brasileiro fracassou haiti  \n",
              "...                                                   ...  \n",
              "185215  brasileiros morrem fome brasileiros inocentes ...  \n",
              "185216  merece homenagem medica sanitarista zilda arns...  \n",
              "185219                     regine fada haiti escolhi amar  \n",
              "185220                 axanei dedcobir sei falat haitiano  \n",
              "185221  anjo tava traduzir haitiano assim foi portugue...  \n",
              "\n",
              "[141301 rows x 4 columns]"
            ],
            "text/html": [
              "\n",
              "  <div id=\"df-451d2ff1-c652-4261-874c-3e8aff1ae402\">\n",
              "    <div class=\"colab-df-container\">\n",
              "      <div>\n",
              "<style scoped>\n",
              "    .dataframe tbody tr th:only-of-type {\n",
              "        vertical-align: middle;\n",
              "    }\n",
              "\n",
              "    .dataframe tbody tr th {\n",
              "        vertical-align: top;\n",
              "    }\n",
              "\n",
              "    .dataframe thead th {\n",
              "        text-align: right;\n",
              "    }\n",
              "</style>\n",
              "<table border=\"1\" class=\"dataframe\">\n",
              "  <thead>\n",
              "    <tr style=\"text-align: right;\">\n",
              "      <th></th>\n",
              "      <th>datetime</th>\n",
              "      <th>tweet_id</th>\n",
              "      <th>user_id</th>\n",
              "      <th>text</th>\n",
              "    </tr>\n",
              "  </thead>\n",
              "  <tbody>\n",
              "    <tr>\n",
              "      <th>10929</th>\n",
              "      <td>2021-12-30 23:59:11+00:00</td>\n",
              "      <td>1476704451339640832</td>\n",
              "      <td>1907518614</td>\n",
              "      <td>capacetes brancos ajudaram haiti pare besteira...</td>\n",
              "    </tr>\n",
              "    <tr>\n",
              "      <th>10930</th>\n",
              "      <td>2021-12-30 23:42:29+00:00</td>\n",
              "      <td>1476700246038257672</td>\n",
              "      <td>1306025410661158912</td>\n",
              "      <td>anos poder abandonou cinquenta cento populacao...</td>\n",
              "    </tr>\n",
              "    <tr>\n",
              "      <th>10931</th>\n",
              "      <td>2021-12-30 23:22:01+00:00</td>\n",
              "      <td>1476695096603066369</td>\n",
              "      <td>2742994119</td>\n",
              "      <td>viagem uber legal motorista haiti professor ve...</td>\n",
              "    </tr>\n",
              "    <tr>\n",
              "      <th>10932</th>\n",
              "      <td>2021-12-30 22:48:50+00:00</td>\n",
              "      <td>1476686746708492290</td>\n",
              "      <td>912815654201380864</td>\n",
              "      <td>puder ser convertido kwacha zambiano won norte...</td>\n",
              "    </tr>\n",
              "    <tr>\n",
              "      <th>10933</th>\n",
              "      <td>2021-12-30 22:39:57+00:00</td>\n",
              "      <td>1476684512021172229</td>\n",
              "      <td>66831264</td>\n",
              "      <td>tenente exercito brasileiro fracassou haiti</td>\n",
              "    </tr>\n",
              "    <tr>\n",
              "      <th>...</th>\n",
              "      <td>...</td>\n",
              "      <td>...</td>\n",
              "      <td>...</td>\n",
              "      <td>...</td>\n",
              "    </tr>\n",
              "    <tr>\n",
              "      <th>185215</th>\n",
              "      <td>2018-01-01 11:33:11+00:00</td>\n",
              "      <td>947792815668514816</td>\n",
              "      <td>896213196310183936</td>\n",
              "      <td>brasileiros morrem fome brasileiros inocentes ...</td>\n",
              "    </tr>\n",
              "    <tr>\n",
              "      <th>185216</th>\n",
              "      <td>2018-01-01 11:27:30+00:00</td>\n",
              "      <td>947791387797393408</td>\n",
              "      <td>182945726</td>\n",
              "      <td>merece homenagem medica sanitarista zilda arns...</td>\n",
              "    </tr>\n",
              "    <tr>\n",
              "      <th>185219</th>\n",
              "      <td>2018-01-01 04:46:44+00:00</td>\n",
              "      <td>947690530498138112</td>\n",
              "      <td>2654726438</td>\n",
              "      <td>regine fada haiti escolhi amar</td>\n",
              "    </tr>\n",
              "    <tr>\n",
              "      <th>185220</th>\n",
              "      <td>2018-01-01 01:10:25+00:00</td>\n",
              "      <td>947636095033970688</td>\n",
              "      <td>784508732969512960</td>\n",
              "      <td>axanei dedcobir sei falat haitiano</td>\n",
              "    </tr>\n",
              "    <tr>\n",
              "      <th>185221</th>\n",
              "      <td>2018-01-01 01:08:24+00:00</td>\n",
              "      <td>947635584792694785</td>\n",
              "      <td>4039768811</td>\n",
              "      <td>anjo tava traduzir haitiano assim foi portugue...</td>\n",
              "    </tr>\n",
              "  </tbody>\n",
              "</table>\n",
              "<p>141301 rows × 4 columns</p>\n",
              "</div>\n",
              "      <button class=\"colab-df-convert\" onclick=\"convertToInteractive('df-451d2ff1-c652-4261-874c-3e8aff1ae402')\"\n",
              "              title=\"Convert this dataframe to an interactive table.\"\n",
              "              style=\"display:none;\">\n",
              "        \n",
              "  <svg xmlns=\"http://www.w3.org/2000/svg\" height=\"24px\"viewBox=\"0 0 24 24\"\n",
              "       width=\"24px\">\n",
              "    <path d=\"M0 0h24v24H0V0z\" fill=\"none\"/>\n",
              "    <path d=\"M18.56 5.44l.94 2.06.94-2.06 2.06-.94-2.06-.94-.94-2.06-.94 2.06-2.06.94zm-11 1L8.5 8.5l.94-2.06 2.06-.94-2.06-.94L8.5 2.5l-.94 2.06-2.06.94zm10 10l.94 2.06.94-2.06 2.06-.94-2.06-.94-.94-2.06-.94 2.06-2.06.94z\"/><path d=\"M17.41 7.96l-1.37-1.37c-.4-.4-.92-.59-1.43-.59-.52 0-1.04.2-1.43.59L10.3 9.45l-7.72 7.72c-.78.78-.78 2.05 0 2.83L4 21.41c.39.39.9.59 1.41.59.51 0 1.02-.2 1.41-.59l7.78-7.78 2.81-2.81c.8-.78.8-2.07 0-2.86zM5.41 20L4 18.59l7.72-7.72 1.47 1.35L5.41 20z\"/>\n",
              "  </svg>\n",
              "      </button>\n",
              "      \n",
              "  <style>\n",
              "    .colab-df-container {\n",
              "      display:flex;\n",
              "      flex-wrap:wrap;\n",
              "      gap: 12px;\n",
              "    }\n",
              "\n",
              "    .colab-df-convert {\n",
              "      background-color: #E8F0FE;\n",
              "      border: none;\n",
              "      border-radius: 50%;\n",
              "      cursor: pointer;\n",
              "      display: none;\n",
              "      fill: #1967D2;\n",
              "      height: 32px;\n",
              "      padding: 0 0 0 0;\n",
              "      width: 32px;\n",
              "    }\n",
              "\n",
              "    .colab-df-convert:hover {\n",
              "      background-color: #E2EBFA;\n",
              "      box-shadow: 0px 1px 2px rgba(60, 64, 67, 0.3), 0px 1px 3px 1px rgba(60, 64, 67, 0.15);\n",
              "      fill: #174EA6;\n",
              "    }\n",
              "\n",
              "    [theme=dark] .colab-df-convert {\n",
              "      background-color: #3B4455;\n",
              "      fill: #D2E3FC;\n",
              "    }\n",
              "\n",
              "    [theme=dark] .colab-df-convert:hover {\n",
              "      background-color: #434B5C;\n",
              "      box-shadow: 0px 1px 3px 1px rgba(0, 0, 0, 0.15);\n",
              "      filter: drop-shadow(0px 1px 2px rgba(0, 0, 0, 0.3));\n",
              "      fill: #FFFFFF;\n",
              "    }\n",
              "  </style>\n",
              "\n",
              "      <script>\n",
              "        const buttonEl =\n",
              "          document.querySelector('#df-451d2ff1-c652-4261-874c-3e8aff1ae402 button.colab-df-convert');\n",
              "        buttonEl.style.display =\n",
              "          google.colab.kernel.accessAllowed ? 'block' : 'none';\n",
              "\n",
              "        async function convertToInteractive(key) {\n",
              "          const element = document.querySelector('#df-451d2ff1-c652-4261-874c-3e8aff1ae402');\n",
              "          const dataTable =\n",
              "            await google.colab.kernel.invokeFunction('convertToInteractive',\n",
              "                                                     [key], {});\n",
              "          if (!dataTable) return;\n",
              "\n",
              "          const docLinkHtml = 'Like what you see? Visit the ' +\n",
              "            '<a target=\"_blank\" href=https://colab.research.google.com/notebooks/data_table.ipynb>data table notebook</a>'\n",
              "            + ' to learn more about interactive tables.';\n",
              "          element.innerHTML = '';\n",
              "          dataTable['output_type'] = 'display_data';\n",
              "          await google.colab.output.renderOutput(dataTable, element);\n",
              "          const docLink = document.createElement('div');\n",
              "          docLink.innerHTML = docLinkHtml;\n",
              "          element.appendChild(docLink);\n",
              "        }\n",
              "      </script>\n",
              "    </div>\n",
              "  </div>\n",
              "  "
            ]
          },
          "metadata": {},
          "execution_count": 130
        }
      ]
    },
    {
      "cell_type": "markdown",
      "source": [
        "##Testando o idioma da palavra"
      ],
      "metadata": {
        "id": "PPzHCSD4VOD1"
      }
    },
    {
      "cell_type": "code",
      "source": [
        "\n",
        "pln = spacy.load('pt')\n",
        "pln"
      ],
      "metadata": {
        "colab": {
          "base_uri": "https://localhost:8080/"
        },
        "id": "JMz1JeuZVM6Y",
        "outputId": "cebed600-7a14-4569-8c39-779c8e6ffa9e"
      },
      "execution_count": null,
      "outputs": [
        {
          "output_type": "execute_result",
          "data": {
            "text/plain": [
              "<spacy.lang.pt.Portuguese at 0x7f4ec62dc3d0>"
            ]
          },
          "metadata": {},
          "execution_count": 65
        }
      ]
    },
    {
      "cell_type": "code",
      "source": [
        "pln.add_pipe(LanguageDetector(), name='language_detector', last=True)\n"
      ],
      "metadata": {
        "id": "xO0ZG5rjbmty"
      },
      "execution_count": null,
      "outputs": []
    },
    {
      "cell_type": "code",
      "source": [
        "texto = 'teste de idioma'\n",
        "doc = pln(texto)\n",
        "print(doc._.language)"
      ],
      "metadata": {
        "colab": {
          "base_uri": "https://localhost:8080/"
        },
        "id": "IKpUrkspcgVz",
        "outputId": "427728f4-c7d5-4ea2-92f1-4d13ceba6dd9"
      },
      "execution_count": null,
      "outputs": [
        {
          "output_type": "stream",
          "name": "stdout",
          "text": [
            "{'language': 'pt', 'score': 0.9999936219080354}\n"
          ]
        }
      ]
    },
    {
      "cell_type": "markdown",
      "source": [
        "##Criando o arquivo .csv dos tweets"
      ],
      "metadata": {
        "id": "tI_Fn8Q8hiwE"
      }
    },
    {
      "cell_type": "code",
      "source": [
        "df = pd.DataFrame(pre_processed_tweets)\n",
        "df.to_csv('/content/drive/My Drive/ColabNotebooks/pre_processed_tweets_until_dec_2021.csv')"
      ],
      "metadata": {
        "id": "REQ5FB9hHOtE"
      },
      "execution_count": 131,
      "outputs": []
    }
  ]
}